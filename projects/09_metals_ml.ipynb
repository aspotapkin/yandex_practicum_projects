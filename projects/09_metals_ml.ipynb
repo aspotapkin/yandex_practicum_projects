{
 "cells": [
  {
   "cell_type": "markdown",
   "metadata": {
    "toc": true
   },
   "source": [
    "<h1>Содержание<span class=\"tocSkip\"></span></h1>\n",
    "<div class=\"toc\"><ul class=\"toc-item\"><li><span><a href=\"#Подготовка-данных\" data-toc-modified-id=\"Подготовка-данных-1\"><span class=\"toc-item-num\">1&nbsp;&nbsp;</span>Подготовка данных</a></span></li><li><span><a href=\"#Анализ-данных\" data-toc-modified-id=\"Анализ-данных-2\"><span class=\"toc-item-num\">2&nbsp;&nbsp;</span>Анализ данных</a></span></li><li><span><a href=\"#Модель\" data-toc-modified-id=\"Модель-3\"><span class=\"toc-item-num\">3&nbsp;&nbsp;</span>Модель</a></span><ul class=\"toc-item\"><li><span><a href=\"#Линейная-регрессия\" data-toc-modified-id=\"Линейная-регрессия-3.1\"><span class=\"toc-item-num\">3.1&nbsp;&nbsp;</span>Линейная регрессия</a></span></li><li><span><a href=\"#Дерево-решений\" data-toc-modified-id=\"Дерево-решений-3.2\"><span class=\"toc-item-num\">3.2&nbsp;&nbsp;</span>Дерево решений</a></span></li><li><span><a href=\"#Случайный-лес\" data-toc-modified-id=\"Случайный-лес-3.3\"><span class=\"toc-item-num\">3.3&nbsp;&nbsp;</span>Случайный лес</a></span></li><li><span><a href=\"#Дамми-модель\" data-toc-modified-id=\"Дамми-модель-3.4\"><span class=\"toc-item-num\">3.4&nbsp;&nbsp;</span>Дамми-модель</a></span></li></ul></li></ul></div>"
   ]
  },
  {
   "cell_type": "markdown",
   "metadata": {},
   "source": [
    "# Восстановление золота из руды"
   ]
  },
  {
   "cell_type": "markdown",
   "metadata": {},
   "source": [
    "Подготовьте прототип модели машинного обучения для «Цифры». Компания разрабатывает решения для эффективной работы промышленных предприятий.\n",
    "\n",
    "Модель должна предсказать коэффициент восстановления золота из золотосодержащей руды. Используйте данные с параметрами добычи и очистки. \n",
    "\n",
    "Модель поможет оптимизировать производство, чтобы не запускать предприятие с убыточными характеристиками.\n",
    "\n",
    "Вам нужно:\n",
    "\n",
    "1. Подготовить данные;\n",
    "2. Провести исследовательский анализ данных;\n",
    "3. Построить и обучить модель.\n",
    "\n",
    "Чтобы выполнить проект, обращайтесь к библиотекам *pandas*, *matplotlib* и *sklearn.*"
   ]
  },
  {
   "cell_type": "markdown",
   "metadata": {},
   "source": [
    "## Подготовка данных"
   ]
  },
  {
   "cell_type": "code",
   "execution_count": 1,
   "metadata": {},
   "outputs": [],
   "source": [
    "import pandas as pd\n",
    "import numpy as np\n",
    "#подготовка данных\n",
    "from sklearn.preprocessing import StandardScaler\n",
    "from sklearn.model_selection import GridSearchCV, cross_val_score\n",
    "#модели регрессии\n",
    "from sklearn.linear_model import LinearRegression\n",
    "from sklearn.ensemble import RandomForestRegressor\n",
    "from sklearn.tree import DecisionTreeRegressor\n",
    "#метрики модели\n",
    "from sklearn.metrics import make_scorer, mean_absolute_error\n",
    "from sklearn.dummy import DummyRegressor\n",
    "import matplotlib.pyplot as plt\n",
    "import numpy as np\n",
    "from scipy.stats import ttest_ind"
   ]
  },
  {
   "cell_type": "code",
   "execution_count": 2,
   "metadata": {},
   "outputs": [],
   "source": [
    "train = pd.read_csv('/datasets/gold_industry_train.csv', parse_dates=['date'], index_col='date')\n",
    "test = pd.read_csv('/datasets/gold_industry_test.csv', parse_dates=['date'], index_col='date') \n",
    "full = pd.read_csv('/datasets/gold_industry_full.csv', parse_dates=['date'], index_col='date')"
   ]
  },
  {
   "cell_type": "code",
   "execution_count": 3,
   "metadata": {},
   "outputs": [
    {
     "name": "stdout",
     "output_type": "stream",
     "text": [
      "<class 'pandas.core.frame.DataFrame'>\n",
      "DatetimeIndex: 19439 entries, 2016-01-15 00:00:00 to 2018-08-18 10:59:59\n",
      "Data columns (total 86 columns):\n",
      " #   Column                                              Non-Null Count  Dtype  \n",
      "---  ------                                              --------------  -----  \n",
      " 0   rougher.input.feed_au                               19439 non-null  float64\n",
      " 1   rougher.input.feed_ag                               19439 non-null  float64\n",
      " 2   rougher.input.feed_pb                               19339 non-null  float64\n",
      " 3   rougher.input.feed_sol                              19340 non-null  float64\n",
      " 4   rougher.input.feed_rate                             19428 non-null  float64\n",
      " 5   rougher.input.feed_size                             19294 non-null  float64\n",
      " 6   rougher.input.floatbank10_sulfate                   19405 non-null  float64\n",
      " 7   rougher.input.floatbank10_xanthate                  19431 non-null  float64\n",
      " 8   rougher.state.floatbank10_a_air                     19438 non-null  float64\n",
      " 9   rougher.state.floatbank10_a_level                   19438 non-null  float64\n",
      " 10  rougher.state.floatbank10_b_air                     19438 non-null  float64\n",
      " 11  rougher.state.floatbank10_b_level                   19438 non-null  float64\n",
      " 12  rougher.state.floatbank10_c_air                     19438 non-null  float64\n",
      " 13  rougher.state.floatbank10_c_level                   19438 non-null  float64\n",
      " 14  rougher.state.floatbank10_d_air                     19439 non-null  float64\n",
      " 15  rougher.state.floatbank10_d_level                   19439 non-null  float64\n",
      " 16  rougher.state.floatbank10_e_air                     19003 non-null  float64\n",
      " 17  rougher.state.floatbank10_e_level                   19439 non-null  float64\n",
      " 18  rougher.state.floatbank10_f_air                     19439 non-null  float64\n",
      " 19  rougher.state.floatbank10_f_level                   19439 non-null  float64\n",
      " 20  rougher.input.floatbank11_sulfate                   19395 non-null  float64\n",
      " 21  rougher.input.floatbank11_xanthate                  18986 non-null  float64\n",
      " 22  rougher.calculation.sulfate_to_au_concentrate       19437 non-null  float64\n",
      " 23  rougher.calculation.floatbank10_sulfate_to_au_feed  19437 non-null  float64\n",
      " 24  rougher.calculation.floatbank11_sulfate_to_au_feed  19437 non-null  float64\n",
      " 25  rougher.calculation.au_pb_ratio                     19439 non-null  float64\n",
      " 26  rougher.output.concentrate_au                       19439 non-null  float64\n",
      " 27  rougher.output.concentrate_ag                       19439 non-null  float64\n",
      " 28  rougher.output.concentrate_pb                       19439 non-null  float64\n",
      " 29  rougher.output.concentrate_sol                      19416 non-null  float64\n",
      " 30  rougher.output.recovery                             19439 non-null  float64\n",
      " 31  rougher.output.tail_au                              19439 non-null  float64\n",
      " 32  rougher.output.tail_ag                              19438 non-null  float64\n",
      " 33  rougher.output.tail_pb                              19439 non-null  float64\n",
      " 34  rougher.output.tail_sol                             19439 non-null  float64\n",
      " 35  primary_cleaner.input.sulfate                       19415 non-null  float64\n",
      " 36  primary_cleaner.input.depressant                    19402 non-null  float64\n",
      " 37  primary_cleaner.input.feed_size                     19439 non-null  float64\n",
      " 38  primary_cleaner.input.xanthate                      19335 non-null  float64\n",
      " 39  primary_cleaner.state.floatbank8_a_air              19435 non-null  float64\n",
      " 40  primary_cleaner.state.floatbank8_a_level            19438 non-null  float64\n",
      " 41  primary_cleaner.state.floatbank8_b_air              19435 non-null  float64\n",
      " 42  primary_cleaner.state.floatbank8_b_level            19438 non-null  float64\n",
      " 43  primary_cleaner.state.floatbank8_c_air              19437 non-null  float64\n",
      " 44  primary_cleaner.state.floatbank8_c_level            19438 non-null  float64\n",
      " 45  primary_cleaner.state.floatbank8_d_air              19436 non-null  float64\n",
      " 46  primary_cleaner.state.floatbank8_d_level            19438 non-null  float64\n",
      " 47  primary_cleaner.output.concentrate_au               19439 non-null  float64\n",
      " 48  primary_cleaner.output.concentrate_ag               19439 non-null  float64\n",
      " 49  primary_cleaner.output.concentrate_pb               19323 non-null  float64\n",
      " 50  primary_cleaner.output.concentrate_sol              19069 non-null  float64\n",
      " 51  primary_cleaner.output.tail_au                      19439 non-null  float64\n",
      " 52  primary_cleaner.output.tail_ag                      19435 non-null  float64\n",
      " 53  primary_cleaner.output.tail_pb                      19418 non-null  float64\n",
      " 54  primary_cleaner.output.tail_sol                     19377 non-null  float64\n",
      " 55  secondary_cleaner.state.floatbank2_a_air            19219 non-null  float64\n",
      " 56  secondary_cleaner.state.floatbank2_a_level          19438 non-null  float64\n",
      " 57  secondary_cleaner.state.floatbank2_b_air            19416 non-null  float64\n",
      " 58  secondary_cleaner.state.floatbank2_b_level          19438 non-null  float64\n",
      " 59  secondary_cleaner.state.floatbank3_a_air            19426 non-null  float64\n",
      " 60  secondary_cleaner.state.floatbank3_a_level          19438 non-null  float64\n",
      " 61  secondary_cleaner.state.floatbank3_b_air            19438 non-null  float64\n",
      " 62  secondary_cleaner.state.floatbank3_b_level          19438 non-null  float64\n",
      " 63  secondary_cleaner.state.floatbank4_a_air            19433 non-null  float64\n",
      " 64  secondary_cleaner.state.floatbank4_a_level          19438 non-null  float64\n",
      " 65  secondary_cleaner.state.floatbank4_b_air            19438 non-null  float64\n",
      " 66  secondary_cleaner.state.floatbank4_b_level          19438 non-null  float64\n",
      " 67  secondary_cleaner.state.floatbank5_a_air            19438 non-null  float64\n",
      " 68  secondary_cleaner.state.floatbank5_a_level          19438 non-null  float64\n",
      " 69  secondary_cleaner.state.floatbank5_b_air            19438 non-null  float64\n",
      " 70  secondary_cleaner.state.floatbank5_b_level          19438 non-null  float64\n",
      " 71  secondary_cleaner.state.floatbank6_a_air            19437 non-null  float64\n",
      " 72  secondary_cleaner.state.floatbank6_a_level          19438 non-null  float64\n",
      " 73  secondary_cleaner.output.tail_au                    19439 non-null  float64\n",
      " 74  secondary_cleaner.output.tail_ag                    19437 non-null  float64\n",
      " 75  secondary_cleaner.output.tail_pb                    19427 non-null  float64\n",
      " 76  secondary_cleaner.output.tail_sol                   17691 non-null  float64\n",
      " 77  final.output.concentrate_au                         19439 non-null  float64\n",
      " 78  final.output.concentrate_ag                         19438 non-null  float64\n",
      " 79  final.output.concentrate_pb                         19438 non-null  float64\n",
      " 80  final.output.concentrate_sol                        19228 non-null  float64\n",
      " 81  final.output.recovery                               19439 non-null  float64\n",
      " 82  final.output.tail_au                                19439 non-null  float64\n",
      " 83  final.output.tail_ag                                19438 non-null  float64\n",
      " 84  final.output.tail_pb                                19338 non-null  float64\n",
      " 85  final.output.tail_sol                               19433 non-null  float64\n",
      "dtypes: float64(86)\n",
      "memory usage: 12.9 MB\n"
     ]
    }
   ],
   "source": [
    "full.info()"
   ]
  },
  {
   "cell_type": "code",
   "execution_count": 4,
   "metadata": {},
   "outputs": [
    {
     "name": "stdout",
     "output_type": "stream",
     "text": [
      "<class 'pandas.core.frame.DataFrame'>\n",
      "DatetimeIndex: 14579 entries, 2016-01-15 00:00:00 to 2017-12-09 13:59:59\n",
      "Data columns (total 86 columns):\n",
      " #   Column                                              Non-Null Count  Dtype  \n",
      "---  ------                                              --------------  -----  \n",
      " 0   rougher.input.feed_au                               14579 non-null  float64\n",
      " 1   rougher.input.feed_ag                               14579 non-null  float64\n",
      " 2   rougher.input.feed_pb                               14507 non-null  float64\n",
      " 3   rougher.input.feed_sol                              14502 non-null  float64\n",
      " 4   rougher.input.feed_rate                             14572 non-null  float64\n",
      " 5   rougher.input.feed_size                             14478 non-null  float64\n",
      " 6   rougher.input.floatbank10_sulfate                   14548 non-null  float64\n",
      " 7   rougher.input.floatbank10_xanthate                  14572 non-null  float64\n",
      " 8   rougher.state.floatbank10_a_air                     14579 non-null  float64\n",
      " 9   rougher.state.floatbank10_a_level                   14579 non-null  float64\n",
      " 10  rougher.state.floatbank10_b_air                     14579 non-null  float64\n",
      " 11  rougher.state.floatbank10_b_level                   14579 non-null  float64\n",
      " 12  rougher.state.floatbank10_c_air                     14579 non-null  float64\n",
      " 13  rougher.state.floatbank10_c_level                   14579 non-null  float64\n",
      " 14  rougher.state.floatbank10_d_air                     14579 non-null  float64\n",
      " 15  rougher.state.floatbank10_d_level                   14579 non-null  float64\n",
      " 16  rougher.state.floatbank10_e_air                     14150 non-null  float64\n",
      " 17  rougher.state.floatbank10_e_level                   14579 non-null  float64\n",
      " 18  rougher.state.floatbank10_f_air                     14579 non-null  float64\n",
      " 19  rougher.state.floatbank10_f_level                   14579 non-null  float64\n",
      " 20  rougher.input.floatbank11_sulfate                   14543 non-null  float64\n",
      " 21  rougher.input.floatbank11_xanthate                  14172 non-null  float64\n",
      " 22  rougher.calculation.sulfate_to_au_concentrate       14578 non-null  float64\n",
      " 23  rougher.calculation.floatbank10_sulfate_to_au_feed  14578 non-null  float64\n",
      " 24  rougher.calculation.floatbank11_sulfate_to_au_feed  14578 non-null  float64\n",
      " 25  rougher.calculation.au_pb_ratio                     14579 non-null  float64\n",
      " 26  rougher.output.concentrate_au                       14579 non-null  float64\n",
      " 27  rougher.output.concentrate_ag                       14579 non-null  float64\n",
      " 28  rougher.output.concentrate_pb                       14579 non-null  float64\n",
      " 29  rougher.output.concentrate_sol                      14561 non-null  float64\n",
      " 30  rougher.output.recovery                             14579 non-null  float64\n",
      " 31  rougher.output.tail_au                              14579 non-null  float64\n",
      " 32  rougher.output.tail_ag                              14578 non-null  float64\n",
      " 33  rougher.output.tail_pb                              14579 non-null  float64\n",
      " 34  rougher.output.tail_sol                             14579 non-null  float64\n",
      " 35  primary_cleaner.input.sulfate                       14556 non-null  float64\n",
      " 36  primary_cleaner.input.depressant                    14551 non-null  float64\n",
      " 37  primary_cleaner.input.feed_size                     14579 non-null  float64\n",
      " 38  primary_cleaner.input.xanthate                      14518 non-null  float64\n",
      " 39  primary_cleaner.state.floatbank8_a_air              14576 non-null  float64\n",
      " 40  primary_cleaner.state.floatbank8_a_level            14579 non-null  float64\n",
      " 41  primary_cleaner.state.floatbank8_b_air              14576 non-null  float64\n",
      " 42  primary_cleaner.state.floatbank8_b_level            14579 non-null  float64\n",
      " 43  primary_cleaner.state.floatbank8_c_air              14579 non-null  float64\n",
      " 44  primary_cleaner.state.floatbank8_c_level            14579 non-null  float64\n",
      " 45  primary_cleaner.state.floatbank8_d_air              14578 non-null  float64\n",
      " 46  primary_cleaner.state.floatbank8_d_level            14579 non-null  float64\n",
      " 47  primary_cleaner.output.concentrate_au               14579 non-null  float64\n",
      " 48  primary_cleaner.output.concentrate_ag               14579 non-null  float64\n",
      " 49  primary_cleaner.output.concentrate_pb               14491 non-null  float64\n",
      " 50  primary_cleaner.output.concentrate_sol              14314 non-null  float64\n",
      " 51  primary_cleaner.output.tail_au                      14579 non-null  float64\n",
      " 52  primary_cleaner.output.tail_ag                      14575 non-null  float64\n",
      " 53  primary_cleaner.output.tail_pb                      14573 non-null  float64\n",
      " 54  primary_cleaner.output.tail_sol                     14534 non-null  float64\n",
      " 55  secondary_cleaner.state.floatbank2_a_air            14485 non-null  float64\n",
      " 56  secondary_cleaner.state.floatbank2_a_level          14579 non-null  float64\n",
      " 57  secondary_cleaner.state.floatbank2_b_air            14557 non-null  float64\n",
      " 58  secondary_cleaner.state.floatbank2_b_level          14579 non-null  float64\n",
      " 59  secondary_cleaner.state.floatbank3_a_air            14567 non-null  float64\n",
      " 60  secondary_cleaner.state.floatbank3_a_level          14579 non-null  float64\n",
      " 61  secondary_cleaner.state.floatbank3_b_air            14579 non-null  float64\n",
      " 62  secondary_cleaner.state.floatbank3_b_level          14579 non-null  float64\n",
      " 63  secondary_cleaner.state.floatbank4_a_air            14574 non-null  float64\n",
      " 64  secondary_cleaner.state.floatbank4_a_level          14579 non-null  float64\n",
      " 65  secondary_cleaner.state.floatbank4_b_air            14579 non-null  float64\n",
      " 66  secondary_cleaner.state.floatbank4_b_level          14579 non-null  float64\n",
      " 67  secondary_cleaner.state.floatbank5_a_air            14579 non-null  float64\n",
      " 68  secondary_cleaner.state.floatbank5_a_level          14579 non-null  float64\n",
      " 69  secondary_cleaner.state.floatbank5_b_air            14579 non-null  float64\n",
      " 70  secondary_cleaner.state.floatbank5_b_level          14579 non-null  float64\n",
      " 71  secondary_cleaner.state.floatbank6_a_air            14578 non-null  float64\n",
      " 72  secondary_cleaner.state.floatbank6_a_level          14579 non-null  float64\n",
      " 73  secondary_cleaner.output.tail_au                    14579 non-null  float64\n",
      " 74  secondary_cleaner.output.tail_ag                    14578 non-null  float64\n",
      " 75  secondary_cleaner.output.tail_pb                    14575 non-null  float64\n",
      " 76  secondary_cleaner.output.tail_sol                   13659 non-null  float64\n",
      " 77  final.output.concentrate_au                         14579 non-null  float64\n",
      " 78  final.output.concentrate_ag                         14578 non-null  float64\n",
      " 79  final.output.concentrate_pb                         14578 non-null  float64\n",
      " 80  final.output.concentrate_sol                        14387 non-null  float64\n",
      " 81  final.output.recovery                               14579 non-null  float64\n",
      " 82  final.output.tail_au                                14579 non-null  float64\n",
      " 83  final.output.tail_ag                                14578 non-null  float64\n",
      " 84  final.output.tail_pb                                14504 non-null  float64\n",
      " 85  final.output.tail_sol                               14574 non-null  float64\n",
      "dtypes: float64(86)\n",
      "memory usage: 9.7 MB\n"
     ]
    }
   ],
   "source": [
    "train.info()"
   ]
  },
  {
   "cell_type": "code",
   "execution_count": 5,
   "metadata": {},
   "outputs": [
    {
     "name": "stdout",
     "output_type": "stream",
     "text": [
      "<class 'pandas.core.frame.DataFrame'>\n",
      "DatetimeIndex: 4860 entries, 2017-12-09 14:59:59 to 2018-08-18 10:59:59\n",
      "Data columns (total 52 columns):\n",
      " #   Column                                      Non-Null Count  Dtype  \n",
      "---  ------                                      --------------  -----  \n",
      " 0   rougher.input.feed_au                       4860 non-null   float64\n",
      " 1   rougher.input.feed_ag                       4860 non-null   float64\n",
      " 2   rougher.input.feed_pb                       4832 non-null   float64\n",
      " 3   rougher.input.feed_sol                      4838 non-null   float64\n",
      " 4   rougher.input.feed_rate                     4856 non-null   float64\n",
      " 5   rougher.input.feed_size                     4816 non-null   float64\n",
      " 6   rougher.input.floatbank10_sulfate           4857 non-null   float64\n",
      " 7   rougher.input.floatbank10_xanthate          4859 non-null   float64\n",
      " 8   rougher.state.floatbank10_a_air             4859 non-null   float64\n",
      " 9   rougher.state.floatbank10_a_level           4859 non-null   float64\n",
      " 10  rougher.state.floatbank10_b_air             4859 non-null   float64\n",
      " 11  rougher.state.floatbank10_b_level           4859 non-null   float64\n",
      " 12  rougher.state.floatbank10_c_air             4859 non-null   float64\n",
      " 13  rougher.state.floatbank10_c_level           4859 non-null   float64\n",
      " 14  rougher.state.floatbank10_d_air             4860 non-null   float64\n",
      " 15  rougher.state.floatbank10_d_level           4860 non-null   float64\n",
      " 16  rougher.state.floatbank10_e_air             4853 non-null   float64\n",
      " 17  rougher.state.floatbank10_e_level           4860 non-null   float64\n",
      " 18  rougher.state.floatbank10_f_air             4860 non-null   float64\n",
      " 19  rougher.state.floatbank10_f_level           4860 non-null   float64\n",
      " 20  rougher.input.floatbank11_sulfate           4852 non-null   float64\n",
      " 21  rougher.input.floatbank11_xanthate          4814 non-null   float64\n",
      " 22  primary_cleaner.input.sulfate               4859 non-null   float64\n",
      " 23  primary_cleaner.input.depressant            4851 non-null   float64\n",
      " 24  primary_cleaner.input.feed_size             4860 non-null   float64\n",
      " 25  primary_cleaner.input.xanthate              4817 non-null   float64\n",
      " 26  primary_cleaner.state.floatbank8_a_air      4859 non-null   float64\n",
      " 27  primary_cleaner.state.floatbank8_a_level    4859 non-null   float64\n",
      " 28  primary_cleaner.state.floatbank8_b_air      4859 non-null   float64\n",
      " 29  primary_cleaner.state.floatbank8_b_level    4859 non-null   float64\n",
      " 30  primary_cleaner.state.floatbank8_c_air      4858 non-null   float64\n",
      " 31  primary_cleaner.state.floatbank8_c_level    4859 non-null   float64\n",
      " 32  primary_cleaner.state.floatbank8_d_air      4858 non-null   float64\n",
      " 33  primary_cleaner.state.floatbank8_d_level    4859 non-null   float64\n",
      " 34  secondary_cleaner.state.floatbank2_a_air    4734 non-null   float64\n",
      " 35  secondary_cleaner.state.floatbank2_a_level  4859 non-null   float64\n",
      " 36  secondary_cleaner.state.floatbank2_b_air    4859 non-null   float64\n",
      " 37  secondary_cleaner.state.floatbank2_b_level  4859 non-null   float64\n",
      " 38  secondary_cleaner.state.floatbank3_a_air    4859 non-null   float64\n",
      " 39  secondary_cleaner.state.floatbank3_a_level  4859 non-null   float64\n",
      " 40  secondary_cleaner.state.floatbank3_b_air    4859 non-null   float64\n",
      " 41  secondary_cleaner.state.floatbank3_b_level  4859 non-null   float64\n",
      " 42  secondary_cleaner.state.floatbank4_a_air    4859 non-null   float64\n",
      " 43  secondary_cleaner.state.floatbank4_a_level  4859 non-null   float64\n",
      " 44  secondary_cleaner.state.floatbank4_b_air    4859 non-null   float64\n",
      " 45  secondary_cleaner.state.floatbank4_b_level  4859 non-null   float64\n",
      " 46  secondary_cleaner.state.floatbank5_a_air    4859 non-null   float64\n",
      " 47  secondary_cleaner.state.floatbank5_a_level  4859 non-null   float64\n",
      " 48  secondary_cleaner.state.floatbank5_b_air    4859 non-null   float64\n",
      " 49  secondary_cleaner.state.floatbank5_b_level  4859 non-null   float64\n",
      " 50  secondary_cleaner.state.floatbank6_a_air    4859 non-null   float64\n",
      " 51  secondary_cleaner.state.floatbank6_a_level  4859 non-null   float64\n",
      "dtypes: float64(52)\n",
      "memory usage: 2.0 MB\n"
     ]
    }
   ],
   "source": [
    "test.info()"
   ]
  },
  {
   "cell_type": "markdown",
   "metadata": {},
   "source": [
    "В тестовом наборе данных меньше метрик, чем в обучающем."
   ]
  },
  {
   "cell_type": "code",
   "execution_count": 6,
   "metadata": {},
   "outputs": [
    {
     "data": {
      "text/plain": [
       "['rougher.calculation.sulfate_to_au_concentrate',\n",
       " 'rougher.calculation.floatbank10_sulfate_to_au_feed',\n",
       " 'rougher.calculation.floatbank11_sulfate_to_au_feed',\n",
       " 'rougher.calculation.au_pb_ratio',\n",
       " 'rougher.output.concentrate_au',\n",
       " 'rougher.output.concentrate_ag',\n",
       " 'rougher.output.concentrate_pb',\n",
       " 'rougher.output.concentrate_sol',\n",
       " 'rougher.output.recovery',\n",
       " 'rougher.output.tail_au',\n",
       " 'rougher.output.tail_ag',\n",
       " 'rougher.output.tail_pb',\n",
       " 'rougher.output.tail_sol',\n",
       " 'primary_cleaner.output.concentrate_au',\n",
       " 'primary_cleaner.output.concentrate_ag',\n",
       " 'primary_cleaner.output.concentrate_pb',\n",
       " 'primary_cleaner.output.concentrate_sol',\n",
       " 'primary_cleaner.output.tail_au',\n",
       " 'primary_cleaner.output.tail_ag',\n",
       " 'primary_cleaner.output.tail_pb',\n",
       " 'primary_cleaner.output.tail_sol',\n",
       " 'secondary_cleaner.output.tail_au',\n",
       " 'secondary_cleaner.output.tail_ag',\n",
       " 'secondary_cleaner.output.tail_pb',\n",
       " 'secondary_cleaner.output.tail_sol',\n",
       " 'final.output.concentrate_au',\n",
       " 'final.output.concentrate_ag',\n",
       " 'final.output.concentrate_pb',\n",
       " 'final.output.concentrate_sol',\n",
       " 'final.output.recovery',\n",
       " 'final.output.tail_au',\n",
       " 'final.output.tail_ag',\n",
       " 'final.output.tail_pb',\n",
       " 'final.output.tail_sol']"
      ]
     },
     "execution_count": 6,
     "metadata": {},
     "output_type": "execute_result"
    }
   ],
   "source": [
    "#поиск метрик, которые не отображены в обучающем датасете\n",
    "df_diff = train.drop(columns= test.columns).columns\n",
    "list(df_diff)"
   ]
  },
  {
   "cell_type": "markdown",
   "metadata": {},
   "source": [
    "Отсутствующие данные в тестовом наборе:\n",
    "- *Обогащение:* расчеты отношения концентрата сульфатов и золота, а также исходного сырья сульфатов и золота во флотационных установках, соотношения золота и свинца; чернового концентрата свинца, золота, серебра и сульфатов; расчета эффективности и получившихся отвальных хвостов\n",
    "- *Первичная очистка:* расчет получившихся концентрата свинца, золота, серебра и сульфатов, а также отвальных хвостов\n",
    "- *Вторичная очистка:* расчет отвальных хвостов\n",
    "- *Финальный концентрат:* расчет получившихся концентрата свинца, золота, серебра и сульфатов, а также отвальных хвостов\n",
    "\n",
    "Возможно, подобная разница связана с тем, что эти данные рассчитываются на основе тех показателей, которые доступны в тестовом наборе. В условиях реальной работы доступа к этим данным изначально нет."
   ]
  },
  {
   "cell_type": "code",
   "execution_count": 7,
   "metadata": {},
   "outputs": [
    {
     "data": {
      "text/plain": [
       "date\n",
       "2016-01-15 00:00:00    87.107763\n",
       "2016-01-15 01:00:00    86.843261\n",
       "2016-01-15 02:00:00    86.842308\n",
       "2016-01-15 03:00:00    87.226430\n",
       "2016-01-15 04:00:00    86.688794\n",
       "                         ...    \n",
       "2017-12-09 09:59:59    87.684717\n",
       "2017-12-09 10:59:59    90.677361\n",
       "2017-12-09 11:59:59    89.574376\n",
       "2017-12-09 12:59:59    87.724007\n",
       "2017-12-09 13:59:59    88.890579\n",
       "Length: 14579, dtype: float64"
      ]
     },
     "execution_count": 7,
     "metadata": {},
     "output_type": "execute_result"
    }
   ],
   "source": [
    "#рассчитываем по формуле эффективность обогащения\n",
    "eval_rougher_output = (train['rougher.output.concentrate_au'] * (train['rougher.input.feed_au'] - train['rougher.output.tail_au'])) / (train['rougher.input.feed_au'] * (train['rougher.output.concentrate_au'] - train['rougher.output.tail_au'])) * 100\n",
    "eval_rougher_output"
   ]
  },
  {
   "cell_type": "code",
   "execution_count": 8,
   "metadata": {},
   "outputs": [
    {
     "data": {
      "text/plain": [
       "9.83758577644259e-15"
      ]
     },
     "execution_count": 8,
     "metadata": {},
     "output_type": "execute_result"
    }
   ],
   "source": [
    "#вычисляем среднюю абсолютную ошибку\n",
    "mean_absolute_error(train['rougher.output.recovery'], eval_rougher_output)"
   ]
  },
  {
   "cell_type": "markdown",
   "metadata": {},
   "source": [
    "Значение ошибки ничтожное, можно сказать, что эффективность обогащения на этапе флотации рассчитана корректно."
   ]
  },
  {
   "cell_type": "markdown",
   "metadata": {},
   "source": [
    "with pd.option_context('display.max_rows', None,\n",
    "                       'display.max_columns', None,\n",
    "                       'display.precision', 3,\n",
    "                       ):\n",
    "    print(train.isna().sum().sort_values(ascending = False))"
   ]
  },
  {
   "cell_type": "code",
   "execution_count": 9,
   "metadata": {},
   "outputs": [
    {
     "name": "stdout",
     "output_type": "stream",
     "text": [
      "secondary_cleaner.state.floatbank2_a_air      126\n",
      "rougher.input.floatbank11_xanthate             46\n",
      "rougher.input.feed_size                        44\n",
      "primary_cleaner.input.xanthate                 43\n",
      "rougher.input.feed_pb                          28\n",
      "rougher.input.feed_sol                         22\n",
      "primary_cleaner.input.depressant                9\n",
      "rougher.input.floatbank11_sulfate               8\n",
      "rougher.state.floatbank10_e_air                 7\n",
      "rougher.input.feed_rate                         4\n",
      "rougher.input.floatbank10_sulfate               3\n",
      "primary_cleaner.state.floatbank8_d_air          2\n",
      "primary_cleaner.state.floatbank8_c_air          2\n",
      "secondary_cleaner.state.floatbank2_b_level      1\n",
      "secondary_cleaner.state.floatbank3_a_air        1\n",
      "secondary_cleaner.state.floatbank2_b_air        1\n",
      "secondary_cleaner.state.floatbank3_a_level      1\n",
      "primary_cleaner.state.floatbank8_d_level        1\n",
      "secondary_cleaner.state.floatbank2_a_level      1\n",
      "primary_cleaner.state.floatbank8_a_air          1\n",
      "secondary_cleaner.state.floatbank3_b_air        1\n",
      "secondary_cleaner.state.floatbank3_b_level      1\n",
      "secondary_cleaner.state.floatbank4_a_level      1\n",
      "secondary_cleaner.state.floatbank4_b_air        1\n",
      "secondary_cleaner.state.floatbank4_b_level      1\n",
      "secondary_cleaner.state.floatbank5_a_air        1\n",
      "secondary_cleaner.state.floatbank5_a_level      1\n",
      "secondary_cleaner.state.floatbank5_b_air        1\n",
      "secondary_cleaner.state.floatbank5_b_level      1\n",
      "secondary_cleaner.state.floatbank6_a_air        1\n",
      "secondary_cleaner.state.floatbank4_a_air        1\n",
      "secondary_cleaner.state.floatbank6_a_level      1\n",
      "primary_cleaner.state.floatbank8_c_level        1\n",
      "rougher.state.floatbank10_c_level               1\n",
      "primary_cleaner.state.floatbank8_b_air          1\n",
      "primary_cleaner.state.floatbank8_a_level        1\n",
      "rougher.input.floatbank10_xanthate              1\n",
      "rougher.state.floatbank10_a_air                 1\n",
      "primary_cleaner.input.sulfate                   1\n",
      "rougher.state.floatbank10_a_level               1\n",
      "rougher.state.floatbank10_b_air                 1\n",
      "rougher.state.floatbank10_b_level               1\n",
      "primary_cleaner.state.floatbank8_b_level        1\n",
      "rougher.state.floatbank10_c_air                 1\n",
      "rougher.state.floatbank10_d_level               0\n",
      "rougher.state.floatbank10_d_air                 0\n",
      "rougher.state.floatbank10_e_level               0\n",
      "rougher.state.floatbank10_f_air                 0\n",
      "rougher.state.floatbank10_f_level               0\n",
      "primary_cleaner.input.feed_size                 0\n",
      "rougher.input.feed_ag                           0\n",
      "rougher.input.feed_au                           0\n",
      "dtype: int64\n"
     ]
    }
   ],
   "source": [
    "with pd.option_context('display.max_rows', None,\n",
    "                       'display.max_columns', None,\n",
    "                       'display.precision', 3,\n",
    "                       ):\n",
    "    print(test.isna().sum().sort_values(ascending = False))"
   ]
  },
  {
   "cell_type": "code",
   "execution_count": 10,
   "metadata": {},
   "outputs": [
    {
     "name": "stdout",
     "output_type": "stream",
     "text": [
      "rougher.output.recovery    0\n",
      "final.output.recovery      0\n",
      "dtype: int64\n"
     ]
    }
   ],
   "source": [
    "with pd.option_context('display.max_rows', None,\n",
    "                       'display.max_columns', None,\n",
    "                       'display.precision', 3,\n",
    "                       ):\n",
    "    print(full[['rougher.output.recovery', 'final.output.recovery']].isna().sum().sort_values(ascending = False))"
   ]
  },
  {
   "cell_type": "markdown",
   "metadata": {},
   "source": [
    "В значениях целевых признаков нет пропусков. В остальных признаках пропуски есть. Поскольку замеры, сделанные примерно одно и то же время, одинаковы, предлагается заполнить пропуски соседними заполненными значениями. Также для создания модели сделаем одинаковым количество признаков в тренировочном и обучающем датасетах."
   ]
  },
  {
   "cell_type": "code",
   "execution_count": 11,
   "metadata": {},
   "outputs": [],
   "source": [
    "#сделаем одинаковым количество признаков в тренировочном и тестовом датасетах\n",
    "train_features = train[test.columns]"
   ]
  },
  {
   "cell_type": "code",
   "execution_count": 12,
   "metadata": {},
   "outputs": [
    {
     "name": "stdout",
     "output_type": "stream",
     "text": [
      "True\n"
     ]
    }
   ],
   "source": [
    "print(list(train_features.columns) == list(test.columns))"
   ]
  },
  {
   "cell_type": "code",
   "execution_count": 13,
   "metadata": {},
   "outputs": [],
   "source": [
    "test_features = test.fillna(method='ffill')\n",
    "train_features = train_features.fillna(method='ffill')\n",
    "full = full.fillna(method='ffill')"
   ]
  },
  {
   "cell_type": "code",
   "execution_count": 14,
   "metadata": {},
   "outputs": [
    {
     "name": "stdout",
     "output_type": "stream",
     "text": [
      "secondary_cleaner.state.floatbank2_a_air      126\n",
      "rougher.input.floatbank11_xanthate             46\n",
      "rougher.input.feed_size                        44\n",
      "primary_cleaner.input.xanthate                 43\n",
      "rougher.input.feed_pb                          28\n",
      "rougher.input.feed_sol                         22\n",
      "primary_cleaner.input.depressant                9\n",
      "rougher.input.floatbank11_sulfate               8\n",
      "rougher.state.floatbank10_e_air                 7\n",
      "rougher.input.feed_rate                         4\n",
      "rougher.input.floatbank10_sulfate               3\n",
      "primary_cleaner.state.floatbank8_d_air          2\n",
      "primary_cleaner.state.floatbank8_c_air          2\n",
      "secondary_cleaner.state.floatbank2_b_level      1\n",
      "secondary_cleaner.state.floatbank3_a_air        1\n",
      "secondary_cleaner.state.floatbank2_b_air        1\n",
      "secondary_cleaner.state.floatbank3_a_level      1\n",
      "primary_cleaner.state.floatbank8_d_level        1\n",
      "secondary_cleaner.state.floatbank2_a_level      1\n",
      "primary_cleaner.state.floatbank8_a_air          1\n",
      "secondary_cleaner.state.floatbank3_b_air        1\n",
      "secondary_cleaner.state.floatbank3_b_level      1\n",
      "secondary_cleaner.state.floatbank4_a_level      1\n",
      "secondary_cleaner.state.floatbank4_b_air        1\n",
      "secondary_cleaner.state.floatbank4_b_level      1\n",
      "secondary_cleaner.state.floatbank5_a_air        1\n",
      "secondary_cleaner.state.floatbank5_a_level      1\n",
      "secondary_cleaner.state.floatbank5_b_air        1\n",
      "secondary_cleaner.state.floatbank5_b_level      1\n",
      "secondary_cleaner.state.floatbank6_a_air        1\n",
      "secondary_cleaner.state.floatbank4_a_air        1\n",
      "secondary_cleaner.state.floatbank6_a_level      1\n",
      "primary_cleaner.state.floatbank8_c_level        1\n",
      "rougher.state.floatbank10_c_level               1\n",
      "primary_cleaner.state.floatbank8_b_air          1\n",
      "primary_cleaner.state.floatbank8_a_level        1\n",
      "rougher.input.floatbank10_xanthate              1\n",
      "rougher.state.floatbank10_a_air                 1\n",
      "primary_cleaner.input.sulfate                   1\n",
      "rougher.state.floatbank10_a_level               1\n",
      "rougher.state.floatbank10_b_air                 1\n",
      "rougher.state.floatbank10_b_level               1\n",
      "primary_cleaner.state.floatbank8_b_level        1\n",
      "rougher.state.floatbank10_c_air                 1\n",
      "rougher.state.floatbank10_d_level               0\n",
      "rougher.state.floatbank10_d_air                 0\n",
      "rougher.state.floatbank10_e_level               0\n",
      "rougher.state.floatbank10_f_air                 0\n",
      "rougher.state.floatbank10_f_level               0\n",
      "primary_cleaner.input.feed_size                 0\n",
      "rougher.input.feed_ag                           0\n",
      "rougher.input.feed_au                           0\n",
      "dtype: int64\n"
     ]
    }
   ],
   "source": [
    "with pd.option_context('display.max_rows', None,\n",
    "                       'display.max_columns', None,\n",
    "                       'display.precision', 3,\n",
    "                       ):\n",
    "    print(test.isna().sum().sort_values(ascending = False))"
   ]
  },
  {
   "cell_type": "code",
   "execution_count": 15,
   "metadata": {},
   "outputs": [
    {
     "name": "stdout",
     "output_type": "stream",
     "text": [
      "secondary_cleaner.output.tail_sol                     920\n",
      "rougher.state.floatbank10_e_air                       429\n",
      "rougher.input.floatbank11_xanthate                    407\n",
      "primary_cleaner.output.concentrate_sol                265\n",
      "final.output.concentrate_sol                          192\n",
      "rougher.input.feed_size                               101\n",
      "secondary_cleaner.state.floatbank2_a_air               94\n",
      "primary_cleaner.output.concentrate_pb                  88\n",
      "rougher.input.feed_sol                                 77\n",
      "final.output.tail_pb                                   75\n",
      "rougher.input.feed_pb                                  72\n",
      "primary_cleaner.input.xanthate                         61\n",
      "primary_cleaner.output.tail_sol                        45\n",
      "rougher.input.floatbank11_sulfate                      36\n",
      "rougher.input.floatbank10_sulfate                      31\n",
      "primary_cleaner.input.depressant                       28\n",
      "primary_cleaner.input.sulfate                          23\n",
      "secondary_cleaner.state.floatbank2_b_air               22\n",
      "rougher.output.concentrate_sol                         18\n",
      "secondary_cleaner.state.floatbank3_a_air               12\n",
      "rougher.input.feed_rate                                 7\n",
      "rougher.input.floatbank10_xanthate                      7\n",
      "primary_cleaner.output.tail_pb                          6\n",
      "secondary_cleaner.state.floatbank4_a_air                5\n",
      "final.output.tail_sol                                   5\n",
      "primary_cleaner.output.tail_ag                          4\n",
      "secondary_cleaner.output.tail_pb                        4\n",
      "primary_cleaner.state.floatbank8_b_air                  3\n",
      "primary_cleaner.state.floatbank8_a_air                  3\n",
      "rougher.calculation.floatbank10_sulfate_to_au_feed      1\n",
      "secondary_cleaner.state.floatbank6_a_air                1\n",
      "final.output.tail_ag                                    1\n",
      "rougher.calculation.floatbank11_sulfate_to_au_feed      1\n",
      "rougher.output.tail_ag                                  1\n",
      "final.output.concentrate_pb                             1\n",
      "primary_cleaner.state.floatbank8_d_air                  1\n",
      "rougher.calculation.sulfate_to_au_concentrate           1\n",
      "final.output.concentrate_ag                             1\n",
      "secondary_cleaner.output.tail_ag                        1\n",
      "final.output.concentrate_au                             0\n",
      "secondary_cleaner.output.tail_au                        0\n",
      "secondary_cleaner.state.floatbank2_b_level              0\n",
      "final.output.recovery                                   0\n",
      "final.output.tail_au                                    0\n",
      "secondary_cleaner.state.floatbank3_a_level              0\n",
      "secondary_cleaner.state.floatbank4_a_level              0\n",
      "secondary_cleaner.state.floatbank3_b_air                0\n",
      "secondary_cleaner.state.floatbank3_b_level              0\n",
      "secondary_cleaner.state.floatbank6_a_level              0\n",
      "secondary_cleaner.state.floatbank4_b_air                0\n",
      "secondary_cleaner.state.floatbank4_b_level              0\n",
      "secondary_cleaner.state.floatbank5_a_air                0\n",
      "secondary_cleaner.state.floatbank5_a_level              0\n",
      "secondary_cleaner.state.floatbank5_b_air                0\n",
      "secondary_cleaner.state.floatbank2_a_level              0\n",
      "secondary_cleaner.state.floatbank5_b_level              0\n",
      "rougher.input.feed_au                                   0\n",
      "primary_cleaner.output.tail_au                          0\n",
      "rougher.output.concentrate_au                           0\n",
      "rougher.state.floatbank10_a_air                         0\n",
      "rougher.state.floatbank10_a_level                       0\n",
      "rougher.state.floatbank10_b_air                         0\n",
      "rougher.state.floatbank10_b_level                       0\n",
      "rougher.state.floatbank10_c_air                         0\n",
      "rougher.state.floatbank10_c_level                       0\n",
      "rougher.state.floatbank10_d_air                         0\n",
      "rougher.state.floatbank10_d_level                       0\n",
      "rougher.state.floatbank10_e_level                       0\n",
      "rougher.state.floatbank10_f_air                         0\n",
      "rougher.state.floatbank10_f_level                       0\n",
      "rougher.calculation.au_pb_ratio                         0\n",
      "rougher.output.concentrate_ag                           0\n",
      "primary_cleaner.output.concentrate_ag                   0\n",
      "rougher.output.concentrate_pb                           0\n",
      "rougher.output.recovery                                 0\n",
      "rougher.output.tail_au                                  0\n",
      "rougher.output.tail_pb                                  0\n",
      "rougher.output.tail_sol                                 0\n",
      "primary_cleaner.input.feed_size                         0\n",
      "primary_cleaner.state.floatbank8_a_level                0\n",
      "primary_cleaner.state.floatbank8_b_level                0\n",
      "rougher.input.feed_ag                                   0\n",
      "primary_cleaner.state.floatbank8_c_level                0\n",
      "primary_cleaner.state.floatbank8_d_level                0\n",
      "primary_cleaner.output.concentrate_au                   0\n",
      "primary_cleaner.state.floatbank8_c_air                  0\n",
      "dtype: int64\n"
     ]
    }
   ],
   "source": [
    "with pd.option_context('display.max_rows', None,\n",
    "                       'display.max_columns', None,\n",
    "                       'display.precision', 3,\n",
    "                       ):\n",
    "    print(train.isna().sum().sort_values(ascending = False))"
   ]
  },
  {
   "cell_type": "code",
   "execution_count": 16,
   "metadata": {},
   "outputs": [
    {
     "name": "stdout",
     "output_type": "stream",
     "text": [
      "rougher.input.feed_au                                 0\n",
      "primary_cleaner.output.tail_sol                       0\n",
      "secondary_cleaner.state.floatbank3_b_level            0\n",
      "secondary_cleaner.state.floatbank3_b_air              0\n",
      "secondary_cleaner.state.floatbank3_a_level            0\n",
      "secondary_cleaner.state.floatbank3_a_air              0\n",
      "secondary_cleaner.state.floatbank2_b_level            0\n",
      "secondary_cleaner.state.floatbank2_b_air              0\n",
      "secondary_cleaner.state.floatbank2_a_level            0\n",
      "secondary_cleaner.state.floatbank2_a_air              0\n",
      "primary_cleaner.output.tail_pb                        0\n",
      "secondary_cleaner.state.floatbank4_a_level            0\n",
      "primary_cleaner.output.tail_ag                        0\n",
      "primary_cleaner.output.tail_au                        0\n",
      "primary_cleaner.output.concentrate_sol                0\n",
      "primary_cleaner.output.concentrate_pb                 0\n",
      "primary_cleaner.output.concentrate_ag                 0\n",
      "primary_cleaner.output.concentrate_au                 0\n",
      "primary_cleaner.state.floatbank8_d_level              0\n",
      "primary_cleaner.state.floatbank8_d_air                0\n",
      "secondary_cleaner.state.floatbank4_a_air              0\n",
      "secondary_cleaner.state.floatbank4_b_air              0\n",
      "rougher.input.feed_ag                                 0\n",
      "secondary_cleaner.output.tail_sol                     0\n",
      "final.output.tail_pb                                  0\n",
      "final.output.tail_ag                                  0\n",
      "final.output.tail_au                                  0\n",
      "final.output.recovery                                 0\n",
      "final.output.concentrate_sol                          0\n",
      "final.output.concentrate_pb                           0\n",
      "final.output.concentrate_ag                           0\n",
      "final.output.concentrate_au                           0\n",
      "secondary_cleaner.output.tail_pb                      0\n",
      "secondary_cleaner.state.floatbank4_b_level            0\n",
      "secondary_cleaner.output.tail_ag                      0\n",
      "secondary_cleaner.output.tail_au                      0\n",
      "secondary_cleaner.state.floatbank6_a_level            0\n",
      "secondary_cleaner.state.floatbank6_a_air              0\n",
      "secondary_cleaner.state.floatbank5_b_level            0\n",
      "secondary_cleaner.state.floatbank5_b_air              0\n",
      "secondary_cleaner.state.floatbank5_a_level            0\n",
      "secondary_cleaner.state.floatbank5_a_air              0\n",
      "primary_cleaner.state.floatbank8_c_level              0\n",
      "primary_cleaner.state.floatbank8_c_air                0\n",
      "primary_cleaner.state.floatbank8_b_level              0\n",
      "rougher.state.floatbank10_b_level                     0\n",
      "rougher.state.floatbank10_f_level                     0\n",
      "rougher.state.floatbank10_f_air                       0\n",
      "rougher.state.floatbank10_e_level                     0\n",
      "rougher.state.floatbank10_e_air                       0\n",
      "rougher.state.floatbank10_d_level                     0\n",
      "rougher.state.floatbank10_d_air                       0\n",
      "rougher.state.floatbank10_c_level                     0\n",
      "rougher.state.floatbank10_c_air                       0\n",
      "rougher.state.floatbank10_b_air                       0\n",
      "primary_cleaner.state.floatbank8_b_air                0\n",
      "rougher.state.floatbank10_a_level                     0\n",
      "rougher.state.floatbank10_a_air                       0\n",
      "rougher.input.floatbank10_xanthate                    0\n",
      "rougher.input.floatbank10_sulfate                     0\n",
      "rougher.input.feed_size                               0\n",
      "rougher.input.feed_rate                               0\n",
      "rougher.input.feed_sol                                0\n",
      "rougher.input.feed_pb                                 0\n",
      "rougher.input.floatbank11_sulfate                     0\n",
      "rougher.input.floatbank11_xanthate                    0\n",
      "rougher.calculation.sulfate_to_au_concentrate         0\n",
      "rougher.calculation.floatbank10_sulfate_to_au_feed    0\n",
      "primary_cleaner.state.floatbank8_a_level              0\n",
      "primary_cleaner.state.floatbank8_a_air                0\n",
      "primary_cleaner.input.xanthate                        0\n",
      "primary_cleaner.input.feed_size                       0\n",
      "primary_cleaner.input.depressant                      0\n",
      "primary_cleaner.input.sulfate                         0\n",
      "rougher.output.tail_sol                               0\n",
      "rougher.output.tail_pb                                0\n",
      "rougher.output.tail_ag                                0\n",
      "rougher.output.tail_au                                0\n",
      "rougher.output.recovery                               0\n",
      "rougher.output.concentrate_sol                        0\n",
      "rougher.output.concentrate_pb                         0\n",
      "rougher.output.concentrate_ag                         0\n",
      "rougher.output.concentrate_au                         0\n",
      "rougher.calculation.au_pb_ratio                       0\n",
      "rougher.calculation.floatbank11_sulfate_to_au_feed    0\n",
      "final.output.tail_sol                                 0\n",
      "dtype: int64\n"
     ]
    }
   ],
   "source": [
    "with pd.option_context('display.max_rows', None,\n",
    "                       'display.max_columns', None,\n",
    "                       'display.precision', 3,\n",
    "                       ):\n",
    "    print(full.isna().sum().sort_values(ascending = False))"
   ]
  },
  {
   "cell_type": "markdown",
   "metadata": {},
   "source": [
    "**Общий вывод по этапу:**\n",
    "- были загружены необходимые для дальнейшей работы библиотеки\n",
    "- загружены и рассмотрены столбцы датафреймов проекта\n",
    "- методом forward fill заполнены ячейки с NA-значениями\n",
    "- выделен отдельный датафрейм `train_features`, который содержит тот же набор признаков, что и тестовый набор"
   ]
  },
  {
   "cell_type": "markdown",
   "metadata": {},
   "source": [
    "## Анализ данных"
   ]
  },
  {
   "cell_type": "code",
   "execution_count": 17,
   "metadata": {},
   "outputs": [],
   "source": [
    "def ci_bootstrap(concentrate, mean):\n",
    "    state = np.random.RandomState(123)\n",
    "    results = []\n",
    "\n",
    "    for i in range(1000):\n",
    "        sample = concentrate.sample(frac=0.2, replace=True, random_state = state)\n",
    "        sample_mean = sample.mean()\n",
    "        results.append(sample_mean)   \n",
    "    s = pd.Series(results)\n",
    "    lower = s.quantile(.025)\n",
    "    upper = pd.Series(results).quantile(.975)\n",
    "    print(f'95%-доверительный интервал среднего от {lower:.2f} до {upper:.2f}')  "
   ]
  },
  {
   "cell_type": "code",
   "execution_count": 18,
   "metadata": {},
   "outputs": [],
   "source": [
    "def conc_change(metal):\n",
    "    columns = ['rougher.input.feed_', \n",
    "               'rougher.output.concentrate_',\n",
    "               'primary_cleaner.output.concentrate_',                 \n",
    "               'final.output.concentrate_']\n",
    "    columns = ['{0}{1}'.format(i, metal) for i in columns]\n",
    "    \n",
    "    for col in columns:\n",
    "        mean_conc = full[col].mean()\n",
    "        print(f'Среднее значение {col}: {mean_conc:.2f}')\n",
    "        ci_bootstrap(full[col], mean_conc)\n",
    "        print('\\n\\n')\n",
    "        full[col].hist(bins=50, figsize=(20,15), histtype=u'step', linewidth=1.5)\n",
    "    plt.title(f'Metal: {metal.upper()}', fontsize=26)\n",
    "    plt.xlabel('Metal Concentration, %', fontsize=18)\n",
    "    plt.ylabel('Count', fontsize=18)\n",
    "    plt.legend(['feed', 'rougher output', 'primary cleaner output', 'final output'])\n",
    "    plt.show()"
   ]
  },
  {
   "cell_type": "code",
   "execution_count": 19,
   "metadata": {},
   "outputs": [
    {
     "name": "stdout",
     "output_type": "stream",
     "text": [
      "Среднее значение rougher.input.feed_au: 8.27\n",
      "95%-доверительный интервал среднего от 8.21 до 8.32\n",
      "\n",
      "\n",
      "\n",
      "Среднее значение rougher.output.concentrate_au: 19.77\n",
      "95%-доверительный интервал среднего от 19.65 до 19.90\n",
      "\n",
      "\n",
      "\n",
      "Среднее значение primary_cleaner.output.concentrate_au: 32.12\n",
      "95%-доверительный интервал среднего от 31.94 до 32.32\n",
      "\n",
      "\n",
      "\n",
      "Среднее значение final.output.concentrate_au: 44.08\n",
      "95%-доверительный интервал среднего от 43.92 до 44.23\n",
      "\n",
      "\n",
      "\n"
     ]
    },
    {
     "data": {
      "image/png": "[encoded data removed]",
      "text/plain": [
       "<Figure size 1440x1080 with 1 Axes>"
      ]
     },
     "metadata": {
      "needs_background": "light"
     },
     "output_type": "display_data"
    }
   ],
   "source": [
    "conc_change('au')"
   ]
  },
  {
   "cell_type": "markdown",
   "metadata": {},
   "source": [
    "**Выводы по золоту:** с каждым новым этапом очистки доля золота в финальном концентрате увеличивается."
   ]
  },
  {
   "cell_type": "code",
   "execution_count": 20,
   "metadata": {},
   "outputs": [
    {
     "name": "stdout",
     "output_type": "stream",
     "text": [
      "Среднее значение rougher.input.feed_pb: 3.58\n",
      "95%-доверительный интервал среднего от 3.55 до 3.62\n",
      "\n",
      "\n",
      "\n",
      "Среднее значение rougher.output.concentrate_pb: 7.61\n",
      "95%-доверительный интервал среднего от 7.55 до 7.66\n",
      "\n",
      "\n",
      "\n",
      "Среднее значение primary_cleaner.output.concentrate_pb: 9.81\n",
      "95%-доверительный интервал среднего от 9.73 до 9.89\n",
      "\n",
      "\n",
      "\n",
      "Среднее значение final.output.concentrate_pb: 9.98\n",
      "95%-доверительный интервал среднего от 9.93 до 10.03\n",
      "\n",
      "\n",
      "\n"
     ]
    },
    {
     "data": {
      "image/png": "[encoded data removed]",
      "text/plain": [
       "<Figure size 1440x1080 with 1 Axes>"
      ]
     },
     "metadata": {
      "needs_background": "light"
     },
     "output_type": "display_data"
    }
   ],
   "source": [
    "conc_change('pb')"
   ]
  },
  {
   "cell_type": "markdown",
   "metadata": {},
   "source": [
    "**Выводы по свинцу:** доля свинца в финальном концентрате также увеличивается, однако в среднем не превышает 10%"
   ]
  },
  {
   "cell_type": "code",
   "execution_count": 21,
   "metadata": {},
   "outputs": [
    {
     "name": "stdout",
     "output_type": "stream",
     "text": [
      "Среднее значение rougher.input.feed_ag: 8.79\n",
      "95%-доверительный интервал среднего от 8.74 до 8.85\n",
      "\n",
      "\n",
      "\n",
      "Среднее значение rougher.output.concentrate_ag: 11.99\n",
      "95%-доверительный интервал среднего от 11.90 до 12.08\n",
      "\n",
      "\n",
      "\n",
      "Среднее значение primary_cleaner.output.concentrate_ag: 8.44\n",
      "95%-доверительный интервал среднего от 8.38 до 8.50\n",
      "\n",
      "\n",
      "\n",
      "Среднее значение final.output.concentrate_ag: 5.17\n",
      "95%-доверительный интервал среднего от 5.12 до 5.21\n",
      "\n",
      "\n",
      "\n"
     ]
    },
    {
     "data": {
      "image/png": "[encoded data removed]",
      "text/plain": [
       "<Figure size 1440x1080 with 1 Axes>"
      ]
     },
     "metadata": {
      "needs_background": "light"
     },
     "output_type": "display_data"
    }
   ],
   "source": [
    "conc_change('ag')"
   ]
  },
  {
   "cell_type": "markdown",
   "metadata": {},
   "source": [
    "**Выводы по серебру:** содержание металла в итоговом концентрате меньше, чем в исходном сырье."
   ]
  },
  {
   "cell_type": "code",
   "execution_count": 22,
   "metadata": {},
   "outputs": [],
   "source": [
    "#функция для удаления аномалий, уберем краевые значения и оставим только 99% датасета\n",
    "def delete_anomalies(metal):\n",
    "    columns = ['rougher.input.feed_', \n",
    "               'rougher.output.concentrate_',\n",
    "               'primary_cleaner.output.concentrate_',                 \n",
    "               'final.output.concentrate_']\n",
    "    columns = ['{0}{1}'.format(i, metal) for i in columns]\n",
    "    \n",
    "    for col in columns:\n",
    "        lower = full[col].quantile(0.05)\n",
    "        upper = full[col].quantile(0.995)\n",
    "        \n",
    "        print('\\n\\n')\n",
    "        train.loc[(train[col] >= lower) & (train[col] <= upper), col].hist(bins=50, figsize=(20,15), histtype=u'step', linewidth=1.5)\n",
    "    plt.title(f'Metal: {metal.upper()} (after cutting anomalies)', fontsize=26)\n",
    "    plt.xlabel('Metal Concentration, %', fontsize=18)\n",
    "    plt.ylabel('Count', fontsize=18)\n",
    "    plt.legend(['feed', 'rougher output', 'primary cleaner output', 'final output'])\n",
    "    plt.show()\n",
    "    \n",
    "    return train[(train[col] >= lower) & (train[col] <= upper)].index"
   ]
  },
  {
   "cell_type": "code",
   "execution_count": 23,
   "metadata": {},
   "outputs": [
    {
     "name": "stdout",
     "output_type": "stream",
     "text": [
      "\n",
      "\n",
      "\n",
      "\n",
      "\n",
      "\n",
      "\n",
      "\n",
      "\n",
      "\n",
      "\n",
      "\n"
     ]
    },
    {
     "data": {
      "image/png": "[encoded data removed]",
      "text/plain": [
       "<Figure size 1440x1080 with 1 Axes>"
      ]
     },
     "metadata": {
      "needs_background": "light"
     },
     "output_type": "display_data"
    },
    {
     "name": "stdout",
     "output_type": "stream",
     "text": [
      "\n",
      "\n",
      "\n",
      "\n",
      "\n",
      "\n",
      "\n",
      "\n",
      "\n",
      "\n",
      "\n",
      "\n"
     ]
    },
    {
     "data": {
      "image/png": "[encoded data removed]",
      "text/plain": [
       "<Figure size 1440x1080 with 1 Axes>"
      ]
     },
     "metadata": {
      "needs_background": "light"
     },
     "output_type": "display_data"
    },
    {
     "name": "stdout",
     "output_type": "stream",
     "text": [
      "\n",
      "\n",
      "\n",
      "\n",
      "\n",
      "\n",
      "\n",
      "\n",
      "\n",
      "\n",
      "\n",
      "\n"
     ]
    },
    {
     "data": {
      "image/png": "[encoded data removed]",
      "text/plain": [
       "<Figure size 1440x1080 with 1 Axes>"
      ]
     },
     "metadata": {
      "needs_background": "light"
     },
     "output_type": "display_data"
    },
    {
     "name": "stdout",
     "output_type": "stream",
     "text": [
      "<class 'pandas.core.frame.DataFrame'>\n",
      "DatetimeIndex: 12893 entries, 2016-01-15 00:00:00 to 2017-12-09 06:59:59\n",
      "Data columns (total 52 columns):\n",
      " #   Column                                      Non-Null Count  Dtype  \n",
      "---  ------                                      --------------  -----  \n",
      " 0   rougher.input.feed_au                       12893 non-null  float64\n",
      " 1   rougher.input.feed_ag                       12893 non-null  float64\n",
      " 2   rougher.input.feed_pb                       12893 non-null  float64\n",
      " 3   rougher.input.feed_sol                      12893 non-null  float64\n",
      " 4   rougher.input.feed_rate                     12893 non-null  float64\n",
      " 5   rougher.input.feed_size                     12893 non-null  float64\n",
      " 6   rougher.input.floatbank10_sulfate           12893 non-null  float64\n",
      " 7   rougher.input.floatbank10_xanthate          12893 non-null  float64\n",
      " 8   rougher.state.floatbank10_a_air             12893 non-null  float64\n",
      " 9   rougher.state.floatbank10_a_level           12893 non-null  float64\n",
      " 10  rougher.state.floatbank10_b_air             12893 non-null  float64\n",
      " 11  rougher.state.floatbank10_b_level           12893 non-null  float64\n",
      " 12  rougher.state.floatbank10_c_air             12893 non-null  float64\n",
      " 13  rougher.state.floatbank10_c_level           12893 non-null  float64\n",
      " 14  rougher.state.floatbank10_d_air             12893 non-null  float64\n",
      " 15  rougher.state.floatbank10_d_level           12893 non-null  float64\n",
      " 16  rougher.state.floatbank10_e_air             12893 non-null  float64\n",
      " 17  rougher.state.floatbank10_e_level           12893 non-null  float64\n",
      " 18  rougher.state.floatbank10_f_air             12893 non-null  float64\n",
      " 19  rougher.state.floatbank10_f_level           12893 non-null  float64\n",
      " 20  rougher.input.floatbank11_sulfate           12893 non-null  float64\n",
      " 21  rougher.input.floatbank11_xanthate          12893 non-null  float64\n",
      " 22  primary_cleaner.input.sulfate               12893 non-null  float64\n",
      " 23  primary_cleaner.input.depressant            12893 non-null  float64\n",
      " 24  primary_cleaner.input.feed_size             12893 non-null  float64\n",
      " 25  primary_cleaner.input.xanthate              12893 non-null  float64\n",
      " 26  primary_cleaner.state.floatbank8_a_air      12893 non-null  float64\n",
      " 27  primary_cleaner.state.floatbank8_a_level    12893 non-null  float64\n",
      " 28  primary_cleaner.state.floatbank8_b_air      12893 non-null  float64\n",
      " 29  primary_cleaner.state.floatbank8_b_level    12893 non-null  float64\n",
      " 30  primary_cleaner.state.floatbank8_c_air      12893 non-null  float64\n",
      " 31  primary_cleaner.state.floatbank8_c_level    12893 non-null  float64\n",
      " 32  primary_cleaner.state.floatbank8_d_air      12893 non-null  float64\n",
      " 33  primary_cleaner.state.floatbank8_d_level    12893 non-null  float64\n",
      " 34  secondary_cleaner.state.floatbank2_a_air    12893 non-null  float64\n",
      " 35  secondary_cleaner.state.floatbank2_a_level  12893 non-null  float64\n",
      " 36  secondary_cleaner.state.floatbank2_b_air    12893 non-null  float64\n",
      " 37  secondary_cleaner.state.floatbank2_b_level  12893 non-null  float64\n",
      " 38  secondary_cleaner.state.floatbank3_a_air    12893 non-null  float64\n",
      " 39  secondary_cleaner.state.floatbank3_a_level  12893 non-null  float64\n",
      " 40  secondary_cleaner.state.floatbank3_b_air    12893 non-null  float64\n",
      " 41  secondary_cleaner.state.floatbank3_b_level  12893 non-null  float64\n",
      " 42  secondary_cleaner.state.floatbank4_a_air    12893 non-null  float64\n",
      " 43  secondary_cleaner.state.floatbank4_a_level  12893 non-null  float64\n",
      " 44  secondary_cleaner.state.floatbank4_b_air    12893 non-null  float64\n",
      " 45  secondary_cleaner.state.floatbank4_b_level  12893 non-null  float64\n",
      " 46  secondary_cleaner.state.floatbank5_a_air    12893 non-null  float64\n",
      " 47  secondary_cleaner.state.floatbank5_a_level  12893 non-null  float64\n",
      " 48  secondary_cleaner.state.floatbank5_b_air    12893 non-null  float64\n",
      " 49  secondary_cleaner.state.floatbank5_b_level  12893 non-null  float64\n",
      " 50  secondary_cleaner.state.floatbank6_a_air    12893 non-null  float64\n",
      " 51  secondary_cleaner.state.floatbank6_a_level  12893 non-null  float64\n",
      "dtypes: float64(52)\n",
      "memory usage: 5.2 MB\n"
     ]
    }
   ],
   "source": [
    "for m in ['ag', 'au', 'pb']:\n",
    "    index_cut = delete_anomalies(m)\n",
    "    train_features = train_features.filter(items = index_cut, axis=0)\n",
    "train_features.info()"
   ]
  },
  {
   "cell_type": "code",
   "execution_count": 24,
   "metadata": {},
   "outputs": [
    {
     "name": "stdout",
     "output_type": "stream",
     "text": [
      "После работы с аномалиями тренировочный датасет с признаками потерял 11.56%\n"
     ]
    }
   ],
   "source": [
    "print(f'После работы с аномалиями тренировочный датасет с признаками потерял {1 - len(train_features) / len(train):.2%}')"
   ]
  },
  {
   "cell_type": "code",
   "execution_count": 25,
   "metadata": {},
   "outputs": [
    {
     "data": {
      "text/plain": [
       "Ttest_indResult(statistic=-0.053204917015039016, pvalue=0.9575696960268852)"
      ]
     },
     "execution_count": 25,
     "metadata": {},
     "output_type": "execute_result"
    }
   ],
   "source": [
    "ttest_ind(train_features['rougher.input.feed_size'], test_features['rougher.input.feed_size'], equal_var= False)"
   ]
  },
  {
   "cell_type": "markdown",
   "metadata": {},
   "source": [
    "Н0: размер гранул исходного сырья в тренировочном и тестовом датасетах одинаковый.\n",
    "\n",
    "Н1: размер гранул исходного сырья в тренировочном и тестовом датасетах разный.\n",
    "p-value: 0.95\n",
    "\n",
    "**Вывод:** не можем отвергнуть нулевую гипотезу. Размер исходного сырья в наборах данных одинаковый"
   ]
  },
  {
   "cell_type": "code",
   "execution_count": 26,
   "metadata": {},
   "outputs": [],
   "source": [
    "def conc_sum(metals_list):\n",
    "    columns = ['rougher.input.feed_', \n",
    "               'rougher.output.concentrate_',\n",
    "               'primary_cleaner.output.concentrate_',                 \n",
    "               'final.output.concentrate_']\n",
    "    columns = ['{0}{1}'.format(i, metal) for i in columns for metal in metals]\n",
    "    \n",
    "    #исходное сырье\n",
    "    feed = full.loc[:, columns[:3]].sum(axis=1)\n",
    "    mean_sum_conc = feed.mean()\n",
    "    print(f'Средняя суммарная концентрация металлов в исходном сырье: {mean_sum_conc:.2f}')\n",
    "    ci_bootstrap(feed, mean_sum_conc)\n",
    "    print('\\n\\n')\n",
    "    feed.hist(bins=50, figsize=(20,15), histtype=u'step', linewidth=1.5)\n",
    "    \n",
    "    #черновой концентрат\n",
    "    rougher = full.loc[:, columns[3:6]].sum(axis=1)\n",
    "    mean_sum_conc = rougher.mean()\n",
    "    print(f'Средняя суммарная концентрация металлов в черновом концентрате: {mean_sum_conc:.2f}')\n",
    "    ci_bootstrap(rougher, mean_sum_conc)\n",
    "    print('\\n\\n')\n",
    "    rougher.hist(bins=50, figsize=(20,15), histtype=u'step', linewidth=1.5)\n",
    "    \n",
    "    #первичная очистка\n",
    "    primary_cleaner = full.loc[:, columns[6:9]].sum(axis=1)\n",
    "    mean_sum_conc = primary_cleaner.mean()\n",
    "    print(f'Средняя суммарная концентрация металлов в концентрате после первичной очистки: {mean_sum_conc:.2f}')\n",
    "    ci_bootstrap(primary_cleaner, mean_sum_conc)\n",
    "    print('\\n\\n')\n",
    "    primary_cleaner.hist(bins=50, figsize=(20,15), histtype=u'step', linewidth=1.5)\n",
    "    \n",
    "    #вторичная очистка\n",
    "    final = full.loc[:, columns[9:]].sum(axis=1)\n",
    "    mean_sum_conc = final.mean()\n",
    "    print(f'Средняя суммарная концентрация металлов в концентрате после первичной очистки: {mean_sum_conc:.2f}')\n",
    "    ci_bootstrap(final, mean_sum_conc)\n",
    "    print('\\n\\n')\n",
    "    final.hist(bins=50, figsize=(20,15), histtype=u'step', linewidth=1.5)\n",
    "    \n",
    "    plt.legend(['feed', 'rougher output', 'primary cleaner output', 'final output'])\n",
    "    plt.xlabel('Суммарная концентрация')\n",
    "    plt.ylabel('Частота')\n",
    "    plt.show()"
   ]
  },
  {
   "cell_type": "code",
   "execution_count": 27,
   "metadata": {},
   "outputs": [
    {
     "name": "stdout",
     "output_type": "stream",
     "text": [
      "Средняя суммарная концентрация металлов в исходном сырье: 20.65\n",
      "95%-доверительный интервал среднего от 20.51 до 20.78\n",
      "\n",
      "\n",
      "\n",
      "Средняя суммарная концентрация металлов в черновом концентрате: 39.37\n",
      "95%-доверительный интервал среднего от 39.15 до 39.60\n",
      "\n",
      "\n",
      "\n",
      "Средняя суммарная концентрация металлов в концентрате после первичной очистки: 50.37\n",
      "95%-доверительный интервал среднего от 50.11 до 50.62\n",
      "\n",
      "\n",
      "\n",
      "Средняя суммарная концентрация металлов в концентрате после первичной очистки: 59.22\n",
      "95%-доверительный интервал среднего от 59.04 до 59.41\n",
      "\n",
      "\n",
      "\n"
     ]
    },
    {
     "data": {
      "image/png": "[encoded data removed]",
      "text/plain": [
       "<Figure size 1440x1080 with 1 Axes>"
      ]
     },
     "metadata": {
      "needs_background": "light"
     },
     "output_type": "display_data"
    }
   ],
   "source": [
    "metals = ['au', 'pb', 'ag']\n",
    "conc_sum(metals)"
   ]
  },
  {
   "cell_type": "markdown",
   "metadata": {},
   "source": [
    "**Вывод:** в результате очистки концентрация металлов в итоговом концентрате увеличивается практически в три раза - с 20,7% до 59,2%."
   ]
  },
  {
   "cell_type": "markdown",
   "metadata": {},
   "source": [
    "**Общий вывод по этапу:**\n",
    "- исследованы изменения концентраций металлов на разных этапах очистки руды, рассчитаны показатели суммарной концентраций\n",
    "- из тренировочного датасета удалены строки с аномальными значениями концентраций (за границами 99%-ого интервала), потеря составила 11,56%\n",
    "- удалось убедиться, что размер гранул исходного сырья в тренировочной и обучающей выборках совпадает"
   ]
  },
  {
   "cell_type": "markdown",
   "metadata": {},
   "source": [
    "## Модель"
   ]
  },
  {
   "cell_type": "markdown",
   "metadata": {},
   "source": [
    "3. Постройте модель \n",
    "3.1. Выделение целевых признаков и стандартизация\n",
    "3.2. Функция для вычисления итоговой sMAPE. \n",
    "3.3. Обучение разные модели и оцените их качество кросс-валидацией. Выберите лучшую модель и проверьте её на тестовой выборке. Опишите выводы. Вам пригодятся формулы метрик качества: формула sMAPE формула итогового sMAPE"
   ]
  },
  {
   "cell_type": "code",
   "execution_count": 28,
   "metadata": {},
   "outputs": [
    {
     "data": {
      "text/html": [
       "<div>\n",
       "<style scoped>\n",
       "    .dataframe tbody tr th:only-of-type {\n",
       "        vertical-align: middle;\n",
       "    }\n",
       "\n",
       "    .dataframe tbody tr th {\n",
       "        vertical-align: top;\n",
       "    }\n",
       "\n",
       "    .dataframe thead th {\n",
       "        text-align: right;\n",
       "    }\n",
       "</style>\n",
       "<table border=\"1\" class=\"dataframe\">\n",
       "  <thead>\n",
       "    <tr style=\"text-align: right;\">\n",
       "      <th></th>\n",
       "      <th>rougher.input.feed_au</th>\n",
       "      <th>rougher.input.feed_ag</th>\n",
       "      <th>rougher.input.feed_pb</th>\n",
       "      <th>rougher.input.feed_sol</th>\n",
       "      <th>rougher.input.feed_rate</th>\n",
       "      <th>rougher.input.feed_size</th>\n",
       "      <th>rougher.input.floatbank10_sulfate</th>\n",
       "      <th>rougher.input.floatbank10_xanthate</th>\n",
       "      <th>rougher.state.floatbank10_a_air</th>\n",
       "      <th>rougher.state.floatbank10_a_level</th>\n",
       "      <th>...</th>\n",
       "      <th>secondary_cleaner.state.floatbank4_a_air</th>\n",
       "      <th>secondary_cleaner.state.floatbank4_a_level</th>\n",
       "      <th>secondary_cleaner.state.floatbank4_b_air</th>\n",
       "      <th>secondary_cleaner.state.floatbank4_b_level</th>\n",
       "      <th>secondary_cleaner.state.floatbank5_a_air</th>\n",
       "      <th>secondary_cleaner.state.floatbank5_a_level</th>\n",
       "      <th>secondary_cleaner.state.floatbank5_b_air</th>\n",
       "      <th>secondary_cleaner.state.floatbank5_b_level</th>\n",
       "      <th>secondary_cleaner.state.floatbank6_a_air</th>\n",
       "      <th>secondary_cleaner.state.floatbank6_a_level</th>\n",
       "    </tr>\n",
       "  </thead>\n",
       "  <tbody>\n",
       "    <tr>\n",
       "      <th>count</th>\n",
       "      <td>1.289300e+04</td>\n",
       "      <td>1.289300e+04</td>\n",
       "      <td>1.289300e+04</td>\n",
       "      <td>1.289300e+04</td>\n",
       "      <td>1.289300e+04</td>\n",
       "      <td>1.289300e+04</td>\n",
       "      <td>1.289300e+04</td>\n",
       "      <td>1.289300e+04</td>\n",
       "      <td>1.289300e+04</td>\n",
       "      <td>1.289300e+04</td>\n",
       "      <td>...</td>\n",
       "      <td>1.289300e+04</td>\n",
       "      <td>1.289300e+04</td>\n",
       "      <td>1.289300e+04</td>\n",
       "      <td>1.289300e+04</td>\n",
       "      <td>1.289300e+04</td>\n",
       "      <td>1.289300e+04</td>\n",
       "      <td>1.289300e+04</td>\n",
       "      <td>1.289300e+04</td>\n",
       "      <td>1.289300e+04</td>\n",
       "      <td>1.289300e+04</td>\n",
       "    </tr>\n",
       "    <tr>\n",
       "      <th>mean</th>\n",
       "      <td>4.056150e-16</td>\n",
       "      <td>2.248518e-16</td>\n",
       "      <td>-7.054174e-17</td>\n",
       "      <td>1.410835e-16</td>\n",
       "      <td>4.232505e-16</td>\n",
       "      <td>-2.998024e-16</td>\n",
       "      <td>1.939898e-16</td>\n",
       "      <td>6.348757e-16</td>\n",
       "      <td>8.817718e-16</td>\n",
       "      <td>-2.468961e-16</td>\n",
       "      <td>...</td>\n",
       "      <td>7.583237e-16</td>\n",
       "      <td>-6.172403e-16</td>\n",
       "      <td>2.645315e-16</td>\n",
       "      <td>-6.172403e-16</td>\n",
       "      <td>1.410835e-16</td>\n",
       "      <td>-2.010440e-15</td>\n",
       "      <td>4.144327e-16</td>\n",
       "      <td>-1.428470e-15</td>\n",
       "      <td>-1.058126e-16</td>\n",
       "      <td>-2.870167e-15</td>\n",
       "    </tr>\n",
       "    <tr>\n",
       "      <th>std</th>\n",
       "      <td>1.000039e+00</td>\n",
       "      <td>1.000039e+00</td>\n",
       "      <td>1.000039e+00</td>\n",
       "      <td>1.000039e+00</td>\n",
       "      <td>1.000039e+00</td>\n",
       "      <td>1.000039e+00</td>\n",
       "      <td>1.000039e+00</td>\n",
       "      <td>1.000039e+00</td>\n",
       "      <td>1.000039e+00</td>\n",
       "      <td>1.000039e+00</td>\n",
       "      <td>...</td>\n",
       "      <td>1.000039e+00</td>\n",
       "      <td>1.000039e+00</td>\n",
       "      <td>1.000039e+00</td>\n",
       "      <td>1.000039e+00</td>\n",
       "      <td>1.000039e+00</td>\n",
       "      <td>1.000039e+00</td>\n",
       "      <td>1.000039e+00</td>\n",
       "      <td>1.000039e+00</td>\n",
       "      <td>1.000039e+00</td>\n",
       "      <td>1.000039e+00</td>\n",
       "    </tr>\n",
       "    <tr>\n",
       "      <th>min</th>\n",
       "      <td>-4.490250e+00</td>\n",
       "      <td>-4.745074e+00</td>\n",
       "      <td>-3.544991e+00</td>\n",
       "      <td>-7.624172e+00</td>\n",
       "      <td>-4.500457e+00</td>\n",
       "      <td>-2.614528e+00</td>\n",
       "      <td>-3.695962e+00</td>\n",
       "      <td>-5.385632e+00</td>\n",
       "      <td>-6.721873e+00</td>\n",
       "      <td>-2.956908e+00</td>\n",
       "      <td>...</td>\n",
       "      <td>-3.643951e+00</td>\n",
       "      <td>-6.560210e+00</td>\n",
       "      <td>-3.085528e+00</td>\n",
       "      <td>-5.262449e+00</td>\n",
       "      <td>-2.905998e+00</td>\n",
       "      <td>-9.035240e+00</td>\n",
       "      <td>-2.185089e+00</td>\n",
       "      <td>-8.510430e+00</td>\n",
       "      <td>-3.423666e+00</td>\n",
       "      <td>-8.620586e+00</td>\n",
       "    </tr>\n",
       "    <tr>\n",
       "      <th>25%</th>\n",
       "      <td>-7.764000e-01</td>\n",
       "      <td>-8.255313e-01</td>\n",
       "      <td>-6.920461e-01</td>\n",
       "      <td>-5.139088e-01</td>\n",
       "      <td>-5.932992e-01</td>\n",
       "      <td>-5.120096e-01</td>\n",
       "      <td>-7.311796e-01</td>\n",
       "      <td>-6.349453e-01</td>\n",
       "      <td>-6.710827e-01</td>\n",
       "      <td>-1.286461e+00</td>\n",
       "      <td>...</td>\n",
       "      <td>-7.376504e-01</td>\n",
       "      <td>-3.381443e-01</td>\n",
       "      <td>-6.201289e-01</td>\n",
       "      <td>-6.078646e-01</td>\n",
       "      <td>-8.196930e-01</td>\n",
       "      <td>-3.633976e-01</td>\n",
       "      <td>-5.772181e-01</td>\n",
       "      <td>-3.655200e-01</td>\n",
       "      <td>-7.092618e-01</td>\n",
       "      <td>1.352532e-01</td>\n",
       "    </tr>\n",
       "    <tr>\n",
       "      <th>50%</th>\n",
       "      <td>-6.632591e-02</td>\n",
       "      <td>-7.371755e-02</td>\n",
       "      <td>-7.420826e-02</td>\n",
       "      <td>1.007107e-01</td>\n",
       "      <td>2.148519e-01</td>\n",
       "      <td>-1.995051e-01</td>\n",
       "      <td>-1.516885e-01</td>\n",
       "      <td>-8.116667e-03</td>\n",
       "      <td>-6.621971e-01</td>\n",
       "      <td>8.223315e-01</td>\n",
       "      <td>...</td>\n",
       "      <td>-1.487773e-01</td>\n",
       "      <td>-3.199727e-01</td>\n",
       "      <td>8.172408e-03</td>\n",
       "      <td>-5.967903e-01</td>\n",
       "      <td>-8.597121e-02</td>\n",
       "      <td>-3.441784e-01</td>\n",
       "      <td>-1.883025e-01</td>\n",
       "      <td>-3.600405e-01</td>\n",
       "      <td>1.871213e-01</td>\n",
       "      <td>1.544733e-01</td>\n",
       "    </tr>\n",
       "    <tr>\n",
       "      <th>75%</th>\n",
       "      <td>7.716507e-01</td>\n",
       "      <td>7.182313e-01</td>\n",
       "      <td>6.165020e-01</td>\n",
       "      <td>6.694741e-01</td>\n",
       "      <td>7.011200e-01</td>\n",
       "      <td>2.428793e-01</td>\n",
       "      <td>7.259193e-01</td>\n",
       "      <td>6.979346e-01</td>\n",
       "      <td>1.134972e+00</td>\n",
       "      <td>8.254387e-01</td>\n",
       "      <td>...</td>\n",
       "      <td>8.168839e-01</td>\n",
       "      <td>-2.831112e-01</td>\n",
       "      <td>6.289817e-01</td>\n",
       "      <td>9.418015e-01</td>\n",
       "      <td>4.744157e-01</td>\n",
       "      <td>-2.985929e-01</td>\n",
       "      <td>3.840349e-01</td>\n",
       "      <td>-3.434431e-01</td>\n",
       "      <td>7.421590e-01</td>\n",
       "      <td>1.695786e-01</td>\n",
       "    </tr>\n",
       "    <tr>\n",
       "      <th>max</th>\n",
       "      <td>2.683694e+00</td>\n",
       "      <td>2.976653e+00</td>\n",
       "      <td>3.322270e+00</td>\n",
       "      <td>3.342915e+00</td>\n",
       "      <td>2.291950e+00</td>\n",
       "      <td>1.884917e+01</td>\n",
       "      <td>5.403144e+00</td>\n",
       "      <td>2.751376e+00</td>\n",
       "      <td>2.431410e+00</td>\n",
       "      <td>1.102366e+00</td>\n",
       "      <td>...</td>\n",
       "      <td>2.191157e+00</td>\n",
       "      <td>4.975934e+00</td>\n",
       "      <td>1.699576e+00</td>\n",
       "      <td>6.931803e+00</td>\n",
       "      <td>5.197464e+00</td>\n",
       "      <td>6.218870e+00</td>\n",
       "      <td>3.037916e+00</td>\n",
       "      <td>9.470208e+00</td>\n",
       "      <td>2.390701e+00</td>\n",
       "      <td>1.045064e+01</td>\n",
       "    </tr>\n",
       "  </tbody>\n",
       "</table>\n",
       "<p>8 rows × 52 columns</p>\n",
       "</div>"
      ],
      "text/plain": [
       "       rougher.input.feed_au  rougher.input.feed_ag  rougher.input.feed_pb  \\\n",
       "count           1.289300e+04           1.289300e+04           1.289300e+04   \n",
       "mean            4.056150e-16           2.248518e-16          -7.054174e-17   \n",
       "std             1.000039e+00           1.000039e+00           1.000039e+00   \n",
       "min            -4.490250e+00          -4.745074e+00          -3.544991e+00   \n",
       "25%            -7.764000e-01          -8.255313e-01          -6.920461e-01   \n",
       "50%            -6.632591e-02          -7.371755e-02          -7.420826e-02   \n",
       "75%             7.716507e-01           7.182313e-01           6.165020e-01   \n",
       "max             2.683694e+00           2.976653e+00           3.322270e+00   \n",
       "\n",
       "       rougher.input.feed_sol  rougher.input.feed_rate  \\\n",
       "count            1.289300e+04             1.289300e+04   \n",
       "mean             1.410835e-16             4.232505e-16   \n",
       "std              1.000039e+00             1.000039e+00   \n",
       "min             -7.624172e+00            -4.500457e+00   \n",
       "25%             -5.139088e-01            -5.932992e-01   \n",
       "50%              1.007107e-01             2.148519e-01   \n",
       "75%              6.694741e-01             7.011200e-01   \n",
       "max              3.342915e+00             2.291950e+00   \n",
       "\n",
       "       rougher.input.feed_size  rougher.input.floatbank10_sulfate  \\\n",
       "count             1.289300e+04                       1.289300e+04   \n",
       "mean             -2.998024e-16                       1.939898e-16   \n",
       "std               1.000039e+00                       1.000039e+00   \n",
       "min              -2.614528e+00                      -3.695962e+00   \n",
       "25%              -5.120096e-01                      -7.311796e-01   \n",
       "50%              -1.995051e-01                      -1.516885e-01   \n",
       "75%               2.428793e-01                       7.259193e-01   \n",
       "max               1.884917e+01                       5.403144e+00   \n",
       "\n",
       "       rougher.input.floatbank10_xanthate  rougher.state.floatbank10_a_air  \\\n",
       "count                        1.289300e+04                     1.289300e+04   \n",
       "mean                         6.348757e-16                     8.817718e-16   \n",
       "std                          1.000039e+00                     1.000039e+00   \n",
       "min                         -5.385632e+00                    -6.721873e+00   \n",
       "25%                         -6.349453e-01                    -6.710827e-01   \n",
       "50%                         -8.116667e-03                    -6.621971e-01   \n",
       "75%                          6.979346e-01                     1.134972e+00   \n",
       "max                          2.751376e+00                     2.431410e+00   \n",
       "\n",
       "       rougher.state.floatbank10_a_level  ...  \\\n",
       "count                       1.289300e+04  ...   \n",
       "mean                       -2.468961e-16  ...   \n",
       "std                         1.000039e+00  ...   \n",
       "min                        -2.956908e+00  ...   \n",
       "25%                        -1.286461e+00  ...   \n",
       "50%                         8.223315e-01  ...   \n",
       "75%                         8.254387e-01  ...   \n",
       "max                         1.102366e+00  ...   \n",
       "\n",
       "       secondary_cleaner.state.floatbank4_a_air  \\\n",
       "count                              1.289300e+04   \n",
       "mean                               7.583237e-16   \n",
       "std                                1.000039e+00   \n",
       "min                               -3.643951e+00   \n",
       "25%                               -7.376504e-01   \n",
       "50%                               -1.487773e-01   \n",
       "75%                                8.168839e-01   \n",
       "max                                2.191157e+00   \n",
       "\n",
       "       secondary_cleaner.state.floatbank4_a_level  \\\n",
       "count                                1.289300e+04   \n",
       "mean                                -6.172403e-16   \n",
       "std                                  1.000039e+00   \n",
       "min                                 -6.560210e+00   \n",
       "25%                                 -3.381443e-01   \n",
       "50%                                 -3.199727e-01   \n",
       "75%                                 -2.831112e-01   \n",
       "max                                  4.975934e+00   \n",
       "\n",
       "       secondary_cleaner.state.floatbank4_b_air  \\\n",
       "count                              1.289300e+04   \n",
       "mean                               2.645315e-16   \n",
       "std                                1.000039e+00   \n",
       "min                               -3.085528e+00   \n",
       "25%                               -6.201289e-01   \n",
       "50%                                8.172408e-03   \n",
       "75%                                6.289817e-01   \n",
       "max                                1.699576e+00   \n",
       "\n",
       "       secondary_cleaner.state.floatbank4_b_level  \\\n",
       "count                                1.289300e+04   \n",
       "mean                                -6.172403e-16   \n",
       "std                                  1.000039e+00   \n",
       "min                                 -5.262449e+00   \n",
       "25%                                 -6.078646e-01   \n",
       "50%                                 -5.967903e-01   \n",
       "75%                                  9.418015e-01   \n",
       "max                                  6.931803e+00   \n",
       "\n",
       "       secondary_cleaner.state.floatbank5_a_air  \\\n",
       "count                              1.289300e+04   \n",
       "mean                               1.410835e-16   \n",
       "std                                1.000039e+00   \n",
       "min                               -2.905998e+00   \n",
       "25%                               -8.196930e-01   \n",
       "50%                               -8.597121e-02   \n",
       "75%                                4.744157e-01   \n",
       "max                                5.197464e+00   \n",
       "\n",
       "       secondary_cleaner.state.floatbank5_a_level  \\\n",
       "count                                1.289300e+04   \n",
       "mean                                -2.010440e-15   \n",
       "std                                  1.000039e+00   \n",
       "min                                 -9.035240e+00   \n",
       "25%                                 -3.633976e-01   \n",
       "50%                                 -3.441784e-01   \n",
       "75%                                 -2.985929e-01   \n",
       "max                                  6.218870e+00   \n",
       "\n",
       "       secondary_cleaner.state.floatbank5_b_air  \\\n",
       "count                              1.289300e+04   \n",
       "mean                               4.144327e-16   \n",
       "std                                1.000039e+00   \n",
       "min                               -2.185089e+00   \n",
       "25%                               -5.772181e-01   \n",
       "50%                               -1.883025e-01   \n",
       "75%                                3.840349e-01   \n",
       "max                                3.037916e+00   \n",
       "\n",
       "       secondary_cleaner.state.floatbank5_b_level  \\\n",
       "count                                1.289300e+04   \n",
       "mean                                -1.428470e-15   \n",
       "std                                  1.000039e+00   \n",
       "min                                 -8.510430e+00   \n",
       "25%                                 -3.655200e-01   \n",
       "50%                                 -3.600405e-01   \n",
       "75%                                 -3.434431e-01   \n",
       "max                                  9.470208e+00   \n",
       "\n",
       "       secondary_cleaner.state.floatbank6_a_air  \\\n",
       "count                              1.289300e+04   \n",
       "mean                              -1.058126e-16   \n",
       "std                                1.000039e+00   \n",
       "min                               -3.423666e+00   \n",
       "25%                               -7.092618e-01   \n",
       "50%                                1.871213e-01   \n",
       "75%                                7.421590e-01   \n",
       "max                                2.390701e+00   \n",
       "\n",
       "       secondary_cleaner.state.floatbank6_a_level  \n",
       "count                                1.289300e+04  \n",
       "mean                                -2.870167e-15  \n",
       "std                                  1.000039e+00  \n",
       "min                                 -8.620586e+00  \n",
       "25%                                  1.352532e-01  \n",
       "50%                                  1.544733e-01  \n",
       "75%                                  1.695786e-01  \n",
       "max                                  1.045064e+01  \n",
       "\n",
       "[8 rows x 52 columns]"
      ]
     },
     "execution_count": 28,
     "metadata": {},
     "output_type": "execute_result"
    }
   ],
   "source": [
    "#стандартизация признаков\n",
    "scaler = StandardScaler()\n",
    "train_features.loc[:,:] = scaler.fit_transform(train_features)\n",
    "train_features.describe()"
   ]
  },
  {
   "cell_type": "code",
   "execution_count": 29,
   "metadata": {
    "scrolled": true
   },
   "outputs": [
    {
     "data": {
      "text/html": [
       "<div>\n",
       "<style scoped>\n",
       "    .dataframe tbody tr th:only-of-type {\n",
       "        vertical-align: middle;\n",
       "    }\n",
       "\n",
       "    .dataframe tbody tr th {\n",
       "        vertical-align: top;\n",
       "    }\n",
       "\n",
       "    .dataframe thead th {\n",
       "        text-align: right;\n",
       "    }\n",
       "</style>\n",
       "<table border=\"1\" class=\"dataframe\">\n",
       "  <thead>\n",
       "    <tr style=\"text-align: right;\">\n",
       "      <th></th>\n",
       "      <th>rougher.input.feed_au</th>\n",
       "      <th>rougher.input.feed_ag</th>\n",
       "      <th>rougher.input.feed_pb</th>\n",
       "      <th>rougher.input.feed_sol</th>\n",
       "      <th>rougher.input.feed_rate</th>\n",
       "      <th>rougher.input.feed_size</th>\n",
       "      <th>rougher.input.floatbank10_sulfate</th>\n",
       "      <th>rougher.input.floatbank10_xanthate</th>\n",
       "      <th>rougher.state.floatbank10_a_air</th>\n",
       "      <th>rougher.state.floatbank10_a_level</th>\n",
       "      <th>...</th>\n",
       "      <th>secondary_cleaner.state.floatbank4_a_air</th>\n",
       "      <th>secondary_cleaner.state.floatbank4_a_level</th>\n",
       "      <th>secondary_cleaner.state.floatbank4_b_air</th>\n",
       "      <th>secondary_cleaner.state.floatbank4_b_level</th>\n",
       "      <th>secondary_cleaner.state.floatbank5_a_air</th>\n",
       "      <th>secondary_cleaner.state.floatbank5_a_level</th>\n",
       "      <th>secondary_cleaner.state.floatbank5_b_air</th>\n",
       "      <th>secondary_cleaner.state.floatbank5_b_level</th>\n",
       "      <th>secondary_cleaner.state.floatbank6_a_air</th>\n",
       "      <th>secondary_cleaner.state.floatbank6_a_level</th>\n",
       "    </tr>\n",
       "  </thead>\n",
       "  <tbody>\n",
       "    <tr>\n",
       "      <th>count</th>\n",
       "      <td>4860.000000</td>\n",
       "      <td>4860.000000</td>\n",
       "      <td>4860.000000</td>\n",
       "      <td>4860.000000</td>\n",
       "      <td>4860.000000</td>\n",
       "      <td>4860.000000</td>\n",
       "      <td>4860.000000</td>\n",
       "      <td>4860.000000</td>\n",
       "      <td>4860.000000</td>\n",
       "      <td>4860.000000</td>\n",
       "      <td>...</td>\n",
       "      <td>4860.000000</td>\n",
       "      <td>4860.000000</td>\n",
       "      <td>4860.000000</td>\n",
       "      <td>4860.000000</td>\n",
       "      <td>4860.000000</td>\n",
       "      <td>4860.000000</td>\n",
       "      <td>4860.000000</td>\n",
       "      <td>4860.000000</td>\n",
       "      <td>4860.000000</td>\n",
       "      <td>4860.000000</td>\n",
       "    </tr>\n",
       "    <tr>\n",
       "      <th>mean</th>\n",
       "      <td>-0.245879</td>\n",
       "      <td>-0.225469</td>\n",
       "      <td>-0.081500</td>\n",
       "      <td>0.068089</td>\n",
       "      <td>0.141122</td>\n",
       "      <td>0.000809</td>\n",
       "      <td>-0.137581</td>\n",
       "      <td>0.073548</td>\n",
       "      <td>-0.011853</td>\n",
       "      <td>0.102893</td>\n",
       "      <td>...</td>\n",
       "      <td>0.208507</td>\n",
       "      <td>-0.088157</td>\n",
       "      <td>0.133293</td>\n",
       "      <td>-0.050681</td>\n",
       "      <td>0.212596</td>\n",
       "      <td>-0.082599</td>\n",
       "      <td>0.182001</td>\n",
       "      <td>-0.079375</td>\n",
       "      <td>0.023668</td>\n",
       "      <td>0.022817</td>\n",
       "    </tr>\n",
       "    <tr>\n",
       "      <th>std</th>\n",
       "      <td>1.058276</td>\n",
       "      <td>1.036868</td>\n",
       "      <td>1.027869</td>\n",
       "      <td>1.027758</td>\n",
       "      <td>0.893570</td>\n",
       "      <td>0.863672</td>\n",
       "      <td>1.006181</td>\n",
       "      <td>0.933338</td>\n",
       "      <td>0.947106</td>\n",
       "      <td>0.963284</td>\n",
       "      <td>...</td>\n",
       "      <td>1.147225</td>\n",
       "      <td>0.923551</td>\n",
       "      <td>1.018627</td>\n",
       "      <td>1.017320</td>\n",
       "      <td>1.052312</td>\n",
       "      <td>0.942121</td>\n",
       "      <td>1.054797</td>\n",
       "      <td>1.006433</td>\n",
       "      <td>0.999924</td>\n",
       "      <td>1.096836</td>\n",
       "    </tr>\n",
       "    <tr>\n",
       "      <th>min</th>\n",
       "      <td>-4.490250</td>\n",
       "      <td>-4.745074</td>\n",
       "      <td>-3.544991</td>\n",
       "      <td>-7.624172</td>\n",
       "      <td>-4.500364</td>\n",
       "      <td>-2.614653</td>\n",
       "      <td>-3.690725</td>\n",
       "      <td>-5.372786</td>\n",
       "      <td>-4.901105</td>\n",
       "      <td>-2.350600</td>\n",
       "      <td>...</td>\n",
       "      <td>-3.643951</td>\n",
       "      <td>-6.558264</td>\n",
       "      <td>-3.085528</td>\n",
       "      <td>-5.247337</td>\n",
       "      <td>-2.905896</td>\n",
       "      <td>-9.029938</td>\n",
       "      <td>-2.026788</td>\n",
       "      <td>-8.504618</td>\n",
       "      <td>-3.380454</td>\n",
       "      <td>-8.620398</td>\n",
       "    </tr>\n",
       "    <tr>\n",
       "      <th>25%</th>\n",
       "      <td>-1.005628</td>\n",
       "      <td>-1.057383</td>\n",
       "      <td>-0.736827</td>\n",
       "      <td>-0.465382</td>\n",
       "      <td>-0.390997</td>\n",
       "      <td>-0.509332</td>\n",
       "      <td>-0.776948</td>\n",
       "      <td>-0.465052</td>\n",
       "      <td>-0.670944</td>\n",
       "      <td>-1.285141</td>\n",
       "      <td>...</td>\n",
       "      <td>-0.731631</td>\n",
       "      <td>-0.338359</td>\n",
       "      <td>-0.600258</td>\n",
       "      <td>-0.608059</td>\n",
       "      <td>-0.802061</td>\n",
       "      <td>-0.365003</td>\n",
       "      <td>-0.567795</td>\n",
       "      <td>-0.365557</td>\n",
       "      <td>-0.713057</td>\n",
       "      <td>0.136952</td>\n",
       "    </tr>\n",
       "    <tr>\n",
       "      <th>50%</th>\n",
       "      <td>-0.348151</td>\n",
       "      <td>-0.420092</td>\n",
       "      <td>-0.107840</td>\n",
       "      <td>0.152666</td>\n",
       "      <td>0.252918</td>\n",
       "      <td>-0.161860</td>\n",
       "      <td>-0.155207</td>\n",
       "      <td>0.071937</td>\n",
       "      <td>-0.660661</td>\n",
       "      <td>0.823361</td>\n",
       "      <td>...</td>\n",
       "      <td>0.230102</td>\n",
       "      <td>-0.321484</td>\n",
       "      <td>0.018110</td>\n",
       "      <td>-0.597920</td>\n",
       "      <td>0.219527</td>\n",
       "      <td>-0.347164</td>\n",
       "      <td>0.001739</td>\n",
       "      <td>-0.360821</td>\n",
       "      <td>0.187167</td>\n",
       "      <td>0.154984</td>\n",
       "    </tr>\n",
       "    <tr>\n",
       "      <th>75%</th>\n",
       "      <td>0.577456</td>\n",
       "      <td>0.588202</td>\n",
       "      <td>0.534120</td>\n",
       "      <td>0.769775</td>\n",
       "      <td>0.759613</td>\n",
       "      <td>0.328473</td>\n",
       "      <td>0.582122</td>\n",
       "      <td>0.700494</td>\n",
       "      <td>0.558360</td>\n",
       "      <td>0.825683</td>\n",
       "      <td>...</td>\n",
       "      <td>1.204281</td>\n",
       "      <td>-0.295654</td>\n",
       "      <td>1.049120</td>\n",
       "      <td>0.938464</td>\n",
       "      <td>0.835835</td>\n",
       "      <td>-0.317371</td>\n",
       "      <td>0.574523</td>\n",
       "      <td>-0.352367</td>\n",
       "      <td>1.090758</td>\n",
       "      <td>0.171228</td>\n",
       "    </tr>\n",
       "    <tr>\n",
       "      <th>max</th>\n",
       "      <td>2.626797</td>\n",
       "      <td>2.943657</td>\n",
       "      <td>3.410295</td>\n",
       "      <td>3.473781</td>\n",
       "      <td>2.150087</td>\n",
       "      <td>13.494392</td>\n",
       "      <td>5.161183</td>\n",
       "      <td>3.022527</td>\n",
       "      <td>2.490003</td>\n",
       "      <td>1.025621</td>\n",
       "      <td>...</td>\n",
       "      <td>2.192888</td>\n",
       "      <td>2.102423</td>\n",
       "      <td>1.873924</td>\n",
       "      <td>5.366997</td>\n",
       "      <td>3.268394</td>\n",
       "      <td>5.813153</td>\n",
       "      <td>2.323245</td>\n",
       "      <td>9.356366</td>\n",
       "      <td>2.361803</td>\n",
       "      <td>11.364493</td>\n",
       "    </tr>\n",
       "  </tbody>\n",
       "</table>\n",
       "<p>8 rows × 52 columns</p>\n",
       "</div>"
      ],
      "text/plain": [
       "       rougher.input.feed_au  rougher.input.feed_ag  rougher.input.feed_pb  \\\n",
       "count            4860.000000            4860.000000            4860.000000   \n",
       "mean               -0.245879              -0.225469              -0.081500   \n",
       "std                 1.058276               1.036868               1.027869   \n",
       "min                -4.490250              -4.745074              -3.544991   \n",
       "25%                -1.005628              -1.057383              -0.736827   \n",
       "50%                -0.348151              -0.420092              -0.107840   \n",
       "75%                 0.577456               0.588202               0.534120   \n",
       "max                 2.626797               2.943657               3.410295   \n",
       "\n",
       "       rougher.input.feed_sol  rougher.input.feed_rate  \\\n",
       "count             4860.000000              4860.000000   \n",
       "mean                 0.068089                 0.141122   \n",
       "std                  1.027758                 0.893570   \n",
       "min                 -7.624172                -4.500364   \n",
       "25%                 -0.465382                -0.390997   \n",
       "50%                  0.152666                 0.252918   \n",
       "75%                  0.769775                 0.759613   \n",
       "max                  3.473781                 2.150087   \n",
       "\n",
       "       rougher.input.feed_size  rougher.input.floatbank10_sulfate  \\\n",
       "count              4860.000000                        4860.000000   \n",
       "mean                  0.000809                          -0.137581   \n",
       "std                   0.863672                           1.006181   \n",
       "min                  -2.614653                          -3.690725   \n",
       "25%                  -0.509332                          -0.776948   \n",
       "50%                  -0.161860                          -0.155207   \n",
       "75%                   0.328473                           0.582122   \n",
       "max                  13.494392                           5.161183   \n",
       "\n",
       "       rougher.input.floatbank10_xanthate  rougher.state.floatbank10_a_air  \\\n",
       "count                         4860.000000                      4860.000000   \n",
       "mean                             0.073548                        -0.011853   \n",
       "std                              0.933338                         0.947106   \n",
       "min                             -5.372786                        -4.901105   \n",
       "25%                             -0.465052                        -0.670944   \n",
       "50%                              0.071937                        -0.660661   \n",
       "75%                              0.700494                         0.558360   \n",
       "max                              3.022527                         2.490003   \n",
       "\n",
       "       rougher.state.floatbank10_a_level  ...  \\\n",
       "count                        4860.000000  ...   \n",
       "mean                            0.102893  ...   \n",
       "std                             0.963284  ...   \n",
       "min                            -2.350600  ...   \n",
       "25%                            -1.285141  ...   \n",
       "50%                             0.823361  ...   \n",
       "75%                             0.825683  ...   \n",
       "max                             1.025621  ...   \n",
       "\n",
       "       secondary_cleaner.state.floatbank4_a_air  \\\n",
       "count                               4860.000000   \n",
       "mean                                   0.208507   \n",
       "std                                    1.147225   \n",
       "min                                   -3.643951   \n",
       "25%                                   -0.731631   \n",
       "50%                                    0.230102   \n",
       "75%                                    1.204281   \n",
       "max                                    2.192888   \n",
       "\n",
       "       secondary_cleaner.state.floatbank4_a_level  \\\n",
       "count                                 4860.000000   \n",
       "mean                                    -0.088157   \n",
       "std                                      0.923551   \n",
       "min                                     -6.558264   \n",
       "25%                                     -0.338359   \n",
       "50%                                     -0.321484   \n",
       "75%                                     -0.295654   \n",
       "max                                      2.102423   \n",
       "\n",
       "       secondary_cleaner.state.floatbank4_b_air  \\\n",
       "count                               4860.000000   \n",
       "mean                                   0.133293   \n",
       "std                                    1.018627   \n",
       "min                                   -3.085528   \n",
       "25%                                   -0.600258   \n",
       "50%                                    0.018110   \n",
       "75%                                    1.049120   \n",
       "max                                    1.873924   \n",
       "\n",
       "       secondary_cleaner.state.floatbank4_b_level  \\\n",
       "count                                 4860.000000   \n",
       "mean                                    -0.050681   \n",
       "std                                      1.017320   \n",
       "min                                     -5.247337   \n",
       "25%                                     -0.608059   \n",
       "50%                                     -0.597920   \n",
       "75%                                      0.938464   \n",
       "max                                      5.366997   \n",
       "\n",
       "       secondary_cleaner.state.floatbank5_a_air  \\\n",
       "count                               4860.000000   \n",
       "mean                                   0.212596   \n",
       "std                                    1.052312   \n",
       "min                                   -2.905896   \n",
       "25%                                   -0.802061   \n",
       "50%                                    0.219527   \n",
       "75%                                    0.835835   \n",
       "max                                    3.268394   \n",
       "\n",
       "       secondary_cleaner.state.floatbank5_a_level  \\\n",
       "count                                 4860.000000   \n",
       "mean                                    -0.082599   \n",
       "std                                      0.942121   \n",
       "min                                     -9.029938   \n",
       "25%                                     -0.365003   \n",
       "50%                                     -0.347164   \n",
       "75%                                     -0.317371   \n",
       "max                                      5.813153   \n",
       "\n",
       "       secondary_cleaner.state.floatbank5_b_air  \\\n",
       "count                               4860.000000   \n",
       "mean                                   0.182001   \n",
       "std                                    1.054797   \n",
       "min                                   -2.026788   \n",
       "25%                                   -0.567795   \n",
       "50%                                    0.001739   \n",
       "75%                                    0.574523   \n",
       "max                                    2.323245   \n",
       "\n",
       "       secondary_cleaner.state.floatbank5_b_level  \\\n",
       "count                                 4860.000000   \n",
       "mean                                    -0.079375   \n",
       "std                                      1.006433   \n",
       "min                                     -8.504618   \n",
       "25%                                     -0.365557   \n",
       "50%                                     -0.360821   \n",
       "75%                                     -0.352367   \n",
       "max                                      9.356366   \n",
       "\n",
       "       secondary_cleaner.state.floatbank6_a_air  \\\n",
       "count                               4860.000000   \n",
       "mean                                   0.023668   \n",
       "std                                    0.999924   \n",
       "min                                   -3.380454   \n",
       "25%                                   -0.713057   \n",
       "50%                                    0.187167   \n",
       "75%                                    1.090758   \n",
       "max                                    2.361803   \n",
       "\n",
       "       secondary_cleaner.state.floatbank6_a_level  \n",
       "count                                 4860.000000  \n",
       "mean                                     0.022817  \n",
       "std                                      1.096836  \n",
       "min                                     -8.620398  \n",
       "25%                                      0.136952  \n",
       "50%                                      0.154984  \n",
       "75%                                      0.171228  \n",
       "max                                     11.364493  \n",
       "\n",
       "[8 rows x 52 columns]"
      ]
     },
     "execution_count": 29,
     "metadata": {},
     "output_type": "execute_result"
    }
   ],
   "source": [
    "#cтандартизация признаков\n",
    "test_features.iloc[:,:] = scaler.transform(test_features.iloc[:,:])\n",
    "test_features.describe()"
   ]
  },
  {
   "cell_type": "code",
   "execution_count": 30,
   "metadata": {},
   "outputs": [
    {
     "name": "stdout",
     "output_type": "stream",
     "text": [
      "(12893, 2) (4860, 2)\n",
      "                     rougher.output.recovery  final.output.recovery\n",
      "date                                                               \n",
      "2016-01-15 00:00:00                87.107763              70.541216\n",
      "2016-01-15 01:00:00                86.843261              69.266198\n",
      "2016-01-15 02:00:00                86.842308              68.116445\n",
      "2016-01-15 03:00:00                87.226430              68.347543\n",
      "2016-01-15 04:00:00                86.688794              66.927016\n",
      "                     rougher.output.recovery  final.output.recovery\n",
      "date                                                               \n",
      "2017-12-09 14:59:59                89.514960              70.281454\n",
      "2017-12-09 15:59:59                89.858126              65.523246\n",
      "2017-12-09 16:59:59                91.816623              74.817644\n",
      "2017-12-09 17:59:59                88.478959              63.082720\n",
      "2017-12-09 18:59:59                89.230316              74.463380\n"
     ]
    }
   ],
   "source": [
    "#целевые значения были в изначальном тренировочном датасете\n",
    "train_target = train.loc[train_features.index, ['rougher.output.recovery', 'final.output.recovery']]\n",
    "#целевые значения тестового датасета не указаны, найдем их по дате измерения в общем датафрейме\n",
    "test_target = full.loc[test_features.index, ['rougher.output.recovery', 'final.output.recovery']]\n",
    "print(train_target.shape, test_target.shape)\n",
    "print(train_target.head())\n",
    "print(test_target.head())"
   ]
  },
  {
   "cell_type": "code",
   "execution_count": 31,
   "metadata": {},
   "outputs": [],
   "source": [
    "#функция расчета sMAPE и создание кастомной метрики для sklearn\n",
    "def smape(pred, test):\n",
    "    result = 100/len(pred) * np.sum(2 * np.abs(test - pred) / (np.abs(pred) + np.abs(test)))\n",
    "    return result\n",
    "\n",
    "def total_smape(smape_rougher, smape_final):\n",
    "    return 0.25 * np.abs(smape_rougher) + 0.75 * np.abs(smape_final)\n",
    "\n",
    "smape_score = make_scorer(smape, greater_is_better=False)"
   ]
  },
  {
   "cell_type": "markdown",
   "metadata": {},
   "source": [
    "### Линейная регрессия"
   ]
  },
  {
   "cell_type": "code",
   "execution_count": 32,
   "metadata": {},
   "outputs": [
    {
     "data": {
      "text/plain": [
       "13.254007521016018"
      ]
     },
     "execution_count": 32,
     "metadata": {},
     "output_type": "execute_result"
    }
   ],
   "source": [
    "linreg = LinearRegression()\n",
    "linreg.fit(train_features, train_target.iloc[:,0])\n",
    "cv_res_rough = -cross_val_score(linreg, train_features, train_target.iloc[:,0], cv=5, scoring=smape_score)\n",
    "cv_res_rough.mean()"
   ]
  },
  {
   "cell_type": "code",
   "execution_count": 33,
   "metadata": {},
   "outputs": [
    {
     "data": {
      "text/plain": [
       "9.161292715301892"
      ]
     },
     "execution_count": 33,
     "metadata": {},
     "output_type": "execute_result"
    }
   ],
   "source": [
    "linreg.fit(train_features, train_target.iloc[:,1])\n",
    "cv_res_final = -cross_val_score(linreg, train_features, train_target.iloc[:,1], cv=5, scoring=smape_score)\n",
    "cv_res_final.mean()"
   ]
  },
  {
   "cell_type": "code",
   "execution_count": 34,
   "metadata": {},
   "outputs": [
    {
     "data": {
      "text/plain": [
       "10.184471416730425"
      ]
     },
     "execution_count": 34,
     "metadata": {},
     "output_type": "execute_result"
    }
   ],
   "source": [
    "result_smape = total_smape(cv_res_rough.mean(), cv_res_final.mean())\n",
    "result_smape"
   ]
  },
  {
   "cell_type": "markdown",
   "metadata": {},
   "source": [
    "**Вывод:** \n",
    "- *Черновой концентрат* на кросс-валидации тренировочного датасета средняя ошибка составила 13,3% \n",
    "- *Финальный концентрат* на кросс-валидации тренировочного датасета средняя ошибка составила 9,2%\n",
    "- *Итоговое sMAPE* - 10,1%"
   ]
  },
  {
   "cell_type": "markdown",
   "metadata": {},
   "source": [
    "### Дерево решений"
   ]
  },
  {
   "cell_type": "code",
   "execution_count": 35,
   "metadata": {},
   "outputs": [
    {
     "name": "stdout",
     "output_type": "stream",
     "text": [
      "Fitting 5 folds for each of 5 candidates, totalling 25 fits\n",
      "[CV 1/5] END max_depth=2, max_features=log2, min_samples_leaf=8; total time=   0.1s\n",
      "[CV 2/5] END max_depth=2, max_features=log2, min_samples_leaf=8; total time=   0.0s\n",
      "[CV 3/5] END max_depth=2, max_features=log2, min_samples_leaf=8; total time=   0.0s\n",
      "[CV 4/5] END max_depth=2, max_features=log2, min_samples_leaf=8; total time=   0.0s\n",
      "[CV 5/5] END max_depth=2, max_features=log2, min_samples_leaf=8; total time=   0.0s\n",
      "[CV 1/5] END max_depth=3, max_features=log2, min_samples_leaf=8; total time=   0.0s\n",
      "[CV 2/5] END max_depth=3, max_features=log2, min_samples_leaf=8; total time=   0.0s\n",
      "[CV 3/5] END max_depth=3, max_features=log2, min_samples_leaf=8; total time=   0.0s\n",
      "[CV 4/5] END max_depth=3, max_features=log2, min_samples_leaf=8; total time=   0.0s\n",
      "[CV 5/5] END max_depth=3, max_features=log2, min_samples_leaf=8; total time=   0.0s\n",
      "[CV 1/5] END max_depth=4, max_features=log2, min_samples_leaf=8; total time=   0.0s\n",
      "[CV 2/5] END max_depth=4, max_features=log2, min_samples_leaf=8; total time=   0.0s\n",
      "[CV 3/5] END max_depth=4, max_features=log2, min_samples_leaf=8; total time=   0.0s\n",
      "[CV 4/5] END max_depth=4, max_features=log2, min_samples_leaf=8; total time=   0.0s\n",
      "[CV 5/5] END max_depth=4, max_features=log2, min_samples_leaf=8; total time=   0.0s\n",
      "[CV 1/5] END max_depth=5, max_features=log2, min_samples_leaf=8; total time=   0.0s\n",
      "[CV 2/5] END max_depth=5, max_features=log2, min_samples_leaf=8; total time=   0.0s\n",
      "[CV 3/5] END max_depth=5, max_features=log2, min_samples_leaf=8; total time=   0.0s\n",
      "[CV 4/5] END max_depth=5, max_features=log2, min_samples_leaf=8; total time=   0.0s\n",
      "[CV 5/5] END max_depth=5, max_features=log2, min_samples_leaf=8; total time=   0.0s\n",
      "[CV 1/5] END max_depth=6, max_features=log2, min_samples_leaf=8; total time=   0.0s\n",
      "[CV 2/5] END max_depth=6, max_features=log2, min_samples_leaf=8; total time=   0.0s\n",
      "[CV 3/5] END max_depth=6, max_features=log2, min_samples_leaf=8; total time=   0.0s\n",
      "[CV 4/5] END max_depth=6, max_features=log2, min_samples_leaf=8; total time=   0.0s\n",
      "[CV 5/5] END max_depth=6, max_features=log2, min_samples_leaf=8; total time=   0.0s\n"
     ]
    },
    {
     "data": {
      "text/plain": [
       "DecisionTreeRegressor(max_depth=2, max_features='log2', min_samples_leaf=8,\n",
       "                      random_state=123)"
      ]
     },
     "execution_count": 35,
     "metadata": {},
     "output_type": "execute_result"
    }
   ],
   "source": [
    "param_grid = {\n",
    "    'max_features': ['sqrt', 'log2', None],\n",
    "    'max_depth': range(1, 11),\n",
    "    'min_samples_leaf': range(1, 11)\n",
    "}\n",
    "\n",
    "param_grid = {\n",
    "    'max_features': ['log2'],\n",
    "    'max_depth': range(2, 7),\n",
    "    'min_samples_leaf': range(8,9,1)\n",
    "}\n",
    "\n",
    "dtr = DecisionTreeRegressor(random_state=123)\n",
    "\n",
    "grid_rougher = GridSearchCV(dtr, param_grid=param_grid, scoring=smape_score, verbose=3)\n",
    "grid_rougher.fit(train_features, train_target.iloc[:,0])\n",
    "\n",
    "grid_rougher.best_estimator_"
   ]
  },
  {
   "cell_type": "code",
   "execution_count": 36,
   "metadata": {},
   "outputs": [
    {
     "data": {
      "text/plain": [
       "12.467956683499366"
      ]
     },
     "execution_count": 36,
     "metadata": {},
     "output_type": "execute_result"
    }
   ],
   "source": [
    "-grid_rougher.best_score_"
   ]
  },
  {
   "cell_type": "code",
   "execution_count": 37,
   "metadata": {},
   "outputs": [
    {
     "name": "stdout",
     "output_type": "stream",
     "text": [
      "Fitting 5 folds for each of 1 candidates, totalling 5 fits\n",
      "[CV 1/5] END max_depth=4, max_features=sqrt, min_samples_leaf=8; total time=   0.0s\n",
      "[CV 2/5] END max_depth=4, max_features=sqrt, min_samples_leaf=8; total time=   0.0s\n",
      "[CV 3/5] END max_depth=4, max_features=sqrt, min_samples_leaf=8; total time=   0.0s\n",
      "[CV 4/5] END max_depth=4, max_features=sqrt, min_samples_leaf=8; total time=   0.0s\n",
      "[CV 5/5] END max_depth=4, max_features=sqrt, min_samples_leaf=8; total time=   0.0s\n"
     ]
    },
    {
     "data": {
      "text/plain": [
       "DecisionTreeRegressor(max_depth=4, max_features='sqrt', min_samples_leaf=8,\n",
       "                      random_state=123)"
      ]
     },
     "execution_count": 37,
     "metadata": {},
     "output_type": "execute_result"
    }
   ],
   "source": [
    "param_grid = {\n",
    "    'max_features': ['sqrt', 'log2', None],\n",
    "    'max_depth': range(1, 11),\n",
    "    'min_samples_leaf': range(1, 11)\n",
    "}\n",
    "\n",
    "param_grid = {\n",
    "    'max_features': ['sqrt',],\n",
    "    'max_depth': range(4, 5),\n",
    "    'min_samples_leaf': range(8, 9)\n",
    "}\n",
    "\n",
    "dtr = DecisionTreeRegressor(random_state=123)\n",
    "\n",
    "grid_final = GridSearchCV(dtr, param_grid=param_grid, scoring=smape_score, verbose=3)\n",
    "grid_final.fit(train_features, train_target.iloc[:,1])\n",
    "\n",
    "grid_final.best_estimator_"
   ]
  },
  {
   "cell_type": "code",
   "execution_count": 38,
   "metadata": {},
   "outputs": [
    {
     "data": {
      "text/plain": [
       "8.607726888641064"
      ]
     },
     "execution_count": 38,
     "metadata": {},
     "output_type": "execute_result"
    }
   ],
   "source": [
    "-grid_final.best_score_"
   ]
  },
  {
   "cell_type": "code",
   "execution_count": 39,
   "metadata": {},
   "outputs": [
    {
     "data": {
      "text/plain": [
       "9.572784337355639"
      ]
     },
     "execution_count": 39,
     "metadata": {},
     "output_type": "execute_result"
    }
   ],
   "source": [
    "total_smape(grid_rougher.best_score_, grid_final.best_score_)"
   ]
  },
  {
   "cell_type": "markdown",
   "metadata": {},
   "source": [
    "**Вывод:** \n",
    "- *Черновой концентрат* на кросс-валидации лучшей модели тренировочного датасета средняя ошибка составила 11,9%, на тестовом датасете ошибка составила - 8,7%\n",
    "- *Финальный концентрат* на кросс-валидации тренировочного датасета средняя ошибка лучшей модели составила 9,5%\n",
    "- *Итоговое sMAPE* - 9,5%"
   ]
  },
  {
   "cell_type": "markdown",
   "metadata": {},
   "source": [
    "### Случайный лес"
   ]
  },
  {
   "cell_type": "code",
   "execution_count": 40,
   "metadata": {},
   "outputs": [
    {
     "name": "stdout",
     "output_type": "stream",
     "text": [
      "Fitting 5 folds for each of 1 candidates, totalling 5 fits\n",
      "[CV 1/5] END max_depth=4, max_features=log2, n_estimators=300; total time=   3.8s\n",
      "[CV 2/5] END max_depth=4, max_features=log2, n_estimators=300; total time=   3.8s\n",
      "[CV 3/5] END max_depth=4, max_features=log2, n_estimators=300; total time=   3.8s\n",
      "[CV 4/5] END max_depth=4, max_features=log2, n_estimators=300; total time=   3.8s\n",
      "[CV 5/5] END max_depth=4, max_features=log2, n_estimators=300; total time=   3.9s\n"
     ]
    },
    {
     "data": {
      "text/plain": [
       "RandomForestRegressor(max_depth=4, max_features='log2', n_estimators=300,\n",
       "                      random_state=123)"
      ]
     },
     "execution_count": 40,
     "metadata": {},
     "output_type": "execute_result"
    }
   ],
   "source": [
    "param_grid = {\n",
    "    'n_estimators': [100, 200, 300],\n",
    "    'max_features': ['sqrt', 'log2'],\n",
    "    'max_depth': range(1, 10)\n",
    "}\n",
    "\n",
    "param_grid = {\n",
    "    'n_estimators': [300],\n",
    "    'max_features': ['log2'],\n",
    "    'max_depth': range(4, 5)\n",
    "}\n",
    "\n",
    "rfr = RandomForestRegressor(random_state=123)\n",
    "\n",
    "grid_rougher = GridSearchCV(rfr, param_grid=param_grid, scoring=smape_score, verbose=3)\n",
    "grid_rougher.fit(train_features, train_target.iloc[:,0])\n",
    "\n",
    "grid_rougher.best_estimator_"
   ]
  },
  {
   "cell_type": "code",
   "execution_count": 41,
   "metadata": {},
   "outputs": [
    {
     "data": {
      "text/plain": [
       "11.991252889886582"
      ]
     },
     "execution_count": 41,
     "metadata": {},
     "output_type": "execute_result"
    }
   ],
   "source": [
    "-grid_rougher.best_score_"
   ]
  },
  {
   "cell_type": "code",
   "execution_count": 42,
   "metadata": {},
   "outputs": [
    {
     "name": "stdout",
     "output_type": "stream",
     "text": [
      "Fitting 5 folds for each of 1 candidates, totalling 5 fits\n",
      "[CV 1/5] END max_depth=5, max_features=sqrt, n_estimators=300; total time=   6.2s\n",
      "[CV 2/5] END max_depth=5, max_features=sqrt, n_estimators=300; total time=   6.1s\n",
      "[CV 3/5] END max_depth=5, max_features=sqrt, n_estimators=300; total time=   6.1s\n",
      "[CV 4/5] END max_depth=5, max_features=sqrt, n_estimators=300; total time=   6.1s\n",
      "[CV 5/5] END max_depth=5, max_features=sqrt, n_estimators=300; total time=   6.2s\n"
     ]
    },
    {
     "data": {
      "text/plain": [
       "RandomForestRegressor(max_depth=5, max_features='sqrt', n_estimators=300,\n",
       "                      random_state=123)"
      ]
     },
     "execution_count": 42,
     "metadata": {},
     "output_type": "execute_result"
    }
   ],
   "source": [
    "param_grid = {\n",
    "    'n_estimators': [100, 200, 300],\n",
    "    'max_features': ['sqrt', 'log2'],\n",
    "    'max_depth': range(1, 11)\n",
    "}\n",
    "\n",
    "param_grid = {\n",
    "    'n_estimators': [300],\n",
    "    'max_features': ['sqrt'],\n",
    "    'max_depth': range(5, 6)\n",
    "}\n",
    "\n",
    "rfr = RandomForestRegressor(random_state=123)\n",
    "\n",
    "grid_final = GridSearchCV(rfr, param_grid=param_grid, scoring=smape_score, verbose=3)\n",
    "grid_final.fit(train_features, train_target.iloc[:,1])\n",
    "\n",
    "grid_final.best_estimator_"
   ]
  },
  {
   "cell_type": "code",
   "execution_count": 43,
   "metadata": {},
   "outputs": [
    {
     "data": {
      "text/plain": [
       "8.129419693505186"
      ]
     },
     "execution_count": 43,
     "metadata": {},
     "output_type": "execute_result"
    }
   ],
   "source": [
    "-grid_final.best_score_"
   ]
  },
  {
   "cell_type": "code",
   "execution_count": 44,
   "metadata": {},
   "outputs": [
    {
     "data": {
      "text/plain": [
       "9.094877992600535"
      ]
     },
     "execution_count": 44,
     "metadata": {},
     "output_type": "execute_result"
    }
   ],
   "source": [
    "total_smape(grid_rougher.best_score_, grid_final.best_score_)"
   ]
  },
  {
   "cell_type": "markdown",
   "metadata": {},
   "source": [
    "**Вывод:** \n",
    "- *Черновой концентрат* на кросс-валидации лучшей модели тренировочного датасета средняя ошибка составила 12%\n",
    "- *Финальный концентрат* на кросс-валидации тренировочного датасета средняя ошибка составила 8,1%\n",
    "- *Итоговое sMAPE* - 9,1%"
   ]
  },
  {
   "cell_type": "markdown",
   "metadata": {},
   "source": [
    "Лучше всего на тренировочном датасете показала себя модель случайного леса. Опробуем ее на тестовом наборе данных."
   ]
  },
  {
   "cell_type": "code",
   "execution_count": 45,
   "metadata": {
    "scrolled": true
   },
   "outputs": [
    {
     "data": {
      "text/plain": [
       "5.24500327984905"
      ]
     },
     "execution_count": 45,
     "metadata": {},
     "output_type": "execute_result"
    }
   ],
   "source": [
    "predictions_rougher = grid_rougher.best_estimator_.predict(test_features)\n",
    "smape(predictions_rougher, test_target.iloc[:,0])\n",
    "smape_rougher = smape(predictions_rougher, test_target.iloc[:,0])\n",
    "smape_rougher"
   ]
  },
  {
   "cell_type": "code",
   "execution_count": 46,
   "metadata": {
    "scrolled": true
   },
   "outputs": [
    {
     "data": {
      "text/plain": [
       "7.331819176064744"
      ]
     },
     "execution_count": 46,
     "metadata": {},
     "output_type": "execute_result"
    }
   ],
   "source": [
    "predictions_final = grid_final.best_estimator_.predict(test_features)\n",
    "smape_final = smape(predictions_final, test_target.iloc[:,1])\n",
    "smape_final"
   ]
  },
  {
   "cell_type": "code",
   "execution_count": 47,
   "metadata": {},
   "outputs": [
    {
     "data": {
      "text/plain": [
       "6.810115202010821"
      ]
     },
     "execution_count": 47,
     "metadata": {},
     "output_type": "execute_result"
    }
   ],
   "source": [
    "total_smape(smape_rougher, smape_final)"
   ]
  },
  {
   "cell_type": "markdown",
   "metadata": {},
   "source": [
    "**Вывод:**\n",
    "- *sMAPE чернового концентрата (тест)* - 5,2%\n",
    "- *sMAPE итогового концентрата (тест)* - 7,3%\n",
    "- *Итоговое sMAPE* - 6,8%\n",
    "На тестовых данных модель показала лучшее значение целевой метрики, чем на тренировочном сете."
   ]
  },
  {
   "cell_type": "markdown",
   "metadata": {},
   "source": [
    "### Дамми-модель"
   ]
  },
  {
   "cell_type": "code",
   "execution_count": 48,
   "metadata": {},
   "outputs": [
    {
     "data": {
      "text/plain": [
       "6.8736370942914045"
      ]
     },
     "execution_count": 48,
     "metadata": {},
     "output_type": "execute_result"
    }
   ],
   "source": [
    "dr = DummyRegressor()\n",
    "dr.fit(train_features, train_target.iloc[:,0])\n",
    "dummy_preds_rougher = dr.predict(test_features) \n",
    "smape_rougher_d = smape(dummy_preds_rougher, test_target.iloc[:,0])\n",
    "smape_rougher_d"
   ]
  },
  {
   "cell_type": "code",
   "execution_count": 49,
   "metadata": {},
   "outputs": [
    {
     "data": {
      "text/plain": [
       "9.196308770392381"
      ]
     },
     "execution_count": 49,
     "metadata": {},
     "output_type": "execute_result"
    }
   ],
   "source": [
    "dr = DummyRegressor()\n",
    "dr.fit(train_features, train_target.iloc[:,1])\n",
    "dummy_preds_final = dr.predict(test_features) \n",
    "smape_final_d = smape(dummy_preds_final, test_target.iloc[:,1])\n",
    "smape_final_d"
   ]
  },
  {
   "cell_type": "code",
   "execution_count": 50,
   "metadata": {},
   "outputs": [
    {
     "data": {
      "text/plain": [
       "8.615640851367138"
      ]
     },
     "execution_count": 50,
     "metadata": {},
     "output_type": "execute_result"
    }
   ],
   "source": [
    "total_smape(smape_rougher_d, smape_final_d)"
   ]
  },
  {
   "cell_type": "markdown",
   "metadata": {},
   "source": [
    "**Вывод:**\n",
    "- дамми-ошибка предсказания чернового концентрата составила 6,9%, финального концентрата - 9,2%\n",
    "- *Итоговое sMAPE (дамми)* - 8,6%\n",
    "- дамми-модель оказалась хуже, чем лучшая из протестированных моделей."
   ]
  },
  {
   "cell_type": "markdown",
   "metadata": {},
   "source": [
    "**Общий вывод:**\n",
    "- лучшая из протестированных моделей показали результат лучше, чем дамми-регрессия\n",
    "- самой точной оказалась модель случайного леса со следующими параметрами: RandomForestRegressor(max_depth=5, max_features='sqrt', random_state=123), sMAPE чернового концентрата (тестовый набор) - 5,2%, sMAPE финального концентрата - 7,3%. Однако подбор гиперпараметров лучшей модели занял продолжительное время (20-30 мин на каждый целевой признак)"
   ]
  }
 ],
 "metadata": {
  "ExecuteTimeLog": [
   {
    "duration": 2403,
    "start_time": "2023-05-15T18:36:46.249Z"
   },
   {
    "duration": 3223,
    "start_time": "2023-05-15T18:39:28.981Z"
   },
   {
    "duration": 409,
    "start_time": "2023-05-15T18:39:50.446Z"
   },
   {
    "duration": 33,
    "start_time": "2023-05-15T18:40:03.266Z"
   },
   {
    "duration": 22,
    "start_time": "2023-05-15T18:41:27.610Z"
   },
   {
    "duration": 30,
    "start_time": "2023-05-15T18:41:58.222Z"
   },
   {
    "duration": 252,
    "start_time": "2023-05-15T18:43:35.464Z"
   },
   {
    "duration": 76383,
    "start_time": "2023-05-15T18:43:41.866Z"
   },
   {
    "duration": 633,
    "start_time": "2023-05-15T18:51:16.688Z"
   },
   {
    "duration": 23,
    "start_time": "2023-05-15T19:11:27.898Z"
   },
   {
    "duration": 11,
    "start_time": "2023-05-15T19:12:24.255Z"
   },
   {
    "duration": 14,
    "start_time": "2023-05-15T19:12:41.388Z"
   },
   {
    "duration": 15,
    "start_time": "2023-05-15T19:43:26.302Z"
   },
   {
    "duration": 6,
    "start_time": "2023-05-15T19:44:27.313Z"
   },
   {
    "duration": 7,
    "start_time": "2023-05-15T19:45:42.107Z"
   },
   {
    "duration": 1560,
    "start_time": "2023-05-16T06:41:16.696Z"
   },
   {
    "duration": 3122,
    "start_time": "2023-05-16T06:41:21.615Z"
   },
   {
    "duration": 21,
    "start_time": "2023-05-16T06:41:24.739Z"
   },
   {
    "duration": 17,
    "start_time": "2023-05-16T06:41:25.122Z"
   },
   {
    "duration": 15,
    "start_time": "2023-05-16T06:41:27.687Z"
   },
   {
    "duration": 12,
    "start_time": "2023-05-16T06:41:31.712Z"
   },
   {
    "duration": 12,
    "start_time": "2023-05-16T06:41:34.170Z"
   },
   {
    "duration": 5,
    "start_time": "2023-05-16T06:41:36.589Z"
   },
   {
    "duration": 16,
    "start_time": "2023-05-16T06:46:01.212Z"
   },
   {
    "duration": 189,
    "start_time": "2023-05-16T06:46:36.658Z"
   },
   {
    "duration": 16,
    "start_time": "2023-05-16T06:46:59.270Z"
   },
   {
    "duration": 12,
    "start_time": "2023-05-16T06:47:59.001Z"
   },
   {
    "duration": 8,
    "start_time": "2023-05-16T06:49:48.992Z"
   },
   {
    "duration": 8,
    "start_time": "2023-05-16T06:49:52.955Z"
   },
   {
    "duration": 10,
    "start_time": "2023-05-16T06:50:19.684Z"
   },
   {
    "duration": 9,
    "start_time": "2023-05-16T06:52:09.493Z"
   },
   {
    "duration": 1385,
    "start_time": "2023-05-16T06:53:00.070Z"
   },
   {
    "duration": 1335,
    "start_time": "2023-05-16T06:53:21.259Z"
   },
   {
    "duration": 8,
    "start_time": "2023-05-16T06:53:40.854Z"
   },
   {
    "duration": 9,
    "start_time": "2023-05-16T07:03:12.670Z"
   },
   {
    "duration": 6,
    "start_time": "2023-05-16T07:03:38.659Z"
   },
   {
    "duration": 770,
    "start_time": "2023-05-16T07:03:52.027Z"
   },
   {
    "duration": 29,
    "start_time": "2023-05-16T07:03:54.346Z"
   },
   {
    "duration": 22,
    "start_time": "2023-05-16T07:03:55.253Z"
   },
   {
    "duration": 20,
    "start_time": "2023-05-16T07:03:56.067Z"
   },
   {
    "duration": 12,
    "start_time": "2023-05-16T07:04:00.005Z"
   },
   {
    "duration": 13,
    "start_time": "2023-05-16T07:04:02.596Z"
   },
   {
    "duration": 7,
    "start_time": "2023-05-16T07:04:03.851Z"
   },
   {
    "duration": 9,
    "start_time": "2023-05-16T07:04:08.425Z"
   },
   {
    "duration": 8,
    "start_time": "2023-05-16T07:04:12.604Z"
   },
   {
    "duration": 24,
    "start_time": "2023-05-16T07:04:38.655Z"
   },
   {
    "duration": 4,
    "start_time": "2023-05-16T07:05:12.401Z"
   },
   {
    "duration": 9,
    "start_time": "2023-05-16T07:06:10.152Z"
   },
   {
    "duration": 3,
    "start_time": "2023-05-16T07:06:43.106Z"
   },
   {
    "duration": 766,
    "start_time": "2023-05-16T07:06:43.950Z"
   },
   {
    "duration": 20,
    "start_time": "2023-05-16T07:06:45.510Z"
   },
   {
    "duration": 18,
    "start_time": "2023-05-16T07:06:49.859Z"
   },
   {
    "duration": 19,
    "start_time": "2023-05-16T07:06:51.416Z"
   },
   {
    "duration": 9,
    "start_time": "2023-05-16T07:06:53.742Z"
   },
   {
    "duration": 9,
    "start_time": "2023-05-16T07:06:56.152Z"
   },
   {
    "duration": 7,
    "start_time": "2023-05-16T07:06:57.014Z"
   },
   {
    "duration": 5,
    "start_time": "2023-05-16T07:07:27.751Z"
   },
   {
    "duration": 4,
    "start_time": "2023-05-16T07:07:37.551Z"
   },
   {
    "duration": 10,
    "start_time": "2023-05-16T07:07:39.381Z"
   },
   {
    "duration": 7,
    "start_time": "2023-05-16T07:14:34.553Z"
   },
   {
    "duration": 1532,
    "start_time": "2023-05-16T07:16:41.867Z"
   },
   {
    "duration": 7,
    "start_time": "2023-05-16T07:16:58.346Z"
   },
   {
    "duration": 6,
    "start_time": "2023-05-16T07:21:47.117Z"
   },
   {
    "duration": 4,
    "start_time": "2023-05-16T07:22:00.076Z"
   },
   {
    "duration": 18,
    "start_time": "2023-05-16T07:24:13.454Z"
   },
   {
    "duration": 8,
    "start_time": "2023-05-16T07:24:45.673Z"
   },
   {
    "duration": 8,
    "start_time": "2023-05-16T07:24:59.897Z"
   },
   {
    "duration": 10,
    "start_time": "2023-05-16T07:25:17.193Z"
   },
   {
    "duration": 6,
    "start_time": "2023-05-16T07:40:49.600Z"
   },
   {
    "duration": 4,
    "start_time": "2023-05-16T07:49:52.056Z"
   },
   {
    "duration": 22,
    "start_time": "2023-05-16T07:50:14.191Z"
   },
   {
    "duration": 5,
    "start_time": "2023-05-16T07:53:32.795Z"
   },
   {
    "duration": 17,
    "start_time": "2023-05-16T07:53:33.738Z"
   },
   {
    "duration": 3,
    "start_time": "2023-05-16T07:53:52.608Z"
   },
   {
    "duration": 4,
    "start_time": "2023-05-16T07:53:53.742Z"
   },
   {
    "duration": 5,
    "start_time": "2023-05-16T07:54:02.407Z"
   },
   {
    "duration": 4,
    "start_time": "2023-05-16T07:54:03.437Z"
   },
   {
    "duration": 5,
    "start_time": "2023-05-16T07:56:46.499Z"
   },
   {
    "duration": 512,
    "start_time": "2023-05-16T07:56:47.535Z"
   },
   {
    "duration": 94,
    "start_time": "2023-05-16T08:01:19.202Z"
   },
   {
    "duration": 6,
    "start_time": "2023-05-16T08:02:08.438Z"
   },
   {
    "duration": 562,
    "start_time": "2023-05-16T08:02:10.399Z"
   },
   {
    "duration": 6,
    "start_time": "2023-05-16T08:04:21.325Z"
   },
   {
    "duration": 16378,
    "start_time": "2023-05-16T08:04:24.651Z"
   },
   {
    "duration": 5,
    "start_time": "2023-05-16T08:05:16.651Z"
   },
   {
    "duration": 5,
    "start_time": "2023-05-16T08:05:17.470Z"
   },
   {
    "duration": 13302,
    "start_time": "2023-05-16T08:05:18.632Z"
   },
   {
    "duration": 8,
    "start_time": "2023-05-16T08:08:10.159Z"
   },
   {
    "duration": 6,
    "start_time": "2023-05-16T08:08:11.077Z"
   },
   {
    "duration": 4016,
    "start_time": "2023-05-16T08:08:12.275Z"
   },
   {
    "duration": 7,
    "start_time": "2023-05-16T08:08:22.027Z"
   },
   {
    "duration": 4,
    "start_time": "2023-05-16T08:08:22.826Z"
   },
   {
    "duration": 262,
    "start_time": "2023-05-16T08:08:23.821Z"
   },
   {
    "duration": 7,
    "start_time": "2023-05-16T08:10:03.119Z"
   },
   {
    "duration": 15,
    "start_time": "2023-05-16T08:10:04.415Z"
   },
   {
    "duration": 359,
    "start_time": "2023-05-16T08:10:05.226Z"
   },
   {
    "duration": 8,
    "start_time": "2023-05-16T08:11:24.903Z"
   },
   {
    "duration": 9,
    "start_time": "2023-05-16T08:11:25.897Z"
   },
   {
    "duration": 304,
    "start_time": "2023-05-16T08:11:26.736Z"
   },
   {
    "duration": 4,
    "start_time": "2023-05-16T08:12:05.796Z"
   },
   {
    "duration": 4,
    "start_time": "2023-05-16T08:12:06.612Z"
   },
   {
    "duration": 258,
    "start_time": "2023-05-16T08:12:07.431Z"
   },
   {
    "duration": 4,
    "start_time": "2023-05-16T08:12:53.388Z"
   },
   {
    "duration": 4,
    "start_time": "2023-05-16T08:12:54.457Z"
   },
   {
    "duration": 291,
    "start_time": "2023-05-16T08:12:55.173Z"
   },
   {
    "duration": 10,
    "start_time": "2023-05-16T08:13:45.281Z"
   },
   {
    "duration": 4,
    "start_time": "2023-05-16T08:13:46.693Z"
   },
   {
    "duration": 318,
    "start_time": "2023-05-16T08:13:57.425Z"
   },
   {
    "duration": 6,
    "start_time": "2023-05-16T08:14:12.375Z"
   },
   {
    "duration": 5,
    "start_time": "2023-05-16T08:14:13.299Z"
   },
   {
    "duration": 1465,
    "start_time": "2023-05-16T08:14:14.238Z"
   },
   {
    "duration": 4,
    "start_time": "2023-05-16T08:15:05.145Z"
   },
   {
    "duration": 5,
    "start_time": "2023-05-16T08:15:06.092Z"
   },
   {
    "duration": 250,
    "start_time": "2023-05-16T08:15:07.192Z"
   },
   {
    "duration": 4,
    "start_time": "2023-05-16T08:16:18.211Z"
   },
   {
    "duration": 5,
    "start_time": "2023-05-16T08:16:19.384Z"
   },
   {
    "duration": 409,
    "start_time": "2023-05-16T08:16:20.314Z"
   },
   {
    "duration": 5,
    "start_time": "2023-05-16T08:17:25.991Z"
   },
   {
    "duration": 562,
    "start_time": "2023-05-16T08:17:27.394Z"
   },
   {
    "duration": 5,
    "start_time": "2023-05-16T08:17:50.635Z"
   },
   {
    "duration": 4,
    "start_time": "2023-05-16T08:17:51.517Z"
   },
   {
    "duration": 9,
    "start_time": "2023-05-16T08:18:14.990Z"
   },
   {
    "duration": 5,
    "start_time": "2023-05-16T08:18:15.706Z"
   },
   {
    "duration": 664,
    "start_time": "2023-05-16T08:18:17.506Z"
   },
   {
    "duration": 4,
    "start_time": "2023-05-16T08:18:38.735Z"
   },
   {
    "duration": 506,
    "start_time": "2023-05-16T08:18:39.650Z"
   },
   {
    "duration": 14,
    "start_time": "2023-05-16T08:18:47.475Z"
   },
   {
    "duration": 448,
    "start_time": "2023-05-16T08:18:48.607Z"
   },
   {
    "duration": 5,
    "start_time": "2023-05-16T08:19:26.828Z"
   },
   {
    "duration": 508,
    "start_time": "2023-05-16T08:19:29.309Z"
   },
   {
    "duration": 7,
    "start_time": "2023-05-16T08:21:36.178Z"
   },
   {
    "duration": 821,
    "start_time": "2023-05-16T08:21:37.034Z"
   },
   {
    "duration": 5,
    "start_time": "2023-05-16T08:22:00.099Z"
   },
   {
    "duration": 6,
    "start_time": "2023-05-16T08:22:00.947Z"
   },
   {
    "duration": 1877,
    "start_time": "2023-05-16T08:22:02.606Z"
   },
   {
    "duration": 5,
    "start_time": "2023-05-16T08:22:23.750Z"
   },
   {
    "duration": 14,
    "start_time": "2023-05-16T08:22:24.674Z"
   },
   {
    "duration": 2016,
    "start_time": "2023-05-16T08:22:25.633Z"
   },
   {
    "duration": 11,
    "start_time": "2023-05-16T08:22:46.378Z"
   },
   {
    "duration": 4,
    "start_time": "2023-05-16T08:22:47.097Z"
   },
   {
    "duration": 2102,
    "start_time": "2023-05-16T08:22:47.856Z"
   },
   {
    "duration": 1937,
    "start_time": "2023-05-16T08:23:13.432Z"
   },
   {
    "duration": 1809,
    "start_time": "2023-05-16T08:23:38.260Z"
   },
   {
    "duration": 11,
    "start_time": "2023-05-16T08:24:58.603Z"
   },
   {
    "duration": 6,
    "start_time": "2023-05-16T08:24:59.406Z"
   },
   {
    "duration": 4,
    "start_time": "2023-05-16T08:28:06.215Z"
   },
   {
    "duration": 5,
    "start_time": "2023-05-16T08:28:07.400Z"
   },
   {
    "duration": 316,
    "start_time": "2023-05-16T08:28:08.244Z"
   },
   {
    "duration": 5,
    "start_time": "2023-05-16T08:28:30.344Z"
   },
   {
    "duration": 6,
    "start_time": "2023-05-16T08:28:31.232Z"
   },
   {
    "duration": 1860,
    "start_time": "2023-05-16T08:28:32.096Z"
   },
   {
    "duration": 5,
    "start_time": "2023-05-16T08:28:48.733Z"
   },
   {
    "duration": 2010,
    "start_time": "2023-05-16T08:28:49.868Z"
   },
   {
    "duration": 1880,
    "start_time": "2023-05-16T08:29:01.971Z"
   },
   {
    "duration": 5,
    "start_time": "2023-05-16T08:29:59.745Z"
   },
   {
    "duration": 1922,
    "start_time": "2023-05-16T08:30:00.544Z"
   },
   {
    "duration": 5,
    "start_time": "2023-05-16T08:30:14.510Z"
   },
   {
    "duration": 8,
    "start_time": "2023-05-16T08:30:15.394Z"
   },
   {
    "duration": 2024,
    "start_time": "2023-05-16T08:30:16.153Z"
   },
   {
    "duration": 2101,
    "start_time": "2023-05-16T08:30:24.456Z"
   },
   {
    "duration": 2007,
    "start_time": "2023-05-16T08:30:46.503Z"
   },
   {
    "duration": 5,
    "start_time": "2023-05-16T08:31:34.706Z"
   },
   {
    "duration": 1505,
    "start_time": "2023-05-16T08:31:35.587Z"
   },
   {
    "duration": 1577,
    "start_time": "2023-05-16T08:31:44.379Z"
   },
   {
    "duration": 5,
    "start_time": "2023-05-16T08:32:35.091Z"
   },
   {
    "duration": 1558,
    "start_time": "2023-05-16T08:32:36.851Z"
   },
   {
    "duration": 4,
    "start_time": "2023-05-16T08:32:52.396Z"
   },
   {
    "duration": 1486,
    "start_time": "2023-05-16T08:32:53.794Z"
   },
   {
    "duration": 1524,
    "start_time": "2023-05-16T08:33:00.330Z"
   },
   {
    "duration": 1698,
    "start_time": "2023-05-16T08:33:12.159Z"
   },
   {
    "duration": 6,
    "start_time": "2023-05-16T08:34:33.145Z"
   },
   {
    "duration": 1643,
    "start_time": "2023-05-16T08:34:34.071Z"
   },
   {
    "duration": 1598,
    "start_time": "2023-05-16T08:34:38.212Z"
   },
   {
    "duration": 1712,
    "start_time": "2023-05-16T08:34:39.813Z"
   },
   {
    "duration": 4,
    "start_time": "2023-05-16T08:42:03.607Z"
   },
   {
    "duration": 8,
    "start_time": "2023-05-16T08:45:26.344Z"
   },
   {
    "duration": 6,
    "start_time": "2023-05-16T08:46:47.856Z"
   },
   {
    "duration": 4,
    "start_time": "2023-05-16T08:55:47.077Z"
   },
   {
    "duration": 5,
    "start_time": "2023-05-16T08:56:22.625Z"
   },
   {
    "duration": 6,
    "start_time": "2023-05-16T08:56:34.602Z"
   },
   {
    "duration": 5,
    "start_time": "2023-05-16T08:59:06.949Z"
   },
   {
    "duration": 9,
    "start_time": "2023-05-16T08:59:09.171Z"
   },
   {
    "duration": 7,
    "start_time": "2023-05-16T08:59:19.670Z"
   },
   {
    "duration": 8,
    "start_time": "2023-05-16T08:59:29.207Z"
   },
   {
    "duration": 4,
    "start_time": "2023-05-16T08:59:42.977Z"
   },
   {
    "duration": 9,
    "start_time": "2023-05-16T08:59:45.446Z"
   },
   {
    "duration": 5,
    "start_time": "2023-05-16T09:00:30.945Z"
   },
   {
    "duration": 10,
    "start_time": "2023-05-16T09:00:32.003Z"
   },
   {
    "duration": 8,
    "start_time": "2023-05-16T09:02:42.316Z"
   },
   {
    "duration": 6,
    "start_time": "2023-05-16T09:02:49.094Z"
   },
   {
    "duration": 457,
    "start_time": "2023-05-16T09:02:50.321Z"
   },
   {
    "duration": 6,
    "start_time": "2023-05-16T09:03:10.922Z"
   },
   {
    "duration": 429,
    "start_time": "2023-05-16T09:03:11.993Z"
   },
   {
    "duration": 7,
    "start_time": "2023-05-16T09:05:28.350Z"
   },
   {
    "duration": 462,
    "start_time": "2023-05-16T09:05:29.496Z"
   },
   {
    "duration": 8,
    "start_time": "2023-05-16T09:06:56.723Z"
   },
   {
    "duration": 1004,
    "start_time": "2023-05-16T09:06:57.927Z"
   },
   {
    "duration": 8,
    "start_time": "2023-05-16T09:07:24.858Z"
   },
   {
    "duration": 748,
    "start_time": "2023-05-16T09:07:25.815Z"
   },
   {
    "duration": 9,
    "start_time": "2023-05-16T09:08:41.602Z"
   },
   {
    "duration": 1109,
    "start_time": "2023-05-16T09:08:43.155Z"
   },
   {
    "duration": 12,
    "start_time": "2023-05-16T09:09:35.755Z"
   },
   {
    "duration": 1773,
    "start_time": "2023-05-16T09:09:37.693Z"
   },
   {
    "duration": 12,
    "start_time": "2023-05-16T09:15:44.224Z"
   },
   {
    "duration": 1857,
    "start_time": "2023-05-16T09:15:45.650Z"
   },
   {
    "duration": 10,
    "start_time": "2023-05-16T09:16:22.362Z"
   },
   {
    "duration": 2088,
    "start_time": "2023-05-16T09:16:23.823Z"
   },
   {
    "duration": 12,
    "start_time": "2023-05-16T09:17:16.785Z"
   },
   {
    "duration": 2198,
    "start_time": "2023-05-16T09:17:17.793Z"
   },
   {
    "duration": 59,
    "start_time": "2023-05-26T10:17:33.560Z"
   },
   {
    "duration": 1919,
    "start_time": "2023-05-26T10:17:44.206Z"
   },
   {
    "duration": 4034,
    "start_time": "2023-05-26T10:17:46.128Z"
   },
   {
    "duration": 24,
    "start_time": "2023-05-26T10:17:50.164Z"
   },
   {
    "duration": 22,
    "start_time": "2023-05-26T10:17:50.190Z"
   },
   {
    "duration": 14,
    "start_time": "2023-05-26T10:17:50.216Z"
   },
   {
    "duration": 10,
    "start_time": "2023-05-26T10:17:50.232Z"
   },
   {
    "duration": 47,
    "start_time": "2023-05-26T10:17:50.244Z"
   },
   {
    "duration": 10,
    "start_time": "2023-05-26T10:17:50.294Z"
   },
   {
    "duration": 14,
    "start_time": "2023-05-26T10:17:50.306Z"
   },
   {
    "duration": 7,
    "start_time": "2023-05-26T10:17:50.323Z"
   },
   {
    "duration": 8,
    "start_time": "2023-05-26T10:17:50.332Z"
   },
   {
    "duration": 47,
    "start_time": "2023-05-26T10:17:50.342Z"
   },
   {
    "duration": 5,
    "start_time": "2023-05-26T10:17:50.394Z"
   },
   {
    "duration": 34,
    "start_time": "2023-05-26T10:17:50.402Z"
   },
   {
    "duration": 6,
    "start_time": "2023-05-26T10:17:50.438Z"
   },
   {
    "duration": 23,
    "start_time": "2023-05-26T10:17:50.446Z"
   },
   {
    "duration": 37,
    "start_time": "2023-05-26T10:17:50.470Z"
   },
   {
    "duration": 5,
    "start_time": "2023-05-26T10:17:50.509Z"
   },
   {
    "duration": 13,
    "start_time": "2023-05-26T10:17:50.516Z"
   },
   {
    "duration": 1661,
    "start_time": "2023-05-26T10:17:50.531Z"
   },
   {
    "duration": 1692,
    "start_time": "2023-05-26T10:17:52.195Z"
   },
   {
    "duration": 1797,
    "start_time": "2023-05-26T10:17:53.890Z"
   },
   {
    "duration": 6,
    "start_time": "2023-05-26T10:17:55.694Z"
   },
   {
    "duration": 27,
    "start_time": "2023-05-26T10:17:55.702Z"
   },
   {
    "duration": 1786,
    "start_time": "2023-05-26T10:17:55.731Z"
   },
   {
    "duration": 4,
    "start_time": "2023-05-26T10:17:57.519Z"
   },
   {
    "duration": 152,
    "start_time": "2023-05-26T10:17:57.525Z"
   },
   {
    "duration": 17,
    "start_time": "2023-05-26T10:18:22.023Z"
   },
   {
    "duration": 1394,
    "start_time": "2023-05-26T10:21:37.693Z"
   },
   {
    "duration": 769,
    "start_time": "2023-05-26T10:21:39.088Z"
   },
   {
    "duration": 23,
    "start_time": "2023-05-26T10:21:39.858Z"
   },
   {
    "duration": 15,
    "start_time": "2023-05-26T10:21:39.883Z"
   },
   {
    "duration": 19,
    "start_time": "2023-05-26T10:21:39.899Z"
   },
   {
    "duration": 7,
    "start_time": "2023-05-26T10:21:39.919Z"
   },
   {
    "duration": 8,
    "start_time": "2023-05-26T10:21:39.928Z"
   },
   {
    "duration": 4,
    "start_time": "2023-05-26T10:21:39.938Z"
   },
   {
    "duration": 39,
    "start_time": "2023-05-26T10:21:39.943Z"
   },
   {
    "duration": 5,
    "start_time": "2023-05-26T10:21:39.985Z"
   },
   {
    "duration": 6,
    "start_time": "2023-05-26T10:21:39.992Z"
   },
   {
    "duration": 8,
    "start_time": "2023-05-26T10:21:39.999Z"
   },
   {
    "duration": 6,
    "start_time": "2023-05-26T10:21:40.009Z"
   },
   {
    "duration": 22,
    "start_time": "2023-05-26T10:21:40.016Z"
   },
   {
    "duration": 42,
    "start_time": "2023-05-26T10:21:40.040Z"
   },
   {
    "duration": 14,
    "start_time": "2023-05-26T10:21:40.084Z"
   },
   {
    "duration": 11,
    "start_time": "2023-05-26T10:21:40.101Z"
   },
   {
    "duration": 6,
    "start_time": "2023-05-26T10:21:40.114Z"
   },
   {
    "duration": 24,
    "start_time": "2023-05-26T10:21:40.122Z"
   },
   {
    "duration": 1434,
    "start_time": "2023-05-26T10:21:40.148Z"
   },
   {
    "duration": 1410,
    "start_time": "2023-05-26T10:21:41.584Z"
   },
   {
    "duration": 1496,
    "start_time": "2023-05-26T10:21:42.996Z"
   },
   {
    "duration": 7,
    "start_time": "2023-05-26T10:21:44.494Z"
   },
   {
    "duration": 11,
    "start_time": "2023-05-26T10:21:44.503Z"
   },
   {
    "duration": 1437,
    "start_time": "2023-05-26T10:21:44.515Z"
   },
   {
    "duration": 3,
    "start_time": "2023-05-26T10:21:45.954Z"
   },
   {
    "duration": 191,
    "start_time": "2023-05-26T10:30:24.033Z"
   },
   {
    "duration": 109,
    "start_time": "2023-05-26T10:31:21.020Z"
   },
   {
    "duration": 266,
    "start_time": "2023-05-26T10:31:29.681Z"
   },
   {
    "duration": 170,
    "start_time": "2023-05-26T10:32:32.595Z"
   },
   {
    "duration": 1453,
    "start_time": "2023-05-26T10:36:34.522Z"
   },
   {
    "duration": 794,
    "start_time": "2023-05-26T10:36:35.978Z"
   },
   {
    "duration": 20,
    "start_time": "2023-05-26T10:36:36.774Z"
   },
   {
    "duration": 17,
    "start_time": "2023-05-26T10:36:36.797Z"
   },
   {
    "duration": 13,
    "start_time": "2023-05-26T10:36:36.816Z"
   },
   {
    "duration": 9,
    "start_time": "2023-05-26T10:36:36.831Z"
   },
   {
    "duration": 11,
    "start_time": "2023-05-26T10:36:36.875Z"
   },
   {
    "duration": 19,
    "start_time": "2023-05-26T10:36:36.888Z"
   },
   {
    "duration": 15,
    "start_time": "2023-05-26T10:36:36.909Z"
   },
   {
    "duration": 8,
    "start_time": "2023-05-26T10:36:36.927Z"
   },
   {
    "duration": 15,
    "start_time": "2023-05-26T10:36:36.937Z"
   },
   {
    "duration": 26,
    "start_time": "2023-05-26T10:36:36.953Z"
   },
   {
    "duration": 8,
    "start_time": "2023-05-26T10:36:36.982Z"
   },
   {
    "duration": 28,
    "start_time": "2023-05-26T10:36:36.992Z"
   },
   {
    "duration": 8,
    "start_time": "2023-05-26T10:36:37.022Z"
   },
   {
    "duration": 22,
    "start_time": "2023-05-26T10:36:37.031Z"
   },
   {
    "duration": 26,
    "start_time": "2023-05-26T10:36:37.055Z"
   },
   {
    "duration": 276,
    "start_time": "2023-05-26T10:36:37.082Z"
   },
   {
    "duration": 172,
    "start_time": "2023-05-26T10:36:37.360Z"
   },
   {
    "duration": 4,
    "start_time": "2023-05-26T10:36:37.534Z"
   },
   {
    "duration": 22,
    "start_time": "2023-05-26T10:36:37.539Z"
   },
   {
    "duration": 1602,
    "start_time": "2023-05-26T10:36:37.563Z"
   },
   {
    "duration": 1522,
    "start_time": "2023-05-26T10:36:39.167Z"
   },
   {
    "duration": 1456,
    "start_time": "2023-05-26T10:36:40.691Z"
   },
   {
    "duration": 7,
    "start_time": "2023-05-26T10:36:42.149Z"
   },
   {
    "duration": 30,
    "start_time": "2023-05-26T10:36:42.158Z"
   },
   {
    "duration": 1405,
    "start_time": "2023-05-26T10:36:42.190Z"
   },
   {
    "duration": 3,
    "start_time": "2023-05-26T10:36:43.598Z"
   },
   {
    "duration": 232,
    "start_time": "2023-05-26T10:37:26.565Z"
   },
   {
    "duration": 211,
    "start_time": "2023-05-26T10:37:34.048Z"
   },
   {
    "duration": 8,
    "start_time": "2023-05-26T10:42:41.441Z"
   },
   {
    "duration": 12,
    "start_time": "2023-05-26T10:42:58.842Z"
   },
   {
    "duration": 10,
    "start_time": "2023-05-26T10:43:14.306Z"
   },
   {
    "duration": 10,
    "start_time": "2023-05-26T10:43:29.567Z"
   },
   {
    "duration": 61,
    "start_time": "2023-05-26T10:44:08.784Z"
   },
   {
    "duration": 132,
    "start_time": "2023-05-26T10:45:57.192Z"
   },
   {
    "duration": 59,
    "start_time": "2023-05-26T10:46:50.220Z"
   },
   {
    "duration": 26,
    "start_time": "2023-05-26T10:46:54.362Z"
   },
   {
    "duration": 20,
    "start_time": "2023-05-26T10:47:02.875Z"
   },
   {
    "duration": 44,
    "start_time": "2023-05-26T10:48:14.665Z"
   },
   {
    "duration": 110,
    "start_time": "2023-05-26T10:49:43.770Z"
   },
   {
    "duration": 10,
    "start_time": "2023-05-26T10:50:01.397Z"
   },
   {
    "duration": 61,
    "start_time": "2023-05-26T10:53:31.747Z"
   },
   {
    "duration": 62,
    "start_time": "2023-05-26T10:53:44.025Z"
   },
   {
    "duration": 71,
    "start_time": "2023-05-26T10:53:53.785Z"
   },
   {
    "duration": 88,
    "start_time": "2023-05-26T10:54:10.206Z"
   },
   {
    "duration": 190,
    "start_time": "2023-05-26T10:54:21.367Z"
   },
   {
    "duration": 21,
    "start_time": "2023-05-26T10:55:13.233Z"
   },
   {
    "duration": 13,
    "start_time": "2023-05-26T10:56:19.397Z"
   },
   {
    "duration": 21,
    "start_time": "2023-05-26T10:56:39.547Z"
   },
   {
    "duration": 13,
    "start_time": "2023-05-26T10:57:21.390Z"
   },
   {
    "duration": 29,
    "start_time": "2023-05-26T10:57:35.849Z"
   },
   {
    "duration": 1400,
    "start_time": "2023-05-26T10:57:57.126Z"
   },
   {
    "duration": 835,
    "start_time": "2023-05-26T10:57:58.528Z"
   },
   {
    "duration": 22,
    "start_time": "2023-05-26T10:57:59.365Z"
   },
   {
    "duration": 16,
    "start_time": "2023-05-26T10:57:59.389Z"
   },
   {
    "duration": 12,
    "start_time": "2023-05-26T10:57:59.407Z"
   },
   {
    "duration": 11,
    "start_time": "2023-05-26T10:57:59.421Z"
   },
   {
    "duration": 21,
    "start_time": "2023-05-26T10:57:59.434Z"
   },
   {
    "duration": 32,
    "start_time": "2023-05-26T10:57:59.457Z"
   },
   {
    "duration": 33,
    "start_time": "2023-05-26T10:57:59.491Z"
   },
   {
    "duration": 9,
    "start_time": "2023-05-26T10:57:59.526Z"
   },
   {
    "duration": 8,
    "start_time": "2023-05-26T10:57:59.537Z"
   },
   {
    "duration": 28,
    "start_time": "2023-05-26T10:57:59.546Z"
   },
   {
    "duration": 10,
    "start_time": "2023-05-26T10:57:59.576Z"
   },
   {
    "duration": 53,
    "start_time": "2023-05-26T10:57:59.588Z"
   },
   {
    "duration": 11,
    "start_time": "2023-05-26T10:57:59.643Z"
   },
   {
    "duration": 13,
    "start_time": "2023-05-26T10:57:59.655Z"
   },
   {
    "duration": 9,
    "start_time": "2023-05-26T10:57:59.670Z"
   },
   {
    "duration": 164,
    "start_time": "2023-05-26T10:57:59.681Z"
   },
   {
    "duration": 175,
    "start_time": "2023-05-26T10:57:59.846Z"
   },
   {
    "duration": 21,
    "start_time": "2023-05-26T10:58:00.023Z"
   },
   {
    "duration": 49,
    "start_time": "2023-05-26T10:58:00.046Z"
   },
   {
    "duration": 43,
    "start_time": "2023-05-26T10:58:00.097Z"
   },
   {
    "duration": 13,
    "start_time": "2023-05-26T10:58:00.142Z"
   },
   {
    "duration": 1448,
    "start_time": "2023-05-26T10:58:00.157Z"
   },
   {
    "duration": 1465,
    "start_time": "2023-05-26T10:58:01.606Z"
   },
   {
    "duration": 1567,
    "start_time": "2023-05-26T10:58:03.075Z"
   },
   {
    "duration": 5,
    "start_time": "2023-05-26T10:58:04.644Z"
   },
   {
    "duration": 23,
    "start_time": "2023-05-26T10:58:04.652Z"
   },
   {
    "duration": 1434,
    "start_time": "2023-05-26T10:58:04.677Z"
   },
   {
    "duration": 3,
    "start_time": "2023-05-26T10:58:06.113Z"
   },
   {
    "duration": 17,
    "start_time": "2023-05-26T10:58:57.418Z"
   },
   {
    "duration": 15,
    "start_time": "2023-05-26T10:59:03.872Z"
   },
   {
    "duration": 15,
    "start_time": "2023-05-26T10:59:10.726Z"
   },
   {
    "duration": 31,
    "start_time": "2023-05-26T10:59:36.637Z"
   },
   {
    "duration": 48,
    "start_time": "2023-05-26T10:59:53.337Z"
   },
   {
    "duration": 106,
    "start_time": "2023-05-26T11:05:59.576Z"
   },
   {
    "duration": 5,
    "start_time": "2023-05-26T11:06:29.920Z"
   },
   {
    "duration": 9325,
    "start_time": "2023-05-26T11:06:36.740Z"
   },
   {
    "duration": 7248,
    "start_time": "2023-05-26T11:08:10.378Z"
   },
   {
    "duration": 284,
    "start_time": "2023-05-26T11:08:48.725Z"
   },
   {
    "duration": 196,
    "start_time": "2023-05-26T11:09:10.040Z"
   },
   {
    "duration": 169,
    "start_time": "2023-05-26T11:09:40.408Z"
   },
   {
    "duration": 125,
    "start_time": "2023-05-26T11:11:29.504Z"
   },
   {
    "duration": 26,
    "start_time": "2023-05-26T11:11:41.462Z"
   },
   {
    "duration": 2035,
    "start_time": "2023-05-26T11:12:00.271Z"
   },
   {
    "duration": 805,
    "start_time": "2023-05-26T11:12:02.308Z"
   },
   {
    "duration": 20,
    "start_time": "2023-05-26T11:12:03.115Z"
   },
   {
    "duration": 21,
    "start_time": "2023-05-26T11:12:03.138Z"
   },
   {
    "duration": 13,
    "start_time": "2023-05-26T11:12:03.175Z"
   },
   {
    "duration": 7,
    "start_time": "2023-05-26T11:12:03.190Z"
   },
   {
    "duration": 11,
    "start_time": "2023-05-26T11:12:03.198Z"
   },
   {
    "duration": 4,
    "start_time": "2023-05-26T11:12:03.210Z"
   },
   {
    "duration": 8,
    "start_time": "2023-05-26T11:12:03.216Z"
   },
   {
    "duration": 5,
    "start_time": "2023-05-26T11:12:03.227Z"
   },
   {
    "duration": 44,
    "start_time": "2023-05-26T11:12:03.233Z"
   },
   {
    "duration": 7,
    "start_time": "2023-05-26T11:12:03.278Z"
   },
   {
    "duration": 5,
    "start_time": "2023-05-26T11:12:03.287Z"
   },
   {
    "duration": 25,
    "start_time": "2023-05-26T11:12:03.294Z"
   },
   {
    "duration": 6,
    "start_time": "2023-05-26T11:12:03.321Z"
   },
   {
    "duration": 15,
    "start_time": "2023-05-26T11:12:03.329Z"
   },
   {
    "duration": 35,
    "start_time": "2023-05-26T11:12:03.346Z"
   },
   {
    "duration": 279,
    "start_time": "2023-05-26T11:12:03.383Z"
   },
   {
    "duration": 168,
    "start_time": "2023-05-26T11:12:03.664Z"
   },
   {
    "duration": 21,
    "start_time": "2023-05-26T11:12:03.834Z"
   },
   {
    "duration": 39,
    "start_time": "2023-05-26T11:12:03.857Z"
   },
   {
    "duration": 4,
    "start_time": "2023-05-26T11:12:03.898Z"
   },
   {
    "duration": 19,
    "start_time": "2023-05-26T11:12:03.904Z"
   },
   {
    "duration": 2250,
    "start_time": "2023-05-26T11:12:03.925Z"
   },
   {
    "duration": 2152,
    "start_time": "2023-05-26T11:12:06.177Z"
   },
   {
    "duration": 2133,
    "start_time": "2023-05-26T11:12:08.330Z"
   },
   {
    "duration": 11,
    "start_time": "2023-05-26T11:12:10.465Z"
   },
   {
    "duration": 8,
    "start_time": "2023-05-26T11:12:10.480Z"
   },
   {
    "duration": 2142,
    "start_time": "2023-05-26T11:12:10.490Z"
   },
   {
    "duration": 3,
    "start_time": "2023-05-26T11:12:12.634Z"
   },
   {
    "duration": 1636,
    "start_time": "2023-05-26T11:12:12.639Z"
   },
   {
    "duration": 113,
    "start_time": "2023-05-26T11:13:35.946Z"
   },
   {
    "duration": 1216,
    "start_time": "2023-05-26T11:15:54.170Z"
   },
   {
    "duration": 13,
    "start_time": "2023-05-26T11:16:09.922Z"
   },
   {
    "duration": 1596,
    "start_time": "2023-05-26T11:22:05.286Z"
   },
   {
    "duration": 23,
    "start_time": "2023-05-26T11:23:20.114Z"
   },
   {
    "duration": 1480,
    "start_time": "2023-05-26T11:24:00.201Z"
   },
   {
    "duration": 1878,
    "start_time": "2023-05-26T11:24:52.929Z"
   },
   {
    "duration": 1096,
    "start_time": "2023-05-26T11:25:22.990Z"
   },
   {
    "duration": 30,
    "start_time": "2023-05-26T11:26:52.885Z"
   },
   {
    "duration": 16,
    "start_time": "2023-05-26T11:27:50.963Z"
   },
   {
    "duration": 2113,
    "start_time": "2023-05-26T11:28:33.776Z"
   },
   {
    "duration": 17,
    "start_time": "2023-05-26T11:28:50.046Z"
   },
   {
    "duration": 1640,
    "start_time": "2023-05-26T11:29:40.341Z"
   },
   {
    "duration": 10,
    "start_time": "2023-05-26T11:30:05.787Z"
   },
   {
    "duration": 5,
    "start_time": "2023-05-26T11:33:47.611Z"
   },
   {
    "duration": 12,
    "start_time": "2023-05-26T11:33:51.727Z"
   },
   {
    "duration": 511627,
    "start_time": "2023-05-26T11:34:08.473Z"
   },
   {
    "duration": 21415,
    "start_time": "2023-05-26T11:43:31.660Z"
   },
   {
    "duration": 1277754,
    "start_time": "2023-05-26T11:44:07.473Z"
   },
   {
    "duration": 1247246,
    "start_time": "2023-05-26T12:05:25.230Z"
   },
   {
    "duration": 15906,
    "start_time": "2023-05-26T12:26:28.606Z"
   },
   {
    "duration": 1282821,
    "start_time": "2023-05-26T12:28:52.496Z"
   },
   {
    "duration": 4153,
    "start_time": "2023-05-26T13:00:31.452Z"
   },
   {
    "duration": 1258942,
    "start_time": "2023-05-26T13:00:48.036Z"
   },
   {
    "duration": 823908,
    "start_time": "2023-05-26T13:25:33.602Z"
   },
   {
    "duration": 10,
    "start_time": "2023-05-26T13:41:05.201Z"
   },
   {
    "duration": 10,
    "start_time": "2023-05-26T13:41:13.909Z"
   },
   {
    "duration": 10,
    "start_time": "2023-05-26T13:41:31.380Z"
   },
   {
    "duration": 4,
    "start_time": "2023-05-26T13:41:51.529Z"
   },
   {
    "duration": 3,
    "start_time": "2023-05-26T13:41:56.063Z"
   },
   {
    "duration": 3,
    "start_time": "2023-05-26T13:42:05.052Z"
   },
   {
    "duration": 1416,
    "start_time": "2023-05-26T13:42:16.460Z"
   },
   {
    "duration": 14,
    "start_time": "2023-05-26T13:42:38.265Z"
   },
   {
    "duration": 1462,
    "start_time": "2023-05-26T13:42:52.822Z"
   },
   {
    "duration": 12,
    "start_time": "2023-05-26T13:43:09.926Z"
   },
   {
    "duration": 84,
    "start_time": "2023-05-26T13:43:24.993Z"
   },
   {
    "duration": 32,
    "start_time": "2023-05-26T13:44:31.451Z"
   },
   {
    "duration": 2101,
    "start_time": "2023-05-26T13:45:17.576Z"
   },
   {
    "duration": 18,
    "start_time": "2023-05-26T13:45:30.754Z"
   },
   {
    "duration": 10,
    "start_time": "2023-05-26T13:45:59.985Z"
   },
   {
    "duration": 1957,
    "start_time": "2023-05-26T13:46:11.019Z"
   },
   {
    "duration": 1895,
    "start_time": "2023-05-26T13:46:29.186Z"
   },
   {
    "duration": 21,
    "start_time": "2023-05-26T13:46:36.658Z"
   },
   {
    "duration": 1286072,
    "start_time": "2023-05-26T13:46:54.959Z"
   },
   {
    "duration": 10,
    "start_time": "2023-05-26T14:09:06.290Z"
   },
   {
    "duration": 37,
    "start_time": "2023-05-26T14:11:40.711Z"
   },
   {
    "duration": 29,
    "start_time": "2023-05-26T14:12:08.447Z"
   },
   {
    "duration": 1280153,
    "start_time": "2023-05-26T14:14:50.053Z"
   },
   {
    "duration": 4,
    "start_time": "2023-05-26T14:37:06.694Z"
   },
   {
    "duration": 39,
    "start_time": "2023-05-26T14:37:09.163Z"
   },
   {
    "duration": 21900,
    "start_time": "2023-05-26T14:41:16.851Z"
   },
   {
    "duration": 5,
    "start_time": "2023-05-26T14:42:31.869Z"
   },
   {
    "duration": 11,
    "start_time": "2023-05-26T14:42:34.102Z"
   },
   {
    "duration": 21512,
    "start_time": "2023-05-26T14:43:28.887Z"
   },
   {
    "duration": 5,
    "start_time": "2023-05-26T14:44:45.267Z"
   },
   {
    "duration": 21594,
    "start_time": "2023-05-26T14:45:52.250Z"
   },
   {
    "duration": 5,
    "start_time": "2023-05-26T14:46:13.846Z"
   },
   {
    "duration": 8,
    "start_time": "2023-05-26T14:46:15.863Z"
   },
   {
    "duration": 4,
    "start_time": "2023-05-26T14:47:16.205Z"
   },
   {
    "duration": 8,
    "start_time": "2023-05-26T14:49:15.457Z"
   },
   {
    "duration": 9,
    "start_time": "2023-05-26T14:49:39.551Z"
   },
   {
    "duration": 194741,
    "start_time": "2023-05-26T14:54:16.450Z"
   },
   {
    "duration": 4,
    "start_time": "2023-05-26T14:57:31.193Z"
   },
   {
    "duration": 8,
    "start_time": "2023-05-26T14:57:31.202Z"
   },
   {
    "duration": 4,
    "start_time": "2023-05-26T14:58:04.703Z"
   },
   {
    "duration": 8,
    "start_time": "2023-05-26T14:58:09.204Z"
   },
   {
    "duration": 194591,
    "start_time": "2023-05-26T14:58:33.719Z"
   },
   {
    "duration": 4,
    "start_time": "2023-05-26T15:01:56.503Z"
   },
   {
    "duration": 7,
    "start_time": "2023-05-26T15:01:57.940Z"
   },
   {
    "duration": 7,
    "start_time": "2023-05-26T15:02:02.239Z"
   },
   {
    "duration": 6,
    "start_time": "2023-05-26T15:02:03.425Z"
   },
   {
    "duration": 34683,
    "start_time": "2023-05-26T15:02:55.308Z"
   },
   {
    "duration": 35903,
    "start_time": "2023-05-26T15:03:29.996Z"
   },
   {
    "duration": 2265445,
    "start_time": "2023-05-26T15:04:05.901Z"
   },
   {
    "duration": 6,
    "start_time": "2023-05-26T15:42:21.165Z"
   },
   {
    "duration": 63,
    "start_time": "2023-05-26T15:42:30.489Z"
   },
   {
    "duration": 4,
    "start_time": "2023-05-26T15:53:03.336Z"
   },
   {
    "duration": 68,
    "start_time": "2023-05-26T15:53:04.259Z"
   },
   {
    "duration": 2173736,
    "start_time": "2023-05-26T15:53:09.183Z"
   },
   {
    "duration": 4,
    "start_time": "2023-05-26T16:31:14.447Z"
   },
   {
    "duration": 61,
    "start_time": "2023-05-26T16:31:16.606Z"
   },
   {
    "duration": 31991,
    "start_time": "2023-05-26T16:45:58.989Z"
   },
   {
    "duration": 4,
    "start_time": "2023-05-26T16:55:17.728Z"
   },
   {
    "duration": 9,
    "start_time": "2023-05-26T16:55:20.174Z"
   },
   {
    "duration": 32349,
    "start_time": "2023-05-26T16:55:24.506Z"
   },
   {
    "duration": 9,
    "start_time": "2023-05-26T17:05:04.274Z"
   },
   {
    "duration": 8,
    "start_time": "2023-05-26T17:05:05.405Z"
   },
   {
    "duration": 7,
    "start_time": "2023-05-26T17:05:07.251Z"
   },
   {
    "duration": 7,
    "start_time": "2023-05-26T17:05:17.500Z"
   },
   {
    "duration": 7,
    "start_time": "2023-05-26T17:07:24.354Z"
   },
   {
    "duration": 7,
    "start_time": "2023-05-26T17:07:25.197Z"
   },
   {
    "duration": 7,
    "start_time": "2023-05-26T17:08:13.435Z"
   },
   {
    "duration": 8,
    "start_time": "2023-05-26T17:08:16.853Z"
   },
   {
    "duration": 1946,
    "start_time": "2023-05-26T17:40:01.834Z"
   },
   {
    "duration": 2194,
    "start_time": "2023-05-26T17:43:07.587Z"
   },
   {
    "duration": 10,
    "start_time": "2023-05-26T17:47:20.746Z"
   },
   {
    "duration": 2359,
    "start_time": "2023-05-26T17:47:32.134Z"
   },
   {
    "duration": 12,
    "start_time": "2023-05-26T17:47:35.987Z"
   },
   {
    "duration": 2385,
    "start_time": "2023-05-26T17:47:39.093Z"
   },
   {
    "duration": 105,
    "start_time": "2023-05-26T17:47:43.075Z"
   },
   {
    "duration": 9,
    "start_time": "2023-05-26T17:48:03.734Z"
   },
   {
    "duration": 5,
    "start_time": "2023-05-26T17:48:08.702Z"
   },
   {
    "duration": 4,
    "start_time": "2023-05-26T17:48:14.839Z"
   },
   {
    "duration": 4,
    "start_time": "2023-05-26T17:51:22.088Z"
   },
   {
    "duration": 32140,
    "start_time": "2023-05-26T17:52:10.688Z"
   },
   {
    "duration": 3,
    "start_time": "2023-05-26T17:52:51.125Z"
   },
   {
    "duration": 8,
    "start_time": "2023-05-26T17:52:59.026Z"
   },
   {
    "duration": 33523,
    "start_time": "2023-05-26T17:53:04.913Z"
   },
   {
    "duration": 4,
    "start_time": "2023-05-26T17:53:38.437Z"
   },
   {
    "duration": 9,
    "start_time": "2023-05-26T17:53:38.443Z"
   },
   {
    "duration": 4,
    "start_time": "2023-05-26T17:54:23.748Z"
   },
   {
    "duration": 4,
    "start_time": "2023-05-26T17:59:49.624Z"
   },
   {
    "duration": 6,
    "start_time": "2023-05-26T18:00:41.791Z"
   },
   {
    "duration": 7,
    "start_time": "2023-05-26T18:00:45.289Z"
   },
   {
    "duration": 7,
    "start_time": "2023-05-26T18:01:00.255Z"
   },
   {
    "duration": 7,
    "start_time": "2023-05-26T18:01:01.308Z"
   },
   {
    "duration": 4,
    "start_time": "2023-05-26T18:01:33.546Z"
   },
   {
    "duration": 13,
    "start_time": "2023-05-27T17:18:14.239Z"
   },
   {
    "duration": 253,
    "start_time": "2023-05-27T17:18:20.717Z"
   },
   {
    "duration": 1643,
    "start_time": "2023-06-01T12:42:15.537Z"
   },
   {
    "duration": 3948,
    "start_time": "2023-06-01T12:42:22.973Z"
   },
   {
    "duration": 107,
    "start_time": "2023-06-01T12:44:47.320Z"
   },
   {
    "duration": 805,
    "start_time": "2023-06-01T12:44:57.236Z"
   },
   {
    "duration": 19,
    "start_time": "2023-06-01T12:45:04.797Z"
   },
   {
    "duration": 16,
    "start_time": "2023-06-01T12:45:21.496Z"
   },
   {
    "duration": 16,
    "start_time": "2023-06-01T12:45:26.091Z"
   },
   {
    "duration": 8,
    "start_time": "2023-06-01T12:45:36.351Z"
   },
   {
    "duration": 15,
    "start_time": "2023-06-01T12:50:21.794Z"
   },
   {
    "duration": 18,
    "start_time": "2023-06-01T12:50:22.963Z"
   },
   {
    "duration": 11,
    "start_time": "2023-06-01T12:50:24.310Z"
   },
   {
    "duration": 6,
    "start_time": "2023-06-01T12:50:27.017Z"
   },
   {
    "duration": 14,
    "start_time": "2023-06-01T12:50:31.730Z"
   },
   {
    "duration": 111,
    "start_time": "2023-06-01T12:50:57.618Z"
   },
   {
    "duration": 808,
    "start_time": "2023-06-01T12:51:13.102Z"
   },
   {
    "duration": 4,
    "start_time": "2023-06-01T12:51:42.861Z"
   },
   {
    "duration": 743,
    "start_time": "2023-06-01T12:51:45.651Z"
   },
   {
    "duration": 16,
    "start_time": "2023-06-01T12:51:47.772Z"
   },
   {
    "duration": 16,
    "start_time": "2023-06-01T12:51:48.642Z"
   },
   {
    "duration": 13,
    "start_time": "2023-06-01T12:51:49.537Z"
   },
   {
    "duration": 6,
    "start_time": "2023-06-01T12:51:51.644Z"
   },
   {
    "duration": 9,
    "start_time": "2023-06-01T12:51:56.339Z"
   },
   {
    "duration": 6,
    "start_time": "2023-06-01T12:51:57.592Z"
   },
   {
    "duration": 10,
    "start_time": "2023-06-01T12:52:02.714Z"
   },
   {
    "duration": 7,
    "start_time": "2023-06-01T12:52:03.857Z"
   },
   {
    "duration": 7,
    "start_time": "2023-06-01T12:52:05.751Z"
   },
   {
    "duration": 5,
    "start_time": "2023-06-01T12:52:16.108Z"
   },
   {
    "duration": 4,
    "start_time": "2023-06-01T12:52:20.280Z"
   },
   {
    "duration": 16,
    "start_time": "2023-06-01T12:52:31.836Z"
   },
   {
    "duration": 7,
    "start_time": "2023-06-01T12:52:33.132Z"
   },
   {
    "duration": 10,
    "start_time": "2023-06-01T12:52:34.360Z"
   },
   {
    "duration": 9,
    "start_time": "2023-06-01T12:52:35.271Z"
   },
   {
    "duration": 29,
    "start_time": "2023-06-01T12:52:39.975Z"
   },
   {
    "duration": 5,
    "start_time": "2023-06-01T12:59:43.508Z"
   },
   {
    "duration": 8,
    "start_time": "2023-06-01T12:59:44.544Z"
   },
   {
    "duration": 8,
    "start_time": "2023-06-01T13:04:04.346Z"
   },
   {
    "duration": 4,
    "start_time": "2023-06-01T13:04:07.110Z"
   },
   {
    "duration": 4,
    "start_time": "2023-06-01T13:04:07.889Z"
   },
   {
    "duration": 1724,
    "start_time": "2023-06-01T13:04:10.599Z"
   },
   {
    "duration": 6,
    "start_time": "2023-06-01T13:05:14.317Z"
   },
   {
    "duration": 1758,
    "start_time": "2023-06-01T13:05:17.737Z"
   },
   {
    "duration": 5,
    "start_time": "2023-06-01T13:05:45.466Z"
   },
   {
    "duration": 1749,
    "start_time": "2023-06-01T13:05:47.637Z"
   },
   {
    "duration": 7,
    "start_time": "2023-06-01T13:06:08.026Z"
   },
   {
    "duration": 1762,
    "start_time": "2023-06-01T13:06:10.471Z"
   },
   {
    "duration": 5,
    "start_time": "2023-06-01T13:06:41.501Z"
   },
   {
    "duration": 1856,
    "start_time": "2023-06-01T13:06:45.768Z"
   },
   {
    "duration": 1776,
    "start_time": "2023-06-01T13:06:54.607Z"
   },
   {
    "duration": 1711,
    "start_time": "2023-06-01T13:07:04.898Z"
   },
   {
    "duration": 5,
    "start_time": "2023-06-01T13:07:49.805Z"
   },
   {
    "duration": 7,
    "start_time": "2023-06-01T13:08:22.183Z"
   },
   {
    "duration": 7,
    "start_time": "2023-06-01T13:09:31.223Z"
   },
   {
    "duration": 5,
    "start_time": "2023-06-01T13:10:04.187Z"
   },
   {
    "duration": 874,
    "start_time": "2023-06-01T13:10:06.343Z"
   },
   {
    "duration": 27,
    "start_time": "2023-06-01T13:10:07.866Z"
   },
   {
    "duration": 26,
    "start_time": "2023-06-01T13:10:08.648Z"
   },
   {
    "duration": 17,
    "start_time": "2023-06-01T13:10:09.279Z"
   },
   {
    "duration": 8,
    "start_time": "2023-06-01T13:10:10.791Z"
   },
   {
    "duration": 13,
    "start_time": "2023-06-01T13:10:15.343Z"
   },
   {
    "duration": 14,
    "start_time": "2023-06-01T13:10:16.181Z"
   },
   {
    "duration": 18,
    "start_time": "2023-06-01T13:10:19.059Z"
   },
   {
    "duration": 9,
    "start_time": "2023-06-01T13:10:19.983Z"
   },
   {
    "duration": 10,
    "start_time": "2023-06-01T13:10:21.105Z"
   },
   {
    "duration": 7,
    "start_time": "2023-06-01T13:10:24.245Z"
   },
   {
    "duration": 4,
    "start_time": "2023-06-01T13:10:25.004Z"
   },
   {
    "duration": 15,
    "start_time": "2023-06-01T13:10:26.768Z"
   },
   {
    "duration": 9,
    "start_time": "2023-06-01T13:10:27.316Z"
   },
   {
    "duration": 10,
    "start_time": "2023-06-01T13:10:28.186Z"
   },
   {
    "duration": 10,
    "start_time": "2023-06-01T13:10:29.075Z"
   },
   {
    "duration": 8,
    "start_time": "2023-06-01T13:10:33.991Z"
   },
   {
    "duration": 7,
    "start_time": "2023-06-01T13:10:34.724Z"
   },
   {
    "duration": 1861,
    "start_time": "2023-06-01T13:10:37.172Z"
   },
   {
    "duration": 2019,
    "start_time": "2023-06-01T13:10:43.815Z"
   },
   {
    "duration": 1814,
    "start_time": "2023-06-01T13:10:49.089Z"
   },
   {
    "duration": 13,
    "start_time": "2023-06-01T13:10:56.186Z"
   },
   {
    "duration": 6,
    "start_time": "2023-06-01T13:23:26.882Z"
   },
   {
    "duration": 6,
    "start_time": "2023-06-01T13:26:56.170Z"
   },
   {
    "duration": 6,
    "start_time": "2023-06-01T13:37:43.247Z"
   },
   {
    "duration": 23,
    "start_time": "2023-06-01T13:38:14.861Z"
   },
   {
    "duration": 9,
    "start_time": "2023-06-01T13:39:52.566Z"
   },
   {
    "duration": 457,
    "start_time": "2023-06-01T13:39:54.384Z"
   },
   {
    "duration": 8,
    "start_time": "2023-06-01T13:41:17.479Z"
   },
   {
    "duration": 525,
    "start_time": "2023-06-01T13:41:19.147Z"
   },
   {
    "duration": 7,
    "start_time": "2023-06-01T13:42:33.172Z"
   },
   {
    "duration": 348,
    "start_time": "2023-06-01T13:42:41.318Z"
   },
   {
    "duration": 9,
    "start_time": "2023-06-01T13:43:32.176Z"
   },
   {
    "duration": 426,
    "start_time": "2023-06-01T13:43:34.208Z"
   },
   {
    "duration": 421,
    "start_time": "2023-06-01T13:45:33.215Z"
   },
   {
    "duration": 450,
    "start_time": "2023-06-01T13:45:50.345Z"
   },
   {
    "duration": 960,
    "start_time": "2023-06-01T13:47:04.780Z"
   },
   {
    "duration": 323,
    "start_time": "2023-06-01T13:54:41.923Z"
   },
   {
    "duration": 686,
    "start_time": "2023-06-01T13:56:37.238Z"
   },
   {
    "duration": 402,
    "start_time": "2023-06-01T13:57:19.468Z"
   },
   {
    "duration": 343,
    "start_time": "2023-06-01T13:59:11.204Z"
   },
   {
    "duration": 327,
    "start_time": "2023-06-01T13:59:26.584Z"
   },
   {
    "duration": 339,
    "start_time": "2023-06-01T14:00:40.194Z"
   },
   {
    "duration": 18,
    "start_time": "2023-06-01T14:03:59.787Z"
   },
   {
    "duration": 15,
    "start_time": "2023-06-01T14:04:00.708Z"
   },
   {
    "duration": 23,
    "start_time": "2023-06-01T14:04:01.653Z"
   },
   {
    "duration": 12,
    "start_time": "2023-06-01T14:04:03.578Z"
   },
   {
    "duration": 15,
    "start_time": "2023-06-01T14:04:07.671Z"
   },
   {
    "duration": 9,
    "start_time": "2023-06-01T14:04:08.483Z"
   },
   {
    "duration": 10,
    "start_time": "2023-06-01T14:04:11.296Z"
   },
   {
    "duration": 10,
    "start_time": "2023-06-01T14:04:12.175Z"
   },
   {
    "duration": 14,
    "start_time": "2023-06-01T14:04:13.089Z"
   },
   {
    "duration": 5,
    "start_time": "2023-06-01T14:04:15.383Z"
   },
   {
    "duration": 5,
    "start_time": "2023-06-01T14:04:16.287Z"
   },
   {
    "duration": 18,
    "start_time": "2023-06-01T14:04:18.084Z"
   },
   {
    "duration": 8,
    "start_time": "2023-06-01T14:04:18.788Z"
   },
   {
    "duration": 9,
    "start_time": "2023-06-01T14:04:19.684Z"
   },
   {
    "duration": 13,
    "start_time": "2023-06-01T14:04:20.501Z"
   },
   {
    "duration": 6,
    "start_time": "2023-06-01T14:04:24.487Z"
   },
   {
    "duration": 6,
    "start_time": "2023-06-01T14:04:25.203Z"
   },
   {
    "duration": 1754,
    "start_time": "2023-06-01T14:04:27.782Z"
   },
   {
    "duration": 1834,
    "start_time": "2023-06-01T14:04:30.072Z"
   },
   {
    "duration": 1801,
    "start_time": "2023-06-01T14:04:32.000Z"
   },
   {
    "duration": 7,
    "start_time": "2023-06-01T14:04:40.309Z"
   },
   {
    "duration": 731,
    "start_time": "2023-06-01T14:04:45.265Z"
   },
   {
    "duration": 373,
    "start_time": "2023-06-01T14:05:01.271Z"
   },
   {
    "duration": 8,
    "start_time": "2023-06-01T14:09:17.648Z"
   },
   {
    "duration": 3,
    "start_time": "2023-06-01T14:09:18.810Z"
   },
   {
    "duration": 18,
    "start_time": "2023-06-01T14:09:19.862Z"
   },
   {
    "duration": 7,
    "start_time": "2023-06-01T14:09:20.600Z"
   },
   {
    "duration": 11,
    "start_time": "2023-06-01T14:09:21.364Z"
   },
   {
    "duration": 9,
    "start_time": "2023-06-01T14:09:22.182Z"
   },
   {
    "duration": 4,
    "start_time": "2023-06-01T14:09:25.117Z"
   },
   {
    "duration": 5,
    "start_time": "2023-06-01T14:09:25.768Z"
   },
   {
    "duration": 1709,
    "start_time": "2023-06-01T14:09:28.060Z"
   },
   {
    "duration": 1710,
    "start_time": "2023-06-01T14:09:29.964Z"
   },
   {
    "duration": 1682,
    "start_time": "2023-06-01T14:09:32.078Z"
   },
   {
    "duration": 9,
    "start_time": "2023-06-01T14:09:36.266Z"
   },
   {
    "duration": 1039,
    "start_time": "2023-06-01T14:09:38.048Z"
   },
   {
    "duration": 1585,
    "start_time": "2023-06-01T14:09:56.889Z"
   },
   {
    "duration": 329,
    "start_time": "2023-06-01T14:10:22.761Z"
   },
   {
    "duration": 6,
    "start_time": "2023-06-01T14:10:24.468Z"
   },
   {
    "duration": 6,
    "start_time": "2023-06-01T14:10:29.872Z"
   },
   {
    "duration": 5,
    "start_time": "2023-06-01T14:10:46.548Z"
   },
   {
    "duration": 768,
    "start_time": "2023-06-01T14:10:48.915Z"
   },
   {
    "duration": 17,
    "start_time": "2023-06-01T14:10:50.668Z"
   },
   {
    "duration": 20,
    "start_time": "2023-06-01T14:10:51.505Z"
   },
   {
    "duration": 18,
    "start_time": "2023-06-01T14:10:52.519Z"
   },
   {
    "duration": 8,
    "start_time": "2023-06-01T14:10:54.494Z"
   },
   {
    "duration": 16,
    "start_time": "2023-06-01T14:11:01.842Z"
   },
   {
    "duration": 7,
    "start_time": "2023-06-01T14:11:03.768Z"
   },
   {
    "duration": 8,
    "start_time": "2023-06-01T14:11:07.366Z"
   },
   {
    "duration": 10,
    "start_time": "2023-06-01T14:11:08.264Z"
   },
   {
    "duration": 7,
    "start_time": "2023-06-01T14:11:09.269Z"
   },
   {
    "duration": 6,
    "start_time": "2023-06-01T14:11:11.001Z"
   },
   {
    "duration": 5,
    "start_time": "2023-06-01T14:11:11.764Z"
   },
   {
    "duration": 16,
    "start_time": "2023-06-01T14:11:13.578Z"
   },
   {
    "duration": 7,
    "start_time": "2023-06-01T14:11:14.566Z"
   },
   {
    "duration": 8,
    "start_time": "2023-06-01T14:11:15.480Z"
   },
   {
    "duration": 10,
    "start_time": "2023-06-01T14:11:16.318Z"
   },
   {
    "duration": 4,
    "start_time": "2023-06-01T14:11:21.769Z"
   },
   {
    "duration": 5,
    "start_time": "2023-06-01T14:11:23.101Z"
   },
   {
    "duration": 1684,
    "start_time": "2023-06-01T14:11:25.211Z"
   },
   {
    "duration": 1763,
    "start_time": "2023-06-01T14:11:28.557Z"
   },
   {
    "duration": 1790,
    "start_time": "2023-06-01T14:11:32.214Z"
   },
   {
    "duration": 7,
    "start_time": "2023-06-01T14:11:37.163Z"
   },
   {
    "duration": 1490,
    "start_time": "2023-06-01T14:11:39.844Z"
   },
   {
    "duration": 7,
    "start_time": "2023-06-01T14:18:02.305Z"
   },
   {
    "duration": 9,
    "start_time": "2023-06-01T14:27:03.310Z"
   },
   {
    "duration": 1440,
    "start_time": "2023-06-01T14:38:24.073Z"
   },
   {
    "duration": 119,
    "start_time": "2023-06-01T14:46:40.268Z"
   },
   {
    "duration": 5,
    "start_time": "2023-06-01T14:46:56.771Z"
   },
   {
    "duration": 3,
    "start_time": "2023-06-01T14:47:05.505Z"
   },
   {
    "duration": 4,
    "start_time": "2023-06-01T14:47:51.006Z"
   },
   {
    "duration": 6,
    "start_time": "2023-06-01T14:47:58.301Z"
   },
   {
    "duration": 4,
    "start_time": "2023-06-01T14:49:24.673Z"
   },
   {
    "duration": 7,
    "start_time": "2023-06-01T14:49:29.082Z"
   },
   {
    "duration": 10,
    "start_time": "2023-06-01T14:50:38.963Z"
   },
   {
    "duration": 9,
    "start_time": "2023-06-01T14:51:00.790Z"
   },
   {
    "duration": 1777,
    "start_time": "2023-06-01T14:51:04.344Z"
   },
   {
    "duration": 33,
    "start_time": "2023-06-01T14:54:54.097Z"
   },
   {
    "duration": 161,
    "start_time": "2023-06-01T14:55:32.166Z"
   },
   {
    "duration": 28,
    "start_time": "2023-06-01T14:55:39.986Z"
   },
   {
    "duration": 6,
    "start_time": "2023-06-01T14:55:51.514Z"
   },
   {
    "duration": 2562,
    "start_time": "2023-06-01T14:55:51.522Z"
   },
   {
    "duration": 26,
    "start_time": "2023-06-01T14:55:54.086Z"
   },
   {
    "duration": 38,
    "start_time": "2023-06-01T14:55:54.115Z"
   },
   {
    "duration": 20,
    "start_time": "2023-06-01T14:55:54.156Z"
   },
   {
    "duration": 9,
    "start_time": "2023-06-01T14:55:54.178Z"
   },
   {
    "duration": 18,
    "start_time": "2023-06-01T14:55:54.190Z"
   },
   {
    "duration": 10,
    "start_time": "2023-06-01T14:55:54.210Z"
   },
   {
    "duration": 30,
    "start_time": "2023-06-01T14:55:54.223Z"
   },
   {
    "duration": 16,
    "start_time": "2023-06-01T14:55:54.255Z"
   },
   {
    "duration": 9,
    "start_time": "2023-06-01T14:55:54.276Z"
   },
   {
    "duration": 7,
    "start_time": "2023-06-01T14:55:54.288Z"
   },
   {
    "duration": 25,
    "start_time": "2023-06-01T14:55:54.299Z"
   },
   {
    "duration": 29,
    "start_time": "2023-06-01T14:55:54.327Z"
   },
   {
    "duration": 51,
    "start_time": "2023-06-01T14:55:54.358Z"
   },
   {
    "duration": 12,
    "start_time": "2023-06-01T14:55:54.411Z"
   },
   {
    "duration": 23,
    "start_time": "2023-06-01T14:55:54.427Z"
   },
   {
    "duration": 12,
    "start_time": "2023-06-01T14:55:54.454Z"
   },
   {
    "duration": 2341,
    "start_time": "2023-06-01T14:55:54.469Z"
   },
   {
    "duration": 2019,
    "start_time": "2023-06-01T14:55:56.812Z"
   },
   {
    "duration": 2081,
    "start_time": "2023-06-01T14:55:58.833Z"
   },
   {
    "duration": 7,
    "start_time": "2023-06-01T14:56:00.916Z"
   },
   {
    "duration": 2189,
    "start_time": "2023-06-01T14:56:00.925Z"
   },
   {
    "duration": 4,
    "start_time": "2023-06-01T14:56:03.116Z"
   },
   {
    "duration": 26,
    "start_time": "2023-06-01T14:56:03.122Z"
   },
   {
    "duration": 28,
    "start_time": "2023-06-01T14:56:03.154Z"
   },
   {
    "duration": 2105,
    "start_time": "2023-06-01T14:56:03.184Z"
   },
   {
    "duration": 220,
    "start_time": "2023-06-01T14:56:08.292Z"
   },
   {
    "duration": 158,
    "start_time": "2023-06-01T14:56:30.175Z"
   },
   {
    "duration": 41,
    "start_time": "2023-06-01T14:56:49.580Z"
   },
   {
    "duration": 21,
    "start_time": "2023-06-01T14:57:26.104Z"
   },
   {
    "duration": 13,
    "start_time": "2023-06-01T14:57:47.997Z"
   },
   {
    "duration": 5,
    "start_time": "2023-06-01T15:01:57.727Z"
   },
   {
    "duration": 4682,
    "start_time": "2023-06-01T15:02:00.372Z"
   },
   {
    "duration": 3756,
    "start_time": "2023-06-01T15:02:09.221Z"
   },
   {
    "duration": 19,
    "start_time": "2023-06-01T15:04:54.354Z"
   },
   {
    "duration": 31049,
    "start_time": "2023-06-01T15:05:02.793Z"
   },
   {
    "duration": 19,
    "start_time": "2023-06-01T15:05:33.852Z"
   },
   {
    "duration": 30305,
    "start_time": "2023-06-01T15:06:26.420Z"
   },
   {
    "duration": 4,
    "start_time": "2023-06-01T15:07:02.607Z"
   },
   {
    "duration": 6,
    "start_time": "2023-06-01T15:07:25.874Z"
   },
   {
    "duration": 4,
    "start_time": "2023-06-01T15:13:10.168Z"
   },
   {
    "duration": 4,
    "start_time": "2023-06-01T15:13:51.298Z"
   },
   {
    "duration": 9,
    "start_time": "2023-06-01T15:17:50.483Z"
   },
   {
    "duration": 8,
    "start_time": "2023-06-01T15:17:51.269Z"
   },
   {
    "duration": 4,
    "start_time": "2023-06-01T15:17:52.019Z"
   },
   {
    "duration": 8,
    "start_time": "2023-06-01T15:25:46.072Z"
   },
   {
    "duration": 1821742,
    "start_time": "2023-06-01T15:32:05.783Z"
   },
   {
    "duration": 4,
    "start_time": "2023-06-01T16:02:27.527Z"
   },
   {
    "duration": 18,
    "start_time": "2023-06-01T16:02:27.533Z"
   },
   {
    "duration": 1830375,
    "start_time": "2023-06-01T16:02:27.553Z"
   },
   {
    "duration": 3,
    "start_time": "2023-06-01T16:32:57.930Z"
   },
   {
    "duration": 4,
    "start_time": "2023-06-01T16:33:04.524Z"
   },
   {
    "duration": 4,
    "start_time": "2023-06-01T16:39:31.376Z"
   },
   {
    "duration": 4,
    "start_time": "2023-06-01T16:39:49.905Z"
   },
   {
    "duration": 1698,
    "start_time": "2023-06-01T20:32:56.094Z"
   },
   {
    "duration": 3673,
    "start_time": "2023-06-01T20:32:57.794Z"
   },
   {
    "duration": 18,
    "start_time": "2023-06-01T20:33:01.469Z"
   },
   {
    "duration": 25,
    "start_time": "2023-06-01T20:33:01.489Z"
   },
   {
    "duration": 12,
    "start_time": "2023-06-01T20:33:01.516Z"
   },
   {
    "duration": 12,
    "start_time": "2023-06-01T20:33:01.530Z"
   },
   {
    "duration": 31,
    "start_time": "2023-06-01T20:33:01.544Z"
   },
   {
    "duration": 29,
    "start_time": "2023-06-01T20:33:01.578Z"
   },
   {
    "duration": 20,
    "start_time": "2023-06-01T20:33:01.609Z"
   },
   {
    "duration": 25,
    "start_time": "2023-06-01T20:33:01.632Z"
   },
   {
    "duration": 38,
    "start_time": "2023-06-01T20:33:01.659Z"
   },
   {
    "duration": 41,
    "start_time": "2023-06-01T20:33:01.699Z"
   },
   {
    "duration": 59,
    "start_time": "2023-06-01T20:33:01.742Z"
   },
   {
    "duration": 23,
    "start_time": "2023-06-01T20:33:01.803Z"
   },
   {
    "duration": 32,
    "start_time": "2023-06-01T20:33:01.828Z"
   },
   {
    "duration": 40,
    "start_time": "2023-06-01T20:33:01.861Z"
   },
   {
    "duration": 26,
    "start_time": "2023-06-01T20:33:01.902Z"
   },
   {
    "duration": 27,
    "start_time": "2023-06-01T20:33:01.929Z"
   },
   {
    "duration": 1494,
    "start_time": "2023-06-01T20:33:01.957Z"
   },
   {
    "duration": 1480,
    "start_time": "2023-06-01T20:33:03.452Z"
   },
   {
    "duration": 1481,
    "start_time": "2023-06-01T20:33:04.934Z"
   },
   {
    "duration": 5,
    "start_time": "2023-06-01T20:33:06.417Z"
   },
   {
    "duration": 1383,
    "start_time": "2023-06-01T20:33:06.423Z"
   },
   {
    "duration": 4,
    "start_time": "2023-06-01T20:33:07.808Z"
   },
   {
    "duration": 8,
    "start_time": "2023-06-01T20:33:07.813Z"
   },
   {
    "duration": 7,
    "start_time": "2023-06-01T20:33:07.823Z"
   },
   {
    "duration": 1394,
    "start_time": "2023-06-01T20:33:07.832Z"
   },
   {
    "duration": 161,
    "start_time": "2023-06-01T20:33:09.229Z"
   },
   {
    "duration": 163,
    "start_time": "2023-06-01T20:33:09.392Z"
   },
   {
    "duration": 27,
    "start_time": "2023-06-01T20:33:09.556Z"
   },
   {
    "duration": 5,
    "start_time": "2023-06-01T20:33:09.585Z"
   },
   {
    "duration": 1688,
    "start_time": "2023-06-01T20:33:09.591Z"
   },
   {
    "duration": 1596,
    "start_time": "2023-06-01T20:33:11.282Z"
   },
   {
    "duration": 4,
    "start_time": "2023-06-01T20:33:21.687Z"
   },
   {
    "duration": 1542,
    "start_time": "2023-06-01T20:33:34.541Z"
   },
   {
    "duration": 1279,
    "start_time": "2023-06-01T20:33:39.699Z"
   },
   {
    "duration": 4,
    "start_time": "2023-06-01T20:33:49.646Z"
   },
   {
    "duration": 25344,
    "start_time": "2023-06-01T20:34:30.709Z"
   },
   {
    "duration": 4,
    "start_time": "2023-06-01T20:34:56.054Z"
   },
   {
    "duration": 24947,
    "start_time": "2023-06-01T20:35:18.475Z"
   },
   {
    "duration": 4,
    "start_time": "2023-06-01T20:35:54.619Z"
   },
   {
    "duration": 3,
    "start_time": "2023-06-01T20:35:57.137Z"
   },
   {
    "duration": 50433,
    "start_time": "2023-06-01T20:37:01.921Z"
   },
   {
    "duration": 0,
    "start_time": "2023-06-01T20:37:52.356Z"
   },
   {
    "duration": 0,
    "start_time": "2023-06-01T20:37:52.357Z"
   },
   {
    "duration": 0,
    "start_time": "2023-06-01T20:37:52.358Z"
   },
   {
    "duration": 0,
    "start_time": "2023-06-01T20:37:52.359Z"
   },
   {
    "duration": 162758,
    "start_time": "2023-06-01T20:38:29.280Z"
   },
   {
    "duration": 5,
    "start_time": "2023-06-01T20:41:12.040Z"
   },
   {
    "duration": 158964,
    "start_time": "2023-06-01T20:41:12.047Z"
   },
   {
    "duration": 4,
    "start_time": "2023-06-01T20:43:51.013Z"
   },
   {
    "duration": 5,
    "start_time": "2023-06-01T20:43:51.018Z"
   },
   {
    "duration": 949015,
    "start_time": "2023-06-01T20:43:51.025Z"
   },
   {
    "duration": 4,
    "start_time": "2023-06-01T20:59:40.041Z"
   },
   {
    "duration": 182495,
    "start_time": "2023-06-01T20:59:40.047Z"
   },
   {
    "duration": 0,
    "start_time": "2023-06-01T21:02:42.545Z"
   },
   {
    "duration": 0,
    "start_time": "2023-06-01T21:02:42.547Z"
   },
   {
    "duration": 1129561,
    "start_time": "2023-06-01T21:03:02.578Z"
   },
   {
    "duration": 4,
    "start_time": "2023-06-01T21:21:52.141Z"
   },
   {
    "duration": 15,
    "start_time": "2023-06-01T21:21:52.146Z"
   },
   {
    "duration": 4,
    "start_time": "2023-06-01T21:23:10.651Z"
   },
   {
    "duration": 4,
    "start_time": "2023-06-01T21:23:12.077Z"
   },
   {
    "duration": 55,
    "start_time": "2023-06-01T21:23:44.520Z"
   },
   {
    "duration": 56,
    "start_time": "2023-06-01T21:24:07.060Z"
   },
   {
    "duration": 24,
    "start_time": "2023-06-01T21:24:08.600Z"
   },
   {
    "duration": 54,
    "start_time": "2023-06-01T21:25:27.041Z"
   },
   {
    "duration": 26,
    "start_time": "2023-06-01T21:25:28.285Z"
   },
   {
    "duration": 10,
    "start_time": "2023-06-01T21:26:00.479Z"
   },
   {
    "duration": 4,
    "start_time": "2023-06-01T21:26:11.843Z"
   },
   {
    "duration": 12,
    "start_time": "2023-06-02T20:34:45.721Z"
   },
   {
    "duration": 2561,
    "start_time": "2023-06-03T04:50:50.316Z"
   },
   {
    "duration": 750,
    "start_time": "2023-06-03T04:50:52.879Z"
   },
   {
    "duration": 24,
    "start_time": "2023-06-03T04:50:53.631Z"
   },
   {
    "duration": 15,
    "start_time": "2023-06-03T04:50:53.657Z"
   },
   {
    "duration": 11,
    "start_time": "2023-06-03T04:50:53.674Z"
   },
   {
    "duration": 8,
    "start_time": "2023-06-03T04:50:53.687Z"
   },
   {
    "duration": 12,
    "start_time": "2023-06-03T04:50:53.696Z"
   },
   {
    "duration": 4,
    "start_time": "2023-06-03T04:50:53.710Z"
   },
   {
    "duration": 36,
    "start_time": "2023-06-03T04:50:53.716Z"
   },
   {
    "duration": 7,
    "start_time": "2023-06-03T04:50:53.756Z"
   },
   {
    "duration": 20,
    "start_time": "2023-06-03T04:50:53.764Z"
   },
   {
    "duration": 13,
    "start_time": "2023-06-03T04:50:53.785Z"
   },
   {
    "duration": 20,
    "start_time": "2023-06-03T04:50:53.800Z"
   },
   {
    "duration": 6,
    "start_time": "2023-06-03T04:50:53.822Z"
   },
   {
    "duration": 24,
    "start_time": "2023-06-03T04:50:53.829Z"
   },
   {
    "duration": 8,
    "start_time": "2023-06-03T04:50:53.855Z"
   },
   {
    "duration": 4,
    "start_time": "2023-06-03T04:50:53.864Z"
   },
   {
    "duration": 6,
    "start_time": "2023-06-03T04:50:53.870Z"
   },
   {
    "duration": 1503,
    "start_time": "2023-06-03T04:50:53.878Z"
   },
   {
    "duration": 1445,
    "start_time": "2023-06-03T04:50:55.383Z"
   },
   {
    "duration": 1439,
    "start_time": "2023-06-03T04:50:56.829Z"
   },
   {
    "duration": 7,
    "start_time": "2023-06-03T04:50:58.270Z"
   },
   {
    "duration": 1384,
    "start_time": "2023-06-03T04:50:58.279Z"
   },
   {
    "duration": 3,
    "start_time": "2023-06-03T04:50:59.666Z"
   },
   {
    "duration": 7,
    "start_time": "2023-06-03T04:50:59.671Z"
   },
   {
    "duration": 8,
    "start_time": "2023-06-03T04:50:59.680Z"
   },
   {
    "duration": 1481,
    "start_time": "2023-06-03T04:50:59.689Z"
   },
   {
    "duration": 172,
    "start_time": "2023-06-03T04:51:01.173Z"
   },
   {
    "duration": 130,
    "start_time": "2023-06-03T04:51:01.346Z"
   },
   {
    "duration": 12,
    "start_time": "2023-06-03T04:51:01.477Z"
   },
   {
    "duration": 22,
    "start_time": "2023-06-03T04:51:01.491Z"
   },
   {
    "duration": 1439,
    "start_time": "2023-06-03T04:51:01.515Z"
   },
   {
    "duration": 1696,
    "start_time": "2023-06-03T04:51:02.956Z"
   },
   {
    "duration": 5,
    "start_time": "2023-06-03T04:51:04.654Z"
   },
   {
    "duration": 808,
    "start_time": "2023-06-03T04:51:04.661Z"
   },
   {
    "duration": 3,
    "start_time": "2023-06-03T04:51:05.471Z"
   },
   {
    "duration": 228,
    "start_time": "2023-06-03T04:51:05.475Z"
   },
   {
    "duration": 4,
    "start_time": "2023-06-03T04:51:05.704Z"
   },
   {
    "duration": 5,
    "start_time": "2023-06-03T04:51:05.709Z"
   },
   {
    "duration": 23885,
    "start_time": "2023-06-03T04:51:05.715Z"
   },
   {
    "duration": 4,
    "start_time": "2023-06-03T04:51:29.601Z"
   },
   {
    "duration": 38482,
    "start_time": "2023-06-03T04:51:29.606Z"
   },
   {
    "duration": 4,
    "start_time": "2023-06-03T04:52:08.089Z"
   },
   {
    "duration": 5,
    "start_time": "2023-06-03T04:52:08.094Z"
   },
   {
    "duration": 71,
    "start_time": "2023-06-03T04:52:08.101Z"
   },
   {
    "duration": 77,
    "start_time": "2023-06-03T04:52:08.173Z"
   },
   {
    "duration": 4,
    "start_time": "2023-06-03T04:52:08.251Z"
   },
   {
    "duration": 7,
    "start_time": "2023-06-03T04:52:08.256Z"
   },
   {
    "duration": 8,
    "start_time": "2023-06-03T04:52:08.264Z"
   },
   {
    "duration": 6,
    "start_time": "2023-06-03T04:52:08.274Z"
   }
  ],
  "kernelspec": {
   "display_name": "Python 3 (ipykernel)",
   "language": "python",
   "name": "python3"
  },
  "language_info": {
   "codemirror_mode": {
    "name": "ipython",
    "version": 3
   },
   "file_extension": ".py",
   "mimetype": "text/x-python",
   "name": "python",
   "nbconvert_exporter": "python",
   "pygments_lexer": "ipython3",
   "version": "3.9.5"
  },
  "toc": {
   "base_numbering": 1,
   "nav_menu": {},
   "number_sections": true,
   "sideBar": true,
   "skip_h1_title": true,
   "title_cell": "Содержание",
   "title_sidebar": "Contents",
   "toc_cell": true,
   "toc_position": {
    "height": "calc(100% - 180px)",
    "left": "10px",
    "top": "150px",
    "width": "165px"
   },
   "toc_section_display": true,
   "toc_window_display": true
  }
 },
 "nbformat": 4,
 "nbformat_minor": 4
}
