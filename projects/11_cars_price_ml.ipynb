{
 "cells": [
  {
   "cell_type": "code",
   "execution_count": null,
   "metadata": {},
   "outputs": [],
   "source": []
  },
  {
   "cell_type": "markdown",
   "metadata": {},
   "source": [
    "# Определение стоимости автомобилей"
   ]
  },
  {
   "cell_type": "markdown",
   "metadata": {},
   "source": [
    "Сервис по продаже автомобилей с пробегом «Не бит, не крашен» разрабатывает приложение для привлечения новых клиентов. В нём можно быстро узнать рыночную стоимость своего автомобиля. В вашем распоряжении исторические данные: технические характеристики, комплектации и цены автомобилей. Вам нужно построить модель для определения стоимости. \n",
    "\n",
    "Заказчику важны:\n",
    "\n",
    "- качество предсказания;\n",
    "- скорость предсказания;\n",
    "- время обучения.\n",
    "\n",
    "**Основные шаги:**\n",
    "- Загрузите данные, путь к файлу: `/datasets/autos.csv`.\n",
    "- Изучите данные. Заполните пропущенные значения и обработайте аномалии в столбцах. Если среди признаков имеются неинформативные, удалите их.\n",
    "- Подготовьте выборки для обучения моделей.\n",
    "- Обучите разные модели, одна из которых — LightGBM, как минимум одна — не бустинг. Для каждой модели попробуйте разные гиперпараметры.\n",
    "- Проанализируйте время обучения, время предсказания и качество моделей.\n",
    "- Опираясь на критерии заказчика, выберете лучшую модель, проверьте её качество на тестовой выборке.\n",
    "\n",
    "**Примечания:**\n",
    "- Для оценки качества моделей применяйте метрику RMSE.\n",
    "- Значение метрики RMSE должно быть меньше 2500.\n",
    "- Самостоятельно освойте библиотеку LightGBM и её средствами постройте модели градиентного бустинга.\n",
    "- Время выполнения ячейки кода Jupyter Notebook можно получить специальной командой. Найдите её.\n",
    "- Модель градиентного бустинга может долго обучаться, поэтому измените у неё только два-три параметра.\n",
    "\n",
    "**Признаки:**\n",
    "- DateCrawled — дата скачивания анкеты из базы\n",
    "- VehicleType — тип автомобильного кузова\n",
    "- RegistrationYear — год регистрации автомобиля\n",
    "- Gearbox — тип коробки передач\n",
    "- Power — мощность (л. с.)\n",
    "- Model — модель автомобиля\n",
    "- Kilometer — пробег (км)\n",
    "- RegistrationMonth — месяц регистрации автомобиля\n",
    "- FuelType — тип топлива\n",
    "- Brand — марка автомобиля\n",
    "- Repaired — была машина в ремонте или нет\n",
    "- DateCreated — дата создания анкеты\n",
    "- NumberOfPictures — количество фотографий автомобиля\n",
    "- PostalCode — почтовый индекс владельца анкеты (пользователя)\n",
    "- LastSeen — дата последней активности пользователя\n",
    "\n",
    "**Целевой признак:**\n",
    "Price — цена (евро)"
   ]
  },
  {
   "cell_type": "markdown",
   "metadata": {},
   "source": [
    "## Подготовка данных"
   ]
  },
  {
   "cell_type": "code",
   "execution_count": 28,
   "metadata": {},
   "outputs": [],
   "source": [
    "import pandas as pd\n",
    "import numpy as np\n",
    "from sklearn.ensemble import RandomForestRegressor\n",
    "from sklearn.linear_model import LinearRegression\n",
    "import lightgbm as lgb\n",
    "from sklearn.metrics import mean_squared_error\n",
    "from sklearn.model_selection import GridSearchCV, train_test_split\n",
    "from sklearn.preprocessing import StandardScaler, OneHotEncoder\n",
    "from category_encoders.m_estimate import MEstimateEncoder"
   ]
  },
  {
   "cell_type": "code",
   "execution_count": 29,
   "metadata": {},
   "outputs": [
    {
     "data": {
      "text/html": [
       "<div>\n",
       "<style scoped>\n",
       "    .dataframe tbody tr th:only-of-type {\n",
       "        vertical-align: middle;\n",
       "    }\n",
       "\n",
       "    .dataframe tbody tr th {\n",
       "        vertical-align: top;\n",
       "    }\n",
       "\n",
       "    .dataframe thead th {\n",
       "        text-align: right;\n",
       "    }\n",
       "</style>\n",
       "<table border=\"1\" class=\"dataframe\">\n",
       "  <thead>\n",
       "    <tr style=\"text-align: right;\">\n",
       "      <th></th>\n",
       "      <th>DateCrawled</th>\n",
       "      <th>Price</th>\n",
       "      <th>VehicleType</th>\n",
       "      <th>RegistrationYear</th>\n",
       "      <th>Gearbox</th>\n",
       "      <th>Power</th>\n",
       "      <th>Model</th>\n",
       "      <th>Kilometer</th>\n",
       "      <th>RegistrationMonth</th>\n",
       "      <th>FuelType</th>\n",
       "      <th>Brand</th>\n",
       "      <th>Repaired</th>\n",
       "      <th>DateCreated</th>\n",
       "      <th>NumberOfPictures</th>\n",
       "      <th>PostalCode</th>\n",
       "      <th>LastSeen</th>\n",
       "    </tr>\n",
       "  </thead>\n",
       "  <tbody>\n",
       "    <tr>\n",
       "      <th>0</th>\n",
       "      <td>2016-03-24 11:52:17</td>\n",
       "      <td>480</td>\n",
       "      <td>NaN</td>\n",
       "      <td>1993</td>\n",
       "      <td>manual</td>\n",
       "      <td>0</td>\n",
       "      <td>golf</td>\n",
       "      <td>150000</td>\n",
       "      <td>0</td>\n",
       "      <td>petrol</td>\n",
       "      <td>volkswagen</td>\n",
       "      <td>NaN</td>\n",
       "      <td>2016-03-24 00:00:00</td>\n",
       "      <td>0</td>\n",
       "      <td>70435</td>\n",
       "      <td>2016-04-07 03:16:57</td>\n",
       "    </tr>\n",
       "    <tr>\n",
       "      <th>1</th>\n",
       "      <td>2016-03-24 10:58:45</td>\n",
       "      <td>18300</td>\n",
       "      <td>coupe</td>\n",
       "      <td>2011</td>\n",
       "      <td>manual</td>\n",
       "      <td>190</td>\n",
       "      <td>NaN</td>\n",
       "      <td>125000</td>\n",
       "      <td>5</td>\n",
       "      <td>gasoline</td>\n",
       "      <td>audi</td>\n",
       "      <td>yes</td>\n",
       "      <td>2016-03-24 00:00:00</td>\n",
       "      <td>0</td>\n",
       "      <td>66954</td>\n",
       "      <td>2016-04-07 01:46:50</td>\n",
       "    </tr>\n",
       "    <tr>\n",
       "      <th>2</th>\n",
       "      <td>2016-03-14 12:52:21</td>\n",
       "      <td>9800</td>\n",
       "      <td>suv</td>\n",
       "      <td>2004</td>\n",
       "      <td>auto</td>\n",
       "      <td>163</td>\n",
       "      <td>grand</td>\n",
       "      <td>125000</td>\n",
       "      <td>8</td>\n",
       "      <td>gasoline</td>\n",
       "      <td>jeep</td>\n",
       "      <td>NaN</td>\n",
       "      <td>2016-03-14 00:00:00</td>\n",
       "      <td>0</td>\n",
       "      <td>90480</td>\n",
       "      <td>2016-04-05 12:47:46</td>\n",
       "    </tr>\n",
       "    <tr>\n",
       "      <th>3</th>\n",
       "      <td>2016-03-17 16:54:04</td>\n",
       "      <td>1500</td>\n",
       "      <td>small</td>\n",
       "      <td>2001</td>\n",
       "      <td>manual</td>\n",
       "      <td>75</td>\n",
       "      <td>golf</td>\n",
       "      <td>150000</td>\n",
       "      <td>6</td>\n",
       "      <td>petrol</td>\n",
       "      <td>volkswagen</td>\n",
       "      <td>no</td>\n",
       "      <td>2016-03-17 00:00:00</td>\n",
       "      <td>0</td>\n",
       "      <td>91074</td>\n",
       "      <td>2016-03-17 17:40:17</td>\n",
       "    </tr>\n",
       "    <tr>\n",
       "      <th>4</th>\n",
       "      <td>2016-03-31 17:25:20</td>\n",
       "      <td>3600</td>\n",
       "      <td>small</td>\n",
       "      <td>2008</td>\n",
       "      <td>manual</td>\n",
       "      <td>69</td>\n",
       "      <td>fabia</td>\n",
       "      <td>90000</td>\n",
       "      <td>7</td>\n",
       "      <td>gasoline</td>\n",
       "      <td>skoda</td>\n",
       "      <td>no</td>\n",
       "      <td>2016-03-31 00:00:00</td>\n",
       "      <td>0</td>\n",
       "      <td>60437</td>\n",
       "      <td>2016-04-06 10:17:21</td>\n",
       "    </tr>\n",
       "  </tbody>\n",
       "</table>\n",
       "</div>"
      ],
      "text/plain": [
       "           DateCrawled  Price VehicleType  RegistrationYear Gearbox  Power  \\\n",
       "0  2016-03-24 11:52:17    480         NaN              1993  manual      0   \n",
       "1  2016-03-24 10:58:45  18300       coupe              2011  manual    190   \n",
       "2  2016-03-14 12:52:21   9800         suv              2004    auto    163   \n",
       "3  2016-03-17 16:54:04   1500       small              2001  manual     75   \n",
       "4  2016-03-31 17:25:20   3600       small              2008  manual     69   \n",
       "\n",
       "   Model  Kilometer  RegistrationMonth  FuelType       Brand Repaired  \\\n",
       "0   golf     150000                  0    petrol  volkswagen      NaN   \n",
       "1    NaN     125000                  5  gasoline        audi      yes   \n",
       "2  grand     125000                  8  gasoline        jeep      NaN   \n",
       "3   golf     150000                  6    petrol  volkswagen       no   \n",
       "4  fabia      90000                  7  gasoline       skoda       no   \n",
       "\n",
       "           DateCreated  NumberOfPictures  PostalCode             LastSeen  \n",
       "0  2016-03-24 00:00:00                 0       70435  2016-04-07 03:16:57  \n",
       "1  2016-03-24 00:00:00                 0       66954  2016-04-07 01:46:50  \n",
       "2  2016-03-14 00:00:00                 0       90480  2016-04-05 12:47:46  \n",
       "3  2016-03-17 00:00:00                 0       91074  2016-03-17 17:40:17  \n",
       "4  2016-03-31 00:00:00                 0       60437  2016-04-06 10:17:21  "
      ]
     },
     "execution_count": 29,
     "metadata": {},
     "output_type": "execute_result"
    }
   ],
   "source": [
    "data = pd.read_csv('/datasets/autos.csv')\n",
    "len_initial_data = data.shape[1]\n",
    "data.head()"
   ]
  },
  {
   "cell_type": "code",
   "execution_count": 30,
   "metadata": {},
   "outputs": [
    {
     "name": "stdout",
     "output_type": "stream",
     "text": [
      "<class 'pandas.core.frame.DataFrame'>\n",
      "RangeIndex: 354369 entries, 0 to 354368\n",
      "Data columns (total 16 columns):\n",
      " #   Column             Non-Null Count   Dtype \n",
      "---  ------             --------------   ----- \n",
      " 0   DateCrawled        354369 non-null  object\n",
      " 1   Price              354369 non-null  int64 \n",
      " 2   VehicleType        316879 non-null  object\n",
      " 3   RegistrationYear   354369 non-null  int64 \n",
      " 4   Gearbox            334536 non-null  object\n",
      " 5   Power              354369 non-null  int64 \n",
      " 6   Model              334664 non-null  object\n",
      " 7   Kilometer          354369 non-null  int64 \n",
      " 8   RegistrationMonth  354369 non-null  int64 \n",
      " 9   FuelType           321474 non-null  object\n",
      " 10  Brand              354369 non-null  object\n",
      " 11  Repaired           283215 non-null  object\n",
      " 12  DateCreated        354369 non-null  object\n",
      " 13  NumberOfPictures   354369 non-null  int64 \n",
      " 14  PostalCode         354369 non-null  int64 \n",
      " 15  LastSeen           354369 non-null  object\n",
      "dtypes: int64(7), object(9)\n",
      "memory usage: 43.3+ MB\n"
     ]
    }
   ],
   "source": [
    "data.info()"
   ]
  },
  {
   "cell_type": "code",
   "execution_count": 31,
   "metadata": {},
   "outputs": [
    {
     "data": {
      "text/html": [
       "<div>\n",
       "<style scoped>\n",
       "    .dataframe tbody tr th:only-of-type {\n",
       "        vertical-align: middle;\n",
       "    }\n",
       "\n",
       "    .dataframe tbody tr th {\n",
       "        vertical-align: top;\n",
       "    }\n",
       "\n",
       "    .dataframe thead th {\n",
       "        text-align: right;\n",
       "    }\n",
       "</style>\n",
       "<table border=\"1\" class=\"dataframe\">\n",
       "  <thead>\n",
       "    <tr style=\"text-align: right;\">\n",
       "      <th></th>\n",
       "      <th>Price</th>\n",
       "      <th>RegistrationYear</th>\n",
       "      <th>Power</th>\n",
       "      <th>Kilometer</th>\n",
       "      <th>RegistrationMonth</th>\n",
       "      <th>NumberOfPictures</th>\n",
       "      <th>PostalCode</th>\n",
       "    </tr>\n",
       "  </thead>\n",
       "  <tbody>\n",
       "    <tr>\n",
       "      <th>count</th>\n",
       "      <td>354369.000000</td>\n",
       "      <td>354369.000000</td>\n",
       "      <td>354369.000000</td>\n",
       "      <td>354369.000000</td>\n",
       "      <td>354369.000000</td>\n",
       "      <td>354369.0</td>\n",
       "      <td>354369.000000</td>\n",
       "    </tr>\n",
       "    <tr>\n",
       "      <th>mean</th>\n",
       "      <td>4416.656776</td>\n",
       "      <td>2004.234448</td>\n",
       "      <td>110.094337</td>\n",
       "      <td>128211.172535</td>\n",
       "      <td>5.714645</td>\n",
       "      <td>0.0</td>\n",
       "      <td>50508.689087</td>\n",
       "    </tr>\n",
       "    <tr>\n",
       "      <th>std</th>\n",
       "      <td>4514.158514</td>\n",
       "      <td>90.227958</td>\n",
       "      <td>189.850405</td>\n",
       "      <td>37905.341530</td>\n",
       "      <td>3.726421</td>\n",
       "      <td>0.0</td>\n",
       "      <td>25783.096248</td>\n",
       "    </tr>\n",
       "    <tr>\n",
       "      <th>min</th>\n",
       "      <td>0.000000</td>\n",
       "      <td>1000.000000</td>\n",
       "      <td>0.000000</td>\n",
       "      <td>5000.000000</td>\n",
       "      <td>0.000000</td>\n",
       "      <td>0.0</td>\n",
       "      <td>1067.000000</td>\n",
       "    </tr>\n",
       "    <tr>\n",
       "      <th>25%</th>\n",
       "      <td>1050.000000</td>\n",
       "      <td>1999.000000</td>\n",
       "      <td>69.000000</td>\n",
       "      <td>125000.000000</td>\n",
       "      <td>3.000000</td>\n",
       "      <td>0.0</td>\n",
       "      <td>30165.000000</td>\n",
       "    </tr>\n",
       "    <tr>\n",
       "      <th>50%</th>\n",
       "      <td>2700.000000</td>\n",
       "      <td>2003.000000</td>\n",
       "      <td>105.000000</td>\n",
       "      <td>150000.000000</td>\n",
       "      <td>6.000000</td>\n",
       "      <td>0.0</td>\n",
       "      <td>49413.000000</td>\n",
       "    </tr>\n",
       "    <tr>\n",
       "      <th>75%</th>\n",
       "      <td>6400.000000</td>\n",
       "      <td>2008.000000</td>\n",
       "      <td>143.000000</td>\n",
       "      <td>150000.000000</td>\n",
       "      <td>9.000000</td>\n",
       "      <td>0.0</td>\n",
       "      <td>71083.000000</td>\n",
       "    </tr>\n",
       "    <tr>\n",
       "      <th>max</th>\n",
       "      <td>20000.000000</td>\n",
       "      <td>9999.000000</td>\n",
       "      <td>20000.000000</td>\n",
       "      <td>150000.000000</td>\n",
       "      <td>12.000000</td>\n",
       "      <td>0.0</td>\n",
       "      <td>99998.000000</td>\n",
       "    </tr>\n",
       "  </tbody>\n",
       "</table>\n",
       "</div>"
      ],
      "text/plain": [
       "               Price  RegistrationYear          Power      Kilometer  \\\n",
       "count  354369.000000     354369.000000  354369.000000  354369.000000   \n",
       "mean     4416.656776       2004.234448     110.094337  128211.172535   \n",
       "std      4514.158514         90.227958     189.850405   37905.341530   \n",
       "min         0.000000       1000.000000       0.000000    5000.000000   \n",
       "25%      1050.000000       1999.000000      69.000000  125000.000000   \n",
       "50%      2700.000000       2003.000000     105.000000  150000.000000   \n",
       "75%      6400.000000       2008.000000     143.000000  150000.000000   \n",
       "max     20000.000000       9999.000000   20000.000000  150000.000000   \n",
       "\n",
       "       RegistrationMonth  NumberOfPictures     PostalCode  \n",
       "count      354369.000000          354369.0  354369.000000  \n",
       "mean            5.714645               0.0   50508.689087  \n",
       "std             3.726421               0.0   25783.096248  \n",
       "min             0.000000               0.0    1067.000000  \n",
       "25%             3.000000               0.0   30165.000000  \n",
       "50%             6.000000               0.0   49413.000000  \n",
       "75%             9.000000               0.0   71083.000000  \n",
       "max            12.000000               0.0   99998.000000  "
      ]
     },
     "execution_count": 31,
     "metadata": {},
     "output_type": "execute_result"
    }
   ],
   "source": [
    "data.describe()"
   ]
  },
  {
   "cell_type": "code",
   "execution_count": 32,
   "metadata": {},
   "outputs": [
    {
     "data": {
      "text/plain": [
       "'2016-04-07 14:36:58'"
      ]
     },
     "execution_count": 32,
     "metadata": {},
     "output_type": "execute_result"
    }
   ],
   "source": [
    "#проверим актуальность выгруженной базы данных\n",
    "data['DateCrawled'].max()"
   ]
  },
  {
   "cell_type": "code",
   "execution_count": 33,
   "metadata": {},
   "outputs": [
    {
     "data": {
      "text/plain": [
       "<AxesSubplot:>"
      ]
     },
     "execution_count": 33,
     "metadata": {},
     "output_type": "execute_result"
    },
    {
     "data": {
      "image/png": "[encoded data removed]",
      "text/plain": [
       "<Figure size 432x288 with 1 Axes>"
      ]
     },
     "metadata": {
      "needs_background": "light"
     },
     "output_type": "display_data"
    }
   ],
   "source": [
    "data['Price'].hist(bins=50)"
   ]
  },
  {
   "cell_type": "markdown",
   "metadata": {},
   "source": [
    "Необходимость очистки от выбросов:\n",
    "- Price - да, поскольку данные сильно смещены вправо, удалим 5% крайних значений\n",
    "- RegistrationYear - да, поскольку минимальное и максимальное значения не похожи на правдоподобные. Поставим минимум на 1940, максимум на 2016 (последняя запись в столбце DateCrawled датирована 2016 г.)\n",
    "- Power - да, поскольку минимальное и максимальное значения не похожи на правдоподобные. Поставим минимум на 60 л.с., максимум на 2000 л.с. (в данный момент такой мощности нет даже у серийных спорткаров)\n",
    "- Kilometer - нет, данные выглядят адекватно\n",
    "- RegistrationMonth, NumberOfPictures, PostalCode в дальнейшем не понадобятся"
   ]
  },
  {
   "cell_type": "code",
   "execution_count": 34,
   "metadata": {},
   "outputs": [],
   "source": [
    "def del_outliers(df, col, lower, upper):\n",
    "    df = df[(df[col] >= lower) & (df[col] <= upper)]\n",
    "    \n",
    "    return df"
   ]
  },
  {
   "cell_type": "code",
   "execution_count": 35,
   "metadata": {},
   "outputs": [
    {
     "data": {
      "text/html": [
       "<div>\n",
       "<style scoped>\n",
       "    .dataframe tbody tr th:only-of-type {\n",
       "        vertical-align: middle;\n",
       "    }\n",
       "\n",
       "    .dataframe tbody tr th {\n",
       "        vertical-align: top;\n",
       "    }\n",
       "\n",
       "    .dataframe thead th {\n",
       "        text-align: right;\n",
       "    }\n",
       "</style>\n",
       "<table border=\"1\" class=\"dataframe\">\n",
       "  <thead>\n",
       "    <tr style=\"text-align: right;\">\n",
       "      <th></th>\n",
       "      <th>Price</th>\n",
       "      <th>RegistrationYear</th>\n",
       "      <th>Power</th>\n",
       "      <th>Kilometer</th>\n",
       "      <th>RegistrationMonth</th>\n",
       "      <th>NumberOfPictures</th>\n",
       "      <th>PostalCode</th>\n",
       "    </tr>\n",
       "  </thead>\n",
       "  <tbody>\n",
       "    <tr>\n",
       "      <th>count</th>\n",
       "      <td>272422.000000</td>\n",
       "      <td>272422.000000</td>\n",
       "      <td>272422.000000</td>\n",
       "      <td>272422.000000</td>\n",
       "      <td>272422.000000</td>\n",
       "      <td>272422.0</td>\n",
       "      <td>272422.000000</td>\n",
       "    </tr>\n",
       "    <tr>\n",
       "      <th>mean</th>\n",
       "      <td>4607.312511</td>\n",
       "      <td>2002.908756</td>\n",
       "      <td>125.225844</td>\n",
       "      <td>129761.601486</td>\n",
       "      <td>5.979190</td>\n",
       "      <td>0.0</td>\n",
       "      <td>51265.899821</td>\n",
       "    </tr>\n",
       "    <tr>\n",
       "      <th>std</th>\n",
       "      <td>4099.267448</td>\n",
       "      <td>6.177780</td>\n",
       "      <td>61.671870</td>\n",
       "      <td>35766.398140</td>\n",
       "      <td>3.593008</td>\n",
       "      <td>0.0</td>\n",
       "      <td>25865.412427</td>\n",
       "    </tr>\n",
       "    <tr>\n",
       "      <th>min</th>\n",
       "      <td>0.000000</td>\n",
       "      <td>1942.000000</td>\n",
       "      <td>60.000000</td>\n",
       "      <td>5000.000000</td>\n",
       "      <td>0.000000</td>\n",
       "      <td>0.0</td>\n",
       "      <td>1067.000000</td>\n",
       "    </tr>\n",
       "    <tr>\n",
       "      <th>25%</th>\n",
       "      <td>1399.000000</td>\n",
       "      <td>1999.000000</td>\n",
       "      <td>88.000000</td>\n",
       "      <td>125000.000000</td>\n",
       "      <td>3.000000</td>\n",
       "      <td>0.0</td>\n",
       "      <td>30916.000000</td>\n",
       "    </tr>\n",
       "    <tr>\n",
       "      <th>50%</th>\n",
       "      <td>3250.000000</td>\n",
       "      <td>2003.000000</td>\n",
       "      <td>116.000000</td>\n",
       "      <td>150000.000000</td>\n",
       "      <td>6.000000</td>\n",
       "      <td>0.0</td>\n",
       "      <td>50354.000000</td>\n",
       "    </tr>\n",
       "    <tr>\n",
       "      <th>75%</th>\n",
       "      <td>6899.000000</td>\n",
       "      <td>2007.000000</td>\n",
       "      <td>150.000000</td>\n",
       "      <td>150000.000000</td>\n",
       "      <td>9.000000</td>\n",
       "      <td>0.0</td>\n",
       "      <td>72160.000000</td>\n",
       "    </tr>\n",
       "    <tr>\n",
       "      <th>max</th>\n",
       "      <td>16900.000000</td>\n",
       "      <td>2016.000000</td>\n",
       "      <td>2000.000000</td>\n",
       "      <td>150000.000000</td>\n",
       "      <td>12.000000</td>\n",
       "      <td>0.0</td>\n",
       "      <td>99998.000000</td>\n",
       "    </tr>\n",
       "  </tbody>\n",
       "</table>\n",
       "</div>"
      ],
      "text/plain": [
       "               Price  RegistrationYear          Power      Kilometer  \\\n",
       "count  272422.000000     272422.000000  272422.000000  272422.000000   \n",
       "mean     4607.312511       2002.908756     125.225844  129761.601486   \n",
       "std      4099.267448          6.177780      61.671870   35766.398140   \n",
       "min         0.000000       1942.000000      60.000000    5000.000000   \n",
       "25%      1399.000000       1999.000000      88.000000  125000.000000   \n",
       "50%      3250.000000       2003.000000     116.000000  150000.000000   \n",
       "75%      6899.000000       2007.000000     150.000000  150000.000000   \n",
       "max     16900.000000       2016.000000    2000.000000  150000.000000   \n",
       "\n",
       "       RegistrationMonth  NumberOfPictures     PostalCode  \n",
       "count      272422.000000          272422.0  272422.000000  \n",
       "mean            5.979190               0.0   51265.899821  \n",
       "std             3.593008               0.0   25865.412427  \n",
       "min             0.000000               0.0    1067.000000  \n",
       "25%             3.000000               0.0   30916.000000  \n",
       "50%             6.000000               0.0   50354.000000  \n",
       "75%             9.000000               0.0   72160.000000  \n",
       "max            12.000000               0.0   99998.000000  "
      ]
     },
     "execution_count": 35,
     "metadata": {},
     "output_type": "execute_result"
    }
   ],
   "source": [
    "lower = data['Price'].quantile(.025)\n",
    "upper = data['Price'].quantile(.975)\n",
    "data = data[(data['Price'] >= lower) & (data['Price'] <= upper)]\n",
    "\n",
    "data = del_outliers(data, 'RegistrationYear', 1940, 2016)\n",
    "data = del_outliers(data, 'Power', 60, 2000)\n",
    "data.describe()"
   ]
  },
  {
   "cell_type": "markdown",
   "metadata": {},
   "source": [
    "Минимальная цена все равно продолжает оставаться равной 0. Поставим нижний порог в 500 евро."
   ]
  },
  {
   "cell_type": "code",
   "execution_count": 36,
   "metadata": {},
   "outputs": [
    {
     "data": {
      "text/html": [
       "<div>\n",
       "<style scoped>\n",
       "    .dataframe tbody tr th:only-of-type {\n",
       "        vertical-align: middle;\n",
       "    }\n",
       "\n",
       "    .dataframe tbody tr th {\n",
       "        vertical-align: top;\n",
       "    }\n",
       "\n",
       "    .dataframe thead th {\n",
       "        text-align: right;\n",
       "    }\n",
       "</style>\n",
       "<table border=\"1\" class=\"dataframe\">\n",
       "  <thead>\n",
       "    <tr style=\"text-align: right;\">\n",
       "      <th></th>\n",
       "      <th>Price</th>\n",
       "      <th>RegistrationYear</th>\n",
       "      <th>Power</th>\n",
       "      <th>Kilometer</th>\n",
       "      <th>RegistrationMonth</th>\n",
       "      <th>NumberOfPictures</th>\n",
       "      <th>PostalCode</th>\n",
       "    </tr>\n",
       "  </thead>\n",
       "  <tbody>\n",
       "    <tr>\n",
       "      <th>count</th>\n",
       "      <td>253939.000000</td>\n",
       "      <td>253939.000000</td>\n",
       "      <td>253939.000000</td>\n",
       "      <td>253939.000000</td>\n",
       "      <td>253939.000000</td>\n",
       "      <td>253939.0</td>\n",
       "      <td>253939.000000</td>\n",
       "    </tr>\n",
       "    <tr>\n",
       "      <th>mean</th>\n",
       "      <td>4928.075542</td>\n",
       "      <td>2003.179720</td>\n",
       "      <td>126.682699</td>\n",
       "      <td>129251.749436</td>\n",
       "      <td>6.071486</td>\n",
       "      <td>0.0</td>\n",
       "      <td>51541.313934</td>\n",
       "    </tr>\n",
       "    <tr>\n",
       "      <th>std</th>\n",
       "      <td>4063.058757</td>\n",
       "      <td>6.065482</td>\n",
       "      <td>60.368677</td>\n",
       "      <td>35791.563535</td>\n",
       "      <td>3.548878</td>\n",
       "      <td>0.0</td>\n",
       "      <td>25785.249829</td>\n",
       "    </tr>\n",
       "    <tr>\n",
       "      <th>min</th>\n",
       "      <td>500.000000</td>\n",
       "      <td>1942.000000</td>\n",
       "      <td>60.000000</td>\n",
       "      <td>5000.000000</td>\n",
       "      <td>0.000000</td>\n",
       "      <td>0.0</td>\n",
       "      <td>1067.000000</td>\n",
       "    </tr>\n",
       "    <tr>\n",
       "      <th>25%</th>\n",
       "      <td>1650.000000</td>\n",
       "      <td>1999.000000</td>\n",
       "      <td>90.000000</td>\n",
       "      <td>125000.000000</td>\n",
       "      <td>3.000000</td>\n",
       "      <td>0.0</td>\n",
       "      <td>31139.000000</td>\n",
       "    </tr>\n",
       "    <tr>\n",
       "      <th>50%</th>\n",
       "      <td>3590.000000</td>\n",
       "      <td>2004.000000</td>\n",
       "      <td>116.000000</td>\n",
       "      <td>150000.000000</td>\n",
       "      <td>6.000000</td>\n",
       "      <td>0.0</td>\n",
       "      <td>50825.000000</td>\n",
       "    </tr>\n",
       "    <tr>\n",
       "      <th>75%</th>\n",
       "      <td>7100.000000</td>\n",
       "      <td>2007.000000</td>\n",
       "      <td>150.000000</td>\n",
       "      <td>150000.000000</td>\n",
       "      <td>9.000000</td>\n",
       "      <td>0.0</td>\n",
       "      <td>72336.000000</td>\n",
       "    </tr>\n",
       "    <tr>\n",
       "      <th>max</th>\n",
       "      <td>16900.000000</td>\n",
       "      <td>2016.000000</td>\n",
       "      <td>2000.000000</td>\n",
       "      <td>150000.000000</td>\n",
       "      <td>12.000000</td>\n",
       "      <td>0.0</td>\n",
       "      <td>99998.000000</td>\n",
       "    </tr>\n",
       "  </tbody>\n",
       "</table>\n",
       "</div>"
      ],
      "text/plain": [
       "               Price  RegistrationYear          Power      Kilometer  \\\n",
       "count  253939.000000     253939.000000  253939.000000  253939.000000   \n",
       "mean     4928.075542       2003.179720     126.682699  129251.749436   \n",
       "std      4063.058757          6.065482      60.368677   35791.563535   \n",
       "min       500.000000       1942.000000      60.000000    5000.000000   \n",
       "25%      1650.000000       1999.000000      90.000000  125000.000000   \n",
       "50%      3590.000000       2004.000000     116.000000  150000.000000   \n",
       "75%      7100.000000       2007.000000     150.000000  150000.000000   \n",
       "max     16900.000000       2016.000000    2000.000000  150000.000000   \n",
       "\n",
       "       RegistrationMonth  NumberOfPictures     PostalCode  \n",
       "count      253939.000000          253939.0  253939.000000  \n",
       "mean            6.071486               0.0   51541.313934  \n",
       "std             3.548878               0.0   25785.249829  \n",
       "min             0.000000               0.0    1067.000000  \n",
       "25%             3.000000               0.0   31139.000000  \n",
       "50%             6.000000               0.0   50825.000000  \n",
       "75%             9.000000               0.0   72336.000000  \n",
       "max            12.000000               0.0   99998.000000  "
      ]
     },
     "execution_count": 36,
     "metadata": {},
     "output_type": "execute_result"
    }
   ],
   "source": [
    "data = data[(data['Price'] >= 500)]\n",
    "data.describe()"
   ]
  },
  {
   "cell_type": "code",
   "execution_count": 37,
   "metadata": {},
   "outputs": [
    {
     "name": "stdout",
     "output_type": "stream",
     "text": [
      "<class 'pandas.core.frame.DataFrame'>\n",
      "Int64Index: 253939 entries, 2 to 354368\n",
      "Data columns (total 16 columns):\n",
      " #   Column             Non-Null Count   Dtype \n",
      "---  ------             --------------   ----- \n",
      " 0   DateCrawled        253939 non-null  object\n",
      " 1   Price              253939 non-null  int64 \n",
      " 2   VehicleType        246196 non-null  object\n",
      " 3   RegistrationYear   253939 non-null  int64 \n",
      " 4   Gearbox            250166 non-null  object\n",
      " 5   Power              253939 non-null  int64 \n",
      " 6   Model              245299 non-null  object\n",
      " 7   Kilometer          253939 non-null  int64 \n",
      " 8   RegistrationMonth  253939 non-null  int64 \n",
      " 9   FuelType           242462 non-null  object\n",
      " 10  Brand              253939 non-null  object\n",
      " 11  Repaired           220570 non-null  object\n",
      " 12  DateCreated        253939 non-null  object\n",
      " 13  NumberOfPictures   253939 non-null  int64 \n",
      " 14  PostalCode         253939 non-null  int64 \n",
      " 15  LastSeen           253939 non-null  object\n",
      "dtypes: int64(7), object(9)\n",
      "memory usage: 32.9+ MB\n"
     ]
    }
   ],
   "source": [
    "data.info()"
   ]
  },
  {
   "cell_type": "code",
   "execution_count": 38,
   "metadata": {},
   "outputs": [
    {
     "data": {
      "text/plain": [
       "Repaired             33369\n",
       "FuelType             11477\n",
       "Model                 8640\n",
       "VehicleType           7743\n",
       "Gearbox               3773\n",
       "DateCrawled              0\n",
       "Price                    0\n",
       "RegistrationYear         0\n",
       "Power                    0\n",
       "Kilometer                0\n",
       "RegistrationMonth        0\n",
       "Brand                    0\n",
       "DateCreated              0\n",
       "NumberOfPictures         0\n",
       "PostalCode               0\n",
       "LastSeen                 0\n",
       "dtype: int64"
      ]
     },
     "execution_count": 38,
     "metadata": {},
     "output_type": "execute_result"
    }
   ],
   "source": [
    "data.isna().sum().sort_values(ascending=False)"
   ]
  },
  {
   "cell_type": "code",
   "execution_count": 39,
   "metadata": {},
   "outputs": [],
   "source": [
    "#делаем заглушку для модели автомобиля, типа автомобиля и факта ремонта - меняем на 'unknown'\n",
    "data[['Model', 'Repaired', 'VehicleType', 'FuelType', 'Gearbox']] = data[['Model', 'Repaired', 'VehicleType', 'FuelType', 'Gearbox']].fillna('unknown')"
   ]
  },
  {
   "cell_type": "code",
   "execution_count": 40,
   "metadata": {},
   "outputs": [
    {
     "data": {
      "text/html": [
       "<div>\n",
       "<style scoped>\n",
       "    .dataframe tbody tr th:only-of-type {\n",
       "        vertical-align: middle;\n",
       "    }\n",
       "\n",
       "    .dataframe tbody tr th {\n",
       "        vertical-align: top;\n",
       "    }\n",
       "\n",
       "    .dataframe thead th {\n",
       "        text-align: right;\n",
       "    }\n",
       "</style>\n",
       "<table border=\"1\" class=\"dataframe\">\n",
       "  <thead>\n",
       "    <tr style=\"text-align: right;\">\n",
       "      <th></th>\n",
       "      <th>Price</th>\n",
       "      <th>RegistrationYear</th>\n",
       "      <th>Power</th>\n",
       "      <th>Kilometer</th>\n",
       "      <th>RegistrationMonth</th>\n",
       "      <th>NumberOfPictures</th>\n",
       "    </tr>\n",
       "  </thead>\n",
       "  <tbody>\n",
       "    <tr>\n",
       "      <th>Price</th>\n",
       "      <td>1.000000</td>\n",
       "      <td>0.502412</td>\n",
       "      <td>0.361884</td>\n",
       "      <td>-0.376547</td>\n",
       "      <td>0.054031</td>\n",
       "      <td>NaN</td>\n",
       "    </tr>\n",
       "    <tr>\n",
       "      <th>RegistrationYear</th>\n",
       "      <td>0.502412</td>\n",
       "      <td>1.000000</td>\n",
       "      <td>0.023872</td>\n",
       "      <td>-0.331625</td>\n",
       "      <td>0.034448</td>\n",
       "      <td>NaN</td>\n",
       "    </tr>\n",
       "    <tr>\n",
       "      <th>Power</th>\n",
       "      <td>0.361884</td>\n",
       "      <td>0.023872</td>\n",
       "      <td>1.000000</td>\n",
       "      <td>0.126571</td>\n",
       "      <td>0.019976</td>\n",
       "      <td>NaN</td>\n",
       "    </tr>\n",
       "    <tr>\n",
       "      <th>Kilometer</th>\n",
       "      <td>-0.376547</td>\n",
       "      <td>-0.331625</td>\n",
       "      <td>0.126571</td>\n",
       "      <td>1.000000</td>\n",
       "      <td>-0.011319</td>\n",
       "      <td>NaN</td>\n",
       "    </tr>\n",
       "    <tr>\n",
       "      <th>RegistrationMonth</th>\n",
       "      <td>0.054031</td>\n",
       "      <td>0.034448</td>\n",
       "      <td>0.019976</td>\n",
       "      <td>-0.011319</td>\n",
       "      <td>1.000000</td>\n",
       "      <td>NaN</td>\n",
       "    </tr>\n",
       "    <tr>\n",
       "      <th>NumberOfPictures</th>\n",
       "      <td>NaN</td>\n",
       "      <td>NaN</td>\n",
       "      <td>NaN</td>\n",
       "      <td>NaN</td>\n",
       "      <td>NaN</td>\n",
       "      <td>NaN</td>\n",
       "    </tr>\n",
       "  </tbody>\n",
       "</table>\n",
       "</div>"
      ],
      "text/plain": [
       "                      Price  RegistrationYear     Power  Kilometer  \\\n",
       "Price              1.000000          0.502412  0.361884  -0.376547   \n",
       "RegistrationYear   0.502412          1.000000  0.023872  -0.331625   \n",
       "Power              0.361884          0.023872  1.000000   0.126571   \n",
       "Kilometer         -0.376547         -0.331625  0.126571   1.000000   \n",
       "RegistrationMonth  0.054031          0.034448  0.019976  -0.011319   \n",
       "NumberOfPictures        NaN               NaN       NaN        NaN   \n",
       "\n",
       "                   RegistrationMonth  NumberOfPictures  \n",
       "Price                       0.054031               NaN  \n",
       "RegistrationYear            0.034448               NaN  \n",
       "Power                       0.019976               NaN  \n",
       "Kilometer                  -0.011319               NaN  \n",
       "RegistrationMonth           1.000000               NaN  \n",
       "NumberOfPictures                 NaN               NaN  "
      ]
     },
     "execution_count": 40,
     "metadata": {},
     "output_type": "execute_result"
    }
   ],
   "source": [
    "data[['Price', 'RegistrationYear', 'Power', 'Kilometer', 'RegistrationMonth', 'NumberOfPictures']].corr()"
   ]
  },
  {
   "cell_type": "markdown",
   "metadata": {},
   "source": [
    "Наблюдаются слабая прямая взаимосвязь цены с годом производства автомобиля и мощностью, слабая обратная взаимосвязь - с пробегом."
   ]
  },
  {
   "cell_type": "code",
   "execution_count": 41,
   "metadata": {},
   "outputs": [],
   "source": [
    "#сравнение категориальных переменных\n",
    "def categories_difference(df, ind_var, dep_var_list):\n",
    "    for dv in dep_var_list:\n",
    "        print(df.groupby(dv, dropna=False)[ind_var].mean().sort_values(ascending=False), '\\n\\n')"
   ]
  },
  {
   "cell_type": "code",
   "execution_count": 42,
   "metadata": {
    "scrolled": true
   },
   "outputs": [
    {
     "name": "stdout",
     "output_type": "stream",
     "text": [
      "VehicleType\n",
      "suv            8412.037464\n",
      "convertible    6468.256085\n",
      "coupe          5804.377622\n",
      "bus            5443.275585\n",
      "wagon          5005.219968\n",
      "sedan          4801.417669\n",
      "other          4148.666018\n",
      "small          3608.031209\n",
      "unknown        3215.323776\n",
      "Name: Price, dtype: float64 \n",
      "\n",
      "\n",
      "Gearbox\n",
      "auto       6691.133576\n",
      "manual     4488.173790\n",
      "unknown    3628.849457\n",
      "Name: Price, dtype: float64 \n",
      "\n",
      "\n",
      "FuelType\n",
      "hybrid      9519.414365\n",
      "electric    8180.440000\n",
      "gasoline    6432.670150\n",
      "cng         4901.061002\n",
      "petrol      4273.483560\n",
      "lpg         4232.264206\n",
      "other       3561.022727\n",
      "unknown     3320.243792\n",
      "Name: Price, dtype: float64 \n",
      "\n",
      "\n",
      "Repaired\n",
      "no         5399.557564\n",
      "unknown    3600.380533\n",
      "yes        2629.290945\n",
      "Name: Price, dtype: float64 \n",
      "\n",
      "\n"
     ]
    }
   ],
   "source": [
    "cat_vars_list = ['VehicleType', 'Gearbox', 'FuelType',\n",
    "       'Repaired']\n",
    "categories_difference(data, 'Price', cat_vars_list)"
   ]
  },
  {
   "cell_type": "code",
   "execution_count": 43,
   "metadata": {},
   "outputs": [
    {
     "data": {
      "text/plain": [
       "Brand          Model            \n",
       "mercedes_benz  gl                   14399.500000\n",
       "audi           q7                   14301.262295\n",
       "               q5                   13892.921569\n",
       "               a5                   13844.782772\n",
       "land_rover     range_rover_sport    13446.515152\n",
       "                                        ...     \n",
       "daihatsu       move                   934.000000\n",
       "lancia         elefantino             933.000000\n",
       "daewoo         lanos                  855.692308\n",
       "trabant        other                  800.000000\n",
       "rover          defender               550.000000\n",
       "Name: Price, Length: 335, dtype: float64"
      ]
     },
     "execution_count": 43,
     "metadata": {},
     "output_type": "execute_result"
    }
   ],
   "source": [
    "#смотрим на разницу цен среди моделей и брендов автомобилей\n",
    "data.groupby(['Brand', 'Model'])['Price'].mean().sort_values(ascending=False)"
   ]
  },
  {
   "cell_type": "code",
   "execution_count": 44,
   "metadata": {},
   "outputs": [
    {
     "name": "stdout",
     "output_type": "stream",
     "text": [
      "<class 'pandas.core.frame.DataFrame'>\n",
      "Int64Index: 253939 entries, 2 to 354368\n",
      "Data columns (total 10 columns):\n",
      " #   Column            Non-Null Count   Dtype \n",
      "---  ------            --------------   ----- \n",
      " 0   Price             253939 non-null  int64 \n",
      " 1   VehicleType       253939 non-null  object\n",
      " 2   RegistrationYear  253939 non-null  int64 \n",
      " 3   Gearbox           253939 non-null  object\n",
      " 4   Power             253939 non-null  int64 \n",
      " 5   Model             253939 non-null  object\n",
      " 6   Kilometer         253939 non-null  int64 \n",
      " 7   FuelType          253939 non-null  object\n",
      " 8   Brand             253939 non-null  object\n",
      " 9   Repaired          253939 non-null  object\n",
      "dtypes: int64(4), object(6)\n",
      "memory usage: 21.3+ MB\n"
     ]
    }
   ],
   "source": [
    "#убираем ненужные столбцы\n",
    "data = data.drop(columns=['DateCrawled', 'RegistrationMonth', 'DateCreated', 'NumberOfPictures', 'PostalCode', 'LastSeen'])\n",
    "data.info()"
   ]
  },
  {
   "cell_type": "code",
   "execution_count": 45,
   "metadata": {},
   "outputs": [
    {
     "data": {
      "text/plain": [
       "33500"
      ]
     },
     "execution_count": 45,
     "metadata": {},
     "output_type": "execute_result"
    }
   ],
   "source": [
    "#проверка на дубликаты\n",
    "data.duplicated().sum()"
   ]
  },
  {
   "cell_type": "code",
   "execution_count": 46,
   "metadata": {},
   "outputs": [
    {
     "data": {
      "text/plain": [
       "0"
      ]
     },
     "execution_count": 46,
     "metadata": {},
     "output_type": "execute_result"
    }
   ],
   "source": [
    "#убираем дубликаты и делаем повторную проверку\n",
    "data = data.drop_duplicates()\n",
    "data.duplicated().sum()"
   ]
  },
  {
   "cell_type": "code",
   "execution_count": 47,
   "metadata": {},
   "outputs": [
    {
     "name": "stdout",
     "output_type": "stream",
     "text": [
      "<class 'pandas.core.frame.DataFrame'>\n",
      "Int64Index: 220439 entries, 2 to 354368\n",
      "Data columns (total 10 columns):\n",
      " #   Column            Non-Null Count   Dtype \n",
      "---  ------            --------------   ----- \n",
      " 0   Price             220439 non-null  int64 \n",
      " 1   VehicleType       220439 non-null  object\n",
      " 2   RegistrationYear  220439 non-null  int64 \n",
      " 3   Gearbox           220439 non-null  object\n",
      " 4   Power             220439 non-null  int64 \n",
      " 5   Model             220439 non-null  object\n",
      " 6   Kilometer         220439 non-null  int64 \n",
      " 7   FuelType          220439 non-null  object\n",
      " 8   Brand             220439 non-null  object\n",
      " 9   Repaired          220439 non-null  object\n",
      "dtypes: int64(4), object(6)\n",
      "memory usage: 18.5+ MB\n"
     ]
    }
   ],
   "source": [
    "#смотрим на получившийся df\n",
    "data.info()"
   ]
  },
  {
   "cell_type": "code",
   "execution_count": 48,
   "metadata": {},
   "outputs": [],
   "source": [
    "#меняем тип переменных на категориальные\n",
    "categories=['VehicleType', 'Gearbox', 'Brand', 'Model', 'Repaired', 'FuelType']\n",
    "data[categories] = data[categories].astype('category')"
   ]
  },
  {
   "cell_type": "code",
   "execution_count": 49,
   "metadata": {},
   "outputs": [
    {
     "name": "stdout",
     "output_type": "stream",
     "text": [
      "После обработки утрачено 37.50%\n"
     ]
    }
   ],
   "source": [
    "len_preprocessed_data = data.shape[1]\n",
    "print(f'После обработки утрачено {(1 - len_preprocessed_data / len_initial_data):.2%}')"
   ]
  },
  {
   "cell_type": "code",
   "execution_count": 50,
   "metadata": {},
   "outputs": [
    {
     "name": "stderr",
     "output_type": "stream",
     "text": [
      "C:\\Users\\artyo\\AppData\\Local\\Temp/ipykernel_20872/1568531135.py:19: SettingWithCopyWarning: \n",
      "A value is trying to be set on a copy of a slice from a DataFrame.\n",
      "Try using .loc[row_indexer,col_indexer] = value instead\n",
      "\n",
      "See the caveats in the documentation: https://pandas.pydata.org/pandas-docs/stable/user_guide/indexing.html#returning-a-view-versus-a-copy\n",
      "  train_features[['RegistrationYear', 'Power', 'Kilometer']] = scaler.fit_transform(train_features[['RegistrationYear', 'Power', 'Kilometer']])\n",
      "C:\\Users\\artyo\\practicum\\practicum_env\\lib\\site-packages\\pandas\\core\\indexing.py:1738: SettingWithCopyWarning: \n",
      "A value is trying to be set on a copy of a slice from a DataFrame.\n",
      "Try using .loc[row_indexer,col_indexer] = value instead\n",
      "\n",
      "See the caveats in the documentation: https://pandas.pydata.org/pandas-docs/stable/user_guide/indexing.html#returning-a-view-versus-a-copy\n",
      "  self._setitem_single_column(loc, value[:, i].tolist(), pi)\n",
      "C:\\Users\\artyo\\AppData\\Local\\Temp/ipykernel_20872/1568531135.py:20: SettingWithCopyWarning: \n",
      "A value is trying to be set on a copy of a slice from a DataFrame.\n",
      "Try using .loc[row_indexer,col_indexer] = value instead\n",
      "\n",
      "See the caveats in the documentation: https://pandas.pydata.org/pandas-docs/stable/user_guide/indexing.html#returning-a-view-versus-a-copy\n",
      "  test_features[['RegistrationYear', 'Power', 'Kilometer']] = scaler.transform(test_features[['RegistrationYear', 'Power', 'Kilometer']])\n",
      "C:\\Users\\artyo\\practicum\\practicum_env\\lib\\site-packages\\pandas\\core\\indexing.py:1738: SettingWithCopyWarning: \n",
      "A value is trying to be set on a copy of a slice from a DataFrame.\n",
      "Try using .loc[row_indexer,col_indexer] = value instead\n",
      "\n",
      "See the caveats in the documentation: https://pandas.pydata.org/pandas-docs/stable/user_guide/indexing.html#returning-a-view-versus-a-copy\n",
      "  self._setitem_single_column(loc, value[:, i].tolist(), pi)\n"
     ]
    },
    {
     "data": {
      "text/plain": [
       "((176351, 24), (44088, 24))"
      ]
     },
     "execution_count": 50,
     "metadata": {},
     "output_type": "execute_result"
    }
   ],
   "source": [
    "#делим данные\n",
    "target = data['Price']\n",
    "features = data.drop(columns=['Price'])\n",
    "train_features, test_features, train_target, test_target = train_test_split(features, target, \n",
    "                                                                                    test_size=.2, \n",
    "                                                                                    random_state=123)\n",
    "\n",
    "#проводим One Hot Encoding, прописываем drop='first', чтобы избавиться от дамми ловушки\n",
    "ohe = OneHotEncoder(drop='first')\n",
    "train_features_ohe = ohe.fit_transform(train_features[['VehicleType', 'Gearbox', 'FuelType', 'Repaired']]).toarray()\n",
    "test_features_ohe = ohe.transform(test_features[['VehicleType', 'Gearbox', 'FuelType', 'Repaired']]).toarray()\n",
    "\n",
    "#проводим Mean Estimator Encoding, чтобы уменьшить число дамми-переменных модели и бренда\n",
    "mee = MEstimateEncoder(random_state=42)\n",
    "train_features_mee = mee.fit_transform(train_features[['Brand', 'Model']], train_target).to_numpy()\n",
    "test_features_mee = mee.transform(test_features[['Brand', 'Model']], test_target).to_numpy()\n",
    "\n",
    "scaler = StandardScaler()\n",
    "train_features[['RegistrationYear', 'Power', 'Kilometer']] = scaler.fit_transform(train_features[['RegistrationYear', 'Power', 'Kilometer']])\n",
    "test_features[['RegistrationYear', 'Power', 'Kilometer']] = scaler.transform(test_features[['RegistrationYear', 'Power', 'Kilometer']])\n",
    "\n",
    "#объединяем закодированные и стандартизированные данные в единый массив (для обучения линейной регрессии и случайного леса)\n",
    "train_features_enc = np.concatenate([train_features_ohe, \n",
    "                                     train_features_mee, \n",
    "                                     train_features[['RegistrationYear', 'Power', 'Kilometer']].to_numpy()], axis=1)\n",
    "test_features_enc = np.concatenate([test_features_ohe, \n",
    "                                    test_features_mee,\n",
    "                                    test_features[['RegistrationYear', 'Power', 'Kilometer']].to_numpy()], axis=1)\n",
    "\n",
    "train_features_enc.shape, test_features_enc.shape"
   ]
  },
  {
   "cell_type": "code",
   "execution_count": null,
   "metadata": {},
   "outputs": [],
   "source": []
  },
  {
   "cell_type": "markdown",
   "metadata": {},
   "source": [
    "**Выводы:**\n",
    "- убраны аномалии в столбцах с числовыми переменными\n",
    "- убраны NA в категориальных переменных\n",
    "- убраны дубликаты\n",
    "- категориальные переменные для целей машинного обучения приведены к типу данных category\n",
    "- в результате обработки датафрейма осталось 69.42% от исходного\n",
    "- данные разделены на обучающую и тестовые выборки"
   ]
  },
  {
   "cell_type": "markdown",
   "metadata": {},
   "source": [
    "## Обучение моделей"
   ]
  },
  {
   "cell_type": "code",
   "execution_count": 51,
   "metadata": {},
   "outputs": [
    {
     "name": "stdout",
     "output_type": "stream",
     "text": [
      "Wall time: 238 ms\n"
     ]
    },
    {
     "data": {
      "text/plain": [
       "LinearRegression()"
      ]
     },
     "execution_count": 51,
     "metadata": {},
     "output_type": "execute_result"
    }
   ],
   "source": [
    "%%time\n",
    "lin_reg = LinearRegression()\n",
    "lin_reg.fit(train_features_enc, train_target)"
   ]
  },
  {
   "cell_type": "code",
   "execution_count": 52,
   "metadata": {
    "scrolled": true
   },
   "outputs": [
    {
     "name": "stderr",
     "output_type": "stream",
     "text": [
      "C:\\Users\\artyo\\practicum\\practicum_env\\lib\\site-packages\\lightgbm\\engine.py:177: UserWarning: Found `num_boost_round` in params. Will use it instead of argument\n",
      "  _log_warning(f\"Found `{alias}` in params. Will use it instead of argument\")\n",
      "C:\\Users\\artyo\\practicum\\practicum_env\\lib\\site-packages\\lightgbm\\basic.py:2065: UserWarning: Using categorical_feature in Dataset.\n",
      "  _log_warning('Using categorical_feature in Dataset.')\n",
      "C:\\Users\\artyo\\practicum\\practicum_env\\lib\\site-packages\\lightgbm\\basic.py:2068: UserWarning: categorical_feature in Dataset is overridden.\n",
      "New categorical_feature is ['Brand', 'FuelType', 'Gearbox', 'Model', 'Repaired', 'VehicleType']\n",
      "  _log_warning('categorical_feature in Dataset is overridden.\\n'\n",
      "C:\\Users\\artyo\\practicum\\practicum_env\\lib\\site-packages\\lightgbm\\engine.py:239: UserWarning: 'verbose_eval' argument is deprecated and will be removed in a future release of LightGBM. Pass 'log_evaluation()' callback via 'callbacks' argument instead.\n",
      "  _log_warning(\"'verbose_eval' argument is deprecated and will be removed in a future release of LightGBM. \"\n"
     ]
    },
    {
     "name": "stdout",
     "output_type": "stream",
     "text": [
      "[LightGBM] [Debug] Dataset::GetMultiBinFromSparseFeatures: sparse rate 0.771598\n",
      "[LightGBM] [Debug] Dataset::GetMultiBinFromAllFeatures: sparse rate 0.183798\n",
      "[LightGBM] [Debug] init for col-wise cost 0.007003 seconds, init for row-wise cost 0.008705 seconds\n",
      "[LightGBM] [Warning] Auto-choosing col-wise multi-threading, the overhead of testing was 0.011143 seconds.\n",
      "You can set `force_col_wise=true` to remove the overhead.\n",
      "[LightGBM] [Info] Total Bins 642\n",
      "[LightGBM] [Info] Number of data points in the train set: 176351, number of used features: 9\n",
      "[LightGBM] [Info] Start training from score 5002.191164\n",
      "[LightGBM] [Debug] Trained a tree with leaves = 144 and depth = 11\n",
      "Training until validation scores don't improve for 3 rounds\n",
      "[LightGBM] [Debug] Trained a tree with leaves = 144 and depth = 12\n",
      "[LightGBM] [Debug] Trained a tree with leaves = 144 and depth = 11\n",
      "[LightGBM] [Debug] Trained a tree with leaves = 144 and depth = 12\n",
      "[LightGBM] [Debug] Trained a tree with leaves = 144 and depth = 12"
     ]
    },
    {
     "name": "stderr",
     "output_type": "stream",
     "text": [
      "C:\\Users\\artyo\\practicum\\practicum_env\\lib\\site-packages\\lightgbm\\basic.py:1780: UserWarning: Overriding the parameters from Reference Dataset.\n",
      "  _log_warning('Overriding the parameters from Reference Dataset.')\n",
      "C:\\Users\\artyo\\practicum\\practicum_env\\lib\\site-packages\\lightgbm\\basic.py:1513: UserWarning: categorical_column in param dict is overridden.\n",
      "  _log_warning(f'{cat_alias} in param dict is overridden.')\n"
     ]
    },
    {
     "name": "stdout",
     "output_type": "stream",
     "text": [
      "\n",
      "[LightGBM] [Debug] Trained a tree with leaves = 144 and depth = 12\n",
      "[LightGBM] [Debug] Trained a tree with leaves = 144 and depth = 11\n",
      "[LightGBM] [Debug] Trained a tree with leaves = 144 and depth = 11\n",
      "[LightGBM] [Debug] Trained a tree with leaves = 144 and depth = 12\n",
      "[LightGBM] [Debug] Trained a tree with leaves = 144 and depth = 12\n",
      "[LightGBM] [Debug] Trained a tree with leaves = 144 and depth = 12\n",
      "[LightGBM] [Debug] Trained a tree with leaves = 144 and depth = 12\n",
      "[LightGBM] [Debug] Trained a tree with leaves = 144 and depth = 12\n",
      "[LightGBM] [Debug] Trained a tree with leaves = 144 and depth = 12\n",
      "[LightGBM] [Debug] Trained a tree with leaves = 144 and depth = 12\n",
      "[LightGBM] [Debug] Trained a tree with leaves = 144 and depth = 12\n",
      "[LightGBM] [Debug] Trained a tree with leaves = 144 and depth = 12\n",
      "[LightGBM] [Debug] Trained a tree with leaves = 144 and depth = 12\n",
      "[LightGBM] [Debug] Trained a tree with leaves = 144 and depth = 12\n",
      "[LightGBM] [Debug] Trained a tree with leaves = 144 and depth = 12\n",
      "[LightGBM] [Debug] Trained a tree with leaves = 144 and depth = 12\n",
      "[LightGBM] [Debug] Trained a tree with leaves = 144 and depth = 12\n",
      "[LightGBM] [Debug] Trained a tree with leaves = 144 and depth = 12\n",
      "[LightGBM] [Debug] Trained a tree with leaves = 144 and depth = 12\n",
      "[LightGBM] [Debug] Trained a tree with leaves = 144 and depth = 12\n",
      "[LightGBM] [Debug] Trained a tree with leaves = 144 and depth = 12\n",
      "[LightGBM] [Debug] Trained a tree with leaves = 144 and depth = 12\n",
      "[LightGBM] [Debug] Trained a tree with leaves = 144 and depth = 12\n",
      "[LightGBM] [Debug] Trained a tree with leaves = 144 and depth = 12\n",
      "[LightGBM] [Debug] Trained a tree with leaves = 144 and depth = 12\n",
      "[LightGBM] [Debug] Trained a tree with leaves = 144 and depth = 12\n",
      "[LightGBM] [Debug] Trained a tree with leaves = 144 and depth = 12\n",
      "[LightGBM] [Debug] Trained a tree with leaves = 144 and depth = 12\n",
      "[LightGBM] [Debug] Trained a tree with leaves = 144 and depth = 12\n",
      "[LightGBM] [Debug] Trained a tree with leaves = 144 and depth = 12\n",
      "[LightGBM] [Debug] Trained a tree with leaves = 144 and depth = 12\n",
      "[LightGBM] [Debug] Trained a tree with leaves = 144 and depth = 12\n",
      "[LightGBM] [Debug] Trained a tree with leaves = 144 and depth = 12\n",
      "[LightGBM] [Debug] Trained a tree with leaves = 144 and depth = 12\n",
      "[LightGBM] [Debug] Trained a tree with leaves = 144 and depth = 12\n",
      "[LightGBM] [Debug] Trained a tree with leaves = 144 and depth = 12\n",
      "[LightGBM] [Debug] Trained a tree with leaves = 144 and depth = 12\n",
      "[LightGBM] [Debug] Trained a tree with leaves = 144 and depth = 12\n",
      "[LightGBM] [Warning] No further splits with positive gain, best gain: -inf\n",
      "[LightGBM] [Debug] Trained a tree with leaves = 84 and depth = 12\n",
      "[LightGBM] [Debug] Trained a tree with leaves = 144 and depth = 12\n",
      "[LightGBM] [Debug] Trained a tree with leaves = 144 and depth = 12\n",
      "[LightGBM] [Debug] Trained a tree with leaves = 144 and depth = 12\n",
      "[LightGBM] [Debug] Trained a tree with leaves = 144 and depth = 12\n",
      "[LightGBM] [Debug] Trained a tree with leaves = 144 and depth = 12\n",
      "[LightGBM] [Debug] Trained a tree with leaves = 144 and depth = 12\n",
      "[LightGBM] [Debug] Trained a tree with leaves = 144 and depth = 12\n",
      "[LightGBM] [Debug] Trained a tree with leaves = 144 and depth = 12\n",
      "[LightGBM] [Debug] Trained a tree with leaves = 144 and depth = 12\n",
      "[LightGBM] [Debug] Trained a tree with leaves = 144 and depth = 12\n",
      "[LightGBM] [Debug] Trained a tree with leaves = 144 and depth = 12\n",
      "[LightGBM] [Debug] Trained a tree with leaves = 144 and depth = 12\n",
      "[LightGBM] [Debug] Trained a tree with leaves = 144 and depth = 12\n",
      "[LightGBM] [Debug] Trained a tree with leaves = 144 and depth = 12\n",
      "[LightGBM] [Debug] Trained a tree with leaves = 144 and depth = 12\n",
      "[LightGBM] [Warning] No further splits with positive gain, best gain: -inf\n",
      "[LightGBM] [Debug] Trained a tree with leaves = 111 and depth = 12\n",
      "[LightGBM] [Debug] Trained a tree with leaves = 144 and depth = 12\n",
      "Early stopping, best iteration is:\n",
      "[58]\ttraining's l2: 1.83527e+06\tvalid_1's l2: 2.13074e+06\n",
      "Wall time: 1.39 s\n"
     ]
    }
   ],
   "source": [
    "%%time\n",
    "params = {\n",
    "    'boosting_type': 'gbdt',\n",
    "    'objective': 'regression',\n",
    "    'num_boost_round': 500, \n",
    "    'feature_fraction': 0.75, \n",
    "    'random_state': 123, \n",
    "    'metric': 'mse',\n",
    "    'learning_rate': 0.2,\n",
    "    'early_stopping_round': 3,\n",
    "    'max_depth': 12,\n",
    "    'num_leaves': 144,\n",
    "    'verbose': 2\n",
    "    }\n",
    "\n",
    "train_data = lgb.Dataset(train_features, label=train_target, categorical_feature=categories)\n",
    "test_data = lgb.Dataset(test_features, label=test_target, reference=train_data)\n",
    "\n",
    "light = lgb.train(params, train_data, verbose_eval=200, valid_sets=[train_data, test_data])"
   ]
  },
  {
   "cell_type": "code",
   "execution_count": 53,
   "metadata": {},
   "outputs": [
    {
     "name": "stdout",
     "output_type": "stream",
     "text": [
      "Fitting 5 folds for each of 18 candidates, totalling 90 fits\n",
      "[CV] END ..max_depth=5, min_samples_split=4, n_estimators=10; total time=   6.3s\n",
      "[CV] END ..max_depth=5, min_samples_split=4, n_estimators=10; total time=   1.7s\n",
      "[CV] END ..max_depth=5, min_samples_split=4, n_estimators=10; total time=   1.6s\n",
      "[CV] END ..max_depth=5, min_samples_split=4, n_estimators=10; total time=   1.7s\n",
      "[CV] END ..max_depth=5, min_samples_split=4, n_estimators=10; total time=   1.7s\n",
      "[CV] END ..max_depth=5, min_samples_split=4, n_estimators=60; total time=   7.9s\n",
      "[CV] END ..max_depth=5, min_samples_split=4, n_estimators=60; total time=   7.9s\n",
      "[CV] END ..max_depth=5, min_samples_split=4, n_estimators=60; total time=   7.9s\n",
      "[CV] END ..max_depth=5, min_samples_split=4, n_estimators=60; total time=   8.0s\n",
      "[CV] END ..max_depth=5, min_samples_split=4, n_estimators=60; total time=   8.5s\n",
      "[CV] END .max_depth=5, min_samples_split=4, n_estimators=110; total time=  14.6s\n",
      "[CV] END .max_depth=5, min_samples_split=4, n_estimators=110; total time=  14.5s\n",
      "[CV] END .max_depth=5, min_samples_split=4, n_estimators=110; total time=  15.2s\n",
      "[CV] END .max_depth=5, min_samples_split=4, n_estimators=110; total time=  14.8s\n",
      "[CV] END .max_depth=5, min_samples_split=4, n_estimators=110; total time=  14.4s\n",
      "[CV] END ..max_depth=5, min_samples_split=6, n_estimators=10; total time=   2.0s\n",
      "[CV] END ..max_depth=5, min_samples_split=6, n_estimators=10; total time=   1.7s\n",
      "[CV] END ..max_depth=5, min_samples_split=6, n_estimators=10; total time=   1.7s\n",
      "[CV] END ..max_depth=5, min_samples_split=6, n_estimators=10; total time=   1.6s\n",
      "[CV] END ..max_depth=5, min_samples_split=6, n_estimators=10; total time=   1.8s\n",
      "[CV] END ..max_depth=5, min_samples_split=6, n_estimators=60; total time=   8.0s\n",
      "[CV] END ..max_depth=5, min_samples_split=6, n_estimators=60; total time=   8.1s\n",
      "[CV] END ..max_depth=5, min_samples_split=6, n_estimators=60; total time=   8.0s\n",
      "[CV] END ..max_depth=5, min_samples_split=6, n_estimators=60; total time=   7.8s\n",
      "[CV] END ..max_depth=5, min_samples_split=6, n_estimators=60; total time=   8.0s\n",
      "[CV] END .max_depth=5, min_samples_split=6, n_estimators=110; total time=  13.8s\n",
      "[CV] END .max_depth=5, min_samples_split=6, n_estimators=110; total time=  14.0s\n",
      "[CV] END .max_depth=5, min_samples_split=6, n_estimators=110; total time=  14.2s\n",
      "[CV] END .max_depth=5, min_samples_split=6, n_estimators=110; total time=  14.1s\n",
      "[CV] END .max_depth=5, min_samples_split=6, n_estimators=110; total time=  14.6s\n",
      "[CV] END ..max_depth=5, min_samples_split=8, n_estimators=10; total time=   1.8s\n",
      "[CV] END ..max_depth=5, min_samples_split=8, n_estimators=10; total time=   1.6s\n",
      "[CV] END ..max_depth=5, min_samples_split=8, n_estimators=10; total time=   1.6s\n",
      "[CV] END ..max_depth=5, min_samples_split=8, n_estimators=10; total time=   1.7s\n",
      "[CV] END ..max_depth=5, min_samples_split=8, n_estimators=10; total time=   1.7s\n",
      "[CV] END ..max_depth=5, min_samples_split=8, n_estimators=60; total time=   7.9s\n",
      "[CV] END ..max_depth=5, min_samples_split=8, n_estimators=60; total time=   8.2s\n",
      "[CV] END ..max_depth=5, min_samples_split=8, n_estimators=60; total time=   7.7s\n",
      "[CV] END ..max_depth=5, min_samples_split=8, n_estimators=60; total time=   8.0s\n",
      "[CV] END ..max_depth=5, min_samples_split=8, n_estimators=60; total time=   8.4s\n",
      "[CV] END .max_depth=5, min_samples_split=8, n_estimators=110; total time=  16.0s\n",
      "[CV] END .max_depth=5, min_samples_split=8, n_estimators=110; total time=  15.5s\n",
      "[CV] END .max_depth=5, min_samples_split=8, n_estimators=110; total time=  14.5s\n",
      "[CV] END .max_depth=5, min_samples_split=8, n_estimators=110; total time=  14.4s\n",
      "[CV] END .max_depth=5, min_samples_split=8, n_estimators=110; total time=  15.4s\n",
      "[CV] END ..max_depth=7, min_samples_split=4, n_estimators=10; total time=   2.1s\n",
      "[CV] END ..max_depth=7, min_samples_split=4, n_estimators=10; total time=   2.1s\n",
      "[CV] END ..max_depth=7, min_samples_split=4, n_estimators=10; total time=   2.3s\n",
      "[CV] END ..max_depth=7, min_samples_split=4, n_estimators=10; total time=   2.0s\n",
      "[CV] END ..max_depth=7, min_samples_split=4, n_estimators=10; total time=   2.2s\n",
      "[CV] END ..max_depth=7, min_samples_split=4, n_estimators=60; total time=  10.7s\n",
      "[CV] END ..max_depth=7, min_samples_split=4, n_estimators=60; total time=  10.0s\n",
      "[CV] END ..max_depth=7, min_samples_split=4, n_estimators=60; total time=  10.7s\n",
      "[CV] END ..max_depth=7, min_samples_split=4, n_estimators=60; total time=   9.9s\n",
      "[CV] END ..max_depth=7, min_samples_split=4, n_estimators=60; total time=   9.9s\n",
      "[CV] END .max_depth=7, min_samples_split=4, n_estimators=110; total time=  17.5s\n",
      "[CV] END .max_depth=7, min_samples_split=4, n_estimators=110; total time=  18.6s\n",
      "[CV] END .max_depth=7, min_samples_split=4, n_estimators=110; total time=  20.3s\n",
      "[CV] END .max_depth=7, min_samples_split=4, n_estimators=110; total time=  18.9s\n",
      "[CV] END .max_depth=7, min_samples_split=4, n_estimators=110; total time=  18.5s\n",
      "[CV] END ..max_depth=7, min_samples_split=6, n_estimators=10; total time=   2.2s\n",
      "[CV] END ..max_depth=7, min_samples_split=6, n_estimators=10; total time=   2.1s\n",
      "[CV] END ..max_depth=7, min_samples_split=6, n_estimators=10; total time=   2.0s\n",
      "[CV] END ..max_depth=7, min_samples_split=6, n_estimators=10; total time=   2.2s\n",
      "[CV] END ..max_depth=7, min_samples_split=6, n_estimators=10; total time=   2.2s\n",
      "[CV] END ..max_depth=7, min_samples_split=6, n_estimators=60; total time=  12.2s\n",
      "[CV] END ..max_depth=7, min_samples_split=6, n_estimators=60; total time=   8.9s\n",
      "[CV] END ..max_depth=7, min_samples_split=6, n_estimators=60; total time=  10.3s\n",
      "[CV] END ..max_depth=7, min_samples_split=6, n_estimators=60; total time=  10.2s\n",
      "[CV] END ..max_depth=7, min_samples_split=6, n_estimators=60; total time=  10.7s\n",
      "[CV] END .max_depth=7, min_samples_split=6, n_estimators=110; total time=  20.2s\n",
      "[CV] END .max_depth=7, min_samples_split=6, n_estimators=110; total time=  19.6s\n",
      "[CV] END .max_depth=7, min_samples_split=6, n_estimators=110; total time=  19.5s\n",
      "[CV] END .max_depth=7, min_samples_split=6, n_estimators=110; total time=  19.5s\n",
      "[CV] END .max_depth=7, min_samples_split=6, n_estimators=110; total time=  19.7s\n",
      "[CV] END ..max_depth=7, min_samples_split=8, n_estimators=10; total time=   2.2s\n",
      "[CV] END ..max_depth=7, min_samples_split=8, n_estimators=10; total time=   2.2s\n",
      "[CV] END ..max_depth=7, min_samples_split=8, n_estimators=10; total time=   2.2s\n",
      "[CV] END ..max_depth=7, min_samples_split=8, n_estimators=10; total time=   2.2s\n",
      "[CV] END ..max_depth=7, min_samples_split=8, n_estimators=10; total time=   2.1s\n",
      "[CV] END ..max_depth=7, min_samples_split=8, n_estimators=60; total time=   9.9s\n",
      "[CV] END ..max_depth=7, min_samples_split=8, n_estimators=60; total time=   9.9s\n",
      "[CV] END ..max_depth=7, min_samples_split=8, n_estimators=60; total time=   9.9s\n",
      "[CV] END ..max_depth=7, min_samples_split=8, n_estimators=60; total time=   9.5s\n",
      "[CV] END ..max_depth=7, min_samples_split=8, n_estimators=60; total time=   9.9s\n",
      "[CV] END .max_depth=7, min_samples_split=8, n_estimators=110; total time=  19.6s\n",
      "[CV] END .max_depth=7, min_samples_split=8, n_estimators=110; total time=  18.7s\n",
      "[CV] END .max_depth=7, min_samples_split=8, n_estimators=110; total time=  18.0s\n",
      "[CV] END .max_depth=7, min_samples_split=8, n_estimators=110; total time=  18.3s\n",
      "[CV] END .max_depth=7, min_samples_split=8, n_estimators=110; total time=  18.4s\n",
      "Wall time: 14min 32s\n"
     ]
    },
    {
     "data": {
      "text/plain": [
       "GridSearchCV(cv=5, estimator=RandomForestRegressor(n_jobs=-1, random_state=42),\n",
       "             param_grid={'max_depth': [5, 7],\n",
       "                         'min_samples_split': range(4, 10, 2),\n",
       "                         'n_estimators': range(10, 121, 50)},\n",
       "             verbose=2)"
      ]
     },
     "execution_count": 53,
     "metadata": {},
     "output_type": "execute_result"
    }
   ],
   "source": [
    "%%time\n",
    "params = {'n_estimators': range(10, 121, 50),\n",
    "              'max_depth': [5, 7],\n",
    "              'min_samples_split': range (4,10,2)}\n",
    "rfr = RandomForestRegressor(criterion = \"mse\", random_state=42, n_jobs=-1)\n",
    "grid = GridSearchCV(rfr, params, cv=5, verbose=2)\n",
    "grid.fit(train_features_enc, train_target)"
   ]
  },
  {
   "cell_type": "code",
   "execution_count": 54,
   "metadata": {},
   "outputs": [
    {
     "data": {
      "text/plain": [
       "RandomForestRegressor(max_depth=7, min_samples_split=8, n_estimators=110,\n",
       "                      n_jobs=-1, random_state=42)"
      ]
     },
     "execution_count": 54,
     "metadata": {},
     "output_type": "execute_result"
    }
   ],
   "source": [
    "best_model = grid.best_estimator_\n",
    "best_model"
   ]
  },
  {
   "cell_type": "markdown",
   "metadata": {},
   "source": [
    "**Выводы по этапу:**\n",
    "- были натренированы и обучены модели линейной регрессии, случайного леса (с подбором параметров через GridSearchCV) и градиентного бустинга LightGBM\n",
    "- самой быстрой моделью оказалась модель линейной регрессии, на обучение LightGBM ушло около 51 минут, случайного леса - 5 часов 21 минута"
   ]
  },
  {
   "cell_type": "markdown",
   "metadata": {},
   "source": [
    "## Анализ моделей"
   ]
  },
  {
   "cell_type": "code",
   "execution_count": 55,
   "metadata": {},
   "outputs": [
    {
     "name": "stdout",
     "output_type": "stream",
     "text": [
      "Wall time: 8.98 ms\n"
     ]
    },
    {
     "data": {
      "text/plain": [
       "2592.5772995489174"
      ]
     },
     "execution_count": 55,
     "metadata": {},
     "output_type": "execute_result"
    }
   ],
   "source": [
    "%%time\n",
    "predictions_lr = lin_reg.predict(test_features_enc)\n",
    "mean_squared_error(test_target, predictions_lr, squared=False)"
   ]
  },
  {
   "cell_type": "code",
   "execution_count": 56,
   "metadata": {},
   "outputs": [
    {
     "name": "stdout",
     "output_type": "stream",
     "text": [
      "Wall time: 0 ns\n"
     ]
    },
    {
     "data": {
      "text/plain": [
       "1459.7040948555461"
      ]
     },
     "execution_count": 56,
     "metadata": {},
     "output_type": "execute_result"
    }
   ],
   "source": [
    "%time\n",
    "predictions_lgb = light.predict(test_features)\n",
    "mean_squared_error(test_target, predictions_lgb, squared=False)"
   ]
  },
  {
   "cell_type": "code",
   "execution_count": 57,
   "metadata": {},
   "outputs": [
    {
     "name": "stdout",
     "output_type": "stream",
     "text": [
      "Wall time: 0 ns\n"
     ]
    },
    {
     "data": {
      "text/plain": [
       "1934.5997378296197"
      ]
     },
     "execution_count": 57,
     "metadata": {},
     "output_type": "execute_result"
    }
   ],
   "source": [
    "%time\n",
    "predictions_best_rfr = best_model.predict(test_features_enc)\n",
    "mean_squared_error(test_target, predictions_best_rfr, squared=False)"
   ]
  },
  {
   "cell_type": "markdown",
   "metadata": {},
   "source": [
    "**Выводы:**\n",
    "- быстрее всех предсказания выдает модель градиентного бустинга, на втором месте - случайный лес, на третьем - линейная регрессия\n",
    "- точнее всех предсказания выдает модель градиентного бустинга, лучшая модель случайного леса также прошла порог RMSE < 2500, предсказания линейного регрессии наименее точные"
   ]
  },
  {
   "cell_type": "markdown",
   "metadata": {},
   "source": [
    "**Общий вывод:** наиболее точной и относительной быстрой (51 мин) оказалась модель градиентного бустинга LightGBM, также хорошо себя показали предсказания лучшей модели случайного леса, однако обучение и подбор гиперпараметров заняли более 5 часов. Кроме того, при работе с LightGBM не пришлось самостоятельно создавать dummy-переменные из категориальных признаков."
   ]
  }
 ],
 "metadata": {
  "ExecuteTimeLog": [
   {
    "duration": 1266,
    "start_time": "2023-07-03T09:14:11.539Z"
   },
   {
    "duration": 1115,
    "start_time": "2023-07-03T09:14:20.970Z"
   },
   {
    "duration": 176,
    "start_time": "2023-07-03T09:14:36.215Z"
   },
   {
    "duration": 62,
    "start_time": "2023-07-04T15:45:41.842Z"
   },
   {
    "duration": 1399,
    "start_time": "2023-07-04T15:45:49.673Z"
   },
   {
    "duration": 4175,
    "start_time": "2023-07-04T15:45:51.080Z"
   },
   {
    "duration": 209,
    "start_time": "2023-07-04T15:45:55.263Z"
   },
   {
    "duration": 34,
    "start_time": "2023-07-04T15:45:55.480Z"
   },
   {
    "duration": 39,
    "start_time": "2023-07-04T15:47:13.236Z"
   },
   {
    "duration": 25,
    "start_time": "2023-07-04T15:47:56.390Z"
   },
   {
    "duration": 1050,
    "start_time": "2023-07-04T15:53:51.110Z"
   },
   {
    "duration": 176,
    "start_time": "2023-07-04T15:53:58.269Z"
   },
   {
    "duration": 327,
    "start_time": "2023-07-04T15:54:07.039Z"
   },
   {
    "duration": 96,
    "start_time": "2023-07-04T15:58:42.014Z"
   },
   {
    "duration": 65,
    "start_time": "2023-07-04T15:59:01.267Z"
   },
   {
    "duration": 35,
    "start_time": "2023-07-04T16:02:11.472Z"
   },
   {
    "duration": 104,
    "start_time": "2023-07-04T16:06:37.268Z"
   },
   {
    "duration": 4,
    "start_time": "2023-07-04T16:08:31.747Z"
   },
   {
    "duration": 19,
    "start_time": "2023-07-04T16:10:44.445Z"
   },
   {
    "duration": 3,
    "start_time": "2023-07-04T16:10:49.107Z"
   },
   {
    "duration": 193,
    "start_time": "2023-07-04T16:10:49.892Z"
   },
   {
    "duration": 4,
    "start_time": "2023-07-04T16:11:11.640Z"
   },
   {
    "duration": 189,
    "start_time": "2023-07-04T16:11:12.754Z"
   },
   {
    "duration": 88,
    "start_time": "2023-07-04T16:14:13.207Z"
   },
   {
    "duration": 86,
    "start_time": "2023-07-04T16:14:51.414Z"
   },
   {
    "duration": 120,
    "start_time": "2023-07-04T16:16:22.210Z"
   },
   {
    "duration": 13,
    "start_time": "2023-07-04T16:23:17.529Z"
   },
   {
    "duration": 178,
    "start_time": "2023-07-04T16:24:39.431Z"
   },
   {
    "duration": 192,
    "start_time": "2023-07-04T16:27:43.706Z"
   },
   {
    "duration": 322,
    "start_time": "2023-07-04T16:34:54.442Z"
   },
   {
    "duration": 3,
    "start_time": "2023-07-04T16:36:15.618Z"
   },
   {
    "duration": 1201,
    "start_time": "2023-07-04T16:36:16.610Z"
   },
   {
    "duration": 175,
    "start_time": "2023-07-04T16:36:19.046Z"
   },
   {
    "duration": 144,
    "start_time": "2023-07-04T16:36:23.906Z"
   },
   {
    "duration": 98,
    "start_time": "2023-07-04T16:38:24.349Z"
   },
   {
    "duration": 1485,
    "start_time": "2023-07-05T06:46:21.465Z"
   },
   {
    "duration": 3583,
    "start_time": "2023-07-05T06:46:22.952Z"
   },
   {
    "duration": 157,
    "start_time": "2023-07-05T06:46:29.069Z"
   },
   {
    "duration": 183,
    "start_time": "2023-07-05T06:46:34.114Z"
   },
   {
    "duration": 113,
    "start_time": "2023-07-05T06:52:08.249Z"
   },
   {
    "duration": 85,
    "start_time": "2023-07-05T06:52:46.797Z"
   },
   {
    "duration": 138,
    "start_time": "2023-07-05T06:52:51.451Z"
   },
   {
    "duration": 128,
    "start_time": "2023-07-05T06:53:16.716Z"
   },
   {
    "duration": 4,
    "start_time": "2023-07-05T06:53:24.050Z"
   },
   {
    "duration": 896,
    "start_time": "2023-07-05T06:53:24.836Z"
   },
   {
    "duration": 128,
    "start_time": "2023-07-05T06:53:25.833Z"
   },
   {
    "duration": 134,
    "start_time": "2023-07-05T06:53:26.947Z"
   },
   {
    "duration": 73,
    "start_time": "2023-07-05T06:53:28.304Z"
   },
   {
    "duration": 166,
    "start_time": "2023-07-05T06:53:30.824Z"
   },
   {
    "duration": 235,
    "start_time": "2023-07-05T06:53:32.975Z"
   },
   {
    "duration": 821,
    "start_time": "2023-07-05T06:53:55.450Z"
   },
   {
    "duration": 27,
    "start_time": "2023-07-05T06:54:17.500Z"
   },
   {
    "duration": 1011,
    "start_time": "2023-07-05T06:55:03.746Z"
   },
   {
    "duration": 125,
    "start_time": "2023-07-05T06:55:06.621Z"
   },
   {
    "duration": 128,
    "start_time": "2023-07-05T06:55:08.255Z"
   },
   {
    "duration": 308,
    "start_time": "2023-07-05T06:55:10.392Z"
   },
   {
    "duration": 87,
    "start_time": "2023-07-05T06:55:12.302Z"
   },
   {
    "duration": 70,
    "start_time": "2023-07-05T06:55:23.714Z"
   },
   {
    "duration": 115,
    "start_time": "2023-07-05T06:56:03.499Z"
   },
   {
    "duration": 3,
    "start_time": "2023-07-05T06:56:10.644Z"
   },
   {
    "duration": 4,
    "start_time": "2023-07-05T06:56:39.642Z"
   },
   {
    "duration": 809,
    "start_time": "2023-07-05T06:56:46.700Z"
   },
   {
    "duration": 139,
    "start_time": "2023-07-05T06:56:48.644Z"
   },
   {
    "duration": 138,
    "start_time": "2023-07-05T06:56:50.250Z"
   },
   {
    "duration": 433,
    "start_time": "2023-07-05T06:56:51.593Z"
   },
   {
    "duration": 80,
    "start_time": "2023-07-05T06:56:55.420Z"
   },
   {
    "duration": 4,
    "start_time": "2023-07-05T06:56:56.909Z"
   },
   {
    "duration": 111,
    "start_time": "2023-07-05T06:56:59.709Z"
   },
   {
    "duration": 82,
    "start_time": "2023-07-05T06:57:14.150Z"
   },
   {
    "duration": 141,
    "start_time": "2023-07-05T06:57:23.656Z"
   },
   {
    "duration": 232,
    "start_time": "2023-07-05T06:57:53.960Z"
   },
   {
    "duration": 40,
    "start_time": "2023-07-05T06:58:41.819Z"
   },
   {
    "duration": 57,
    "start_time": "2023-07-05T06:59:08.739Z"
   },
   {
    "duration": 4,
    "start_time": "2023-07-05T07:14:02.528Z"
   },
   {
    "duration": 37,
    "start_time": "2023-07-05T07:17:08.757Z"
   },
   {
    "duration": 14,
    "start_time": "2023-07-05T07:17:40.607Z"
   },
   {
    "duration": 3,
    "start_time": "2023-07-05T07:17:52.209Z"
   },
   {
    "duration": 917,
    "start_time": "2023-07-05T07:17:52.864Z"
   },
   {
    "duration": 129,
    "start_time": "2023-07-05T07:17:53.784Z"
   },
   {
    "duration": 115,
    "start_time": "2023-07-05T07:17:54.382Z"
   },
   {
    "duration": 289,
    "start_time": "2023-07-05T07:17:55.336Z"
   },
   {
    "duration": 73,
    "start_time": "2023-07-05T07:17:56.208Z"
   },
   {
    "duration": 3,
    "start_time": "2023-07-05T07:17:57.107Z"
   },
   {
    "duration": 116,
    "start_time": "2023-07-05T07:17:58.407Z"
   },
   {
    "duration": 61,
    "start_time": "2023-07-05T07:17:59.709Z"
   },
   {
    "duration": 137,
    "start_time": "2023-07-05T07:18:01.745Z"
   },
   {
    "duration": 3,
    "start_time": "2023-07-05T07:18:03.496Z"
   },
   {
    "duration": 24,
    "start_time": "2023-07-05T07:18:05.182Z"
   },
   {
    "duration": 4,
    "start_time": "2023-07-05T07:18:56.527Z"
   },
   {
    "duration": 24,
    "start_time": "2023-07-05T07:18:57.578Z"
   },
   {
    "duration": 132,
    "start_time": "2023-07-05T07:19:49.595Z"
   },
   {
    "duration": 4,
    "start_time": "2023-07-05T07:20:01.705Z"
   },
   {
    "duration": 31,
    "start_time": "2023-07-05T07:20:05.633Z"
   },
   {
    "duration": 4,
    "start_time": "2023-07-05T07:21:29.187Z"
   },
   {
    "duration": 36,
    "start_time": "2023-07-05T07:21:30.460Z"
   },
   {
    "duration": 4,
    "start_time": "2023-07-05T07:22:36.367Z"
   },
   {
    "duration": 22,
    "start_time": "2023-07-05T07:22:37.337Z"
   },
   {
    "duration": 4,
    "start_time": "2023-07-05T07:24:34.950Z"
   },
   {
    "duration": 23,
    "start_time": "2023-07-05T07:24:36.112Z"
   },
   {
    "duration": 4,
    "start_time": "2023-07-05T07:26:10.586Z"
   },
   {
    "duration": 27,
    "start_time": "2023-07-05T07:26:11.597Z"
   },
   {
    "duration": 4,
    "start_time": "2023-07-05T07:26:56.721Z"
   },
   {
    "duration": 26,
    "start_time": "2023-07-05T07:26:58.720Z"
   },
   {
    "duration": 4,
    "start_time": "2023-07-05T07:28:35.178Z"
   },
   {
    "duration": 23,
    "start_time": "2023-07-05T07:28:35.845Z"
   },
   {
    "duration": 146,
    "start_time": "2023-07-05T07:28:36.711Z"
   },
   {
    "duration": 39,
    "start_time": "2023-07-05T07:28:36.903Z"
   },
   {
    "duration": 31,
    "start_time": "2023-07-05T07:30:24.261Z"
   },
   {
    "duration": 3,
    "start_time": "2023-07-05T07:30:59.231Z"
   },
   {
    "duration": 27,
    "start_time": "2023-07-05T07:32:30.850Z"
   },
   {
    "duration": 3,
    "start_time": "2023-07-05T07:35:07.374Z"
   },
   {
    "duration": 36,
    "start_time": "2023-07-05T07:35:13.768Z"
   },
   {
    "duration": 22,
    "start_time": "2023-07-05T07:35:15.073Z"
   },
   {
    "duration": 3,
    "start_time": "2023-07-05T07:36:51.276Z"
   },
   {
    "duration": 20,
    "start_time": "2023-07-05T07:36:56.448Z"
   },
   {
    "duration": 21,
    "start_time": "2023-07-05T07:37:03.185Z"
   },
   {
    "duration": 4,
    "start_time": "2023-07-05T07:37:27.751Z"
   },
   {
    "duration": 22,
    "start_time": "2023-07-05T07:37:29.405Z"
   },
   {
    "duration": 18,
    "start_time": "2023-07-05T07:37:30.343Z"
   },
   {
    "duration": 22,
    "start_time": "2023-07-05T07:37:31.525Z"
   },
   {
    "duration": 106,
    "start_time": "2023-07-05T07:38:50.764Z"
   },
   {
    "duration": 4,
    "start_time": "2023-07-05T07:39:04.520Z"
   },
   {
    "duration": 146,
    "start_time": "2023-07-05T07:39:05.454Z"
   },
   {
    "duration": 125,
    "start_time": "2023-07-05T07:40:23.956Z"
   },
   {
    "duration": 127,
    "start_time": "2023-07-05T07:40:25.051Z"
   },
   {
    "duration": 3,
    "start_time": "2023-07-05T07:40:39.739Z"
   },
   {
    "duration": 191,
    "start_time": "2023-07-05T07:40:42.653Z"
   },
   {
    "duration": 4,
    "start_time": "2023-07-05T07:41:22.077Z"
   },
   {
    "duration": 130,
    "start_time": "2023-07-05T07:41:23.010Z"
   },
   {
    "duration": 4,
    "start_time": "2023-07-05T07:42:12.089Z"
   },
   {
    "duration": 4,
    "start_time": "2023-07-05T07:42:52.571Z"
   },
   {
    "duration": 131,
    "start_time": "2023-07-05T07:42:53.815Z"
   },
   {
    "duration": 4,
    "start_time": "2023-07-05T07:43:33.451Z"
   },
   {
    "duration": 164447,
    "start_time": "2023-07-05T07:43:34.408Z"
   },
   {
    "duration": 5717,
    "start_time": "2023-07-05T07:46:36.685Z"
   },
   {
    "duration": 34,
    "start_time": "2023-07-05T07:47:57.022Z"
   },
   {
    "duration": 951,
    "start_time": "2023-07-05T07:48:03.208Z"
   },
   {
    "duration": 126,
    "start_time": "2023-07-05T07:48:05.043Z"
   },
   {
    "duration": 112,
    "start_time": "2023-07-05T07:48:08.388Z"
   },
   {
    "duration": 500,
    "start_time": "2023-07-05T07:48:10.536Z"
   },
   {
    "duration": 68,
    "start_time": "2023-07-05T07:48:15.216Z"
   },
   {
    "duration": 3,
    "start_time": "2023-07-05T07:48:19.884Z"
   },
   {
    "duration": 141,
    "start_time": "2023-07-05T07:48:22.166Z"
   },
   {
    "duration": 109,
    "start_time": "2023-07-05T07:48:38.722Z"
   },
   {
    "duration": 147,
    "start_time": "2023-07-05T07:48:44.796Z"
   },
   {
    "duration": 163,
    "start_time": "2023-07-05T07:49:20.270Z"
   },
   {
    "duration": 48,
    "start_time": "2023-07-05T07:49:30.834Z"
   },
   {
    "duration": 4,
    "start_time": "2023-07-05T07:51:00.507Z"
   },
   {
    "duration": 4,
    "start_time": "2023-07-05T07:53:19.014Z"
   },
   {
    "duration": 225,
    "start_time": "2023-07-05T07:58:20.645Z"
   },
   {
    "duration": 569,
    "start_time": "2023-07-05T07:58:34.142Z"
   },
   {
    "duration": 682,
    "start_time": "2023-07-05T07:58:56.457Z"
   },
   {
    "duration": 103,
    "start_time": "2023-07-05T08:06:20.846Z"
   },
   {
    "duration": 4,
    "start_time": "2023-07-05T08:06:27.860Z"
   },
   {
    "duration": 1059,
    "start_time": "2023-07-05T08:07:21.387Z"
   },
   {
    "duration": 997,
    "start_time": "2023-07-05T08:07:48.914Z"
   },
   {
    "duration": 1020,
    "start_time": "2023-07-05T08:08:14.654Z"
   },
   {
    "duration": 1077,
    "start_time": "2023-07-05T08:09:33.793Z"
   },
   {
    "duration": 1049,
    "start_time": "2023-07-05T08:13:23.431Z"
   },
   {
    "duration": 990,
    "start_time": "2023-07-05T08:14:41.809Z"
   },
   {
    "duration": 1019,
    "start_time": "2023-07-05T08:15:31.363Z"
   },
   {
    "duration": 12,
    "start_time": "2023-07-06T09:01:47.333Z"
   },
   {
    "duration": 61,
    "start_time": "2023-07-06T09:01:48.250Z"
   },
   {
    "duration": 1238,
    "start_time": "2023-07-06T09:01:54.444Z"
   },
   {
    "duration": 2786,
    "start_time": "2023-07-06T09:01:55.683Z"
   },
   {
    "duration": 131,
    "start_time": "2023-07-06T09:01:58.471Z"
   },
   {
    "duration": 125,
    "start_time": "2023-07-06T09:01:58.604Z"
   },
   {
    "duration": 604,
    "start_time": "2023-07-06T09:01:58.730Z"
   },
   {
    "duration": 73,
    "start_time": "2023-07-06T09:01:59.335Z"
   },
   {
    "duration": 3,
    "start_time": "2023-07-06T09:01:59.410Z"
   },
   {
    "duration": 119,
    "start_time": "2023-07-06T09:01:59.415Z"
   },
   {
    "duration": 127,
    "start_time": "2023-07-06T09:01:59.536Z"
   },
   {
    "duration": 134,
    "start_time": "2023-07-06T09:01:59.667Z"
   },
   {
    "duration": 40,
    "start_time": "2023-07-06T09:01:59.803Z"
   },
   {
    "duration": 240,
    "start_time": "2023-07-06T09:01:59.845Z"
   },
   {
    "duration": 1060,
    "start_time": "2023-07-06T09:02:00.087Z"
   },
   {
    "duration": 902,
    "start_time": "2023-07-06T09:06:29.494Z"
   },
   {
    "duration": 866,
    "start_time": "2023-07-06T09:08:39.889Z"
   },
   {
    "duration": 935,
    "start_time": "2023-07-06T09:09:59.258Z"
   },
   {
    "duration": 954,
    "start_time": "2023-07-06T09:15:02.431Z"
   },
   {
    "duration": 13,
    "start_time": "2023-07-06T09:24:23.399Z"
   },
   {
    "duration": 12,
    "start_time": "2023-07-06T09:26:32.127Z"
   },
   {
    "duration": 12,
    "start_time": "2023-07-06T09:27:00.094Z"
   },
   {
    "duration": 12,
    "start_time": "2023-07-06T09:27:13.413Z"
   },
   {
    "duration": 15831,
    "start_time": "2023-07-06T09:27:19.960Z"
   },
   {
    "duration": 30153,
    "start_time": "2023-07-06T09:28:40.796Z"
   },
   {
    "duration": 11714,
    "start_time": "2023-07-06T09:29:22.129Z"
   },
   {
    "duration": 60590,
    "start_time": "2023-07-06T09:29:41.044Z"
   },
   {
    "duration": 65310,
    "start_time": "2023-07-06T09:31:27.795Z"
   },
   {
    "duration": 65755,
    "start_time": "2023-07-06T09:33:16.815Z"
   },
   {
    "duration": 8139,
    "start_time": "2023-07-06T09:46:37.756Z"
   },
   {
    "duration": 6766,
    "start_time": "2023-07-06T09:47:01.909Z"
   },
   {
    "duration": 14,
    "start_time": "2023-07-06T10:11:58.035Z"
   },
   {
    "duration": 11802,
    "start_time": "2023-07-06T10:12:18.794Z"
   },
   {
    "duration": 12596,
    "start_time": "2023-07-06T10:12:41.900Z"
   },
   {
    "duration": 613036,
    "start_time": "2023-07-06T10:13:00.260Z"
   },
   {
    "duration": 597,
    "start_time": "2023-07-06T10:35:28.203Z"
   },
   {
    "duration": 1974,
    "start_time": "2023-07-06T10:35:59.667Z"
   },
   {
    "duration": 1593,
    "start_time": "2023-07-06T10:36:27.546Z"
   },
   {
    "duration": 764,
    "start_time": "2023-07-06T10:41:23.923Z"
   },
   {
    "duration": 664,
    "start_time": "2023-07-06T10:42:19.370Z"
   },
   {
    "duration": 789,
    "start_time": "2023-07-06T10:42:54.820Z"
   },
   {
    "duration": 878,
    "start_time": "2023-07-06T10:46:24.357Z"
   },
   {
    "duration": 1661,
    "start_time": "2023-07-06T10:47:07.817Z"
   },
   {
    "duration": 780,
    "start_time": "2023-07-06T10:47:55.832Z"
   },
   {
    "duration": 792,
    "start_time": "2023-07-06T10:48:07.491Z"
   },
   {
    "duration": 816,
    "start_time": "2023-07-06T10:52:56.424Z"
   },
   {
    "duration": 839,
    "start_time": "2023-07-06T11:01:27.295Z"
   },
   {
    "duration": 882,
    "start_time": "2023-07-06T11:01:55.003Z"
   },
   {
    "duration": 926,
    "start_time": "2023-07-06T11:02:30.825Z"
   },
   {
    "duration": 988,
    "start_time": "2023-07-06T11:03:54.305Z"
   },
   {
    "duration": 835,
    "start_time": "2023-07-06T11:04:06.609Z"
   },
   {
    "duration": 843,
    "start_time": "2023-07-06T11:04:24.623Z"
   },
   {
    "duration": 828,
    "start_time": "2023-07-06T11:04:36.329Z"
   },
   {
    "duration": 952,
    "start_time": "2023-07-06T11:06:26.320Z"
   },
   {
    "duration": 912,
    "start_time": "2023-07-06T11:07:04.908Z"
   },
   {
    "duration": 892,
    "start_time": "2023-07-06T11:07:49.393Z"
   },
   {
    "duration": 1112,
    "start_time": "2023-07-06T11:09:43.569Z"
   },
   {
    "duration": 2143,
    "start_time": "2023-07-06T11:12:22.912Z"
   },
   {
    "duration": 1859,
    "start_time": "2023-07-06T11:13:56.169Z"
   },
   {
    "duration": 2720,
    "start_time": "2023-07-06T11:14:23.369Z"
   },
   {
    "duration": 180,
    "start_time": "2023-07-06T11:15:15.828Z"
   },
   {
    "duration": 1277,
    "start_time": "2023-07-06T11:15:25.840Z"
   },
   {
    "duration": 3008,
    "start_time": "2023-07-06T11:15:27.119Z"
   },
   {
    "duration": 126,
    "start_time": "2023-07-06T11:15:30.129Z"
   },
   {
    "duration": 147,
    "start_time": "2023-07-06T11:15:30.258Z"
   },
   {
    "duration": 473,
    "start_time": "2023-07-06T11:15:30.407Z"
   },
   {
    "duration": 88,
    "start_time": "2023-07-06T11:15:30.883Z"
   },
   {
    "duration": 4,
    "start_time": "2023-07-06T11:15:30.973Z"
   },
   {
    "duration": 191,
    "start_time": "2023-07-06T11:15:30.978Z"
   },
   {
    "duration": 121,
    "start_time": "2023-07-06T11:15:31.171Z"
   },
   {
    "duration": 143,
    "start_time": "2023-07-06T11:15:31.295Z"
   },
   {
    "duration": 65,
    "start_time": "2023-07-06T11:15:31.440Z"
   },
   {
    "duration": 233,
    "start_time": "2023-07-06T11:15:31.507Z"
   },
   {
    "duration": 2479,
    "start_time": "2023-07-06T11:15:31.742Z"
   },
   {
    "duration": 47648,
    "start_time": "2023-07-06T11:15:34.223Z"
   },
   {
    "duration": 1254,
    "start_time": "2023-07-06T11:23:30.153Z"
   },
   {
    "duration": 848,
    "start_time": "2023-07-06T11:23:31.409Z"
   },
   {
    "duration": 154,
    "start_time": "2023-07-06T11:23:32.259Z"
   },
   {
    "duration": 168,
    "start_time": "2023-07-06T11:23:32.415Z"
   },
   {
    "duration": 479,
    "start_time": "2023-07-06T11:23:32.585Z"
   },
   {
    "duration": 71,
    "start_time": "2023-07-06T11:23:33.068Z"
   },
   {
    "duration": 3,
    "start_time": "2023-07-06T11:23:33.141Z"
   },
   {
    "duration": 132,
    "start_time": "2023-07-06T11:23:33.145Z"
   },
   {
    "duration": 122,
    "start_time": "2023-07-06T11:23:33.279Z"
   },
   {
    "duration": 156,
    "start_time": "2023-07-06T11:23:33.404Z"
   },
   {
    "duration": 53,
    "start_time": "2023-07-06T11:23:33.562Z"
   },
   {
    "duration": 228,
    "start_time": "2023-07-06T11:23:33.617Z"
   },
   {
    "duration": 2570,
    "start_time": "2023-07-06T11:23:33.847Z"
   },
   {
    "duration": 50252,
    "start_time": "2023-07-06T11:23:36.419Z"
   },
   {
    "duration": 718625,
    "start_time": "2023-07-06T11:24:26.673Z"
   },
   {
    "duration": 73,
    "start_time": "2023-07-06T12:12:51.369Z"
   },
   {
    "duration": 1330,
    "start_time": "2023-07-06T12:13:43.951Z"
   },
   {
    "duration": 894,
    "start_time": "2023-07-06T12:13:45.284Z"
   },
   {
    "duration": 147,
    "start_time": "2023-07-06T12:13:46.180Z"
   },
   {
    "duration": 130,
    "start_time": "2023-07-06T12:13:46.328Z"
   },
   {
    "duration": 453,
    "start_time": "2023-07-06T12:13:46.467Z"
   },
   {
    "duration": 80,
    "start_time": "2023-07-06T12:13:46.921Z"
   },
   {
    "duration": 4,
    "start_time": "2023-07-06T12:13:47.002Z"
   },
   {
    "duration": 133,
    "start_time": "2023-07-06T12:13:47.007Z"
   },
   {
    "duration": 153,
    "start_time": "2023-07-06T12:13:47.142Z"
   },
   {
    "duration": 153,
    "start_time": "2023-07-06T12:13:47.297Z"
   },
   {
    "duration": 45,
    "start_time": "2023-07-06T12:13:47.452Z"
   },
   {
    "duration": 228,
    "start_time": "2023-07-06T12:13:47.499Z"
   },
   {
    "duration": 2396,
    "start_time": "2023-07-06T12:13:47.729Z"
   },
   {
    "duration": 50956,
    "start_time": "2023-07-06T12:13:50.128Z"
   },
   {
    "duration": 1156,
    "start_time": "2023-07-06T12:18:04.331Z"
   },
   {
    "duration": 838,
    "start_time": "2023-07-06T12:18:05.489Z"
   },
   {
    "duration": 175,
    "start_time": "2023-07-06T12:18:06.329Z"
   },
   {
    "duration": 138,
    "start_time": "2023-07-06T12:18:06.506Z"
   },
   {
    "duration": 471,
    "start_time": "2023-07-06T12:18:06.646Z"
   },
   {
    "duration": 89,
    "start_time": "2023-07-06T12:18:07.119Z"
   },
   {
    "duration": 9,
    "start_time": "2023-07-06T12:18:07.210Z"
   },
   {
    "duration": 132,
    "start_time": "2023-07-06T12:18:07.221Z"
   },
   {
    "duration": 157,
    "start_time": "2023-07-06T12:18:07.355Z"
   },
   {
    "duration": 139,
    "start_time": "2023-07-06T12:18:07.515Z"
   },
   {
    "duration": 43,
    "start_time": "2023-07-06T12:18:07.655Z"
   },
   {
    "duration": 230,
    "start_time": "2023-07-06T12:18:07.699Z"
   },
   {
    "duration": 2418,
    "start_time": "2023-07-06T12:18:07.931Z"
   },
   {
    "duration": 46720,
    "start_time": "2023-07-06T12:18:10.351Z"
   },
   {
    "duration": 1978962,
    "start_time": "2023-07-06T12:20:21.727Z"
   },
   {
    "duration": 193,
    "start_time": "2023-07-07T12:45:09.143Z"
   },
   {
    "duration": 1636,
    "start_time": "2023-07-07T12:45:17.184Z"
   },
   {
    "duration": 3957,
    "start_time": "2023-07-07T12:45:18.822Z"
   },
   {
    "duration": 190,
    "start_time": "2023-07-07T12:45:22.781Z"
   },
   {
    "duration": 203,
    "start_time": "2023-07-07T12:45:22.974Z"
   },
   {
    "duration": 1028,
    "start_time": "2023-07-07T12:45:23.180Z"
   },
   {
    "duration": 136,
    "start_time": "2023-07-07T12:45:24.211Z"
   },
   {
    "duration": 7,
    "start_time": "2023-07-07T12:45:24.349Z"
   },
   {
    "duration": 225,
    "start_time": "2023-07-07T12:45:24.358Z"
   },
   {
    "duration": 167,
    "start_time": "2023-07-07T12:45:24.586Z"
   },
   {
    "duration": 182,
    "start_time": "2023-07-07T12:45:24.755Z"
   },
   {
    "duration": 46,
    "start_time": "2023-07-07T12:45:24.939Z"
   },
   {
    "duration": 268,
    "start_time": "2023-07-07T12:45:24.987Z"
   },
   {
    "duration": 3199,
    "start_time": "2023-07-07T12:45:25.256Z"
   },
   {
    "duration": 104060,
    "start_time": "2023-07-07T12:45:28.458Z"
   },
   {
    "duration": 9715230,
    "start_time": "2023-07-07T12:47:12.525Z"
   },
   {
    "duration": 1269,
    "start_time": "2023-07-10T04:13:38.931Z"
   },
   {
    "duration": 1276,
    "start_time": "2023-07-10T04:13:40.202Z"
   },
   {
    "duration": 170,
    "start_time": "2023-07-10T04:13:41.479Z"
   },
   {
    "duration": 151,
    "start_time": "2023-07-10T04:13:41.652Z"
   },
   {
    "duration": 719,
    "start_time": "2023-07-10T04:13:41.805Z"
   },
   {
    "duration": 87,
    "start_time": "2023-07-10T04:13:42.526Z"
   },
   {
    "duration": 3,
    "start_time": "2023-07-10T04:13:42.615Z"
   },
   {
    "duration": 146,
    "start_time": "2023-07-10T04:13:42.620Z"
   },
   {
    "duration": 176,
    "start_time": "2023-07-10T04:13:42.768Z"
   },
   {
    "duration": 166,
    "start_time": "2023-07-10T04:13:42.948Z"
   },
   {
    "duration": 57,
    "start_time": "2023-07-10T04:13:43.116Z"
   },
   {
    "duration": 282,
    "start_time": "2023-07-10T04:13:43.174Z"
   },
   {
    "duration": 2759,
    "start_time": "2023-07-10T04:13:43.457Z"
   },
   {
    "duration": 77743,
    "start_time": "2023-07-10T04:13:46.219Z"
   },
   {
    "duration": 5878987,
    "start_time": "2023-07-10T04:15:03.965Z"
   },
   {
    "duration": 186,
    "start_time": "2023-07-10T06:39:47.901Z"
   },
   {
    "duration": 61,
    "start_time": "2023-07-10T06:40:44.676Z"
   },
   {
    "duration": 3,
    "start_time": "2023-07-10T06:56:43.845Z"
   },
   {
    "duration": 756,
    "start_time": "2023-07-10T06:56:44.765Z"
   },
   {
    "duration": 128,
    "start_time": "2023-07-10T06:56:45.600Z"
   },
   {
    "duration": 159,
    "start_time": "2023-07-10T06:56:46.714Z"
   },
   {
    "duration": 121,
    "start_time": "2023-07-10T06:56:48.948Z"
   },
   {
    "duration": 183,
    "start_time": "2023-07-10T06:57:02.592Z"
   },
   {
    "duration": 58,
    "start_time": "2023-07-10T06:57:22.872Z"
   },
   {
    "duration": 4,
    "start_time": "2023-07-10T06:57:24.157Z"
   },
   {
    "duration": 101,
    "start_time": "2023-07-10T06:57:27.343Z"
   },
   {
    "duration": 102,
    "start_time": "2023-07-10T06:57:45.048Z"
   },
   {
    "duration": 126,
    "start_time": "2023-07-10T06:57:46.941Z"
   },
   {
    "duration": 4,
    "start_time": "2023-07-10T08:24:44.746Z"
   },
   {
    "duration": 241,
    "start_time": "2023-07-10T08:24:55.785Z"
   },
   {
    "duration": 3,
    "start_time": "2023-07-10T08:25:16.262Z"
   },
   {
    "duration": 720,
    "start_time": "2023-07-10T08:25:17.005Z"
   },
   {
    "duration": 125,
    "start_time": "2023-07-10T08:25:17.944Z"
   },
   {
    "duration": 82,
    "start_time": "2023-07-10T08:25:18.683Z"
   },
   {
    "duration": 120,
    "start_time": "2023-07-10T08:25:19.561Z"
   },
   {
    "duration": 181,
    "start_time": "2023-07-10T08:25:20.562Z"
   },
   {
    "duration": 56,
    "start_time": "2023-07-10T08:25:22.513Z"
   },
   {
    "duration": 3,
    "start_time": "2023-07-10T08:25:26.218Z"
   },
   {
    "duration": 99,
    "start_time": "2023-07-10T08:25:27.451Z"
   },
   {
    "duration": 95,
    "start_time": "2023-07-10T08:25:28.478Z"
   },
   {
    "duration": 119,
    "start_time": "2023-07-10T08:25:29.866Z"
   },
   {
    "duration": 34,
    "start_time": "2023-07-10T08:25:30.916Z"
   },
   {
    "duration": 136,
    "start_time": "2023-07-10T08:25:32.962Z"
   },
   {
    "duration": 140,
    "start_time": "2023-07-10T08:25:52.061Z"
   },
   {
    "duration": 191,
    "start_time": "2023-07-10T08:26:06.636Z"
   },
   {
    "duration": 49,
    "start_time": "2023-07-10T08:27:13.568Z"
   },
   {
    "duration": 3,
    "start_time": "2023-07-10T09:21:17.245Z"
   },
   {
    "duration": 708,
    "start_time": "2023-07-10T09:21:18.057Z"
   },
   {
    "duration": 118,
    "start_time": "2023-07-10T09:21:19.033Z"
   },
   {
    "duration": 91,
    "start_time": "2023-07-10T09:21:22.913Z"
   },
   {
    "duration": 199,
    "start_time": "2023-07-10T09:21:26.176Z"
   },
   {
    "duration": 140,
    "start_time": "2023-07-10T09:29:22.056Z"
   },
   {
    "duration": 3,
    "start_time": "2023-07-10T09:29:27.129Z"
   },
   {
    "duration": 191,
    "start_time": "2023-07-10T09:29:28.461Z"
   },
   {
    "duration": 97,
    "start_time": "2023-07-10T09:29:58.551Z"
   },
   {
    "duration": 91,
    "start_time": "2023-07-10T09:30:10.388Z"
   },
   {
    "duration": 45,
    "start_time": "2023-07-10T09:30:20.930Z"
   },
   {
    "duration": 3,
    "start_time": "2023-07-10T09:30:25.806Z"
   },
   {
    "duration": 77,
    "start_time": "2023-07-10T09:30:27.084Z"
   },
   {
    "duration": 74,
    "start_time": "2023-07-10T09:30:33.877Z"
   },
   {
    "duration": 93,
    "start_time": "2023-07-10T09:30:35.367Z"
   },
   {
    "duration": 28,
    "start_time": "2023-07-10T09:30:46.325Z"
   },
   {
    "duration": 130,
    "start_time": "2023-07-10T09:30:52.354Z"
   },
   {
    "duration": 193,
    "start_time": "2023-07-10T09:30:57.740Z"
   },
   {
    "duration": 40,
    "start_time": "2023-07-10T09:31:06.089Z"
   },
   {
    "duration": 96,
    "start_time": "2023-07-10T09:32:18.083Z"
   },
   {
    "duration": 8,
    "start_time": "2023-07-10T09:34:47.737Z"
   },
   {
    "duration": 98,
    "start_time": "2023-07-10T09:34:52.483Z"
   },
   {
    "duration": 200,
    "start_time": "2023-07-10T09:35:26.064Z"
   },
   {
    "duration": 4,
    "start_time": "2023-07-10T09:36:22.797Z"
   },
   {
    "duration": 695,
    "start_time": "2023-07-10T09:36:22.803Z"
   },
   {
    "duration": 123,
    "start_time": "2023-07-10T09:36:23.499Z"
   },
   {
    "duration": 170,
    "start_time": "2023-07-10T09:36:23.632Z"
   },
   {
    "duration": 187,
    "start_time": "2023-07-10T09:36:23.804Z"
   },
   {
    "duration": 3,
    "start_time": "2023-07-10T09:36:23.992Z"
   },
   {
    "duration": 197,
    "start_time": "2023-07-10T09:36:23.996Z"
   },
   {
    "duration": 101,
    "start_time": "2023-07-10T09:36:24.194Z"
   },
   {
    "duration": 107,
    "start_time": "2023-07-10T09:36:24.298Z"
   },
   {
    "duration": 53,
    "start_time": "2023-07-10T09:36:24.406Z"
   },
   {
    "duration": 3,
    "start_time": "2023-07-10T09:36:24.460Z"
   },
   {
    "duration": 94,
    "start_time": "2023-07-10T09:36:24.465Z"
   },
   {
    "duration": 84,
    "start_time": "2023-07-10T09:36:24.560Z"
   },
   {
    "duration": 100,
    "start_time": "2023-07-10T09:36:24.645Z"
   },
   {
    "duration": 37,
    "start_time": "2023-07-10T09:36:24.747Z"
   },
   {
    "duration": 161,
    "start_time": "2023-07-10T09:36:24.786Z"
   },
   {
    "duration": 173,
    "start_time": "2023-07-10T09:36:24.949Z"
   },
   {
    "duration": 47,
    "start_time": "2023-07-10T09:36:25.123Z"
   },
   {
    "duration": 105,
    "start_time": "2023-07-10T09:36:25.171Z"
   },
   {
    "duration": 205,
    "start_time": "2023-07-10T09:36:25.278Z"
   },
   {
    "duration": 9,
    "start_time": "2023-07-10T09:39:26.175Z"
   },
   {
    "duration": 4,
    "start_time": "2023-07-10T09:39:35.870Z"
   },
   {
    "duration": 684,
    "start_time": "2023-07-10T09:39:36.684Z"
   },
   {
    "duration": 120,
    "start_time": "2023-07-10T09:39:37.398Z"
   },
   {
    "duration": 3,
    "start_time": "2023-07-10T09:40:27.011Z"
   },
   {
    "duration": 706,
    "start_time": "2023-07-10T09:40:27.016Z"
   },
   {
    "duration": 129,
    "start_time": "2023-07-10T09:40:27.723Z"
   },
   {
    "duration": 95,
    "start_time": "2023-07-10T09:40:27.855Z"
   },
   {
    "duration": 187,
    "start_time": "2023-07-10T09:40:27.952Z"
   },
   {
    "duration": 2,
    "start_time": "2023-07-10T09:40:28.141Z"
   },
   {
    "duration": 209,
    "start_time": "2023-07-10T09:40:28.145Z"
   },
   {
    "duration": 100,
    "start_time": "2023-07-10T09:40:28.356Z"
   },
   {
    "duration": 106,
    "start_time": "2023-07-10T09:40:28.459Z"
   },
   {
    "duration": 46,
    "start_time": "2023-07-10T09:40:28.567Z"
   },
   {
    "duration": 3,
    "start_time": "2023-07-10T09:40:28.614Z"
   },
   {
    "duration": 80,
    "start_time": "2023-07-10T09:40:28.631Z"
   },
   {
    "duration": 84,
    "start_time": "2023-07-10T09:40:28.713Z"
   },
   {
    "duration": 106,
    "start_time": "2023-07-10T09:40:28.799Z"
   },
   {
    "duration": 31,
    "start_time": "2023-07-10T09:40:28.906Z"
   },
   {
    "duration": 116,
    "start_time": "2023-07-10T09:40:28.939Z"
   },
   {
    "duration": 168,
    "start_time": "2023-07-10T09:40:29.057Z"
   },
   {
    "duration": 47,
    "start_time": "2023-07-10T09:40:29.226Z"
   },
   {
    "duration": 106,
    "start_time": "2023-07-10T09:40:29.275Z"
   },
   {
    "duration": 204,
    "start_time": "2023-07-10T09:40:29.383Z"
   },
   {
    "duration": 3,
    "start_time": "2023-07-10T09:40:34.376Z"
   },
   {
    "duration": 1143,
    "start_time": "2023-07-10T09:41:15.306Z"
   },
   {
    "duration": 88,
    "start_time": "2023-07-10T09:42:46.990Z"
   },
   {
    "duration": 92,
    "start_time": "2023-07-10T09:43:05.061Z"
   },
   {
    "duration": 1141,
    "start_time": "2023-07-10T09:43:19.339Z"
   },
   {
    "duration": 79,
    "start_time": "2023-07-10T09:46:03.794Z"
   },
   {
    "duration": 83,
    "start_time": "2023-07-10T09:47:01.827Z"
   },
   {
    "duration": 4,
    "start_time": "2023-07-10T09:48:01.987Z"
   },
   {
    "duration": 779,
    "start_time": "2023-07-10T09:48:04.113Z"
   },
   {
    "duration": 137,
    "start_time": "2023-07-10T09:48:04.900Z"
   },
   {
    "duration": 91,
    "start_time": "2023-07-10T09:48:05.713Z"
   },
   {
    "duration": 186,
    "start_time": "2023-07-10T09:48:06.542Z"
   },
   {
    "duration": 3,
    "start_time": "2023-07-10T09:48:07.896Z"
   },
   {
    "duration": 194,
    "start_time": "2023-07-10T09:48:08.532Z"
   },
   {
    "duration": 103,
    "start_time": "2023-07-10T09:48:09.266Z"
   },
   {
    "duration": 96,
    "start_time": "2023-07-10T09:48:10.088Z"
   },
   {
    "duration": 46,
    "start_time": "2023-07-10T09:48:10.901Z"
   },
   {
    "duration": 3,
    "start_time": "2023-07-10T09:48:11.761Z"
   },
   {
    "duration": 91,
    "start_time": "2023-07-10T09:48:12.654Z"
   },
   {
    "duration": 74,
    "start_time": "2023-07-10T09:48:13.626Z"
   },
   {
    "duration": 128,
    "start_time": "2023-07-10T09:48:14.548Z"
   },
   {
    "duration": 30,
    "start_time": "2023-07-10T09:48:15.311Z"
   },
   {
    "duration": 112,
    "start_time": "2023-07-10T09:48:16.547Z"
   },
   {
    "duration": 164,
    "start_time": "2023-07-10T09:48:17.167Z"
   },
   {
    "duration": 45,
    "start_time": "2023-07-10T09:48:18.151Z"
   },
   {
    "duration": 104,
    "start_time": "2023-07-10T09:48:19.132Z"
   },
   {
    "duration": 214,
    "start_time": "2023-07-10T09:48:20.760Z"
   },
   {
    "duration": 4,
    "start_time": "2023-07-10T09:48:22.122Z"
   },
   {
    "duration": 86,
    "start_time": "2023-07-10T09:48:25.251Z"
   },
   {
    "duration": 80,
    "start_time": "2023-07-10T09:48:38.367Z"
   },
   {
    "duration": 581,
    "start_time": "2023-07-10T09:48:55.071Z"
   },
   {
    "duration": 71,
    "start_time": "2023-07-10T09:49:18.166Z"
   },
   {
    "duration": 65,
    "start_time": "2023-07-10T09:49:23.269Z"
   },
   {
    "duration": 73886,
    "start_time": "2023-07-10T09:51:08.646Z"
   },
   {
    "duration": 23,
    "start_time": "2023-07-10T10:08:09.166Z"
   },
   {
    "duration": 866,
    "start_time": "2023-07-10T10:08:41.152Z"
   },
   {
    "duration": 910,
    "start_time": "2023-07-10T10:09:00.056Z"
   },
   {
    "duration": 830,
    "start_time": "2023-07-10T10:09:19.152Z"
   },
   {
    "duration": 18799,
    "start_time": "2023-07-10T10:09:25.739Z"
   },
   {
    "duration": 855,
    "start_time": "2023-07-10T10:10:12.151Z"
   },
   {
    "duration": 19808,
    "start_time": "2023-07-10T10:10:19.328Z"
   },
   {
    "duration": 918,
    "start_time": "2023-07-10T10:13:25.043Z"
   },
   {
    "duration": 21169,
    "start_time": "2023-07-10T10:13:37.465Z"
   },
   {
    "duration": 4,
    "start_time": "2023-07-10T10:15:30.286Z"
   },
   {
    "duration": 795,
    "start_time": "2023-07-10T10:15:30.292Z"
   },
   {
    "duration": 142,
    "start_time": "2023-07-10T10:15:31.089Z"
   },
   {
    "duration": 120,
    "start_time": "2023-07-10T10:15:31.233Z"
   },
   {
    "duration": 318,
    "start_time": "2023-07-10T10:15:31.356Z"
   },
   {
    "duration": 3,
    "start_time": "2023-07-10T10:15:31.677Z"
   },
   {
    "duration": 266,
    "start_time": "2023-07-10T10:15:31.681Z"
   },
   {
    "duration": 125,
    "start_time": "2023-07-10T10:15:31.949Z"
   },
   {
    "duration": 134,
    "start_time": "2023-07-10T10:15:32.076Z"
   },
   {
    "duration": 76,
    "start_time": "2023-07-10T10:15:32.212Z"
   },
   {
    "duration": 5,
    "start_time": "2023-07-10T10:15:32.290Z"
   },
   {
    "duration": 151,
    "start_time": "2023-07-10T10:15:32.296Z"
   },
   {
    "duration": 90,
    "start_time": "2023-07-10T10:15:32.449Z"
   },
   {
    "duration": 75,
    "start_time": "2023-07-10T10:15:32.543Z"
   },
   {
    "duration": 84,
    "start_time": "2023-07-10T10:15:40.996Z"
   },
   {
    "duration": 169,
    "start_time": "2023-07-10T10:15:44.065Z"
   },
   {
    "duration": 44,
    "start_time": "2023-07-10T10:15:47.144Z"
   },
   {
    "duration": 110,
    "start_time": "2023-07-10T10:15:49.808Z"
   },
   {
    "duration": 226,
    "start_time": "2023-07-10T10:15:50.965Z"
   },
   {
    "duration": 3,
    "start_time": "2023-07-10T10:15:52.702Z"
   },
   {
    "duration": 819,
    "start_time": "2023-07-10T10:15:54.503Z"
   },
   {
    "duration": 18591,
    "start_time": "2023-07-10T10:15:59.247Z"
   },
   {
    "duration": 3,
    "start_time": "2023-07-10T10:18:47.255Z"
   },
   {
    "duration": 3,
    "start_time": "2023-07-10T10:18:56.889Z"
   },
   {
    "duration": 3,
    "start_time": "2023-07-10T10:19:05.985Z"
   },
   {
    "duration": 3,
    "start_time": "2023-07-10T10:23:44.452Z"
   },
   {
    "duration": 42,
    "start_time": "2023-07-10T10:27:23.963Z"
   },
   {
    "duration": 96,
    "start_time": "2023-07-10T10:27:48.275Z"
   },
   {
    "duration": 99,
    "start_time": "2023-07-10T10:28:20.158Z"
   },
   {
    "duration": 66,
    "start_time": "2023-07-10T10:31:18.631Z"
   },
   {
    "duration": 106,
    "start_time": "2023-07-10T10:33:26.339Z"
   },
   {
    "duration": 4,
    "start_time": "2023-07-10T10:33:28.057Z"
   },
   {
    "duration": 653,
    "start_time": "2023-07-10T10:33:32.761Z"
   },
   {
    "duration": 25630,
    "start_time": "2023-07-10T10:33:35.012Z"
   },
   {
    "duration": 3,
    "start_time": "2023-07-10T10:34:07.169Z"
   },
   {
    "duration": 500,
    "start_time": "2023-07-10T10:34:08.812Z"
   },
   {
    "duration": 3,
    "start_time": "2023-07-10T10:35:23.168Z"
   },
   {
    "duration": 164715,
    "start_time": "2023-07-10T10:35:31.731Z"
   },
   {
    "duration": 126,
    "start_time": "2023-07-10T10:40:16.738Z"
   },
   {
    "duration": 3,
    "start_time": "2023-07-10T10:40:31.981Z"
   },
   {
    "duration": 36840,
    "start_time": "2023-07-10T10:40:32.914Z"
   },
   {
    "duration": 7410,
    "start_time": "2023-07-10T10:41:23.444Z"
   },
   {
    "duration": 7620,
    "start_time": "2023-07-10T10:44:58.339Z"
   },
   {
    "duration": 17668,
    "start_time": "2023-07-10T10:45:36.071Z"
   },
   {
    "duration": 47,
    "start_time": "2023-07-10T10:46:46.955Z"
   },
   {
    "duration": 228,
    "start_time": "2023-07-10T10:46:54.891Z"
   },
   {
    "duration": 150,
    "start_time": "2023-07-10T10:47:11.603Z"
   },
   {
    "duration": 3,
    "start_time": "2023-07-10T10:47:20.029Z"
   },
   {
    "duration": 112050,
    "start_time": "2023-07-10T10:47:20.992Z"
   },
   {
    "duration": 13989,
    "start_time": "2023-07-10T10:49:13.044Z"
   },
   {
    "duration": 178,
    "start_time": "2023-07-10T10:51:24.484Z"
   },
   {
    "duration": 3,
    "start_time": "2023-07-10T10:51:33.288Z"
   },
   {
    "duration": 26174,
    "start_time": "2023-07-10T10:51:38.248Z"
   },
   {
    "duration": 3,
    "start_time": "2023-07-10T10:52:29.743Z"
   },
   {
    "duration": 242363,
    "start_time": "2023-07-10T10:52:30.889Z"
   },
   {
    "duration": 14516,
    "start_time": "2023-07-10T10:56:33.254Z"
   },
   {
    "duration": 0,
    "start_time": "2023-07-10T10:56:47.776Z"
   },
   {
    "duration": 0,
    "start_time": "2023-07-10T10:56:47.777Z"
   },
   {
    "duration": 0,
    "start_time": "2023-07-10T10:56:47.778Z"
   },
   {
    "duration": 23699,
    "start_time": "2023-07-10T10:57:02.341Z"
   },
   {
    "duration": 89,
    "start_time": "2023-07-10T10:57:26.043Z"
   },
   {
    "duration": 135244,
    "start_time": "2023-07-10T10:57:26.134Z"
   },
   {
    "duration": 14412,
    "start_time": "2023-07-10T10:59:41.381Z"
   },
   {
    "duration": 1492,
    "start_time": "2023-07-10T10:59:59.536Z"
   },
   {
    "duration": 845,
    "start_time": "2023-07-10T11:00:01.030Z"
   },
   {
    "duration": 156,
    "start_time": "2023-07-10T11:00:01.876Z"
   },
   {
    "duration": 154,
    "start_time": "2023-07-10T11:00:02.035Z"
   },
   {
    "duration": 427,
    "start_time": "2023-07-10T11:00:02.191Z"
   },
   {
    "duration": 3,
    "start_time": "2023-07-10T11:00:02.620Z"
   },
   {
    "duration": 307,
    "start_time": "2023-07-10T11:00:02.631Z"
   },
   {
    "duration": 123,
    "start_time": "2023-07-10T11:00:02.940Z"
   },
   {
    "duration": 305,
    "start_time": "2023-07-10T11:00:03.065Z"
   },
   {
    "duration": 192,
    "start_time": "2023-07-10T11:00:03.374Z"
   },
   {
    "duration": 5,
    "start_time": "2023-07-10T11:00:03.568Z"
   },
   {
    "duration": 150,
    "start_time": "2023-07-10T11:00:03.575Z"
   },
   {
    "duration": 98,
    "start_time": "2023-07-10T11:00:03.727Z"
   },
   {
    "duration": 77,
    "start_time": "2023-07-10T11:00:03.826Z"
   },
   {
    "duration": 140,
    "start_time": "2023-07-10T11:00:03.905Z"
   },
   {
    "duration": 229,
    "start_time": "2023-07-10T11:00:04.047Z"
   },
   {
    "duration": 63,
    "start_time": "2023-07-10T11:00:04.278Z"
   },
   {
    "duration": 416,
    "start_time": "2023-07-10T11:00:04.343Z"
   },
   {
    "duration": 288,
    "start_time": "2023-07-10T11:00:04.762Z"
   },
   {
    "duration": 81,
    "start_time": "2023-07-10T11:00:05.052Z"
   },
   {
    "duration": 171,
    "start_time": "2023-07-10T11:00:05.134Z"
   },
   {
    "duration": 4,
    "start_time": "2023-07-10T11:00:05.307Z"
   },
   {
    "duration": 712,
    "start_time": "2023-07-10T11:00:05.313Z"
   },
   {
    "duration": 27712,
    "start_time": "2023-07-10T11:00:06.027Z"
   },
   {
    "duration": 3,
    "start_time": "2023-07-10T11:00:33.831Z"
   },
   {
    "duration": 93320,
    "start_time": "2023-07-10T11:00:33.835Z"
   },
   {
    "duration": 12990,
    "start_time": "2023-07-10T11:02:07.156Z"
   },
   {
    "duration": 12082,
    "start_time": "2023-07-10T11:04:40.854Z"
   },
   {
    "duration": 12132,
    "start_time": "2023-07-10T11:05:00.747Z"
   },
   {
    "duration": 120,
    "start_time": "2023-07-10T11:05:29.545Z"
   },
   {
    "duration": 394303,
    "start_time": "2023-07-10T11:05:35.579Z"
   },
   {
    "duration": 2623,
    "start_time": "2023-07-10T11:16:48.717Z"
   },
   {
    "duration": 12864,
    "start_time": "2023-07-10T11:18:29.719Z"
   },
   {
    "duration": 18252,
    "start_time": "2023-07-10T11:19:11.481Z"
   },
   {
    "duration": 158,
    "start_time": "2023-07-10T11:19:36.582Z"
   },
   {
    "duration": 210,
    "start_time": "2023-07-10T11:19:56.425Z"
   },
   {
    "duration": 2716,
    "start_time": "2023-07-10T11:20:23.793Z"
   },
   {
    "duration": 877,
    "start_time": "2023-07-10T12:35:12.009Z"
   },
   {
    "duration": 23940,
    "start_time": "2023-07-10T12:36:02.398Z"
   },
   {
    "duration": 79,
    "start_time": "2023-07-10T12:36:32.860Z"
   },
   {
    "duration": 658,
    "start_time": "2023-07-10T12:37:42.394Z"
   },
   {
    "duration": 17197,
    "start_time": "2023-07-10T12:37:47.335Z"
   },
   {
    "duration": 217,
    "start_time": "2023-07-10T12:38:09.817Z"
   },
   {
    "duration": 110,
    "start_time": "2023-07-10T12:39:12.838Z"
   },
   {
    "duration": 100,
    "start_time": "2023-07-10T12:47:20.901Z"
   },
   {
    "duration": 4,
    "start_time": "2023-07-10T12:48:05.086Z"
   },
   {
    "duration": 1274,
    "start_time": "2023-07-10T12:48:42.509Z"
   },
   {
    "duration": 787,
    "start_time": "2023-07-10T12:48:43.784Z"
   },
   {
    "duration": 163,
    "start_time": "2023-07-10T12:48:44.573Z"
   },
   {
    "duration": 103,
    "start_time": "2023-07-10T12:48:44.739Z"
   },
   {
    "duration": 370,
    "start_time": "2023-07-10T12:48:44.843Z"
   },
   {
    "duration": 3,
    "start_time": "2023-07-10T12:48:45.214Z"
   },
   {
    "duration": 238,
    "start_time": "2023-07-10T12:48:45.218Z"
   },
   {
    "duration": 104,
    "start_time": "2023-07-10T12:48:45.457Z"
   },
   {
    "duration": 105,
    "start_time": "2023-07-10T12:48:45.563Z"
   },
   {
    "duration": 73,
    "start_time": "2023-07-10T12:48:45.671Z"
   },
   {
    "duration": 3,
    "start_time": "2023-07-10T12:48:45.745Z"
   },
   {
    "duration": 96,
    "start_time": "2023-07-10T12:48:45.749Z"
   },
   {
    "duration": 71,
    "start_time": "2023-07-10T12:48:45.847Z"
   },
   {
    "duration": 54,
    "start_time": "2023-07-10T12:48:45.920Z"
   },
   {
    "duration": 94,
    "start_time": "2023-07-10T12:48:45.976Z"
   },
   {
    "duration": 168,
    "start_time": "2023-07-10T12:48:46.072Z"
   },
   {
    "duration": 42,
    "start_time": "2023-07-10T12:48:46.243Z"
   },
   {
    "duration": 126,
    "start_time": "2023-07-10T12:48:46.286Z"
   },
   {
    "duration": 247,
    "start_time": "2023-07-10T12:48:46.414Z"
   },
   {
    "duration": 59,
    "start_time": "2023-07-10T12:48:46.662Z"
   },
   {
    "duration": 132,
    "start_time": "2023-07-10T12:48:46.732Z"
   },
   {
    "duration": 3,
    "start_time": "2023-07-10T12:48:46.865Z"
   },
   {
    "duration": 682,
    "start_time": "2023-07-10T12:48:46.870Z"
   },
   {
    "duration": 17282,
    "start_time": "2023-07-10T12:48:47.554Z"
   },
   {
    "duration": 296,
    "start_time": "2023-07-10T12:49:04.838Z"
   },
   {
    "duration": 5,
    "start_time": "2023-07-10T12:49:38.227Z"
   },
   {
    "duration": 225,
    "start_time": "2023-07-10T12:50:42.824Z"
   },
   {
    "duration": 573,
    "start_time": "2023-07-10T12:51:36.044Z"
   },
   {
    "duration": 126683,
    "start_time": "2023-07-10T12:51:59.160Z"
   },
   {
    "duration": 34510,
    "start_time": "2023-07-10T12:54:45.120Z"
   },
   {
    "duration": 1205449,
    "start_time": "2023-07-10T12:55:29.397Z"
   },
   {
    "duration": 68,
    "start_time": "2023-07-10T13:27:21.794Z"
   },
   {
    "duration": 109,
    "start_time": "2023-07-10T13:27:45.788Z"
   },
   {
    "duration": 142,
    "start_time": "2023-07-10T13:27:55.989Z"
   },
   {
    "duration": 1396145,
    "start_time": "2023-07-10T13:28:25.218Z"
   },
   {
    "duration": 501182,
    "start_time": "2023-07-10T13:54:23.893Z"
   },
   {
    "duration": 46,
    "start_time": "2023-07-10T14:02:51.937Z"
   },
   {
    "duration": 109124,
    "start_time": "2023-07-10T14:03:00.670Z"
   },
   {
    "duration": 885313,
    "start_time": "2023-07-10T14:05:07.424Z"
   },
   {
    "duration": 1186,
    "start_time": "2023-07-10T14:30:08.135Z"
   },
   {
    "duration": 916,
    "start_time": "2023-07-10T14:30:09.323Z"
   },
   {
    "duration": 160,
    "start_time": "2023-07-10T14:30:10.246Z"
   },
   {
    "duration": 135,
    "start_time": "2023-07-10T14:30:10.409Z"
   },
   {
    "duration": 425,
    "start_time": "2023-07-10T14:30:10.548Z"
   },
   {
    "duration": 3,
    "start_time": "2023-07-10T14:30:10.975Z"
   },
   {
    "duration": 261,
    "start_time": "2023-07-10T14:30:10.980Z"
   },
   {
    "duration": 103,
    "start_time": "2023-07-10T14:30:11.246Z"
   },
   {
    "duration": 115,
    "start_time": "2023-07-10T14:30:11.351Z"
   },
   {
    "duration": 67,
    "start_time": "2023-07-10T14:30:11.469Z"
   },
   {
    "duration": 5,
    "start_time": "2023-07-10T14:30:11.542Z"
   },
   {
    "duration": 94,
    "start_time": "2023-07-10T14:30:11.548Z"
   },
   {
    "duration": 74,
    "start_time": "2023-07-10T14:30:11.648Z"
   },
   {
    "duration": 52,
    "start_time": "2023-07-10T14:30:11.724Z"
   },
   {
    "duration": 107,
    "start_time": "2023-07-10T14:30:11.778Z"
   },
   {
    "duration": 189,
    "start_time": "2023-07-10T14:30:11.887Z"
   },
   {
    "duration": 56,
    "start_time": "2023-07-10T14:30:12.078Z"
   },
   {
    "duration": 124,
    "start_time": "2023-07-10T14:30:12.136Z"
   },
   {
    "duration": 249,
    "start_time": "2023-07-10T14:30:12.262Z"
   },
   {
    "duration": 74,
    "start_time": "2023-07-10T14:30:12.512Z"
   },
   {
    "duration": 182,
    "start_time": "2023-07-10T14:30:12.588Z"
   },
   {
    "duration": 4,
    "start_time": "2023-07-10T14:30:12.771Z"
   },
   {
    "duration": 738,
    "start_time": "2023-07-10T14:30:12.776Z"
   },
   {
    "duration": 44930,
    "start_time": "2023-07-10T14:30:13.516Z"
   },
   {
    "duration": 291,
    "start_time": "2023-07-10T14:30:58.453Z"
   },
   {
    "duration": 437211,
    "start_time": "2023-07-10T14:30:58.746Z"
   },
   {
    "duration": 1207,
    "start_time": "2023-07-10T14:38:15.959Z"
   },
   {
    "duration": 0,
    "start_time": "2023-07-10T14:38:17.168Z"
   },
   {
    "duration": 0,
    "start_time": "2023-07-10T14:38:17.169Z"
   },
   {
    "duration": 1110,
    "start_time": "2023-07-10T14:43:24.436Z"
   },
   {
    "duration": 971,
    "start_time": "2023-07-10T14:43:35.962Z"
   },
   {
    "duration": 150217,
    "start_time": "2023-07-10T14:43:53.723Z"
   },
   {
    "duration": 1393,
    "start_time": "2023-07-10T14:48:39.857Z"
   },
   {
    "duration": 413227,
    "start_time": "2023-07-10T14:49:10.549Z"
   },
   {
    "duration": 2850,
    "start_time": "2023-07-10T14:56:03.778Z"
   },
   {
    "duration": 46123,
    "start_time": "2023-07-10T15:03:26.018Z"
   },
   {
    "duration": 3756,
    "start_time": "2023-07-10T15:04:22.912Z"
   },
   {
    "duration": 4,
    "start_time": "2023-07-10T15:22:04.544Z"
   },
   {
    "duration": 871,
    "start_time": "2023-07-10T15:22:04.550Z"
   },
   {
    "duration": 134,
    "start_time": "2023-07-10T15:22:05.423Z"
   },
   {
    "duration": 98,
    "start_time": "2023-07-10T15:22:05.558Z"
   },
   {
    "duration": 300,
    "start_time": "2023-07-10T15:22:05.658Z"
   },
   {
    "duration": 3,
    "start_time": "2023-07-10T15:22:05.960Z"
   },
   {
    "duration": 217,
    "start_time": "2023-07-10T15:22:05.966Z"
   },
   {
    "duration": 107,
    "start_time": "2023-07-10T15:22:06.185Z"
   },
   {
    "duration": 113,
    "start_time": "2023-07-10T15:22:06.293Z"
   },
   {
    "duration": 56,
    "start_time": "2023-07-10T15:22:06.408Z"
   },
   {
    "duration": 3,
    "start_time": "2023-07-10T15:22:06.466Z"
   },
   {
    "duration": 95,
    "start_time": "2023-07-10T15:22:06.470Z"
   },
   {
    "duration": 86,
    "start_time": "2023-07-10T15:22:06.567Z"
   },
   {
    "duration": 51,
    "start_time": "2023-07-10T15:22:06.655Z"
   },
   {
    "duration": 96,
    "start_time": "2023-07-10T15:22:06.708Z"
   },
   {
    "duration": 184,
    "start_time": "2023-07-10T15:22:06.805Z"
   },
   {
    "duration": 54,
    "start_time": "2023-07-10T15:22:06.990Z"
   },
   {
    "duration": 116,
    "start_time": "2023-07-10T15:22:07.046Z"
   },
   {
    "duration": 235,
    "start_time": "2023-07-10T15:22:07.164Z"
   },
   {
    "duration": 62,
    "start_time": "2023-07-10T15:22:07.401Z"
   },
   {
    "duration": 343,
    "start_time": "2023-07-10T15:22:07.464Z"
   },
   {
    "duration": 4,
    "start_time": "2023-07-10T15:22:07.809Z"
   },
   {
    "duration": 693,
    "start_time": "2023-07-10T15:22:07.816Z"
   },
   {
    "duration": 1168,
    "start_time": "2023-07-10T15:22:25.651Z"
   },
   {
    "duration": 800,
    "start_time": "2023-07-10T15:22:26.821Z"
   },
   {
    "duration": 139,
    "start_time": "2023-07-10T15:22:27.631Z"
   },
   {
    "duration": 107,
    "start_time": "2023-07-10T15:22:27.772Z"
   },
   {
    "duration": 374,
    "start_time": "2023-07-10T15:22:27.881Z"
   },
   {
    "duration": 3,
    "start_time": "2023-07-10T15:22:28.257Z"
   },
   {
    "duration": 251,
    "start_time": "2023-07-10T15:22:28.261Z"
   },
   {
    "duration": 100,
    "start_time": "2023-07-10T15:22:28.514Z"
   },
   {
    "duration": 178,
    "start_time": "2023-07-10T15:22:28.617Z"
   },
   {
    "duration": 139,
    "start_time": "2023-07-10T15:22:28.797Z"
   },
   {
    "duration": 4,
    "start_time": "2023-07-10T15:22:28.938Z"
   },
   {
    "duration": 126,
    "start_time": "2023-07-10T15:22:28.944Z"
   },
   {
    "duration": 83,
    "start_time": "2023-07-10T15:22:29.071Z"
   },
   {
    "duration": 46,
    "start_time": "2023-07-10T15:22:29.155Z"
   },
   {
    "duration": 96,
    "start_time": "2023-07-10T15:22:29.202Z"
   },
   {
    "duration": 180,
    "start_time": "2023-07-10T15:22:29.299Z"
   },
   {
    "duration": 53,
    "start_time": "2023-07-10T15:22:29.481Z"
   },
   {
    "duration": 118,
    "start_time": "2023-07-10T15:22:29.536Z"
   },
   {
    "duration": 245,
    "start_time": "2023-07-10T15:22:29.656Z"
   },
   {
    "duration": 71,
    "start_time": "2023-07-10T15:22:29.902Z"
   },
   {
    "duration": 134,
    "start_time": "2023-07-10T15:22:29.974Z"
   },
   {
    "duration": 3,
    "start_time": "2023-07-10T15:22:30.110Z"
   },
   {
    "duration": 720,
    "start_time": "2023-07-10T15:22:30.115Z"
   },
   {
    "duration": 24702,
    "start_time": "2023-07-10T15:22:30.837Z"
   },
   {
    "duration": 392,
    "start_time": "2023-07-10T15:22:55.540Z"
   },
   {
    "duration": 121124,
    "start_time": "2023-07-10T15:22:55.934Z"
   },
   {
    "duration": 11,
    "start_time": "2023-07-10T15:24:57.061Z"
   },
   {
    "duration": 0,
    "start_time": "2023-07-10T15:24:57.074Z"
   },
   {
    "duration": 0,
    "start_time": "2023-07-10T15:24:57.075Z"
   },
   {
    "duration": 16116,
    "start_time": "2023-07-10T15:25:16.910Z"
   },
   {
    "duration": 1150,
    "start_time": "2023-07-10T15:28:07.267Z"
   },
   {
    "duration": 830,
    "start_time": "2023-07-10T15:28:08.419Z"
   },
   {
    "duration": 126,
    "start_time": "2023-07-10T15:28:09.251Z"
   },
   {
    "duration": 109,
    "start_time": "2023-07-10T15:28:09.379Z"
   },
   {
    "duration": 379,
    "start_time": "2023-07-10T15:28:09.490Z"
   },
   {
    "duration": 3,
    "start_time": "2023-07-10T15:28:09.871Z"
   },
   {
    "duration": 244,
    "start_time": "2023-07-10T15:28:09.875Z"
   },
   {
    "duration": 112,
    "start_time": "2023-07-10T15:28:10.121Z"
   },
   {
    "duration": 102,
    "start_time": "2023-07-10T15:28:10.235Z"
   },
   {
    "duration": 53,
    "start_time": "2023-07-10T15:28:10.340Z"
   },
   {
    "duration": 3,
    "start_time": "2023-07-10T15:28:10.395Z"
   },
   {
    "duration": 109,
    "start_time": "2023-07-10T15:28:10.400Z"
   },
   {
    "duration": 84,
    "start_time": "2023-07-10T15:28:10.511Z"
   },
   {
    "duration": 54,
    "start_time": "2023-07-10T15:28:10.597Z"
   },
   {
    "duration": 96,
    "start_time": "2023-07-10T15:28:10.653Z"
   },
   {
    "duration": 180,
    "start_time": "2023-07-10T15:28:10.751Z"
   },
   {
    "duration": 45,
    "start_time": "2023-07-10T15:28:10.933Z"
   },
   {
    "duration": 129,
    "start_time": "2023-07-10T15:28:10.979Z"
   },
   {
    "duration": 246,
    "start_time": "2023-07-10T15:28:11.109Z"
   },
   {
    "duration": 61,
    "start_time": "2023-07-10T15:28:11.357Z"
   },
   {
    "duration": 133,
    "start_time": "2023-07-10T15:28:11.419Z"
   },
   {
    "duration": 5,
    "start_time": "2023-07-10T15:28:11.553Z"
   },
   {
    "duration": 667,
    "start_time": "2023-07-10T15:28:11.559Z"
   },
   {
    "duration": 22513,
    "start_time": "2023-07-10T15:28:12.228Z"
   },
   {
    "duration": 390,
    "start_time": "2023-07-10T15:28:34.743Z"
   },
   {
    "duration": 645706,
    "start_time": "2023-07-10T15:28:35.135Z"
   },
   {
    "duration": 3500,
    "start_time": "2023-07-10T15:39:20.842Z"
   },
   {
    "duration": 384812,
    "start_time": "2023-07-10T15:39:24.345Z"
   },
   {
    "duration": 2688,
    "start_time": "2023-07-10T15:45:49.158Z"
   },
   {
    "duration": 3404,
    "start_time": "2023-07-10T15:57:56.047Z"
   },
   {
    "duration": 2759,
    "start_time": "2023-07-10T16:00:56.519Z"
   },
   {
    "duration": 1372,
    "start_time": "2023-07-21T06:31:37.362Z"
   },
   {
    "duration": 3374,
    "start_time": "2023-07-21T06:31:38.737Z"
   },
   {
    "duration": 144,
    "start_time": "2023-07-21T06:31:42.113Z"
   },
   {
    "duration": 113,
    "start_time": "2023-07-21T06:31:42.259Z"
   },
   {
    "duration": 734,
    "start_time": "2023-07-21T06:31:42.374Z"
   },
   {
    "duration": 4,
    "start_time": "2023-07-21T06:31:43.111Z"
   },
   {
    "duration": 311,
    "start_time": "2023-07-21T06:31:43.120Z"
   },
   {
    "duration": 140,
    "start_time": "2023-07-21T06:31:43.433Z"
   },
   {
    "duration": 129,
    "start_time": "2023-07-21T06:31:43.575Z"
   },
   {
    "duration": 107,
    "start_time": "2023-07-21T06:31:43.708Z"
   },
   {
    "duration": 73,
    "start_time": "2023-07-21T06:31:43.817Z"
   },
   {
    "duration": 5,
    "start_time": "2023-07-21T06:31:43.892Z"
   },
   {
    "duration": 172,
    "start_time": "2023-07-21T06:31:43.900Z"
   },
   {
    "duration": 72,
    "start_time": "2023-07-21T06:31:44.074Z"
   },
   {
    "duration": 170,
    "start_time": "2023-07-21T06:31:44.148Z"
   },
   {
    "duration": 162,
    "start_time": "2023-07-21T06:31:44.320Z"
   },
   {
    "duration": 284,
    "start_time": "2023-07-21T06:31:44.484Z"
   },
   {
    "duration": 68,
    "start_time": "2023-07-21T06:31:44.770Z"
   },
   {
    "duration": 144,
    "start_time": "2023-07-21T06:31:44.840Z"
   },
   {
    "duration": 4,
    "start_time": "2023-07-21T06:31:44.985Z"
   },
   {
    "duration": 935,
    "start_time": "2023-07-21T06:32:18.019Z"
   },
   {
    "duration": 22530,
    "start_time": "2023-07-21T06:42:53.990Z"
   },
   {
    "duration": 995,
    "start_time": "2023-07-21T06:43:50.499Z"
   },
   {
    "duration": 4,
    "start_time": "2023-07-21T07:43:17.550Z"
   },
   {
    "duration": 3,
    "start_time": "2023-07-21T10:10:09.019Z"
   },
   {
    "duration": 14151,
    "start_time": "2023-07-21T10:10:38.500Z"
   },
   {
    "duration": 1322,
    "start_time": "2023-07-22T08:21:05.981Z"
   },
   {
    "duration": 1512,
    "start_time": "2023-07-22T08:21:07.306Z"
   },
   {
    "duration": 191,
    "start_time": "2023-07-22T08:21:08.820Z"
   },
   {
    "duration": 135,
    "start_time": "2023-07-22T08:21:09.014Z"
   },
   {
    "duration": 725,
    "start_time": "2023-07-22T08:21:09.153Z"
   },
   {
    "duration": 9,
    "start_time": "2023-07-22T08:21:09.882Z"
   },
   {
    "duration": 318,
    "start_time": "2023-07-22T08:21:09.896Z"
   },
   {
    "duration": 136,
    "start_time": "2023-07-22T08:21:10.217Z"
   },
   {
    "duration": 125,
    "start_time": "2023-07-22T08:21:10.354Z"
   },
   {
    "duration": 120,
    "start_time": "2023-07-22T08:21:10.481Z"
   },
   {
    "duration": 69,
    "start_time": "2023-07-22T08:21:10.603Z"
   },
   {
    "duration": 10,
    "start_time": "2023-07-22T08:21:10.674Z"
   },
   {
    "duration": 104,
    "start_time": "2023-07-22T08:21:10.686Z"
   },
   {
    "duration": 50,
    "start_time": "2023-07-22T08:21:10.793Z"
   },
   {
    "duration": 112,
    "start_time": "2023-07-22T08:21:10.845Z"
   },
   {
    "duration": 143,
    "start_time": "2023-07-22T08:21:10.958Z"
   },
   {
    "duration": 360,
    "start_time": "2023-07-22T08:21:11.103Z"
   },
   {
    "duration": 102,
    "start_time": "2023-07-22T08:21:11.465Z"
   },
   {
    "duration": 163,
    "start_time": "2023-07-22T08:21:11.569Z"
   },
   {
    "duration": 4,
    "start_time": "2023-07-22T08:21:11.734Z"
   },
   {
    "duration": 935,
    "start_time": "2023-07-22T08:21:11.739Z"
   },
   {
    "duration": 88300,
    "start_time": "2023-07-22T08:21:12.676Z"
   },
   {
    "duration": 300,
    "start_time": "2023-07-22T08:22:40.978Z"
   },
   {
    "duration": 1557,
    "start_time": "2023-07-22T09:32:03.020Z"
   },
   {
    "duration": 1033,
    "start_time": "2023-07-22T09:32:04.585Z"
   },
   {
    "duration": 149,
    "start_time": "2023-07-22T09:32:05.620Z"
   },
   {
    "duration": 153,
    "start_time": "2023-07-22T09:32:05.776Z"
   },
   {
    "duration": 587,
    "start_time": "2023-07-22T09:32:05.931Z"
   },
   {
    "duration": 7,
    "start_time": "2023-07-22T09:32:06.520Z"
   },
   {
    "duration": 312,
    "start_time": "2023-07-22T09:32:06.529Z"
   },
   {
    "duration": 154,
    "start_time": "2023-07-22T09:32:06.843Z"
   },
   {
    "duration": 129,
    "start_time": "2023-07-22T09:32:06.998Z"
   },
   {
    "duration": 108,
    "start_time": "2023-07-22T09:32:07.129Z"
   },
   {
    "duration": 82,
    "start_time": "2023-07-22T09:32:07.238Z"
   },
   {
    "duration": 4,
    "start_time": "2023-07-22T09:32:07.322Z"
   },
   {
    "duration": 129,
    "start_time": "2023-07-22T09:32:07.328Z"
   },
   {
    "duration": 73,
    "start_time": "2023-07-22T09:32:07.460Z"
   },
   {
    "duration": 109,
    "start_time": "2023-07-22T09:32:07.535Z"
   },
   {
    "duration": 168,
    "start_time": "2023-07-22T09:32:07.646Z"
   },
   {
    "duration": 289,
    "start_time": "2023-07-22T09:32:07.816Z"
   },
   {
    "duration": 60,
    "start_time": "2023-07-22T09:32:08.107Z"
   },
   {
    "duration": 240,
    "start_time": "2023-07-22T09:32:08.170Z"
   },
   {
    "duration": 12,
    "start_time": "2023-07-22T09:32:08.413Z"
   },
   {
    "duration": 956,
    "start_time": "2023-07-22T09:32:08.427Z"
   },
   {
    "duration": 62565,
    "start_time": "2023-07-22T09:32:09.392Z"
   },
   {
    "duration": 405,
    "start_time": "2023-07-22T09:33:11.959Z"
   },
   {
    "duration": 1407,
    "start_time": "2023-07-22T18:00:28.443Z"
   },
   {
    "duration": 1443,
    "start_time": "2023-07-22T18:00:29.853Z"
   },
   {
    "duration": 131,
    "start_time": "2023-07-22T18:00:31.298Z"
   },
   {
    "duration": 118,
    "start_time": "2023-07-22T18:00:31.432Z"
   },
   {
    "duration": 460,
    "start_time": "2023-07-22T18:00:31.556Z"
   },
   {
    "duration": 3,
    "start_time": "2023-07-22T18:00:32.018Z"
   },
   {
    "duration": 292,
    "start_time": "2023-07-22T18:00:32.023Z"
   },
   {
    "duration": 114,
    "start_time": "2023-07-22T18:00:32.317Z"
   },
   {
    "duration": 129,
    "start_time": "2023-07-22T18:00:32.434Z"
   },
   {
    "duration": 85,
    "start_time": "2023-07-22T18:00:32.569Z"
   },
   {
    "duration": 69,
    "start_time": "2023-07-22T18:00:32.655Z"
   },
   {
    "duration": 3,
    "start_time": "2023-07-22T18:00:32.726Z"
   },
   {
    "duration": 99,
    "start_time": "2023-07-22T18:00:32.731Z"
   },
   {
    "duration": 60,
    "start_time": "2023-07-22T18:00:32.831Z"
   },
   {
    "duration": 104,
    "start_time": "2023-07-22T18:00:32.893Z"
   },
   {
    "duration": 136,
    "start_time": "2023-07-22T18:00:33.000Z"
   },
   {
    "duration": 277,
    "start_time": "2023-07-22T18:00:33.137Z"
   },
   {
    "duration": 68,
    "start_time": "2023-07-22T18:00:33.416Z"
   },
   {
    "duration": 151,
    "start_time": "2023-07-22T18:00:33.487Z"
   },
   {
    "duration": 3,
    "start_time": "2023-07-22T18:00:33.640Z"
   },
   {
    "duration": 794,
    "start_time": "2023-07-22T18:00:33.654Z"
   },
   {
    "duration": 36916,
    "start_time": "2023-07-22T18:00:34.450Z"
   },
   {
    "duration": 310,
    "start_time": "2023-07-22T18:01:11.369Z"
   },
   {
    "duration": 3059883,
    "start_time": "2023-07-22T18:01:11.681Z"
   },
   {
    "duration": 1498,
    "start_time": "2023-07-22T18:52:11.568Z"
   },
   {
    "duration": 0,
    "start_time": "2023-07-23T06:53:29.870Z"
   },
   {
    "duration": 4,
    "start_time": "2023-07-23T06:53:33.204Z"
   },
   {
    "duration": 5,
    "start_time": "2023-07-23T06:54:54.815Z"
   },
   {
    "duration": 986,
    "start_time": "2023-07-23T06:54:54.822Z"
   },
   {
    "duration": 125,
    "start_time": "2023-07-23T06:54:55.810Z"
   },
   {
    "duration": 258,
    "start_time": "2023-07-23T06:54:55.937Z"
   },
   {
    "duration": 249,
    "start_time": "2023-07-23T06:54:56.198Z"
   },
   {
    "duration": 8,
    "start_time": "2023-07-23T06:54:56.461Z"
   },
   {
    "duration": 258,
    "start_time": "2023-07-23T06:54:56.471Z"
   },
   {
    "duration": 102,
    "start_time": "2023-07-23T06:54:56.731Z"
   },
   {
    "duration": 105,
    "start_time": "2023-07-23T06:54:56.835Z"
   },
   {
    "duration": 103,
    "start_time": "2023-07-23T06:54:56.942Z"
   },
   {
    "duration": 73,
    "start_time": "2023-07-23T06:54:57.048Z"
   },
   {
    "duration": 99,
    "start_time": "2023-07-23T06:54:57.124Z"
   },
   {
    "duration": 97,
    "start_time": "2023-07-23T06:54:57.225Z"
   },
   {
    "duration": 75,
    "start_time": "2023-07-23T06:54:57.325Z"
   },
   {
    "duration": 107,
    "start_time": "2023-07-23T06:54:57.403Z"
   },
   {
    "duration": 134,
    "start_time": "2023-07-23T06:54:57.513Z"
   },
   {
    "duration": 282,
    "start_time": "2023-07-23T06:54:57.651Z"
   },
   {
    "duration": 94,
    "start_time": "2023-07-23T06:54:57.936Z"
   },
   {
    "duration": 149,
    "start_time": "2023-07-23T06:54:58.033Z"
   },
   {
    "duration": 4,
    "start_time": "2023-07-23T06:54:58.184Z"
   },
   {
    "duration": 838,
    "start_time": "2023-07-23T06:55:02.762Z"
   },
   {
    "duration": 19232342,
    "start_time": "2023-07-23T06:55:09.706Z"
   },
   {
    "duration": 18,
    "start_time": "2023-07-23T12:26:08.690Z"
   },
   {
    "duration": 17,
    "start_time": "2023-07-23T12:26:15.674Z"
   },
   {
    "duration": 10,
    "start_time": "2023-07-23T12:27:04.173Z"
   },
   {
    "duration": 514,
    "start_time": "2023-07-23T12:27:49.595Z"
   },
   {
    "duration": 625,
    "start_time": "2023-07-23T12:28:05.310Z"
   },
   {
    "duration": 552,
    "start_time": "2023-07-23T13:16:44.847Z"
   },
   {
    "duration": 4,
    "start_time": "2023-07-23T13:32:09.621Z"
   },
   {
    "duration": 2762,
    "start_time": "2023-07-23T13:53:52.747Z"
   },
   {
    "duration": 3099,
    "start_time": "2023-07-23T13:53:55.511Z"
   },
   {
    "duration": 140,
    "start_time": "2023-07-23T13:53:58.611Z"
   },
   {
    "duration": 117,
    "start_time": "2023-07-23T13:53:58.754Z"
   },
   {
    "duration": 487,
    "start_time": "2023-07-23T13:53:58.874Z"
   },
   {
    "duration": 4,
    "start_time": "2023-07-23T13:53:59.364Z"
   },
   {
    "duration": 286,
    "start_time": "2023-07-23T13:53:59.370Z"
   },
   {
    "duration": 114,
    "start_time": "2023-07-23T13:53:59.659Z"
   },
   {
    "duration": 123,
    "start_time": "2023-07-23T13:53:59.775Z"
   },
   {
    "duration": 93,
    "start_time": "2023-07-23T13:53:59.899Z"
   },
   {
    "duration": 86,
    "start_time": "2023-07-23T13:53:59.994Z"
   },
   {
    "duration": 5,
    "start_time": "2023-07-23T13:54:00.083Z"
   },
   {
    "duration": 133,
    "start_time": "2023-07-23T13:54:00.090Z"
   },
   {
    "duration": 60,
    "start_time": "2023-07-23T13:54:00.227Z"
   },
   {
    "duration": 101,
    "start_time": "2023-07-23T13:54:00.289Z"
   },
   {
    "duration": 173,
    "start_time": "2023-07-23T13:54:00.392Z"
   },
   {
    "duration": 274,
    "start_time": "2023-07-23T13:54:00.566Z"
   },
   {
    "duration": 68,
    "start_time": "2023-07-23T13:54:00.842Z"
   },
   {
    "duration": 188,
    "start_time": "2023-07-23T13:54:00.912Z"
   },
   {
    "duration": 4,
    "start_time": "2023-07-23T13:54:01.101Z"
   },
   {
    "duration": 908,
    "start_time": "2023-07-23T13:54:01.107Z"
   },
   {
    "duration": 43149,
    "start_time": "2023-07-23T13:54:02.017Z"
   },
   {
    "duration": 503706,
    "start_time": "2023-07-23T13:54:45.169Z"
   },
   {
    "duration": 254659,
    "start_time": "2023-07-23T14:03:08.877Z"
   },
   {
    "duration": 13,
    "start_time": "2023-07-23T14:07:23.538Z"
   },
   {
    "duration": 0,
    "start_time": "2023-07-23T14:07:23.553Z"
   },
   {
    "duration": 0,
    "start_time": "2023-07-23T14:07:23.554Z"
   },
   {
    "duration": 0,
    "start_time": "2023-07-23T14:07:23.555Z"
   },
   {
    "duration": 44,
    "start_time": "2023-07-23T15:15:42.402Z"
   },
   {
    "duration": 1231,
    "start_time": "2023-07-23T15:15:54.991Z"
   },
   {
    "duration": 900,
    "start_time": "2023-07-23T15:15:56.224Z"
   },
   {
    "duration": 100,
    "start_time": "2023-07-23T15:15:57.126Z"
   },
   {
    "duration": 89,
    "start_time": "2023-07-23T15:15:57.228Z"
   },
   {
    "duration": 22,
    "start_time": "2023-07-23T15:16:02.365Z"
   },
   {
    "duration": 3,
    "start_time": "2023-07-23T15:17:30.687Z"
   },
   {
    "duration": 226,
    "start_time": "2023-07-23T15:17:31.968Z"
   },
   {
    "duration": 100,
    "start_time": "2023-07-23T15:19:54.050Z"
   },
   {
    "duration": 74,
    "start_time": "2023-07-23T15:22:03.145Z"
   },
   {
    "duration": 69,
    "start_time": "2023-07-23T15:22:08.882Z"
   },
   {
    "duration": 60,
    "start_time": "2023-07-23T15:22:11.799Z"
   },
   {
    "duration": 43,
    "start_time": "2023-07-23T15:23:54.527Z"
   },
   {
    "duration": 78,
    "start_time": "2023-07-23T15:23:58.136Z"
   },
   {
    "duration": 107,
    "start_time": "2023-07-23T15:24:05.866Z"
   },
   {
    "duration": 214,
    "start_time": "2023-07-23T15:24:10.220Z"
   },
   {
    "duration": 239,
    "start_time": "2023-07-23T15:24:36.357Z"
   },
   {
    "duration": 44,
    "start_time": "2023-07-23T15:25:00.292Z"
   },
   {
    "duration": 99,
    "start_time": "2023-07-23T15:25:03.960Z"
   },
   {
    "duration": 3,
    "start_time": "2023-07-23T15:25:05.789Z"
   },
   {
    "duration": 4,
    "start_time": "2023-07-23T15:25:46.842Z"
   },
   {
    "duration": 3,
    "start_time": "2023-07-23T15:26:15.544Z"
   },
   {
    "duration": 68,
    "start_time": "2023-07-23T15:42:49.793Z"
   },
   {
    "duration": 2862,
    "start_time": "2023-07-23T15:43:14.654Z"
   },
   {
    "duration": 660,
    "start_time": "2023-07-23T15:44:22.862Z"
   },
   {
    "duration": 1986,
    "start_time": "2023-07-23T15:44:46.847Z"
   },
   {
    "duration": 695,
    "start_time": "2023-07-23T15:44:48.836Z"
   },
   {
    "duration": 104,
    "start_time": "2023-07-23T15:44:49.532Z"
   },
   {
    "duration": 89,
    "start_time": "2023-07-23T15:44:49.637Z"
   },
   {
    "duration": 20,
    "start_time": "2023-07-23T15:44:49.727Z"
   },
   {
    "duration": 478,
    "start_time": "2023-07-23T15:44:49.748Z"
   },
   {
    "duration": 3,
    "start_time": "2023-07-23T15:44:50.227Z"
   },
   {
    "duration": 209,
    "start_time": "2023-07-23T15:44:50.231Z"
   },
   {
    "duration": 95,
    "start_time": "2023-07-23T15:44:50.441Z"
   },
   {
    "duration": 84,
    "start_time": "2023-07-23T15:44:50.538Z"
   },
   {
    "duration": 77,
    "start_time": "2023-07-23T15:44:50.623Z"
   },
   {
    "duration": 60,
    "start_time": "2023-07-23T15:44:50.702Z"
   },
   {
    "duration": 64,
    "start_time": "2023-07-23T15:44:50.763Z"
   },
   {
    "duration": 3,
    "start_time": "2023-07-23T15:44:50.829Z"
   },
   {
    "duration": 82,
    "start_time": "2023-07-23T15:44:50.833Z"
   },
   {
    "duration": 41,
    "start_time": "2023-07-23T15:44:50.916Z"
   },
   {
    "duration": 146,
    "start_time": "2023-07-23T15:44:50.959Z"
   },
   {
    "duration": 107,
    "start_time": "2023-07-23T15:44:51.106Z"
   },
   {
    "duration": 223,
    "start_time": "2023-07-23T15:44:51.215Z"
   },
   {
    "duration": 69,
    "start_time": "2023-07-23T15:44:51.439Z"
   },
   {
    "duration": 107,
    "start_time": "2023-07-23T15:44:51.511Z"
   },
   {
    "duration": 7,
    "start_time": "2023-07-23T15:45:02.897Z"
   },
   {
    "duration": 3,
    "start_time": "2023-07-23T15:45:04.071Z"
   },
   {
    "duration": 168,
    "start_time": "2023-07-23T15:55:23.428Z"
   },
   {
    "duration": 142,
    "start_time": "2023-07-23T15:57:26.579Z"
   },
   {
    "duration": 180,
    "start_time": "2023-07-23T15:57:49.774Z"
   },
   {
    "duration": 177,
    "start_time": "2023-07-23T15:58:01.648Z"
   },
   {
    "duration": 147,
    "start_time": "2023-07-23T15:58:19.598Z"
   },
   {
    "duration": 143,
    "start_time": "2023-07-23T15:58:43.768Z"
   },
   {
    "duration": 144,
    "start_time": "2023-07-23T15:59:10.071Z"
   },
   {
    "duration": 152,
    "start_time": "2023-07-23T15:59:22.458Z"
   },
   {
    "duration": 182,
    "start_time": "2023-07-23T16:01:35.608Z"
   },
   {
    "duration": 417,
    "start_time": "2023-07-23T16:04:57.482Z"
   },
   {
    "duration": 417,
    "start_time": "2023-07-23T16:05:30.434Z"
   },
   {
    "duration": 411,
    "start_time": "2023-07-23T16:07:16.572Z"
   },
   {
    "duration": 415,
    "start_time": "2023-07-23T16:10:46.463Z"
   },
   {
    "duration": 528,
    "start_time": "2023-07-23T16:11:46.092Z"
   },
   {
    "duration": 454,
    "start_time": "2023-07-23T16:14:31.691Z"
   },
   {
    "duration": 450,
    "start_time": "2023-07-23T16:14:39.588Z"
   },
   {
    "duration": 3142,
    "start_time": "2023-07-23T16:28:16.635Z"
   },
   {
    "duration": 2587,
    "start_time": "2023-07-23T16:28:36.094Z"
   },
   {
    "duration": 505,
    "start_time": "2023-07-23T16:29:03.586Z"
   },
   {
    "duration": 64,
    "start_time": "2023-07-23T16:31:06.838Z"
   },
   {
    "duration": 836,
    "start_time": "2023-07-23T16:35:18.964Z"
   },
   {
    "duration": 594,
    "start_time": "2023-07-23T16:35:48.638Z"
   },
   {
    "duration": 195,
    "start_time": "2023-07-23T16:36:16.210Z"
   },
   {
    "duration": 251,
    "start_time": "2023-07-23T16:36:24.451Z"
   },
   {
    "duration": 8997,
    "start_time": "2023-07-23T16:36:55.903Z"
   },
   {
    "duration": 304271,
    "start_time": "2023-07-23T16:37:41.499Z"
   },
   {
    "duration": 4,
    "start_time": "2023-07-23T16:43:12.459Z"
   },
   {
    "duration": 99,
    "start_time": "2023-07-23T16:43:18.150Z"
   },
   {
    "duration": 12,
    "start_time": "2023-07-23T16:43:29.542Z"
   },
   {
    "duration": 506,
    "start_time": "2023-07-23T16:43:33.209Z"
   },
   {
    "duration": 73,
    "start_time": "2023-07-23T16:43:42.760Z"
   },
   {
    "duration": 14,
    "start_time": "2023-07-23T16:43:53.548Z"
   },
   {
    "duration": 3136,
    "start_time": "2023-07-23T16:52:19.841Z"
   },
   {
    "duration": 708,
    "start_time": "2023-07-23T16:52:22.979Z"
   },
   {
    "duration": 117,
    "start_time": "2023-07-23T16:52:23.688Z"
   },
   {
    "duration": 79,
    "start_time": "2023-07-23T16:52:23.807Z"
   },
   {
    "duration": 27,
    "start_time": "2023-07-23T16:52:23.888Z"
   },
   {
    "duration": 296,
    "start_time": "2023-07-23T16:52:23.916Z"
   },
   {
    "duration": 3,
    "start_time": "2023-07-23T16:52:24.214Z"
   },
   {
    "duration": 205,
    "start_time": "2023-07-23T16:52:24.218Z"
   },
   {
    "duration": 101,
    "start_time": "2023-07-23T16:52:24.424Z"
   },
   {
    "duration": 84,
    "start_time": "2023-07-23T16:52:24.526Z"
   },
   {
    "duration": 71,
    "start_time": "2023-07-23T16:52:24.612Z"
   },
   {
    "duration": 73,
    "start_time": "2023-07-23T16:52:24.684Z"
   },
   {
    "duration": 57,
    "start_time": "2023-07-23T16:52:24.758Z"
   },
   {
    "duration": 3,
    "start_time": "2023-07-23T16:52:24.817Z"
   },
   {
    "duration": 65,
    "start_time": "2023-07-23T16:52:24.821Z"
   },
   {
    "duration": 51,
    "start_time": "2023-07-23T16:52:24.888Z"
   },
   {
    "duration": 77,
    "start_time": "2023-07-23T16:52:24.941Z"
   },
   {
    "duration": 121,
    "start_time": "2023-07-23T16:52:25.019Z"
   },
   {
    "duration": 212,
    "start_time": "2023-07-23T16:52:25.141Z"
   },
   {
    "duration": 51,
    "start_time": "2023-07-23T16:52:25.355Z"
   },
   {
    "duration": 103,
    "start_time": "2023-07-23T16:52:25.407Z"
   },
   {
    "duration": 4,
    "start_time": "2023-07-23T16:52:25.511Z"
   },
   {
    "duration": 630,
    "start_time": "2023-07-23T16:52:25.516Z"
   },
   {
    "duration": 257,
    "start_time": "2023-07-23T16:52:26.147Z"
   },
   {
    "duration": 7801,
    "start_time": "2023-07-23T16:52:26.405Z"
   },
   {
    "duration": 479089,
    "start_time": "2023-07-23T16:52:34.300Z"
   },
   {
    "duration": 9,
    "start_time": "2023-07-23T17:00:33.390Z"
   },
   {
    "duration": 1,
    "start_time": "2023-07-23T17:00:33.400Z"
   },
   {
    "duration": 0,
    "start_time": "2023-07-23T17:00:33.402Z"
   },
   {
    "duration": 0,
    "start_time": "2023-07-23T17:00:33.402Z"
   },
   {
    "duration": 7,
    "start_time": "2023-07-23T17:00:41.571Z"
   },
   {
    "duration": 329,
    "start_time": "2023-07-23T17:00:43.078Z"
   },
   {
    "duration": 75091,
    "start_time": "2023-07-23T17:01:47.230Z"
   }
  ],
  "kernelspec": {
   "display_name": "Python 3 (ipykernel)",
   "language": "python",
   "name": "python3"
  },
  "language_info": {
   "codemirror_mode": {
    "name": "ipython",
    "version": 3
   },
   "file_extension": ".py",
   "mimetype": "text/x-python",
   "name": "python",
   "nbconvert_exporter": "python",
   "pygments_lexer": "ipython3",
   "version": "3.9.5"
  },
  "toc": {
   "base_numbering": 1,
   "nav_menu": {},
   "number_sections": true,
   "sideBar": true,
   "skip_h1_title": true,
   "title_cell": "Table of Contents",
   "title_sidebar": "Contents",
   "toc_cell": false,
   "toc_position": {},
   "toc_section_display": true,
   "toc_window_display": true
  }
 },
 "nbformat": 4,
 "nbformat_minor": 4
}
