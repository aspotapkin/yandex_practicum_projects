{
 "cells": [
  {
   "cell_type": "markdown",
   "metadata": {
    "toc": true
   },
   "source": [
    "<h1>Содержание<span class=\"tocSkip\"></span></h1>\n",
    "<div class=\"toc\"><ul class=\"toc-item\"><li><span><a href=\"#Подготовка-данных\" data-toc-modified-id=\"Подготовка-данных-1\"><span class=\"toc-item-num\">1&nbsp;&nbsp;</span>Подготовка данных</a></span></li><li><span><a href=\"#Исследование-задачи\" data-toc-modified-id=\"Исследование-задачи-2\"><span class=\"toc-item-num\">2&nbsp;&nbsp;</span>Исследование задачи</a></span></li><li><span><a href=\"#Борьба-с-дисбалансом\" data-toc-modified-id=\"Борьба-с-дисбалансом-3\"><span class=\"toc-item-num\">3&nbsp;&nbsp;</span>Борьба с дисбалансом</a></span></li><li><span><a href=\"#Тестирование-модели\" data-toc-modified-id=\"Тестирование-модели-4\"><span class=\"toc-item-num\">4&nbsp;&nbsp;</span>Тестирование модели</a></span></li><li><span><a href=\"#Чек-лист-готовности-проекта\" data-toc-modified-id=\"Чек-лист-готовности-проекта-5\"><span class=\"toc-item-num\">5&nbsp;&nbsp;</span>Чек-лист готовности проекта</a></span></li></ul></div>"
   ]
  },
  {
   "cell_type": "markdown",
   "metadata": {},
   "source": [
    "# Отток клиентов"
   ]
  },
  {
   "cell_type": "markdown",
   "metadata": {},
   "source": [
    "Из «Бета-Банка» стали уходить клиенты. Каждый месяц. Немного, но заметно. Банковские маркетологи посчитали: сохранять текущих клиентов дешевле, чем привлекать новых.\n",
    "\n",
    "Нужно спрогнозировать, уйдёт клиент из банка в ближайшее время или нет. Вам предоставлены исторические данные о поведении клиентов и расторжении договоров с банком. \n",
    "\n",
    "Постройте модель с предельно большим значением *F1*-меры. Чтобы сдать проект успешно, нужно довести метрику до 0.59. Проверьте *F1*-меру на тестовой выборке самостоятельно.\n",
    "\n",
    "Дополнительно измеряйте *AUC-ROC*, сравнивайте её значение с *F1*-мерой.\n",
    "\n",
    "Источник данных: [https://www.kaggle.com/barelydedicated/bank-customer-churn-modeling](https://www.kaggle.com/barelydedicated/bank-customer-churn-modeling)\n",
    "\n",
    "**Признаки:**\n",
    "- RowNumber — индекс строки в данных\n",
    "- CustomerId — уникальный идентификатор клиента\n",
    "- Surname — фамилия\n",
    "- CreditScore — кредитный рейтинг\n",
    "- Geography — страна проживания\n",
    "- Gender — пол\n",
    "- Age — возраст\n",
    "- Tenure — сколько лет человек является клиентом банка\n",
    "- Balance — баланс на счёте\n",
    "- NumOfProducts — количество продуктов банка, используемых клиентом\n",
    "- HasCrCard — наличие кредитной карты\n",
    "- IsActiveMember — активность клиента\n",
    "- EstimatedSalary — предполагаемая зарплата\n",
    "\n",
    "**Целевой признак:**\n",
    "- Exited — факт ухода клиента"
   ]
  },
  {
   "cell_type": "markdown",
   "metadata": {},
   "source": [
    "<div class=\"alert alert-success\">\n",
    "<b>Комментарий ревьюера ✔️:</b>\n",
    "\n",
    "Вступление в работу очень важно. Так ты поясняешь то, чему она посвящена 👍\n",
    "\n",
    "</div>"
   ]
  },
  {
   "cell_type": "markdown",
   "metadata": {},
   "source": [
    "## Подготовка данных"
   ]
  },
  {
   "cell_type": "code",
   "execution_count": 2,
   "metadata": {},
   "outputs": [],
   "source": [
    "import pandas as pd\n",
    "import numpy as np\n",
    "#подготовка данных\n",
    "from sklearn.preprocessing import StandardScaler\n",
    "from sklearn.model_selection import train_test_split, GridSearchCV\n",
    "from sklearn.utils import shuffle\n",
    "#модели машинного обучения\n",
    "from sklearn.ensemble import RandomForestClassifier\n",
    "from sklearn.tree import DecisionTreeClassifier\n",
    "from sklearn.linear_model import LogisticRegression\n",
    "#метрики модели\n",
    "from sklearn.metrics import confusion_matrix, f1_score, roc_curve, roc_auc_score, RocCurveDisplay\n",
    "import matplotlib.pyplot as plt"
   ]
  },
  {
   "cell_type": "markdown",
   "metadata": {},
   "source": [
    "## Исследование задачи"
   ]
  },
  {
   "cell_type": "code",
   "execution_count": 3,
   "metadata": {},
   "outputs": [
    {
     "data": {
      "text/html": [
       "<div>\n",
       "<style scoped>\n",
       "    .dataframe tbody tr th:only-of-type {\n",
       "        vertical-align: middle;\n",
       "    }\n",
       "\n",
       "    .dataframe tbody tr th {\n",
       "        vertical-align: top;\n",
       "    }\n",
       "\n",
       "    .dataframe thead th {\n",
       "        text-align: right;\n",
       "    }\n",
       "</style>\n",
       "<table border=\"1\" class=\"dataframe\">\n",
       "  <thead>\n",
       "    <tr style=\"text-align: right;\">\n",
       "      <th></th>\n",
       "      <th>RowNumber</th>\n",
       "      <th>CustomerId</th>\n",
       "      <th>Surname</th>\n",
       "      <th>CreditScore</th>\n",
       "      <th>Geography</th>\n",
       "      <th>Gender</th>\n",
       "      <th>Age</th>\n",
       "      <th>Tenure</th>\n",
       "      <th>Balance</th>\n",
       "      <th>NumOfProducts</th>\n",
       "      <th>HasCrCard</th>\n",
       "      <th>IsActiveMember</th>\n",
       "      <th>EstimatedSalary</th>\n",
       "      <th>Exited</th>\n",
       "    </tr>\n",
       "  </thead>\n",
       "  <tbody>\n",
       "    <tr>\n",
       "      <th>0</th>\n",
       "      <td>1</td>\n",
       "      <td>15634602</td>\n",
       "      <td>Hargrave</td>\n",
       "      <td>619</td>\n",
       "      <td>France</td>\n",
       "      <td>Female</td>\n",
       "      <td>42</td>\n",
       "      <td>2.0</td>\n",
       "      <td>0.00</td>\n",
       "      <td>1</td>\n",
       "      <td>1</td>\n",
       "      <td>1</td>\n",
       "      <td>101348.88</td>\n",
       "      <td>1</td>\n",
       "    </tr>\n",
       "    <tr>\n",
       "      <th>1</th>\n",
       "      <td>2</td>\n",
       "      <td>15647311</td>\n",
       "      <td>Hill</td>\n",
       "      <td>608</td>\n",
       "      <td>Spain</td>\n",
       "      <td>Female</td>\n",
       "      <td>41</td>\n",
       "      <td>1.0</td>\n",
       "      <td>83807.86</td>\n",
       "      <td>1</td>\n",
       "      <td>0</td>\n",
       "      <td>1</td>\n",
       "      <td>112542.58</td>\n",
       "      <td>0</td>\n",
       "    </tr>\n",
       "    <tr>\n",
       "      <th>2</th>\n",
       "      <td>3</td>\n",
       "      <td>15619304</td>\n",
       "      <td>Onio</td>\n",
       "      <td>502</td>\n",
       "      <td>France</td>\n",
       "      <td>Female</td>\n",
       "      <td>42</td>\n",
       "      <td>8.0</td>\n",
       "      <td>159660.80</td>\n",
       "      <td>3</td>\n",
       "      <td>1</td>\n",
       "      <td>0</td>\n",
       "      <td>113931.57</td>\n",
       "      <td>1</td>\n",
       "    </tr>\n",
       "    <tr>\n",
       "      <th>3</th>\n",
       "      <td>4</td>\n",
       "      <td>15701354</td>\n",
       "      <td>Boni</td>\n",
       "      <td>699</td>\n",
       "      <td>France</td>\n",
       "      <td>Female</td>\n",
       "      <td>39</td>\n",
       "      <td>1.0</td>\n",
       "      <td>0.00</td>\n",
       "      <td>2</td>\n",
       "      <td>0</td>\n",
       "      <td>0</td>\n",
       "      <td>93826.63</td>\n",
       "      <td>0</td>\n",
       "    </tr>\n",
       "    <tr>\n",
       "      <th>4</th>\n",
       "      <td>5</td>\n",
       "      <td>15737888</td>\n",
       "      <td>Mitchell</td>\n",
       "      <td>850</td>\n",
       "      <td>Spain</td>\n",
       "      <td>Female</td>\n",
       "      <td>43</td>\n",
       "      <td>2.0</td>\n",
       "      <td>125510.82</td>\n",
       "      <td>1</td>\n",
       "      <td>1</td>\n",
       "      <td>1</td>\n",
       "      <td>79084.10</td>\n",
       "      <td>0</td>\n",
       "    </tr>\n",
       "  </tbody>\n",
       "</table>\n",
       "</div>"
      ],
      "text/plain": [
       "   RowNumber  CustomerId   Surname  CreditScore Geography  Gender  Age  \\\n",
       "0          1    15634602  Hargrave          619    France  Female   42   \n",
       "1          2    15647311      Hill          608     Spain  Female   41   \n",
       "2          3    15619304      Onio          502    France  Female   42   \n",
       "3          4    15701354      Boni          699    France  Female   39   \n",
       "4          5    15737888  Mitchell          850     Spain  Female   43   \n",
       "\n",
       "   Tenure    Balance  NumOfProducts  HasCrCard  IsActiveMember  \\\n",
       "0     2.0       0.00              1          1               1   \n",
       "1     1.0   83807.86              1          0               1   \n",
       "2     8.0  159660.80              3          1               0   \n",
       "3     1.0       0.00              2          0               0   \n",
       "4     2.0  125510.82              1          1               1   \n",
       "\n",
       "   EstimatedSalary  Exited  \n",
       "0        101348.88       1  \n",
       "1        112542.58       0  \n",
       "2        113931.57       1  \n",
       "3         93826.63       0  \n",
       "4         79084.10       0  "
      ]
     },
     "execution_count": 3,
     "metadata": {},
     "output_type": "execute_result"
    }
   ],
   "source": [
    "data = pd.read_csv('/datasets/Churn.csv')\n",
    "data.head()"
   ]
  },
  {
   "cell_type": "code",
   "execution_count": 50,
   "metadata": {},
   "outputs": [
    {
     "name": "stdout",
     "output_type": "stream",
     "text": [
      "<class 'pandas.core.frame.DataFrame'>\n",
      "RangeIndex: 10000 entries, 0 to 9999\n",
      "Data columns (total 14 columns):\n",
      " #   Column           Non-Null Count  Dtype  \n",
      "---  ------           --------------  -----  \n",
      " 0   RowNumber        10000 non-null  int64  \n",
      " 1   CustomerId       10000 non-null  int64  \n",
      " 2   Surname          10000 non-null  object \n",
      " 3   CreditScore      10000 non-null  int64  \n",
      " 4   Geography        10000 non-null  object \n",
      " 5   Gender           10000 non-null  object \n",
      " 6   Age              10000 non-null  int64  \n",
      " 7   Tenure           9091 non-null   float64\n",
      " 8   Balance          10000 non-null  float64\n",
      " 9   NumOfProducts    10000 non-null  int64  \n",
      " 10  HasCrCard        10000 non-null  int64  \n",
      " 11  IsActiveMember   10000 non-null  int64  \n",
      " 12  EstimatedSalary  10000 non-null  float64\n",
      " 13  Exited           10000 non-null  int64  \n",
      "dtypes: float64(3), int64(8), object(3)\n",
      "memory usage: 1.1+ MB\n"
     ]
    }
   ],
   "source": [
    "data.info()"
   ]
  },
  {
   "cell_type": "markdown",
   "metadata": {},
   "source": [
    "**Предобработка:**\n",
    "- Для задачи обучения лишними будут столбцы с индексом строки данных, ID клиента и его фамилией, также уберем значения с NA в столбце Tenure (-10% от исходного датафрейма)\n",
    "- Отделить целевой признак\n",
    "- С помощью техники One Hot Encoding закодировать категориальные переменные - пол и страну проживания клиента\n",
    "- Стандартизировать столбцы с кредитным рейтингом, возрастом, числом лет в качестве клиента банка и количеством используемых продуктов\n",
    "- Разделить датасет на обучающую, валидационную и тестовую выборки"
   ]
  },
  {
   "cell_type": "code",
   "execution_count": 51,
   "metadata": {},
   "outputs": [
    {
     "data": {
      "text/html": [
       "<div>\n",
       "<style scoped>\n",
       "    .dataframe tbody tr th:only-of-type {\n",
       "        vertical-align: middle;\n",
       "    }\n",
       "\n",
       "    .dataframe tbody tr th {\n",
       "        vertical-align: top;\n",
       "    }\n",
       "\n",
       "    .dataframe thead th {\n",
       "        text-align: right;\n",
       "    }\n",
       "</style>\n",
       "<table border=\"1\" class=\"dataframe\">\n",
       "  <thead>\n",
       "    <tr style=\"text-align: right;\">\n",
       "      <th></th>\n",
       "      <th>CreditScore</th>\n",
       "      <th>Geography</th>\n",
       "      <th>Gender</th>\n",
       "      <th>Age</th>\n",
       "      <th>Tenure</th>\n",
       "      <th>Balance</th>\n",
       "      <th>NumOfProducts</th>\n",
       "      <th>HasCrCard</th>\n",
       "      <th>IsActiveMember</th>\n",
       "      <th>EstimatedSalary</th>\n",
       "      <th>Exited</th>\n",
       "    </tr>\n",
       "  </thead>\n",
       "  <tbody>\n",
       "    <tr>\n",
       "      <th>0</th>\n",
       "      <td>619</td>\n",
       "      <td>France</td>\n",
       "      <td>Female</td>\n",
       "      <td>42</td>\n",
       "      <td>2.0</td>\n",
       "      <td>0.00</td>\n",
       "      <td>1</td>\n",
       "      <td>1</td>\n",
       "      <td>1</td>\n",
       "      <td>101348.88</td>\n",
       "      <td>1</td>\n",
       "    </tr>\n",
       "    <tr>\n",
       "      <th>1</th>\n",
       "      <td>608</td>\n",
       "      <td>Spain</td>\n",
       "      <td>Female</td>\n",
       "      <td>41</td>\n",
       "      <td>1.0</td>\n",
       "      <td>83807.86</td>\n",
       "      <td>1</td>\n",
       "      <td>0</td>\n",
       "      <td>1</td>\n",
       "      <td>112542.58</td>\n",
       "      <td>0</td>\n",
       "    </tr>\n",
       "    <tr>\n",
       "      <th>2</th>\n",
       "      <td>502</td>\n",
       "      <td>France</td>\n",
       "      <td>Female</td>\n",
       "      <td>42</td>\n",
       "      <td>8.0</td>\n",
       "      <td>159660.80</td>\n",
       "      <td>3</td>\n",
       "      <td>1</td>\n",
       "      <td>0</td>\n",
       "      <td>113931.57</td>\n",
       "      <td>1</td>\n",
       "    </tr>\n",
       "    <tr>\n",
       "      <th>3</th>\n",
       "      <td>699</td>\n",
       "      <td>France</td>\n",
       "      <td>Female</td>\n",
       "      <td>39</td>\n",
       "      <td>1.0</td>\n",
       "      <td>0.00</td>\n",
       "      <td>2</td>\n",
       "      <td>0</td>\n",
       "      <td>0</td>\n",
       "      <td>93826.63</td>\n",
       "      <td>0</td>\n",
       "    </tr>\n",
       "    <tr>\n",
       "      <th>4</th>\n",
       "      <td>850</td>\n",
       "      <td>Spain</td>\n",
       "      <td>Female</td>\n",
       "      <td>43</td>\n",
       "      <td>2.0</td>\n",
       "      <td>125510.82</td>\n",
       "      <td>1</td>\n",
       "      <td>1</td>\n",
       "      <td>1</td>\n",
       "      <td>79084.10</td>\n",
       "      <td>0</td>\n",
       "    </tr>\n",
       "  </tbody>\n",
       "</table>\n",
       "</div>"
      ],
      "text/plain": [
       "   CreditScore Geography  Gender  Age  Tenure    Balance  NumOfProducts  \\\n",
       "0          619    France  Female   42     2.0       0.00              1   \n",
       "1          608     Spain  Female   41     1.0   83807.86              1   \n",
       "2          502    France  Female   42     8.0  159660.80              3   \n",
       "3          699    France  Female   39     1.0       0.00              2   \n",
       "4          850     Spain  Female   43     2.0  125510.82              1   \n",
       "\n",
       "   HasCrCard  IsActiveMember  EstimatedSalary  Exited  \n",
       "0          1               1        101348.88       1  \n",
       "1          0               1        112542.58       0  \n",
       "2          1               0        113931.57       1  \n",
       "3          0               0         93826.63       0  \n",
       "4          1               1         79084.10       0  "
      ]
     },
     "execution_count": 51,
     "metadata": {},
     "output_type": "execute_result"
    }
   ],
   "source": [
    "#удаление лишних столбцов\n",
    "data_drop = data.drop(columns=['RowNumber', 'CustomerId', 'Surname'])\n",
    "data_drop = data_drop[~data_drop['Tenure'].isna()]\n",
    "data_drop.head()"
   ]
  },
  {
   "cell_type": "code",
   "execution_count": 52,
   "metadata": {},
   "outputs": [
    {
     "name": "stdout",
     "output_type": "stream",
     "text": [
      "<class 'pandas.core.frame.DataFrame'>\n",
      "Int64Index: 9091 entries, 0 to 9998\n",
      "Data columns (total 11 columns):\n",
      " #   Column           Non-Null Count  Dtype  \n",
      "---  ------           --------------  -----  \n",
      " 0   CreditScore      9091 non-null   int64  \n",
      " 1   Geography        9091 non-null   object \n",
      " 2   Gender           9091 non-null   object \n",
      " 3   Age              9091 non-null   int64  \n",
      " 4   Tenure           9091 non-null   float64\n",
      " 5   Balance          9091 non-null   float64\n",
      " 6   NumOfProducts    9091 non-null   int64  \n",
      " 7   HasCrCard        9091 non-null   int64  \n",
      " 8   IsActiveMember   9091 non-null   int64  \n",
      " 9   EstimatedSalary  9091 non-null   float64\n",
      " 10  Exited           9091 non-null   int64  \n",
      "dtypes: float64(3), int64(6), object(2)\n",
      "memory usage: 852.3+ KB\n"
     ]
    }
   ],
   "source": [
    "data_drop.info()"
   ]
  },
  {
   "cell_type": "code",
   "execution_count": 53,
   "metadata": {},
   "outputs": [],
   "source": [
    "#отделение целевого признака\n",
    "target = data_drop['Exited']\n",
    "features = data_drop.drop(columns=['Exited'], axis=1)"
   ]
  },
  {
   "cell_type": "code",
   "execution_count": 54,
   "metadata": {},
   "outputs": [
    {
     "data": {
      "text/html": [
       "<div>\n",
       "<style scoped>\n",
       "    .dataframe tbody tr th:only-of-type {\n",
       "        vertical-align: middle;\n",
       "    }\n",
       "\n",
       "    .dataframe tbody tr th {\n",
       "        vertical-align: top;\n",
       "    }\n",
       "\n",
       "    .dataframe thead th {\n",
       "        text-align: right;\n",
       "    }\n",
       "</style>\n",
       "<table border=\"1\" class=\"dataframe\">\n",
       "  <thead>\n",
       "    <tr style=\"text-align: right;\">\n",
       "      <th></th>\n",
       "      <th>CreditScore</th>\n",
       "      <th>Age</th>\n",
       "      <th>Tenure</th>\n",
       "      <th>Balance</th>\n",
       "      <th>NumOfProducts</th>\n",
       "      <th>HasCrCard</th>\n",
       "      <th>IsActiveMember</th>\n",
       "      <th>EstimatedSalary</th>\n",
       "      <th>Geography_Germany</th>\n",
       "      <th>Geography_Spain</th>\n",
       "      <th>Gender_Male</th>\n",
       "    </tr>\n",
       "  </thead>\n",
       "  <tbody>\n",
       "    <tr>\n",
       "      <th>0</th>\n",
       "      <td>619</td>\n",
       "      <td>42</td>\n",
       "      <td>2.0</td>\n",
       "      <td>0.00</td>\n",
       "      <td>1</td>\n",
       "      <td>1</td>\n",
       "      <td>1</td>\n",
       "      <td>101348.88</td>\n",
       "      <td>0</td>\n",
       "      <td>0</td>\n",
       "      <td>0</td>\n",
       "    </tr>\n",
       "    <tr>\n",
       "      <th>1</th>\n",
       "      <td>608</td>\n",
       "      <td>41</td>\n",
       "      <td>1.0</td>\n",
       "      <td>83807.86</td>\n",
       "      <td>1</td>\n",
       "      <td>0</td>\n",
       "      <td>1</td>\n",
       "      <td>112542.58</td>\n",
       "      <td>0</td>\n",
       "      <td>1</td>\n",
       "      <td>0</td>\n",
       "    </tr>\n",
       "    <tr>\n",
       "      <th>2</th>\n",
       "      <td>502</td>\n",
       "      <td>42</td>\n",
       "      <td>8.0</td>\n",
       "      <td>159660.80</td>\n",
       "      <td>3</td>\n",
       "      <td>1</td>\n",
       "      <td>0</td>\n",
       "      <td>113931.57</td>\n",
       "      <td>0</td>\n",
       "      <td>0</td>\n",
       "      <td>0</td>\n",
       "    </tr>\n",
       "    <tr>\n",
       "      <th>3</th>\n",
       "      <td>699</td>\n",
       "      <td>39</td>\n",
       "      <td>1.0</td>\n",
       "      <td>0.00</td>\n",
       "      <td>2</td>\n",
       "      <td>0</td>\n",
       "      <td>0</td>\n",
       "      <td>93826.63</td>\n",
       "      <td>0</td>\n",
       "      <td>0</td>\n",
       "      <td>0</td>\n",
       "    </tr>\n",
       "    <tr>\n",
       "      <th>4</th>\n",
       "      <td>850</td>\n",
       "      <td>43</td>\n",
       "      <td>2.0</td>\n",
       "      <td>125510.82</td>\n",
       "      <td>1</td>\n",
       "      <td>1</td>\n",
       "      <td>1</td>\n",
       "      <td>79084.10</td>\n",
       "      <td>0</td>\n",
       "      <td>1</td>\n",
       "      <td>0</td>\n",
       "    </tr>\n",
       "  </tbody>\n",
       "</table>\n",
       "</div>"
      ],
      "text/plain": [
       "   CreditScore  Age  Tenure    Balance  NumOfProducts  HasCrCard  \\\n",
       "0          619   42     2.0       0.00              1          1   \n",
       "1          608   41     1.0   83807.86              1          0   \n",
       "2          502   42     8.0  159660.80              3          1   \n",
       "3          699   39     1.0       0.00              2          0   \n",
       "4          850   43     2.0  125510.82              1          1   \n",
       "\n",
       "   IsActiveMember  EstimatedSalary  Geography_Germany  Geography_Spain  \\\n",
       "0               1        101348.88                  0                0   \n",
       "1               1        112542.58                  0                1   \n",
       "2               0        113931.57                  0                0   \n",
       "3               0         93826.63                  0                0   \n",
       "4               1         79084.10                  0                1   \n",
       "\n",
       "   Gender_Male  \n",
       "0            0  \n",
       "1            0  \n",
       "2            0  \n",
       "3            0  \n",
       "4            0  "
      ]
     },
     "execution_count": 54,
     "metadata": {},
     "output_type": "execute_result"
    }
   ],
   "source": [
    "#OHE\n",
    "features = pd.get_dummies(features, drop_first=True)\n",
    "features.head()"
   ]
  },
  {
   "cell_type": "code",
   "execution_count": 55,
   "metadata": {},
   "outputs": [
    {
     "name": "stdout",
     "output_type": "stream",
     "text": [
      "Размер обучающей выборки: (5454, 11) (5454,)\n",
      "Размер валидационной выборки: (1819, 11) (1819,)\n",
      "Размер тестовой выборки: (1818, 11) (1818,)\n"
     ]
    }
   ],
   "source": [
    "#деление на выборки в соотношении 60-20-20\n",
    "features_train, features_test_valid, target_train, target_test_valid = train_test_split(features, target, \n",
    "                                                                                        test_size=.4, random_state=123, stratify=target)\n",
    "features_test, features_valid, target_test, target_valid = train_test_split(features_test_valid, target_test_valid, \n",
    "                                                                                        test_size=.5, random_state=123, stratify=target_test_valid)\n",
    "print('Размер обучающей выборки:',features_train.shape, target_train.shape)\n",
    "print('Размер валидационной выборки:',features_valid.shape, target_valid.shape)\n",
    "print('Размер тестовой выборки:', features_test.shape, target_test.shape)"
   ]
  },
  {
   "cell_type": "code",
   "execution_count": 56,
   "metadata": {
    "scrolled": true
   },
   "outputs": [
    {
     "name": "stderr",
     "output_type": "stream",
     "text": [
      "/tmp/ipykernel_71/3370140273.py:6: SettingWithCopyWarning: \n",
      "A value is trying to be set on a copy of a slice from a DataFrame.\n",
      "Try using .loc[row_indexer,col_indexer] = value instead\n",
      "\n",
      "See the caveats in the documentation: https://pandas.pydata.org/pandas-docs/stable/user_guide/indexing.html#returning-a-view-versus-a-copy\n",
      "  features_train[numeric] = scaler.transform(features_train[numeric])\n",
      "/opt/conda/lib/python3.9/site-packages/pandas/core/indexing.py:1738: SettingWithCopyWarning: \n",
      "A value is trying to be set on a copy of a slice from a DataFrame.\n",
      "Try using .loc[row_indexer,col_indexer] = value instead\n",
      "\n",
      "See the caveats in the documentation: https://pandas.pydata.org/pandas-docs/stable/user_guide/indexing.html#returning-a-view-versus-a-copy\n",
      "  self._setitem_single_column(loc, value[:, i].tolist(), pi)\n",
      "/tmp/ipykernel_71/3370140273.py:7: SettingWithCopyWarning: \n",
      "A value is trying to be set on a copy of a slice from a DataFrame.\n",
      "Try using .loc[row_indexer,col_indexer] = value instead\n",
      "\n",
      "See the caveats in the documentation: https://pandas.pydata.org/pandas-docs/stable/user_guide/indexing.html#returning-a-view-versus-a-copy\n",
      "  features_test[numeric] = scaler.transform(features_test[numeric])\n",
      "/opt/conda/lib/python3.9/site-packages/pandas/core/indexing.py:1738: SettingWithCopyWarning: \n",
      "A value is trying to be set on a copy of a slice from a DataFrame.\n",
      "Try using .loc[row_indexer,col_indexer] = value instead\n",
      "\n",
      "See the caveats in the documentation: https://pandas.pydata.org/pandas-docs/stable/user_guide/indexing.html#returning-a-view-versus-a-copy\n",
      "  self._setitem_single_column(loc, value[:, i].tolist(), pi)\n",
      "/tmp/ipykernel_71/3370140273.py:8: SettingWithCopyWarning: \n",
      "A value is trying to be set on a copy of a slice from a DataFrame.\n",
      "Try using .loc[row_indexer,col_indexer] = value instead\n",
      "\n",
      "See the caveats in the documentation: https://pandas.pydata.org/pandas-docs/stable/user_guide/indexing.html#returning-a-view-versus-a-copy\n",
      "  features_valid[numeric] = scaler.transform(features_valid[numeric])\n",
      "/opt/conda/lib/python3.9/site-packages/pandas/core/indexing.py:1738: SettingWithCopyWarning: \n",
      "A value is trying to be set on a copy of a slice from a DataFrame.\n",
      "Try using .loc[row_indexer,col_indexer] = value instead\n",
      "\n",
      "See the caveats in the documentation: https://pandas.pydata.org/pandas-docs/stable/user_guide/indexing.html#returning-a-view-versus-a-copy\n",
      "  self._setitem_single_column(loc, value[:, i].tolist(), pi)\n"
     ]
    }
   ],
   "source": [
    "#стандартизация\n",
    "scaler = StandardScaler()\n",
    "#названия столбцов для стандартизации\n",
    "numeric = ['CreditScore', 'Age', 'Tenure', 'Balance', 'NumOfProducts', 'EstimatedSalary']\n",
    "scaler.fit(features_train[numeric])\n",
    "features_train[numeric] = scaler.transform(features_train[numeric])\n",
    "features_test[numeric] = scaler.transform(features_test[numeric])\n",
    "features_valid[numeric] = scaler.transform(features_valid[numeric])\n"
   ]
  },
  {
   "cell_type": "code",
   "execution_count": 57,
   "metadata": {},
   "outputs": [
    {
     "data": {
      "text/html": [
       "<div>\n",
       "<style scoped>\n",
       "    .dataframe tbody tr th:only-of-type {\n",
       "        vertical-align: middle;\n",
       "    }\n",
       "\n",
       "    .dataframe tbody tr th {\n",
       "        vertical-align: top;\n",
       "    }\n",
       "\n",
       "    .dataframe thead th {\n",
       "        text-align: right;\n",
       "    }\n",
       "</style>\n",
       "<table border=\"1\" class=\"dataframe\">\n",
       "  <thead>\n",
       "    <tr style=\"text-align: right;\">\n",
       "      <th></th>\n",
       "      <th>CreditScore</th>\n",
       "      <th>Age</th>\n",
       "      <th>Tenure</th>\n",
       "      <th>Balance</th>\n",
       "      <th>NumOfProducts</th>\n",
       "      <th>HasCrCard</th>\n",
       "      <th>IsActiveMember</th>\n",
       "      <th>EstimatedSalary</th>\n",
       "      <th>Geography_Germany</th>\n",
       "      <th>Geography_Spain</th>\n",
       "      <th>Gender_Male</th>\n",
       "    </tr>\n",
       "  </thead>\n",
       "  <tbody>\n",
       "    <tr>\n",
       "      <th>9491</th>\n",
       "      <td>-0.003468</td>\n",
       "      <td>-0.386878</td>\n",
       "      <td>-0.345322</td>\n",
       "      <td>0.518846</td>\n",
       "      <td>-0.917266</td>\n",
       "      <td>1</td>\n",
       "      <td>1</td>\n",
       "      <td>1.597885</td>\n",
       "      <td>0</td>\n",
       "      <td>0</td>\n",
       "      <td>0</td>\n",
       "    </tr>\n",
       "    <tr>\n",
       "      <th>9174</th>\n",
       "      <td>-1.252595</td>\n",
       "      <td>2.063796</td>\n",
       "      <td>-1.378636</td>\n",
       "      <td>-1.222143</td>\n",
       "      <td>0.805450</td>\n",
       "      <td>1</td>\n",
       "      <td>1</td>\n",
       "      <td>1.578646</td>\n",
       "      <td>0</td>\n",
       "      <td>0</td>\n",
       "      <td>1</td>\n",
       "    </tr>\n",
       "    <tr>\n",
       "      <th>6215</th>\n",
       "      <td>-1.002769</td>\n",
       "      <td>0.178663</td>\n",
       "      <td>0.343554</td>\n",
       "      <td>1.108274</td>\n",
       "      <td>-0.917266</td>\n",
       "      <td>1</td>\n",
       "      <td>1</td>\n",
       "      <td>-1.388924</td>\n",
       "      <td>0</td>\n",
       "      <td>1</td>\n",
       "      <td>1</td>\n",
       "    </tr>\n",
       "    <tr>\n",
       "      <th>5711</th>\n",
       "      <td>-0.336568</td>\n",
       "      <td>-0.386878</td>\n",
       "      <td>-1.034198</td>\n",
       "      <td>0.457789</td>\n",
       "      <td>-0.917266</td>\n",
       "      <td>1</td>\n",
       "      <td>1</td>\n",
       "      <td>0.824195</td>\n",
       "      <td>0</td>\n",
       "      <td>0</td>\n",
       "      <td>0</td>\n",
       "    </tr>\n",
       "    <tr>\n",
       "      <th>5664</th>\n",
       "      <td>0.183901</td>\n",
       "      <td>3.006363</td>\n",
       "      <td>-0.345322</td>\n",
       "      <td>0.984278</td>\n",
       "      <td>-0.917266</td>\n",
       "      <td>0</td>\n",
       "      <td>1</td>\n",
       "      <td>-0.093601</td>\n",
       "      <td>0</td>\n",
       "      <td>1</td>\n",
       "      <td>1</td>\n",
       "    </tr>\n",
       "  </tbody>\n",
       "</table>\n",
       "</div>"
      ],
      "text/plain": [
       "      CreditScore       Age    Tenure   Balance  NumOfProducts  HasCrCard  \\\n",
       "9491    -0.003468 -0.386878 -0.345322  0.518846      -0.917266          1   \n",
       "9174    -1.252595  2.063796 -1.378636 -1.222143       0.805450          1   \n",
       "6215    -1.002769  0.178663  0.343554  1.108274      -0.917266          1   \n",
       "5711    -0.336568 -0.386878 -1.034198  0.457789      -0.917266          1   \n",
       "5664     0.183901  3.006363 -0.345322  0.984278      -0.917266          0   \n",
       "\n",
       "      IsActiveMember  EstimatedSalary  Geography_Germany  Geography_Spain  \\\n",
       "9491               1         1.597885                  0                0   \n",
       "9174               1         1.578646                  0                0   \n",
       "6215               1        -1.388924                  0                1   \n",
       "5711               1         0.824195                  0                0   \n",
       "5664               1        -0.093601                  0                1   \n",
       "\n",
       "      Gender_Male  \n",
       "9491            0  \n",
       "9174            1  \n",
       "6215            1  \n",
       "5711            0  \n",
       "5664            1  "
      ]
     },
     "execution_count": 57,
     "metadata": {},
     "output_type": "execute_result"
    }
   ],
   "source": [
    "features_train.head()"
   ]
  },
  {
   "cell_type": "code",
   "execution_count": 58,
   "metadata": {},
   "outputs": [
    {
     "data": {
      "text/html": [
       "<div>\n",
       "<style scoped>\n",
       "    .dataframe tbody tr th:only-of-type {\n",
       "        vertical-align: middle;\n",
       "    }\n",
       "\n",
       "    .dataframe tbody tr th {\n",
       "        vertical-align: top;\n",
       "    }\n",
       "\n",
       "    .dataframe thead th {\n",
       "        text-align: right;\n",
       "    }\n",
       "</style>\n",
       "<table border=\"1\" class=\"dataframe\">\n",
       "  <thead>\n",
       "    <tr style=\"text-align: right;\">\n",
       "      <th></th>\n",
       "      <th>CreditScore</th>\n",
       "      <th>Age</th>\n",
       "      <th>Tenure</th>\n",
       "      <th>Balance</th>\n",
       "      <th>NumOfProducts</th>\n",
       "      <th>HasCrCard</th>\n",
       "      <th>IsActiveMember</th>\n",
       "      <th>EstimatedSalary</th>\n",
       "      <th>Geography_Germany</th>\n",
       "      <th>Geography_Spain</th>\n",
       "      <th>Gender_Male</th>\n",
       "    </tr>\n",
       "  </thead>\n",
       "  <tbody>\n",
       "    <tr>\n",
       "      <th>9308</th>\n",
       "      <td>0.964605</td>\n",
       "      <td>-1.140931</td>\n",
       "      <td>-1.723074</td>\n",
       "      <td>-1.222143</td>\n",
       "      <td>0.805450</td>\n",
       "      <td>0</td>\n",
       "      <td>1</td>\n",
       "      <td>0.546433</td>\n",
       "      <td>0</td>\n",
       "      <td>0</td>\n",
       "      <td>1</td>\n",
       "    </tr>\n",
       "    <tr>\n",
       "      <th>6769</th>\n",
       "      <td>1.172793</td>\n",
       "      <td>0.461433</td>\n",
       "      <td>0.687992</td>\n",
       "      <td>1.338818</td>\n",
       "      <td>-0.917266</td>\n",
       "      <td>0</td>\n",
       "      <td>0</td>\n",
       "      <td>-1.295163</td>\n",
       "      <td>0</td>\n",
       "      <td>0</td>\n",
       "      <td>0</td>\n",
       "    </tr>\n",
       "    <tr>\n",
       "      <th>530</th>\n",
       "      <td>-1.356689</td>\n",
       "      <td>1.686769</td>\n",
       "      <td>-1.034198</td>\n",
       "      <td>0.691310</td>\n",
       "      <td>0.805450</td>\n",
       "      <td>1</td>\n",
       "      <td>1</td>\n",
       "      <td>-1.207329</td>\n",
       "      <td>0</td>\n",
       "      <td>1</td>\n",
       "      <td>0</td>\n",
       "    </tr>\n",
       "    <tr>\n",
       "      <th>150</th>\n",
       "      <td>1.089518</td>\n",
       "      <td>-0.669648</td>\n",
       "      <td>0.687992</td>\n",
       "      <td>-1.222143</td>\n",
       "      <td>0.805450</td>\n",
       "      <td>1</td>\n",
       "      <td>0</td>\n",
       "      <td>-0.178342</td>\n",
       "      <td>0</td>\n",
       "      <td>1</td>\n",
       "      <td>0</td>\n",
       "    </tr>\n",
       "    <tr>\n",
       "      <th>4609</th>\n",
       "      <td>-0.711306</td>\n",
       "      <td>-0.481134</td>\n",
       "      <td>-1.378636</td>\n",
       "      <td>-1.222143</td>\n",
       "      <td>0.805450</td>\n",
       "      <td>0</td>\n",
       "      <td>1</td>\n",
       "      <td>-0.322308</td>\n",
       "      <td>0</td>\n",
       "      <td>1</td>\n",
       "      <td>1</td>\n",
       "    </tr>\n",
       "  </tbody>\n",
       "</table>\n",
       "</div>"
      ],
      "text/plain": [
       "      CreditScore       Age    Tenure   Balance  NumOfProducts  HasCrCard  \\\n",
       "9308     0.964605 -1.140931 -1.723074 -1.222143       0.805450          0   \n",
       "6769     1.172793  0.461433  0.687992  1.338818      -0.917266          0   \n",
       "530     -1.356689  1.686769 -1.034198  0.691310       0.805450          1   \n",
       "150      1.089518 -0.669648  0.687992 -1.222143       0.805450          1   \n",
       "4609    -0.711306 -0.481134 -1.378636 -1.222143       0.805450          0   \n",
       "\n",
       "      IsActiveMember  EstimatedSalary  Geography_Germany  Geography_Spain  \\\n",
       "9308               1         0.546433                  0                0   \n",
       "6769               0        -1.295163                  0                0   \n",
       "530                1        -1.207329                  0                1   \n",
       "150                0        -0.178342                  0                1   \n",
       "4609               1        -0.322308                  0                1   \n",
       "\n",
       "      Gender_Male  \n",
       "9308            1  \n",
       "6769            0  \n",
       "530             0  \n",
       "150             0  \n",
       "4609            1  "
      ]
     },
     "execution_count": 58,
     "metadata": {},
     "output_type": "execute_result"
    }
   ],
   "source": [
    "features_test.head()"
   ]
  },
  {
   "cell_type": "code",
   "execution_count": 59,
   "metadata": {},
   "outputs": [
    {
     "data": {
      "text/html": [
       "<div>\n",
       "<style scoped>\n",
       "    .dataframe tbody tr th:only-of-type {\n",
       "        vertical-align: middle;\n",
       "    }\n",
       "\n",
       "    .dataframe tbody tr th {\n",
       "        vertical-align: top;\n",
       "    }\n",
       "\n",
       "    .dataframe thead th {\n",
       "        text-align: right;\n",
       "    }\n",
       "</style>\n",
       "<table border=\"1\" class=\"dataframe\">\n",
       "  <thead>\n",
       "    <tr style=\"text-align: right;\">\n",
       "      <th></th>\n",
       "      <th>CreditScore</th>\n",
       "      <th>Age</th>\n",
       "      <th>Tenure</th>\n",
       "      <th>Balance</th>\n",
       "      <th>NumOfProducts</th>\n",
       "      <th>HasCrCard</th>\n",
       "      <th>IsActiveMember</th>\n",
       "      <th>EstimatedSalary</th>\n",
       "      <th>Geography_Germany</th>\n",
       "      <th>Geography_Spain</th>\n",
       "      <th>Gender_Male</th>\n",
       "    </tr>\n",
       "  </thead>\n",
       "  <tbody>\n",
       "    <tr>\n",
       "      <th>6833</th>\n",
       "      <td>0.267176</td>\n",
       "      <td>-0.481134</td>\n",
       "      <td>1.721306</td>\n",
       "      <td>0.143312</td>\n",
       "      <td>-0.917266</td>\n",
       "      <td>0</td>\n",
       "      <td>0</td>\n",
       "      <td>0.799943</td>\n",
       "      <td>0</td>\n",
       "      <td>0</td>\n",
       "      <td>0</td>\n",
       "    </tr>\n",
       "    <tr>\n",
       "      <th>621</th>\n",
       "      <td>0.069398</td>\n",
       "      <td>0.084406</td>\n",
       "      <td>1.721306</td>\n",
       "      <td>1.476447</td>\n",
       "      <td>-0.917266</td>\n",
       "      <td>0</td>\n",
       "      <td>1</td>\n",
       "      <td>0.897522</td>\n",
       "      <td>0</td>\n",
       "      <td>1</td>\n",
       "      <td>0</td>\n",
       "    </tr>\n",
       "    <tr>\n",
       "      <th>9247</th>\n",
       "      <td>1.422619</td>\n",
       "      <td>-0.952418</td>\n",
       "      <td>0.687992</td>\n",
       "      <td>0.078224</td>\n",
       "      <td>0.805450</td>\n",
       "      <td>1</td>\n",
       "      <td>0</td>\n",
       "      <td>-0.602281</td>\n",
       "      <td>0</td>\n",
       "      <td>1</td>\n",
       "      <td>1</td>\n",
       "    </tr>\n",
       "    <tr>\n",
       "      <th>3228</th>\n",
       "      <td>-0.690488</td>\n",
       "      <td>-0.952418</td>\n",
       "      <td>1.721306</td>\n",
       "      <td>-1.222143</td>\n",
       "      <td>0.805450</td>\n",
       "      <td>1</td>\n",
       "      <td>1</td>\n",
       "      <td>0.197121</td>\n",
       "      <td>0</td>\n",
       "      <td>0</td>\n",
       "      <td>0</td>\n",
       "    </tr>\n",
       "    <tr>\n",
       "      <th>8819</th>\n",
       "      <td>-0.596803</td>\n",
       "      <td>-0.292621</td>\n",
       "      <td>1.721306</td>\n",
       "      <td>0.758055</td>\n",
       "      <td>-0.917266</td>\n",
       "      <td>0</td>\n",
       "      <td>1</td>\n",
       "      <td>0.797886</td>\n",
       "      <td>1</td>\n",
       "      <td>0</td>\n",
       "      <td>1</td>\n",
       "    </tr>\n",
       "  </tbody>\n",
       "</table>\n",
       "</div>"
      ],
      "text/plain": [
       "      CreditScore       Age    Tenure   Balance  NumOfProducts  HasCrCard  \\\n",
       "6833     0.267176 -0.481134  1.721306  0.143312      -0.917266          0   \n",
       "621      0.069398  0.084406  1.721306  1.476447      -0.917266          0   \n",
       "9247     1.422619 -0.952418  0.687992  0.078224       0.805450          1   \n",
       "3228    -0.690488 -0.952418  1.721306 -1.222143       0.805450          1   \n",
       "8819    -0.596803 -0.292621  1.721306  0.758055      -0.917266          0   \n",
       "\n",
       "      IsActiveMember  EstimatedSalary  Geography_Germany  Geography_Spain  \\\n",
       "6833               0         0.799943                  0                0   \n",
       "621                1         0.897522                  0                1   \n",
       "9247               0        -0.602281                  0                1   \n",
       "3228               1         0.197121                  0                0   \n",
       "8819               1         0.797886                  1                0   \n",
       "\n",
       "      Gender_Male  \n",
       "6833            0  \n",
       "621             0  \n",
       "9247            1  \n",
       "3228            0  \n",
       "8819            1  "
      ]
     },
     "execution_count": 59,
     "metadata": {},
     "output_type": "execute_result"
    }
   ],
   "source": [
    "features_valid.head()"
   ]
  },
  {
   "cell_type": "code",
   "execution_count": 60,
   "metadata": {},
   "outputs": [
    {
     "name": "stdout",
     "output_type": "stream",
     "text": [
      "Ищем лучшую модель логистической регрессии...\n",
      "Лучшая модель логистической регрессии:  LogisticRegression(C=20.6913808111479, random_state=12345) \n",
      "\n",
      "Ищем лучшую модель дерева решений...\n",
      "Лучшая модель дерева решений:  DecisionTreeClassifier(max_depth=8, random_state=12345) \n",
      "\n",
      "Ищем лучшую модель случайного леса...\n",
      "Лучшая модель случайного леса:  RandomForestClassifier(criterion='entropy', max_depth=9, random_state=12345) \n",
      "\n"
     ]
    }
   ],
   "source": [
    "#задаем гиперпараметры\n",
    "lr_params = {'C': np.logspace(-5, 5, 20)}\n",
    "dtc_params = {'criterion': ['gini', 'entropy'], 'max_depth': range(1,10)}\n",
    "rfc_params = {'criterion': ['gini', 'entropy'], 'max_depth': range(1,10), 'n_estimators': [100, 200, 300]}\n",
    "\n",
    "#перебираем модели с помощью GridSearch и обучаем их на тренировочном датасете\n",
    "print('Ищем лучшую модель логистической регрессии...')\n",
    "logreg = GridSearchCV(LogisticRegression(random_state=12345), lr_params, scoring='f1', cv=10)\n",
    "best_logreg = logreg.fit(features_train, target_train)\n",
    "print('Лучшая модель логистической регрессии: ', best_logreg.best_estimator_, '\\n')\n",
    "\n",
    "print('Ищем лучшую модель дерева решений...')\n",
    "clf = GridSearchCV(DecisionTreeClassifier(random_state=12345), dtc_params, scoring='f1', cv=10)\n",
    "best_clf = clf.fit(features_train, target_train)\n",
    "print('Лучшая модель дерева решений: ', best_clf.best_estimator_, '\\n')\n",
    "\n",
    "print('Ищем лучшую модель случайного леса...')\n",
    "rf_clf = GridSearchCV(RandomForestClassifier(random_state=12345), rfc_params, scoring='f1', cv=10)\n",
    "best_rf_clf = rf_clf.fit(features_train, target_train)\n",
    "print('Лучшая модель случайного леса: ', best_rf_clf.best_estimator_, '\\n')"
   ]
  },
  {
   "cell_type": "markdown",
   "metadata": {},
   "source": [
    "Проверим метрики лучших моделей"
   ]
  },
  {
   "cell_type": "code",
   "execution_count": 61,
   "metadata": {
    "scrolled": true
   },
   "outputs": [
    {
     "data": {
      "text/plain": [
       "0.3128924457396082"
      ]
     },
     "execution_count": 61,
     "metadata": {},
     "output_type": "execute_result"
    }
   ],
   "source": [
    "best_logreg.best_score_"
   ]
  },
  {
   "cell_type": "code",
   "execution_count": 62,
   "metadata": {},
   "outputs": [
    {
     "data": {
      "text/plain": [
       "0.5626300405559523"
      ]
     },
     "execution_count": 62,
     "metadata": {},
     "output_type": "execute_result"
    }
   ],
   "source": [
    "best_clf.best_score_"
   ]
  },
  {
   "cell_type": "code",
   "execution_count": 63,
   "metadata": {
    "scrolled": true
   },
   "outputs": [
    {
     "data": {
      "text/plain": [
       "0.5623086754329027"
      ]
     },
     "execution_count": 63,
     "metadata": {},
     "output_type": "execute_result"
    }
   ],
   "source": [
    "best_rf_clf.best_score_"
   ]
  },
  {
   "cell_type": "markdown",
   "metadata": {},
   "source": [
    "Лучше всего себя показала модель дерева решений с максимальной глубиной дерева 8."
   ]
  },
  {
   "cell_type": "code",
   "execution_count": 64,
   "metadata": {},
   "outputs": [],
   "source": [
    "#функция построения ROC curve и вычисления показателя ROC-AUC \n",
    "def roc_auc_viz(model, features, target, sample_name=None):\n",
    "    \n",
    "    probabilities = model.predict_proba(features)\n",
    "\n",
    "    fpr, tpr, _ = roc_curve(target, probabilities[:, 1])\n",
    "    roc_auc = roc_auc_score(target, probabilities[:, 1])\n",
    "\n",
    "    plt\n",
    "    display = RocCurveDisplay(fpr=fpr, tpr=tpr, roc_auc=roc_auc,\n",
    "                                estimator_name=f'ROC-AUC ({sample_name.lower()})')\n",
    "    display.plot()\n",
    "    plt.plot([0, 1], [0, 1], linestyle='--')\n",
    "    if sample_name == None:\n",
    "        plt.title('ROC-кривая')\n",
    "        plt.show()\n",
    "        print('ROC-AUC: ', auc_roc)\n",
    "    else:\n",
    "        plt.title(f'ROC-кривая ({sample_name.lower()})')\n",
    "        plt.show()\n",
    "        print(f'ROC-AUC ({sample_name.lower()}): ', roc_auc)\n",
    "    return roc_auc"
   ]
  },
  {
   "cell_type": "code",
   "execution_count": 65,
   "metadata": {},
   "outputs": [
    {
     "data": {
      "image/png": "[encoded data removed]",
      "text/plain": [
       "<Figure size 432x288 with 1 Axes>"
      ]
     },
     "metadata": {
      "needs_background": "light"
     },
     "output_type": "display_data"
    },
    {
     "name": "stdout",
     "output_type": "stream",
     "text": [
      "ROC-AUC (валидационная выборка, лучшая logisticregression):  0.7483525934088844\n"
     ]
    },
    {
     "data": {
      "image/png": "[encoded data removed]",
      "text/plain": [
       "<Figure size 432x288 with 1 Axes>"
      ]
     },
     "metadata": {
      "needs_background": "light"
     },
     "output_type": "display_data"
    },
    {
     "name": "stdout",
     "output_type": "stream",
     "text": [
      "ROC-AUC (валидационная выборка, лучшая dtc):  0.802815669163527\n"
     ]
    },
    {
     "data": {
      "image/png": "[encoded data removed]",
      "text/plain": [
       "<Figure size 432x288 with 1 Axes>"
      ]
     },
     "metadata": {
      "needs_background": "light"
     },
     "output_type": "display_data"
    },
    {
     "name": "stdout",
     "output_type": "stream",
     "text": [
      "ROC-AUC (валидационная выборка, лучшая rfc):  0.8492222751708836\n"
     ]
    },
    {
     "data": {
      "text/html": [
       "<div>\n",
       "<style scoped>\n",
       "    .dataframe tbody tr th:only-of-type {\n",
       "        vertical-align: middle;\n",
       "    }\n",
       "\n",
       "    .dataframe tbody tr th {\n",
       "        vertical-align: top;\n",
       "    }\n",
       "\n",
       "    .dataframe thead th {\n",
       "        text-align: right;\n",
       "    }\n",
       "</style>\n",
       "<table border=\"1\" class=\"dataframe\">\n",
       "  <thead>\n",
       "    <tr style=\"text-align: right;\">\n",
       "      <th></th>\n",
       "      <th>model</th>\n",
       "      <th>f1</th>\n",
       "      <th>roc_auc</th>\n",
       "    </tr>\n",
       "  </thead>\n",
       "  <tbody>\n",
       "    <tr>\n",
       "      <th>0</th>\n",
       "      <td>Лучшая LogisticRegression</td>\n",
       "      <td>0.293651</td>\n",
       "      <td>0.748353</td>\n",
       "    </tr>\n",
       "    <tr>\n",
       "      <th>1</th>\n",
       "      <td>Лучшая DTC</td>\n",
       "      <td>0.526149</td>\n",
       "      <td>0.802816</td>\n",
       "    </tr>\n",
       "    <tr>\n",
       "      <th>2</th>\n",
       "      <td>Лучшая RFC</td>\n",
       "      <td>0.520211</td>\n",
       "      <td>0.849222</td>\n",
       "    </tr>\n",
       "  </tbody>\n",
       "</table>\n",
       "</div>"
      ],
      "text/plain": [
       "                       model        f1   roc_auc\n",
       "0  Лучшая LogisticRegression  0.293651  0.748353\n",
       "1                 Лучшая DTC  0.526149  0.802816\n",
       "2                 Лучшая RFC  0.520211  0.849222"
      ]
     },
     "execution_count": 65,
     "metadata": {},
     "output_type": "execute_result"
    }
   ],
   "source": [
    "models = {'Лучшая LogisticRegression': best_logreg, 'Лучшая DTC': best_clf, 'Лучшая RFC': best_rf_clf}\n",
    "models_validation = []\n",
    "for m in models.keys():\n",
    "    predictions = models[m].predict(features_valid)\n",
    "    f1 = f1_score(target_valid, predictions)\n",
    "    roc_auc = roc_auc_viz(models[m], features_valid, target_valid, sample_name=f'валидационная выборка, {m}')\n",
    "    models_validation.append({'model': m, 'f1': f1, 'roc_auc': roc_auc})\n",
    "pd.DataFrame(models_validation)"
   ]
  },
  {
   "cell_type": "markdown",
   "metadata": {},
   "source": [
    "Дерево решений оказалось лучшей моделью с точки зрения F1-меры, однако модель случайного леса имеет лучший показатель ROC-AUC, а F1-мера на 0.006 уступает дереву решений."
   ]
  },
  {
   "cell_type": "markdown",
   "metadata": {},
   "source": [
    "Округленные значения F1-меры для валидационной выборки не превышают 0,52. "
   ]
  },
  {
   "cell_type": "markdown",
   "metadata": {},
   "source": [
    "**Выводы:**\n",
    "- удалены столбцы с индексом строки данных, ID клиента и его фамилией, строки с значением NA в столбце Tenure (-10% от исходного датафрейма)\n",
    "- отделен целевой признак - уход клиента из банка\n",
    "- с помощью техники One Hot Encoding закодированы категориальные переменные - пол и страну проживания клиента\n",
    "- стандартизированы столбцы с кредитным рейтингом, возрастом, числом лет в качестве клиента банка и количеством используемых продуктов\n",
    "- датасет разделен на обучающую (60%), валидационную (20%) и тестовую выборки (20%)\n",
    "- без учета дисбаланса классов лучше всего показала себя модель случайного леса. Удалось довести значение F1-меры до 0,52  и ROC-AUC до 0,85 в валидационной выборке"
   ]
  },
  {
   "cell_type": "markdown",
   "metadata": {},
   "source": [
    "## Борьба с дисбалансом"
   ]
  },
  {
   "cell_type": "markdown",
   "metadata": {},
   "source": [
    "Проверим соотношение значений в целевом признаке"
   ]
  },
  {
   "cell_type": "code",
   "execution_count": 68,
   "metadata": {},
   "outputs": [
    {
     "data": {
      "text/plain": [
       "0    0.796113\n",
       "1    0.203887\n",
       "Name: Exited, dtype: float64"
      ]
     },
     "execution_count": 68,
     "metadata": {},
     "output_type": "execute_result"
    }
   ],
   "source": [
    "target_train.value_counts(normalize=True)"
   ]
  },
  {
   "cell_type": "code",
   "execution_count": 69,
   "metadata": {},
   "outputs": [
    {
     "data": {
      "text/plain": [
       "0    0.796062\n",
       "1    0.203938\n",
       "Name: Exited, dtype: float64"
      ]
     },
     "execution_count": 69,
     "metadata": {},
     "output_type": "execute_result"
    }
   ],
   "source": [
    "target.value_counts(normalize=True)"
   ]
  },
  {
   "cell_type": "markdown",
   "metadata": {},
   "source": [
    "Наблюдается дисбаланс классов: услугами банка прекращает пользоваться каждый пятый клиент. Попробуем увеличить число ушедших клиентов."
   ]
  },
  {
   "cell_type": "code",
   "execution_count": 70,
   "metadata": {},
   "outputs": [
    {
     "name": "stdout",
     "output_type": "stream",
     "text": [
      "Размер обычной обучающей выборки: (5454, 11) (5454,)\n",
      "Размер увеличенной обучающей выборки: (8790, 11) (8790,)\n",
      "Баланс классов в обычной обучающей выборке:\n",
      "0    0.796113\n",
      "1    0.203887\n",
      "Name: Exited, dtype: float64\n",
      "Баланс классов в увеличенной обучающей выборке:\n",
      "1    0.50603\n",
      "0    0.49397\n",
      "Name: Exited, dtype: float64\n"
     ]
    }
   ],
   "source": [
    "def upsample(features, target, repeat):\n",
    "    features_zeros = features[target == 0]\n",
    "    features_ones = features[target == 1]\n",
    "    target_zeros = target[target == 0]\n",
    "    target_ones = target[target == 1]\n",
    "\n",
    "    features_upsampled = pd.concat([features_zeros] + [features_ones] * repeat)\n",
    "    target_upsampled = pd.concat([target_zeros] + [target_ones] * repeat)\n",
    "    \n",
    "    features_upsampled, target_upsampled = shuffle(\n",
    "        features_upsampled, target_upsampled, random_state=12345)\n",
    "    \n",
    "    return features_upsampled, target_upsampled\n",
    "\n",
    "features_train_up, target_train_up = upsample(features_train, target_train, 4)\n",
    "print('Размер обычной обучающей выборки:', features_train.shape, target_train.shape)\n",
    "print('Размер увеличенной обучающей выборки:', features_train_up.shape, target_train_up.shape)\n",
    "print('Баланс классов в обычной обучающей выборке:', target_train.value_counts(normalize=True), sep='\\n')\n",
    "print('Баланс классов в увеличенной обучающей выборке:', target_train_up.value_counts(normalize=True), sep='\\n')"
   ]
  },
  {
   "cell_type": "markdown",
   "metadata": {},
   "source": [
    "**Вывод:** из-за небольшого количества данных в датасете в 4 раза увеличено число ушедших клиентов в тренировочной выборке."
   ]
  },
  {
   "cell_type": "markdown",
   "metadata": {},
   "source": [
    "## Тестирование модели"
   ]
  },
  {
   "cell_type": "code",
   "execution_count": 71,
   "metadata": {},
   "outputs": [
    {
     "name": "stdout",
     "output_type": "stream",
     "text": [
      "Ищем лучшую модель логистической регрессии...\n",
      "Лучшая модель: Модель LogisticRegression(random_state=12345, C=0.0012742749857031334, solver=\"liblinear\")\n",
      "F1-мера (валидационная выборка)=0.4894259818731117\n",
      "CPU times: user 1.11 s, sys: 1.74 s, total: 2.84 s\n",
      "Wall time: 2.79 s\n"
     ]
    }
   ],
   "source": [
    "%%time\n",
    "#перебираем параметр C в логистической регрессии и ищем лучшую модель на валидации\n",
    "best_models_f1 = {}\n",
    "print('Ищем лучшую модель логистической регрессии...')\n",
    "for c in np.logspace(-5, 5, 20):\n",
    "    logreg = LogisticRegression(random_state=12345, C=c, solver='liblinear')\n",
    "    logreg.fit(features_train_up, target_train_up)\n",
    "    predictions = logreg.predict(features_valid)\n",
    "    f1 = f1_score(target_valid, predictions)\n",
    "    best_models_f1[f'Модель LogisticRegression(random_state=12345, C={c}, solver=\"liblinear\")'] = f1\n",
    "print(f'Лучшая модель: {max(best_models_f1, key=best_models_f1.get)}')\n",
    "print(f'F1-мера (валидационная выборка)={max(best_models_f1.values())}')\n"
   ]
  },
  {
   "cell_type": "code",
   "execution_count": 72,
   "metadata": {
    "scrolled": true
   },
   "outputs": [
    {
     "data": {
      "image/png": "[encoded data removed]",
      "text/plain": [
       "<Figure size 432x288 with 1 Axes>"
      ]
     },
     "metadata": {
      "needs_background": "light"
     },
     "output_type": "display_data"
    },
    {
     "name": "stdout",
     "output_type": "stream",
     "text": [
      "ROC-AUC (валидационная выборка):  0.7539165462911945\n"
     ]
    },
    {
     "data": {
      "text/plain": [
       "0.7539165462911945"
      ]
     },
     "execution_count": 72,
     "metadata": {},
     "output_type": "execute_result"
    }
   ],
   "source": [
    "best_logreg = LogisticRegression(random_state=12345, C=0.0012742749857031334, solver='liblinear')\n",
    "best_logreg.fit(features_train_up, target_train_up)\n",
    "roc_auc_viz(best_logreg, features_valid, target_valid, sample_name=f'валидационная выборка')"
   ]
  },
  {
   "cell_type": "code",
   "execution_count": 73,
   "metadata": {},
   "outputs": [
    {
     "name": "stdout",
     "output_type": "stream",
     "text": [
      "Ищем лучшую модель дерева решений...\n",
      "Лучшая модель: DecisionTreeClassifier(random_state=12345, criterion=gini, max_depth=5, class_weight=None)\n",
      "F1-мера (валидационная выборка)=0.5978947368421053\n"
     ]
    }
   ],
   "source": [
    "best_models_f1 = {}\n",
    "print('Ищем лучшую модель дерева решений...')\n",
    "for crit in ['gini', 'entropy']:\n",
    "    for max_d in range(1,15):\n",
    "        for class_w in [None, 'balanced']:\n",
    "            dtc = DecisionTreeClassifier(random_state=12345, criterion=crit, max_depth=max_d, class_weight=class_w)\n",
    "            dtc.fit(features_train_up, target_train_up)\n",
    "            predictions = dtc.predict(features_valid)\n",
    "            f1 = f1_score(target_valid, predictions)\n",
    "            \n",
    "            best_models_f1[f'DecisionTreeClassifier(random_state=12345, criterion={crit}, max_depth={max_d}, class_weight={class_w})'] = f1\n",
    "print(f'Лучшая модель: {max(best_models_f1, key=best_models_f1.get)}')\n",
    "print(f'F1-мера (валидационная выборка)={max(best_models_f1.values())}')"
   ]
  },
  {
   "cell_type": "code",
   "execution_count": 74,
   "metadata": {},
   "outputs": [
    {
     "data": {
      "image/png": "[encoded data removed]",
      "text/plain": [
       "<Figure size 432x288 with 1 Axes>"
      ]
     },
     "metadata": {
      "needs_background": "light"
     },
     "output_type": "display_data"
    },
    {
     "name": "stdout",
     "output_type": "stream",
     "text": [
      "ROC-AUC (валидационная выборка):  0.8346431922086045\n"
     ]
    },
    {
     "data": {
      "text/plain": [
       "0.8346431922086045"
      ]
     },
     "execution_count": 74,
     "metadata": {},
     "output_type": "execute_result"
    }
   ],
   "source": [
    "best_dtc = DecisionTreeClassifier(random_state=12345, criterion='gini', max_depth=5, class_weight=None)\n",
    "best_dtc.fit(features_train_up, target_train_up)\n",
    "roc_auc_viz(best_dtc, features_valid, target_valid, sample_name=f'валидационная выборка')"
   ]
  },
  {
   "cell_type": "code",
   "execution_count": 80,
   "metadata": {},
   "outputs": [
    {
     "name": "stdout",
     "output_type": "stream",
     "text": [
      "Ищем лучшую модель случайного леса...\n",
      "Лучшая модель: RandomForestClassifier(random_state=12345, criterion=entropy, max_depth=10, class_weight=None), n_estimators=200)\n",
      "F1-мера (валидационная выборка)=0.6081582200247219\n",
      "CPU times: user 3min 36s, sys: 2.44 s, total: 3min 38s\n",
      "Wall time: 3min 39s\n"
     ]
    }
   ],
   "source": [
    "%%time\n",
    "best_models_f1 = {}\n",
    "print('Ищем лучшую модель случайного леса...')\n",
    "for crit in ['gini', 'entropy']:\n",
    "    for max_d in range(1,15):\n",
    "        for class_w in [None, 'balanced']:\n",
    "            for n_est in [100, 200, 300]:\n",
    "                rfc = RandomForestClassifier(random_state=12345, criterion=crit, max_depth=max_d, class_weight=class_w, n_estimators=n_est)\n",
    "                rfc.fit(features_train_up, target_train_up)\n",
    "                predictions = rfc.predict(features_valid)\n",
    "                f1 = f1_score(target_valid, predictions)\n",
    "                best_models_f1[f'RandomForestClassifier(random_state=12345, criterion={crit}, max_depth={max_d}, class_weight={class_w}), n_estimators={n_est})'] = f1\n",
    "print(f'Лучшая модель: {max(best_models_f1, key=best_models_f1.get)}')\n",
    "print(f'F1-мера (валидационная выборка)={max(best_models_f1.values())}')"
   ]
  },
  {
   "cell_type": "markdown",
   "metadata": {},
   "source": [
    "Лучше всего на валидации себя показала модель случайного леса с максимальной глубиной дерева 10 и критерием entropy. Для нее и рассчитаем F1-score и ROC-AUC тестовой модели."
   ]
  },
  {
   "cell_type": "code",
   "execution_count": 81,
   "metadata": {
    "scrolled": true
   },
   "outputs": [
    {
     "name": "stdout",
     "output_type": "stream",
     "text": [
      "F1-мера (валидационная выборка): 0.6081582200247219\n"
     ]
    }
   ],
   "source": [
    "best_rfc = RandomForestClassifier(random_state=12345, criterion='entropy', max_depth=10, class_weight=None, n_estimators=200)\n",
    "best_rfc.fit(features_train_up, target_train_up)\n",
    "\n",
    "pred_valid = best_rfc.predict(features_valid)\n",
    "print(f'F1-мера (валидационная выборка): {f1_score(target_valid, pred_valid)}')"
   ]
  },
  {
   "cell_type": "code",
   "execution_count": 82,
   "metadata": {},
   "outputs": [
    {
     "data": {
      "image/png": "[encoded data removed]",
      "text/plain": [
       "<Figure size 432x288 with 1 Axes>"
      ]
     },
     "metadata": {
      "needs_background": "light"
     },
     "output_type": "display_data"
    },
    {
     "name": "stdout",
     "output_type": "stream",
     "text": [
      "ROC-AUC (валидационная выборка):  0.85287449181695\n"
     ]
    },
    {
     "data": {
      "text/plain": [
       "0.85287449181695"
      ]
     },
     "execution_count": 82,
     "metadata": {},
     "output_type": "execute_result"
    }
   ],
   "source": [
    "roc_auc_viz(best_rfc, features_valid, target_valid, sample_name='валидационная выборка')"
   ]
  },
  {
   "cell_type": "markdown",
   "metadata": {},
   "source": [
    "Округленные значения F1-меры лучших моделей дерева решений и случайного леса валидационной превышают 0,59. Лучше показал себя случайный лес. Проверим на тестовой выборке."
   ]
  },
  {
   "cell_type": "code",
   "execution_count": 83,
   "metadata": {},
   "outputs": [
    {
     "name": "stdout",
     "output_type": "stream",
     "text": [
      "F1-мера (тестовая выборка): 0.6041923551171393\n"
     ]
    }
   ],
   "source": [
    "pred_test = best_rfc.predict(features_test)\n",
    "print(f'F1-мера (тестовая выборка): {f1_score(target_test, pred_test)}')"
   ]
  },
  {
   "cell_type": "code",
   "execution_count": 79,
   "metadata": {},
   "outputs": [
    {
     "data": {
      "image/png": "[encoded data removed]",
      "text/plain": [
       "<Figure size 432x288 with 1 Axes>"
      ]
     },
     "metadata": {
      "needs_background": "light"
     },
     "output_type": "display_data"
    },
    {
     "name": "stdout",
     "output_type": "stream",
     "text": [
      "ROC-AUC (тестовая выборка):  0.8608292647488903\n"
     ]
    },
    {
     "data": {
      "text/plain": [
       "0.8608292647488903"
      ]
     },
     "execution_count": 79,
     "metadata": {},
     "output_type": "execute_result"
    }
   ],
   "source": [
    "roc_auc_viz(best_rfc, features_test, target_test, sample_name='тестовая выборка')"
   ]
  },
  {
   "cell_type": "markdown",
   "metadata": {},
   "source": [
    "**Выводы:**\n",
    "- для устранения дисбаланса в обучающей выборке увеличено число клиентов, ушедших из банка\n",
    "- лучшей моделью с точки зрения F1-меры и ROC-AUC оказался случайный лес с 200 обученными деревьями и глубиной дерева 10.\n",
    "- после работы с дисбалансом классов удалось довести значение F1-меры до 0,61 и ROC-AUC до 0,85 в валидационной выборке, F1-меру до 0,6 и ROC-AUC до 0,86 в тестовой выборке\n",
    "- в дальнейшем можно поэкспериментировать с подбором других гиперпараметров разных моделей и параметром кроссвалидации (cv) в GridSearchCV, применить другие алгоритмы (например, KNN), чтобы улучшить предсказуемость ухода клиентов из банка, а также избежать проблем с переобучением"
   ]
  },
  {
   "cell_type": "markdown",
   "metadata": {},
   "source": [
    "## Чек-лист готовности проекта"
   ]
  },
  {
   "cell_type": "markdown",
   "metadata": {},
   "source": [
    "Поставьте 'x' в выполненных пунктах. Далее нажмите Shift+Enter."
   ]
  },
  {
   "cell_type": "markdown",
   "metadata": {},
   "source": [
    "- [x]  Jupyter Notebook открыт\n",
    "- [x]  Весь код выполняется без ошибок\n",
    "- [x]  Ячейки с кодом расположены в порядке исполнения\n",
    "- [x]  Выполнен шаг 1: данные подготовлены\n",
    "- [x]  Выполнен шаг 2: задача исследована\n",
    "    - [x]  Исследован баланс классов\n",
    "    - [x]  Изучены модели без учёта дисбаланса\n",
    "    - [x]  Написаны выводы по результатам исследования\n",
    "- [x]  Выполнен шаг 3: учтён дисбаланс\n",
    "    - [x]  Применено несколько способов борьбы с дисбалансом\n",
    "    - [x]  Написаны выводы по результатам исследования\n",
    "- [x]  Выполнен шаг 4: проведено тестирование\n",
    "- [x]  Удалось достичь *F1*-меры не менее 0.59\n",
    "- [x]  Исследована метрика *AUC-ROC*"
   ]
  },
  {
   "cell_type": "code",
   "execution_count": null,
   "metadata": {},
   "outputs": [],
   "source": []
  }
 ],
 "metadata": {
  "ExecuteTimeLog": [
   {
    "duration": 1236,
    "start_time": "2023-04-15T07:01:42.594Z"
   },
   {
    "duration": 202,
    "start_time": "2023-04-15T07:01:46.430Z"
   },
   {
    "duration": 15,
    "start_time": "2023-04-15T07:04:49.329Z"
   },
   {
    "duration": 16,
    "start_time": "2023-04-15T07:18:19.817Z"
   },
   {
    "duration": 2146,
    "start_time": "2023-04-15T07:19:14.902Z"
   },
   {
    "duration": 18,
    "start_time": "2023-04-15T07:19:36.299Z"
   },
   {
    "duration": 19,
    "start_time": "2023-04-15T07:20:09.562Z"
   },
   {
    "duration": 1092,
    "start_time": "2023-04-15T07:20:22.958Z"
   },
   {
    "duration": 20,
    "start_time": "2023-04-15T07:20:36.000Z"
   },
   {
    "duration": 25,
    "start_time": "2023-04-15T07:21:01.529Z"
   },
   {
    "duration": 6,
    "start_time": "2023-04-15T07:25:23.823Z"
   },
   {
    "duration": 21,
    "start_time": "2023-04-15T07:25:25.491Z"
   },
   {
    "duration": 12,
    "start_time": "2023-04-15T07:27:53.521Z"
   },
   {
    "duration": 5,
    "start_time": "2023-04-15T07:27:59.894Z"
   },
   {
    "duration": 20,
    "start_time": "2023-04-15T07:28:07.624Z"
   },
   {
    "duration": 18,
    "start_time": "2023-04-15T07:28:37.820Z"
   },
   {
    "duration": 5,
    "start_time": "2023-04-15T07:31:28.423Z"
   },
   {
    "duration": 30,
    "start_time": "2023-04-15T07:33:23.498Z"
   },
   {
    "duration": 11,
    "start_time": "2023-04-15T07:45:01.384Z"
   },
   {
    "duration": 4,
    "start_time": "2023-04-15T07:45:09.271Z"
   },
   {
    "duration": 15,
    "start_time": "2023-04-15T07:45:20.041Z"
   },
   {
    "duration": 13,
    "start_time": "2023-04-15T07:45:44.385Z"
   },
   {
    "duration": 15,
    "start_time": "2023-04-15T07:46:28.884Z"
   },
   {
    "duration": 8,
    "start_time": "2023-04-15T07:47:16.103Z"
   },
   {
    "duration": 8,
    "start_time": "2023-04-15T07:47:35.343Z"
   },
   {
    "duration": 7,
    "start_time": "2023-04-15T07:48:05.894Z"
   },
   {
    "duration": 5,
    "start_time": "2023-04-15T07:56:56.240Z"
   },
   {
    "duration": 16,
    "start_time": "2023-04-15T07:58:06.152Z"
   },
   {
    "duration": 27,
    "start_time": "2023-04-15T08:01:20.924Z"
   },
   {
    "duration": 20,
    "start_time": "2023-04-15T08:01:48.205Z"
   },
   {
    "duration": 20,
    "start_time": "2023-04-15T08:01:59.053Z"
   },
   {
    "duration": 20,
    "start_time": "2023-04-15T08:02:18.183Z"
   },
   {
    "duration": 14,
    "start_time": "2023-04-15T09:08:17.710Z"
   },
   {
    "duration": 6,
    "start_time": "2023-04-15T09:09:00.035Z"
   },
   {
    "duration": 37,
    "start_time": "2023-04-15T09:09:09.135Z"
   },
   {
    "duration": 1418,
    "start_time": "2023-04-15T09:10:22.376Z"
   },
   {
    "duration": 1250,
    "start_time": "2023-04-15T11:32:32.670Z"
   },
   {
    "duration": 398,
    "start_time": "2023-04-15T11:32:34.540Z"
   },
   {
    "duration": 15,
    "start_time": "2023-04-15T11:32:35.516Z"
   },
   {
    "duration": 16,
    "start_time": "2023-04-15T11:32:40.197Z"
   },
   {
    "duration": 5,
    "start_time": "2023-04-15T11:32:44.360Z"
   },
   {
    "duration": 22,
    "start_time": "2023-04-15T11:32:45.070Z"
   },
   {
    "duration": 5,
    "start_time": "2023-04-15T11:32:48.054Z"
   },
   {
    "duration": 42,
    "start_time": "2023-04-15T11:32:49.154Z"
   },
   {
    "duration": 11,
    "start_time": "2023-04-15T11:32:53.683Z"
   },
   {
    "duration": 9,
    "start_time": "2023-04-15T11:32:57.783Z"
   },
   {
    "duration": 6,
    "start_time": "2023-04-15T11:33:00.017Z"
   },
   {
    "duration": 23,
    "start_time": "2023-04-15T11:33:04.269Z"
   },
   {
    "duration": 1150,
    "start_time": "2023-04-15T11:33:09.334Z"
   },
   {
    "duration": 11,
    "start_time": "2023-04-15T11:34:29.676Z"
   },
   {
    "duration": 16,
    "start_time": "2023-04-15T11:35:02.734Z"
   },
   {
    "duration": 16,
    "start_time": "2023-04-15T11:35:45.858Z"
   },
   {
    "duration": 901,
    "start_time": "2023-04-15T11:36:22.776Z"
   },
   {
    "duration": 8,
    "start_time": "2023-04-15T11:40:37.241Z"
   },
   {
    "duration": 8,
    "start_time": "2023-04-15T11:45:13.604Z"
   },
   {
    "duration": 17,
    "start_time": "2023-04-15T11:47:20.284Z"
   },
   {
    "duration": 13,
    "start_time": "2023-04-15T11:47:21.625Z"
   },
   {
    "duration": 6,
    "start_time": "2023-04-15T11:47:31.442Z"
   },
   {
    "duration": 20,
    "start_time": "2023-04-15T11:47:32.601Z"
   },
   {
    "duration": 5,
    "start_time": "2023-04-15T11:47:35.952Z"
   },
   {
    "duration": 39,
    "start_time": "2023-04-15T11:47:44.403Z"
   },
   {
    "duration": 12,
    "start_time": "2023-04-15T11:47:59.238Z"
   },
   {
    "duration": 6,
    "start_time": "2023-04-15T11:48:04.884Z"
   },
   {
    "duration": 7,
    "start_time": "2023-04-15T11:48:08.459Z"
   },
   {
    "duration": 18,
    "start_time": "2023-04-15T11:48:11.098Z"
   },
   {
    "duration": 152697,
    "start_time": "2023-04-15T11:48:27.883Z"
   },
   {
    "duration": 11,
    "start_time": "2023-04-15T11:52:28.527Z"
   },
   {
    "duration": 10,
    "start_time": "2023-04-15T11:52:35.162Z"
   },
   {
    "duration": 4,
    "start_time": "2023-04-15T11:54:08.274Z"
   },
   {
    "duration": 5,
    "start_time": "2023-04-15T11:54:52.551Z"
   },
   {
    "duration": 4,
    "start_time": "2023-04-15T11:55:17.779Z"
   },
   {
    "duration": 1148,
    "start_time": "2023-04-16T10:34:58.614Z"
   },
   {
    "duration": 104,
    "start_time": "2023-04-16T10:35:00.513Z"
   },
   {
    "duration": 19,
    "start_time": "2023-04-16T10:35:01.791Z"
   },
   {
    "duration": 16,
    "start_time": "2023-04-16T10:35:06.556Z"
   },
   {
    "duration": 12,
    "start_time": "2023-04-16T10:35:09.916Z"
   },
   {
    "duration": 5,
    "start_time": "2023-04-16T10:35:11.012Z"
   },
   {
    "duration": 20,
    "start_time": "2023-04-16T10:35:11.912Z"
   },
   {
    "duration": 28,
    "start_time": "2023-04-16T10:35:13.114Z"
   },
   {
    "duration": 9,
    "start_time": "2023-04-16T10:35:14.424Z"
   },
   {
    "duration": 7,
    "start_time": "2023-04-16T10:35:18.942Z"
   },
   {
    "duration": 6,
    "start_time": "2023-04-16T10:35:19.733Z"
   },
   {
    "duration": 18,
    "start_time": "2023-04-16T10:35:23.908Z"
   },
   {
    "duration": 129942,
    "start_time": "2023-04-16T10:35:36.354Z"
   },
   {
    "duration": 4,
    "start_time": "2023-04-16T10:37:46.297Z"
   },
   {
    "duration": 4,
    "start_time": "2023-04-16T10:38:12.702Z"
   },
   {
    "duration": 3,
    "start_time": "2023-04-16T10:38:13.803Z"
   },
   {
    "duration": 45,
    "start_time": "2023-04-16T10:47:22.212Z"
   },
   {
    "duration": 45,
    "start_time": "2023-04-16T10:48:11.535Z"
   },
   {
    "duration": 305997,
    "start_time": "2023-04-16T10:50:50.323Z"
   },
   {
    "duration": 3,
    "start_time": "2023-04-16T10:56:17.521Z"
   },
   {
    "duration": 4,
    "start_time": "2023-04-16T10:56:18.727Z"
   },
   {
    "duration": 4,
    "start_time": "2023-04-16T10:56:20.109Z"
   },
   {
    "duration": 29,
    "start_time": "2023-04-16T10:56:25.558Z"
   },
   {
    "duration": 30,
    "start_time": "2023-04-16T10:56:37.537Z"
   },
   {
    "duration": 307998,
    "start_time": "2023-04-16T11:00:04.105Z"
   },
   {
    "duration": 5,
    "start_time": "2023-04-16T11:05:21.204Z"
   },
   {
    "duration": 6,
    "start_time": "2023-04-16T11:05:22.306Z"
   },
   {
    "duration": 4,
    "start_time": "2023-04-16T11:05:25.929Z"
   },
   {
    "duration": 51,
    "start_time": "2023-04-16T11:05:30.007Z"
   },
   {
    "duration": 53,
    "start_time": "2023-04-16T11:05:33.728Z"
   },
   {
    "duration": 48,
    "start_time": "2023-04-16T11:08:30.709Z"
   },
   {
    "duration": 11,
    "start_time": "2023-04-16T11:08:33.085Z"
   },
   {
    "duration": 17,
    "start_time": "2023-04-16T11:08:37.285Z"
   },
   {
    "duration": 12,
    "start_time": "2023-04-16T11:08:39.358Z"
   },
   {
    "duration": 4,
    "start_time": "2023-04-16T11:08:43.013Z"
   },
   {
    "duration": 19,
    "start_time": "2023-04-16T11:08:44.751Z"
   },
   {
    "duration": 28,
    "start_time": "2023-04-16T11:08:48.836Z"
   },
   {
    "duration": 9,
    "start_time": "2023-04-16T11:08:55.657Z"
   },
   {
    "duration": 5,
    "start_time": "2023-04-16T11:09:01.004Z"
   },
   {
    "duration": 6,
    "start_time": "2023-04-16T11:09:01.823Z"
   },
   {
    "duration": 104,
    "start_time": "2023-04-16T11:12:49.329Z"
   },
   {
    "duration": 45,
    "start_time": "2023-04-16T11:14:52.751Z"
   },
   {
    "duration": 45,
    "start_time": "2023-04-16T11:14:54.049Z"
   },
   {
    "duration": 15,
    "start_time": "2023-04-16T11:17:25.604Z"
   },
   {
    "duration": 387,
    "start_time": "2023-04-16T11:17:36.204Z"
   },
   {
    "duration": 200,
    "start_time": "2023-04-16T11:17:46.803Z"
   },
   {
    "duration": 92,
    "start_time": "2023-04-16T11:18:03.403Z"
   },
   {
    "duration": 377,
    "start_time": "2023-04-16T11:18:30.174Z"
   },
   {
    "duration": 298,
    "start_time": "2023-04-16T11:21:47.603Z"
   },
   {
    "duration": 369,
    "start_time": "2023-04-16T11:22:18.740Z"
   },
   {
    "duration": 300,
    "start_time": "2023-04-16T11:22:43.495Z"
   },
   {
    "duration": 162,
    "start_time": "2023-04-16T11:23:51.324Z"
   },
   {
    "duration": 3,
    "start_time": "2023-04-16T11:24:43.652Z"
   },
   {
    "duration": 11,
    "start_time": "2023-04-16T11:25:50.107Z"
   },
   {
    "duration": 4,
    "start_time": "2023-04-16T11:26:00.037Z"
   },
   {
    "duration": 5,
    "start_time": "2023-04-16T11:26:07.306Z"
   },
   {
    "duration": 7,
    "start_time": "2023-04-16T11:26:22.407Z"
   },
   {
    "duration": 47,
    "start_time": "2023-04-16T11:26:33.985Z"
   },
   {
    "duration": 47,
    "start_time": "2023-04-16T11:26:35.911Z"
   },
   {
    "duration": 177,
    "start_time": "2023-04-16T11:30:28.132Z"
   },
   {
    "duration": 46,
    "start_time": "2023-04-16T11:52:59.520Z"
   },
   {
    "duration": 58,
    "start_time": "2023-04-16T11:54:22.099Z"
   },
   {
    "duration": 56,
    "start_time": "2023-04-16T11:54:44.820Z"
   },
   {
    "duration": 4,
    "start_time": "2023-04-16T12:06:14.108Z"
   },
   {
    "duration": 64039,
    "start_time": "2023-04-16T12:08:53.080Z"
   },
   {
    "duration": 323945,
    "start_time": "2023-04-16T12:10:30.180Z"
   },
   {
    "duration": 323893,
    "start_time": "2023-04-16T12:16:40.703Z"
   },
   {
    "duration": 5,
    "start_time": "2023-04-16T12:22:16.906Z"
   },
   {
    "duration": 5,
    "start_time": "2023-04-16T12:22:17.843Z"
   },
   {
    "duration": 4,
    "start_time": "2023-04-16T12:22:18.945Z"
   },
   {
    "duration": 49,
    "start_time": "2023-04-16T12:22:50.493Z"
   },
   {
    "duration": 60,
    "start_time": "2023-04-16T12:22:51.783Z"
   },
   {
    "duration": 271502,
    "start_time": "2023-04-16T12:25:36.746Z"
   },
   {
    "duration": 2000481,
    "start_time": "2023-04-16T12:30:56.018Z"
   },
   {
    "duration": 4,
    "start_time": "2023-04-16T13:05:11.610Z"
   },
   {
    "duration": 4,
    "start_time": "2023-04-16T13:05:12.785Z"
   },
   {
    "duration": 5,
    "start_time": "2023-04-16T13:05:15.130Z"
   },
   {
    "duration": 4,
    "start_time": "2023-04-16T13:05:21.185Z"
   },
   {
    "duration": 135,
    "start_time": "2023-04-16T13:05:23.455Z"
   },
   {
    "duration": 133,
    "start_time": "2023-04-16T13:05:25.945Z"
   },
   {
    "duration": 291,
    "start_time": "2023-04-16T13:06:51.038Z"
   },
   {
    "duration": 9,
    "start_time": "2023-04-16T13:06:55.915Z"
   },
   {
    "duration": 2371252,
    "start_time": "2023-04-16T13:08:12.351Z"
   },
   {
    "duration": 5,
    "start_time": "2023-04-16T13:48:35.249Z"
   },
   {
    "duration": 5,
    "start_time": "2023-04-16T13:48:36.541Z"
   },
   {
    "duration": 6,
    "start_time": "2023-04-16T13:48:38.222Z"
   },
   {
    "duration": 151,
    "start_time": "2023-04-16T13:48:42.909Z"
   },
   {
    "duration": 166,
    "start_time": "2023-04-16T13:49:00.726Z"
   },
   {
    "duration": 1124809,
    "start_time": "2023-04-16T13:50:39.445Z"
   },
   {
    "duration": 5,
    "start_time": "2023-04-16T14:11:21.161Z"
   },
   {
    "duration": 5,
    "start_time": "2023-04-16T14:11:22.241Z"
   },
   {
    "duration": 9,
    "start_time": "2023-04-16T14:11:25.504Z"
   },
   {
    "duration": 154,
    "start_time": "2023-04-16T14:11:27.865Z"
   },
   {
    "duration": 165,
    "start_time": "2023-04-16T14:11:33.138Z"
   },
   {
    "duration": 602552,
    "start_time": "2023-04-16T14:11:58.910Z"
   },
   {
    "duration": 5,
    "start_time": "2023-04-16T14:23:00.444Z"
   },
   {
    "duration": 5,
    "start_time": "2023-04-16T14:23:01.472Z"
   },
   {
    "duration": 4,
    "start_time": "2023-04-16T14:23:04.320Z"
   },
   {
    "duration": 129,
    "start_time": "2023-04-16T14:23:06.322Z"
   },
   {
    "duration": 127,
    "start_time": "2023-04-16T14:23:10.563Z"
   },
   {
    "duration": 1173740,
    "start_time": "2023-04-16T14:24:32.305Z"
   },
   {
    "duration": 6,
    "start_time": "2023-04-16T14:44:17.665Z"
   },
   {
    "duration": 6,
    "start_time": "2023-04-16T14:44:19.060Z"
   },
   {
    "duration": 5,
    "start_time": "2023-04-16T14:44:20.016Z"
   },
   {
    "duration": 124,
    "start_time": "2023-04-16T14:44:24.779Z"
   },
   {
    "duration": 122,
    "start_time": "2023-04-16T14:44:26.221Z"
   },
   {
    "duration": 298,
    "start_time": "2023-04-16T14:44:31.466Z"
   },
   {
    "duration": 8,
    "start_time": "2023-04-16T14:44:37.017Z"
   },
   {
    "duration": 1833,
    "start_time": "2023-04-16T17:04:30.130Z"
   },
   {
    "duration": 196,
    "start_time": "2023-04-16T17:04:33.876Z"
   },
   {
    "duration": 24,
    "start_time": "2023-04-16T17:04:35.829Z"
   },
   {
    "duration": 25,
    "start_time": "2023-04-16T17:04:41.212Z"
   },
   {
    "duration": 14,
    "start_time": "2023-04-16T17:04:44.224Z"
   },
   {
    "duration": 5,
    "start_time": "2023-04-16T17:04:54.579Z"
   },
   {
    "duration": 32,
    "start_time": "2023-04-16T17:04:56.419Z"
   },
   {
    "duration": 47,
    "start_time": "2023-04-16T17:05:05.514Z"
   },
   {
    "duration": 13,
    "start_time": "2023-04-16T17:05:09.817Z"
   },
   {
    "duration": 8,
    "start_time": "2023-04-16T17:05:22.879Z"
   },
   {
    "duration": 8,
    "start_time": "2023-04-16T17:05:24.313Z"
   },
   {
    "duration": 20,
    "start_time": "2023-04-16T17:05:29.379Z"
   },
   {
    "duration": 115,
    "start_time": "2023-04-16T17:05:52.420Z"
   },
   {
    "duration": 4118,
    "start_time": "2023-04-16T17:06:56.947Z"
   },
   {
    "duration": 164523,
    "start_time": "2023-04-16T17:12:02.599Z"
   },
   {
    "duration": 182503,
    "start_time": "2023-04-16T17:15:34.632Z"
   },
   {
    "duration": 1185780,
    "start_time": "2023-04-16T17:18:58.139Z"
   },
   {
    "duration": 5,
    "start_time": "2023-04-16T17:39:38.429Z"
   },
   {
    "duration": 6,
    "start_time": "2023-04-16T17:39:39.484Z"
   },
   {
    "duration": 5,
    "start_time": "2023-04-16T17:39:40.622Z"
   },
   {
    "duration": 151,
    "start_time": "2023-04-16T17:39:43.703Z"
   },
   {
    "duration": 143,
    "start_time": "2023-04-16T17:39:45.415Z"
   },
   {
    "duration": 306,
    "start_time": "2023-04-16T17:39:50.759Z"
   },
   {
    "duration": 1569,
    "start_time": "2023-04-16T20:03:35.137Z"
   },
   {
    "duration": 210,
    "start_time": "2023-04-16T20:03:36.708Z"
   },
   {
    "duration": 12,
    "start_time": "2023-04-16T20:03:36.920Z"
   },
   {
    "duration": 16,
    "start_time": "2023-04-16T20:03:36.934Z"
   },
   {
    "duration": 14,
    "start_time": "2023-04-16T20:03:36.952Z"
   },
   {
    "duration": 17,
    "start_time": "2023-04-16T20:03:36.968Z"
   },
   {
    "duration": 45,
    "start_time": "2023-04-16T20:03:36.987Z"
   },
   {
    "duration": 27,
    "start_time": "2023-04-16T20:03:37.033Z"
   },
   {
    "duration": 9,
    "start_time": "2023-04-16T20:03:37.061Z"
   },
   {
    "duration": 46,
    "start_time": "2023-04-16T20:03:37.071Z"
   },
   {
    "duration": 17,
    "start_time": "2023-04-16T20:03:37.118Z"
   },
   {
    "duration": 29,
    "start_time": "2023-04-16T20:03:37.136Z"
   },
   {
    "duration": 1175556,
    "start_time": "2023-04-16T20:03:37.167Z"
   },
   {
    "duration": 4,
    "start_time": "2023-04-16T20:23:12.727Z"
   },
   {
    "duration": 109,
    "start_time": "2023-04-16T20:23:12.733Z"
   },
   {
    "duration": 25,
    "start_time": "2023-04-16T20:23:12.845Z"
   },
   {
    "duration": 163,
    "start_time": "2023-04-16T20:23:12.871Z"
   },
   {
    "duration": 137,
    "start_time": "2023-04-16T20:23:13.036Z"
   },
   {
    "duration": 5,
    "start_time": "2023-04-16T20:23:13.175Z"
   },
   {
    "duration": 313,
    "start_time": "2023-04-16T20:23:13.181Z"
   },
   {
    "duration": 264,
    "start_time": "2023-04-16T20:23:13.496Z"
   },
   {
    "duration": 2,
    "start_time": "2023-04-16T20:23:13.762Z"
   },
   {
    "duration": 8407,
    "start_time": "2023-04-16T20:24:22.825Z"
   },
   {
    "duration": 4,
    "start_time": "2023-04-16T20:24:31.234Z"
   },
   {
    "duration": 44,
    "start_time": "2023-04-16T20:24:31.239Z"
   },
   {
    "duration": 52,
    "start_time": "2023-04-16T20:24:31.284Z"
   },
   {
    "duration": 174,
    "start_time": "2023-04-16T20:24:31.338Z"
   },
   {
    "duration": 150,
    "start_time": "2023-04-16T20:24:31.514Z"
   },
   {
    "duration": 7,
    "start_time": "2023-04-16T20:24:31.666Z"
   },
   {
    "duration": 269,
    "start_time": "2023-04-16T20:24:31.676Z"
   },
   {
    "duration": 258,
    "start_time": "2023-04-16T20:24:31.947Z"
   },
   {
    "duration": 2,
    "start_time": "2023-04-16T20:24:32.207Z"
   },
   {
    "duration": 3,
    "start_time": "2023-04-16T20:24:47.452Z"
   },
   {
    "duration": 71,
    "start_time": "2023-04-16T20:24:47.461Z"
   },
   {
    "duration": 12,
    "start_time": "2023-04-16T20:24:47.534Z"
   },
   {
    "duration": 13,
    "start_time": "2023-04-16T20:24:47.548Z"
   },
   {
    "duration": 10,
    "start_time": "2023-04-16T20:24:47.563Z"
   },
   {
    "duration": 18,
    "start_time": "2023-04-16T20:24:47.575Z"
   },
   {
    "duration": 39,
    "start_time": "2023-04-16T20:24:47.595Z"
   },
   {
    "duration": 26,
    "start_time": "2023-04-16T20:24:47.635Z"
   },
   {
    "duration": 10,
    "start_time": "2023-04-16T20:24:47.663Z"
   },
   {
    "duration": 8,
    "start_time": "2023-04-16T20:24:47.674Z"
   },
   {
    "duration": 31,
    "start_time": "2023-04-16T20:24:47.684Z"
   },
   {
    "duration": 20,
    "start_time": "2023-04-16T20:24:47.717Z"
   },
   {
    "duration": 1165594,
    "start_time": "2023-04-16T20:24:47.739Z"
   },
   {
    "duration": 3,
    "start_time": "2023-04-16T20:44:13.335Z"
   },
   {
    "duration": 9,
    "start_time": "2023-04-16T20:44:13.340Z"
   },
   {
    "duration": 6,
    "start_time": "2023-04-16T20:44:13.351Z"
   },
   {
    "duration": 149,
    "start_time": "2023-04-16T20:44:13.359Z"
   },
   {
    "duration": 138,
    "start_time": "2023-04-16T20:44:13.510Z"
   },
   {
    "duration": 5,
    "start_time": "2023-04-16T20:44:13.650Z"
   },
   {
    "duration": 265,
    "start_time": "2023-04-16T20:44:13.656Z"
   },
   {
    "duration": 251,
    "start_time": "2023-04-16T20:44:13.923Z"
   },
   {
    "duration": 2,
    "start_time": "2023-04-16T20:44:14.176Z"
   },
   {
    "duration": 8,
    "start_time": "2023-04-16T20:45:02.916Z"
   },
   {
    "duration": 262,
    "start_time": "2023-04-16T20:45:05.608Z"
   },
   {
    "duration": 158,
    "start_time": "2023-04-16T20:45:09.212Z"
   },
   {
    "duration": 5,
    "start_time": "2023-04-16T20:45:26.751Z"
   },
   {
    "duration": 253,
    "start_time": "2023-04-16T20:45:28.265Z"
   },
   {
    "duration": 149,
    "start_time": "2023-04-16T20:45:44.757Z"
   },
   {
    "duration": 5,
    "start_time": "2023-04-16T20:46:14.863Z"
   },
   {
    "duration": 266,
    "start_time": "2023-04-16T20:46:16.266Z"
   },
   {
    "duration": 242,
    "start_time": "2023-04-16T20:46:17.645Z"
   },
   {
    "duration": 502871,
    "start_time": "2023-04-16T20:54:25.752Z"
   },
   {
    "duration": 5,
    "start_time": "2023-04-16T21:02:59.558Z"
   },
   {
    "duration": 4,
    "start_time": "2023-04-16T21:03:01.113Z"
   },
   {
    "duration": 4,
    "start_time": "2023-04-16T21:03:02.317Z"
   },
   {
    "duration": 9,
    "start_time": "2023-04-16T21:03:57.460Z"
   },
   {
    "duration": 123,
    "start_time": "2023-04-16T21:04:06.258Z"
   },
   {
    "duration": 6,
    "start_time": "2023-04-16T21:05:43.952Z"
   },
   {
    "duration": 134,
    "start_time": "2023-04-16T21:05:45.315Z"
   },
   {
    "duration": 262,
    "start_time": "2023-04-16T21:05:49.516Z"
   },
   {
    "duration": 140,
    "start_time": "2023-04-16T21:06:04.038Z"
   },
   {
    "duration": 10,
    "start_time": "2023-04-16T21:06:46.275Z"
   },
   {
    "duration": 132,
    "start_time": "2023-04-16T21:07:06.914Z"
   },
   {
    "duration": 5,
    "start_time": "2023-04-16T21:07:28.020Z"
   },
   {
    "duration": 134,
    "start_time": "2023-04-16T21:07:29.236Z"
   },
   {
    "duration": 234,
    "start_time": "2023-04-16T21:07:30.919Z"
   },
   {
    "duration": 5,
    "start_time": "2023-04-16T21:11:25.651Z"
   },
   {
    "duration": 131,
    "start_time": "2023-04-16T21:11:27.524Z"
   },
   {
    "duration": 134,
    "start_time": "2023-04-16T21:11:33.622Z"
   },
   {
    "duration": 102,
    "start_time": "2023-04-18T08:43:36.619Z"
   },
   {
    "duration": 1547,
    "start_time": "2023-04-18T08:45:10.266Z"
   },
   {
    "duration": 183,
    "start_time": "2023-04-18T08:45:15.220Z"
   },
   {
    "duration": 14,
    "start_time": "2023-04-18T08:45:20.556Z"
   },
   {
    "duration": 16,
    "start_time": "2023-04-18T08:45:26.764Z"
   },
   {
    "duration": 11,
    "start_time": "2023-04-18T08:45:31.044Z"
   },
   {
    "duration": 6,
    "start_time": "2023-04-18T08:45:34.857Z"
   },
   {
    "duration": 20,
    "start_time": "2023-04-18T08:45:36.742Z"
   },
   {
    "duration": 13,
    "start_time": "2023-04-18T08:46:43.156Z"
   },
   {
    "duration": 172,
    "start_time": "2023-04-18T08:48:41.615Z"
   },
   {
    "duration": 26,
    "start_time": "2023-04-18T08:48:56.311Z"
   },
   {
    "duration": 13,
    "start_time": "2023-04-18T08:49:14.670Z"
   },
   {
    "duration": 14,
    "start_time": "2023-04-18T08:49:37.710Z"
   },
   {
    "duration": 16,
    "start_time": "2023-04-18T08:49:51.043Z"
   },
   {
    "duration": 42,
    "start_time": "2023-04-18T08:50:20.214Z"
   },
   {
    "duration": 40,
    "start_time": "2023-04-18T08:50:33.766Z"
   },
   {
    "duration": 15,
    "start_time": "2023-04-18T08:52:12.678Z"
   },
   {
    "duration": 15,
    "start_time": "2023-04-18T08:52:16.929Z"
   },
   {
    "duration": 404025,
    "start_time": "2023-04-18T08:55:16.579Z"
   },
   {
    "duration": 4,
    "start_time": "2023-04-18T09:05:43.550Z"
   },
   {
    "duration": 4,
    "start_time": "2023-04-18T09:05:45.351Z"
   },
   {
    "duration": 4,
    "start_time": "2023-04-18T09:05:47.221Z"
   },
   {
    "duration": 6,
    "start_time": "2023-04-18T09:24:17.326Z"
   },
   {
    "duration": 4,
    "start_time": "2023-04-18T09:24:21.321Z"
   },
   {
    "duration": 314,
    "start_time": "2023-04-18T09:24:31.370Z"
   },
   {
    "duration": 253,
    "start_time": "2023-04-18T09:25:01.414Z"
   },
   {
    "duration": 590,
    "start_time": "2023-04-18T09:25:26.404Z"
   },
   {
    "duration": 580,
    "start_time": "2023-04-18T09:26:34.210Z"
   },
   {
    "duration": 259,
    "start_time": "2023-04-18T09:27:07.721Z"
   },
   {
    "duration": 278,
    "start_time": "2023-04-18T09:27:38.222Z"
   },
   {
    "duration": 715,
    "start_time": "2023-04-18T09:27:50.726Z"
   },
   {
    "duration": 282,
    "start_time": "2023-04-18T09:29:05.981Z"
   },
   {
    "duration": 609,
    "start_time": "2023-04-18T09:29:18.484Z"
   },
   {
    "duration": 640,
    "start_time": "2023-04-18T09:30:04.478Z"
   },
   {
    "duration": 37,
    "start_time": "2023-04-18T09:35:10.611Z"
   },
   {
    "duration": 181,
    "start_time": "2023-04-18T09:40:52.085Z"
   },
   {
    "duration": 28,
    "start_time": "2023-04-18T09:42:55.979Z"
   },
   {
    "duration": 8,
    "start_time": "2023-04-18T09:42:57.961Z"
   },
   {
    "duration": 21,
    "start_time": "2023-04-18T09:43:07.142Z"
   },
   {
    "duration": 545498,
    "start_time": "2023-04-18T10:09:46.233Z"
   },
   {
    "duration": 84,
    "start_time": "2023-04-18T10:26:21.532Z"
   },
   {
    "duration": 2698,
    "start_time": "2023-04-18T10:26:35.465Z"
   },
   {
    "duration": 2700,
    "start_time": "2023-04-18T10:29:07.360Z"
   },
   {
    "duration": 2541,
    "start_time": "2023-04-18T10:29:36.422Z"
   },
   {
    "duration": 216,
    "start_time": "2023-04-18T10:35:08.326Z"
   },
   {
    "duration": 1452,
    "start_time": "2023-04-18T10:35:31.248Z"
   },
   {
    "duration": 83,
    "start_time": "2023-04-18T10:37:55.760Z"
   },
   {
    "duration": 27073,
    "start_time": "2023-04-18T10:38:10.826Z"
   },
   {
    "duration": 215796,
    "start_time": "2023-04-18T10:39:09.915Z"
   },
   {
    "duration": 5177,
    "start_time": "2023-04-18T10:47:00.070Z"
   },
   {
    "duration": 95595,
    "start_time": "2023-04-18T10:47:15.963Z"
   },
   {
    "duration": 10005,
    "start_time": "2023-04-18T10:49:34.768Z"
   },
   {
    "duration": 242697,
    "start_time": "2023-04-18T10:50:19.226Z"
   },
   {
    "duration": 101,
    "start_time": "2023-04-18T10:57:13.718Z"
   },
   {
    "duration": 10,
    "start_time": "2023-04-18T10:57:28.615Z"
   },
   {
    "duration": 10,
    "start_time": "2023-04-18T10:57:38.118Z"
   },
   {
    "duration": 1683,
    "start_time": "2023-04-18T10:58:50.547Z"
   },
   {
    "duration": 55,
    "start_time": "2023-04-18T10:59:24.379Z"
   },
   {
    "duration": 28,
    "start_time": "2023-04-18T11:01:01.116Z"
   },
   {
    "duration": 14,
    "start_time": "2023-04-18T11:01:06.333Z"
   },
   {
    "duration": 14,
    "start_time": "2023-04-18T11:01:08.018Z"
   },
   {
    "duration": 16,
    "start_time": "2023-04-18T11:06:04.058Z"
   },
   {
    "duration": 14,
    "start_time": "2023-04-18T11:06:05.004Z"
   },
   {
    "duration": 26,
    "start_time": "2023-04-18T11:06:15.111Z"
   },
   {
    "duration": 11,
    "start_time": "2023-04-18T11:06:48.722Z"
   },
   {
    "duration": 15,
    "start_time": "2023-04-18T11:06:51.117Z"
   },
   {
    "duration": 17,
    "start_time": "2023-04-18T11:06:55.272Z"
   },
   {
    "duration": 36,
    "start_time": "2023-04-18T11:07:15.212Z"
   },
   {
    "duration": 32,
    "start_time": "2023-04-18T11:07:23.041Z"
   },
   {
    "duration": 25,
    "start_time": "2023-04-18T11:08:09.675Z"
   },
   {
    "duration": 20,
    "start_time": "2023-04-18T11:08:14.948Z"
   },
   {
    "duration": 21,
    "start_time": "2023-04-18T11:08:16.157Z"
   },
   {
    "duration": 12,
    "start_time": "2023-04-18T11:08:26.226Z"
   },
   {
    "duration": 42,
    "start_time": "2023-04-18T11:09:29.152Z"
   },
   {
    "duration": 14,
    "start_time": "2023-04-18T11:09:35.714Z"
   },
   {
    "duration": 14,
    "start_time": "2023-04-18T11:09:37.207Z"
   },
   {
    "duration": 14,
    "start_time": "2023-04-18T11:12:00.472Z"
   },
   {
    "duration": 9,
    "start_time": "2023-04-18T11:12:02.625Z"
   },
   {
    "duration": 14,
    "start_time": "2023-04-18T11:13:20.405Z"
   },
   {
    "duration": 17,
    "start_time": "2023-04-18T11:13:30.829Z"
   },
   {
    "duration": 12,
    "start_time": "2023-04-18T11:13:57.115Z"
   },
   {
    "duration": 11,
    "start_time": "2023-04-18T11:14:48.115Z"
   },
   {
    "duration": 11,
    "start_time": "2023-04-18T11:14:49.958Z"
   },
   {
    "duration": 13,
    "start_time": "2023-04-18T11:14:50.132Z"
   },
   {
    "duration": 11,
    "start_time": "2023-04-18T11:14:50.321Z"
   },
   {
    "duration": 3,
    "start_time": "2023-04-18T11:15:16.868Z"
   },
   {
    "duration": 53,
    "start_time": "2023-04-18T11:15:19.341Z"
   },
   {
    "duration": 14,
    "start_time": "2023-04-18T11:15:20.205Z"
   },
   {
    "duration": 16,
    "start_time": "2023-04-18T11:15:23.510Z"
   },
   {
    "duration": 15,
    "start_time": "2023-04-18T11:15:24.428Z"
   },
   {
    "duration": 6,
    "start_time": "2023-04-18T11:15:25.367Z"
   },
   {
    "duration": 21,
    "start_time": "2023-04-18T11:15:26.556Z"
   },
   {
    "duration": 14,
    "start_time": "2023-04-18T11:15:28.276Z"
   },
   {
    "duration": 34,
    "start_time": "2023-04-18T11:15:29.644Z"
   },
   {
    "duration": 12,
    "start_time": "2023-04-18T11:15:36.621Z"
   },
   {
    "duration": 16,
    "start_time": "2023-04-18T11:15:38.251Z"
   },
   {
    "duration": 17,
    "start_time": "2023-04-18T11:15:49.115Z"
   },
   {
    "duration": 768,
    "start_time": "2023-04-18T11:16:33.519Z"
   },
   {
    "duration": 57,
    "start_time": "2023-04-18T11:16:55.419Z"
   },
   {
    "duration": 191,
    "start_time": "2023-04-18T11:17:09.831Z"
   },
   {
    "duration": 9,
    "start_time": "2023-04-18T11:17:23.912Z"
   },
   {
    "duration": 6,
    "start_time": "2023-04-18T11:17:24.616Z"
   },
   {
    "duration": 25,
    "start_time": "2023-04-18T11:17:26.951Z"
   },
   {
    "duration": 2536,
    "start_time": "2023-04-18T11:18:51.624Z"
   },
   {
    "duration": 1570,
    "start_time": "2023-04-18T11:19:01.110Z"
   },
   {
    "duration": 1710,
    "start_time": "2023-04-18T11:19:49.111Z"
   },
   {
    "duration": 88,
    "start_time": "2023-04-18T11:19:53.622Z"
   },
   {
    "duration": 2348,
    "start_time": "2023-04-18T11:29:43.826Z"
   },
   {
    "duration": 2295,
    "start_time": "2023-04-18T11:29:57.675Z"
   },
   {
    "duration": 1548,
    "start_time": "2023-04-18T11:30:07.433Z"
   },
   {
    "duration": 221559,
    "start_time": "2023-04-18T11:30:21.751Z"
   },
   {
    "duration": 1699,
    "start_time": "2023-04-18T11:34:35.373Z"
   },
   {
    "duration": 197,
    "start_time": "2023-04-18T11:34:54.080Z"
   },
   {
    "duration": 5,
    "start_time": "2023-04-18T11:36:46.979Z"
   },
   {
    "duration": 4,
    "start_time": "2023-04-18T11:37:35.527Z"
   },
   {
    "duration": 7,
    "start_time": "2023-04-18T11:39:56.437Z"
   },
   {
    "duration": 258,
    "start_time": "2023-04-18T11:40:05.022Z"
   },
   {
    "duration": 4,
    "start_time": "2023-04-18T11:40:55.450Z"
   },
   {
    "duration": 5,
    "start_time": "2023-04-18T11:41:08.633Z"
   },
   {
    "duration": 5,
    "start_time": "2023-04-18T11:41:25.317Z"
   },
   {
    "duration": 680,
    "start_time": "2023-04-18T11:41:27.033Z"
   },
   {
    "duration": 5,
    "start_time": "2023-04-18T11:41:47.380Z"
   },
   {
    "duration": 999,
    "start_time": "2023-04-18T11:41:50.147Z"
   },
   {
    "duration": 6,
    "start_time": "2023-04-18T11:42:28.267Z"
   },
   {
    "duration": 1039,
    "start_time": "2023-04-18T11:42:29.668Z"
   },
   {
    "duration": 4,
    "start_time": "2023-04-18T11:43:55.625Z"
   },
   {
    "duration": 337,
    "start_time": "2023-04-18T11:43:58.982Z"
   },
   {
    "duration": 9,
    "start_time": "2023-04-18T11:44:22.055Z"
   },
   {
    "duration": 5,
    "start_time": "2023-04-18T11:45:26.628Z"
   },
   {
    "duration": 684,
    "start_time": "2023-04-18T11:45:27.883Z"
   },
   {
    "duration": 42,
    "start_time": "2023-04-18T11:45:57.474Z"
   },
   {
    "duration": 200,
    "start_time": "2023-04-18T11:45:59.324Z"
   },
   {
    "duration": 6,
    "start_time": "2023-04-18T11:47:10.184Z"
   },
   {
    "duration": 6,
    "start_time": "2023-04-18T11:47:10.933Z"
   },
   {
    "duration": 123,
    "start_time": "2023-04-18T11:47:24.843Z"
   },
   {
    "duration": 1849,
    "start_time": "2023-04-18T11:47:44.029Z"
   },
   {
    "duration": 1699,
    "start_time": "2023-04-18T11:49:02.729Z"
   },
   {
    "duration": 211,
    "start_time": "2023-04-18T11:49:13.631Z"
   },
   {
    "duration": 15,
    "start_time": "2023-04-18T11:53:09.281Z"
   },
   {
    "duration": 13,
    "start_time": "2023-04-18T11:53:10.232Z"
   },
   {
    "duration": 502389,
    "start_time": "2023-04-18T11:53:24.221Z"
   },
   {
    "duration": 6,
    "start_time": "2023-04-18T12:51:41.939Z"
   },
   {
    "duration": 4,
    "start_time": "2023-04-18T12:51:45.380Z"
   },
   {
    "duration": 4,
    "start_time": "2023-04-18T12:51:46.744Z"
   },
   {
    "duration": 6,
    "start_time": "2023-04-18T14:29:59.276Z"
   },
   {
    "duration": 699,
    "start_time": "2023-04-18T14:30:04.202Z"
   },
   {
    "duration": 46,
    "start_time": "2023-04-18T14:30:27.806Z"
   },
   {
    "duration": 176,
    "start_time": "2023-04-18T14:30:36.024Z"
   },
   {
    "duration": 3181,
    "start_time": "2023-04-18T14:34:01.375Z"
   },
   {
    "duration": 2542,
    "start_time": "2023-04-18T14:34:46.525Z"
   },
   {
    "duration": 249,
    "start_time": "2023-04-18T14:36:27.704Z"
   },
   {
    "duration": 29,
    "start_time": "2023-04-18T14:37:06.540Z"
   },
   {
    "duration": 337,
    "start_time": "2023-04-18T14:37:12.955Z"
   },
   {
    "duration": 12,
    "start_time": "2023-04-18T14:38:49.316Z"
   },
   {
    "duration": 174,
    "start_time": "2023-04-18T14:39:01.803Z"
   },
   {
    "duration": 1590,
    "start_time": "2023-04-18T14:40:54.304Z"
   },
   {
    "duration": 82,
    "start_time": "2023-04-18T14:43:17.860Z"
   },
   {
    "duration": 161,
    "start_time": "2023-04-18T14:43:54.522Z"
   },
   {
    "duration": 204,
    "start_time": "2023-04-18T14:44:26.907Z"
   },
   {
    "duration": 87,
    "start_time": "2023-04-18T14:44:53.323Z"
   },
   {
    "duration": 239,
    "start_time": "2023-04-18T14:45:00.720Z"
   },
   {
    "duration": 82,
    "start_time": "2023-04-18T14:45:25.644Z"
   },
   {
    "duration": 198,
    "start_time": "2023-04-18T14:45:29.571Z"
   },
   {
    "duration": 1351,
    "start_time": "2023-04-18T14:48:35.969Z"
   },
   {
    "duration": 53,
    "start_time": "2023-04-18T14:48:37.322Z"
   },
   {
    "duration": 13,
    "start_time": "2023-04-18T14:48:37.377Z"
   },
   {
    "duration": 20,
    "start_time": "2023-04-18T14:48:37.391Z"
   },
   {
    "duration": 14,
    "start_time": "2023-04-18T14:48:37.413Z"
   },
   {
    "duration": 4,
    "start_time": "2023-04-18T14:48:37.429Z"
   },
   {
    "duration": 37,
    "start_time": "2023-04-18T14:48:37.434Z"
   },
   {
    "duration": 12,
    "start_time": "2023-04-18T14:48:37.473Z"
   },
   {
    "duration": 33,
    "start_time": "2023-04-18T14:48:37.487Z"
   },
   {
    "duration": 35,
    "start_time": "2023-04-18T14:48:37.521Z"
   },
   {
    "duration": 12,
    "start_time": "2023-04-18T14:48:37.557Z"
   },
   {
    "duration": 12,
    "start_time": "2023-04-18T14:48:37.570Z"
   },
   {
    "duration": 408127,
    "start_time": "2023-04-18T14:48:37.584Z"
   },
   {
    "duration": 5,
    "start_time": "2023-04-18T14:55:25.714Z"
   },
   {
    "duration": 10,
    "start_time": "2023-04-18T14:55:25.721Z"
   },
   {
    "duration": 7,
    "start_time": "2023-04-18T14:55:25.733Z"
   },
   {
    "duration": 6,
    "start_time": "2023-04-18T14:55:25.756Z"
   },
   {
    "duration": 382,
    "start_time": "2023-04-18T14:55:25.764Z"
   },
   {
    "duration": 0,
    "start_time": "2023-04-18T14:55:26.148Z"
   },
   {
    "duration": 0,
    "start_time": "2023-04-18T14:55:26.149Z"
   },
   {
    "duration": 0,
    "start_time": "2023-04-18T14:55:26.155Z"
   },
   {
    "duration": 0,
    "start_time": "2023-04-18T14:55:26.156Z"
   },
   {
    "duration": 0,
    "start_time": "2023-04-18T14:55:26.158Z"
   },
   {
    "duration": 0,
    "start_time": "2023-04-18T14:55:26.159Z"
   },
   {
    "duration": 0,
    "start_time": "2023-04-18T14:55:26.160Z"
   },
   {
    "duration": 0,
    "start_time": "2023-04-18T14:55:26.161Z"
   },
   {
    "duration": 0,
    "start_time": "2023-04-18T14:55:26.163Z"
   },
   {
    "duration": 0,
    "start_time": "2023-04-18T14:55:26.164Z"
   },
   {
    "duration": 0,
    "start_time": "2023-04-18T14:55:26.166Z"
   },
   {
    "duration": 0,
    "start_time": "2023-04-18T14:55:26.167Z"
   },
   {
    "duration": 0,
    "start_time": "2023-04-18T14:55:26.168Z"
   },
   {
    "duration": 0,
    "start_time": "2023-04-18T14:55:26.169Z"
   },
   {
    "duration": 135,
    "start_time": "2023-04-18T14:58:33.620Z"
   },
   {
    "duration": 5,
    "start_time": "2023-04-18T14:59:16.943Z"
   },
   {
    "duration": 286,
    "start_time": "2023-04-18T14:59:18.212Z"
   },
   {
    "duration": 5,
    "start_time": "2023-04-18T14:59:34.064Z"
   },
   {
    "duration": 335,
    "start_time": "2023-04-18T14:59:35.075Z"
   },
   {
    "duration": 6,
    "start_time": "2023-04-18T15:00:24.223Z"
   },
   {
    "duration": 364,
    "start_time": "2023-04-18T15:00:26.755Z"
   },
   {
    "duration": 6,
    "start_time": "2023-04-18T15:00:46.780Z"
   },
   {
    "duration": 670,
    "start_time": "2023-04-18T15:00:48.486Z"
   },
   {
    "duration": 56,
    "start_time": "2023-04-18T15:00:59.515Z"
   },
   {
    "duration": 188,
    "start_time": "2023-04-18T15:01:03.221Z"
   },
   {
    "duration": 9,
    "start_time": "2023-04-18T15:01:54.284Z"
   },
   {
    "duration": 7,
    "start_time": "2023-04-18T15:01:54.307Z"
   },
   {
    "duration": 20,
    "start_time": "2023-04-18T15:01:54.319Z"
   },
   {
    "duration": 2623,
    "start_time": "2023-04-18T15:01:54.341Z"
   },
   {
    "duration": 421,
    "start_time": "2023-04-18T15:01:56.970Z"
   },
   {
    "duration": 1402,
    "start_time": "2023-04-18T15:01:57.393Z"
   },
   {
    "duration": 191,
    "start_time": "2023-04-18T15:01:58.797Z"
   },
   {
    "duration": 212698,
    "start_time": "2023-04-18T15:01:58.990Z"
   },
   {
    "duration": 1740,
    "start_time": "2023-04-18T15:05:31.690Z"
   },
   {
    "duration": 230,
    "start_time": "2023-04-18T15:05:33.432Z"
   },
   {
    "duration": 74,
    "start_time": "2023-04-18T15:05:33.664Z"
   },
   {
    "duration": 260,
    "start_time": "2023-04-18T15:05:33.739Z"
   },
   {
    "duration": 357,
    "start_time": "2023-04-18T15:05:34.002Z"
   },
   {
    "duration": 166,
    "start_time": "2023-04-18T15:06:15.761Z"
   },
   {
    "duration": 1720,
    "start_time": "2023-04-18T15:06:35.514Z"
   },
   {
    "duration": 276,
    "start_time": "2023-04-18T15:06:45.443Z"
   },
   {
    "duration": 75,
    "start_time": "2023-04-18T15:08:29.134Z"
   },
   {
    "duration": 304,
    "start_time": "2023-04-18T15:08:30.948Z"
   },
   {
    "duration": 4,
    "start_time": "2023-04-18T15:15:26.839Z"
   },
   {
    "duration": 62,
    "start_time": "2023-04-18T15:15:26.846Z"
   },
   {
    "duration": 12,
    "start_time": "2023-04-18T15:15:26.910Z"
   },
   {
    "duration": 29,
    "start_time": "2023-04-18T15:15:26.924Z"
   },
   {
    "duration": 21,
    "start_time": "2023-04-18T15:15:26.955Z"
   },
   {
    "duration": 7,
    "start_time": "2023-04-18T15:15:26.980Z"
   },
   {
    "duration": 20,
    "start_time": "2023-04-18T15:15:26.989Z"
   },
   {
    "duration": 12,
    "start_time": "2023-04-18T15:15:27.011Z"
   },
   {
    "duration": 60,
    "start_time": "2023-04-18T15:15:27.026Z"
   },
   {
    "duration": 11,
    "start_time": "2023-04-18T15:15:27.088Z"
   },
   {
    "duration": 21,
    "start_time": "2023-04-18T15:15:27.101Z"
   },
   {
    "duration": 12,
    "start_time": "2023-04-18T15:15:27.124Z"
   },
   {
    "duration": 484641,
    "start_time": "2023-04-18T15:15:27.155Z"
   },
   {
    "duration": 5,
    "start_time": "2023-04-18T15:23:31.798Z"
   },
   {
    "duration": 31,
    "start_time": "2023-04-18T15:23:31.805Z"
   },
   {
    "duration": 31,
    "start_time": "2023-04-18T15:23:31.838Z"
   },
   {
    "duration": 24,
    "start_time": "2023-04-18T15:23:31.871Z"
   },
   {
    "duration": 734,
    "start_time": "2023-04-18T15:23:31.896Z"
   },
   {
    "duration": 56,
    "start_time": "2023-04-18T15:23:32.632Z"
   },
   {
    "duration": 190,
    "start_time": "2023-04-18T15:23:32.690Z"
   },
   {
    "duration": 6,
    "start_time": "2023-04-18T15:23:32.883Z"
   },
   {
    "duration": 19,
    "start_time": "2023-04-18T15:23:32.891Z"
   },
   {
    "duration": 36,
    "start_time": "2023-04-18T15:23:32.912Z"
   },
   {
    "duration": 2812,
    "start_time": "2023-04-18T15:23:32.951Z"
   },
   {
    "duration": 438,
    "start_time": "2023-04-18T15:23:35.764Z"
   },
   {
    "duration": 1531,
    "start_time": "2023-04-18T15:23:36.203Z"
   },
   {
    "duration": 255,
    "start_time": "2023-04-18T15:23:37.736Z"
   },
   {
    "duration": 136446,
    "start_time": "2023-04-18T15:23:37.993Z"
   },
   {
    "duration": 1619,
    "start_time": "2023-04-18T15:25:54.442Z"
   },
   {
    "duration": 226,
    "start_time": "2023-04-18T15:25:56.062Z"
   },
   {
    "duration": 91,
    "start_time": "2023-04-18T15:25:56.290Z"
   },
   {
    "duration": 225,
    "start_time": "2023-04-18T15:25:56.382Z"
   },
   {
    "duration": 219222,
    "start_time": "2023-04-18T15:26:17.976Z"
   },
   {
    "duration": 1662,
    "start_time": "2023-04-18T15:35:09.867Z"
   },
   {
    "duration": 269,
    "start_time": "2023-04-18T15:35:11.877Z"
   },
   {
    "duration": 100,
    "start_time": "2023-04-18T15:35:17.445Z"
   }
  ],
  "kernelspec": {
   "display_name": "Python 3 (ipykernel)",
   "language": "python",
   "name": "python3"
  },
  "language_info": {
   "codemirror_mode": {
    "name": "ipython",
    "version": 3
   },
   "file_extension": ".py",
   "mimetype": "text/x-python",
   "name": "python",
   "nbconvert_exporter": "python",
   "pygments_lexer": "ipython3",
   "version": "3.9.5"
  },
  "toc": {
   "base_numbering": 1,
   "nav_menu": {},
   "number_sections": true,
   "sideBar": true,
   "skip_h1_title": true,
   "title_cell": "Содержание",
   "title_sidebar": "Contents",
   "toc_cell": true,
   "toc_position": {},
   "toc_section_display": true,
   "toc_window_display": true
  }
 },
 "nbformat": 4,
 "nbformat_minor": 4
}
