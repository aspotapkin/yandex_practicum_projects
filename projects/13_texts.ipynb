{
 "cells": [
  {
   "cell_type": "markdown",
   "metadata": {
    "toc": true
   },
   "source": [
    "<h1>Содержание<span class=\"tocSkip\"></span></h1>\n",
    "<div class=\"toc\"><ul class=\"toc-item\"><li><span><a href=\"#Подготовка\" data-toc-modified-id=\"Подготовка-1\"><span class=\"toc-item-num\">1&nbsp;&nbsp;</span>Подготовка</a></span><ul class=\"toc-item\"><li><span><a href=\"#Загрузка-данных-и-лемматизация\" data-toc-modified-id=\"Загрузка-данных-и-лемматизация-1.1\"><span class=\"toc-item-num\">1.1&nbsp;&nbsp;</span>Загрузка данных и лемматизация</a></span></li><li><span><a href=\"#Анализ-категорий\" data-toc-modified-id=\"Анализ-категорий-1.2\"><span class=\"toc-item-num\">1.2&nbsp;&nbsp;</span>Анализ категорий</a></span></li><li><span><a href=\"#Подготовка-данных-к-обучению-и-тестированию-моделей\" data-toc-modified-id=\"Подготовка-данных-к-обучению-и-тестированию-моделей-1.3\"><span class=\"toc-item-num\">1.3&nbsp;&nbsp;</span>Подготовка данных к обучению и тестированию моделей</a></span></li></ul></li><li><span><a href=\"#Обучение\" data-toc-modified-id=\"Обучение-2\"><span class=\"toc-item-num\">2&nbsp;&nbsp;</span>Обучение</a></span><ul class=\"toc-item\"><li><span><a href=\"#Логистическая-регрессия\" data-toc-modified-id=\"Логистическая-регрессия-2.1\"><span class=\"toc-item-num\">2.1&nbsp;&nbsp;</span>Логистическая регрессия</a></span></li><li><span><a href=\"#Дерево-решений\" data-toc-modified-id=\"Дерево-решений-2.2\"><span class=\"toc-item-num\">2.2&nbsp;&nbsp;</span>Дерево решений</a></span></li><li><span><a href=\"#Случайный-лес\" data-toc-modified-id=\"Случайный-лес-2.3\"><span class=\"toc-item-num\">2.3&nbsp;&nbsp;</span>Случайный лес</a></span></li><li><span><a href=\"#Кросс-валидация-модели-градиентного-бустинга-CatBoost\" data-toc-modified-id=\"Кросс-валидация-модели-градиентного-бустинга-CatBoost-2.4\"><span class=\"toc-item-num\">2.4&nbsp;&nbsp;</span>Кросс-валидация модели градиентного бустинга CatBoost</a></span></li><li><span><a href=\"#Тестирование-лучшей-модели\" data-toc-modified-id=\"Тестирование-лучшей-модели-2.5\"><span class=\"toc-item-num\">2.5&nbsp;&nbsp;</span>Тестирование лучшей модели</a></span></li></ul></li><li><span><a href=\"#Выводы\" data-toc-modified-id=\"Выводы-3\"><span class=\"toc-item-num\">3&nbsp;&nbsp;</span>Выводы</a></span></li><li><span><a href=\"#Чек-лист-проверки\" data-toc-modified-id=\"Чек-лист-проверки-4\"><span class=\"toc-item-num\">4&nbsp;&nbsp;</span>Чек-лист проверки</a></span></li></ul></div>"
   ]
  },
  {
   "cell_type": "markdown",
   "metadata": {},
   "source": [
    "# Проект для «Викишоп»"
   ]
  },
  {
   "cell_type": "markdown",
   "metadata": {},
   "source": [
    "Интернет-магазин «Викишоп» запускает новый сервис. Теперь пользователи могут редактировать и дополнять описания товаров, как в вики-сообществах. То есть клиенты предлагают свои правки и комментируют изменения других. Магазину нужен инструмент, который будет искать токсичные комментарии и отправлять их на модерацию. \n",
    "\n",
    "Обучите модель классифицировать комментарии на позитивные и негативные. В вашем распоряжении набор данных с разметкой о токсичности правок.\n",
    "\n",
    "Постройте модель со значением метрики качества *F1* не меньше 0.75. \n",
    "\n",
    "**Инструкция по выполнению проекта**\n",
    "\n",
    "1. Загрузите и подготовьте данные.\n",
    "2. Обучите разные модели. \n",
    "3. Сделайте выводы.\n",
    "\n",
    "Для выполнения проекта применять *BERT* необязательно, но вы можете попробовать.\n",
    "\n",
    "**Описание данных**\n",
    "\n",
    "Данные находятся в файле `toxic_comments.csv`. Столбец *text* в нём содержит текст комментария, а *toxic* — целевой признак."
   ]
  },
  {
   "cell_type": "markdown",
   "metadata": {},
   "source": [
    "## Подготовка"
   ]
  },
  {
   "cell_type": "code",
   "execution_count": 2,
   "metadata": {},
   "outputs": [],
   "source": [
    "import pandas as pd\n",
    "import numpy as np\n",
    "import matplotlib.pyplot as plt\n",
    "from tqdm.notebook import tqdm\n",
    "\n",
    "import re\n",
    "import spacy\n",
    "from sklearn.feature_extraction.text import TfidfVectorizer\n",
    "\n",
    "#модели машинного обучения\n",
    "from sklearn.pipeline import Pipeline\n",
    "from sklearn.ensemble import RandomForestClassifier\n",
    "from sklearn.tree import DecisionTreeClassifier\n",
    "from sklearn.linear_model import LogisticRegression\n",
    "from catboost import CatBoostClassifier, Pool, cv\n",
    "\n",
    "from sklearn.metrics import confusion_matrix, f1_score, roc_curve, roc_auc_score, RocCurveDisplay\n",
    "from sklearn.model_selection import train_test_split, GridSearchCV, StratifiedKFold\n",
    "from pymystem3 import Mystem\n",
    "from sklearn.utils import resample"
   ]
  },
  {
   "cell_type": "markdown",
   "metadata": {},
   "source": [
    "### Загрузка данных и лемматизация"
   ]
  },
  {
   "cell_type": "code",
   "execution_count": 3,
   "metadata": {
    "scrolled": true
   },
   "outputs": [
    {
     "data": {
      "text/html": [
       "<div>\n",
       "<style scoped>\n",
       "    .dataframe tbody tr th:only-of-type {\n",
       "        vertical-align: middle;\n",
       "    }\n",
       "\n",
       "    .dataframe tbody tr th {\n",
       "        vertical-align: top;\n",
       "    }\n",
       "\n",
       "    .dataframe thead th {\n",
       "        text-align: right;\n",
       "    }\n",
       "</style>\n",
       "<table border=\"1\" class=\"dataframe\">\n",
       "  <thead>\n",
       "    <tr style=\"text-align: right;\">\n",
       "      <th></th>\n",
       "      <th>text</th>\n",
       "      <th>toxic</th>\n",
       "    </tr>\n",
       "  </thead>\n",
       "  <tbody>\n",
       "    <tr>\n",
       "      <th>0</th>\n",
       "      <td>Explanation\\nWhy the edits made under my usern...</td>\n",
       "      <td>0</td>\n",
       "    </tr>\n",
       "    <tr>\n",
       "      <th>1</th>\n",
       "      <td>D'aww! He matches this background colour I'm s...</td>\n",
       "      <td>0</td>\n",
       "    </tr>\n",
       "    <tr>\n",
       "      <th>2</th>\n",
       "      <td>Hey man, I'm really not trying to edit war. It...</td>\n",
       "      <td>0</td>\n",
       "    </tr>\n",
       "    <tr>\n",
       "      <th>3</th>\n",
       "      <td>\"\\nMore\\nI can't make any real suggestions on ...</td>\n",
       "      <td>0</td>\n",
       "    </tr>\n",
       "    <tr>\n",
       "      <th>4</th>\n",
       "      <td>You, sir, are my hero. Any chance you remember...</td>\n",
       "      <td>0</td>\n",
       "    </tr>\n",
       "  </tbody>\n",
       "</table>\n",
       "</div>"
      ],
      "text/plain": [
       "                                                text  toxic\n",
       "0  Explanation\\nWhy the edits made under my usern...      0\n",
       "1  D'aww! He matches this background colour I'm s...      0\n",
       "2  Hey man, I'm really not trying to edit war. It...      0\n",
       "3  \"\\nMore\\nI can't make any real suggestions on ...      0\n",
       "4  You, sir, are my hero. Any chance you remember...      0"
      ]
     },
     "execution_count": 3,
     "metadata": {},
     "output_type": "execute_result"
    }
   ],
   "source": [
    "data = pd.read_csv(\"/datasets/toxic_comments.csv\", index_col=0)\n",
    "data.head()"
   ]
  },
  {
   "cell_type": "code",
   "execution_count": 4,
   "metadata": {},
   "outputs": [
    {
     "data": {
      "text/plain": [
       "(159292, 2)"
      ]
     },
     "execution_count": 4,
     "metadata": {},
     "output_type": "execute_result"
    }
   ],
   "source": [
    "data.shape"
   ]
  },
  {
   "cell_type": "markdown",
   "metadata": {},
   "source": [
    "<img src=\"https://emojigraph.org/media/apple/check-mark-button_2705.png\" align=left width=33, heigth=33>\n",
    "<div class=\"alert alert-success\">\n",
    "Данные загружены и исследованы.</div>"
   ]
  },
  {
   "cell_type": "code",
   "execution_count": 5,
   "metadata": {},
   "outputs": [],
   "source": [
    "def lemmatizer(text, vocab):    \n",
    "    #убираем пунктуацию\n",
    "    cleaned_text = re.sub(r'[^\\w\\s]', '', text)\n",
    "    #убираем числа\n",
    "    cleaned_text = re.sub(r'\\d+', '', cleaned_text)\n",
    "    cleaned_text = re.sub('\\n', ' ', cleaned_text)\n",
    "    #приводим к нижнему регистру\n",
    "    cleaned_text = cleaned_text.lower()\n",
    "    \n",
    "    #токенизация\n",
    "    doc = vocab(cleaned_text)\n",
    "\n",
    "    return \" \".join([token.lemma_ for token in doc])"
   ]
  },
  {
   "cell_type": "markdown",
   "metadata": {},
   "source": [
    "<div class=\"alert\" style=\"background-color:#ead7f7;color:#8737bf\">\n",
    "    <font size=\"3\"><b>Комментарий студента</b></font>\n",
    "   \n",
    "Скорректировал, по итогу использовал Spacy.\n",
    "\n",
    "</div>"
   ]
  },
  {
   "cell_type": "code",
   "execution_count": 6,
   "metadata": {},
   "outputs": [
    {
     "data": {
      "application/vnd.jupyter.widget-view+json": {
       "model_id": "e2d5d0cfd2d94686b7c9f89047c8f904",
       "version_major": 2,
       "version_minor": 0
      },
      "text/plain": [
       "  0%|          | 0/159292 [00:00<?, ?it/s]"
      ]
     },
     "metadata": {},
     "output_type": "display_data"
    },
    {
     "data": {
      "text/plain": [
       "array(['explanation why the edit make under my username hardcore metallica fan be revert they be not vandalism just closure on some gas after I vote at new york doll fac and please do not remove the template from the talk page since I m retire now',\n",
       "       'daww he match this background colour I m seemingly stuck with thank   talk   january    utc',\n",
       "       'hey man I m really not try to edit war its just that this guy be constantly remove relevant information and talk to I through edit instead of my talk page he seem to care more about the formatting than the actual info',\n",
       "       ...,\n",
       "       'spitzer    umm there s no actual article for prostitution ring    crunch captain',\n",
       "       'and it look like it be actually you who put on the speedy to have the first version delete now that I look at it',\n",
       "       '  and   I really do not think you understand   I come here and my idea be bad right away   what kind of community go you have bad idea go away instead of help rewrite they   '],\n",
       "      dtype=object)"
      ]
     },
     "execution_count": 6,
     "metadata": {},
     "output_type": "execute_result"
    }
   ],
   "source": [
    "#лемматизация текста\n",
    "tqdm.pandas()\n",
    "nlp = spacy.load('en_core_web_sm', disable=['parser', 'ner'])\n",
    "\n",
    "data['lemm_text'] = data['text'].progress_apply(lemmatizer, vocab=nlp)\n",
    "data['lemm_text'].values"
   ]
  },
  {
   "cell_type": "markdown",
   "metadata": {},
   "source": [
    "### Анализ категорий"
   ]
  },
  {
   "cell_type": "code",
   "execution_count": 7,
   "metadata": {},
   "outputs": [
    {
     "data": {
      "text/plain": [
       "0    0.898388\n",
       "1    0.101612\n",
       "Name: toxic, dtype: float64"
      ]
     },
     "execution_count": 7,
     "metadata": {},
     "output_type": "execute_result"
    }
   ],
   "source": [
    "#проверка дисбаланса классов\n",
    "data['toxic'].value_counts(normalize=True)"
   ]
  },
  {
   "cell_type": "code",
   "execution_count": 8,
   "metadata": {},
   "outputs": [
    {
     "data": {
      "image/png": "[encoded data removed]",
      "text/plain": [
       "<Figure size 576x576 with 1 Axes>"
      ]
     },
     "metadata": {},
     "output_type": "display_data"
    }
   ],
   "source": [
    "#визуальное представление\n",
    "data.groupby('toxic').size().plot(kind='pie',\n",
    "                                  y = \"toxic\",\n",
    "                                  autopct='%1.1f%%',\n",
    "                                  figsize=(8,8),\n",
    "                                  title='Распределение классов в датасете ');"
   ]
  },
  {
   "cell_type": "markdown",
   "metadata": {},
   "source": [
    "Классы несбалансированы."
   ]
  },
  {
   "cell_type": "markdown",
   "metadata": {},
   "source": [
    "### Подготовка данных к обучению и тестированию моделей"
   ]
  },
  {
   "cell_type": "code",
   "execution_count": 9,
   "metadata": {},
   "outputs": [],
   "source": [
    "#выделение лемматизированного корпуса текстов и разметки их токсичности\n",
    "ml_data = data[['lemm_text', 'toxic']]\n",
    "\n",
    "#деление на тренировочную и тестовую выборки\n",
    "train_corpus, test_corpus, train_target, test_target = train_test_split(ml_data['lemm_text'], ml_data['toxic'], test_size=.1)"
   ]
  },
  {
   "cell_type": "code",
   "execution_count": 10,
   "metadata": {},
   "outputs": [],
   "source": [
    "#деление на подвыборки для кросс-валидации\n",
    "skf = StratifiedKFold(n_splits=3)"
   ]
  },
  {
   "cell_type": "code",
   "execution_count": 11,
   "metadata": {},
   "outputs": [],
   "source": [
    "#функция построения ROC curve и вычисления показателя ROC-AUC \n",
    "def roc_auc_viz(model, features, target, sample_name=None):\n",
    "    \n",
    "    probabilities = model.predict_proba(features)\n",
    "\n",
    "    fpr, tpr, _ = roc_curve(target, probabilities[:, 1])\n",
    "    roc_auc = roc_auc_score(target, probabilities[:, 1])\n",
    "\n",
    "    plt\n",
    "    display = RocCurveDisplay(fpr=fpr, tpr=tpr, roc_auc=roc_auc,\n",
    "                                estimator_name=f'ROC-AUC ({sample_name.lower()})')\n",
    "    display.plot()\n",
    "    plt.plot([0, 1], [0, 1], linestyle='--')\n",
    "    if sample_name == None:\n",
    "        plt.title('ROC-кривая')\n",
    "        plt.show()\n",
    "        print('ROC-AUC: ', auc_roc)\n",
    "    else:\n",
    "        plt.title(f'ROC-кривая ({sample_name.lower()})')\n",
    "        plt.show()\n",
    "        print(f'ROC-AUC ({sample_name.lower()}): ', roc_auc)\n",
    "    return roc_auc"
   ]
  },
  {
   "cell_type": "markdown",
   "metadata": {},
   "source": [
    "**Вывод по этапу:**\n",
    "- данные загружены, произведена лемматизация и очистка текста от пунктуации и числовых символов\n",
    "- данные разделены на тренировочную и тестовую выборки в соотношении 80 на 20\n",
    "- дополнительно добавлена визуализация ROC-AUC"
   ]
  },
  {
   "cell_type": "markdown",
   "metadata": {},
   "source": [
    "## Обучение"
   ]
  },
  {
   "cell_type": "markdown",
   "metadata": {},
   "source": [
    "### Логистическая регрессия"
   ]
  },
  {
   "cell_type": "code",
   "execution_count": 12,
   "metadata": {},
   "outputs": [
    {
     "name": "stdout",
     "output_type": "stream",
     "text": [
      "Fitting 3 folds for each of 10 candidates, totalling 30 fits\n",
      "[CV 1/3] END clf__C=1, clf__penalty=l1, vect__max_df=10000, vect__min_df=10, vect__stop_words=english; total time=   6.2s\n",
      "[CV 2/3] END clf__C=1, clf__penalty=l1, vect__max_df=10000, vect__min_df=10, vect__stop_words=english; total time=   6.2s\n",
      "[CV 3/3] END clf__C=1, clf__penalty=l1, vect__max_df=10000, vect__min_df=10, vect__stop_words=english; total time=   6.3s\n",
      "[CV 1/3] END clf__C=1, clf__penalty=l2, vect__max_df=10000, vect__min_df=10, vect__stop_words=english; total time=  11.4s\n",
      "[CV 2/3] END clf__C=1, clf__penalty=l2, vect__max_df=10000, vect__min_df=10, vect__stop_words=english; total time=  12.5s\n",
      "[CV 3/3] END clf__C=1, clf__penalty=l2, vect__max_df=10000, vect__min_df=10, vect__stop_words=english; total time=  11.5s\n",
      "[CV 1/3] END clf__C=4, clf__penalty=l1, vect__max_df=10000, vect__min_df=10, vect__stop_words=english; total time=   6.5s\n",
      "[CV 2/3] END clf__C=4, clf__penalty=l1, vect__max_df=10000, vect__min_df=10, vect__stop_words=english; total time=   6.7s\n",
      "[CV 3/3] END clf__C=4, clf__penalty=l1, vect__max_df=10000, vect__min_df=10, vect__stop_words=english; total time=   6.8s\n",
      "[CV 1/3] END clf__C=4, clf__penalty=l2, vect__max_df=10000, vect__min_df=10, vect__stop_words=english; total time=  13.2s\n",
      "[CV 2/3] END clf__C=4, clf__penalty=l2, vect__max_df=10000, vect__min_df=10, vect__stop_words=english; total time=  13.9s\n",
      "[CV 3/3] END clf__C=4, clf__penalty=l2, vect__max_df=10000, vect__min_df=10, vect__stop_words=english; total time=  13.1s\n",
      "[CV 1/3] END clf__C=7, clf__penalty=l1, vect__max_df=10000, vect__min_df=10, vect__stop_words=english; total time=   6.6s\n",
      "[CV 2/3] END clf__C=7, clf__penalty=l1, vect__max_df=10000, vect__min_df=10, vect__stop_words=english; total time=   6.5s\n",
      "[CV 3/3] END clf__C=7, clf__penalty=l1, vect__max_df=10000, vect__min_df=10, vect__stop_words=english; total time=   6.8s\n",
      "[CV 1/3] END clf__C=7, clf__penalty=l2, vect__max_df=10000, vect__min_df=10, vect__stop_words=english; total time=  15.3s\n",
      "[CV 2/3] END clf__C=7, clf__penalty=l2, vect__max_df=10000, vect__min_df=10, vect__stop_words=english; total time=  16.7s\n",
      "[CV 3/3] END clf__C=7, clf__penalty=l2, vect__max_df=10000, vect__min_df=10, vect__stop_words=english; total time=  15.2s\n",
      "[CV 1/3] END clf__C=10, clf__penalty=l1, vect__max_df=10000, vect__min_df=10, vect__stop_words=english; total time=   6.6s\n",
      "[CV 2/3] END clf__C=10, clf__penalty=l1, vect__max_df=10000, vect__min_df=10, vect__stop_words=english; total time=   6.7s\n",
      "[CV 3/3] END clf__C=10, clf__penalty=l1, vect__max_df=10000, vect__min_df=10, vect__stop_words=english; total time=   6.8s\n",
      "[CV 1/3] END clf__C=10, clf__penalty=l2, vect__max_df=10000, vect__min_df=10, vect__stop_words=english; total time=  16.5s\n",
      "[CV 2/3] END clf__C=10, clf__penalty=l2, vect__max_df=10000, vect__min_df=10, vect__stop_words=english; total time=  14.2s\n",
      "[CV 3/3] END clf__C=10, clf__penalty=l2, vect__max_df=10000, vect__min_df=10, vect__stop_words=english; total time=  15.0s\n",
      "[CV 1/3] END clf__C=13, clf__penalty=l1, vect__max_df=10000, vect__min_df=10, vect__stop_words=english; total time=   6.8s\n",
      "[CV 2/3] END clf__C=13, clf__penalty=l1, vect__max_df=10000, vect__min_df=10, vect__stop_words=english; total time=   6.9s\n",
      "[CV 3/3] END clf__C=13, clf__penalty=l1, vect__max_df=10000, vect__min_df=10, vect__stop_words=english; total time=   6.9s\n",
      "[CV 1/3] END clf__C=13, clf__penalty=l2, vect__max_df=10000, vect__min_df=10, vect__stop_words=english; total time=  15.2s\n",
      "[CV 2/3] END clf__C=13, clf__penalty=l2, vect__max_df=10000, vect__min_df=10, vect__stop_words=english; total time=  16.4s\n",
      "[CV 3/3] END clf__C=13, clf__penalty=l2, vect__max_df=10000, vect__min_df=10, vect__stop_words=english; total time=  15.7s\n",
      "CPU times: user 4min 18s, sys: 1min 3s, total: 5min 21s\n",
      "Wall time: 5min 22s\n"
     ]
    }
   ],
   "source": [
    "%%time\n",
    "#инициирование модели и сетки гиперпараметров\n",
    "\n",
    "pipe = Pipeline(\n",
    "    [\n",
    "        (\"vect\", TfidfVectorizer()),\n",
    "        (\"clf\", LogisticRegression(random_state=42, solver='liblinear', max_iter=200)),\n",
    "    ]\n",
    ")\n",
    "\n",
    "params = {\n",
    "    'vect__stop_words': ['english'],\n",
    "    'vect__min_df': [10],\n",
    "    'vect__max_df': [10000],\n",
    "    \n",
    "    'clf__penalty' : ['l1', 'l2'],\n",
    "    'clf__C': list(range(1,15,3))\n",
    "        }\n",
    "\n",
    "#деление на подвыборки\n",
    "folds = skf.split(train_corpus, train_target)\n",
    "\n",
    "#подбор лучших гиперпараметров\n",
    "grid = GridSearchCV(pipe, param_grid=params, scoring='f1', cv=folds, verbose=3, n_jobs=-1)\n",
    "grid.fit(train_corpus, train_target)\n",
    "best_logreg = grid.best_estimator_"
   ]
  },
  {
   "cell_type": "code",
   "execution_count": 13,
   "metadata": {
    "scrolled": true
   },
   "outputs": [
    {
     "name": "stdout",
     "output_type": "stream",
     "text": [
      "Лучшая модель: {'clf__C': 4, 'clf__penalty': 'l1', 'vect__max_df': 10000, 'vect__min_df': 10, 'vect__stop_words': 'english'}\n",
      "Лучшая F1-метрика: 0.7738872333522521\n"
     ]
    }
   ],
   "source": [
    "print('Лучшая модель:', grid.best_params_)\n",
    "print('Лучшая F1-метрика:', grid.best_score_)"
   ]
  },
  {
   "cell_type": "markdown",
   "metadata": {},
   "source": [
    "### Дерево решений"
   ]
  },
  {
   "cell_type": "code",
   "execution_count": 48,
   "metadata": {},
   "outputs": [
    {
     "name": "stdout",
     "output_type": "stream",
     "text": [
      "Ищем лучшую модель дерева решений...\n",
      "Fitting 3 folds for each of 9 candidates, totalling 27 fits\n",
      "[CV] END clf__max_depth=3, clf__min_samples_split=2, vect__max_df=10000, vect__min_df=10, vect__stop_words=english; total time=   6.2s\n",
      "[CV] END clf__max_depth=3, clf__min_samples_split=2, vect__max_df=10000, vect__min_df=10, vect__stop_words=english; total time=   6.0s\n",
      "[CV] END clf__max_depth=3, clf__min_samples_split=2, vect__max_df=10000, vect__min_df=10, vect__stop_words=english; total time=   6.0s\n",
      "[CV] END clf__max_depth=3, clf__min_samples_split=5, vect__max_df=10000, vect__min_df=10, vect__stop_words=english; total time=   6.0s\n",
      "[CV] END clf__max_depth=3, clf__min_samples_split=5, vect__max_df=10000, vect__min_df=10, vect__stop_words=english; total time=   6.4s\n",
      "[CV] END clf__max_depth=3, clf__min_samples_split=5, vect__max_df=10000, vect__min_df=10, vect__stop_words=english; total time=   6.1s\n",
      "[CV] END clf__max_depth=3, clf__min_samples_split=8, vect__max_df=10000, vect__min_df=10, vect__stop_words=english; total time=   5.9s\n",
      "[CV] END clf__max_depth=3, clf__min_samples_split=8, vect__max_df=10000, vect__min_df=10, vect__stop_words=english; total time=   6.0s\n",
      "[CV] END clf__max_depth=3, clf__min_samples_split=8, vect__max_df=10000, vect__min_df=10, vect__stop_words=english; total time=   6.0s\n",
      "[CV] END clf__max_depth=7, clf__min_samples_split=2, vect__max_df=10000, vect__min_df=10, vect__stop_words=english; total time=   7.4s\n",
      "[CV] END clf__max_depth=7, clf__min_samples_split=2, vect__max_df=10000, vect__min_df=10, vect__stop_words=english; total time=   6.9s\n",
      "[CV] END clf__max_depth=7, clf__min_samples_split=2, vect__max_df=10000, vect__min_df=10, vect__stop_words=english; total time=   6.9s\n",
      "[CV] END clf__max_depth=7, clf__min_samples_split=5, vect__max_df=10000, vect__min_df=10, vect__stop_words=english; total time=   7.0s\n",
      "[CV] END clf__max_depth=7, clf__min_samples_split=5, vect__max_df=10000, vect__min_df=10, vect__stop_words=english; total time=   7.1s\n",
      "[CV] END clf__max_depth=7, clf__min_samples_split=5, vect__max_df=10000, vect__min_df=10, vect__stop_words=english; total time=   6.9s\n",
      "[CV] END clf__max_depth=7, clf__min_samples_split=8, vect__max_df=10000, vect__min_df=10, vect__stop_words=english; total time=   6.9s\n",
      "[CV] END clf__max_depth=7, clf__min_samples_split=8, vect__max_df=10000, vect__min_df=10, vect__stop_words=english; total time=   6.9s\n",
      "[CV] END clf__max_depth=7, clf__min_samples_split=8, vect__max_df=10000, vect__min_df=10, vect__stop_words=english; total time=   7.2s\n",
      "[CV] END clf__max_depth=11, clf__min_samples_split=2, vect__max_df=10000, vect__min_df=10, vect__stop_words=english; total time=   8.0s\n",
      "[CV] END clf__max_depth=11, clf__min_samples_split=2, vect__max_df=10000, vect__min_df=10, vect__stop_words=english; total time=   7.8s\n",
      "[CV] END clf__max_depth=11, clf__min_samples_split=2, vect__max_df=10000, vect__min_df=10, vect__stop_words=english; total time=   7.9s\n",
      "[CV] END clf__max_depth=11, clf__min_samples_split=5, vect__max_df=10000, vect__min_df=10, vect__stop_words=english; total time=   8.2s\n",
      "[CV] END clf__max_depth=11, clf__min_samples_split=5, vect__max_df=10000, vect__min_df=10, vect__stop_words=english; total time=   7.9s\n",
      "[CV] END clf__max_depth=11, clf__min_samples_split=5, vect__max_df=10000, vect__min_df=10, vect__stop_words=english; total time=   7.8s\n",
      "[CV] END clf__max_depth=11, clf__min_samples_split=8, vect__max_df=10000, vect__min_df=10, vect__stop_words=english; total time=   7.7s\n",
      "[CV] END clf__max_depth=11, clf__min_samples_split=8, vect__max_df=10000, vect__min_df=10, vect__stop_words=english; total time=   8.3s\n",
      "[CV] END clf__max_depth=11, clf__min_samples_split=8, vect__max_df=10000, vect__min_df=10, vect__stop_words=english; total time=   7.8s\n"
     ]
    }
   ],
   "source": [
    "#сетка гиперпараметров\n",
    "pipe = Pipeline(\n",
    "    [\n",
    "        (\"vect\", TfidfVectorizer()),\n",
    "        (\"clf\", DecisionTreeClassifier(random_state=12345)),\n",
    "    ]\n",
    ")\n",
    "\n",
    "dtc_params = {\n",
    "    'vect__stop_words': ['english'],\n",
    "    'vect__min_df': [10],\n",
    "    'vect__max_df': [10000],\n",
    "    \n",
    "    'clf__max_depth': range(3,15,4),         \n",
    "    'clf__min_samples_split':range(2,10,3)}\n",
    "#деление на подвыборки\n",
    "folds = skf.split(train_corpus, train_target)\n",
    "\n",
    "print('Ищем лучшую модель дерева решений...')\n",
    "#подбор лучших гиперпараметров\n",
    "grid = GridSearchCV(pipe, dtc_params, cv=folds, scoring='f1', verbose=2)\n",
    "grid.fit(train_corpus, train_target)\n",
    "best_dtc = grid.best_estimator_"
   ]
  },
  {
   "cell_type": "code",
   "execution_count": 49,
   "metadata": {},
   "outputs": [
    {
     "name": "stdout",
     "output_type": "stream",
     "text": [
      "Лучшая модель дерева решений:  {'clf__max_depth': 11, 'clf__min_samples_split': 8, 'vect__max_df': 10000, 'vect__min_df': 10, 'vect__stop_words': 'english'}\n",
      "Лучшее значение F1-метрики: 0.6104544148416963\n"
     ]
    }
   ],
   "source": [
    "print('Лучшая модель дерева решений: ', grid.best_params_)\n",
    "print('Лучшее значение F1-метрики:', grid.best_score_)"
   ]
  },
  {
   "cell_type": "markdown",
   "metadata": {},
   "source": [
    "### Случайный лес"
   ]
  },
  {
   "cell_type": "code",
   "execution_count": 50,
   "metadata": {},
   "outputs": [
    {
     "name": "stdout",
     "output_type": "stream",
     "text": [
      "Ищем лучшую модель случайного леса...\n",
      "Fitting 3 folds for each of 15 candidates, totalling 45 fits\n",
      "[CV] END clf__max_depth=1, clf__n_estimators=60, vect__max_df=10000, vect__min_df=10, vect__stop_words=english; total time=   6.1s\n",
      "[CV] END clf__max_depth=1, clf__n_estimators=60, vect__max_df=10000, vect__min_df=10, vect__stop_words=english; total time=   6.1s\n",
      "[CV] END clf__max_depth=1, clf__n_estimators=60, vect__max_df=10000, vect__min_df=10, vect__stop_words=english; total time=   6.5s\n",
      "[CV] END clf__max_depth=1, clf__n_estimators=100, vect__max_df=10000, vect__min_df=10, vect__stop_words=english; total time=   7.1s\n",
      "[CV] END clf__max_depth=1, clf__n_estimators=100, vect__max_df=10000, vect__min_df=10, vect__stop_words=english; total time=   6.7s\n",
      "[CV] END clf__max_depth=1, clf__n_estimators=100, vect__max_df=10000, vect__min_df=10, vect__stop_words=english; total time=   6.9s\n",
      "[CV] END clf__max_depth=1, clf__n_estimators=150, vect__max_df=10000, vect__min_df=10, vect__stop_words=english; total time=   7.6s\n",
      "[CV] END clf__max_depth=1, clf__n_estimators=150, vect__max_df=10000, vect__min_df=10, vect__stop_words=english; total time=   7.4s\n",
      "[CV] END clf__max_depth=1, clf__n_estimators=150, vect__max_df=10000, vect__min_df=10, vect__stop_words=english; total time=   7.6s\n",
      "[CV] END clf__max_depth=3, clf__n_estimators=60, vect__max_df=10000, vect__min_df=10, vect__stop_words=english; total time=   6.4s\n",
      "[CV] END clf__max_depth=3, clf__n_estimators=60, vect__max_df=10000, vect__min_df=10, vect__stop_words=english; total time=   6.2s\n",
      "[CV] END clf__max_depth=3, clf__n_estimators=60, vect__max_df=10000, vect__min_df=10, vect__stop_words=english; total time=   7.0s\n",
      "[CV] END clf__max_depth=3, clf__n_estimators=100, vect__max_df=10000, vect__min_df=10, vect__stop_words=english; total time=   7.1s\n",
      "[CV] END clf__max_depth=3, clf__n_estimators=100, vect__max_df=10000, vect__min_df=10, vect__stop_words=english; total time=   7.3s\n",
      "[CV] END clf__max_depth=3, clf__n_estimators=100, vect__max_df=10000, vect__min_df=10, vect__stop_words=english; total time=   7.1s\n",
      "[CV] END clf__max_depth=3, clf__n_estimators=150, vect__max_df=10000, vect__min_df=10, vect__stop_words=english; total time=   8.1s\n",
      "[CV] END clf__max_depth=3, clf__n_estimators=150, vect__max_df=10000, vect__min_df=10, vect__stop_words=english; total time=   8.0s\n",
      "[CV] END clf__max_depth=3, clf__n_estimators=150, vect__max_df=10000, vect__min_df=10, vect__stop_words=english; total time=   8.1s\n",
      "[CV] END clf__max_depth=5, clf__n_estimators=60, vect__max_df=10000, vect__min_df=10, vect__stop_words=english; total time=   6.6s\n",
      "[CV] END clf__max_depth=5, clf__n_estimators=60, vect__max_df=10000, vect__min_df=10, vect__stop_words=english; total time=   7.0s\n",
      "[CV] END clf__max_depth=5, clf__n_estimators=60, vect__max_df=10000, vect__min_df=10, vect__stop_words=english; total time=   6.7s\n",
      "[CV] END clf__max_depth=5, clf__n_estimators=100, vect__max_df=10000, vect__min_df=10, vect__stop_words=english; total time=   7.6s\n",
      "[CV] END clf__max_depth=5, clf__n_estimators=100, vect__max_df=10000, vect__min_df=10, vect__stop_words=english; total time=   7.5s\n",
      "[CV] END clf__max_depth=5, clf__n_estimators=100, vect__max_df=10000, vect__min_df=10, vect__stop_words=english; total time=   7.7s\n",
      "[CV] END clf__max_depth=5, clf__n_estimators=150, vect__max_df=10000, vect__min_df=10, vect__stop_words=english; total time=   8.7s\n",
      "[CV] END clf__max_depth=5, clf__n_estimators=150, vect__max_df=10000, vect__min_df=10, vect__stop_words=english; total time=   8.4s\n",
      "[CV] END clf__max_depth=5, clf__n_estimators=150, vect__max_df=10000, vect__min_df=10, vect__stop_words=english; total time=   8.7s\n",
      "[CV] END clf__max_depth=7, clf__n_estimators=60, vect__max_df=10000, vect__min_df=10, vect__stop_words=english; total time=   7.2s\n",
      "[CV] END clf__max_depth=7, clf__n_estimators=60, vect__max_df=10000, vect__min_df=10, vect__stop_words=english; total time=   6.9s\n",
      "[CV] END clf__max_depth=7, clf__n_estimators=60, vect__max_df=10000, vect__min_df=10, vect__stop_words=english; total time=   6.9s\n",
      "[CV] END clf__max_depth=7, clf__n_estimators=100, vect__max_df=10000, vect__min_df=10, vect__stop_words=english; total time=   8.0s\n",
      "[CV] END clf__max_depth=7, clf__n_estimators=100, vect__max_df=10000, vect__min_df=10, vect__stop_words=english; total time=   7.9s\n",
      "[CV] END clf__max_depth=7, clf__n_estimators=100, vect__max_df=10000, vect__min_df=10, vect__stop_words=english; total time=   7.9s\n",
      "[CV] END clf__max_depth=7, clf__n_estimators=150, vect__max_df=10000, vect__min_df=10, vect__stop_words=english; total time=   9.1s\n",
      "[CV] END clf__max_depth=7, clf__n_estimators=150, vect__max_df=10000, vect__min_df=10, vect__stop_words=english; total time=   9.6s\n",
      "[CV] END clf__max_depth=7, clf__n_estimators=150, vect__max_df=10000, vect__min_df=10, vect__stop_words=english; total time=   9.4s\n",
      "[CV] END clf__max_depth=9, clf__n_estimators=60, vect__max_df=10000, vect__min_df=10, vect__stop_words=english; total time=   7.2s\n",
      "[CV] END clf__max_depth=9, clf__n_estimators=60, vect__max_df=10000, vect__min_df=10, vect__stop_words=english; total time=   7.1s\n",
      "[CV] END clf__max_depth=9, clf__n_estimators=60, vect__max_df=10000, vect__min_df=10, vect__stop_words=english; total time=   7.2s\n",
      "[CV] END clf__max_depth=9, clf__n_estimators=100, vect__max_df=10000, vect__min_df=10, vect__stop_words=english; total time=   8.2s\n",
      "[CV] END clf__max_depth=9, clf__n_estimators=100, vect__max_df=10000, vect__min_df=10, vect__stop_words=english; total time=   8.1s\n",
      "[CV] END clf__max_depth=9, clf__n_estimators=100, vect__max_df=10000, vect__min_df=10, vect__stop_words=english; total time=   8.3s\n",
      "[CV] END clf__max_depth=9, clf__n_estimators=150, vect__max_df=10000, vect__min_df=10, vect__stop_words=english; total time=  10.1s\n",
      "[CV] END clf__max_depth=9, clf__n_estimators=150, vect__max_df=10000, vect__min_df=10, vect__stop_words=english; total time=   9.6s\n",
      "[CV] END clf__max_depth=9, clf__n_estimators=150, vect__max_df=10000, vect__min_df=10, vect__stop_words=english; total time=   9.7s\n"
     ]
    }
   ],
   "source": [
    "pipe = Pipeline(\n",
    "    [\n",
    "        (\"vect\", TfidfVectorizer()),\n",
    "        (\"clf\", RandomForestClassifier(random_state=12345)),\n",
    "    ]\n",
    ")\n",
    "\n",
    "#сетка гиперпараметров\n",
    "rfc_params = {\n",
    "    'vect__stop_words': ['english'],\n",
    "    'vect__min_df': [10],\n",
    "    'vect__max_df': [10000],\n",
    "    \n",
    "    'clf__max_depth': range(1,10, 2), \n",
    "    'clf__n_estimators': [60, 100, 150]}\n",
    "#деление на подвыборки\n",
    "folds = skf.split(train_corpus, train_target)\n",
    "\n",
    "print('Ищем лучшую модель случайного леса...')\n",
    "grid = GridSearchCV(pipe, \n",
    "                    rfc_params, \n",
    "                    scoring='f1', \n",
    "                    cv=folds, \n",
    "                    verbose=2)\n",
    "grid.fit(train_corpus, train_target)\n",
    "best_rf_clf = grid.best_estimator_"
   ]
  },
  {
   "cell_type": "code",
   "execution_count": 51,
   "metadata": {},
   "outputs": [
    {
     "name": "stdout",
     "output_type": "stream",
     "text": [
      "Лучшая модель случайного леса:  {'clf__max_depth': 9, 'clf__n_estimators': 60, 'vect__max_df': 10000, 'vect__min_df': 10, 'vect__stop_words': 'english'} \n",
      "\n",
      "Лучшее значение F1-метрики: 0.007915571366341148\n"
     ]
    }
   ],
   "source": [
    "print('Лучшая модель случайного леса: ', grid.best_params_, '\\n')\n",
    "print('Лучшее значение F1-метрики:', grid.best_score_)"
   ]
  },
  {
   "cell_type": "markdown",
   "metadata": {},
   "source": [
    "### Кросс-валидация модели градиентного бустинга CatBoost"
   ]
  },
  {
   "cell_type": "code",
   "execution_count": null,
   "metadata": {},
   "outputs": [],
   "source": [
    "tf_idf = TfidfVectorizer(stop_words=stopwords, min_df = 10, max_df=10000)\n",
    "\n",
    "corpus_train_vec = tf_idf.fit_transform(train_corpus)\n",
    "corpus_test_vec = tf_idf.transform(test_corpus)\n",
    "\n",
    "print(corpus_train_vec.shape, corpus_test_vec.shape)"
   ]
  },
  {
   "cell_type": "code",
   "execution_count": null,
   "metadata": {
    "scrolled": true
   },
   "outputs": [],
   "source": [
    "#создание датасета для обучения\n",
    "cv_dataset = Pool(data=corpus_train_vec,\n",
    "                  label=train_target)\n",
    "\n",
    "#параметры градиентного бустинга\n",
    "params = {\"iterations\": 1000,\n",
    "          'learning_rate': 0.2,\n",
    "          \"depth\": 7,\n",
    "          'loss_function': 'Logloss',\n",
    "          \"eval_metric\": \"F1\",\n",
    "          \"verbose\": False,\n",
    "         'random_seed': 42,\n",
    "         'early_stopping_rounds': 10}\n",
    "\n",
    "#кросс-валидация\n",
    "scores = cv(cv_dataset,\n",
    "            params,\n",
    "            fold_count=3, \n",
    "            plot=\"True\")"
   ]
  },
  {
   "cell_type": "code",
   "execution_count": 14,
   "metadata": {},
   "outputs": [
    {
     "name": "stdout",
     "output_type": "stream",
     "text": [
      "Кросс-валидация градиентного бустинга\n",
      "Fitting 3 folds for each of 1 candidates, totalling 3 fits\n",
      "0:\tlearn: 0.4311100\ttotal: 2.66s\tremaining: 17m 40s\n",
      "1:\tlearn: 0.4695815\ttotal: 4.47s\tremaining: 14m 49s\n",
      "2:\tlearn: 0.4788906\ttotal: 6.27s\tremaining: 13m 49s\n",
      "3:\tlearn: 0.4827267\ttotal: 8.05s\tremaining: 13m 16s\n",
      "4:\tlearn: 0.5055412\ttotal: 9.96s\tremaining: 13m 7s\n",
      "5:\tlearn: 0.5101362\ttotal: 11.9s\tremaining: 13m 3s\n",
      "6:\tlearn: 0.5440873\ttotal: 13.7s\tremaining: 12m 51s\n",
      "7:\tlearn: 0.5414243\ttotal: 15.6s\tremaining: 12m 42s\n",
      "8:\tlearn: 0.5581699\ttotal: 17.3s\tremaining: 12m 33s\n",
      "9:\tlearn: 0.5602094\ttotal: 19.2s\tremaining: 12m 28s\n",
      "10:\tlearn: 0.5746398\ttotal: 21s\tremaining: 12m 23s\n",
      "11:\tlearn: 0.5642702\ttotal: 22.8s\tremaining: 12m 18s\n",
      "12:\tlearn: 0.5672053\ttotal: 24.5s\tremaining: 12m 9s\n",
      "13:\tlearn: 0.5701685\ttotal: 26.3s\tremaining: 12m 4s\n",
      "14:\tlearn: 0.5604668\ttotal: 28.1s\tremaining: 12m\n",
      "15:\tlearn: 0.5628368\ttotal: 30s\tremaining: 12m\n",
      "16:\tlearn: 0.5868759\ttotal: 31.9s\tremaining: 11m 58s\n",
      "17:\tlearn: 0.6019417\ttotal: 33.9s\tremaining: 12m\n",
      "18:\tlearn: 0.6050137\ttotal: 35.8s\tremaining: 11m 58s\n",
      "19:\tlearn: 0.6034070\ttotal: 37.6s\tremaining: 11m 54s\n",
      "20:\tlearn: 0.6127006\ttotal: 39.4s\tremaining: 11m 51s\n",
      "21:\tlearn: 0.6182550\ttotal: 41.3s\tremaining: 11m 49s\n",
      "22:\tlearn: 0.6190971\ttotal: 43.2s\tremaining: 11m 47s\n",
      "23:\tlearn: 0.6208186\ttotal: 45s\tremaining: 11m 45s\n",
      "24:\tlearn: 0.6219732\ttotal: 46.8s\tremaining: 11m 41s\n",
      "25:\tlearn: 0.6285596\ttotal: 48.6s\tremaining: 11m 38s\n",
      "26:\tlearn: 0.6300749\ttotal: 50.4s\tremaining: 11m 35s\n",
      "27:\tlearn: 0.6372756\ttotal: 52.2s\tremaining: 11m 34s\n",
      "28:\tlearn: 0.6395745\ttotal: 54s\tremaining: 11m 30s\n",
      "29:\tlearn: 0.6357607\ttotal: 55.8s\tremaining: 11m 28s\n",
      "30:\tlearn: 0.6364692\ttotal: 57.6s\tremaining: 11m 25s\n",
      "31:\tlearn: 0.6378710\ttotal: 59.4s\tremaining: 11m 22s\n",
      "32:\tlearn: 0.6413502\ttotal: 1m 1s\tremaining: 11m 19s\n",
      "33:\tlearn: 0.6413554\ttotal: 1m 2s\tremaining: 11m 16s\n",
      "34:\tlearn: 0.6544281\ttotal: 1m 4s\tremaining: 11m 14s\n",
      "35:\tlearn: 0.6551075\ttotal: 1m 6s\tremaining: 11m 11s\n",
      "36:\tlearn: 0.6561955\ttotal: 1m 8s\tremaining: 11m 8s\n",
      "37:\tlearn: 0.6572808\ttotal: 1m 9s\tremaining: 11m 5s\n",
      "38:\tlearn: 0.6583618\ttotal: 1m 11s\tremaining: 11m 2s\n",
      "39:\tlearn: 0.6562898\ttotal: 1m 13s\tremaining: 11m\n",
      "40:\tlearn: 0.6569647\ttotal: 1m 15s\tremaining: 10m 58s\n",
      "41:\tlearn: 0.6572348\ttotal: 1m 16s\tremaining: 10m 55s\n",
      "42:\tlearn: 0.6614542\ttotal: 1m 18s\tremaining: 10m 53s\n",
      "43:\tlearn: 0.6651126\ttotal: 1m 20s\tremaining: 10m 50s\n",
      "44:\tlearn: 0.6695831\ttotal: 1m 22s\tremaining: 10m 49s\n",
      "45:\tlearn: 0.6763330\ttotal: 1m 24s\tremaining: 10m 47s\n",
      "46:\tlearn: 0.6773811\ttotal: 1m 25s\tremaining: 10m 45s\n",
      "47:\tlearn: 0.6787735\ttotal: 1m 27s\tremaining: 10m 42s\n",
      "48:\tlearn: 0.6812136\ttotal: 1m 29s\tremaining: 10m 40s\n",
      "49:\tlearn: 0.6823360\ttotal: 1m 31s\tremaining: 10m 38s\n",
      "50:\tlearn: 0.6826810\ttotal: 1m 33s\tremaining: 10m 36s\n",
      "51:\tlearn: 0.6866197\ttotal: 1m 34s\tremaining: 10m 34s\n",
      "52:\tlearn: 0.6835973\ttotal: 1m 36s\tremaining: 10m 32s\n",
      "53:\tlearn: 0.6831540\ttotal: 1m 38s\tremaining: 10m 29s\n",
      "54:\tlearn: 0.6842381\ttotal: 1m 40s\tremaining: 10m 27s\n",
      "55:\tlearn: 0.6843175\ttotal: 1m 41s\tremaining: 10m 25s\n",
      "56:\tlearn: 0.6896192\ttotal: 1m 43s\tremaining: 10m 23s\n",
      "57:\tlearn: 0.6900013\ttotal: 1m 45s\tremaining: 10m 21s\n",
      "58:\tlearn: 0.6899700\ttotal: 1m 47s\tremaining: 10m 18s\n",
      "59:\tlearn: 0.6927977\ttotal: 1m 48s\tremaining: 10m 16s\n",
      "60:\tlearn: 0.6929625\ttotal: 1m 50s\tremaining: 10m 14s\n",
      "61:\tlearn: 0.6940206\ttotal: 1m 52s\tremaining: 10m 12s\n",
      "62:\tlearn: 0.6951955\ttotal: 1m 54s\tremaining: 10m 10s\n",
      "63:\tlearn: 0.6955789\ttotal: 1m 55s\tremaining: 10m 8s\n",
      "64:\tlearn: 0.6967165\ttotal: 1m 57s\tremaining: 10m 6s\n",
      "65:\tlearn: 0.6979032\ttotal: 1m 59s\tremaining: 10m 4s\n",
      "66:\tlearn: 0.6989852\ttotal: 2m 1s\tremaining: 10m 2s\n",
      "67:\tlearn: 0.6994380\ttotal: 2m 3s\tremaining: 10m\n",
      "68:\tlearn: 0.7015984\ttotal: 2m 4s\tremaining: 9m 58s\n",
      "69:\tlearn: 0.7021976\ttotal: 2m 6s\tremaining: 9m 56s\n",
      "70:\tlearn: 0.7042018\ttotal: 2m 8s\tremaining: 9m 54s\n",
      "71:\tlearn: 0.7051183\ttotal: 2m 10s\tremaining: 9m 52s\n",
      "72:\tlearn: 0.7073312\ttotal: 2m 11s\tremaining: 9m 50s\n",
      "73:\tlearn: 0.7078363\ttotal: 2m 13s\tremaining: 9m 48s\n",
      "74:\tlearn: 0.7081597\ttotal: 2m 15s\tremaining: 9m 46s\n",
      "75:\tlearn: 0.7094833\ttotal: 2m 17s\tremaining: 9m 44s\n",
      "76:\tlearn: 0.7097146\ttotal: 2m 18s\tremaining: 9m 42s\n",
      "77:\tlearn: 0.7100448\ttotal: 2m 20s\tremaining: 9m 40s\n",
      "78:\tlearn: 0.7105937\ttotal: 2m 22s\tremaining: 9m 38s\n",
      "79:\tlearn: 0.7111906\ttotal: 2m 24s\tremaining: 9m 36s\n",
      "80:\tlearn: 0.7116847\ttotal: 2m 25s\tremaining: 9m 34s\n",
      "81:\tlearn: 0.7118124\ttotal: 2m 27s\tremaining: 9m 31s\n",
      "82:\tlearn: 0.7120680\ttotal: 2m 29s\tremaining: 9m 29s\n",
      "83:\tlearn: 0.7130091\ttotal: 2m 30s\tremaining: 9m 27s\n",
      "84:\tlearn: 0.7138301\ttotal: 2m 32s\tremaining: 9m 25s\n",
      "85:\tlearn: 0.7142220\ttotal: 2m 34s\tremaining: 9m 23s\n",
      "86:\tlearn: 0.7149229\ttotal: 2m 36s\tremaining: 9m 21s\n",
      "87:\tlearn: 0.7157868\ttotal: 2m 37s\tremaining: 9m 19s\n",
      "88:\tlearn: 0.7160950\ttotal: 2m 39s\tremaining: 9m 16s\n",
      "89:\tlearn: 0.7164217\ttotal: 2m 41s\tremaining: 9m 14s\n",
      "90:\tlearn: 0.7169571\ttotal: 2m 42s\tremaining: 9m 12s\n",
      "91:\tlearn: 0.7170387\ttotal: 2m 44s\tremaining: 9m 10s\n",
      "92:\tlearn: 0.7176912\ttotal: 2m 46s\tremaining: 9m 8s\n",
      "93:\tlearn: 0.7177727\ttotal: 2m 48s\tremaining: 9m 7s\n",
      "94:\tlearn: 0.7181801\ttotal: 2m 49s\tremaining: 9m 4s\n",
      "95:\tlearn: 0.7183430\ttotal: 2m 51s\tremaining: 9m 2s\n",
      "96:\tlearn: 0.7188056\ttotal: 2m 53s\tremaining: 9m\n",
      "97:\tlearn: 0.7201879\ttotal: 2m 54s\tremaining: 8m 58s\n",
      "98:\tlearn: 0.7206396\ttotal: 2m 56s\tremaining: 8m 56s\n",
      "99:\tlearn: 0.7219017\ttotal: 2m 58s\tremaining: 8m 54s\n",
      "100:\tlearn: 0.7221694\ttotal: 2m 59s\tremaining: 8m 52s\n",
      "101:\tlearn: 0.7228275\ttotal: 3m 1s\tremaining: 8m 50s\n",
      "102:\tlearn: 0.7230350\ttotal: 3m 3s\tremaining: 8m 48s\n",
      "103:\tlearn: 0.7239939\ttotal: 3m 5s\tremaining: 8m 46s\n",
      "104:\tlearn: 0.7250664\ttotal: 3m 6s\tremaining: 8m 45s\n",
      "105:\tlearn: 0.7251469\ttotal: 3m 8s\tremaining: 8m 43s\n",
      "106:\tlearn: 0.7254815\ttotal: 3m 10s\tremaining: 8m 41s\n",
      "107:\tlearn: 0.7275934\ttotal: 3m 12s\tremaining: 8m 39s\n",
      "108:\tlearn: 0.7281315\ttotal: 3m 14s\tremaining: 8m 38s\n",
      "109:\tlearn: 0.7292401\ttotal: 3m 16s\tremaining: 8m 36s\n",
      "110:\tlearn: 0.7299233\ttotal: 3m 17s\tremaining: 8m 35s\n",
      "111:\tlearn: 0.7304818\ttotal: 3m 19s\tremaining: 8m 33s\n",
      "112:\tlearn: 0.7318022\ttotal: 3m 21s\tremaining: 8m 32s\n",
      "113:\tlearn: 0.7321417\ttotal: 3m 23s\tremaining: 8m 30s\n",
      "114:\tlearn: 0.7328235\ttotal: 3m 25s\tremaining: 8m 29s\n",
      "115:\tlearn: 0.7333584\ttotal: 3m 27s\tremaining: 8m 27s\n",
      "116:\tlearn: 0.7341518\ttotal: 3m 29s\tremaining: 8m 25s\n",
      "117:\tlearn: 0.7341518\ttotal: 3m 30s\tremaining: 8m 23s\n",
      "118:\tlearn: 0.7342311\ttotal: 3m 32s\tremaining: 8m 21s\n",
      "119:\tlearn: 0.7344435\ttotal: 3m 34s\tremaining: 8m 20s\n",
      "120:\tlearn: 0.7350898\ttotal: 3m 36s\tremaining: 8m 18s\n",
      "121:\tlearn: 0.7352481\ttotal: 3m 37s\tremaining: 8m 16s\n",
      "122:\tlearn: 0.7358479\ttotal: 3m 39s\tremaining: 8m 14s\n",
      "123:\tlearn: 0.7382676\ttotal: 3m 41s\tremaining: 8m 12s\n",
      "124:\tlearn: 0.7383137\ttotal: 3m 43s\tremaining: 8m 10s\n",
      "125:\tlearn: 0.7387995\ttotal: 3m 44s\tremaining: 8m 9s\n",
      "126:\tlearn: 0.7391277\ttotal: 3m 46s\tremaining: 8m 7s\n",
      "127:\tlearn: 0.7420257\ttotal: 3m 48s\tremaining: 8m 5s\n",
      "128:\tlearn: 0.7423988\ttotal: 3m 50s\tremaining: 8m 3s\n",
      "129:\tlearn: 0.7427115\ttotal: 3m 52s\tremaining: 8m 2s\n",
      "130:\tlearn: 0.7429140\ttotal: 3m 53s\tremaining: 7m 59s\n",
      "131:\tlearn: 0.7431483\ttotal: 3m 55s\tremaining: 7m 57s\n",
      "132:\tlearn: 0.7435069\ttotal: 3m 57s\tremaining: 7m 55s\n",
      "133:\tlearn: 0.7441947\ttotal: 3m 58s\tremaining: 7m 54s\n",
      "134:\tlearn: 0.7444286\ttotal: 4m\tremaining: 7m 52s\n",
      "135:\tlearn: 0.7447403\ttotal: 4m 2s\tremaining: 7m 50s\n",
      "136:\tlearn: 0.7448182\ttotal: 4m 4s\tremaining: 7m 48s\n",
      "137:\tlearn: 0.7458447\ttotal: 4m 5s\tremaining: 7m 46s\n",
      "138:\tlearn: 0.7477076\ttotal: 4m 7s\tremaining: 7m 45s\n",
      "139:\tlearn: 0.7480027\ttotal: 4m 9s\tremaining: 7m 43s\n",
      "140:\tlearn: 0.7481115\ttotal: 4m 11s\tremaining: 7m 41s\n",
      "141:\tlearn: 0.7479413\ttotal: 4m 13s\tremaining: 7m 40s\n",
      "142:\tlearn: 0.7479413\ttotal: 4m 14s\tremaining: 7m 38s\n",
      "143:\tlearn: 0.7485300\ttotal: 4m 16s\tremaining: 7m 36s\n",
      "144:\tlearn: 0.7486075\ttotal: 4m 18s\tremaining: 7m 34s\n",
      "145:\tlearn: 0.7497064\ttotal: 4m 20s\tremaining: 7m 32s\n",
      "146:\tlearn: 0.7502780\ttotal: 4m 21s\tremaining: 7m 30s\n",
      "147:\tlearn: 0.7509877\ttotal: 4m 23s\tremaining: 7m 28s\n",
      "148:\tlearn: 0.7517275\ttotal: 4m 25s\tremaining: 7m 26s\n",
      "149:\tlearn: 0.7515122\ttotal: 4m 26s\tremaining: 7m 24s\n",
      "150:\tlearn: 0.7521589\ttotal: 4m 28s\tremaining: 7m 23s\n",
      "151:\tlearn: 0.7523128\ttotal: 4m 30s\tremaining: 7m 21s\n",
      "152:\tlearn: 0.7523434\ttotal: 4m 32s\tremaining: 7m 19s\n",
      "153:\tlearn: 0.7537107\ttotal: 4m 34s\tremaining: 7m 17s\n",
      "154:\tlearn: 0.7538035\ttotal: 4m 36s\tremaining: 7m 16s\n",
      "155:\tlearn: 0.7542498\ttotal: 4m 37s\tremaining: 7m 14s\n",
      "156:\tlearn: 0.7552163\ttotal: 4m 39s\tremaining: 7m 12s\n",
      "157:\tlearn: 0.7559956\ttotal: 4m 41s\tremaining: 7m 11s\n",
      "158:\tlearn: 0.7561950\ttotal: 4m 43s\tremaining: 7m 9s\n",
      "159:\tlearn: 0.7575106\ttotal: 4m 45s\tremaining: 7m 7s\n",
      "160:\tlearn: 0.7571753\ttotal: 4m 46s\tremaining: 7m 5s\n",
      "161:\tlearn: 0.7577228\ttotal: 4m 48s\tremaining: 7m 4s\n",
      "162:\tlearn: 0.7579516\ttotal: 4m 50s\tremaining: 7m 2s\n",
      "163:\tlearn: 0.7579219\ttotal: 4m 52s\tremaining: 7m\n",
      "164:\tlearn: 0.7579219\ttotal: 4m 54s\tremaining: 6m 58s\n",
      "165:\tlearn: 0.7580744\ttotal: 4m 55s\tremaining: 6m 56s\n",
      "166:\tlearn: 0.7581507\ttotal: 4m 57s\tremaining: 6m 55s\n",
      "167:\tlearn: 0.7582101\ttotal: 4m 59s\tremaining: 6m 53s\n",
      "168:\tlearn: 0.7582101\ttotal: 5m 1s\tremaining: 6m 51s\n",
      "169:\tlearn: 0.7583625\ttotal: 5m 2s\tremaining: 6m 49s\n",
      "170:\tlearn: 0.7592127\ttotal: 5m 4s\tremaining: 6m 48s\n",
      "171:\tlearn: 0.7591366\ttotal: 5m 6s\tremaining: 6m 46s\n",
      "172:\tlearn: 0.7586799\ttotal: 5m 8s\tremaining: 6m 44s\n",
      "173:\tlearn: 0.7586799\ttotal: 5m 9s\tremaining: 6m 42s\n",
      "174:\tlearn: 0.7598039\ttotal: 5m 11s\tremaining: 6m 40s\n",
      "175:\tlearn: 0.7606859\ttotal: 5m 13s\tremaining: 6m 39s\n",
      "176:\tlearn: 0.7611237\ttotal: 5m 15s\tremaining: 6m 37s\n",
      "177:\tlearn: 0.7611237\ttotal: 5m 17s\tremaining: 6m 35s\n",
      "178:\tlearn: 0.7617300\ttotal: 5m 19s\tremaining: 6m 33s\n",
      "179:\tlearn: 0.7630277\ttotal: 5m 20s\tremaining: 6m 32s\n",
      "180:\tlearn: 0.7643398\ttotal: 5m 22s\tremaining: 6m 30s\n",
      "181:\tlearn: 0.7645659\ttotal: 5m 24s\tremaining: 6m 28s\n",
      "182:\tlearn: 0.7649607\ttotal: 5m 25s\tremaining: 6m 26s\n",
      "183:\tlearn: 0.7651866\ttotal: 5m 27s\tremaining: 6m 24s\n",
      "184:\tlearn: 0.7651866\ttotal: 5m 29s\tremaining: 6m 22s\n",
      "185:\tlearn: 0.7658641\ttotal: 5m 31s\tremaining: 6m 20s\n",
      "186:\tlearn: 0.7666728\ttotal: 5m 32s\tremaining: 6m 19s\n",
      "187:\tlearn: 0.7666728\ttotal: 5m 34s\tremaining: 6m 17s\n",
      "188:\tlearn: 0.7668697\ttotal: 5m 36s\tremaining: 6m 15s\n",
      "189:\tlearn: 0.7668697\ttotal: 5m 37s\tremaining: 6m 13s\n",
      "190:\tlearn: 0.7672167\ttotal: 5m 39s\tremaining: 6m 11s\n",
      "191:\tlearn: 0.7674419\ttotal: 5m 41s\tremaining: 6m 9s\n",
      "192:\tlearn: 0.7674886\ttotal: 5m 43s\tremaining: 6m 8s\n",
      "193:\tlearn: 0.7682853\ttotal: 5m 45s\tremaining: 6m 6s\n",
      "194:\tlearn: 0.7687253\ttotal: 5m 46s\tremaining: 6m 4s\n",
      "195:\tlearn: 0.7691746\ttotal: 5m 48s\tremaining: 6m 3s\n",
      "196:\tlearn: 0.7693992\ttotal: 5m 50s\tremaining: 6m 1s\n",
      "197:\tlearn: 0.7697172\ttotal: 5m 52s\tremaining: 5m 59s\n",
      "198:\tlearn: 0.7706701\ttotal: 5m 54s\tremaining: 5m 57s\n",
      "199:\tlearn: 0.7708662\ttotal: 5m 55s\tremaining: 5m 55s\n",
      "200:\tlearn: 0.7712863\ttotal: 5m 57s\tremaining: 5m 53s\n",
      "201:\tlearn: 0.7716488\ttotal: 5m 59s\tremaining: 5m 52s\n",
      "202:\tlearn: 0.7716488\ttotal: 6m\tremaining: 5m 50s\n",
      "203:\tlearn: 0.7717233\ttotal: 6m 2s\tremaining: 5m 48s\n",
      "204:\tlearn: 0.7714633\ttotal: 6m 4s\tremaining: 5m 46s\n",
      "205:\tlearn: 0.7718084\ttotal: 6m 6s\tremaining: 5m 45s\n",
      "206:\tlearn: 0.7718830\ttotal: 6m 8s\tremaining: 5m 43s\n",
      "207:\tlearn: 0.7717530\ttotal: 6m 9s\tremaining: 5m 41s\n",
      "208:\tlearn: 0.7730471\ttotal: 6m 11s\tremaining: 5m 39s\n",
      "209:\tlearn: 0.7732153\ttotal: 6m 13s\tremaining: 5m 38s\n",
      "210:\tlearn: 0.7738492\ttotal: 6m 15s\tremaining: 5m 36s\n",
      "211:\tlearn: 0.7738492\ttotal: 6m 17s\tremaining: 5m 34s\n",
      "212:\tlearn: 0.7740723\ttotal: 6m 19s\tremaining: 5m 32s\n",
      "213:\tlearn: 0.7742601\ttotal: 6m 20s\tremaining: 5m 31s\n",
      "214:\tlearn: 0.7744087\ttotal: 6m 22s\tremaining: 5m 29s\n",
      "215:\tlearn: 0.7745847\ttotal: 6m 24s\tremaining: 5m 27s\n",
      "216:\tlearn: 0.7754088\ttotal: 6m 26s\tremaining: 5m 25s\n",
      "217:\tlearn: 0.7755176\ttotal: 6m 28s\tremaining: 5m 24s\n",
      "218:\tlearn: 0.7758882\ttotal: 6m 30s\tremaining: 5m 22s\n",
      "219:\tlearn: 0.7765005\ttotal: 6m 32s\tremaining: 5m 20s\n",
      "220:\tlearn: 0.7770724\ttotal: 6m 34s\tremaining: 5m 19s\n",
      "221:\tlearn: 0.7776435\ttotal: 6m 35s\tremaining: 5m 17s\n",
      "222:\tlearn: 0.7783614\ttotal: 6m 37s\tremaining: 5m 15s\n",
      "223:\tlearn: 0.7782876\ttotal: 6m 39s\tremaining: 5m 14s\n",
      "224:\tlearn: 0.7787835\ttotal: 6m 41s\tremaining: 5m 12s\n",
      "225:\tlearn: 0.7794135\ttotal: 6m 43s\tremaining: 5m 10s\n",
      "226:\tlearn: 0.7803231\ttotal: 6m 45s\tremaining: 5m 8s\n",
      "227:\tlearn: 0.7807113\ttotal: 6m 47s\tremaining: 5m 7s\n",
      "228:\tlearn: 0.7808582\ttotal: 6m 48s\tremaining: 5m 5s\n",
      "229:\tlearn: 0.7811257\ttotal: 6m 50s\tremaining: 5m 3s\n",
      "230:\tlearn: 0.7812255\ttotal: 6m 52s\tremaining: 5m 1s\n",
      "231:\tlearn: 0.7820011\ttotal: 6m 54s\tremaining: 5m\n",
      "232:\tlearn: 0.7820744\ttotal: 6m 56s\tremaining: 4m 58s\n",
      "233:\tlearn: 0.7824883\ttotal: 6m 58s\tremaining: 4m 56s\n",
      "234:\tlearn: 0.7827815\ttotal: 6m 59s\tremaining: 4m 54s\n",
      "235:\tlearn: 0.7832892\ttotal: 7m 1s\tremaining: 4m 53s\n",
      "236:\tlearn: 0.7835089\ttotal: 7m 3s\tremaining: 4m 51s\n",
      "237:\tlearn: 0.7834307\ttotal: 7m 5s\tremaining: 4m 49s\n",
      "238:\tlearn: 0.7835771\ttotal: 7m 7s\tremaining: 4m 47s\n",
      "239:\tlearn: 0.7839692\ttotal: 7m 9s\tremaining: 4m 46s\n",
      "240:\tlearn: 0.7839692\ttotal: 7m 10s\tremaining: 4m 44s\n",
      "241:\tlearn: 0.7839788\ttotal: 7m 12s\tremaining: 4m 42s\n",
      "242:\tlearn: 0.7843444\ttotal: 7m 14s\tremaining: 4m 40s\n",
      "243:\tlearn: 0.7846367\ttotal: 7m 16s\tremaining: 4m 39s\n",
      "244:\tlearn: 0.7852724\ttotal: 7m 18s\tremaining: 4m 37s\n",
      "245:\tlearn: 0.7854912\ttotal: 7m 19s\tremaining: 4m 35s\n",
      "246:\tlearn: 0.7857615\ttotal: 7m 21s\tremaining: 4m 33s\n",
      "247:\tlearn: 0.7857872\ttotal: 7m 23s\tremaining: 4m 31s\n",
      "248:\tlearn: 0.7859329\ttotal: 7m 25s\tremaining: 4m 30s\n",
      "249:\tlearn: 0.7859329\ttotal: 7m 26s\tremaining: 4m 28s\n",
      "250:\tlearn: 0.7864252\ttotal: 7m 28s\tremaining: 4m 26s\n",
      "251:\tlearn: 0.7864252\ttotal: 7m 30s\tremaining: 4m 24s\n",
      "252:\tlearn: 0.7877045\ttotal: 7m 32s\tremaining: 4m 22s\n",
      "253:\tlearn: 0.7881402\ttotal: 7m 33s\tremaining: 4m 20s\n",
      "254:\tlearn: 0.7884086\ttotal: 7m 35s\tremaining: 4m 19s\n",
      "255:\tlearn: 0.7885283\ttotal: 7m 37s\tremaining: 4m 17s\n",
      "256:\tlearn: 0.7888656\ttotal: 7m 39s\tremaining: 4m 15s\n",
      "257:\tlearn: 0.7891555\ttotal: 7m 40s\tremaining: 4m 13s\n",
      "258:\tlearn: 0.7899743\ttotal: 7m 42s\tremaining: 4m 11s\n",
      "259:\tlearn: 0.7899743\ttotal: 7m 44s\tremaining: 4m 10s\n",
      "260:\tlearn: 0.7901914\ttotal: 7m 46s\tremaining: 4m 8s\n",
      "261:\tlearn: 0.7902859\ttotal: 7m 47s\tremaining: 4m 6s\n",
      "262:\tlearn: 0.7905030\ttotal: 7m 49s\tremaining: 4m 4s\n",
      "263:\tlearn: 0.7909368\ttotal: 7m 51s\tremaining: 4m 2s\n",
      "264:\tlearn: 0.7913454\ttotal: 7m 52s\tremaining: 4m\n",
      "265:\tlearn: 0.7915397\ttotal: 7m 54s\tremaining: 3m 59s\n",
      "266:\tlearn: 0.7918036\ttotal: 7m 56s\tremaining: 3m 57s\n",
      "267:\tlearn: 0.7925970\ttotal: 7m 58s\tremaining: 3m 55s\n",
      "268:\tlearn: 0.7930294\ttotal: 7m 59s\tremaining: 3m 53s\n",
      "269:\tlearn: 0.7932928\ttotal: 8m 1s\tremaining: 3m 51s\n",
      "270:\tlearn: 0.7933174\ttotal: 8m 3s\tremaining: 3m 50s\n",
      "271:\tlearn: 0.7936053\ttotal: 8m 5s\tremaining: 3m 48s\n",
      "272:\tlearn: 0.7938212\ttotal: 8m 6s\tremaining: 3m 46s\n",
      "273:\tlearn: 0.7942772\ttotal: 8m 8s\tremaining: 3m 44s\n",
      "274:\tlearn: 0.7946838\ttotal: 8m 10s\tremaining: 3m 42s\n",
      "275:\tlearn: 0.7949711\ttotal: 8m 12s\tremaining: 3m 41s\n",
      "276:\tlearn: 0.7951893\ttotal: 8m 13s\tremaining: 3m 39s\n",
      "277:\tlearn: 0.7958832\ttotal: 8m 15s\tremaining: 3m 37s\n",
      "278:\tlearn: 0.7963360\ttotal: 8m 17s\tremaining: 3m 35s\n",
      "279:\tlearn: 0.7967412\ttotal: 8m 18s\tremaining: 3m 33s\n",
      "280:\tlearn: 0.7972893\ttotal: 8m 20s\tremaining: 3m 32s\n",
      "281:\tlearn: 0.7973608\ttotal: 8m 22s\tremaining: 3m 30s\n",
      "282:\tlearn: 0.7976226\ttotal: 8m 24s\tremaining: 3m 28s\n",
      "283:\tlearn: 0.7976226\ttotal: 8m 25s\tremaining: 3m 26s\n",
      "284:\tlearn: 0.7979084\ttotal: 8m 27s\tremaining: 3m 24s\n",
      "285:\tlearn: 0.7984551\ttotal: 8m 29s\tremaining: 3m 22s\n",
      "286:\tlearn: 0.7989308\ttotal: 8m 30s\tremaining: 3m 21s\n",
      "287:\tlearn: 0.7995249\ttotal: 8m 32s\tremaining: 3m 19s\n",
      "288:\tlearn: 0.7997388\ttotal: 8m 34s\tremaining: 3m 17s\n",
      "289:\tlearn: 0.7999288\ttotal: 8m 36s\tremaining: 3m 15s\n",
      "290:\tlearn: 0.8001898\ttotal: 8m 38s\tremaining: 3m 14s\n",
      "291:\tlearn: 0.8004745\ttotal: 8m 39s\tremaining: 3m 12s\n",
      "292:\tlearn: 0.8004745\ttotal: 8m 41s\tremaining: 3m 10s\n",
      "293:\tlearn: 0.8007829\ttotal: 8m 43s\tremaining: 3m 8s\n",
      "294:\tlearn: 0.8008540\ttotal: 8m 44s\tremaining: 3m 6s\n",
      "295:\tlearn: 0.8009251\ttotal: 8m 46s\tremaining: 3m 5s\n",
      "296:\tlearn: 0.8010673\ttotal: 8m 48s\tremaining: 3m 3s\n",
      "297:\tlearn: 0.8012805\ttotal: 8m 50s\tremaining: 3m 1s\n",
      "298:\tlearn: 0.8013755\ttotal: 8m 51s\tremaining: 2m 59s\n",
      "299:\tlearn: 0.8016833\ttotal: 8m 53s\tremaining: 2m 57s\n",
      "300:\tlearn: 0.8016833\ttotal: 8m 55s\tremaining: 2m 56s\n",
      "301:\tlearn: 0.8019902\ttotal: 8m 57s\tremaining: 2m 54s\n",
      "302:\tlearn: 0.8020852\ttotal: 8m 59s\tremaining: 2m 52s\n",
      "303:\tlearn: 0.8022505\ttotal: 9m 1s\tremaining: 2m 50s\n",
      "304:\tlearn: 0.8025576\ttotal: 9m 2s\tremaining: 2m 49s\n",
      "305:\tlearn: 0.8027702\ttotal: 9m 4s\tremaining: 2m 47s\n",
      "306:\tlearn: 0.8028411\ttotal: 9m 6s\tremaining: 2m 45s\n",
      "307:\tlearn: 0.8031953\ttotal: 9m 8s\tremaining: 2m 43s\n",
      "308:\tlearn: 0.8036443\ttotal: 9m 9s\tremaining: 2m 41s\n",
      "309:\tlearn: 0.8035028\ttotal: 9m 11s\tremaining: 2m 40s\n",
      "310:\tlearn: 0.8035735\ttotal: 9m 13s\tremaining: 2m 38s\n",
      "311:\tlearn: 0.8040225\ttotal: 9m 15s\tremaining: 2m 36s\n",
      "312:\tlearn: 0.8040225\ttotal: 9m 16s\tremaining: 2m 34s\n",
      "313:\tlearn: 0.8043285\ttotal: 9m 18s\tremaining: 2m 32s\n",
      "314:\tlearn: 0.8048708\ttotal: 9m 20s\tremaining: 2m 31s\n",
      "315:\tlearn: 0.8049645\ttotal: 9m 22s\tremaining: 2m 29s\n",
      "316:\tlearn: 0.8051994\ttotal: 9m 23s\tremaining: 2m 27s\n",
      "317:\tlearn: 0.8051994\ttotal: 9m 25s\tremaining: 2m 25s\n",
      "318:\tlearn: 0.8054112\ttotal: 9m 27s\tremaining: 2m 23s\n",
      "319:\tlearn: 0.8055752\ttotal: 9m 28s\tremaining: 2m 22s\n",
      "320:\tlearn: 0.8058115\ttotal: 9m 30s\tremaining: 2m 20s\n",
      "321:\tlearn: 0.8058115\ttotal: 9m 32s\tremaining: 2m 18s\n",
      "322:\tlearn: 0.8058115\ttotal: 9m 33s\tremaining: 2m 16s\n",
      "323:\tlearn: 0.8058820\ttotal: 9m 35s\tremaining: 2m 14s\n",
      "324:\tlearn: 0.8060459\ttotal: 9m 37s\tremaining: 2m 13s\n",
      "325:\tlearn: 0.8060459\ttotal: 9m 38s\tremaining: 2m 11s\n",
      "326:\tlearn: 0.8067753\ttotal: 9m 40s\tremaining: 2m 9s\n",
      "327:\tlearn: 0.8067753\ttotal: 9m 42s\tremaining: 2m 7s\n",
      "328:\tlearn: 0.8067753\ttotal: 9m 43s\tremaining: 2m 6s\n",
      "329:\tlearn: 0.8067753\ttotal: 9m 45s\tremaining: 2m 4s\n",
      "330:\tlearn: 0.8067753\ttotal: 9m 47s\tremaining: 2m 2s\n",
      "331:\tlearn: 0.8067048\ttotal: 9m 48s\tremaining: 2m\n",
      "332:\tlearn: 0.8069161\ttotal: 9m 50s\tremaining: 1m 58s\n",
      "333:\tlearn: 0.8069161\ttotal: 9m 52s\tremaining: 1m 57s\n",
      "334:\tlearn: 0.8069161\ttotal: 9m 53s\tremaining: 1m 55s\n",
      "335:\tlearn: 0.8069161\ttotal: 9m 55s\tremaining: 1m 53s\n",
      "336:\tlearn: 0.8069161\ttotal: 9m 57s\tremaining: 1m 51s\n",
      "337:\tlearn: 0.8069637\ttotal: 9m 58s\tremaining: 1m 49s\n",
      "338:\tlearn: 0.8073633\ttotal: 10m\tremaining: 1m 48s\n",
      "339:\tlearn: 0.8080212\ttotal: 10m 2s\tremaining: 1m 46s\n",
      "340:\tlearn: 0.8080462\ttotal: 10m 4s\tremaining: 1m 44s\n",
      "341:\tlearn: 0.8080462\ttotal: 10m 6s\tremaining: 1m 42s\n",
      "342:\tlearn: 0.8080462\ttotal: 10m 7s\tremaining: 1m 41s\n",
      "343:\tlearn: 0.8080462\ttotal: 10m 9s\tremaining: 1m 39s\n",
      "344:\tlearn: 0.8079509\ttotal: 10m 11s\tremaining: 1m 37s\n",
      "345:\tlearn: 0.8079986\ttotal: 10m 13s\tremaining: 1m 35s\n",
      "346:\tlearn: 0.8079986\ttotal: 10m 15s\tremaining: 1m 33s\n",
      "347:\tlearn: 0.8080462\ttotal: 10m 16s\tremaining: 1m 32s\n",
      "348:\tlearn: 0.8080462\ttotal: 10m 18s\tremaining: 1m 30s\n",
      "349:\tlearn: 0.8080462\ttotal: 10m 20s\tremaining: 1m 28s\n",
      "350:\tlearn: 0.8079533\ttotal: 10m 21s\tremaining: 1m 26s\n",
      "351:\tlearn: 0.8079533\ttotal: 10m 23s\tremaining: 1m 25s\n",
      "352:\tlearn: 0.8079533\ttotal: 10m 25s\tremaining: 1m 23s\n",
      "353:\tlearn: 0.8080236\ttotal: 10m 26s\tremaining: 1m 21s\n",
      "354:\tlearn: 0.8082345\ttotal: 10m 28s\tremaining: 1m 19s\n",
      "355:\tlearn: 0.8082345\ttotal: 10m 30s\tremaining: 1m 17s\n",
      "356:\tlearn: 0.8081642\ttotal: 10m 31s\tremaining: 1m 16s\n",
      "357:\tlearn: 0.8084931\ttotal: 10m 33s\tremaining: 1m 14s\n",
      "358:\tlearn: 0.8084228\ttotal: 10m 35s\tremaining: 1m 12s\n",
      "359:\tlearn: 0.8084228\ttotal: 10m 36s\tremaining: 1m 10s\n",
      "360:\tlearn: 0.8084228\ttotal: 10m 38s\tremaining: 1m 8s\n",
      "361:\tlearn: 0.8087039\ttotal: 10m 40s\tremaining: 1m 7s\n",
      "362:\tlearn: 0.8087039\ttotal: 10m 41s\tremaining: 1m 5s\n",
      "363:\tlearn: 0.8087039\ttotal: 10m 43s\tremaining: 1m 3s\n",
      "364:\tlearn: 0.8088443\ttotal: 10m 45s\tremaining: 1m 1s\n",
      "365:\tlearn: 0.8087741\ttotal: 10m 46s\tremaining: 1m\n",
      "366:\tlearn: 0.8087741\ttotal: 10m 48s\tremaining: 58.3s\n",
      "367:\tlearn: 0.8087741\ttotal: 10m 50s\tremaining: 56.5s\n",
      "368:\tlearn: 0.8087741\ttotal: 10m 51s\tremaining: 54.7s\n",
      "369:\tlearn: 0.8087741\ttotal: 10m 53s\tremaining: 53s\n",
      "370:\tlearn: 0.8087741\ttotal: 10m 54s\tremaining: 51.2s\n",
      "371:\tlearn: 0.8089848\ttotal: 10m 56s\tremaining: 49.4s\n",
      "372:\tlearn: 0.8089146\ttotal: 10m 58s\tremaining: 47.7s\n",
      "373:\tlearn: 0.8089623\ttotal: 11m\tremaining: 45.9s\n",
      "374:\tlearn: 0.8092908\ttotal: 11m 1s\tremaining: 44.1s\n",
      "375:\tlearn: 0.8092908\ttotal: 11m 3s\tremaining: 42.4s\n",
      "376:\tlearn: 0.8092431\ttotal: 11m 5s\tremaining: 40.6s\n",
      "377:\tlearn: 0.8095940\ttotal: 11m 7s\tremaining: 38.8s\n",
      "378:\tlearn: 0.8095940\ttotal: 11m 8s\tremaining: 37.1s\n",
      "379:\tlearn: 0.8097118\ttotal: 11m 10s\tremaining: 35.3s\n",
      "380:\tlearn: 0.8097118\ttotal: 11m 12s\tremaining: 33.5s\n",
      "381:\tlearn: 0.8100654\ttotal: 11m 14s\tremaining: 31.8s\n",
      "382:\tlearn: 0.8099953\ttotal: 11m 15s\tremaining: 30s\n",
      "383:\tlearn: 0.8102056\ttotal: 11m 17s\tremaining: 28.2s\n",
      "384:\tlearn: 0.8101355\ttotal: 11m 19s\tremaining: 26.5s\n",
      "385:\tlearn: 0.8099729\ttotal: 11m 20s\tremaining: 24.7s\n",
      "386:\tlearn: 0.8099729\ttotal: 11m 22s\tremaining: 22.9s\n",
      "387:\tlearn: 0.8100430\ttotal: 11m 24s\tremaining: 21.2s\n",
      "388:\tlearn: 0.8100430\ttotal: 11m 26s\tremaining: 19.4s\n",
      "389:\tlearn: 0.8100430\ttotal: 11m 27s\tremaining: 17.6s\n",
      "390:\tlearn: 0.8104637\ttotal: 11m 29s\tremaining: 15.9s\n",
      "391:\tlearn: 0.8104637\ttotal: 11m 31s\tremaining: 14.1s\n",
      "392:\tlearn: 0.8108395\ttotal: 11m 33s\tremaining: 12.3s\n",
      "393:\tlearn: 0.8111451\ttotal: 11m 35s\tremaining: 10.6s\n",
      "394:\tlearn: 0.8111451\ttotal: 11m 36s\tremaining: 8.82s\n",
      "395:\tlearn: 0.8112852\ttotal: 11m 38s\tremaining: 7.05s\n",
      "396:\tlearn: 0.8112152\ttotal: 11m 40s\tremaining: 5.29s\n",
      "397:\tlearn: 0.8112152\ttotal: 11m 41s\tremaining: 3.53s\n",
      "398:\tlearn: 0.8112152\ttotal: 11m 43s\tremaining: 1.76s\n",
      "399:\tlearn: 0.8112152\ttotal: 11m 45s\tremaining: 0us\n",
      "[CV] END clf__depth=7, clf__early_stopping_rounds=10, clf__eval_metric=F1, clf__iterations=400, clf__learning_rate=0.2, clf__loss_function=Logloss, clf__random_seed=42, vect__max_df=10000, vect__min_df=10, vect__stop_words=english; total time=12.0min\n",
      "0:\tlearn: 0.4491852\ttotal: 2.67s\tremaining: 17m 45s\n",
      "1:\tlearn: 0.4813246\ttotal: 4.71s\tremaining: 15m 37s\n",
      "2:\tlearn: 0.4654755\ttotal: 6.64s\tremaining: 14m 38s\n",
      "3:\tlearn: 0.4923994\ttotal: 8.56s\tremaining: 14m 7s\n",
      "4:\tlearn: 0.4916449\ttotal: 10.4s\tremaining: 13m 42s\n",
      "5:\tlearn: 0.5479533\ttotal: 12.3s\tremaining: 13m 25s\n",
      "6:\tlearn: 0.5447976\ttotal: 14.2s\tremaining: 13m 15s\n",
      "7:\tlearn: 0.5194532\ttotal: 16s\tremaining: 13m 6s\n",
      "8:\tlearn: 0.5306548\ttotal: 17.9s\tremaining: 12m 59s\n",
      "9:\tlearn: 0.5619907\ttotal: 19.8s\tremaining: 12m 51s\n",
      "10:\tlearn: 0.5616947\ttotal: 21.6s\tremaining: 12m 44s\n",
      "11:\tlearn: 0.5643298\ttotal: 23.4s\tremaining: 12m 37s\n",
      "12:\tlearn: 0.5673481\ttotal: 25.3s\tremaining: 12m 32s\n",
      "13:\tlearn: 0.5798851\ttotal: 27s\tremaining: 12m 25s\n",
      "14:\tlearn: 0.5885123\ttotal: 28.9s\tremaining: 12m 22s\n",
      "15:\tlearn: 0.5907732\ttotal: 30.7s\tremaining: 12m 17s\n",
      "16:\tlearn: 0.5930348\ttotal: 32.5s\tremaining: 12m 11s\n",
      "17:\tlearn: 0.5945486\ttotal: 34.3s\tremaining: 12m 8s\n",
      "18:\tlearn: 0.5962847\ttotal: 36.1s\tremaining: 12m 4s\n",
      "19:\tlearn: 0.5988405\ttotal: 37.9s\tremaining: 12m\n",
      "20:\tlearn: 0.5994061\ttotal: 39.7s\tremaining: 11m 57s\n",
      "21:\tlearn: 0.6011716\ttotal: 41.5s\tremaining: 11m 52s\n",
      "22:\tlearn: 0.6026509\ttotal: 43.3s\tremaining: 11m 49s\n",
      "23:\tlearn: 0.6061160\ttotal: 45.2s\tremaining: 11m 48s\n",
      "24:\tlearn: 0.6154061\ttotal: 47.1s\tremaining: 11m 45s\n",
      "25:\tlearn: 0.6195637\ttotal: 48.8s\tremaining: 11m 42s\n",
      "26:\tlearn: 0.6217135\ttotal: 50.6s\tremaining: 11m 39s\n",
      "27:\tlearn: 0.6241360\ttotal: 52.5s\tremaining: 11m 36s\n",
      "28:\tlearn: 0.6258973\ttotal: 54.2s\tremaining: 11m 33s\n",
      "29:\tlearn: 0.6319549\ttotal: 56s\tremaining: 11m 30s\n",
      "30:\tlearn: 0.6339390\ttotal: 57.8s\tremaining: 11m 28s\n",
      "31:\tlearn: 0.6354795\ttotal: 59.6s\tremaining: 11m 25s\n",
      "32:\tlearn: 0.6353489\ttotal: 1m 1s\tremaining: 11m 22s\n",
      "33:\tlearn: 0.6361894\ttotal: 1m 3s\tremaining: 11m 19s\n",
      "34:\tlearn: 0.6381323\ttotal: 1m 5s\tremaining: 11m 18s\n",
      "35:\tlearn: 0.6392962\ttotal: 1m 6s\tremaining: 11m 15s\n",
      "36:\tlearn: 0.6407952\ttotal: 1m 8s\tremaining: 11m 12s\n",
      "37:\tlearn: 0.6459350\ttotal: 1m 10s\tremaining: 11m 9s\n",
      "38:\tlearn: 0.6512789\ttotal: 1m 12s\tremaining: 11m 6s\n",
      "39:\tlearn: 0.6519128\ttotal: 1m 13s\tremaining: 11m 3s\n",
      "40:\tlearn: 0.6520478\ttotal: 1m 15s\tremaining: 11m\n",
      "41:\tlearn: 0.6528602\ttotal: 1m 17s\tremaining: 10m 58s\n",
      "42:\tlearn: 0.6536335\ttotal: 1m 18s\tremaining: 10m 55s\n",
      "43:\tlearn: 0.6572139\ttotal: 1m 20s\tremaining: 10m 53s\n",
      "44:\tlearn: 0.6574882\ttotal: 1m 22s\tremaining: 10m 50s\n",
      "45:\tlearn: 0.6592404\ttotal: 1m 24s\tremaining: 10m 48s\n",
      "46:\tlearn: 0.6605468\ttotal: 1m 26s\tremaining: 10m 46s\n",
      "47:\tlearn: 0.6614437\ttotal: 1m 27s\tremaining: 10m 43s\n",
      "48:\tlearn: 0.6640860\ttotal: 1m 29s\tremaining: 10m 40s\n",
      "49:\tlearn: 0.6661339\ttotal: 1m 31s\tremaining: 10m 38s\n",
      "50:\tlearn: 0.6692364\ttotal: 1m 32s\tremaining: 10m 35s\n",
      "51:\tlearn: 0.6706054\ttotal: 1m 34s\tremaining: 10m 33s\n",
      "52:\tlearn: 0.6709138\ttotal: 1m 36s\tremaining: 10m 31s\n",
      "53:\tlearn: 0.6717922\ttotal: 1m 38s\tremaining: 10m 29s\n",
      "54:\tlearn: 0.6731992\ttotal: 1m 40s\tremaining: 10m 27s\n",
      "55:\tlearn: 0.6737692\ttotal: 1m 41s\tremaining: 10m 25s\n",
      "56:\tlearn: 0.6756507\ttotal: 1m 43s\tremaining: 10m 22s\n",
      "57:\tlearn: 0.6808231\ttotal: 1m 45s\tremaining: 10m 20s\n",
      "58:\tlearn: 0.6820779\ttotal: 1m 46s\tremaining: 10m 18s\n",
      "59:\tlearn: 0.6808819\ttotal: 1m 48s\tremaining: 10m 15s\n",
      "60:\tlearn: 0.6831956\ttotal: 1m 50s\tremaining: 10m 13s\n",
      "61:\tlearn: 0.6848346\ttotal: 1m 52s\tremaining: 10m 11s\n",
      "62:\tlearn: 0.6858752\ttotal: 1m 53s\tremaining: 10m 9s\n",
      "63:\tlearn: 0.6866375\ttotal: 1m 55s\tremaining: 10m 7s\n",
      "64:\tlearn: 0.6869810\ttotal: 1m 57s\tremaining: 10m 4s\n",
      "65:\tlearn: 0.6874061\ttotal: 1m 59s\tremaining: 10m 2s\n",
      "66:\tlearn: 0.6911506\ttotal: 2m\tremaining: 10m\n",
      "67:\tlearn: 0.6919074\ttotal: 2m 2s\tremaining: 9m 58s\n",
      "68:\tlearn: 0.6930680\ttotal: 2m 4s\tremaining: 9m 56s\n",
      "69:\tlearn: 0.6957255\ttotal: 2m 6s\tremaining: 9m 55s\n",
      "70:\tlearn: 0.6963510\ttotal: 2m 7s\tremaining: 9m 52s\n",
      "71:\tlearn: 0.6964413\ttotal: 2m 9s\tremaining: 9m 50s\n",
      "72:\tlearn: 0.6972406\ttotal: 2m 11s\tremaining: 9m 47s\n",
      "73:\tlearn: 0.6977919\ttotal: 2m 12s\tremaining: 9m 45s\n",
      "74:\tlearn: 0.6987001\ttotal: 2m 14s\tremaining: 9m 43s\n",
      "75:\tlearn: 0.6994571\ttotal: 2m 16s\tremaining: 9m 41s\n",
      "76:\tlearn: 0.7028836\ttotal: 2m 18s\tremaining: 9m 39s\n",
      "77:\tlearn: 0.7036203\ttotal: 2m 19s\tremaining: 9m 37s\n",
      "78:\tlearn: 0.7042869\ttotal: 2m 21s\tremaining: 9m 35s\n",
      "79:\tlearn: 0.7059276\ttotal: 2m 23s\tremaining: 9m 33s\n",
      "80:\tlearn: 0.7064255\ttotal: 2m 25s\tremaining: 9m 31s\n",
      "81:\tlearn: 0.7072546\ttotal: 2m 26s\tremaining: 9m 29s\n",
      "82:\tlearn: 0.7079997\ttotal: 2m 28s\tremaining: 9m 27s\n",
      "83:\tlearn: 0.7087522\ttotal: 2m 30s\tremaining: 9m 25s\n",
      "84:\tlearn: 0.7089547\ttotal: 2m 32s\tremaining: 9m 23s\n",
      "85:\tlearn: 0.7090828\ttotal: 2m 33s\tremaining: 9m 21s\n",
      "86:\tlearn: 0.7091119\ttotal: 2m 35s\tremaining: 9m 19s\n",
      "87:\tlearn: 0.7096320\ttotal: 2m 37s\tremaining: 9m 17s\n",
      "88:\tlearn: 0.7105314\ttotal: 2m 39s\tremaining: 9m 15s\n",
      "89:\tlearn: 0.7112730\ttotal: 2m 40s\tremaining: 9m 13s\n",
      "90:\tlearn: 0.7124617\ttotal: 2m 42s\tremaining: 9m 11s\n",
      "91:\tlearn: 0.7130002\ttotal: 2m 44s\tremaining: 9m 9s\n",
      "92:\tlearn: 0.7136024\ttotal: 2m 46s\tremaining: 9m 8s\n",
      "93:\tlearn: 0.7148405\ttotal: 2m 47s\tremaining: 9m 6s\n",
      "94:\tlearn: 0.7155041\ttotal: 2m 49s\tremaining: 9m 4s\n",
      "95:\tlearn: 0.7156314\ttotal: 2m 51s\tremaining: 9m 2s\n",
      "96:\tlearn: 0.7154679\ttotal: 2m 52s\tremaining: 9m\n",
      "97:\tlearn: 0.7192749\ttotal: 2m 54s\tremaining: 8m 58s\n",
      "98:\tlearn: 0.7204206\ttotal: 2m 56s\tremaining: 8m 56s\n",
      "99:\tlearn: 0.7208713\ttotal: 2m 58s\tremaining: 8m 54s\n",
      "100:\tlearn: 0.7211849\ttotal: 2m 59s\tremaining: 8m 52s\n",
      "101:\tlearn: 0.7217617\ttotal: 3m 1s\tremaining: 8m 50s\n",
      "102:\tlearn: 0.7228123\ttotal: 3m 3s\tremaining: 8m 48s\n",
      "103:\tlearn: 0.7235387\ttotal: 3m 5s\tremaining: 8m 47s\n",
      "104:\tlearn: 0.7238264\ttotal: 3m 6s\tremaining: 8m 44s\n",
      "105:\tlearn: 0.7250442\ttotal: 3m 8s\tremaining: 8m 42s\n",
      "106:\tlearn: 0.7255509\ttotal: 3m 10s\tremaining: 8m 40s\n",
      "107:\tlearn: 0.7261034\ttotal: 3m 11s\tremaining: 8m 38s\n",
      "108:\tlearn: 0.7264246\ttotal: 3m 13s\tremaining: 8m 36s\n",
      "109:\tlearn: 0.7272269\ttotal: 3m 15s\tremaining: 8m 35s\n",
      "110:\tlearn: 0.7284168\ttotal: 3m 17s\tremaining: 8m 33s\n",
      "111:\tlearn: 0.7288168\ttotal: 3m 18s\tremaining: 8m 31s\n",
      "112:\tlearn: 0.7288967\ttotal: 3m 20s\tremaining: 8m 29s\n",
      "113:\tlearn: 0.7294561\ttotal: 3m 22s\tremaining: 8m 27s\n",
      "114:\tlearn: 0.7312908\ttotal: 3m 24s\tremaining: 8m 26s\n",
      "115:\tlearn: 0.7325304\ttotal: 3m 26s\tremaining: 8m 24s\n",
      "116:\tlearn: 0.7328943\ttotal: 3m 28s\tremaining: 8m 23s\n",
      "117:\tlearn: 0.7339473\ttotal: 3m 29s\tremaining: 8m 21s\n",
      "118:\tlearn: 0.7363029\ttotal: 3m 31s\tremaining: 8m 19s\n",
      "119:\tlearn: 0.7363818\ttotal: 3m 33s\tremaining: 8m 17s\n",
      "120:\tlearn: 0.7360200\ttotal: 3m 35s\tremaining: 8m 16s\n",
      "121:\tlearn: 0.7361779\ttotal: 3m 36s\tremaining: 8m 14s\n",
      "122:\tlearn: 0.7387836\ttotal: 3m 38s\tremaining: 8m 12s\n",
      "123:\tlearn: 0.7379973\ttotal: 3m 40s\tremaining: 8m 10s\n",
      "124:\tlearn: 0.7382985\ttotal: 3m 42s\tremaining: 8m 9s\n",
      "125:\tlearn: 0.7383772\ttotal: 3m 44s\tremaining: 8m 7s\n",
      "126:\tlearn: 0.7390059\ttotal: 3m 46s\tremaining: 8m 5s\n",
      "127:\tlearn: 0.7395094\ttotal: 3m 47s\tremaining: 8m 3s\n",
      "128:\tlearn: 0.7392739\ttotal: 3m 49s\tremaining: 8m 2s\n",
      "129:\tlearn: 0.7399017\ttotal: 3m 51s\tremaining: 8m\n",
      "130:\tlearn: 0.7415144\ttotal: 3m 52s\tremaining: 7m 58s\n",
      "131:\tlearn: 0.7416708\ttotal: 3m 54s\tremaining: 7m 56s\n",
      "132:\tlearn: 0.7434035\ttotal: 3m 56s\tremaining: 7m 54s\n",
      "133:\tlearn: 0.7442466\ttotal: 3m 58s\tremaining: 7m 52s\n",
      "134:\tlearn: 0.7437904\ttotal: 4m\tremaining: 7m 51s\n",
      "135:\tlearn: 0.7445990\ttotal: 4m 1s\tremaining: 7m 49s\n",
      "136:\tlearn: 0.7451613\ttotal: 4m 3s\tremaining: 7m 47s\n",
      "137:\tlearn: 0.7455188\ttotal: 4m 5s\tremaining: 7m 46s\n",
      "138:\tlearn: 0.7472596\ttotal: 4m 7s\tremaining: 7m 44s\n",
      "139:\tlearn: 0.7479423\ttotal: 4m 9s\tremaining: 7m 42s\n",
      "140:\tlearn: 0.7491659\ttotal: 4m 10s\tremaining: 7m 40s\n",
      "141:\tlearn: 0.7495676\ttotal: 4m 12s\tremaining: 7m 38s\n",
      "142:\tlearn: 0.7499228\ttotal: 4m 14s\tremaining: 7m 37s\n",
      "143:\tlearn: 0.7507715\ttotal: 4m 16s\tremaining: 7m 35s\n",
      "144:\tlearn: 0.7510028\ttotal: 4m 17s\tremaining: 7m 33s\n",
      "145:\tlearn: 0.7510028\ttotal: 4m 19s\tremaining: 7m 31s\n",
      "146:\tlearn: 0.7520039\ttotal: 4m 21s\tremaining: 7m 29s\n",
      "147:\tlearn: 0.7520809\ttotal: 4m 23s\tremaining: 7m 28s\n",
      "148:\tlearn: 0.7523874\ttotal: 4m 25s\tremaining: 7m 26s\n",
      "149:\tlearn: 0.7532627\ttotal: 4m 26s\tremaining: 7m 24s\n",
      "150:\tlearn: 0.7540903\ttotal: 4m 28s\tremaining: 7m 23s\n",
      "151:\tlearn: 0.7542738\ttotal: 4m 30s\tremaining: 7m 21s\n",
      "152:\tlearn: 0.7550694\ttotal: 4m 32s\tremaining: 7m 19s\n",
      "153:\tlearn: 0.7550694\ttotal: 4m 34s\tremaining: 7m 17s\n",
      "154:\tlearn: 0.7556811\ttotal: 4m 35s\tremaining: 7m 15s\n",
      "155:\tlearn: 0.7556811\ttotal: 4m 37s\tremaining: 7m 14s\n",
      "156:\tlearn: 0.7568264\ttotal: 4m 39s\tremaining: 7m 12s\n",
      "157:\tlearn: 0.7569491\ttotal: 4m 41s\tremaining: 7m 10s\n",
      "158:\tlearn: 0.7572839\ttotal: 4m 42s\tremaining: 7m 8s\n",
      "159:\tlearn: 0.7572839\ttotal: 4m 44s\tremaining: 7m 6s\n",
      "160:\tlearn: 0.7582909\ttotal: 4m 46s\tremaining: 7m 5s\n",
      "161:\tlearn: 0.7587770\ttotal: 4m 48s\tremaining: 7m 3s\n",
      "162:\tlearn: 0.7587770\ttotal: 4m 49s\tremaining: 7m 1s\n",
      "163:\tlearn: 0.7590516\ttotal: 4m 51s\tremaining: 6m 59s\n",
      "164:\tlearn: 0.7594906\ttotal: 4m 53s\tremaining: 6m 58s\n",
      "165:\tlearn: 0.7599927\ttotal: 4m 55s\tremaining: 6m 56s\n",
      "166:\tlearn: 0.7602497\ttotal: 4m 57s\tremaining: 6m 54s\n",
      "167:\tlearn: 0.7602962\ttotal: 4m 59s\tremaining: 6m 53s\n",
      "168:\tlearn: 0.7608736\ttotal: 5m 1s\tremaining: 6m 51s\n",
      "169:\tlearn: 0.7617068\ttotal: 5m 2s\tremaining: 6m 49s\n",
      "170:\tlearn: 0.7620561\ttotal: 5m 4s\tremaining: 6m 48s\n",
      "171:\tlearn: 0.7619804\ttotal: 5m 6s\tremaining: 6m 46s\n",
      "172:\tlearn: 0.7620561\ttotal: 5m 8s\tremaining: 6m 44s\n",
      "173:\tlearn: 0.7619804\ttotal: 5m 10s\tremaining: 6m 42s\n",
      "174:\tlearn: 0.7620270\ttotal: 5m 11s\tremaining: 6m 40s\n",
      "175:\tlearn: 0.7622540\ttotal: 5m 13s\tremaining: 6m 39s\n",
      "176:\tlearn: 0.7621784\ttotal: 5m 15s\tremaining: 6m 37s\n",
      "177:\tlearn: 0.7622249\ttotal: 5m 17s\tremaining: 6m 35s\n",
      "178:\tlearn: 0.7623181\ttotal: 5m 19s\tremaining: 6m 33s\n",
      "179:\tlearn: 0.7630566\ttotal: 5m 20s\tremaining: 6m 32s\n",
      "180:\tlearn: 0.7630566\ttotal: 5m 22s\tremaining: 6m 30s\n",
      "181:\tlearn: 0.7634231\ttotal: 5m 24s\tremaining: 6m 28s\n",
      "182:\tlearn: 0.7635742\ttotal: 5m 26s\tremaining: 6m 26s\n",
      "183:\tlearn: 0.7635742\ttotal: 5m 27s\tremaining: 6m 24s\n",
      "184:\tlearn: 0.7643468\ttotal: 5m 29s\tremaining: 6m 23s\n",
      "185:\tlearn: 0.7651654\ttotal: 5m 31s\tremaining: 6m 21s\n",
      "186:\tlearn: 0.7655421\ttotal: 5m 32s\tremaining: 6m 19s\n",
      "187:\tlearn: 0.7660976\ttotal: 5m 34s\tremaining: 6m 17s\n",
      "188:\tlearn: 0.7660976\ttotal: 5m 36s\tremaining: 6m 15s\n",
      "189:\tlearn: 0.7662480\ttotal: 5m 38s\tremaining: 6m 13s\n",
      "190:\tlearn: 0.7662947\ttotal: 5m 39s\tremaining: 6m 11s\n",
      "191:\tlearn: 0.7662195\ttotal: 5m 41s\tremaining: 6m 10s\n",
      "192:\tlearn: 0.7666138\ttotal: 5m 43s\tremaining: 6m 8s\n",
      "193:\tlearn: 0.7666138\ttotal: 5m 45s\tremaining: 6m 6s\n",
      "194:\tlearn: 0.7671400\ttotal: 5m 46s\tremaining: 6m 4s\n",
      "195:\tlearn: 0.7670648\ttotal: 5m 48s\tremaining: 6m 2s\n",
      "196:\tlearn: 0.7678811\ttotal: 5m 50s\tremaining: 6m 1s\n",
      "197:\tlearn: 0.7678060\ttotal: 5m 52s\tremaining: 5m 59s\n",
      "198:\tlearn: 0.7677309\ttotal: 5m 53s\tremaining: 5m 57s\n",
      "199:\tlearn: 0.7681998\ttotal: 5m 55s\tremaining: 5m 55s\n",
      "200:\tlearn: 0.7684717\ttotal: 5m 57s\tremaining: 5m 53s\n",
      "201:\tlearn: 0.7683967\ttotal: 5m 58s\tremaining: 5m 51s\n",
      "202:\tlearn: 0.7690715\ttotal: 6m\tremaining: 5m 49s\n",
      "203:\tlearn: 0.7695398\ttotal: 6m 2s\tremaining: 5m 48s\n",
      "204:\tlearn: 0.7696616\ttotal: 6m 4s\tremaining: 5m 46s\n",
      "205:\tlearn: 0.7702884\ttotal: 6m 5s\tremaining: 5m 44s\n",
      "206:\tlearn: 0.7703352\ttotal: 6m 7s\tremaining: 5m 42s\n",
      "207:\tlearn: 0.7707750\ttotal: 6m 9s\tremaining: 5m 40s\n",
      "208:\tlearn: 0.7712235\ttotal: 6m 10s\tremaining: 5m 39s\n",
      "209:\tlearn: 0.7712617\ttotal: 6m 12s\tremaining: 5m 37s\n",
      "210:\tlearn: 0.7711122\ttotal: 6m 14s\tremaining: 5m 35s\n",
      "211:\tlearn: 0.7718402\ttotal: 6m 16s\tremaining: 5m 33s\n",
      "212:\tlearn: 0.7718402\ttotal: 6m 17s\tremaining: 5m 31s\n",
      "213:\tlearn: 0.7720173\ttotal: 6m 19s\tremaining: 5m 29s\n",
      "214:\tlearn: 0.7722388\ttotal: 6m 21s\tremaining: 5m 27s\n",
      "215:\tlearn: 0.7730970\ttotal: 6m 22s\tremaining: 5m 26s\n",
      "216:\tlearn: 0.7733204\ttotal: 6m 24s\tremaining: 5m 24s\n",
      "217:\tlearn: 0.7741935\ttotal: 6m 26s\tremaining: 5m 22s\n",
      "218:\tlearn: 0.7738767\ttotal: 6m 28s\tremaining: 5m 20s\n",
      "219:\tlearn: 0.7740370\ttotal: 6m 29s\tremaining: 5m 18s\n",
      "220:\tlearn: 0.7743070\ttotal: 6m 31s\tremaining: 5m 17s\n",
      "221:\tlearn: 0.7746043\ttotal: 6m 33s\tremaining: 5m 15s\n",
      "222:\tlearn: 0.7755374\ttotal: 6m 35s\tremaining: 5m 13s\n",
      "223:\tlearn: 0.7756387\ttotal: 6m 36s\tremaining: 5m 11s\n",
      "224:\tlearn: 0.7760092\ttotal: 6m 38s\tremaining: 5m 10s\n",
      "225:\tlearn: 0.7764535\ttotal: 6m 40s\tremaining: 5m 8s\n",
      "226:\tlearn: 0.7764749\ttotal: 6m 42s\tremaining: 5m 6s\n",
      "227:\tlearn: 0.7765488\ttotal: 6m 43s\tremaining: 5m 4s\n",
      "228:\tlearn: 0.7768715\ttotal: 6m 45s\tremaining: 5m 2s\n",
      "229:\tlearn: 0.7769184\ttotal: 6m 47s\tremaining: 5m 1s\n",
      "230:\tlearn: 0.7770662\ttotal: 6m 49s\tremaining: 4m 59s\n",
      "231:\tlearn: 0.7774624\ttotal: 6m 50s\tremaining: 4m 57s\n",
      "232:\tlearn: 0.7779052\ttotal: 6m 52s\tremaining: 4m 55s\n",
      "233:\tlearn: 0.7783679\ttotal: 6m 54s\tremaining: 4m 53s\n",
      "234:\tlearn: 0.7783679\ttotal: 6m 55s\tremaining: 4m 51s\n",
      "235:\tlearn: 0.7786029\ttotal: 6m 57s\tremaining: 4m 50s\n",
      "236:\tlearn: 0.7792866\ttotal: 6m 59s\tremaining: 4m 48s\n",
      "237:\tlearn: 0.7801495\ttotal: 7m 1s\tremaining: 4m 46s\n",
      "238:\tlearn: 0.7809432\ttotal: 7m 2s\tremaining: 4m 44s\n",
      "239:\tlearn: 0.7820644\ttotal: 7m 4s\tremaining: 4m 43s\n",
      "240:\tlearn: 0.7826505\ttotal: 7m 6s\tremaining: 4m 41s\n",
      "241:\tlearn: 0.7829434\ttotal: 7m 7s\tremaining: 4m 39s\n",
      "242:\tlearn: 0.7836018\ttotal: 7m 9s\tremaining: 4m 37s\n",
      "243:\tlearn: 0.7833464\ttotal: 7m 11s\tremaining: 4m 35s\n",
      "244:\tlearn: 0.7833935\ttotal: 7m 12s\tremaining: 4m 33s\n",
      "245:\tlearn: 0.7836440\ttotal: 7m 14s\tremaining: 4m 32s\n",
      "246:\tlearn: 0.7837172\ttotal: 7m 16s\tremaining: 4m 30s\n",
      "247:\tlearn: 0.7838634\ttotal: 7m 18s\tremaining: 4m 28s\n",
      "248:\tlearn: 0.7840827\ttotal: 7m 19s\tremaining: 4m 26s\n",
      "249:\tlearn: 0.7842289\ttotal: 7m 21s\tremaining: 4m 24s\n",
      "250:\tlearn: 0.7845941\ttotal: 7m 23s\tremaining: 4m 23s\n",
      "251:\tlearn: 0.7849165\ttotal: 7m 24s\tremaining: 4m 21s\n",
      "252:\tlearn: 0.7850624\ttotal: 7m 26s\tremaining: 4m 19s\n",
      "253:\tlearn: 0.7852812\ttotal: 7m 28s\tremaining: 4m 17s\n",
      "254:\tlearn: 0.7856457\ttotal: 7m 29s\tremaining: 4m 15s\n",
      "255:\tlearn: 0.7861258\ttotal: 7m 31s\tremaining: 4m 14s\n",
      "256:\tlearn: 0.7865587\ttotal: 7m 33s\tremaining: 4m 12s\n",
      "257:\tlearn: 0.7865587\ttotal: 7m 35s\tremaining: 4m 10s\n",
      "258:\tlearn: 0.7869954\ttotal: 7m 36s\tremaining: 4m 8s\n",
      "259:\tlearn: 0.7870681\ttotal: 7m 38s\tremaining: 4m 6s\n",
      "260:\tlearn: 0.7873591\ttotal: 7m 40s\tremaining: 4m 5s\n",
      "261:\tlearn: 0.7880350\ttotal: 7m 41s\tremaining: 4m 3s\n",
      "262:\tlearn: 0.7884673\ttotal: 7m 43s\tremaining: 4m 1s\n",
      "263:\tlearn: 0.7883947\ttotal: 7m 45s\tremaining: 3m 59s\n",
      "264:\tlearn: 0.7885146\ttotal: 7m 47s\tremaining: 3m 58s\n",
      "265:\tlearn: 0.7889282\ttotal: 7m 48s\tremaining: 3m 56s\n",
      "266:\tlearn: 0.7890260\ttotal: 7m 50s\tremaining: 3m 54s\n",
      "267:\tlearn: 0.7892436\ttotal: 7m 52s\tremaining: 3m 52s\n",
      "268:\tlearn: 0.7893161\ttotal: 7m 54s\tremaining: 3m 50s\n",
      "269:\tlearn: 0.7897510\ttotal: 7m 55s\tremaining: 3m 49s\n",
      "270:\tlearn: 0.7898737\ttotal: 7m 57s\tremaining: 3m 47s\n",
      "271:\tlearn: 0.7906699\ttotal: 7m 59s\tremaining: 3m 45s\n",
      "272:\tlearn: 0.7906699\ttotal: 8m 1s\tremaining: 3m 43s\n",
      "273:\tlearn: 0.7911759\ttotal: 8m 2s\tremaining: 3m 42s\n",
      "274:\tlearn: 0.7920650\ttotal: 8m 4s\tremaining: 3m 40s\n",
      "275:\tlearn: 0.7922815\ttotal: 8m 6s\tremaining: 3m 38s\n",
      "276:\tlearn: 0.7922815\ttotal: 8m 8s\tremaining: 3m 36s\n",
      "277:\tlearn: 0.7925700\ttotal: 8m 9s\tremaining: 3m 34s\n",
      "278:\tlearn: 0.7929305\ttotal: 8m 11s\tremaining: 3m 33s\n",
      "279:\tlearn: 0.7932167\ttotal: 8m 13s\tremaining: 3m 31s\n",
      "280:\tlearn: 0.7933608\ttotal: 8m 14s\tremaining: 3m 29s\n",
      "281:\tlearn: 0.7935769\ttotal: 8m 16s\tremaining: 3m 27s\n",
      "282:\tlearn: 0.7936489\ttotal: 8m 18s\tremaining: 3m 25s\n",
      "283:\tlearn: 0.7936489\ttotal: 8m 19s\tremaining: 3m 24s\n",
      "284:\tlearn: 0.7938895\ttotal: 8m 21s\tremaining: 3m 22s\n",
      "285:\tlearn: 0.7938895\ttotal: 8m 23s\tremaining: 3m 20s\n",
      "286:\tlearn: 0.7942949\ttotal: 8m 25s\tremaining: 3m 18s\n",
      "287:\tlearn: 0.7944862\ttotal: 8m 26s\tremaining: 3m 17s\n",
      "288:\tlearn: 0.7945058\ttotal: 8m 28s\tremaining: 3m 15s\n",
      "289:\tlearn: 0.7947202\ttotal: 8m 30s\tremaining: 3m 13s\n",
      "290:\tlearn: 0.7947922\ttotal: 8m 31s\tremaining: 3m 11s\n",
      "291:\tlearn: 0.7950800\ttotal: 8m 33s\tremaining: 3m 9s\n",
      "292:\tlearn: 0.7953921\ttotal: 8m 35s\tremaining: 3m 8s\n",
      "293:\tlearn: 0.7953921\ttotal: 8m 37s\tremaining: 3m 6s\n",
      "294:\tlearn: 0.7956078\ttotal: 8m 38s\tremaining: 3m 4s\n",
      "295:\tlearn: 0.7955359\ttotal: 8m 40s\tremaining: 3m 2s\n",
      "296:\tlearn: 0.7956078\ttotal: 8m 42s\tremaining: 3m 1s\n",
      "297:\tlearn: 0.7956797\ttotal: 8m 43s\tremaining: 2m 59s\n",
      "298:\tlearn: 0.7959439\ttotal: 8m 45s\tremaining: 2m 57s\n",
      "299:\tlearn: 0.7961350\ttotal: 8m 47s\tremaining: 2m 55s\n",
      "300:\tlearn: 0.7963029\ttotal: 8m 48s\tremaining: 2m 53s\n",
      "301:\tlearn: 0.7962797\ttotal: 8m 50s\tremaining: 2m 52s\n",
      "302:\tlearn: 0.7966869\ttotal: 8m 52s\tremaining: 2m 50s\n",
      "303:\tlearn: 0.7966152\ttotal: 8m 53s\tremaining: 2m 48s\n",
      "304:\tlearn: 0.7967828\ttotal: 8m 55s\tremaining: 2m 46s\n",
      "305:\tlearn: 0.7972844\ttotal: 8m 57s\tremaining: 2m 45s\n",
      "306:\tlearn: 0.7972844\ttotal: 8m 58s\tremaining: 2m 43s\n",
      "307:\tlearn: 0.7973086\ttotal: 9m\tremaining: 2m 41s\n",
      "308:\tlearn: 0.7983343\ttotal: 9m 2s\tremaining: 2m 39s\n",
      "309:\tlearn: 0.7988102\ttotal: 9m 4s\tremaining: 2m 37s\n",
      "310:\tlearn: 0.7989770\ttotal: 9m 5s\tremaining: 2m 36s\n",
      "311:\tlearn: 0.7991199\ttotal: 9m 7s\tremaining: 2m 34s\n",
      "312:\tlearn: 0.7991438\ttotal: 9m 9s\tremaining: 2m 32s\n",
      "313:\tlearn: 0.7992627\ttotal: 9m 10s\tremaining: 2m 30s\n",
      "314:\tlearn: 0.7993341\ttotal: 9m 12s\tremaining: 2m 29s\n",
      "315:\tlearn: 0.7996672\ttotal: 9m 14s\tremaining: 2m 27s\n",
      "316:\tlearn: 0.7998812\ttotal: 9m 16s\tremaining: 2m 25s\n",
      "317:\tlearn: 0.8000238\ttotal: 9m 17s\tremaining: 2m 23s\n",
      "318:\tlearn: 0.8003088\ttotal: 9m 19s\tremaining: 2m 22s\n",
      "319:\tlearn: 0.8003088\ttotal: 9m 21s\tremaining: 2m 20s\n",
      "320:\tlearn: 0.8006887\ttotal: 9m 23s\tremaining: 2m 18s\n",
      "321:\tlearn: 0.8008787\ttotal: 9m 24s\tremaining: 2m 16s\n",
      "322:\tlearn: 0.8008311\ttotal: 9m 26s\tremaining: 2m 15s\n",
      "323:\tlearn: 0.8009262\ttotal: 9m 28s\tremaining: 2m 13s\n",
      "324:\tlearn: 0.8014955\ttotal: 9m 29s\tremaining: 2m 11s\n",
      "325:\tlearn: 0.8016617\ttotal: 9m 31s\tremaining: 2m 9s\n",
      "326:\tlearn: 0.8020172\ttotal: 9m 33s\tremaining: 2m 8s\n",
      "327:\tlearn: 0.8027284\ttotal: 9m 35s\tremaining: 2m 6s\n",
      "328:\tlearn: 0.8031543\ttotal: 9m 36s\tremaining: 2m 4s\n",
      "329:\tlearn: 0.8033661\ttotal: 9m 38s\tremaining: 2m 2s\n",
      "330:\tlearn: 0.8035079\ttotal: 9m 40s\tremaining: 2m\n",
      "331:\tlearn: 0.8036730\ttotal: 9m 41s\tremaining: 1m 59s\n",
      "332:\tlearn: 0.8036730\ttotal: 9m 43s\tremaining: 1m 57s\n",
      "333:\tlearn: 0.8037682\ttotal: 9m 45s\tremaining: 1m 55s\n",
      "334:\tlearn: 0.8041225\ttotal: 9m 47s\tremaining: 1m 53s\n",
      "335:\tlearn: 0.8040040\ttotal: 9m 48s\tremaining: 1m 52s\n",
      "336:\tlearn: 0.8040040\ttotal: 9m 50s\tremaining: 1m 50s\n",
      "337:\tlearn: 0.8047596\ttotal: 9m 52s\tremaining: 1m 48s\n",
      "338:\tlearn: 0.8048549\ttotal: 9m 54s\tremaining: 1m 46s\n",
      "339:\tlearn: 0.8048549\ttotal: 9m 55s\tremaining: 1m 45s\n",
      "340:\tlearn: 0.8048549\ttotal: 9m 57s\tremaining: 1m 43s\n",
      "341:\tlearn: 0.8048549\ttotal: 9m 59s\tremaining: 1m 41s\n",
      "342:\tlearn: 0.8048549\ttotal: 10m 1s\tremaining: 1m 39s\n",
      "343:\tlearn: 0.8052794\ttotal: 10m 2s\tremaining: 1m 38s\n",
      "344:\tlearn: 0.8055145\ttotal: 10m 4s\tremaining: 1m 36s\n",
      "345:\tlearn: 0.8057954\ttotal: 10m 6s\tremaining: 1m 34s\n",
      "346:\tlearn: 0.8059366\ttotal: 10m 8s\tremaining: 1m 32s\n",
      "347:\tlearn: 0.8058890\ttotal: 10m 10s\tremaining: 1m 31s\n",
      "348:\tlearn: 0.8058890\ttotal: 10m 11s\tremaining: 1m 29s\n",
      "349:\tlearn: 0.8059596\ttotal: 10m 13s\tremaining: 1m 27s\n",
      "350:\tlearn: 0.8059596\ttotal: 10m 15s\tremaining: 1m 25s\n",
      "351:\tlearn: 0.8059596\ttotal: 10m 16s\tremaining: 1m 24s\n",
      "352:\tlearn: 0.8059596\ttotal: 10m 18s\tremaining: 1m 22s\n",
      "353:\tlearn: 0.8061484\ttotal: 10m 20s\tremaining: 1m 20s\n",
      "354:\tlearn: 0.8061484\ttotal: 10m 22s\tremaining: 1m 18s\n",
      "355:\tlearn: 0.8062666\ttotal: 10m 23s\tremaining: 1m 17s\n",
      "356:\tlearn: 0.8062666\ttotal: 10m 25s\tremaining: 1m 15s\n",
      "357:\tlearn: 0.8064096\ttotal: 10m 27s\tremaining: 1m 13s\n",
      "358:\tlearn: 0.8065508\ttotal: 10m 29s\tremaining: 1m 11s\n",
      "359:\tlearn: 0.8067853\ttotal: 10m 30s\tremaining: 1m 10s\n",
      "360:\tlearn: 0.8068558\ttotal: 10m 32s\tremaining: 1m 8s\n",
      "361:\tlearn: 0.8072809\ttotal: 10m 34s\tremaining: 1m 6s\n",
      "362:\tlearn: 0.8072809\ttotal: 10m 36s\tremaining: 1m 4s\n",
      "363:\tlearn: 0.8072809\ttotal: 10m 37s\tremaining: 1m 3s\n",
      "364:\tlearn: 0.8072809\ttotal: 10m 39s\tremaining: 1m 1s\n",
      "365:\tlearn: 0.8074219\ttotal: 10m 41s\tremaining: 59.6s\n",
      "366:\tlearn: 0.8074219\ttotal: 10m 42s\tremaining: 57.8s\n",
      "367:\tlearn: 0.8074219\ttotal: 10m 44s\tremaining: 56s\n",
      "368:\tlearn: 0.8077037\ttotal: 10m 46s\tremaining: 54.3s\n",
      "369:\tlearn: 0.8079149\ttotal: 10m 47s\tremaining: 52.5s\n",
      "370:\tlearn: 0.8080128\ttotal: 10m 49s\tremaining: 50.8s\n",
      "371:\tlearn: 0.8080128\ttotal: 10m 51s\tremaining: 49s\n",
      "372:\tlearn: 0.8080128\ttotal: 10m 52s\tremaining: 47.3s\n",
      "373:\tlearn: 0.8081536\ttotal: 10m 54s\tremaining: 45.5s\n",
      "374:\tlearn: 0.8085056\ttotal: 10m 56s\tremaining: 43.8s\n",
      "375:\tlearn: 0.8085056\ttotal: 10m 58s\tremaining: 42s\n",
      "376:\tlearn: 0.8085056\ttotal: 10m 59s\tremaining: 40.2s\n",
      "377:\tlearn: 0.8085056\ttotal: 11m 1s\tremaining: 38.5s\n",
      "378:\tlearn: 0.8088574\ttotal: 11m 2s\tremaining: 36.7s\n",
      "379:\tlearn: 0.8089277\ttotal: 11m 4s\tremaining: 35s\n",
      "380:\tlearn: 0.8091864\ttotal: 11m 6s\tremaining: 33.2s\n",
      "381:\tlearn: 0.8091864\ttotal: 11m 8s\tremaining: 31.5s\n",
      "382:\tlearn: 0.8091161\ttotal: 11m 9s\tremaining: 29.7s\n",
      "383:\tlearn: 0.8091161\ttotal: 11m 11s\tremaining: 28s\n",
      "384:\tlearn: 0.8091161\ttotal: 11m 13s\tremaining: 26.2s\n",
      "385:\tlearn: 0.8092540\ttotal: 11m 15s\tremaining: 24.5s\n",
      "386:\tlearn: 0.8092540\ttotal: 11m 16s\tremaining: 22.7s\n",
      "387:\tlearn: 0.8091837\ttotal: 11m 18s\tremaining: 21s\n",
      "388:\tlearn: 0.8091134\ttotal: 11m 20s\tremaining: 19.2s\n",
      "389:\tlearn: 0.8095126\ttotal: 11m 21s\tremaining: 17.5s\n",
      "390:\tlearn: 0.8095126\ttotal: 11m 23s\tremaining: 15.7s\n",
      "391:\tlearn: 0.8095126\ttotal: 11m 25s\tremaining: 14s\n",
      "392:\tlearn: 0.8100295\ttotal: 11m 27s\tremaining: 12.2s\n",
      "393:\tlearn: 0.8100295\ttotal: 11m 28s\tremaining: 10.5s\n",
      "394:\tlearn: 0.8100295\ttotal: 11m 30s\tremaining: 8.74s\n",
      "395:\tlearn: 0.8099817\ttotal: 11m 31s\tremaining: 6.99s\n",
      "396:\tlearn: 0.8103326\ttotal: 11m 33s\tremaining: 5.24s\n",
      "397:\tlearn: 0.8105207\ttotal: 11m 35s\tremaining: 3.5s\n",
      "398:\tlearn: 0.8104729\ttotal: 11m 37s\tremaining: 1.75s\n",
      "399:\tlearn: 0.8104729\ttotal: 11m 38s\tremaining: 0us\n",
      "[CV] END clf__depth=7, clf__early_stopping_rounds=10, clf__eval_metric=F1, clf__iterations=400, clf__learning_rate=0.2, clf__loss_function=Logloss, clf__random_seed=42, vect__max_df=10000, vect__min_df=10, vect__stop_words=english; total time=11.8min\n",
      "0:\tlearn: 0.4250240\ttotal: 2.68s\tremaining: 17m 47s\n",
      "1:\tlearn: 0.4683230\ttotal: 4.5s\tremaining: 14m 54s\n",
      "2:\tlearn: 0.4804615\ttotal: 6.29s\tremaining: 13m 52s\n",
      "3:\tlearn: 0.5053268\ttotal: 8.14s\tremaining: 13m 26s\n",
      "4:\tlearn: 0.4993899\ttotal: 9.99s\tremaining: 13m 9s\n",
      "5:\tlearn: 0.5284426\ttotal: 11.9s\tremaining: 13m\n",
      "6:\tlearn: 0.5618826\ttotal: 13.8s\tremaining: 12m 57s\n",
      "7:\tlearn: 0.5779948\ttotal: 15.9s\tremaining: 12m 57s\n",
      "8:\tlearn: 0.5779856\ttotal: 17.7s\tremaining: 12m 50s\n",
      "9:\tlearn: 0.5972065\ttotal: 19.5s\tremaining: 12m 40s\n",
      "10:\tlearn: 0.5703532\ttotal: 21.3s\tremaining: 12m 33s\n",
      "11:\tlearn: 0.5745418\ttotal: 23.1s\tremaining: 12m 26s\n",
      "12:\tlearn: 0.5771030\ttotal: 24.9s\tremaining: 12m 22s\n",
      "13:\tlearn: 0.5876011\ttotal: 26.8s\tremaining: 12m 17s\n",
      "14:\tlearn: 0.5887937\ttotal: 28.6s\tremaining: 12m 12s\n",
      "15:\tlearn: 0.5897872\ttotal: 30.4s\tremaining: 12m 8s\n",
      "16:\tlearn: 0.5812455\ttotal: 32.2s\tremaining: 12m 5s\n",
      "17:\tlearn: 0.5929869\ttotal: 34s\tremaining: 12m 1s\n",
      "18:\tlearn: 0.6049877\ttotal: 35.9s\tremaining: 11m 59s\n",
      "19:\tlearn: 0.6064435\ttotal: 37.7s\tremaining: 11m 55s\n",
      "20:\tlearn: 0.6105823\ttotal: 39.5s\tremaining: 11m 52s\n",
      "21:\tlearn: 0.6203543\ttotal: 41.2s\tremaining: 11m 48s\n",
      "22:\tlearn: 0.6222807\ttotal: 42.9s\tremaining: 11m 43s\n",
      "23:\tlearn: 0.6231302\ttotal: 44.7s\tremaining: 11m 41s\n",
      "24:\tlearn: 0.6255354\ttotal: 46.5s\tremaining: 11m 37s\n",
      "25:\tlearn: 0.6284533\ttotal: 48.3s\tremaining: 11m 34s\n",
      "26:\tlearn: 0.6363947\ttotal: 50s\tremaining: 11m 31s\n",
      "27:\tlearn: 0.6450214\ttotal: 51.8s\tremaining: 11m 27s\n",
      "28:\tlearn: 0.6453536\ttotal: 53.5s\tremaining: 11m 23s\n",
      "29:\tlearn: 0.6465290\ttotal: 55.4s\tremaining: 11m 22s\n",
      "30:\tlearn: 0.6485062\ttotal: 57.1s\tremaining: 11m 19s\n",
      "31:\tlearn: 0.6478682\ttotal: 58.9s\tremaining: 11m 17s\n",
      "32:\tlearn: 0.6502570\ttotal: 1m\tremaining: 11m 15s\n",
      "33:\tlearn: 0.6551236\ttotal: 1m 2s\tremaining: 11m 12s\n",
      "34:\tlearn: 0.6518889\ttotal: 1m 4s\tremaining: 11m 8s\n",
      "35:\tlearn: 0.6532541\ttotal: 1m 5s\tremaining: 11m 6s\n",
      "36:\tlearn: 0.6551213\ttotal: 1m 7s\tremaining: 11m 3s\n",
      "37:\tlearn: 0.6560775\ttotal: 1m 9s\tremaining: 11m 1s\n",
      "38:\tlearn: 0.6596901\ttotal: 1m 11s\tremaining: 10m 58s\n",
      "39:\tlearn: 0.6606329\ttotal: 1m 12s\tremaining: 10m 55s\n",
      "40:\tlearn: 0.6617115\ttotal: 1m 14s\tremaining: 10m 54s\n",
      "41:\tlearn: 0.6693672\ttotal: 1m 16s\tremaining: 10m 52s\n",
      "42:\tlearn: 0.6705501\ttotal: 1m 18s\tremaining: 10m 49s\n",
      "43:\tlearn: 0.6712084\ttotal: 1m 19s\tremaining: 10m 46s\n",
      "44:\tlearn: 0.6723056\ttotal: 1m 21s\tremaining: 10m 43s\n",
      "45:\tlearn: 0.6734882\ttotal: 1m 23s\tremaining: 10m 41s\n",
      "46:\tlearn: 0.6740120\ttotal: 1m 25s\tremaining: 10m 38s\n",
      "47:\tlearn: 0.6753623\ttotal: 1m 26s\tremaining: 10m 36s\n",
      "48:\tlearn: 0.6760600\ttotal: 1m 28s\tremaining: 10m 34s\n",
      "49:\tlearn: 0.6743143\ttotal: 1m 30s\tremaining: 10m 32s\n",
      "50:\tlearn: 0.6769757\ttotal: 1m 32s\tremaining: 10m 30s\n",
      "51:\tlearn: 0.6750577\ttotal: 1m 33s\tremaining: 10m 28s\n",
      "52:\tlearn: 0.6787942\ttotal: 1m 35s\tremaining: 10m 27s\n",
      "53:\tlearn: 0.6817765\ttotal: 1m 37s\tremaining: 10m 24s\n",
      "54:\tlearn: 0.6854865\ttotal: 1m 39s\tremaining: 10m 22s\n",
      "55:\tlearn: 0.6868555\ttotal: 1m 40s\tremaining: 10m 20s\n",
      "56:\tlearn: 0.6881314\ttotal: 1m 42s\tremaining: 10m 17s\n",
      "57:\tlearn: 0.6886848\ttotal: 1m 44s\tremaining: 10m 15s\n",
      "58:\tlearn: 0.6894980\ttotal: 1m 46s\tremaining: 10m 13s\n",
      "59:\tlearn: 0.6889410\ttotal: 1m 47s\tremaining: 10m 11s\n",
      "60:\tlearn: 0.6909375\ttotal: 1m 49s\tremaining: 10m 8s\n",
      "61:\tlearn: 0.6914479\ttotal: 1m 51s\tremaining: 10m 6s\n",
      "62:\tlearn: 0.6927918\ttotal: 1m 52s\tremaining: 10m 4s\n",
      "63:\tlearn: 0.6940178\ttotal: 1m 54s\tremaining: 10m 2s\n",
      "64:\tlearn: 0.6948296\ttotal: 1m 56s\tremaining: 9m 59s\n",
      "65:\tlearn: 0.6949087\ttotal: 1m 58s\tremaining: 9m 57s\n",
      "66:\tlearn: 0.6987796\ttotal: 1m 59s\tremaining: 9m 55s\n",
      "67:\tlearn: 0.6992962\ttotal: 2m 1s\tremaining: 9m 53s\n",
      "68:\tlearn: 0.6997547\ttotal: 2m 3s\tremaining: 9m 51s\n",
      "69:\tlearn: 0.7010961\ttotal: 2m 5s\tremaining: 9m 49s\n",
      "70:\tlearn: 0.7015214\ttotal: 2m 6s\tremaining: 9m 47s\n",
      "71:\tlearn: 0.7029429\ttotal: 2m 8s\tremaining: 9m 45s\n",
      "72:\tlearn: 0.7031934\ttotal: 2m 10s\tremaining: 9m 43s\n",
      "73:\tlearn: 0.7057992\ttotal: 2m 11s\tremaining: 9m 41s\n",
      "74:\tlearn: 0.7072624\ttotal: 2m 13s\tremaining: 9m 39s\n",
      "75:\tlearn: 0.7079249\ttotal: 2m 15s\tremaining: 9m 37s\n",
      "76:\tlearn: 0.7064108\ttotal: 2m 17s\tremaining: 9m 35s\n",
      "77:\tlearn: 0.7080610\ttotal: 2m 18s\tremaining: 9m 33s\n",
      "78:\tlearn: 0.7071575\ttotal: 2m 20s\tremaining: 9m 30s\n",
      "79:\tlearn: 0.7075266\ttotal: 2m 22s\tremaining: 9m 28s\n",
      "80:\tlearn: 0.7111083\ttotal: 2m 23s\tremaining: 9m 26s\n",
      "81:\tlearn: 0.7114463\ttotal: 2m 25s\tremaining: 9m 24s\n",
      "82:\tlearn: 0.7135294\ttotal: 2m 27s\tremaining: 9m 22s\n",
      "83:\tlearn: 0.7143586\ttotal: 2m 29s\tremaining: 9m 20s\n",
      "84:\tlearn: 0.7170676\ttotal: 2m 30s\tremaining: 9m 18s\n",
      "85:\tlearn: 0.7179650\ttotal: 2m 32s\tremaining: 9m 16s\n",
      "86:\tlearn: 0.7184441\ttotal: 2m 34s\tremaining: 9m 14s\n",
      "87:\tlearn: 0.7188056\ttotal: 2m 35s\tremaining: 9m 12s\n",
      "88:\tlearn: 0.7191311\ttotal: 2m 37s\tremaining: 9m 11s\n",
      "89:\tlearn: 0.7201879\ttotal: 2m 39s\tremaining: 9m 9s\n",
      "90:\tlearn: 0.7207562\ttotal: 2m 41s\tremaining: 9m 7s\n",
      "91:\tlearn: 0.7212678\ttotal: 2m 42s\tremaining: 9m 5s\n",
      "92:\tlearn: 0.7214757\ttotal: 2m 44s\tremaining: 9m 3s\n",
      "93:\tlearn: 0.7217645\ttotal: 2m 46s\tremaining: 9m 1s\n",
      "94:\tlearn: 0.7230136\ttotal: 2m 48s\tremaining: 9m\n",
      "95:\tlearn: 0.7231402\ttotal: 2m 50s\tremaining: 8m 58s\n",
      "96:\tlearn: 0.7246853\ttotal: 2m 51s\tremaining: 8m 56s\n",
      "97:\tlearn: 0.7249162\ttotal: 2m 53s\tremaining: 8m 54s\n",
      "98:\tlearn: 0.7255038\ttotal: 2m 55s\tremaining: 8m 52s\n",
      "99:\tlearn: 0.7265388\ttotal: 2m 57s\tremaining: 8m 51s\n",
      "100:\tlearn: 0.7257006\ttotal: 2m 58s\tremaining: 8m 49s\n",
      "101:\tlearn: 0.7257810\ttotal: 3m\tremaining: 8m 47s\n",
      "102:\tlearn: 0.7260568\ttotal: 3m 2s\tremaining: 8m 45s\n",
      "103:\tlearn: 0.7261372\ttotal: 3m 3s\tremaining: 8m 43s\n",
      "104:\tlearn: 0.7276507\ttotal: 3m 5s\tremaining: 8m 41s\n",
      "105:\tlearn: 0.7277309\ttotal: 3m 7s\tremaining: 8m 39s\n",
      "106:\tlearn: 0.7282917\ttotal: 3m 9s\tremaining: 8m 37s\n",
      "107:\tlearn: 0.7288755\ttotal: 3m 10s\tremaining: 8m 35s\n",
      "108:\tlearn: 0.7299132\ttotal: 3m 12s\tremaining: 8m 34s\n",
      "109:\tlearn: 0.7300270\ttotal: 3m 14s\tremaining: 8m 32s\n",
      "110:\tlearn: 0.7300270\ttotal: 3m 16s\tremaining: 8m 30s\n",
      "111:\tlearn: 0.7306194\ttotal: 3m 17s\tremaining: 8m 28s\n",
      "112:\tlearn: 0.7313367\ttotal: 3m 19s\tremaining: 8m 27s\n",
      "113:\tlearn: 0.7335380\ttotal: 3m 21s\tremaining: 8m 25s\n",
      "114:\tlearn: 0.7329154\ttotal: 3m 23s\tremaining: 8m 23s\n",
      "115:\tlearn: 0.7329948\ttotal: 3m 24s\tremaining: 8m 21s\n",
      "116:\tlearn: 0.7335965\ttotal: 3m 26s\tremaining: 8m 19s\n",
      "117:\tlearn: 0.7352684\ttotal: 3m 28s\tremaining: 8m 17s\n",
      "118:\tlearn: 0.7353144\ttotal: 3m 30s\tremaining: 8m 15s\n",
      "119:\tlearn: 0.7353401\ttotal: 3m 31s\tremaining: 8m 14s\n",
      "120:\tlearn: 0.7359470\ttotal: 3m 33s\tremaining: 8m 12s\n",
      "121:\tlearn: 0.7366908\ttotal: 3m 35s\tremaining: 8m 10s\n",
      "122:\tlearn: 0.7371511\ttotal: 3m 37s\tremaining: 8m 9s\n",
      "123:\tlearn: 0.7376241\ttotal: 3m 38s\tremaining: 8m 7s\n",
      "124:\tlearn: 0.7388972\ttotal: 3m 40s\tremaining: 8m 5s\n",
      "125:\tlearn: 0.7394476\ttotal: 3m 42s\tremaining: 8m 3s\n",
      "126:\tlearn: 0.7396833\ttotal: 3m 43s\tremaining: 8m 1s\n",
      "127:\tlearn: 0.7404823\ttotal: 3m 45s\tremaining: 7m 59s\n",
      "128:\tlearn: 0.7403205\ttotal: 3m 47s\tremaining: 7m 57s\n",
      "129:\tlearn: 0.7405884\ttotal: 3m 49s\tremaining: 7m 55s\n",
      "130:\tlearn: 0.7414051\ttotal: 3m 50s\tremaining: 7m 53s\n",
      "131:\tlearn: 0.7416402\ttotal: 3m 52s\tremaining: 7m 52s\n",
      "132:\tlearn: 0.7430810\ttotal: 3m 54s\tremaining: 7m 50s\n",
      "133:\tlearn: 0.7433155\ttotal: 3m 55s\tremaining: 7m 48s\n",
      "134:\tlearn: 0.7442063\ttotal: 3m 57s\tremaining: 7m 46s\n",
      "135:\tlearn: 0.7452514\ttotal: 3m 59s\tremaining: 7m 44s\n",
      "136:\tlearn: 0.7459983\ttotal: 4m 1s\tremaining: 7m 42s\n",
      "137:\tlearn: 0.7462298\ttotal: 4m 2s\tremaining: 7m 40s\n",
      "138:\tlearn: 0.7470388\ttotal: 4m 4s\tremaining: 7m 39s\n",
      "139:\tlearn: 0.7476288\ttotal: 4m 6s\tremaining: 7m 37s\n",
      "140:\tlearn: 0.7479080\ttotal: 4m 8s\tremaining: 7m 35s\n",
      "141:\tlearn: 0.7487307\ttotal: 4m 9s\tremaining: 7m 33s\n",
      "142:\tlearn: 0.7493191\ttotal: 4m 11s\tremaining: 7m 31s\n",
      "143:\tlearn: 0.7493812\ttotal: 4m 13s\tremaining: 7m 30s\n",
      "144:\tlearn: 0.7502164\ttotal: 4m 15s\tremaining: 7m 28s\n",
      "145:\tlearn: 0.7524972\ttotal: 4m 16s\tremaining: 7m 26s\n",
      "146:\tlearn: 0.7537732\ttotal: 4m 18s\tremaining: 7m 24s\n",
      "147:\tlearn: 0.7552465\ttotal: 4m 20s\tremaining: 7m 23s\n",
      "148:\tlearn: 0.7551699\ttotal: 4m 21s\tremaining: 7m 21s\n",
      "149:\tlearn: 0.7567601\ttotal: 4m 23s\tremaining: 7m 19s\n",
      "150:\tlearn: 0.7571718\ttotal: 4m 25s\tremaining: 7m 17s\n",
      "151:\tlearn: 0.7575534\ttotal: 4m 27s\tremaining: 7m 15s\n",
      "152:\tlearn: 0.7575702\ttotal: 4m 28s\tremaining: 7m 14s\n",
      "153:\tlearn: 0.7579516\ttotal: 4m 30s\tremaining: 7m 12s\n",
      "154:\tlearn: 0.7588026\ttotal: 4m 32s\tremaining: 7m 10s\n",
      "155:\tlearn: 0.7594114\ttotal: 4m 34s\tremaining: 7m 8s\n",
      "156:\tlearn: 0.7595635\ttotal: 4m 35s\tremaining: 7m 6s\n",
      "157:\tlearn: 0.7602354\ttotal: 4m 37s\tremaining: 7m 5s\n",
      "158:\tlearn: 0.7602354\ttotal: 4m 39s\tremaining: 7m 3s\n",
      "159:\tlearn: 0.7606445\ttotal: 4m 41s\tremaining: 7m 1s\n",
      "160:\tlearn: 0.7610413\ttotal: 4m 42s\tremaining: 6m 59s\n",
      "161:\tlearn: 0.7614965\ttotal: 4m 44s\tremaining: 6m 58s\n",
      "162:\tlearn: 0.7636341\ttotal: 4m 46s\tremaining: 6m 56s\n",
      "163:\tlearn: 0.7636341\ttotal: 4m 47s\tremaining: 6m 54s\n",
      "164:\tlearn: 0.7636341\ttotal: 4m 49s\tremaining: 6m 52s\n",
      "165:\tlearn: 0.7639364\ttotal: 4m 51s\tremaining: 6m 50s\n",
      "166:\tlearn: 0.7638609\ttotal: 4m 53s\tremaining: 6m 48s\n",
      "167:\tlearn: 0.7638787\ttotal: 4m 54s\tremaining: 6m 47s\n",
      "168:\tlearn: 0.7644184\ttotal: 4m 56s\tremaining: 6m 45s\n",
      "169:\tlearn: 0.7646448\ttotal: 4m 58s\tremaining: 6m 43s\n",
      "170:\tlearn: 0.7652163\ttotal: 5m\tremaining: 6m 41s\n",
      "171:\tlearn: 0.7652918\ttotal: 5m 1s\tremaining: 6m 40s\n",
      "172:\tlearn: 0.7658483\ttotal: 5m 3s\tremaining: 6m 38s\n",
      "173:\tlearn: 0.7658951\ttotal: 5m 5s\tremaining: 6m 36s\n",
      "174:\tlearn: 0.7661497\ttotal: 5m 6s\tremaining: 6m 34s\n",
      "175:\tlearn: 0.7660744\ttotal: 5m 8s\tremaining: 6m 32s\n",
      "176:\tlearn: 0.7660744\ttotal: 5m 10s\tremaining: 6m 30s\n",
      "177:\tlearn: 0.7667989\ttotal: 5m 11s\tremaining: 6m 28s\n",
      "178:\tlearn: 0.7670531\ttotal: 5m 13s\tremaining: 6m 27s\n",
      "179:\tlearn: 0.7663369\ttotal: 5m 15s\tremaining: 6m 25s\n",
      "180:\tlearn: 0.7671651\ttotal: 5m 17s\tremaining: 6m 23s\n",
      "181:\tlearn: 0.7670898\ttotal: 5m 18s\tremaining: 6m 22s\n",
      "182:\tlearn: 0.7670898\ttotal: 5m 20s\tremaining: 6m 20s\n",
      "183:\tlearn: 0.7671651\ttotal: 5m 22s\tremaining: 6m 18s\n",
      "184:\tlearn: 0.7672403\ttotal: 5m 23s\tremaining: 6m 16s\n",
      "185:\tlearn: 0.7683588\ttotal: 5m 25s\tremaining: 6m 14s\n",
      "186:\tlearn: 0.7685089\ttotal: 5m 27s\tremaining: 6m 13s\n",
      "187:\tlearn: 0.7695025\ttotal: 5m 29s\tremaining: 6m 11s\n",
      "188:\tlearn: 0.7695025\ttotal: 5m 30s\tremaining: 6m 9s\n",
      "189:\tlearn: 0.7698770\ttotal: 5m 32s\tremaining: 6m 7s\n",
      "190:\tlearn: 0.7704290\ttotal: 5m 34s\tremaining: 6m 6s\n",
      "191:\tlearn: 0.7705127\ttotal: 5m 36s\tremaining: 6m 4s\n",
      "192:\tlearn: 0.7706344\ttotal: 5m 38s\tremaining: 6m 2s\n",
      "193:\tlearn: 0.7709613\ttotal: 5m 39s\tremaining: 6m\n",
      "194:\tlearn: 0.7709613\ttotal: 5m 41s\tremaining: 5m 58s\n",
      "195:\tlearn: 0.7711854\ttotal: 5m 43s\tremaining: 5m 57s\n",
      "196:\tlearn: 0.7719042\ttotal: 5m 44s\tremaining: 5m 55s\n",
      "197:\tlearn: 0.7722772\ttotal: 5m 46s\tremaining: 5m 53s\n",
      "198:\tlearn: 0.7725369\ttotal: 5m 48s\tremaining: 5m 51s\n",
      "199:\tlearn: 0.7727328\ttotal: 5m 50s\tremaining: 5m 50s\n",
      "200:\tlearn: 0.7731052\ttotal: 5m 51s\tremaining: 5m 48s\n",
      "201:\tlearn: 0.7742092\ttotal: 5m 53s\tremaining: 5m 46s\n",
      "202:\tlearn: 0.7742835\ttotal: 5m 55s\tremaining: 5m 45s\n",
      "203:\tlearn: 0.7748031\ttotal: 5m 57s\tremaining: 5m 43s\n",
      "204:\tlearn: 0.7748774\ttotal: 5m 59s\tremaining: 5m 41s\n",
      "205:\tlearn: 0.7754360\ttotal: 6m 1s\tremaining: 5m 39s\n",
      "206:\tlearn: 0.7755646\ttotal: 6m 2s\tremaining: 5m 38s\n",
      "207:\tlearn: 0.7759622\ttotal: 6m 4s\tremaining: 5m 36s\n",
      "208:\tlearn: 0.7759622\ttotal: 6m 6s\tremaining: 5m 34s\n",
      "209:\tlearn: 0.7765546\ttotal: 6m 8s\tremaining: 5m 33s\n",
      "210:\tlearn: 0.7771594\ttotal: 6m 9s\tremaining: 5m 31s\n",
      "211:\tlearn: 0.7775762\ttotal: 6m 11s\tremaining: 5m 29s\n",
      "212:\tlearn: 0.7774215\ttotal: 6m 13s\tremaining: 5m 27s\n",
      "213:\tlearn: 0.7777912\ttotal: 6m 15s\tremaining: 5m 26s\n",
      "214:\tlearn: 0.7785770\ttotal: 6m 16s\tremaining: 5m 24s\n",
      "215:\tlearn: 0.7785032\ttotal: 6m 18s\tremaining: 5m 22s\n",
      "216:\tlearn: 0.7786241\ttotal: 6m 20s\tremaining: 5m 20s\n",
      "217:\tlearn: 0.7787718\ttotal: 6m 22s\tremaining: 5m 18s\n",
      "218:\tlearn: 0.7790199\ttotal: 6m 23s\tremaining: 5m 17s\n",
      "219:\tlearn: 0.7789461\ttotal: 6m 25s\tremaining: 5m 15s\n",
      "220:\tlearn: 0.7791063\ttotal: 6m 27s\tremaining: 5m 13s\n",
      "221:\tlearn: 0.7794215\ttotal: 6m 29s\tremaining: 5m 12s\n",
      "222:\tlearn: 0.7794686\ttotal: 6m 31s\tremaining: 5m 10s\n",
      "223:\tlearn: 0.7795423\ttotal: 6m 32s\tremaining: 5m 8s\n",
      "224:\tlearn: 0.7799843\ttotal: 6m 34s\tremaining: 5m 6s\n",
      "225:\tlearn: 0.7803643\ttotal: 6m 36s\tremaining: 5m 5s\n",
      "226:\tlearn: 0.7807319\ttotal: 6m 38s\tremaining: 5m 3s\n",
      "227:\tlearn: 0.7805378\ttotal: 6m 39s\tremaining: 5m 1s\n",
      "228:\tlearn: 0.7806848\ttotal: 6m 41s\tremaining: 4m 59s\n",
      "229:\tlearn: 0.7807790\ttotal: 6m 43s\tremaining: 4m 58s\n",
      "230:\tlearn: 0.7809260\ttotal: 6m 45s\tremaining: 4m 56s\n",
      "231:\tlearn: 0.7812199\ttotal: 6m 46s\tremaining: 4m 54s\n",
      "232:\tlearn: 0.7812670\ttotal: 6m 48s\tremaining: 4m 52s\n",
      "233:\tlearn: 0.7813404\ttotal: 6m 50s\tremaining: 4m 51s\n",
      "234:\tlearn: 0.7815136\ttotal: 6m 52s\tremaining: 4m 49s\n",
      "235:\tlearn: 0.7817338\ttotal: 6m 53s\tremaining: 4m 47s\n",
      "236:\tlearn: 0.7822683\ttotal: 6m 55s\tremaining: 4m 45s\n",
      "237:\tlearn: 0.7825563\ttotal: 6m 57s\tremaining: 4m 44s\n",
      "238:\tlearn: 0.7827291\ttotal: 6m 59s\tremaining: 4m 42s\n",
      "239:\tlearn: 0.7827291\ttotal: 7m 1s\tremaining: 4m 40s\n",
      "240:\tlearn: 0.7835349\ttotal: 7m 2s\tremaining: 4m 38s\n",
      "241:\tlearn: 0.7842878\ttotal: 7m 4s\tremaining: 4m 37s\n",
      "242:\tlearn: 0.7847523\ttotal: 7m 6s\tremaining: 4m 35s\n",
      "243:\tlearn: 0.7847264\ttotal: 7m 8s\tremaining: 4m 33s\n",
      "244:\tlearn: 0.7856499\ttotal: 7m 9s\tremaining: 4m 31s\n",
      "245:\tlearn: 0.7858903\ttotal: 7m 11s\tremaining: 4m 30s\n",
      "246:\tlearn: 0.7864008\ttotal: 7m 13s\tremaining: 4m 28s\n",
      "247:\tlearn: 0.7866194\ttotal: 7m 15s\tremaining: 4m 26s\n",
      "248:\tlearn: 0.7866923\ttotal: 7m 17s\tremaining: 4m 25s\n",
      "249:\tlearn: 0.7868852\ttotal: 7m 19s\tremaining: 4m 23s\n",
      "250:\tlearn: 0.7868852\ttotal: 7m 20s\tremaining: 4m 21s\n",
      "251:\tlearn: 0.7875878\ttotal: 7m 22s\tremaining: 4m 19s\n",
      "252:\tlearn: 0.7890414\ttotal: 7m 24s\tremaining: 4m 18s\n",
      "253:\tlearn: 0.7888489\ttotal: 7m 26s\tremaining: 4m 16s\n",
      "254:\tlearn: 0.7892119\ttotal: 7m 28s\tremaining: 4m 14s\n",
      "255:\tlearn: 0.7895746\ttotal: 7m 29s\tremaining: 4m 12s\n",
      "256:\tlearn: 0.7906865\ttotal: 7m 31s\tremaining: 4m 11s\n",
      "257:\tlearn: 0.7912180\ttotal: 7m 33s\tremaining: 4m 9s\n",
      "258:\tlearn: 0.7917464\ttotal: 7m 35s\tremaining: 4m 7s\n",
      "259:\tlearn: 0.7919383\ttotal: 7m 36s\tremaining: 4m 6s\n",
      "260:\tlearn: 0.7924167\ttotal: 7m 38s\tremaining: 4m 4s\n",
      "261:\tlearn: 0.7928477\ttotal: 7m 40s\tremaining: 4m 2s\n",
      "262:\tlearn: 0.7928477\ttotal: 7m 42s\tremaining: 4m\n",
      "263:\tlearn: 0.7931364\ttotal: 7m 44s\tremaining: 3m 59s\n",
      "264:\tlearn: 0.7932086\ttotal: 7m 45s\tremaining: 3m 57s\n",
      "265:\tlearn: 0.7934477\ttotal: 7m 47s\tremaining: 3m 55s\n",
      "266:\tlearn: 0.7933756\ttotal: 7m 49s\tremaining: 3m 53s\n",
      "267:\tlearn: 0.7937608\ttotal: 7m 51s\tremaining: 3m 52s\n",
      "268:\tlearn: 0.7940491\ttotal: 7m 52s\tremaining: 3m 50s\n",
      "269:\tlearn: 0.7945762\ttotal: 7m 54s\tremaining: 3m 48s\n",
      "270:\tlearn: 0.7946482\ttotal: 7m 56s\tremaining: 3m 46s\n",
      "271:\tlearn: 0.7946482\ttotal: 7m 58s\tremaining: 3m 44s\n",
      "272:\tlearn: 0.7950555\ttotal: 7m 59s\tremaining: 3m 43s\n",
      "273:\tlearn: 0.7953433\ttotal: 8m 1s\tremaining: 3m 41s\n",
      "274:\tlearn: 0.7954627\ttotal: 8m 3s\tremaining: 3m 39s\n",
      "275:\tlearn: 0.7956065\ttotal: 8m 4s\tremaining: 3m 37s\n",
      "276:\tlearn: 0.7961119\ttotal: 8m 6s\tremaining: 3m 36s\n",
      "277:\tlearn: 0.7964697\ttotal: 8m 8s\tremaining: 3m 34s\n",
      "278:\tlearn: 0.7966607\ttotal: 8m 10s\tremaining: 3m 32s\n",
      "279:\tlearn: 0.7970427\ttotal: 8m 11s\tremaining: 3m 30s\n",
      "280:\tlearn: 0.7974495\ttotal: 8m 13s\tremaining: 3m 29s\n",
      "281:\tlearn: 0.7975212\ttotal: 8m 15s\tremaining: 3m 27s\n",
      "282:\tlearn: 0.7975921\ttotal: 8m 17s\tremaining: 3m 25s\n",
      "283:\tlearn: 0.7974254\ttotal: 8m 19s\tremaining: 3m 23s\n",
      "284:\tlearn: 0.7974970\ttotal: 8m 20s\tremaining: 3m 22s\n",
      "285:\tlearn: 0.7976644\ttotal: 8m 22s\tremaining: 3m 20s\n",
      "286:\tlearn: 0.7980935\ttotal: 8m 24s\tremaining: 3m 18s\n",
      "287:\tlearn: 0.7981892\ttotal: 8m 26s\tremaining: 3m 16s\n",
      "288:\tlearn: 0.7989040\ttotal: 8m 27s\tremaining: 3m 15s\n",
      "289:\tlearn: 0.7992855\ttotal: 8m 29s\tremaining: 3m 13s\n",
      "290:\tlearn: 0.7995477\ttotal: 8m 31s\tremaining: 3m 11s\n",
      "291:\tlearn: 0.7998334\ttotal: 8m 33s\tremaining: 3m 9s\n",
      "292:\tlearn: 0.7998810\ttotal: 8m 34s\tremaining: 3m 8s\n",
      "293:\tlearn: 0.8001666\ttotal: 8m 36s\tremaining: 3m 6s\n",
      "294:\tlearn: 0.8000476\ttotal: 8m 38s\tremaining: 3m 4s\n",
      "295:\tlearn: 0.8001190\ttotal: 8m 40s\tremaining: 3m 2s\n",
      "296:\tlearn: 0.8004520\ttotal: 8m 41s\tremaining: 3m\n",
      "297:\tlearn: 0.8006660\ttotal: 8m 43s\tremaining: 2m 59s\n",
      "298:\tlearn: 0.8012367\ttotal: 8m 45s\tremaining: 2m 57s\n",
      "299:\tlearn: 0.8013552\ttotal: 8m 46s\tremaining: 2m 55s\n",
      "300:\tlearn: 0.8012127\ttotal: 8m 48s\tremaining: 2m 53s\n",
      "301:\tlearn: 0.8012127\ttotal: 8m 50s\tremaining: 2m 52s\n",
      "302:\tlearn: 0.8013792\ttotal: 8m 52s\tremaining: 2m 50s\n",
      "303:\tlearn: 0.8014505\ttotal: 8m 53s\tremaining: 2m 48s\n",
      "304:\tlearn: 0.8014028\ttotal: 8m 55s\tremaining: 2m 46s\n",
      "305:\tlearn: 0.8014741\ttotal: 8m 57s\tremaining: 2m 45s\n",
      "306:\tlearn: 0.8015453\ttotal: 8m 59s\tremaining: 2m 43s\n",
      "307:\tlearn: 0.8016165\ttotal: 9m\tremaining: 2m 41s\n",
      "308:\tlearn: 0.8016165\ttotal: 9m 2s\tremaining: 2m 39s\n",
      "309:\tlearn: 0.8016637\ttotal: 9m 4s\tremaining: 2m 38s\n",
      "310:\tlearn: 0.8019484\ttotal: 9m 6s\tremaining: 2m 36s\n",
      "311:\tlearn: 0.8022330\ttotal: 9m 7s\tremaining: 2m 34s\n",
      "312:\tlearn: 0.8029674\ttotal: 9m 9s\tremaining: 2m 32s\n",
      "313:\tlearn: 0.8031804\ttotal: 9m 11s\tremaining: 2m 31s\n",
      "314:\tlearn: 0.8031804\ttotal: 9m 13s\tremaining: 2m 29s\n",
      "315:\tlearn: 0.8033935\ttotal: 9m 15s\tremaining: 2m 27s\n",
      "316:\tlearn: 0.8033935\ttotal: 9m 16s\tremaining: 2m 25s\n",
      "317:\tlearn: 0.8032515\ttotal: 9m 18s\tremaining: 2m 24s\n",
      "318:\tlearn: 0.8034411\ttotal: 9m 20s\tremaining: 2m 22s\n",
      "319:\tlearn: 0.8036541\ttotal: 9m 22s\tremaining: 2m 20s\n",
      "320:\tlearn: 0.8038436\ttotal: 9m 23s\tremaining: 2m 18s\n",
      "321:\tlearn: 0.8043388\ttotal: 9m 25s\tremaining: 2m 16s\n",
      "322:\tlearn: 0.8043865\ttotal: 9m 27s\tremaining: 2m 15s\n",
      "323:\tlearn: 0.8049070\ttotal: 9m 29s\tremaining: 2m 13s\n",
      "324:\tlearn: 0.8048361\ttotal: 9m 30s\tremaining: 2m 11s\n",
      "325:\tlearn: 0.8050486\ttotal: 9m 32s\tremaining: 2m 9s\n",
      "326:\tlearn: 0.8051902\ttotal: 9m 34s\tremaining: 2m 8s\n",
      "327:\tlearn: 0.8051902\ttotal: 9m 36s\tremaining: 2m 6s\n",
      "328:\tlearn: 0.8054733\ttotal: 9m 38s\tremaining: 2m 4s\n",
      "329:\tlearn: 0.8056148\ttotal: 9m 39s\tremaining: 2m 2s\n",
      "330:\tlearn: 0.8056148\ttotal: 9m 41s\tremaining: 2m 1s\n",
      "331:\tlearn: 0.8054025\ttotal: 9m 43s\tremaining: 1m 59s\n",
      "332:\tlearn: 0.8054025\ttotal: 9m 44s\tremaining: 1m 57s\n",
      "333:\tlearn: 0.8054025\ttotal: 9m 46s\tremaining: 1m 55s\n",
      "334:\tlearn: 0.8056625\ttotal: 9m 48s\tremaining: 1m 54s\n",
      "335:\tlearn: 0.8055210\ttotal: 9m 50s\tremaining: 1m 52s\n",
      "336:\tlearn: 0.8056625\ttotal: 9m 51s\tremaining: 1m 50s\n",
      "337:\tlearn: 0.8056625\ttotal: 9m 53s\tremaining: 1m 48s\n",
      "338:\tlearn: 0.8056625\ttotal: 9m 55s\tremaining: 1m 47s\n",
      "339:\tlearn: 0.8057315\ttotal: 9m 57s\tremaining: 1m 45s\n",
      "340:\tlearn: 0.8057281\ttotal: 9m 59s\tremaining: 1m 43s\n",
      "341:\tlearn: 0.8057758\ttotal: 10m\tremaining: 1m 41s\n",
      "342:\tlearn: 0.8059172\ttotal: 10m 2s\tremaining: 1m 40s\n",
      "343:\tlearn: 0.8062245\ttotal: 10m 4s\tremaining: 1m 38s\n",
      "344:\tlearn: 0.8062722\ttotal: 10m 5s\tremaining: 1m 36s\n",
      "345:\tlearn: 0.8062722\ttotal: 10m 7s\tremaining: 1m 34s\n",
      "346:\tlearn: 0.8062722\ttotal: 10m 9s\tremaining: 1m 33s\n",
      "347:\tlearn: 0.8064344\ttotal: 10m 11s\tremaining: 1m 31s\n",
      "348:\tlearn: 0.8067167\ttotal: 10m 12s\tremaining: 1m 29s\n",
      "349:\tlearn: 0.8066462\ttotal: 10m 14s\tremaining: 1m 27s\n",
      "350:\tlearn: 0.8067873\ttotal: 10m 16s\tremaining: 1m 26s\n",
      "351:\tlearn: 0.8067873\ttotal: 10m 18s\tremaining: 1m 24s\n",
      "352:\tlearn: 0.8069989\ttotal: 10m 20s\tremaining: 1m 22s\n",
      "353:\tlearn: 0.8075628\ttotal: 10m 21s\tremaining: 1m 20s\n",
      "354:\tlearn: 0.8075628\ttotal: 10m 23s\tremaining: 1m 19s\n",
      "355:\tlearn: 0.8075628\ttotal: 10m 25s\tremaining: 1m 17s\n",
      "356:\tlearn: 0.8076105\ttotal: 10m 26s\tremaining: 1m 15s\n",
      "357:\tlearn: 0.8076809\ttotal: 10m 28s\tremaining: 1m 13s\n",
      "358:\tlearn: 0.8076809\ttotal: 10m 30s\tremaining: 1m 12s\n",
      "359:\tlearn: 0.8076809\ttotal: 10m 32s\tremaining: 1m 10s\n",
      "360:\tlearn: 0.8078672\ttotal: 10m 33s\tremaining: 1m 8s\n",
      "361:\tlearn: 0.8078672\ttotal: 10m 35s\tremaining: 1m 6s\n",
      "362:\tlearn: 0.8082693\ttotal: 10m 37s\tremaining: 1m 4s\n",
      "363:\tlearn: 0.8083397\ttotal: 10m 39s\tremaining: 1m 3s\n",
      "364:\tlearn: 0.8083397\ttotal: 10m 40s\tremaining: 1m 1s\n",
      "365:\tlearn: 0.8083397\ttotal: 10m 42s\tremaining: 59.7s\n",
      "366:\tlearn: 0.8083397\ttotal: 10m 44s\tremaining: 57.9s\n",
      "367:\tlearn: 0.8083397\ttotal: 10m 46s\tremaining: 56.2s\n",
      "368:\tlearn: 0.8083397\ttotal: 10m 47s\tremaining: 54.4s\n",
      "369:\tlearn: 0.8084101\ttotal: 10m 49s\tremaining: 52.7s\n",
      "370:\tlearn: 0.8081787\ttotal: 10m 51s\tremaining: 50.9s\n",
      "371:\tlearn: 0.8081787\ttotal: 10m 53s\tremaining: 49.2s\n",
      "372:\tlearn: 0.8081083\ttotal: 10m 54s\tremaining: 47.4s\n",
      "373:\tlearn: 0.8081083\ttotal: 10m 56s\tremaining: 45.6s\n",
      "374:\tlearn: 0.8081083\ttotal: 10m 58s\tremaining: 43.9s\n",
      "375:\tlearn: 0.8081083\ttotal: 10m 59s\tremaining: 42.1s\n",
      "376:\tlearn: 0.8083195\ttotal: 11m 1s\tremaining: 40.4s\n",
      "377:\tlearn: 0.8083195\ttotal: 11m 3s\tremaining: 38.6s\n",
      "378:\tlearn: 0.8083195\ttotal: 11m 5s\tremaining: 36.9s\n",
      "379:\tlearn: 0.8085534\ttotal: 11m 6s\tremaining: 35.1s\n",
      "380:\tlearn: 0.8086011\ttotal: 11m 8s\tremaining: 33.3s\n",
      "381:\tlearn: 0.8086011\ttotal: 11m 10s\tremaining: 31.6s\n",
      "382:\tlearn: 0.8086011\ttotal: 11m 11s\tremaining: 29.8s\n",
      "383:\tlearn: 0.8086011\ttotal: 11m 13s\tremaining: 28.1s\n",
      "384:\tlearn: 0.8086011\ttotal: 11m 15s\tremaining: 26.3s\n",
      "385:\tlearn: 0.8086011\ttotal: 11m 16s\tremaining: 24.6s\n",
      "386:\tlearn: 0.8086011\ttotal: 11m 18s\tremaining: 22.8s\n",
      "387:\tlearn: 0.8089052\ttotal: 11m 20s\tremaining: 21s\n",
      "388:\tlearn: 0.8089052\ttotal: 11m 21s\tremaining: 19.3s\n",
      "389:\tlearn: 0.8089052\ttotal: 11m 23s\tremaining: 17.5s\n",
      "390:\tlearn: 0.8089052\ttotal: 11m 25s\tremaining: 15.8s\n",
      "391:\tlearn: 0.8088348\ttotal: 11m 27s\tremaining: 14s\n",
      "392:\tlearn: 0.8091612\ttotal: 11m 28s\tremaining: 12.3s\n",
      "393:\tlearn: 0.8093720\ttotal: 11m 30s\tremaining: 10.5s\n",
      "394:\tlearn: 0.8093720\ttotal: 11m 32s\tremaining: 8.76s\n",
      "395:\tlearn: 0.8093720\ttotal: 11m 33s\tremaining: 7.01s\n",
      "396:\tlearn: 0.8093720\ttotal: 11m 35s\tremaining: 5.26s\n",
      "397:\tlearn: 0.8093720\ttotal: 11m 37s\tremaining: 3.5s\n",
      "398:\tlearn: 0.8093720\ttotal: 11m 39s\tremaining: 1.75s\n",
      "399:\tlearn: 0.8099369\ttotal: 11m 40s\tremaining: 0us\n",
      "[CV] END clf__depth=7, clf__early_stopping_rounds=10, clf__eval_metric=F1, clf__iterations=400, clf__learning_rate=0.2, clf__loss_function=Logloss, clf__random_seed=42, vect__max_df=10000, vect__min_df=10, vect__stop_words=english; total time=11.8min\n",
      "0:\tlearn: 0.4760727\ttotal: 3.62s\tremaining: 24m 2s\n",
      "1:\tlearn: 0.5397293\ttotal: 6.23s\tremaining: 20m 40s\n",
      "2:\tlearn: 0.5120948\ttotal: 8.86s\tremaining: 19m 33s\n",
      "3:\tlearn: 0.5190878\ttotal: 11.6s\tremaining: 19m 8s\n",
      "4:\tlearn: 0.5425991\ttotal: 14.4s\tremaining: 18m 57s\n",
      "5:\tlearn: 0.5385450\ttotal: 17s\tremaining: 18m 36s\n",
      "6:\tlearn: 0.5565827\ttotal: 19.7s\tremaining: 18m 25s\n",
      "7:\tlearn: 0.5587450\ttotal: 22.4s\tremaining: 18m 18s\n",
      "8:\tlearn: 0.5597432\ttotal: 25s\tremaining: 18m 5s\n",
      "9:\tlearn: 0.5623484\ttotal: 27.6s\tremaining: 17m 54s\n",
      "10:\tlearn: 0.5701894\ttotal: 30.1s\tremaining: 17m 45s\n",
      "11:\tlearn: 0.5668004\ttotal: 32.7s\tremaining: 17m 37s\n",
      "12:\tlearn: 0.5584542\ttotal: 35.3s\tremaining: 17m 29s\n",
      "13:\tlearn: 0.5723912\ttotal: 37.9s\tremaining: 17m 25s\n",
      "14:\tlearn: 0.5845655\ttotal: 40.6s\tremaining: 17m 22s\n",
      "15:\tlearn: 0.5951547\ttotal: 43.4s\tremaining: 17m 22s\n",
      "16:\tlearn: 0.6000377\ttotal: 46s\tremaining: 17m 16s\n",
      "17:\tlearn: 0.5968374\ttotal: 48.6s\tremaining: 17m 10s\n",
      "18:\tlearn: 0.6089959\ttotal: 51.2s\tremaining: 17m 7s\n",
      "19:\tlearn: 0.6098755\ttotal: 53.8s\tremaining: 17m 2s\n",
      "20:\tlearn: 0.6115764\ttotal: 56.3s\tremaining: 16m 56s\n",
      "21:\tlearn: 0.6149207\ttotal: 58.9s\tremaining: 16m 51s\n",
      "22:\tlearn: 0.6158056\ttotal: 1m 1s\tremaining: 16m 45s\n",
      "23:\tlearn: 0.6169878\ttotal: 1m 3s\tremaining: 16m 40s\n",
      "24:\tlearn: 0.6184976\ttotal: 1m 6s\tremaining: 16m 35s\n",
      "25:\tlearn: 0.6201772\ttotal: 1m 8s\tremaining: 16m 29s\n",
      "26:\tlearn: 0.6214908\ttotal: 1m 11s\tremaining: 16m 25s\n",
      "27:\tlearn: 0.6235332\ttotal: 1m 13s\tremaining: 16m 20s\n",
      "28:\tlearn: 0.6258153\ttotal: 1m 16s\tremaining: 16m 16s\n",
      "29:\tlearn: 0.6335687\ttotal: 1m 18s\tremaining: 16m 12s\n",
      "30:\tlearn: 0.6430412\ttotal: 1m 21s\tremaining: 16m 10s\n",
      "31:\tlearn: 0.6443050\ttotal: 1m 24s\tremaining: 16m 6s\n",
      "32:\tlearn: 0.6415641\ttotal: 1m 26s\tremaining: 16m 1s\n",
      "33:\tlearn: 0.6431834\ttotal: 1m 28s\tremaining: 15m 57s\n",
      "34:\tlearn: 0.6442577\ttotal: 1m 31s\tremaining: 15m 53s\n",
      "35:\tlearn: 0.6450885\ttotal: 1m 33s\tremaining: 15m 48s\n",
      "36:\tlearn: 0.6440969\ttotal: 1m 36s\tremaining: 15m 45s\n",
      "37:\tlearn: 0.6456892\ttotal: 1m 38s\tremaining: 15m 41s\n",
      "38:\tlearn: 0.6474307\ttotal: 1m 41s\tremaining: 15m 37s\n",
      "39:\tlearn: 0.6503537\ttotal: 1m 43s\tremaining: 15m 33s\n",
      "40:\tlearn: 0.6548228\ttotal: 1m 46s\tremaining: 15m 29s\n",
      "41:\tlearn: 0.6583173\ttotal: 1m 48s\tremaining: 15m 25s\n",
      "42:\tlearn: 0.6592768\ttotal: 1m 51s\tremaining: 15m 22s\n",
      "43:\tlearn: 0.6631321\ttotal: 1m 53s\tremaining: 15m 19s\n",
      "44:\tlearn: 0.6661335\ttotal: 1m 56s\tremaining: 15m 15s\n",
      "45:\tlearn: 0.6665187\ttotal: 1m 58s\tremaining: 15m 11s\n",
      "46:\tlearn: 0.6678202\ttotal: 2m 1s\tremaining: 15m 8s\n",
      "47:\tlearn: 0.6688533\ttotal: 2m 3s\tremaining: 15m 5s\n",
      "48:\tlearn: 0.6696788\ttotal: 2m 5s\tremaining: 15m 1s\n",
      "49:\tlearn: 0.6708261\ttotal: 2m 8s\tremaining: 14m 57s\n",
      "50:\tlearn: 0.6717652\ttotal: 2m 10s\tremaining: 14m 54s\n",
      "51:\tlearn: 0.6724983\ttotal: 2m 13s\tremaining: 14m 50s\n",
      "52:\tlearn: 0.6752732\ttotal: 2m 15s\tremaining: 14m 47s\n",
      "53:\tlearn: 0.6767023\ttotal: 2m 18s\tremaining: 14m 44s\n",
      "54:\tlearn: 0.6772505\ttotal: 2m 20s\tremaining: 14m 41s\n",
      "55:\tlearn: 0.6779810\ttotal: 2m 23s\tremaining: 14m 39s\n",
      "56:\tlearn: 0.6788789\ttotal: 2m 25s\tremaining: 14m 35s\n",
      "57:\tlearn: 0.6797770\ttotal: 2m 27s\tremaining: 14m 31s\n",
      "58:\tlearn: 0.6804368\ttotal: 2m 30s\tremaining: 14m 27s\n",
      "59:\tlearn: 0.6836052\ttotal: 2m 32s\tremaining: 14m 24s\n",
      "60:\tlearn: 0.6844635\ttotal: 2m 34s\tremaining: 14m 21s\n",
      "61:\tlearn: 0.6890318\ttotal: 2m 37s\tremaining: 14m 18s\n",
      "62:\tlearn: 0.6916277\ttotal: 2m 40s\tremaining: 14m 16s\n",
      "63:\tlearn: 0.6921911\ttotal: 2m 42s\tremaining: 14m 13s\n",
      "64:\tlearn: 0.6927273\ttotal: 2m 45s\tremaining: 14m 10s\n",
      "65:\tlearn: 0.6936286\ttotal: 2m 47s\tremaining: 14m 6s\n",
      "66:\tlearn: 0.6938581\ttotal: 2m 49s\tremaining: 14m 3s\n",
      "67:\tlearn: 0.6951414\ttotal: 2m 52s\tremaining: 14m\n",
      "68:\tlearn: 0.6953294\ttotal: 2m 54s\tremaining: 13m 57s\n",
      "69:\tlearn: 0.6955583\ttotal: 2m 56s\tremaining: 13m 54s\n",
      "70:\tlearn: 0.6965633\ttotal: 2m 59s\tremaining: 13m 50s\n",
      "71:\tlearn: 0.6972714\ttotal: 3m 1s\tremaining: 13m 47s\n",
      "72:\tlearn: 0.6976083\ttotal: 3m 4s\tremaining: 13m 45s\n",
      "73:\tlearn: 0.6978888\ttotal: 3m 6s\tremaining: 13m 42s\n",
      "74:\tlearn: 0.6992514\ttotal: 3m 9s\tremaining: 13m 39s\n",
      "75:\tlearn: 0.6995010\ttotal: 3m 11s\tremaining: 13m 36s\n",
      "76:\tlearn: 0.6998839\ttotal: 3m 13s\tremaining: 13m 33s\n",
      "77:\tlearn: 0.7004727\ttotal: 3m 16s\tremaining: 13m 30s\n",
      "78:\tlearn: 0.7020839\ttotal: 3m 18s\tremaining: 13m 28s\n",
      "79:\tlearn: 0.7029482\ttotal: 3m 21s\tremaining: 13m 25s\n",
      "80:\tlearn: 0.7039226\ttotal: 3m 23s\tremaining: 13m 22s\n",
      "81:\tlearn: 0.7046184\ttotal: 3m 26s\tremaining: 13m 19s\n",
      "82:\tlearn: 0.7049812\ttotal: 3m 28s\tremaining: 13m 16s\n",
      "83:\tlearn: 0.7053136\ttotal: 3m 31s\tremaining: 13m 13s\n",
      "84:\tlearn: 0.7055653\ttotal: 3m 33s\tremaining: 13m 10s\n",
      "85:\tlearn: 0.7057314\ttotal: 3m 35s\tremaining: 13m 7s\n",
      "86:\tlearn: 0.7066718\ttotal: 3m 38s\tremaining: 13m 4s\n",
      "87:\tlearn: 0.7075504\ttotal: 3m 40s\tremaining: 13m 2s\n",
      "88:\tlearn: 0.7081519\ttotal: 3m 43s\tremaining: 12m 59s\n",
      "89:\tlearn: 0.7094272\ttotal: 3m 45s\tremaining: 12m 57s\n",
      "90:\tlearn: 0.7110033\ttotal: 3m 47s\tremaining: 12m 54s\n",
      "91:\tlearn: 0.7124474\ttotal: 3m 50s\tremaining: 12m 51s\n",
      "92:\tlearn: 0.7129150\ttotal: 3m 52s\tremaining: 12m 48s\n",
      "93:\tlearn: 0.7141463\ttotal: 3m 55s\tremaining: 12m 45s\n",
      "94:\tlearn: 0.7155140\ttotal: 3m 57s\tremaining: 12m 42s\n",
      "95:\tlearn: 0.7158278\ttotal: 4m\tremaining: 12m 40s\n",
      "96:\tlearn: 0.7163106\ttotal: 4m 2s\tremaining: 12m 37s\n",
      "97:\tlearn: 0.7175282\ttotal: 4m 4s\tremaining: 12m 34s\n",
      "98:\tlearn: 0.7185442\ttotal: 4m 7s\tremaining: 12m 32s\n",
      "99:\tlearn: 0.7190442\ttotal: 4m 9s\tremaining: 12m 29s\n",
      "100:\tlearn: 0.7193079\ttotal: 4m 12s\tremaining: 12m 27s\n",
      "101:\tlearn: 0.7195714\ttotal: 4m 14s\tremaining: 12m 24s\n",
      "102:\tlearn: 0.7195883\ttotal: 4m 17s\tremaining: 12m 21s\n",
      "103:\tlearn: 0.7198347\ttotal: 4m 19s\tremaining: 12m 19s\n",
      "104:\tlearn: 0.7206000\ttotal: 4m 22s\tremaining: 12m 17s\n",
      "105:\tlearn: 0.7206843\ttotal: 4m 24s\tremaining: 12m 14s\n",
      "106:\tlearn: 0.7217893\ttotal: 4m 27s\tremaining: 12m 11s\n",
      "107:\tlearn: 0.7223720\ttotal: 4m 29s\tremaining: 12m 8s\n",
      "108:\tlearn: 0.7232019\ttotal: 4m 31s\tremaining: 12m 6s\n",
      "109:\tlearn: 0.7236156\ttotal: 4m 34s\tremaining: 12m 3s\n",
      "110:\tlearn: 0.7239914\ttotal: 4m 36s\tremaining: 12m 1s\n",
      "111:\tlearn: 0.7258451\ttotal: 4m 39s\tremaining: 11m 58s\n",
      "112:\tlearn: 0.7261125\ttotal: 4m 41s\tremaining: 11m 55s\n",
      "113:\tlearn: 0.7263799\ttotal: 4m 44s\tremaining: 11m 52s\n",
      "114:\tlearn: 0.7269371\ttotal: 4m 46s\tremaining: 11m 49s\n",
      "115:\tlearn: 0.7273337\ttotal: 4m 48s\tremaining: 11m 47s\n",
      "116:\tlearn: 0.7280117\ttotal: 4m 51s\tremaining: 11m 44s\n",
      "117:\tlearn: 0.7286971\ttotal: 4m 53s\tremaining: 11m 42s\n",
      "118:\tlearn: 0.7288569\ttotal: 4m 56s\tremaining: 11m 39s\n",
      "119:\tlearn: 0.7292827\ttotal: 4m 58s\tremaining: 11m 36s\n",
      "120:\tlearn: 0.7298983\ttotal: 5m\tremaining: 11m 33s\n",
      "121:\tlearn: 0.7304297\ttotal: 5m 3s\tremaining: 11m 31s\n",
      "122:\tlearn: 0.7310812\ttotal: 5m 5s\tremaining: 11m 28s\n",
      "123:\tlearn: 0.7315891\ttotal: 5m 8s\tremaining: 11m 26s\n",
      "124:\tlearn: 0.7321108\ttotal: 5m 10s\tremaining: 11m 23s\n",
      "125:\tlearn: 0.7334251\ttotal: 5m 13s\tremaining: 11m 21s\n",
      "126:\tlearn: 0.7344948\ttotal: 5m 15s\tremaining: 11m 18s\n",
      "127:\tlearn: 0.7350833\ttotal: 5m 18s\tremaining: 11m 16s\n",
      "128:\tlearn: 0.7350833\ttotal: 5m 20s\tremaining: 11m 13s\n",
      "129:\tlearn: 0.7358601\ttotal: 5m 23s\tremaining: 11m 11s\n",
      "130:\tlearn: 0.7370173\ttotal: 5m 25s\tremaining: 11m 8s\n",
      "131:\tlearn: 0.7377220\ttotal: 5m 27s\tremaining: 11m 5s\n",
      "132:\tlearn: 0.7379319\ttotal: 5m 30s\tremaining: 11m 3s\n",
      "133:\tlearn: 0.7395418\ttotal: 5m 33s\tremaining: 11m 1s\n",
      "134:\tlearn: 0.7394588\ttotal: 5m 35s\tremaining: 10m 58s\n",
      "135:\tlearn: 0.7401940\ttotal: 5m 37s\tremaining: 10m 55s\n",
      "136:\tlearn: 0.7404030\ttotal: 5m 40s\tremaining: 10m 53s\n",
      "137:\tlearn: 0.7403723\ttotal: 5m 42s\tremaining: 10m 50s\n",
      "138:\tlearn: 0.7411243\ttotal: 5m 45s\tremaining: 10m 48s\n",
      "139:\tlearn: 0.7412808\ttotal: 5m 47s\tremaining: 10m 45s\n",
      "140:\tlearn: 0.7417378\ttotal: 5m 50s\tremaining: 10m 43s\n",
      "141:\tlearn: 0.7418941\ttotal: 5m 52s\tremaining: 10m 40s\n",
      "142:\tlearn: 0.7432684\ttotal: 5m 55s\tremaining: 10m 38s\n",
      "143:\tlearn: 0.7440899\ttotal: 5m 57s\tremaining: 10m 35s\n",
      "144:\tlearn: 0.7440380\ttotal: 6m\tremaining: 10m 33s\n",
      "145:\tlearn: 0.7440592\ttotal: 6m 2s\tremaining: 10m 30s\n",
      "146:\tlearn: 0.7447222\ttotal: 6m 4s\tremaining: 10m 28s\n",
      "147:\tlearn: 0.7447740\ttotal: 6m 7s\tremaining: 10m 25s\n",
      "148:\tlearn: 0.7448356\ttotal: 6m 9s\tremaining: 10m 22s\n",
      "149:\tlearn: 0.7449182\ttotal: 6m 11s\tremaining: 10m 19s\n",
      "150:\tlearn: 0.7454816\ttotal: 6m 14s\tremaining: 10m 17s\n",
      "151:\tlearn: 0.7455641\ttotal: 6m 16s\tremaining: 10m 14s\n",
      "152:\tlearn: 0.7468876\ttotal: 6m 19s\tremaining: 10m 12s\n",
      "153:\tlearn: 0.7464632\ttotal: 6m 21s\tremaining: 10m 9s\n",
      "154:\tlearn: 0.7467425\ttotal: 6m 24s\tremaining: 10m 7s\n",
      "155:\tlearn: 0.7467425\ttotal: 6m 26s\tremaining: 10m 4s\n",
      "156:\tlearn: 0.7464336\ttotal: 6m 28s\tremaining: 10m 1s\n",
      "157:\tlearn: 0.7467953\ttotal: 6m 31s\tremaining: 9m 59s\n",
      "158:\tlearn: 0.7468381\ttotal: 6m 33s\tremaining: 9m 56s\n",
      "159:\tlearn: 0.7469413\ttotal: 6m 35s\tremaining: 9m 53s\n",
      "160:\tlearn: 0.7465909\ttotal: 6m 38s\tremaining: 9m 51s\n",
      "161:\tlearn: 0.7473134\ttotal: 6m 40s\tremaining: 9m 48s\n",
      "162:\tlearn: 0.7488296\ttotal: 6m 43s\tremaining: 9m 45s\n",
      "163:\tlearn: 0.7491891\ttotal: 6m 45s\tremaining: 9m 43s\n",
      "164:\tlearn: 0.7496717\ttotal: 6m 47s\tremaining: 9m 40s\n",
      "165:\tlearn: 0.7505946\ttotal: 6m 50s\tremaining: 9m 38s\n",
      "166:\tlearn: 0.7513423\ttotal: 6m 52s\tremaining: 9m 35s\n",
      "167:\tlearn: 0.7514446\ttotal: 6m 55s\tremaining: 9m 33s\n",
      "168:\tlearn: 0.7513934\ttotal: 6m 57s\tremaining: 9m 30s\n",
      "169:\tlearn: 0.7518335\ttotal: 6m 59s\tremaining: 9m 27s\n",
      "170:\tlearn: 0.7526609\ttotal: 7m 2s\tremaining: 9m 25s\n",
      "171:\tlearn: 0.7533860\ttotal: 7m 4s\tremaining: 9m 22s\n",
      "172:\tlearn: 0.7537323\ttotal: 7m 6s\tremaining: 9m 20s\n",
      "173:\tlearn: 0.7545782\ttotal: 7m 9s\tremaining: 9m 17s\n",
      "174:\tlearn: 0.7550161\ttotal: 7m 11s\tremaining: 9m 14s\n",
      "175:\tlearn: 0.7547725\ttotal: 7m 13s\tremaining: 9m 12s\n",
      "176:\tlearn: 0.7553122\ttotal: 7m 16s\tremaining: 9m 9s\n",
      "177:\tlearn: 0.7555156\ttotal: 7m 18s\tremaining: 9m 7s\n",
      "178:\tlearn: 0.7562490\ttotal: 7m 21s\tremaining: 9m 4s\n",
      "179:\tlearn: 0.7561783\ttotal: 7m 23s\tremaining: 9m 2s\n",
      "180:\tlearn: 0.7562799\ttotal: 7m 25s\tremaining: 8m 59s\n",
      "181:\tlearn: 0.7572641\ttotal: 7m 28s\tremaining: 8m 56s\n",
      "182:\tlearn: 0.7577599\ttotal: 7m 30s\tremaining: 8m 54s\n",
      "183:\tlearn: 0.7580218\ttotal: 7m 33s\tremaining: 8m 51s\n",
      "184:\tlearn: 0.7585589\ttotal: 7m 35s\tremaining: 8m 49s\n",
      "185:\tlearn: 0.7588005\ttotal: 7m 37s\tremaining: 8m 46s\n",
      "186:\tlearn: 0.7593679\ttotal: 7m 40s\tremaining: 8m 44s\n",
      "187:\tlearn: 0.7596710\ttotal: 7m 42s\tremaining: 8m 41s\n",
      "188:\tlearn: 0.7598730\ttotal: 7m 45s\tremaining: 8m 39s\n",
      "189:\tlearn: 0.7602768\ttotal: 7m 47s\tremaining: 8m 36s\n",
      "190:\tlearn: 0.7605989\ttotal: 7m 49s\tremaining: 8m 34s\n",
      "191:\tlearn: 0.7610526\ttotal: 7m 52s\tremaining: 8m 31s\n",
      "192:\tlearn: 0.7614246\ttotal: 7m 54s\tremaining: 8m 29s\n",
      "193:\tlearn: 0.7620479\ttotal: 7m 57s\tremaining: 8m 26s\n",
      "194:\tlearn: 0.7624502\ttotal: 7m 59s\tremaining: 8m 23s\n",
      "195:\tlearn: 0.7625701\ttotal: 8m 1s\tremaining: 8m 21s\n",
      "196:\tlearn: 0.7627208\ttotal: 8m 3s\tremaining: 8m 18s\n",
      "197:\tlearn: 0.7626706\ttotal: 8m 6s\tremaining: 8m 16s\n",
      "198:\tlearn: 0.7629720\ttotal: 8m 8s\tremaining: 8m 13s\n",
      "199:\tlearn: 0.7630917\ttotal: 8m 10s\tremaining: 8m 10s\n",
      "200:\tlearn: 0.7635626\ttotal: 8m 13s\tremaining: 8m 8s\n",
      "201:\tlearn: 0.7639638\ttotal: 8m 15s\tremaining: 8m 5s\n",
      "202:\tlearn: 0.7653901\ttotal: 8m 18s\tremaining: 8m 3s\n",
      "203:\tlearn: 0.7658643\ttotal: 8m 20s\tremaining: 8m 1s\n",
      "204:\tlearn: 0.7661212\ttotal: 8m 23s\tremaining: 7m 58s\n",
      "205:\tlearn: 0.7664021\ttotal: 8m 25s\tremaining: 7m 56s\n",
      "206:\tlearn: 0.7666829\ttotal: 8m 27s\tremaining: 7m 53s\n",
      "207:\tlearn: 0.7666829\ttotal: 8m 30s\tremaining: 7m 51s\n",
      "208:\tlearn: 0.7669203\ttotal: 8m 32s\tremaining: 7m 48s\n",
      "209:\tlearn: 0.7670701\ttotal: 8m 35s\tremaining: 7m 46s\n",
      "210:\tlearn: 0.7670701\ttotal: 8m 37s\tremaining: 7m 43s\n",
      "211:\tlearn: 0.7671200\ttotal: 8m 39s\tremaining: 7m 41s\n",
      "212:\tlearn: 0.7676997\ttotal: 8m 42s\tremaining: 7m 38s\n",
      "213:\tlearn: 0.7679554\ttotal: 8m 44s\tremaining: 7m 36s\n",
      "214:\tlearn: 0.7679554\ttotal: 8m 47s\tremaining: 7m 33s\n",
      "215:\tlearn: 0.7679554\ttotal: 8m 49s\tremaining: 7m 31s\n",
      "216:\tlearn: 0.7683725\ttotal: 8m 51s\tremaining: 7m 28s\n",
      "217:\tlearn: 0.7683725\ttotal: 8m 54s\tremaining: 7m 26s\n",
      "218:\tlearn: 0.7689758\ttotal: 8m 56s\tremaining: 7m 23s\n",
      "219:\tlearn: 0.7694484\ttotal: 8m 59s\tremaining: 7m 21s\n",
      "220:\tlearn: 0.7696720\ttotal: 9m 1s\tremaining: 7m 18s\n",
      "221:\tlearn: 0.7696720\ttotal: 9m 3s\tremaining: 7m 16s\n",
      "222:\tlearn: 0.7696720\ttotal: 9m 6s\tremaining: 7m 13s\n",
      "223:\tlearn: 0.7697653\ttotal: 9m 8s\tremaining: 7m 10s\n",
      "224:\tlearn: 0.7703985\ttotal: 9m 10s\tremaining: 7m 8s\n",
      "225:\tlearn: 0.7703117\ttotal: 9m 13s\tremaining: 7m 6s\n",
      "226:\tlearn: 0.7704110\ttotal: 9m 15s\tremaining: 7m 3s\n",
      "227:\tlearn: 0.7707089\ttotal: 9m 18s\tremaining: 7m 1s\n",
      "228:\tlearn: 0.7707089\ttotal: 9m 20s\tremaining: 6m 58s\n",
      "229:\tlearn: 0.7707526\ttotal: 9m 23s\tremaining: 6m 56s\n",
      "230:\tlearn: 0.7710814\ttotal: 9m 25s\tremaining: 6m 53s\n",
      "231:\tlearn: 0.7710318\ttotal: 9m 27s\tremaining: 6m 51s\n",
      "232:\tlearn: 0.7710629\ttotal: 9m 30s\tremaining: 6m 48s\n",
      "233:\tlearn: 0.7717234\ttotal: 9m 32s\tremaining: 6m 46s\n",
      "234:\tlearn: 0.7717856\ttotal: 9m 35s\tremaining: 6m 43s\n",
      "235:\tlearn: 0.7727492\ttotal: 9m 37s\tremaining: 6m 41s\n",
      "236:\tlearn: 0.7729212\ttotal: 9m 40s\tremaining: 6m 39s\n",
      "237:\tlearn: 0.7729212\ttotal: 9m 42s\tremaining: 6m 36s\n",
      "238:\tlearn: 0.7734589\ttotal: 9m 45s\tremaining: 6m 34s\n",
      "239:\tlearn: 0.7734589\ttotal: 9m 47s\tremaining: 6m 31s\n",
      "240:\tlearn: 0.7734589\ttotal: 9m 50s\tremaining: 6m 29s\n",
      "241:\tlearn: 0.7734900\ttotal: 9m 52s\tremaining: 6m 26s\n",
      "242:\tlearn: 0.7734900\ttotal: 9m 54s\tremaining: 6m 24s\n",
      "243:\tlearn: 0.7734900\ttotal: 9m 57s\tremaining: 6m 21s\n",
      "244:\tlearn: 0.7741365\ttotal: 9m 59s\tremaining: 6m 19s\n",
      "245:\tlearn: 0.7742299\ttotal: 10m 2s\tremaining: 6m 16s\n",
      "246:\tlearn: 0.7744763\ttotal: 10m 4s\tremaining: 6m 14s\n",
      "247:\tlearn: 0.7744763\ttotal: 10m 6s\tremaining: 6m 11s\n",
      "248:\tlearn: 0.7747175\ttotal: 10m 9s\tremaining: 6m 9s\n",
      "249:\tlearn: 0.7747487\ttotal: 10m 11s\tremaining: 6m 6s\n",
      "250:\tlearn: 0.7751508\ttotal: 10m 14s\tremaining: 6m 4s\n",
      "251:\tlearn: 0.7753297\ttotal: 10m 16s\tremaining: 6m 2s\n",
      "252:\tlearn: 0.7754774\ttotal: 10m 18s\tremaining: 5m 59s\n",
      "253:\tlearn: 0.7756743\ttotal: 10m 21s\tremaining: 5m 57s\n",
      "254:\tlearn: 0.7762153\ttotal: 10m 23s\tremaining: 5m 54s\n",
      "255:\tlearn: 0.7762645\ttotal: 10m 26s\tremaining: 5m 52s\n",
      "256:\tlearn: 0.7762645\ttotal: 10m 28s\tremaining: 5m 49s\n",
      "257:\tlearn: 0.7765906\ttotal: 10m 30s\tremaining: 5m 47s\n",
      "258:\tlearn: 0.7766218\ttotal: 10m 33s\tremaining: 5m 44s\n",
      "259:\tlearn: 0.7765859\ttotal: 10m 35s\tremaining: 5m 42s\n",
      "260:\tlearn: 0.7766171\ttotal: 10m 38s\tremaining: 5m 39s\n",
      "261:\tlearn: 0.7769923\ttotal: 10m 40s\tremaining: 5m 37s\n",
      "262:\tlearn: 0.7769923\ttotal: 10m 42s\tremaining: 5m 34s\n",
      "263:\tlearn: 0.7770460\ttotal: 10m 45s\tremaining: 5m 32s\n",
      "264:\tlearn: 0.7769478\ttotal: 10m 47s\tremaining: 5m 29s\n",
      "265:\tlearn: 0.7775548\ttotal: 10m 50s\tremaining: 5m 27s\n",
      "266:\tlearn: 0.7781967\ttotal: 10m 52s\tremaining: 5m 25s\n",
      "267:\tlearn: 0.7785752\ttotal: 10m 55s\tremaining: 5m 22s\n",
      "268:\tlearn: 0.7786731\ttotal: 10m 57s\tremaining: 5m 20s\n",
      "269:\tlearn: 0.7794859\ttotal: 10m 59s\tremaining: 5m 17s\n",
      "270:\tlearn: 0.7802242\ttotal: 11m 2s\tremaining: 5m 15s\n",
      "271:\tlearn: 0.7810225\ttotal: 11m 4s\tremaining: 5m 12s\n",
      "272:\tlearn: 0.7812837\ttotal: 11m 7s\tremaining: 5m 10s\n",
      "273:\tlearn: 0.7814649\ttotal: 11m 9s\tremaining: 5m 8s\n",
      "274:\tlearn: 0.7819308\ttotal: 11m 12s\tremaining: 5m 5s\n",
      "275:\tlearn: 0.7819795\ttotal: 11m 14s\tremaining: 5m 3s\n",
      "276:\tlearn: 0.7819831\ttotal: 11m 17s\tremaining: 5m\n",
      "277:\tlearn: 0.7821466\ttotal: 11m 19s\tremaining: 4m 58s\n",
      "278:\tlearn: 0.7823898\ttotal: 11m 22s\tremaining: 4m 56s\n",
      "279:\tlearn: 0.7827789\ttotal: 11m 25s\tremaining: 4m 53s\n",
      "280:\tlearn: 0.7827163\ttotal: 11m 27s\tremaining: 4m 51s\n",
      "281:\tlearn: 0.7827163\ttotal: 11m 30s\tremaining: 4m 48s\n",
      "282:\tlearn: 0.7830392\ttotal: 11m 32s\tremaining: 4m 46s\n",
      "283:\tlearn: 0.7830392\ttotal: 11m 35s\tremaining: 4m 43s\n",
      "284:\tlearn: 0.7831850\ttotal: 11m 37s\tremaining: 4m 41s\n",
      "285:\tlearn: 0.7831850\ttotal: 11m 39s\tremaining: 4m 38s\n",
      "286:\tlearn: 0.7835940\ttotal: 11m 42s\tremaining: 4m 36s\n",
      "287:\tlearn: 0.7830603\ttotal: 11m 44s\tremaining: 4m 34s\n",
      "288:\tlearn: 0.7833546\ttotal: 11m 47s\tremaining: 4m 31s\n",
      "289:\tlearn: 0.7834032\ttotal: 11m 49s\tremaining: 4m 29s\n",
      "290:\tlearn: 0.7835323\ttotal: 11m 52s\tremaining: 4m 26s\n",
      "291:\tlearn: 0.7838582\ttotal: 11m 54s\tremaining: 4m 24s\n",
      "292:\tlearn: 0.7842183\ttotal: 11m 56s\tremaining: 4m 21s\n",
      "293:\tlearn: 0.7846344\ttotal: 11m 59s\tremaining: 4m 19s\n",
      "294:\tlearn: 0.7849595\ttotal: 12m 1s\tremaining: 4m 16s\n",
      "295:\tlearn: 0.7853670\ttotal: 12m 4s\tremaining: 4m 14s\n",
      "296:\tlearn: 0.7854638\ttotal: 12m 6s\tremaining: 4m 11s\n",
      "297:\tlearn: 0.7859789\ttotal: 12m 8s\tremaining: 4m 9s\n",
      "298:\tlearn: 0.7860756\ttotal: 12m 11s\tremaining: 4m 6s\n",
      "299:\tlearn: 0.7864569\ttotal: 12m 13s\tremaining: 4m 4s\n",
      "300:\tlearn: 0.7866985\ttotal: 12m 16s\tremaining: 4m 2s\n",
      "301:\tlearn: 0.7871019\ttotal: 12m 18s\tremaining: 3m 59s\n",
      "302:\tlearn: 0.7871019\ttotal: 12m 21s\tremaining: 3m 57s\n",
      "303:\tlearn: 0.7874542\ttotal: 12m 23s\tremaining: 3m 54s\n",
      "304:\tlearn: 0.7877583\ttotal: 12m 25s\tremaining: 3m 52s\n",
      "305:\tlearn: 0.7879342\ttotal: 12m 28s\tremaining: 3m 49s\n",
      "306:\tlearn: 0.7879342\ttotal: 12m 30s\tremaining: 3m 47s\n",
      "307:\tlearn: 0.7878860\ttotal: 12m 33s\tremaining: 3m 44s\n",
      "308:\tlearn: 0.7883676\ttotal: 12m 35s\tremaining: 3m 42s\n",
      "309:\tlearn: 0.7884806\ttotal: 12m 37s\tremaining: 3m 40s\n",
      "310:\tlearn: 0.7887525\ttotal: 12m 40s\tremaining: 3m 37s\n",
      "311:\tlearn: 0.7889930\ttotal: 12m 42s\tremaining: 3m 35s\n",
      "312:\tlearn: 0.7890892\ttotal: 12m 45s\tremaining: 3m 32s\n",
      "313:\tlearn: 0.7894256\ttotal: 12m 47s\tremaining: 3m 30s\n",
      "314:\tlearn: 0.7893630\ttotal: 12m 50s\tremaining: 3m 27s\n",
      "315:\tlearn: 0.7895823\ttotal: 12m 52s\tremaining: 3m 25s\n",
      "316:\tlearn: 0.7900607\ttotal: 12m 55s\tremaining: 3m 22s\n",
      "317:\tlearn: 0.7901881\ttotal: 12m 57s\tremaining: 3m 20s\n",
      "318:\tlearn: 0.7902195\ttotal: 12m 59s\tremaining: 3m 18s\n",
      "319:\tlearn: 0.7902195\ttotal: 13m 2s\tremaining: 3m 15s\n",
      "320:\tlearn: 0.7902989\ttotal: 13m 4s\tremaining: 3m 13s\n",
      "321:\tlearn: 0.7904429\ttotal: 13m 6s\tremaining: 3m 10s\n",
      "322:\tlearn: 0.7907807\ttotal: 13m 9s\tremaining: 3m 8s\n",
      "323:\tlearn: 0.7912454\ttotal: 13m 11s\tremaining: 3m 5s\n",
      "324:\tlearn: 0.7914850\ttotal: 13m 14s\tremaining: 3m 3s\n",
      "325:\tlearn: 0.7916287\ttotal: 13m 16s\tremaining: 3m\n",
      "326:\tlearn: 0.7916766\ttotal: 13m 19s\tremaining: 2m 58s\n",
      "327:\tlearn: 0.7915329\ttotal: 13m 21s\tremaining: 2m 55s\n",
      "328:\tlearn: 0.7919788\ttotal: 13m 23s\tremaining: 2m 53s\n",
      "329:\tlearn: 0.7918995\ttotal: 13m 26s\tremaining: 2m 51s\n",
      "330:\tlearn: 0.7924080\ttotal: 13m 28s\tremaining: 2m 48s\n",
      "331:\tlearn: 0.7925515\ttotal: 13m 31s\tremaining: 2m 46s\n",
      "332:\tlearn: 0.7927428\ttotal: 13m 33s\tremaining: 2m 43s\n",
      "333:\tlearn: 0.7930133\ttotal: 13m 35s\tremaining: 2m 41s\n",
      "334:\tlearn: 0.7928727\ttotal: 13m 38s\tremaining: 2m 38s\n",
      "335:\tlearn: 0.7931594\ttotal: 13m 40s\tremaining: 2m 36s\n",
      "336:\tlearn: 0.7935402\ttotal: 13m 43s\tremaining: 2m 33s\n",
      "337:\tlearn: 0.7939850\ttotal: 13m 45s\tremaining: 2m 31s\n",
      "338:\tlearn: 0.7943352\ttotal: 13m 48s\tremaining: 2m 29s\n",
      "339:\tlearn: 0.7945260\ttotal: 13m 50s\tremaining: 2m 26s\n",
      "340:\tlearn: 0.7949225\ttotal: 13m 53s\tremaining: 2m 24s\n",
      "341:\tlearn: 0.7947329\ttotal: 13m 55s\tremaining: 2m 21s\n",
      "342:\tlearn: 0.7948282\ttotal: 13m 57s\tremaining: 2m 19s\n",
      "343:\tlearn: 0.7949397\ttotal: 14m\tremaining: 2m 16s\n",
      "344:\tlearn: 0.7948282\ttotal: 14m 2s\tremaining: 2m 14s\n",
      "345:\tlearn: 0.7951769\ttotal: 14m 5s\tremaining: 2m 11s\n",
      "346:\tlearn: 0.7953198\ttotal: 14m 7s\tremaining: 2m 9s\n",
      "347:\tlearn: 0.7956530\ttotal: 14m 10s\tremaining: 2m 7s\n",
      "348:\tlearn: 0.7960659\ttotal: 14m 12s\tremaining: 2m 4s\n",
      "349:\tlearn: 0.7963987\ttotal: 14m 15s\tremaining: 2m 2s\n",
      "350:\tlearn: 0.7966363\ttotal: 14m 17s\tremaining: 1m 59s\n",
      "351:\tlearn: 0.7968263\ttotal: 14m 20s\tremaining: 1m 57s\n",
      "352:\tlearn: 0.7970317\ttotal: 14m 23s\tremaining: 1m 54s\n",
      "353:\tlearn: 0.7974269\ttotal: 14m 25s\tremaining: 1m 52s\n",
      "354:\tlearn: 0.7976801\ttotal: 14m 27s\tremaining: 1m 49s\n",
      "355:\tlearn: 0.7979172\ttotal: 14m 30s\tremaining: 1m 47s\n",
      "356:\tlearn: 0.7980439\ttotal: 14m 32s\tremaining: 1m 45s\n",
      "357:\tlearn: 0.7982335\ttotal: 14m 35s\tremaining: 1m 42s\n",
      "358:\tlearn: 0.7982494\ttotal: 14m 37s\tremaining: 1m 40s\n",
      "359:\tlearn: 0.7984389\ttotal: 14m 40s\tremaining: 1m 37s\n",
      "360:\tlearn: 0.7989597\ttotal: 14m 42s\tremaining: 1m 35s\n",
      "361:\tlearn: 0.7988807\ttotal: 14m 45s\tremaining: 1m 32s\n",
      "362:\tlearn: 0.7990385\ttotal: 14m 47s\tremaining: 1m 30s\n",
      "363:\tlearn: 0.7997480\ttotal: 14m 50s\tremaining: 1m 28s\n",
      "364:\tlearn: 0.8000315\ttotal: 14m 53s\tremaining: 1m 25s\n",
      "365:\tlearn: 0.8000787\ttotal: 14m 55s\tremaining: 1m 23s\n",
      "366:\tlearn: 0.8004249\ttotal: 14m 57s\tremaining: 1m 20s\n",
      "367:\tlearn: 0.8008023\ttotal: 15m\tremaining: 1m 18s\n",
      "368:\tlearn: 0.8006608\ttotal: 15m 2s\tremaining: 1m 15s\n",
      "369:\tlearn: 0.8008966\ttotal: 15m 5s\tremaining: 1m 13s\n",
      "370:\tlearn: 0.8007872\ttotal: 15m 7s\tremaining: 1m 10s\n",
      "371:\tlearn: 0.8009604\ttotal: 15m 10s\tremaining: 1m 8s\n",
      "372:\tlearn: 0.8011335\ttotal: 15m 12s\tremaining: 1m 6s\n",
      "373:\tlearn: 0.8012435\ttotal: 15m 14s\tremaining: 1m 3s\n",
      "374:\tlearn: 0.8012435\ttotal: 15m 17s\tremaining: 1m 1s\n",
      "375:\tlearn: 0.8013378\ttotal: 15m 19s\tremaining: 58.7s\n",
      "376:\tlearn: 0.8011491\ttotal: 15m 22s\tremaining: 56.3s\n",
      "377:\tlearn: 0.8011963\ttotal: 15m 24s\tremaining: 53.8s\n",
      "378:\tlearn: 0.8012750\ttotal: 15m 27s\tremaining: 51.4s\n",
      "379:\tlearn: 0.8010704\ttotal: 15m 29s\tremaining: 48.9s\n",
      "380:\tlearn: 0.8012752\ttotal: 15m 32s\tremaining: 46.5s\n",
      "381:\tlearn: 0.8015111\ttotal: 15m 34s\tremaining: 44s\n",
      "382:\tlearn: 0.8015267\ttotal: 15m 37s\tremaining: 41.6s\n",
      "383:\tlearn: 0.8019039\ttotal: 15m 39s\tremaining: 39.1s\n",
      "384:\tlearn: 0.8018571\ttotal: 15m 42s\tremaining: 36.7s\n",
      "385:\tlearn: 0.8019042\ttotal: 15m 44s\tremaining: 34.3s\n",
      "386:\tlearn: 0.8021403\ttotal: 15m 47s\tremaining: 31.8s\n",
      "387:\tlearn: 0.8024390\ttotal: 15m 49s\tremaining: 29.4s\n",
      "388:\tlearn: 0.8028319\ttotal: 15m 52s\tremaining: 26.9s\n",
      "389:\tlearn: 0.8029099\ttotal: 15m 54s\tremaining: 24.5s\n",
      "390:\tlearn: 0.8029576\ttotal: 15m 57s\tremaining: 22s\n",
      "391:\tlearn: 0.8030988\ttotal: 15m 59s\tremaining: 19.6s\n",
      "392:\tlearn: 0.8031775\ttotal: 16m 2s\tremaining: 17.1s\n",
      "393:\tlearn: 0.8032716\ttotal: 16m 4s\tremaining: 14.7s\n",
      "394:\tlearn: 0.8034443\ttotal: 16m 6s\tremaining: 12.2s\n",
      "395:\tlearn: 0.8036641\ttotal: 16m 9s\tremaining: 9.79s\n",
      "396:\tlearn: 0.8036171\ttotal: 16m 11s\tremaining: 7.34s\n",
      "397:\tlearn: 0.8037273\ttotal: 16m 14s\tremaining: 4.9s\n",
      "398:\tlearn: 0.8039786\ttotal: 16m 17s\tremaining: 2.45s\n",
      "399:\tlearn: 0.8040256\ttotal: 16m 19s\tremaining: 0us\n"
     ]
    },
    {
     "data": {
      "text/plain": [
       "GridSearchCV(cv=<generator object _BaseKFold.split at 0x7fdc43e515f0>,\n",
       "             estimator=Pipeline(steps=[('vect', TfidfVectorizer()),\n",
       "                                       ('clf',\n",
       "                                        <catboost.core.CatBoostClassifier object at 0x7fdc45106f10>)]),\n",
       "             param_grid={'clf__depth': [7], 'clf__early_stopping_rounds': [10],\n",
       "                         'clf__eval_metric': ['F1'], 'clf__iterations': [400],\n",
       "                         'clf__learning_rate': [0.2],\n",
       "                         'clf__loss_function': ['Logloss'],\n",
       "                         'clf__random_seed': [42], 'vect__max_df': [10000],\n",
       "                         'vect__min_df': [10],\n",
       "                         'vect__stop_words': ['english']},\n",
       "             scoring='f1', verbose=2)"
      ]
     },
     "execution_count": 14,
     "metadata": {},
     "output_type": "execute_result"
    }
   ],
   "source": [
    "pipe = Pipeline(\n",
    "    [\n",
    "        (\"vect\", TfidfVectorizer()),\n",
    "        (\"clf\", CatBoostClassifier()),\n",
    "    ]\n",
    ")\n",
    "\n",
    "#сетка гиперпараметров\n",
    "cb_params = {\n",
    "    'vect__stop_words': ['english'],\n",
    "    'vect__min_df': [10],\n",
    "    'vect__max_df': [10000],\n",
    "    \n",
    "    \"clf__iterations\": [400],\n",
    "    'clf__learning_rate': [0.2],\n",
    "    \"clf__depth\": [7],\n",
    "    'clf__loss_function': ['Logloss'],\n",
    "    \"clf__eval_metric\": [\"F1\"],\n",
    "    'clf__random_seed': [42],\n",
    "    'clf__early_stopping_rounds': [10]}\n",
    "#деление на подвыборки\n",
    "folds = skf.split(train_corpus, train_target)\n",
    "\n",
    "print('Кросс-валидация градиентного бустинга')\n",
    "grid = GridSearchCV(pipe, \n",
    "                    cb_params, \n",
    "                    scoring='f1', \n",
    "                    cv=folds, \n",
    "                    verbose=2)\n",
    "grid.fit(train_corpus, train_target)"
   ]
  },
  {
   "cell_type": "code",
   "execution_count": 15,
   "metadata": {},
   "outputs": [
    {
     "name": "stdout",
     "output_type": "stream",
     "text": [
      "Среднее значение F1-метрики: 0.750747506709159\n"
     ]
    }
   ],
   "source": [
    "print('Среднее значение F1-метрики:', grid.best_score_)"
   ]
  },
  {
   "cell_type": "markdown",
   "metadata": {},
   "source": [
    "Лучшей моделью оказалась логистическая регрессия: у нее самый высокий показатель F1-меры и наиболее быстрое время обучения. Градиентный бустинг также превысил целевой показатель F1-меры, однако обучение заняло около часа."
   ]
  },
  {
   "cell_type": "markdown",
   "metadata": {},
   "source": [
    "### Тестирование лучшей модели"
   ]
  },
  {
   "cell_type": "code",
   "execution_count": 17,
   "metadata": {},
   "outputs": [
    {
     "data": {
      "text/plain": [
       "0.8001334668001335"
      ]
     },
     "execution_count": 17,
     "metadata": {},
     "output_type": "execute_result"
    }
   ],
   "source": [
    "predictions = best_logreg.predict(test_corpus)\n",
    "\n",
    "f1_score(test_target, predictions)"
   ]
  },
  {
   "cell_type": "code",
   "execution_count": 19,
   "metadata": {},
   "outputs": [
    {
     "data": {
      "image/png": "[encoded data removed]",
      "text/plain": [
       "<Figure size 432x288 with 1 Axes>"
      ]
     },
     "metadata": {
      "needs_background": "light"
     },
     "output_type": "display_data"
    },
    {
     "name": "stdout",
     "output_type": "stream",
     "text": [
      "ROC-AUC (лучшая модель: логистическая регрессия):  0.9692697670529555\n"
     ]
    },
    {
     "data": {
      "text/plain": [
       "0.9692697670529555"
      ]
     },
     "execution_count": 19,
     "metadata": {},
     "output_type": "execute_result"
    }
   ],
   "source": [
    "roc_auc_viz(best_logreg, test_corpus, test_target, sample_name='Лучшая модель: логистическая регрессия')"
   ]
  },
  {
   "cell_type": "markdown",
   "metadata": {},
   "source": [
    "**Вывод по этапу:**\n",
    "- были протестированы модели логистической регрессии, дерева решений, случайного леса и градиентного бустинга\n",
    "- с точки зрения затрат на обучение и подбор гиперпараметров лучшей оказалась модель логистической регрессии\n",
    "- градиентный бустинг также показал хорошие результаты F1-меры, однако значения метрики оказались ниже, а обучение с кросс-валидацией заняло около часа"
   ]
  },
  {
   "cell_type": "markdown",
   "metadata": {},
   "source": [
    "## Выводы"
   ]
  },
  {
   "cell_type": "markdown",
   "metadata": {},
   "source": [
    "Лучшей моделью оказалась логистическая регрессия: у нее самый высокий показатель F1-меры и наиболее быстрое время обучения. Градиентный бустинг также превысил целевой показатель F1-меры >= 0,75, однако обучение заняло больше часа. На тестовой выборке значение F1-меры лучшей модели достигло 0.8."
   ]
  },
  {
   "cell_type": "markdown",
   "metadata": {},
   "source": []
  }
 ],
 "metadata": {
  "ExecuteTimeLog": [
   {
    "duration": 1557,
    "start_time": "2023-07-26T18:14:49.491Z"
   },
   {
    "duration": 2359,
    "start_time": "2023-07-26T18:16:09.413Z"
   },
   {
    "duration": 3,
    "start_time": "2023-07-26T18:22:45.600Z"
   },
   {
    "duration": 107,
    "start_time": "2023-07-26T18:22:46.602Z"
   },
   {
    "duration": 2966,
    "start_time": "2023-07-26T18:22:53.725Z"
   },
   {
    "duration": 3,
    "start_time": "2023-07-26T18:22:56.692Z"
   },
   {
    "duration": 46,
    "start_time": "2023-07-26T18:24:15.616Z"
   },
   {
    "duration": 1433,
    "start_time": "2023-07-26T18:24:21.695Z"
   },
   {
    "duration": 2428,
    "start_time": "2023-07-26T18:24:25.986Z"
   },
   {
    "duration": 2,
    "start_time": "2023-07-26T18:24:32.036Z"
   },
   {
    "duration": 52928,
    "start_time": "2023-07-26T18:25:43.607Z"
   },
   {
    "duration": 1511,
    "start_time": "2023-07-26T18:27:25.611Z"
   },
   {
    "duration": 2357,
    "start_time": "2023-07-26T18:27:27.124Z"
   },
   {
    "duration": 3,
    "start_time": "2023-07-26T18:27:29.482Z"
   },
   {
    "duration": 43439,
    "start_time": "2023-07-26T18:27:34.531Z"
   },
   {
    "duration": 0,
    "start_time": "2023-07-26T18:28:17.972Z"
   },
   {
    "duration": 3,
    "start_time": "2023-07-26T18:28:25.005Z"
   },
   {
    "duration": 53,
    "start_time": "2023-07-26T18:28:32.453Z"
   },
   {
    "duration": 1690,
    "start_time": "2023-07-26T18:28:38.703Z"
   },
   {
    "duration": 2398,
    "start_time": "2023-07-26T18:28:40.394Z"
   },
   {
    "duration": 3,
    "start_time": "2023-07-26T18:28:42.794Z"
   },
   {
    "duration": 696223,
    "start_time": "2023-07-26T18:28:46.253Z"
   },
   {
    "duration": 0,
    "start_time": "2023-07-26T18:40:22.477Z"
   },
   {
    "duration": 0,
    "start_time": "2023-07-26T18:40:22.532Z"
   },
   {
    "duration": 0,
    "start_time": "2023-07-26T18:40:22.532Z"
   },
   {
    "duration": 0,
    "start_time": "2023-07-26T18:40:22.533Z"
   },
   {
    "duration": 4,
    "start_time": "2023-07-26T18:40:29.114Z"
   },
   {
    "duration": 1471,
    "start_time": "2023-07-26T18:40:29.120Z"
   },
   {
    "duration": 81,
    "start_time": "2023-07-26T18:43:55.609Z"
   },
   {
    "duration": 3,
    "start_time": "2023-07-26T18:44:03.932Z"
   },
   {
    "duration": 1320,
    "start_time": "2023-07-26T18:45:25.185Z"
   },
   {
    "duration": 2389,
    "start_time": "2023-07-26T18:45:26.507Z"
   },
   {
    "duration": 4,
    "start_time": "2023-07-26T18:45:30.485Z"
   },
   {
    "duration": 3086,
    "start_time": "2023-07-26T18:45:35.689Z"
   },
   {
    "duration": 3,
    "start_time": "2023-07-26T18:46:01.355Z"
   },
   {
    "duration": 45,
    "start_time": "2023-07-26T18:46:15.392Z"
   },
   {
    "duration": 1437,
    "start_time": "2023-07-26T18:46:21.015Z"
   },
   {
    "duration": 2441,
    "start_time": "2023-07-26T18:46:22.454Z"
   },
   {
    "duration": 3,
    "start_time": "2023-07-26T18:46:24.896Z"
   },
   {
    "duration": 4,
    "start_time": "2023-07-26T18:48:57.403Z"
   },
   {
    "duration": 818,
    "start_time": "2023-07-26T18:48:57.418Z"
   },
   {
    "duration": 5,
    "start_time": "2023-07-26T18:48:58.237Z"
   },
   {
    "duration": 1157,
    "start_time": "2023-07-26T18:49:09.917Z"
   },
   {
    "duration": 4,
    "start_time": "2023-07-26T18:49:56.490Z"
   },
   {
    "duration": 16,
    "start_time": "2023-07-26T18:49:57.215Z"
   },
   {
    "duration": 3,
    "start_time": "2023-07-26T18:51:04.918Z"
   },
   {
    "duration": 17,
    "start_time": "2023-07-26T18:51:05.988Z"
   },
   {
    "duration": 17,
    "start_time": "2023-07-26T18:52:29.590Z"
   },
   {
    "duration": 3,
    "start_time": "2023-07-26T18:52:36.719Z"
   },
   {
    "duration": 68999,
    "start_time": "2023-07-26T18:52:37.191Z"
   },
   {
    "duration": 4,
    "start_time": "2023-07-26T18:54:09.629Z"
   },
   {
    "duration": 1945,
    "start_time": "2023-07-26T20:41:37.100Z"
   },
   {
    "duration": 184,
    "start_time": "2023-07-26T20:41:39.047Z"
   },
   {
    "duration": 0,
    "start_time": "2023-07-26T20:41:39.233Z"
   },
   {
    "duration": 0,
    "start_time": "2023-07-26T20:41:39.234Z"
   },
   {
    "duration": 51,
    "start_time": "2023-07-26T20:41:49.096Z"
   },
   {
    "duration": 9,
    "start_time": "2023-07-26T20:41:52.957Z"
   },
   {
    "duration": 63,
    "start_time": "2023-07-26T20:42:15.374Z"
   },
   {
    "duration": 4,
    "start_time": "2023-07-26T20:42:16.267Z"
   },
   {
    "duration": 122330,
    "start_time": "2023-07-26T20:42:17.927Z"
   },
   {
    "duration": 801,
    "start_time": "2023-07-26T20:45:55.728Z"
   },
   {
    "duration": 4,
    "start_time": "2023-07-26T20:46:11.461Z"
   },
   {
    "duration": 3,
    "start_time": "2023-07-26T20:46:12.336Z"
   },
   {
    "duration": 82,
    "start_time": "2023-07-26T20:46:13.453Z"
   },
   {
    "duration": 118945,
    "start_time": "2023-07-26T20:46:25.116Z"
   },
   {
    "duration": 3,
    "start_time": "2023-07-26T20:49:44.087Z"
   },
   {
    "duration": 6390,
    "start_time": "2023-07-26T20:49:46.196Z"
   },
   {
    "duration": 3,
    "start_time": "2023-07-26T20:50:30.430Z"
   },
   {
    "duration": 4,
    "start_time": "2023-07-26T20:51:01.087Z"
   },
   {
    "duration": 16,
    "start_time": "2023-07-26T21:04:55.162Z"
   },
   {
    "duration": 12,
    "start_time": "2023-07-26T21:06:13.821Z"
   },
   {
    "duration": 12,
    "start_time": "2023-07-26T21:07:29.043Z"
   },
   {
    "duration": 31552,
    "start_time": "2023-07-26T21:07:55.732Z"
   },
   {
    "duration": 4,
    "start_time": "2023-07-26T21:09:53.994Z"
   },
   {
    "duration": 55977,
    "start_time": "2023-07-26T21:12:21.401Z"
   },
   {
    "duration": 1587,
    "start_time": "2023-07-27T16:53:26.769Z"
   },
   {
    "duration": 3682,
    "start_time": "2023-07-27T16:53:28.359Z"
   },
   {
    "duration": 4,
    "start_time": "2023-07-27T16:53:32.042Z"
   },
   {
    "duration": 15,
    "start_time": "2023-07-27T16:53:32.047Z"
   },
   {
    "duration": 127768,
    "start_time": "2023-07-27T16:53:32.064Z"
   },
   {
    "duration": 3,
    "start_time": "2023-07-27T16:55:39.833Z"
   },
   {
    "duration": 63386,
    "start_time": "2023-07-27T16:55:39.837Z"
   },
   {
    "duration": 3,
    "start_time": "2023-07-27T16:56:43.225Z"
   },
   {
    "duration": 65673,
    "start_time": "2023-07-27T17:06:15.417Z"
   },
   {
    "duration": 3,
    "start_time": "2023-07-27T17:07:21.092Z"
   },
   {
    "duration": 3,
    "start_time": "2023-07-27T17:08:39.913Z"
   },
   {
    "duration": 59771,
    "start_time": "2023-07-27T17:08:47.092Z"
   },
   {
    "duration": 0,
    "start_time": "2023-07-27T17:09:46.864Z"
   },
   {
    "duration": 59,
    "start_time": "2023-07-27T17:10:36.648Z"
   },
   {
    "duration": 1630,
    "start_time": "2023-07-27T17:10:45.398Z"
   },
   {
    "duration": 4001,
    "start_time": "2023-07-27T17:10:47.030Z"
   },
   {
    "duration": 5,
    "start_time": "2023-07-27T17:10:51.032Z"
   },
   {
    "duration": 15,
    "start_time": "2023-07-27T17:10:51.038Z"
   },
   {
    "duration": 136758,
    "start_time": "2023-07-27T17:10:51.055Z"
   },
   {
    "duration": 3,
    "start_time": "2023-07-27T17:13:07.815Z"
   },
   {
    "duration": 29085,
    "start_time": "2023-07-27T17:13:07.819Z"
   },
   {
    "duration": 0,
    "start_time": "2023-07-27T17:13:36.906Z"
   },
   {
    "duration": 1507,
    "start_time": "2023-07-27T17:16:35.798Z"
   },
   {
    "duration": 3721,
    "start_time": "2023-07-27T17:16:37.308Z"
   },
   {
    "duration": 4,
    "start_time": "2023-07-27T17:16:41.030Z"
   },
   {
    "duration": 6,
    "start_time": "2023-07-27T17:16:41.036Z"
   },
   {
    "duration": 128298,
    "start_time": "2023-07-27T17:16:41.043Z"
   },
   {
    "duration": 3,
    "start_time": "2023-07-27T17:18:49.342Z"
   },
   {
    "duration": 28531,
    "start_time": "2023-07-27T17:18:49.347Z"
   },
   {
    "duration": 4,
    "start_time": "2023-07-27T17:19:17.890Z"
   },
   {
    "duration": 4,
    "start_time": "2023-07-27T17:21:41.665Z"
   },
   {
    "duration": 818,
    "start_time": "2023-07-27T17:21:41.671Z"
   },
   {
    "duration": 6,
    "start_time": "2023-07-27T17:21:42.491Z"
   },
   {
    "duration": 10,
    "start_time": "2023-07-27T17:21:42.498Z"
   },
   {
    "duration": 125024,
    "start_time": "2023-07-27T17:21:42.509Z"
   },
   {
    "duration": 15,
    "start_time": "2023-07-27T17:23:47.535Z"
   },
   {
    "duration": 28520,
    "start_time": "2023-07-27T17:23:47.551Z"
   },
   {
    "duration": 6,
    "start_time": "2023-07-27T17:24:16.074Z"
   },
   {
    "duration": 133498,
    "start_time": "2023-07-27T18:19:23.847Z"
   },
   {
    "duration": 15,
    "start_time": "2023-07-27T18:21:37.346Z"
   },
   {
    "duration": 4,
    "start_time": "2023-07-27T18:26:23.246Z"
   },
   {
    "duration": 908,
    "start_time": "2023-07-27T18:26:25.018Z"
   },
   {
    "duration": 4,
    "start_time": "2023-07-27T18:26:28.501Z"
   },
   {
    "duration": 5,
    "start_time": "2023-07-27T18:26:29.670Z"
   },
   {
    "duration": 137702,
    "start_time": "2023-07-27T18:26:31.304Z"
   },
   {
    "duration": 14,
    "start_time": "2023-07-27T18:28:49.008Z"
   },
   {
    "duration": 31515,
    "start_time": "2023-07-27T18:28:49.025Z"
   },
   {
    "duration": 7,
    "start_time": "2023-07-27T18:29:20.542Z"
   },
   {
    "duration": 4,
    "start_time": "2023-07-27T18:34:56.840Z"
   },
   {
    "duration": 23,
    "start_time": "2023-07-27T18:36:59.578Z"
   },
   {
    "duration": 26300,
    "start_time": "2023-07-27T18:39:31.896Z"
   },
   {
    "duration": 131,
    "start_time": "2023-07-27T18:41:11.258Z"
   },
   {
    "duration": 4,
    "start_time": "2023-07-27T18:41:19.546Z"
   },
   {
    "duration": 26,
    "start_time": "2023-07-27T18:41:27.211Z"
   },
   {
    "duration": 9,
    "start_time": "2023-07-27T18:47:26.449Z"
   },
   {
    "duration": 581,
    "start_time": "2023-07-27T18:48:50.764Z"
   },
   {
    "duration": 95,
    "start_time": "2023-07-27T18:49:24.241Z"
   },
   {
    "duration": 5,
    "start_time": "2023-07-27T18:50:27.948Z"
   },
   {
    "duration": 156,
    "start_time": "2023-07-27T18:54:02.645Z"
   },
   {
    "duration": 182,
    "start_time": "2023-07-27T18:54:09.380Z"
   },
   {
    "duration": 153,
    "start_time": "2023-07-27T18:55:10.795Z"
   },
   {
    "duration": 25,
    "start_time": "2023-07-27T18:56:11.640Z"
   },
   {
    "duration": 25430,
    "start_time": "2023-07-27T18:56:12.718Z"
   },
   {
    "duration": 44,
    "start_time": "2023-07-27T18:56:38.151Z"
   },
   {
    "duration": 35962,
    "start_time": "2023-07-27T18:56:42.849Z"
   },
   {
    "duration": 29,
    "start_time": "2023-07-27T19:04:55.164Z"
   },
   {
    "duration": 25,
    "start_time": "2023-07-27T19:05:11.989Z"
   },
   {
    "duration": 107,
    "start_time": "2023-07-27T19:06:36.516Z"
   },
   {
    "duration": 117,
    "start_time": "2023-07-27T19:07:12.656Z"
   },
   {
    "duration": 128,
    "start_time": "2023-07-27T19:07:36.572Z"
   },
   {
    "duration": 130,
    "start_time": "2023-07-27T19:08:31.290Z"
   },
   {
    "duration": 821,
    "start_time": "2023-07-27T19:11:44.447Z"
   },
   {
    "duration": 4,
    "start_time": "2023-07-27T19:12:05.388Z"
   },
   {
    "duration": 31806,
    "start_time": "2023-07-27T19:12:07.251Z"
   },
   {
    "duration": 345,
    "start_time": "2023-07-27T19:27:25.642Z"
   },
   {
    "duration": 16,
    "start_time": "2023-07-27T19:30:02.190Z"
   },
   {
    "duration": 4,
    "start_time": "2023-07-27T19:30:20.919Z"
   },
   {
    "duration": 777,
    "start_time": "2023-07-27T19:30:22.223Z"
   },
   {
    "duration": 12,
    "start_time": "2023-07-27T19:30:33.406Z"
   },
   {
    "duration": 106091,
    "start_time": "2023-07-27T19:31:34.086Z"
   },
   {
    "duration": 3,
    "start_time": "2023-07-27T19:38:34.159Z"
   },
   {
    "duration": 79015,
    "start_time": "2023-07-27T19:39:48.046Z"
   },
   {
    "duration": 4,
    "start_time": "2023-07-27T19:41:18.713Z"
   },
   {
    "duration": 839796,
    "start_time": "2023-07-27T19:41:33.154Z"
   },
   {
    "duration": 3,
    "start_time": "2023-07-27T19:56:08.455Z"
   },
   {
    "duration": 14,
    "start_time": "2023-07-27T19:57:48.562Z"
   },
   {
    "duration": 24,
    "start_time": "2023-07-27T20:03:12.609Z"
   },
   {
    "duration": 13,
    "start_time": "2023-07-27T20:07:53.994Z"
   },
   {
    "duration": 1741,
    "start_time": "2023-07-27T20:17:56.751Z"
   },
   {
    "duration": 979,
    "start_time": "2023-07-27T20:17:58.495Z"
   },
   {
    "duration": 6,
    "start_time": "2023-07-27T20:17:59.475Z"
   },
   {
    "duration": 5,
    "start_time": "2023-07-27T20:17:59.483Z"
   },
   {
    "duration": 126163,
    "start_time": "2023-07-27T20:17:59.491Z"
   },
   {
    "duration": 10,
    "start_time": "2023-07-27T20:20:05.656Z"
   },
   {
    "duration": 254,
    "start_time": "2023-07-27T20:20:05.675Z"
   },
   {
    "duration": 64,
    "start_time": "2023-07-27T20:20:05.931Z"
   },
   {
    "duration": 138,
    "start_time": "2023-07-27T20:20:05.996Z"
   },
   {
    "duration": 4,
    "start_time": "2023-07-27T20:20:06.136Z"
   },
   {
    "duration": 32507,
    "start_time": "2023-07-27T20:20:06.142Z"
   },
   {
    "duration": 5899340,
    "start_time": "2023-07-27T20:20:38.651Z"
   },
   {
    "duration": 11084,
    "start_time": "2023-07-27T22:06:59.760Z"
   },
   {
    "duration": 4156,
    "start_time": "2023-07-28T04:50:00.891Z"
   },
   {
    "duration": 4679,
    "start_time": "2023-07-28T04:50:05.049Z"
   },
   {
    "duration": 5,
    "start_time": "2023-07-28T04:50:09.730Z"
   },
   {
    "duration": 16,
    "start_time": "2023-07-28T04:50:09.738Z"
   },
   {
    "duration": 180088,
    "start_time": "2023-07-28T04:50:09.756Z"
   },
   {
    "duration": 8,
    "start_time": "2023-07-28T04:53:09.846Z"
   },
   {
    "duration": 1178,
    "start_time": "2023-07-28T04:53:09.855Z"
   },
   {
    "duration": 119,
    "start_time": "2023-07-28T04:53:11.034Z"
   },
   {
    "duration": 70,
    "start_time": "2023-07-28T04:55:50.739Z"
   },
   {
    "duration": 31362,
    "start_time": "2023-07-28T04:55:55.250Z"
   },
   {
    "duration": 168,
    "start_time": "2023-07-28T04:57:07.634Z"
   },
   {
    "duration": 16,
    "start_time": "2023-07-28T04:57:53.196Z"
   },
   {
    "duration": 12,
    "start_time": "2023-07-28T04:58:13.815Z"
   },
   {
    "duration": 84645,
    "start_time": "2023-07-28T04:58:31.486Z"
   },
   {
    "duration": 9,
    "start_time": "2023-07-28T04:59:56.133Z"
   },
   {
    "duration": 91993,
    "start_time": "2023-07-28T05:02:07.457Z"
   },
   {
    "duration": 269823,
    "start_time": "2023-07-28T05:03:40.786Z"
   },
   {
    "duration": 4,
    "start_time": "2023-07-28T05:08:10.611Z"
   },
   {
    "duration": 283495,
    "start_time": "2023-07-28T05:09:08.115Z"
   },
   {
    "duration": 17,
    "start_time": "2023-07-28T05:13:51.613Z"
   },
   {
    "duration": 0,
    "start_time": "2023-07-28T05:13:51.632Z"
   },
   {
    "duration": 15,
    "start_time": "2023-07-28T05:14:43.796Z"
   },
   {
    "duration": 31,
    "start_time": "2023-07-28T05:15:15.706Z"
   },
   {
    "duration": 295,
    "start_time": "2023-07-28T05:21:07.149Z"
   },
   {
    "duration": 0,
    "start_time": "2023-07-28T05:30:47.925Z"
   },
   {
    "duration": 10,
    "start_time": "2023-07-28T05:31:03.443Z"
   },
   {
    "duration": 562476,
    "start_time": "2023-07-28T05:31:08.511Z"
   },
   {
    "duration": 0,
    "start_time": "2023-07-28T05:40:30.989Z"
   },
   {
    "duration": 182,
    "start_time": "2023-07-28T05:43:46.266Z"
   },
   {
    "duration": 20,
    "start_time": "2023-07-28T05:50:49.146Z"
   },
   {
    "duration": 12,
    "start_time": "2023-07-28T05:51:05.444Z"
   },
   {
    "duration": 29682,
    "start_time": "2023-07-28T05:52:27.199Z"
   },
   {
    "duration": 834702,
    "start_time": "2023-07-28T05:53:04.779Z"
   },
   {
    "duration": 638,
    "start_time": "2023-07-28T06:11:53.670Z"
   },
   {
    "duration": 1909837,
    "start_time": "2023-07-28T06:12:22.710Z"
   },
   {
    "duration": 300,
    "start_time": "2023-07-28T06:44:12.549Z"
   },
   {
    "duration": 433,
    "start_time": "2023-07-28T06:53:05.400Z"
   },
   {
    "duration": 414,
    "start_time": "2023-07-28T06:53:14.143Z"
   },
   {
    "duration": 2752,
    "start_time": "2023-08-02T18:12:05.300Z"
   },
   {
    "duration": 3619,
    "start_time": "2023-08-02T18:12:08.054Z"
   },
   {
    "duration": 5,
    "start_time": "2023-08-02T18:12:11.675Z"
   },
   {
    "duration": 19,
    "start_time": "2023-08-02T18:12:11.681Z"
   },
   {
    "duration": 84708,
    "start_time": "2023-08-02T18:12:11.703Z"
   },
   {
    "duration": 8,
    "start_time": "2023-08-02T18:14:25.087Z"
   },
   {
    "duration": 1189,
    "start_time": "2023-08-02T18:14:27.389Z"
   },
   {
    "duration": 111,
    "start_time": "2023-08-02T18:14:51.031Z"
   },
   {
    "duration": 7160,
    "start_time": "2023-08-02T18:15:08.292Z"
   },
   {
    "duration": 38414,
    "start_time": "2023-08-02T18:15:41.804Z"
   },
   {
    "duration": 1163553,
    "start_time": "2023-08-02T18:16:34.464Z"
   },
   {
    "duration": 454,
    "start_time": "2023-08-02T18:37:27.833Z"
   },
   {
    "duration": 1612611,
    "start_time": "2023-08-02T18:37:49.778Z"
   },
   {
    "duration": 5,
    "start_time": "2023-08-02T19:06:58.828Z"
   },
   {
    "duration": 47,
    "start_time": "2023-08-02T19:07:51.383Z"
   },
   {
    "duration": 6763,
    "start_time": "2023-08-02T19:07:52.517Z"
   },
   {
    "duration": 899923,
    "start_time": "2023-08-02T19:08:06.790Z"
   },
   {
    "duration": 311,
    "start_time": "2023-08-02T19:23:39.069Z"
   },
   {
    "duration": 5,
    "start_time": "2023-08-02T19:25:35.258Z"
   },
   {
    "duration": 26,
    "start_time": "2023-08-02T19:25:36.129Z"
   },
   {
    "duration": 4,
    "start_time": "2023-08-02T19:25:53.800Z"
   },
   {
    "duration": 130792,
    "start_time": "2023-08-02T19:25:54.569Z"
   },
   {
    "duration": 4,
    "start_time": "2023-08-02T19:28:57.236Z"
   },
   {
    "duration": 147006,
    "start_time": "2023-08-02T19:28:58.242Z"
   },
   {
    "duration": 4,
    "start_time": "2023-08-02T19:32:02.788Z"
   },
   {
    "duration": 134520,
    "start_time": "2023-08-02T19:32:05.319Z"
   },
   {
    "duration": 4,
    "start_time": "2023-08-02T19:38:17.969Z"
   },
   {
    "duration": 83199,
    "start_time": "2023-08-02T19:38:18.747Z"
   },
   {
    "duration": 71,
    "start_time": "2023-08-02T19:42:12.641Z"
   },
   {
    "duration": 6877,
    "start_time": "2023-08-02T19:42:14.041Z"
   },
   {
    "duration": 258484,
    "start_time": "2023-08-02T19:42:37.587Z"
   },
   {
    "duration": 281,
    "start_time": "2023-08-02T19:47:07.715Z"
   },
   {
    "duration": 8090,
    "start_time": "2023-08-02T19:47:25.254Z"
   },
   {
    "duration": 7332,
    "start_time": "2023-08-02T19:48:07.353Z"
   },
   {
    "duration": 1311302,
    "start_time": "2023-08-02T19:48:38.457Z"
   },
   {
    "duration": 384,
    "start_time": "2023-08-02T20:11:30.132Z"
   },
   {
    "duration": 654671,
    "start_time": "2023-08-02T20:12:22.534Z"
   },
   {
    "duration": 8062,
    "start_time": "2023-08-02T20:23:30.096Z"
   },
   {
    "duration": 8329,
    "start_time": "2023-08-02T20:23:55.458Z"
   },
   {
    "duration": 15,
    "start_time": "2023-08-02T20:24:10.308Z"
   },
   {
    "duration": 239,
    "start_time": "2023-08-02T20:24:16.007Z"
   },
   {
    "duration": 3,
    "start_time": "2023-08-02T20:24:21.456Z"
   },
   {
    "duration": 122,
    "start_time": "2023-08-02T20:29:34.180Z"
   },
   {
    "duration": 16,
    "start_time": "2023-08-02T20:29:41.835Z"
   },
   {
    "duration": 23,
    "start_time": "2023-08-02T20:30:17.462Z"
   },
   {
    "duration": 15,
    "start_time": "2023-08-02T20:30:33.508Z"
   },
   {
    "duration": 1856,
    "start_time": "2023-08-02T20:32:20.361Z"
   },
   {
    "duration": 3771,
    "start_time": "2023-08-02T20:32:22.220Z"
   },
   {
    "duration": 4,
    "start_time": "2023-08-02T20:32:25.993Z"
   },
   {
    "duration": 8,
    "start_time": "2023-08-02T20:32:25.998Z"
   },
   {
    "duration": 89199,
    "start_time": "2023-08-02T20:32:26.008Z"
   },
   {
    "duration": 36,
    "start_time": "2023-08-02T20:33:55.209Z"
   },
   {
    "duration": 442,
    "start_time": "2023-08-02T20:33:55.247Z"
   },
   {
    "duration": 75,
    "start_time": "2023-08-02T20:33:55.692Z"
   },
   {
    "duration": 7345,
    "start_time": "2023-08-02T20:33:55.774Z"
   },
   {
    "duration": 3,
    "start_time": "2023-08-02T20:34:03.121Z"
   },
   {
    "duration": 1766,
    "start_time": "2023-08-02T20:41:37.739Z"
   },
   {
    "duration": 954,
    "start_time": "2023-08-02T20:41:39.508Z"
   },
   {
    "duration": 6,
    "start_time": "2023-08-02T20:41:40.463Z"
   },
   {
    "duration": 7,
    "start_time": "2023-08-02T20:41:40.473Z"
   },
   {
    "duration": 65138,
    "start_time": "2023-08-02T20:41:40.482Z"
   },
   {
    "duration": 0,
    "start_time": "2023-08-02T20:42:45.622Z"
   },
   {
    "duration": 0,
    "start_time": "2023-08-02T20:42:45.624Z"
   },
   {
    "duration": 0,
    "start_time": "2023-08-02T20:42:45.624Z"
   },
   {
    "duration": 0,
    "start_time": "2023-08-02T20:42:45.626Z"
   },
   {
    "duration": 0,
    "start_time": "2023-08-02T20:42:45.627Z"
   },
   {
    "duration": 0,
    "start_time": "2023-08-02T20:42:45.628Z"
   },
   {
    "duration": 0,
    "start_time": "2023-08-02T20:42:45.630Z"
   },
   {
    "duration": 0,
    "start_time": "2023-08-02T20:42:45.631Z"
   },
   {
    "duration": 0,
    "start_time": "2023-08-02T20:42:45.632Z"
   },
   {
    "duration": 0,
    "start_time": "2023-08-02T20:42:45.633Z"
   },
   {
    "duration": 0,
    "start_time": "2023-08-02T20:42:45.634Z"
   },
   {
    "duration": 0,
    "start_time": "2023-08-02T20:42:45.635Z"
   },
   {
    "duration": 0,
    "start_time": "2023-08-02T20:42:45.636Z"
   },
   {
    "duration": 0,
    "start_time": "2023-08-02T20:42:45.637Z"
   },
   {
    "duration": 0,
    "start_time": "2023-08-02T20:42:45.638Z"
   },
   {
    "duration": 0,
    "start_time": "2023-08-02T20:42:45.669Z"
   },
   {
    "duration": 88814,
    "start_time": "2023-08-02T20:42:48.479Z"
   },
   {
    "duration": 8,
    "start_time": "2023-08-02T20:44:17.295Z"
   },
   {
    "duration": 478,
    "start_time": "2023-08-02T20:44:17.305Z"
   },
   {
    "duration": 96,
    "start_time": "2023-08-02T20:44:17.786Z"
   },
   {
    "duration": 7661,
    "start_time": "2023-08-02T20:44:17.884Z"
   },
   {
    "duration": 22,
    "start_time": "2023-08-02T20:45:08.386Z"
   },
   {
    "duration": 9,
    "start_time": "2023-08-02T20:45:20.089Z"
   },
   {
    "duration": 128,
    "start_time": "2023-08-02T20:45:21.159Z"
   },
   {
    "duration": 71,
    "start_time": "2023-08-02T20:45:24.629Z"
   },
   {
    "duration": 7969,
    "start_time": "2023-08-02T20:45:25.342Z"
   },
   {
    "duration": 4,
    "start_time": "2023-08-02T20:45:33.313Z"
   },
   {
    "duration": 13,
    "start_time": "2023-08-02T20:45:39.788Z"
   },
   {
    "duration": 4,
    "start_time": "2023-08-02T20:46:33.501Z"
   },
   {
    "duration": 11,
    "start_time": "2023-08-02T20:46:48.246Z"
   },
   {
    "duration": 5,
    "start_time": "2023-08-02T20:47:53.057Z"
   },
   {
    "duration": 13,
    "start_time": "2023-08-02T20:48:04.006Z"
   },
   {
    "duration": 7,
    "start_time": "2023-08-02T20:51:06.438Z"
   },
   {
    "duration": 298,
    "start_time": "2023-08-02T20:54:22.581Z"
   },
   {
    "duration": 110,
    "start_time": "2023-08-02T20:55:21.380Z"
   },
   {
    "duration": 170,
    "start_time": "2023-08-02T20:55:26.920Z"
   },
   {
    "duration": 2216,
    "start_time": "2023-08-02T20:55:31.766Z"
   },
   {
    "duration": 190995,
    "start_time": "2023-08-02T20:56:05.317Z"
   },
   {
    "duration": 1584,
    "start_time": "2023-08-03T04:56:06.094Z"
   },
   {
    "duration": 3331,
    "start_time": "2023-08-03T04:56:07.681Z"
   },
   {
    "duration": 5,
    "start_time": "2023-08-03T04:56:11.013Z"
   },
   {
    "duration": 4,
    "start_time": "2023-08-03T04:56:11.020Z"
   },
   {
    "duration": 73189,
    "start_time": "2023-08-03T04:56:11.025Z"
   },
   {
    "duration": 7,
    "start_time": "2023-08-03T04:57:24.216Z"
   },
   {
    "duration": 605,
    "start_time": "2023-08-03T04:57:24.225Z"
   },
   {
    "duration": 103,
    "start_time": "2023-08-03T04:57:24.832Z"
   },
   {
    "duration": 6271,
    "start_time": "2023-08-03T04:57:24.936Z"
   },
   {
    "duration": 3,
    "start_time": "2023-08-03T04:57:31.209Z"
   },
   {
    "duration": 2297,
    "start_time": "2023-08-03T19:01:21.428Z"
   },
   {
    "duration": 4574,
    "start_time": "2023-08-03T19:01:23.730Z"
   },
   {
    "duration": 5,
    "start_time": "2023-08-03T19:01:28.305Z"
   },
   {
    "duration": 15,
    "start_time": "2023-08-03T19:01:28.313Z"
   },
   {
    "duration": 97370,
    "start_time": "2023-08-03T19:01:28.330Z"
   },
   {
    "duration": 8,
    "start_time": "2023-08-03T19:03:05.702Z"
   },
   {
    "duration": 749,
    "start_time": "2023-08-03T19:03:05.711Z"
   },
   {
    "duration": 131,
    "start_time": "2023-08-03T19:03:06.462Z"
   },
   {
    "duration": 8033,
    "start_time": "2023-08-03T19:03:06.595Z"
   },
   {
    "duration": 3,
    "start_time": "2023-08-03T19:03:14.630Z"
   },
   {
    "duration": 5760361,
    "start_time": "2023-08-03T19:03:14.635Z"
   },
   {
    "duration": 1493,
    "start_time": "2023-08-07T03:53:49.098Z"
   },
   {
    "duration": 2259,
    "start_time": "2023-08-07T03:53:50.594Z"
   },
   {
    "duration": 4,
    "start_time": "2023-08-07T03:53:52.855Z"
   },
   {
    "duration": 7,
    "start_time": "2023-08-07T03:53:52.861Z"
   },
   {
    "duration": 74016,
    "start_time": "2023-08-07T03:53:52.869Z"
   },
   {
    "duration": 7,
    "start_time": "2023-08-07T03:55:06.886Z"
   },
   {
    "duration": 570,
    "start_time": "2023-08-07T03:55:06.894Z"
   },
   {
    "duration": 88,
    "start_time": "2023-08-07T03:55:07.466Z"
   },
   {
    "duration": 5612,
    "start_time": "2023-08-07T03:55:07.555Z"
   },
   {
    "duration": 3,
    "start_time": "2023-08-07T03:55:13.168Z"
   },
   {
    "duration": 116,
    "start_time": "2023-08-07T03:55:13.173Z"
   },
   {
    "duration": 165221,
    "start_time": "2023-08-07T03:57:28.417Z"
   },
   {
    "duration": 3,
    "start_time": "2023-08-07T04:00:54.521Z"
   },
   {
    "duration": 74576,
    "start_time": "2023-08-07T04:01:01.321Z"
   },
   {
    "duration": 73547,
    "start_time": "2023-08-07T04:05:10.795Z"
   },
   {
    "duration": 5,
    "start_time": "2023-08-07T04:09:28.322Z"
   },
   {
    "duration": 120601,
    "start_time": "2023-08-07T04:09:32.662Z"
   },
   {
    "duration": 3,
    "start_time": "2023-08-07T04:12:03.160Z"
   },
   {
    "duration": 74014,
    "start_time": "2023-08-07T04:12:08.219Z"
   },
   {
    "duration": 22,
    "start_time": "2023-08-07T04:19:40.447Z"
   },
   {
    "duration": 21,
    "start_time": "2023-08-07T04:20:07.802Z"
   },
   {
    "duration": 5912,
    "start_time": "2023-08-07T04:20:18.707Z"
   },
   {
    "duration": 5737,
    "start_time": "2023-08-07T04:21:00.210Z"
   },
   {
    "duration": 2,
    "start_time": "2023-08-07T04:21:14.068Z"
   },
   {
    "duration": 2263089,
    "start_time": "2023-08-07T04:21:22.385Z"
   },
   {
    "duration": 46,
    "start_time": "2023-08-07T04:59:52.247Z"
   },
   {
    "duration": 6,
    "start_time": "2023-08-07T05:00:03.268Z"
   },
   {
    "duration": 1607,
    "start_time": "2023-08-07T05:00:23.327Z"
   },
   {
    "duration": 2353,
    "start_time": "2023-08-07T05:00:24.936Z"
   },
   {
    "duration": 4,
    "start_time": "2023-08-07T05:00:27.290Z"
   },
   {
    "duration": 31,
    "start_time": "2023-08-07T05:00:27.296Z"
   },
   {
    "duration": 78952,
    "start_time": "2023-08-07T05:00:27.328Z"
   },
   {
    "duration": 7,
    "start_time": "2023-08-07T05:01:46.281Z"
   },
   {
    "duration": 364,
    "start_time": "2023-08-07T05:01:46.289Z"
   },
   {
    "duration": 32,
    "start_time": "2023-08-07T05:01:46.655Z"
   },
   {
    "duration": 5754,
    "start_time": "2023-08-07T05:01:46.689Z"
   },
   {
    "duration": 2,
    "start_time": "2023-08-07T05:01:52.447Z"
   },
   {
    "duration": 47,
    "start_time": "2023-08-07T05:02:20.986Z"
   },
   {
    "duration": 1750,
    "start_time": "2023-08-07T05:02:28.897Z"
   },
   {
    "duration": 2366,
    "start_time": "2023-08-07T05:02:30.649Z"
   },
   {
    "duration": 4,
    "start_time": "2023-08-07T05:02:33.017Z"
   },
   {
    "duration": 10,
    "start_time": "2023-08-07T05:02:33.023Z"
   },
   {
    "duration": 77413,
    "start_time": "2023-08-07T05:02:33.034Z"
   },
   {
    "duration": 8,
    "start_time": "2023-08-07T05:03:50.448Z"
   },
   {
    "duration": 349,
    "start_time": "2023-08-07T05:03:50.457Z"
   },
   {
    "duration": 45,
    "start_time": "2023-08-07T05:03:50.807Z"
   },
   {
    "duration": 5683,
    "start_time": "2023-08-07T05:03:50.854Z"
   },
   {
    "duration": 2,
    "start_time": "2023-08-07T05:03:56.539Z"
   },
   {
    "duration": 933720,
    "start_time": "2023-08-07T05:03:56.543Z"
   },
   {
    "duration": 5932,
    "start_time": "2023-08-07T05:19:40.508Z"
   },
   {
    "duration": 3,
    "start_time": "2023-08-07T05:19:49.280Z"
   },
   {
    "duration": 1674468,
    "start_time": "2023-08-07T05:19:52.451Z"
   },
   {
    "duration": 47,
    "start_time": "2023-08-07T05:47:52.719Z"
   },
   {
    "duration": 106,
    "start_time": "2023-08-07T05:48:04.085Z"
   },
   {
    "duration": 139,
    "start_time": "2023-08-07T05:48:46.374Z"
   },
   {
    "duration": 3,
    "start_time": "2023-08-07T05:49:07.195Z"
   },
   {
    "duration": 20790,
    "start_time": "2023-08-07T05:49:17.024Z"
   },
   {
    "duration": 105,
    "start_time": "2023-08-07T05:49:47.559Z"
   },
   {
    "duration": 3,
    "start_time": "2023-08-07T05:50:21.191Z"
   },
   {
    "duration": 170363,
    "start_time": "2023-08-07T05:50:22.357Z"
   },
   {
    "duration": 15,
    "start_time": "2023-08-07T05:55:17.523Z"
   },
   {
    "duration": 91891,
    "start_time": "2023-08-07T05:57:09.135Z"
   },
   {
    "duration": 81,
    "start_time": "2023-08-07T05:58:50.144Z"
   },
   {
    "duration": 16,
    "start_time": "2023-08-07T05:58:57.119Z"
   },
   {
    "duration": 3,
    "start_time": "2023-08-07T06:00:21.744Z"
   },
   {
    "duration": 510918,
    "start_time": "2023-08-07T06:00:41.521Z"
   },
   {
    "duration": 3,
    "start_time": "2023-08-07T06:19:14.262Z"
   },
   {
    "duration": 11,
    "start_time": "2023-08-07T06:19:58.436Z"
   },
   {
    "duration": 8453,
    "start_time": "2023-08-07T06:20:53.513Z"
   },
   {
    "duration": 15,
    "start_time": "2023-08-07T06:21:40.358Z"
   },
   {
    "duration": 3,
    "start_time": "2023-08-07T06:21:49.816Z"
   },
   {
    "duration": 771096,
    "start_time": "2023-08-07T06:22:02.469Z"
   },
   {
    "duration": 3,
    "start_time": "2023-08-07T06:37:34.051Z"
   },
   {
    "duration": 6128,
    "start_time": "2023-08-07T06:38:31.442Z"
   },
   {
    "duration": 5940,
    "start_time": "2023-08-07T06:38:50.221Z"
   },
   {
    "duration": 5974,
    "start_time": "2023-08-07T06:39:23.971Z"
   },
   {
    "duration": 5899,
    "start_time": "2023-08-07T06:39:39.516Z"
   },
   {
    "duration": 5842,
    "start_time": "2023-08-07T06:41:11.925Z"
   },
   {
    "duration": 29,
    "start_time": "2023-08-07T06:47:12.310Z"
   },
   {
    "duration": 5970,
    "start_time": "2023-08-07T06:47:18.429Z"
   },
   {
    "duration": 5584,
    "start_time": "2023-08-07T06:47:37.850Z"
   },
   {
    "duration": 3,
    "start_time": "2023-08-07T06:47:53.581Z"
   },
   {
    "duration": 111814,
    "start_time": "2023-08-07T06:47:54.374Z"
   },
   {
    "duration": 20,
    "start_time": "2023-08-07T06:49:52.106Z"
   },
   {
    "duration": 14,
    "start_time": "2023-08-07T06:50:05.885Z"
   },
   {
    "duration": 92574,
    "start_time": "2023-08-07T06:50:29.608Z"
   },
   {
    "duration": 4,
    "start_time": "2023-08-07T06:55:12.448Z"
   },
   {
    "duration": 104,
    "start_time": "2023-08-07T06:55:59.848Z"
   },
   {
    "duration": 174547,
    "start_time": "2023-08-07T06:56:18.803Z"
   },
   {
    "duration": 13,
    "start_time": "2023-08-07T06:59:23.074Z"
   },
   {
    "duration": 98503,
    "start_time": "2023-08-07T06:59:33.945Z"
   },
   {
    "duration": 14,
    "start_time": "2023-08-07T07:08:08.520Z"
   },
   {
    "duration": 8339,
    "start_time": "2023-08-07T07:08:17.016Z"
   },
   {
    "duration": 91566,
    "start_time": "2023-08-07T07:08:34.177Z"
   },
   {
    "duration": 4,
    "start_time": "2023-08-07T07:17:11.080Z"
   },
   {
    "duration": 15,
    "start_time": "2023-08-07T07:17:20.095Z"
   },
   {
    "duration": 175496,
    "start_time": "2023-08-07T07:17:35.672Z"
   },
   {
    "duration": 3,
    "start_time": "2023-08-07T07:20:31.170Z"
   },
   {
    "duration": 1798,
    "start_time": "2023-08-07T13:14:10.298Z"
   },
   {
    "duration": 3879,
    "start_time": "2023-08-07T13:14:12.098Z"
   },
   {
    "duration": 5,
    "start_time": "2023-08-07T13:14:15.979Z"
   },
   {
    "duration": 10,
    "start_time": "2023-08-07T13:14:15.987Z"
   },
   {
    "duration": 85117,
    "start_time": "2023-08-07T13:14:15.999Z"
   },
   {
    "duration": 8,
    "start_time": "2023-08-07T13:15:41.118Z"
   },
   {
    "duration": 661,
    "start_time": "2023-08-07T13:15:41.127Z"
   },
   {
    "duration": 103,
    "start_time": "2023-08-07T13:15:41.790Z"
   },
   {
    "duration": 6791,
    "start_time": "2023-08-07T13:15:41.894Z"
   },
   {
    "duration": 3,
    "start_time": "2023-08-07T13:15:48.687Z"
   },
   {
    "duration": 140675,
    "start_time": "2023-08-07T13:15:48.692Z"
   },
   {
    "duration": 4,
    "start_time": "2023-08-07T13:18:09.369Z"
   },
   {
    "duration": 95408,
    "start_time": "2023-08-07T13:18:09.374Z"
   },
   {
    "duration": 4,
    "start_time": "2023-08-07T13:19:44.784Z"
   },
   {
    "duration": 193840,
    "start_time": "2023-08-07T13:19:44.789Z"
   },
   {
    "duration": 4,
    "start_time": "2023-08-07T13:22:58.631Z"
   },
   {
    "duration": 7244989,
    "start_time": "2023-08-07T13:24:16.719Z"
   },
   {
    "duration": 22,
    "start_time": "2023-08-07T15:43:32.989Z"
   },
   {
    "duration": 7,
    "start_time": "2023-08-07T15:44:46.455Z"
   },
   {
    "duration": 144,
    "start_time": "2023-08-07T16:55:58.897Z"
   },
   {
    "duration": 6,
    "start_time": "2023-08-07T16:56:05.498Z"
   },
   {
    "duration": 4,
    "start_time": "2023-08-07T16:56:16.025Z"
   },
   {
    "duration": 15,
    "start_time": "2023-08-07T17:02:02.757Z"
   },
   {
    "duration": 199,
    "start_time": "2023-08-07T17:03:32.314Z"
   },
   {
    "duration": 271,
    "start_time": "2023-08-07T17:04:08.516Z"
   },
   {
    "duration": 186,
    "start_time": "2023-08-07T17:04:26.303Z"
   },
   {
    "duration": 2392,
    "start_time": "2023-08-07T20:47:42.673Z"
   },
   {
    "duration": 3529,
    "start_time": "2023-08-07T20:47:45.066Z"
   },
   {
    "duration": 29,
    "start_time": "2023-08-07T20:47:48.596Z"
   },
   {
    "duration": 23,
    "start_time": "2023-08-07T20:47:48.634Z"
   },
   {
    "duration": 107720,
    "start_time": "2023-08-07T20:47:48.658Z"
   },
   {
    "duration": 10,
    "start_time": "2023-08-07T20:49:36.380Z"
   },
   {
    "duration": 173,
    "start_time": "2023-08-07T20:49:36.406Z"
   },
   {
    "duration": 61,
    "start_time": "2023-08-07T20:49:36.581Z"
   },
   {
    "duration": 7698,
    "start_time": "2023-08-07T20:49:36.643Z"
   },
   {
    "duration": 4,
    "start_time": "2023-08-07T20:49:44.349Z"
   },
   {
    "duration": 31,
    "start_time": "2023-08-07T20:49:44.356Z"
   },
   {
    "duration": 151068,
    "start_time": "2023-08-07T20:49:44.389Z"
   },
   {
    "duration": 4,
    "start_time": "2023-08-07T20:52:15.458Z"
   },
   {
    "duration": 54,
    "start_time": "2023-08-07T20:52:15.463Z"
   },
   {
    "duration": 184,
    "start_time": "2023-08-07T20:52:15.523Z"
   },
   {
    "duration": 4852,
    "start_time": "2023-08-08T05:52:15.152Z"
   },
   {
    "duration": 2231,
    "start_time": "2023-08-08T05:52:20.006Z"
   },
   {
    "duration": 4,
    "start_time": "2023-08-08T05:52:22.238Z"
   },
   {
    "duration": 3,
    "start_time": "2023-08-08T05:52:31.506Z"
   },
   {
    "duration": 735,
    "start_time": "2023-08-08T05:53:13.570Z"
   },
   {
    "duration": 4,
    "start_time": "2023-08-08T05:53:55.238Z"
   },
   {
    "duration": 9068,
    "start_time": "2023-08-08T05:53:57.340Z"
   },
   {
    "duration": 7465289,
    "start_time": "2023-08-08T05:54:13.377Z"
   },
   {
    "duration": 4,
    "start_time": "2023-08-08T08:02:13.686Z"
   },
   {
    "duration": 464,
    "start_time": "2023-08-08T08:02:24.324Z"
   },
   {
    "duration": 1028841,
    "start_time": "2023-08-08T08:03:47.716Z"
   },
   {
    "duration": 3,
    "start_time": "2023-08-08T08:30:28.012Z"
   },
   {
    "duration": 900340,
    "start_time": "2023-08-08T08:30:31.597Z"
   },
   {
    "duration": 3,
    "start_time": "2023-08-08T08:46:14.696Z"
   },
   {
    "duration": 916889,
    "start_time": "2023-08-08T08:46:18.923Z"
   },
   {
    "duration": 4,
    "start_time": "2023-08-08T09:02:14.826Z"
   },
   {
    "duration": 955730,
    "start_time": "2023-08-08T09:02:43.815Z"
   },
   {
    "duration": 9,
    "start_time": "2023-08-08T09:23:58.596Z"
   },
   {
    "duration": 109,
    "start_time": "2023-08-08T09:23:59.639Z"
   },
   {
    "duration": 3,
    "start_time": "2023-08-08T09:24:37.861Z"
   },
   {
    "duration": 7,
    "start_time": "2023-08-08T09:24:38.794Z"
   },
   {
    "duration": 102,
    "start_time": "2023-08-08T09:24:53.970Z"
   },
   {
    "duration": 212,
    "start_time": "2023-08-08T09:25:10.795Z"
   },
   {
    "duration": 140,
    "start_time": "2023-08-08T09:25:25.786Z"
   },
   {
    "duration": 4,
    "start_time": "2023-08-08T09:25:49.941Z"
   },
   {
    "duration": 1317,
    "start_time": "2023-08-08T09:25:56.867Z"
   },
   {
    "duration": 169,
    "start_time": "2023-08-08T09:27:23.064Z"
   },
   {
    "duration": 35,
    "start_time": "2023-08-08T09:27:33.189Z"
   },
   {
    "duration": 2,
    "start_time": "2023-08-08T09:27:41.208Z"
   },
   {
    "duration": 4,
    "start_time": "2023-08-08T09:27:45.042Z"
   },
   {
    "duration": 113,
    "start_time": "2023-08-08T09:27:48.638Z"
   },
   {
    "duration": 210,
    "start_time": "2023-08-08T09:28:07.064Z"
   },
   {
    "duration": 271,
    "start_time": "2023-08-08T09:28:23.371Z"
   },
   {
    "duration": 319,
    "start_time": "2023-08-08T09:29:00.755Z"
   },
   {
    "duration": 274,
    "start_time": "2023-08-08T09:29:21.298Z"
   },
   {
    "duration": 383,
    "start_time": "2023-08-08T09:31:02.694Z"
   },
   {
    "duration": 97,
    "start_time": "2023-08-08T09:33:02.471Z"
   },
   {
    "duration": 197,
    "start_time": "2023-08-08T09:34:43.210Z"
   },
   {
    "duration": 186,
    "start_time": "2023-08-08T09:34:53.706Z"
   },
   {
    "duration": 59187,
    "start_time": "2023-08-08T09:35:08.214Z"
   },
   {
    "duration": 177087,
    "start_time": "2023-08-08T09:36:15.630Z"
   },
   {
    "duration": 3015,
    "start_time": "2023-08-08T09:39:20.242Z"
   },
   {
    "duration": 63736,
    "start_time": "2023-08-08T09:39:29.648Z"
   },
   {
    "duration": 197432,
    "start_time": "2023-08-08T09:40:41.226Z"
   },
   {
    "duration": 314552,
    "start_time": "2023-08-08T09:44:06.216Z"
   },
   {
    "duration": 4,
    "start_time": "2023-08-08T09:49:20.769Z"
   },
   {
    "duration": 29,
    "start_time": "2023-08-08T09:49:47.730Z"
   },
   {
    "duration": 198817,
    "start_time": "2023-08-08T09:50:01.087Z"
   },
   {
    "duration": 4,
    "start_time": "2023-08-08T09:53:19.906Z"
   },
   {
    "duration": 353069,
    "start_time": "2023-08-08T09:53:41.100Z"
   },
   {
    "duration": 3,
    "start_time": "2023-08-08T09:59:34.171Z"
   },
   {
    "duration": 3649,
    "start_time": "2023-08-08T10:00:18.767Z"
   },
   {
    "duration": 5397,
    "start_time": "2023-08-08T10:16:41.723Z"
   },
   {
    "duration": 2451,
    "start_time": "2023-08-08T10:16:47.122Z"
   },
   {
    "duration": 4,
    "start_time": "2023-08-08T10:16:49.574Z"
   },
   {
    "duration": 7,
    "start_time": "2023-08-08T10:16:49.580Z"
   },
   {
    "duration": 928122,
    "start_time": "2023-08-08T10:16:49.588Z"
   },
   {
    "duration": 29,
    "start_time": "2023-08-08T10:32:17.711Z"
   },
   {
    "duration": 133,
    "start_time": "2023-08-08T10:32:17.742Z"
   },
   {
    "duration": 40,
    "start_time": "2023-08-08T10:32:17.876Z"
   },
   {
    "duration": 25,
    "start_time": "2023-08-08T10:32:17.918Z"
   },
   {
    "duration": 36,
    "start_time": "2023-08-08T10:32:17.945Z"
   },
   {
    "duration": 63,
    "start_time": "2023-08-08T10:32:17.983Z"
   },
   {
    "duration": 313241,
    "start_time": "2023-08-08T10:32:18.048Z"
   },
   {
    "duration": 9,
    "start_time": "2023-08-08T10:37:31.291Z"
   },
   {
    "duration": 18185,
    "start_time": "2023-08-08T10:37:31.302Z"
   },
   {
    "duration": 11799,
    "start_time": "2023-08-08T10:38:57.782Z"
   },
   {
    "duration": 602492,
    "start_time": "2023-08-08T10:39:27.162Z"
   },
   {
    "duration": 150,
    "start_time": "2023-08-08T10:50:10.040Z"
   },
   {
    "duration": 23172,
    "start_time": "2023-08-08T11:23:00.883Z"
   },
   {
    "duration": 2620,
    "start_time": "2023-08-08T11:23:24.057Z"
   },
   {
    "duration": 5,
    "start_time": "2023-08-08T11:23:26.678Z"
   },
   {
    "duration": 35,
    "start_time": "2023-08-08T11:23:26.684Z"
   },
   {
    "duration": 962704,
    "start_time": "2023-08-08T11:23:26.722Z"
   },
   {
    "duration": 29,
    "start_time": "2023-08-08T11:39:29.430Z"
   },
   {
    "duration": 162,
    "start_time": "2023-08-08T11:39:29.460Z"
   },
   {
    "duration": 36,
    "start_time": "2023-08-08T11:39:29.629Z"
   },
   {
    "duration": 3,
    "start_time": "2023-08-08T11:39:29.667Z"
   },
   {
    "duration": 16,
    "start_time": "2023-08-08T11:39:29.671Z"
   },
   {
    "duration": 3586961,
    "start_time": "2023-08-08T11:39:29.688Z"
   },
   {
    "duration": 0,
    "start_time": "2023-08-08T12:39:16.655Z"
   },
   {
    "duration": 850301,
    "start_time": "2023-08-08T12:49:36.878Z"
   },
   {
    "duration": 0,
    "start_time": "2023-08-08T13:03:47.181Z"
   },
   {
    "duration": 0,
    "start_time": "2023-08-08T13:03:47.183Z"
   },
   {
    "duration": 14318,
    "start_time": "2023-08-08T13:05:12.972Z"
   },
   {
    "duration": 1676174,
    "start_time": "2023-08-08T13:05:50.424Z"
   },
   {
    "duration": 2932129,
    "start_time": "2023-08-08T13:34:25.168Z"
   },
   {
    "duration": 15,
    "start_time": "2023-08-08T15:48:06.977Z"
   },
   {
    "duration": 2764,
    "start_time": "2023-08-08T15:48:06.993Z"
   },
   {
    "duration": 4,
    "start_time": "2023-08-08T15:48:09.758Z"
   },
   {
    "duration": 7,
    "start_time": "2023-08-08T15:48:09.763Z"
   },
   {
    "duration": 961225,
    "start_time": "2023-08-08T15:48:09.772Z"
   },
   {
    "duration": 27,
    "start_time": "2023-08-08T16:04:11.006Z"
   },
   {
    "duration": 122,
    "start_time": "2023-08-08T16:04:11.042Z"
   },
   {
    "duration": 49,
    "start_time": "2023-08-08T16:04:11.165Z"
   },
   {
    "duration": 6,
    "start_time": "2023-08-08T16:04:11.228Z"
   },
   {
    "duration": 15,
    "start_time": "2023-08-08T16:04:11.235Z"
   },
   {
    "duration": 332144,
    "start_time": "2023-08-08T16:04:11.252Z"
   },
   {
    "duration": 5046,
    "start_time": "2023-08-09T06:10:02.911Z"
   },
   {
    "duration": 5,
    "start_time": "2023-08-09T06:10:30.569Z"
   },
   {
    "duration": 3530,
    "start_time": "2023-08-09T06:10:30.576Z"
   },
   {
    "duration": 3,
    "start_time": "2023-08-09T06:10:34.108Z"
   },
   {
    "duration": 9,
    "start_time": "2023-08-09T06:10:34.112Z"
   },
   {
    "duration": 984899,
    "start_time": "2023-08-09T06:10:34.123Z"
   },
   {
    "duration": 33,
    "start_time": "2023-08-09T06:26:59.024Z"
   },
   {
    "duration": 116,
    "start_time": "2023-08-09T06:26:59.058Z"
   },
   {
    "duration": 54,
    "start_time": "2023-08-09T06:26:59.176Z"
   },
   {
    "duration": 3,
    "start_time": "2023-08-09T06:26:59.231Z"
   },
   {
    "duration": 30,
    "start_time": "2023-08-09T06:26:59.236Z"
   },
   {
    "duration": 322393,
    "start_time": "2023-08-09T06:26:59.267Z"
   },
   {
    "duration": 4,
    "start_time": "2023-08-09T06:32:21.662Z"
   },
   {
    "duration": 3129670,
    "start_time": "2023-08-09T06:32:21.675Z"
   },
   {
    "duration": 3,
    "start_time": "2023-08-09T07:24:31.347Z"
   },
   {
    "duration": 349,
    "start_time": "2023-08-09T07:24:31.351Z"
   },
   {
    "duration": 557,
    "start_time": "2023-08-09T07:25:20.551Z"
   },
   {
    "duration": 19,
    "start_time": "2023-08-09T07:26:18.884Z"
   },
   {
    "duration": 704,
    "start_time": "2023-08-09T07:26:33.297Z"
   }
  ],
  "kernelspec": {
   "display_name": "Python 3 (ipykernel)",
   "language": "python",
   "name": "python3"
  },
  "language_info": {
   "codemirror_mode": {
    "name": "ipython",
    "version": 3
   },
   "file_extension": ".py",
   "mimetype": "text/x-python",
   "name": "python",
   "nbconvert_exporter": "python",
   "pygments_lexer": "ipython3",
   "version": "3.9.5"
  },
  "toc": {
   "base_numbering": 1,
   "nav_menu": {},
   "number_sections": true,
   "sideBar": true,
   "skip_h1_title": true,
   "title_cell": "Содержание",
   "title_sidebar": "Contents",
   "toc_cell": true,
   "toc_position": {
    "height": "calc(100% - 180px)",
    "left": "10px",
    "top": "150px",
    "width": "302.391px"
   },
   "toc_section_display": true,
   "toc_window_display": false
  }
 },
 "nbformat": 4,
 "nbformat_minor": 4
}
