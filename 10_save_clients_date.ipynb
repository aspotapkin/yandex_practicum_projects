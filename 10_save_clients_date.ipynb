{
 "cells": [
  {
   "cell_type": "markdown",
   "metadata": {
    "toc": true
   },
   "source": [
    "<h1>Содержание<span class=\"tocSkip\"></span></h1>\n",
    "<div class=\"toc\"><ul class=\"toc-item\"><li><span><a href=\"#Загрузка-данных\" data-toc-modified-id=\"Загрузка-данных-1\"><span class=\"toc-item-num\">1&nbsp;&nbsp;</span>Загрузка данных</a></span></li><li><span><a href=\"#Умножение-матриц\" data-toc-modified-id=\"Умножение-матриц-2\"><span class=\"toc-item-num\">2&nbsp;&nbsp;</span>Умножение матриц</a></span></li><li><span><a href=\"#Алгоритм-преобразования\" data-toc-modified-id=\"Алгоритм-преобразования-3\"><span class=\"toc-item-num\">3&nbsp;&nbsp;</span>Алгоритм преобразования</a></span></li><li><span><a href=\"#Проверка-алгоритма\" data-toc-modified-id=\"Проверка-алгоритма-4\"><span class=\"toc-item-num\">4&nbsp;&nbsp;</span>Проверка алгоритма</a></span></li><li><span><a href=\"#Чек-лист-проверки\" data-toc-modified-id=\"Чек-лист-проверки-5\"><span class=\"toc-item-num\">5&nbsp;&nbsp;</span>Чек-лист проверки</a></span></li></ul></div>"
   ]
  },
  {
   "cell_type": "markdown",
   "metadata": {},
   "source": [
    "# Защита персональных данных клиентов"
   ]
  },
  {
   "cell_type": "markdown",
   "metadata": {},
   "source": [
    "Вам нужно защитить данные клиентов страховой компании «Хоть потоп». Разработайте такой метод преобразования данных, чтобы по ним было сложно восстановить персональную информацию. Обоснуйте корректность его работы.\n",
    "\n",
    "Нужно защитить данные, чтобы при преобразовании качество моделей машинного обучения не ухудшилось. Подбирать наилучшую модель не требуется.\n",
    "\n",
    "**Инструкция по выполнению проекта**\n",
    "- Загрузите и изучите данные.\n",
    "- Ответьте на вопрос и обоснуйте решение. \n",
    "- Признаки умножают на обратимую матрицу. Изменится ли качество линейной регрессии? (Её можно обучить заново.)\n",
    " - Изменится. Приведите примеры матриц.\n",
    " - Не изменится. Укажите, как связаны параметры линейной регрессии в исходной задаче и в преобразованной.\n",
    "- Предложите алгоритм преобразования данных для решения задачи. Обоснуйте, почему качество линейной регрессии не поменяется.\n",
    "- Запрограммируйте этот алгоритм, применив матричные операции. Проверьте, что качество линейной регрессии из sklearn не отличается до и после преобразования. Примените метрику R2.\n",
    "\n",
    "**Описание данных**\n",
    "\n",
    "Набор данных находится в файле `/datasets/insurance.csv`\n",
    "\n",
    "**Признаки:** пол, возраст и зарплата застрахованного, количество членов его семьи.\n",
    "\n",
    "**Целевой признак:** количество страховых выплат клиенту за последние 5 лет."
   ]
  },
  {
   "cell_type": "markdown",
   "metadata": {},
   "source": [
    "## Загрузка данных"
   ]
  },
  {
   "cell_type": "code",
   "execution_count": 1,
   "metadata": {},
   "outputs": [],
   "source": [
    "import pandas as pd\n",
    "import numpy as np\n",
    "from sklearn.metrics import r2_score\n",
    "from sklearn.linear_model import LinearRegression\n",
    "from sklearn.model_selection import train_test_split"
   ]
  },
  {
   "cell_type": "code",
   "execution_count": 2,
   "metadata": {},
   "outputs": [
    {
     "data": {
      "text/html": [
       "<div>\n",
       "<style scoped>\n",
       "    .dataframe tbody tr th:only-of-type {\n",
       "        vertical-align: middle;\n",
       "    }\n",
       "\n",
       "    .dataframe tbody tr th {\n",
       "        vertical-align: top;\n",
       "    }\n",
       "\n",
       "    .dataframe thead th {\n",
       "        text-align: right;\n",
       "    }\n",
       "</style>\n",
       "<table border=\"1\" class=\"dataframe\">\n",
       "  <thead>\n",
       "    <tr style=\"text-align: right;\">\n",
       "      <th></th>\n",
       "      <th>Пол</th>\n",
       "      <th>Возраст</th>\n",
       "      <th>Зарплата</th>\n",
       "      <th>Члены семьи</th>\n",
       "      <th>Страховые выплаты</th>\n",
       "    </tr>\n",
       "  </thead>\n",
       "  <tbody>\n",
       "    <tr>\n",
       "      <th>0</th>\n",
       "      <td>1</td>\n",
       "      <td>41.0</td>\n",
       "      <td>49600.0</td>\n",
       "      <td>1</td>\n",
       "      <td>0</td>\n",
       "    </tr>\n",
       "    <tr>\n",
       "      <th>1</th>\n",
       "      <td>0</td>\n",
       "      <td>46.0</td>\n",
       "      <td>38000.0</td>\n",
       "      <td>1</td>\n",
       "      <td>1</td>\n",
       "    </tr>\n",
       "    <tr>\n",
       "      <th>2</th>\n",
       "      <td>0</td>\n",
       "      <td>29.0</td>\n",
       "      <td>21000.0</td>\n",
       "      <td>0</td>\n",
       "      <td>0</td>\n",
       "    </tr>\n",
       "    <tr>\n",
       "      <th>3</th>\n",
       "      <td>0</td>\n",
       "      <td>21.0</td>\n",
       "      <td>41700.0</td>\n",
       "      <td>2</td>\n",
       "      <td>0</td>\n",
       "    </tr>\n",
       "    <tr>\n",
       "      <th>4</th>\n",
       "      <td>1</td>\n",
       "      <td>28.0</td>\n",
       "      <td>26100.0</td>\n",
       "      <td>0</td>\n",
       "      <td>0</td>\n",
       "    </tr>\n",
       "  </tbody>\n",
       "</table>\n",
       "</div>"
      ],
      "text/plain": [
       "   Пол  Возраст  Зарплата  Члены семьи  Страховые выплаты\n",
       "0    1     41.0   49600.0            1                  0\n",
       "1    0     46.0   38000.0            1                  1\n",
       "2    0     29.0   21000.0            0                  0\n",
       "3    0     21.0   41700.0            2                  0\n",
       "4    1     28.0   26100.0            0                  0"
      ]
     },
     "execution_count": 2,
     "metadata": {},
     "output_type": "execute_result"
    }
   ],
   "source": [
    "insurance = pd.read_csv('/datasets/insurance.csv')\n",
    "insurance.head()"
   ]
  },
  {
   "cell_type": "code",
   "execution_count": 3,
   "metadata": {},
   "outputs": [
    {
     "name": "stdout",
     "output_type": "stream",
     "text": [
      "<class 'pandas.core.frame.DataFrame'>\n",
      "RangeIndex: 5000 entries, 0 to 4999\n",
      "Data columns (total 5 columns):\n",
      " #   Column             Non-Null Count  Dtype  \n",
      "---  ------             --------------  -----  \n",
      " 0   Пол                5000 non-null   int64  \n",
      " 1   Возраст            5000 non-null   float64\n",
      " 2   Зарплата           5000 non-null   float64\n",
      " 3   Члены семьи        5000 non-null   int64  \n",
      " 4   Страховые выплаты  5000 non-null   int64  \n",
      "dtypes: float64(2), int64(3)\n",
      "memory usage: 195.4 KB\n"
     ]
    }
   ],
   "source": [
    "insurance.info()"
   ]
  },
  {
   "cell_type": "code",
   "execution_count": 4,
   "metadata": {},
   "outputs": [
    {
     "data": {
      "text/html": [
       "<div>\n",
       "<style scoped>\n",
       "    .dataframe tbody tr th:only-of-type {\n",
       "        vertical-align: middle;\n",
       "    }\n",
       "\n",
       "    .dataframe tbody tr th {\n",
       "        vertical-align: top;\n",
       "    }\n",
       "\n",
       "    .dataframe thead th {\n",
       "        text-align: right;\n",
       "    }\n",
       "</style>\n",
       "<table border=\"1\" class=\"dataframe\">\n",
       "  <thead>\n",
       "    <tr style=\"text-align: right;\">\n",
       "      <th></th>\n",
       "      <th>Пол</th>\n",
       "      <th>Возраст</th>\n",
       "      <th>Зарплата</th>\n",
       "      <th>Члены семьи</th>\n",
       "      <th>Страховые выплаты</th>\n",
       "    </tr>\n",
       "  </thead>\n",
       "  <tbody>\n",
       "    <tr>\n",
       "      <th>count</th>\n",
       "      <td>5000.000000</td>\n",
       "      <td>5000.000000</td>\n",
       "      <td>5000.000000</td>\n",
       "      <td>5000.000000</td>\n",
       "      <td>5000.000000</td>\n",
       "    </tr>\n",
       "    <tr>\n",
       "      <th>mean</th>\n",
       "      <td>0.499000</td>\n",
       "      <td>30.952800</td>\n",
       "      <td>39916.360000</td>\n",
       "      <td>1.194200</td>\n",
       "      <td>0.148000</td>\n",
       "    </tr>\n",
       "    <tr>\n",
       "      <th>std</th>\n",
       "      <td>0.500049</td>\n",
       "      <td>8.440807</td>\n",
       "      <td>9900.083569</td>\n",
       "      <td>1.091387</td>\n",
       "      <td>0.463183</td>\n",
       "    </tr>\n",
       "    <tr>\n",
       "      <th>min</th>\n",
       "      <td>0.000000</td>\n",
       "      <td>18.000000</td>\n",
       "      <td>5300.000000</td>\n",
       "      <td>0.000000</td>\n",
       "      <td>0.000000</td>\n",
       "    </tr>\n",
       "    <tr>\n",
       "      <th>25%</th>\n",
       "      <td>0.000000</td>\n",
       "      <td>24.000000</td>\n",
       "      <td>33300.000000</td>\n",
       "      <td>0.000000</td>\n",
       "      <td>0.000000</td>\n",
       "    </tr>\n",
       "    <tr>\n",
       "      <th>50%</th>\n",
       "      <td>0.000000</td>\n",
       "      <td>30.000000</td>\n",
       "      <td>40200.000000</td>\n",
       "      <td>1.000000</td>\n",
       "      <td>0.000000</td>\n",
       "    </tr>\n",
       "    <tr>\n",
       "      <th>75%</th>\n",
       "      <td>1.000000</td>\n",
       "      <td>37.000000</td>\n",
       "      <td>46600.000000</td>\n",
       "      <td>2.000000</td>\n",
       "      <td>0.000000</td>\n",
       "    </tr>\n",
       "    <tr>\n",
       "      <th>max</th>\n",
       "      <td>1.000000</td>\n",
       "      <td>65.000000</td>\n",
       "      <td>79000.000000</td>\n",
       "      <td>6.000000</td>\n",
       "      <td>5.000000</td>\n",
       "    </tr>\n",
       "  </tbody>\n",
       "</table>\n",
       "</div>"
      ],
      "text/plain": [
       "               Пол      Возраст      Зарплата  Члены семьи  Страховые выплаты\n",
       "count  5000.000000  5000.000000   5000.000000  5000.000000        5000.000000\n",
       "mean      0.499000    30.952800  39916.360000     1.194200           0.148000\n",
       "std       0.500049     8.440807   9900.083569     1.091387           0.463183\n",
       "min       0.000000    18.000000   5300.000000     0.000000           0.000000\n",
       "25%       0.000000    24.000000  33300.000000     0.000000           0.000000\n",
       "50%       0.000000    30.000000  40200.000000     1.000000           0.000000\n",
       "75%       1.000000    37.000000  46600.000000     2.000000           0.000000\n",
       "max       1.000000    65.000000  79000.000000     6.000000           5.000000"
      ]
     },
     "execution_count": 4,
     "metadata": {},
     "output_type": "execute_result"
    }
   ],
   "source": [
    "insurance.describe()"
   ]
  },
  {
   "cell_type": "code",
   "execution_count": 27,
   "metadata": {},
   "outputs": [
    {
     "data": {
      "text/plain": [
       "<AxesSubplot:>"
      ]
     },
     "execution_count": 27,
     "metadata": {},
     "output_type": "execute_result"
    },
    {
     "data": {
      "image/png": "[encoded data removed]",
      "text/plain": [
       "<Figure size 432x288 with 1 Axes>"
      ]
     },
     "metadata": {
      "needs_background": "light"
     },
     "output_type": "display_data"
    }
   ],
   "source": [
    "insurance['Возраст'].hist(bins=20)"
   ]
  },
  {
   "cell_type": "code",
   "execution_count": 26,
   "metadata": {},
   "outputs": [
    {
     "data": {
      "text/plain": [
       "<AxesSubplot:>"
      ]
     },
     "execution_count": 26,
     "metadata": {},
     "output_type": "execute_result"
    },
    {
     "data": {
      "image/png": "[encoded data removed]",
      "text/plain": [
       "<Figure size 432x288 with 1 Axes>"
      ]
     },
     "metadata": {
      "needs_background": "light"
     },
     "output_type": "display_data"
    }
   ],
   "source": [
    "insurance['Зарплата'].hist(bins=20)"
   ]
  },
  {
   "cell_type": "code",
   "execution_count": 21,
   "metadata": {},
   "outputs": [
    {
     "data": {
      "text/plain": [
       "<AxesSubplot:>"
      ]
     },
     "execution_count": 21,
     "metadata": {},
     "output_type": "execute_result"
    },
    {
     "data": {
      "image/png": "[encoded data removed]",
      "text/plain": [
       "<Figure size 432x288 with 1 Axes>"
      ]
     },
     "metadata": {
      "needs_background": "light"
     },
     "output_type": "display_data"
    }
   ],
   "source": [
    "insurance['Члены семьи'].value_counts().plot(kind='bar', rot=0)"
   ]
  },
  {
   "cell_type": "code",
   "execution_count": 25,
   "metadata": {},
   "outputs": [
    {
     "data": {
      "text/plain": [
       "0    0.501\n",
       "1    0.499\n",
       "Name: Пол, dtype: float64"
      ]
     },
     "execution_count": 25,
     "metadata": {},
     "output_type": "execute_result"
    }
   ],
   "source": [
    "insurance['Пол'].value_counts(normalize=True)"
   ]
  },
  {
   "cell_type": "code",
   "execution_count": 24,
   "metadata": {},
   "outputs": [
    {
     "data": {
      "text/plain": [
       "0    0.8872\n",
       "1    0.0846\n",
       "2    0.0230\n",
       "3    0.0036\n",
       "4    0.0014\n",
       "5    0.0002\n",
       "Name: Страховые выплаты, dtype: float64"
      ]
     },
     "execution_count": 24,
     "metadata": {},
     "output_type": "execute_result"
    }
   ],
   "source": [
    "insurance['Страховые выплаты'].value_counts(normalize=True)"
   ]
  },
  {
   "cell_type": "markdown",
   "metadata": {},
   "source": [
    "**Выводы по этапу:**\n",
    "- данные загружены\n",
    "- пропусков нет\n",
    "- указанные типы данных позволяют работать с моделями машинного обучения\n",
    "- распределение возраста клиентов скошено вправо: в датасете большое число клиентов моложе 40 лет\n",
    "- распределение дохода клиентов в датасете близко к нормальному\n",
    "- как правило, у клиента или нет членов семьи или 1-2 человека\n",
    "- дисбаланс клиентов по полу в датасете практически отсутствует\n",
    "- около 90% клиентов ни разу не получали страховых выплат, 8,5% получали страховые выплаты единожды, еще 2,3% - дважды"
   ]
  },
  {
   "cell_type": "markdown",
   "metadata": {},
   "source": [
    "## Умножение матриц"
   ]
  },
  {
   "cell_type": "markdown",
   "metadata": {},
   "source": [
    "В этом задании вы можете записывать формулы в *Jupyter Notebook.*\n",
    "\n",
    "Чтобы записать формулу внутри текста, окружите её символами доллара \\\\$; если снаружи —  двойными символами \\\\$\\\\$. Эти формулы записываются на языке вёрстки *LaTeX.* \n",
    "\n",
    "Для примера мы записали формулы линейной регрессии. Можете их скопировать и отредактировать, чтобы решить задачу.\n",
    "\n",
    "Работать в *LaTeX* необязательно."
   ]
  },
  {
   "cell_type": "markdown",
   "metadata": {},
   "source": [
    "Обозначения:\n",
    "\n",
    "- $X$ — матрица признаков (нулевой столбец состоит из единиц)\n",
    "\n",
    "- $y$ — вектор целевого признака\n",
    "\n",
    "- $P$ — матрица, на которую умножаются признаки\n",
    "\n",
    "- $w$ — вектор весов линейной регрессии (нулевой элемент равен сдвигу)"
   ]
  },
  {
   "cell_type": "markdown",
   "metadata": {},
   "source": [
    "Предсказания:\n",
    "\n",
    "$$\n",
    "a = Xw\n",
    "$$\n",
    "\n",
    "Задача обучения:\n",
    "\n",
    "$$\n",
    "w = \\arg\\min_w MSE(Xw, y)\n",
    "$$\n",
    "\n",
    "Формула обучения:\n",
    "\n",
    "$$\n",
    "w = (X^T X)^{-1} X^T y\n",
    "$$"
   ]
  },
  {
   "cell_type": "markdown",
   "metadata": {},
   "source": [
    "**Ответ:** показатель R2-метрики не изменится.\n",
    "\n",
    "**Обоснование:**\n",
    "\n",
    "1. Метрика R2 для незакодированной матрицы признаков X вычисляется следующим образом:\n",
    "\n",
    "$$\n",
    "R2 = 1 - \\frac{\\sum(y-Xw)^{2}}{\\sum(y-\\bar{y})^{2}}\n",
    "$$\n",
    "\n",
    "2. Кодируем матрицу признаков X с помощью обратимой матрицы А, выходит:\n",
    "\n",
    "$$\n",
    "X' = XA\n",
    "$$\n",
    "\n",
    "3. Измененный вектор весов линейной регрессии в таком случае будет равен:\n",
    "\n",
    "$$\n",
    "w' = ((XA)^T(XA))^{-1} (XA)^Ty =\n",
    "A^{-1}((XA)^{T}X)^{-1} (XA)^Ty = \n",
    "A^{-1}((XA)^{T}X)^{-1} A^TX^Ty = \n",
    "A^{-1}(A^TX^TX)^{-1} A^TX^Ty = \n",
    "A^{-1}(X^TX)^{-1}(A^T)^{-1} A^TX^Ty\n",
    "= A^{-1}((X^TX)^{-1}X^Ty) = A^{-1}w\n",
    "$$\n",
    "\n",
    "4. Выходит, что:\n",
    "\n",
    "$$\n",
    "R2' = 1 - \\frac{\\sum(y-X'w')^{2}}{\\sum(y-\\bar{y})^{2}} = 1 - \\frac{\\sum(y-(XA)(A^{-1}w))^{2}}{\\sum(y-\\bar{y})^{2}} = 1 - \\frac{\\sum(y-Xw)^{2}}{\\sum(y-\\bar{y})^{2}} = R2\n",
    "$$"
   ]
  },
  {
   "cell_type": "markdown",
   "metadata": {},
   "source": [
    "**Вывод по этапу:** при умножении матрицы признаков на обратимую матрицу метрика R2 не изменится."
   ]
  },
  {
   "cell_type": "markdown",
   "metadata": {},
   "source": [
    "## Алгоритм преобразования"
   ]
  },
  {
   "cell_type": "markdown",
   "metadata": {},
   "source": [
    "**Алгоритм**\n",
    "\n",
    "1. Отделяем целевой признак и признаки, преобразуем их в матричный вид\n",
    "2. Делим датасет на тренировочную и тестовую выборки \n",
    "3. Создаем матрицу 4x4 и проверяем ее обратимость\n",
    "4. С помощью матрицы кодирования кодируем признаки"
   ]
  },
  {
   "cell_type": "markdown",
   "metadata": {},
   "source": [
    "**Обоснование**\n",
    "\n",
    "Поскольку матрица признаков будет содержать имеет размер 5000х4, то умножать нужно на обратную матрицу 4х4, чтобы сохранилось исходная ширина матрицы. Длина преобразованной матрицы сохранится, если умножать матрицу признаков на обратимую матрицу (не наоборот, иначе умножение будет невозможно). Датасет разделен на тренировочную и тестовую выборки до кодировки: таким образом гарантируется, что значения признаков обычного и закодированного наборов будут идентичны."
   ]
  },
  {
   "cell_type": "code",
   "execution_count": 5,
   "metadata": {},
   "outputs": [],
   "source": [
    "#отделение целевого признака от других признаков\n",
    "features = insurance.drop(columns='Страховые выплаты').values\n",
    "target = insurance['Страховые выплаты'].values"
   ]
  },
  {
   "cell_type": "code",
   "execution_count": 6,
   "metadata": {},
   "outputs": [
    {
     "name": "stdout",
     "output_type": "stream",
     "text": [
      "Размер матрицы признаков тренировочной выборки: (3500, 4)\n",
      "Размер матрицы признаков тестовой выборки: (1500, 4)\n"
     ]
    }
   ],
   "source": [
    "train_features, test_features, train_target, test_target = train_test_split(features, target, test_size=.3)\n",
    "print(f'Размер матрицы признаков тренировочной выборки: {train_features.shape}\\nРазмер матрицы признаков тестовой выборки: {test_features.shape}')"
   ]
  },
  {
   "cell_type": "code",
   "execution_count": 7,
   "metadata": {},
   "outputs": [
    {
     "data": {
      "text/plain": [
       "array([[ 2.87678251,  0.14768629, -2.24879792, -0.06459009],\n",
       "       [-0.58011171,  0.19553257,  3.20632074, -2.91553246],\n",
       "       [-1.12144729,  1.44251433, -0.77907444,  0.2688062 ],\n",
       "       [-1.057827  , -0.88161067,  1.49732637,  1.48418743]])"
      ]
     },
     "execution_count": 7,
     "metadata": {},
     "output_type": "execute_result"
    }
   ],
   "source": [
    "#генерируем обратимую матрицу\n",
    "np.random.seed(123)\n",
    "matrix = np.random.rand(4, 4)\n",
    "inv_matrix = np.linalg.inv(matrix)\n",
    "inv_matrix"
   ]
  },
  {
   "cell_type": "markdown",
   "metadata": {},
   "source": [
    "Код выдал обратную матрицу, значит сгенерированная матрица обратима. Умножим на обратную матрицу признаки и проверим длину преобразованной матрицы признаков."
   ]
  },
  {
   "cell_type": "code",
   "execution_count": 8,
   "metadata": {},
   "outputs": [
    {
     "name": "stdout",
     "output_type": "stream",
     "text": [
      "Размер преобразованной тренировочной выборки: (3500, 4)\n",
      "Размер преобразованной тестовой выборки: (1500, 4)\n"
     ]
    }
   ],
   "source": [
    "enc_train_features = np.dot(train_features, inv_matrix)\n",
    "enc_test_features = np.dot(test_features, inv_matrix)\n",
    "print(f'Размер преобразованной тренировочной выборки: {enc_train_features.shape}\\nРазмер преобразованной тестовой выборки: {enc_test_features.shape}')"
   ]
  },
  {
   "cell_type": "markdown",
   "metadata": {},
   "source": [
    "**Выводы по этапу:**\n",
    "- предложен и обоснован поэтапный алгоритм преобразования данных\n",
    "- был отделен целевой признак от остальных признаков\n",
    "- данные разделены на тренировочную и тестовую выборки в соотношении 70 на 30\n",
    "- признаки тренировочного и тестового наборов умножены на матрицу, обратную сгенерированной"
   ]
  },
  {
   "cell_type": "markdown",
   "metadata": {},
   "source": [
    "## Проверка алгоритма"
   ]
  },
  {
   "cell_type": "code",
   "execution_count": 9,
   "metadata": {},
   "outputs": [
    {
     "data": {
      "text/plain": [
       "0.4221819280444058"
      ]
     },
     "execution_count": 9,
     "metadata": {},
     "output_type": "execute_result"
    }
   ],
   "source": [
    "#обучаем модель, делаем предсказания, проверяем метрику R2 на обычных данных\n",
    "model = LinearRegression()\n",
    "model.fit(train_features, train_target)\n",
    "pred = model.predict(test_features)\n",
    "r2_score(test_target, pred)"
   ]
  },
  {
   "cell_type": "code",
   "execution_count": 10,
   "metadata": {},
   "outputs": [
    {
     "data": {
      "text/plain": [
       "0.4221819280443393"
      ]
     },
     "execution_count": 10,
     "metadata": {},
     "output_type": "execute_result"
    }
   ],
   "source": [
    "#обучаем модель, делаем предсказания, проверяем метрику R2 на обычных данных\n",
    "model_enc = LinearRegression()\n",
    "model_enc.fit(enc_train_features, train_target)\n",
    "pred = model_enc.predict(enc_test_features)\n",
    "r2_score(test_target, pred)"
   ]
  },
  {
   "cell_type": "markdown",
   "metadata": {},
   "source": [
    "**Вывод:** метрика R2 различается в преобразованных данных только после 12 знака после запятой. Различия могут быть связаны с процессами округления показателей, которые заложены \"под капотом\" линейной регрессии в sklearn."
   ]
  }
 ],
 "metadata": {
  "ExecuteTimeLog": [
   {
    "duration": 1136,
    "start_time": "2023-06-10T04:25:30.211Z"
   },
   {
    "duration": 23,
    "start_time": "2023-06-10T04:26:02.867Z"
   },
   {
    "duration": 88,
    "start_time": "2023-06-10T04:27:09.134Z"
   },
   {
    "duration": 12,
    "start_time": "2023-06-10T04:27:36.995Z"
   },
   {
    "duration": 19,
    "start_time": "2023-06-10T04:28:23.111Z"
   },
   {
    "duration": 44,
    "start_time": "2023-06-10T18:42:58.482Z"
   },
   {
    "duration": 1145,
    "start_time": "2023-06-10T18:43:24.400Z"
   },
   {
    "duration": 88,
    "start_time": "2023-06-10T18:43:26.477Z"
   },
   {
    "duration": 25,
    "start_time": "2023-06-10T18:43:27.520Z"
   },
   {
    "duration": 5,
    "start_time": "2023-06-10T18:43:28.626Z"
   },
   {
    "duration": 160,
    "start_time": "2023-06-10T18:44:58.277Z"
   },
   {
    "duration": 3,
    "start_time": "2023-06-10T18:50:08.072Z"
   },
   {
    "duration": 5,
    "start_time": "2023-06-10T18:50:23.317Z"
   },
   {
    "duration": 6,
    "start_time": "2023-06-10T18:51:34.709Z"
   },
   {
    "duration": 5,
    "start_time": "2023-06-10T18:51:48.902Z"
   },
   {
    "duration": 4,
    "start_time": "2023-06-10T18:52:00.687Z"
   },
   {
    "duration": 15,
    "start_time": "2023-06-10T18:57:31.999Z"
   },
   {
    "duration": 10,
    "start_time": "2023-06-10T18:58:25.495Z"
   },
   {
    "duration": 13,
    "start_time": "2023-06-10T18:58:59.312Z"
   },
   {
    "duration": 46,
    "start_time": "2023-06-11T08:25:08.710Z"
   },
   {
    "duration": 1116,
    "start_time": "2023-06-11T08:25:21.985Z"
   },
   {
    "duration": 95,
    "start_time": "2023-06-11T08:25:23.103Z"
   },
   {
    "duration": 26,
    "start_time": "2023-06-11T08:25:23.200Z"
   },
   {
    "duration": 5,
    "start_time": "2023-06-11T08:25:23.228Z"
   },
   {
    "duration": 6,
    "start_time": "2023-06-11T08:25:23.234Z"
   },
   {
    "duration": 7,
    "start_time": "2023-06-11T08:25:23.242Z"
   },
   {
    "duration": 26,
    "start_time": "2023-06-11T08:25:23.251Z"
   },
   {
    "duration": 94,
    "start_time": "2023-06-11T08:25:23.285Z"
   },
   {
    "duration": 4,
    "start_time": "2023-06-11T09:19:43.460Z"
   },
   {
    "duration": 7,
    "start_time": "2023-06-11T11:38:28.286Z"
   },
   {
    "duration": 4,
    "start_time": "2023-06-11T11:38:33.284Z"
   },
   {
    "duration": 4,
    "start_time": "2023-06-11T11:40:35.350Z"
   },
   {
    "duration": 3,
    "start_time": "2023-06-11T11:41:27.557Z"
   },
   {
    "duration": 33,
    "start_time": "2023-06-11T11:41:28.522Z"
   },
   {
    "duration": 21,
    "start_time": "2023-06-11T11:41:29.442Z"
   },
   {
    "duration": 4,
    "start_time": "2023-06-11T11:41:30.092Z"
   },
   {
    "duration": 5,
    "start_time": "2023-06-11T11:42:54.206Z"
   },
   {
    "duration": 211,
    "start_time": "2023-06-11T11:43:34.765Z"
   },
   {
    "duration": 4,
    "start_time": "2023-06-11T11:43:52.997Z"
   },
   {
    "duration": 2,
    "start_time": "2023-06-11T11:46:50.201Z"
   },
   {
    "duration": 4,
    "start_time": "2023-06-11T11:48:10.041Z"
   },
   {
    "duration": 6,
    "start_time": "2023-06-11T11:48:10.856Z"
   },
   {
    "duration": 4,
    "start_time": "2023-06-11T11:48:13.003Z"
   },
   {
    "duration": 5,
    "start_time": "2023-06-11T11:48:30.740Z"
   },
   {
    "duration": 100,
    "start_time": "2023-06-11T11:50:34.085Z"
   },
   {
    "duration": 109,
    "start_time": "2023-06-11T11:50:41.372Z"
   },
   {
    "duration": 5,
    "start_time": "2023-06-11T11:50:50.521Z"
   },
   {
    "duration": 5,
    "start_time": "2023-06-11T11:51:00.826Z"
   },
   {
    "duration": 4,
    "start_time": "2023-06-11T11:51:24.354Z"
   },
   {
    "duration": 6,
    "start_time": "2023-06-11T11:51:26.040Z"
   },
   {
    "duration": 3,
    "start_time": "2023-06-11T11:51:30.163Z"
   },
   {
    "duration": 4,
    "start_time": "2023-06-11T11:52:16.454Z"
   },
   {
    "duration": 5,
    "start_time": "2023-06-11T11:52:18.557Z"
   },
   {
    "duration": 3,
    "start_time": "2023-06-11T11:52:20.300Z"
   },
   {
    "duration": 6,
    "start_time": "2023-06-11T11:53:38.553Z"
   },
   {
    "duration": 6,
    "start_time": "2023-06-11T11:54:07.280Z"
   },
   {
    "duration": 10,
    "start_time": "2023-06-11T12:29:12.288Z"
   },
   {
    "duration": 10,
    "start_time": "2023-06-11T12:29:39.750Z"
   },
   {
    "duration": 7,
    "start_time": "2023-06-11T12:30:03.196Z"
   },
   {
    "duration": 4,
    "start_time": "2023-06-11T12:43:47.561Z"
   },
   {
    "duration": 5,
    "start_time": "2023-06-11T12:43:48.196Z"
   },
   {
    "duration": 6,
    "start_time": "2023-06-11T12:43:48.680Z"
   },
   {
    "duration": 4,
    "start_time": "2023-06-11T12:43:50.022Z"
   },
   {
    "duration": 4,
    "start_time": "2023-06-11T12:43:57.057Z"
   },
   {
    "duration": 6,
    "start_time": "2023-06-11T12:43:59.866Z"
   },
   {
    "duration": 6,
    "start_time": "2023-06-11T12:44:00.453Z"
   },
   {
    "duration": 3028,
    "start_time": "2023-06-11T13:00:36.452Z"
   },
   {
    "duration": 60,
    "start_time": "2023-06-11T13:00:39.482Z"
   },
   {
    "duration": 12,
    "start_time": "2023-06-11T13:01:02.266Z"
   },
   {
    "duration": 4,
    "start_time": "2023-06-11T13:05:05.250Z"
   },
   {
    "duration": 5,
    "start_time": "2023-06-11T13:05:06.000Z"
   },
   {
    "duration": 6,
    "start_time": "2023-06-11T13:05:06.845Z"
   },
   {
    "duration": 7,
    "start_time": "2023-06-11T13:05:32.682Z"
   },
   {
    "duration": 5,
    "start_time": "2023-06-11T13:05:37.462Z"
   },
   {
    "duration": 7,
    "start_time": "2023-06-11T13:05:38.673Z"
   },
   {
    "duration": 54,
    "start_time": "2023-06-11T19:48:18.926Z"
   },
   {
    "duration": 1214,
    "start_time": "2023-06-11T19:48:30.867Z"
   },
   {
    "duration": 95,
    "start_time": "2023-06-11T19:48:32.083Z"
   },
   {
    "duration": 11,
    "start_time": "2023-06-11T19:48:32.180Z"
   },
   {
    "duration": 32,
    "start_time": "2023-06-11T19:48:32.193Z"
   },
   {
    "duration": 5,
    "start_time": "2023-06-11T19:48:32.227Z"
   },
   {
    "duration": 24,
    "start_time": "2023-06-11T19:48:32.233Z"
   },
   {
    "duration": 16,
    "start_time": "2023-06-11T19:48:32.259Z"
   },
   {
    "duration": 11,
    "start_time": "2023-06-11T19:48:32.277Z"
   },
   {
    "duration": 160,
    "start_time": "2023-06-11T19:48:32.290Z"
   },
   {
    "duration": 46,
    "start_time": "2023-06-11T19:48:32.451Z"
   },
   {
    "duration": 616,
    "start_time": "2023-06-11T19:49:25.042Z"
   },
   {
    "duration": 150,
    "start_time": "2023-06-11T19:50:21.883Z"
   },
   {
    "duration": 129,
    "start_time": "2023-06-11T19:51:14.367Z"
   },
   {
    "duration": 11,
    "start_time": "2023-06-11T19:51:23.300Z"
   },
   {
    "duration": 58696,
    "start_time": "2023-06-11T19:51:35.531Z"
   },
   {
    "duration": 161,
    "start_time": "2023-06-11T19:53:36.360Z"
   },
   {
    "duration": 69003,
    "start_time": "2023-06-11T19:55:33.622Z"
   },
   {
    "duration": 64623,
    "start_time": "2023-06-11T19:57:26.554Z"
   },
   {
    "duration": 134,
    "start_time": "2023-06-11T19:59:25.578Z"
   },
   {
    "duration": 136,
    "start_time": "2023-06-11T20:02:33.093Z"
   },
   {
    "duration": 125,
    "start_time": "2023-06-11T20:06:00.820Z"
   },
   {
    "duration": 130,
    "start_time": "2023-06-11T20:06:33.479Z"
   },
   {
    "duration": 7,
    "start_time": "2023-06-11T20:07:58.972Z"
   },
   {
    "duration": 10,
    "start_time": "2023-06-11T20:08:41.426Z"
   },
   {
    "duration": 175,
    "start_time": "2023-06-11T20:11:11.858Z"
   },
   {
    "duration": 153,
    "start_time": "2023-06-11T20:11:20.822Z"
   }
  ],
  "kernelspec": {
   "display_name": "Python 3 (ipykernel)",
   "language": "python",
   "name": "python3"
  },
  "language_info": {
   "codemirror_mode": {
    "name": "ipython",
    "version": 3
   },
   "file_extension": ".py",
   "mimetype": "text/x-python",
   "name": "python",
   "nbconvert_exporter": "python",
   "pygments_lexer": "ipython3",
   "version": "3.9.5"
  },
  "toc": {
   "base_numbering": 1,
   "nav_menu": {},
   "number_sections": true,
   "sideBar": true,
   "skip_h1_title": true,
   "title_cell": "Содержание",
   "title_sidebar": "Contents",
   "toc_cell": true,
   "toc_position": {},
   "toc_section_display": true,
   "toc_window_display": true
  }
 },
 "nbformat": 4,
 "nbformat_minor": 4
}
